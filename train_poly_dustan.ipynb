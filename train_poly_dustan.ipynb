{
 "cells": [
  {
   "cell_type": "code",
   "execution_count": 35,
   "metadata": {},
   "outputs": [],
   "source": [
    "import os\n",
    "import librosa, librosa.display\n",
    "import matplotlib.pyplot as plt\n",
    "from pathlib import Path\n",
    "import tensorflow as tf\n",
    "import IPython.display as ipd\n",
    "import numpy as np\n",
    "import shutil\n",
    "#import ftransc"
   ]
  },
  {
   "cell_type": "code",
   "execution_count": 36,
   "metadata": {},
   "outputs": [
    {
     "name": "stdout",
     "output_type": "stream",
     "text": [
      "Found 109 files belonging to 5 classes.\n",
      "Found 57 files belonging to 5 classes.\n",
      "['burping', 'discomfort', 'hungry', 'poop', 'tired']\n"
     ]
    }
   ],
   "source": [
    "\n",
    "train_directory = './data/poly/mel_spectrogram/train'\n",
    "test_directory = './data/poly/mel_spectrogram/test'\n",
    "#train_directory = './data/poly/mel_spectrogram/train'\n",
    "#test_directory = './data/poly/mel_spectrogram/test'\n",
    "\n",
    "train_ds = tf.keras.preprocessing.image_dataset_from_directory(\n",
    "    train_directory, labels='inferred', label_mode='int', image_size=(256, 256), seed=321,\n",
    "    validation_split=None, subset=None)\n",
    "\n",
    "test_ds = tf.keras.preprocessing.image_dataset_from_directory(\n",
    "    test_directory, labels='inferred', label_mode='int', image_size=(256, 256),\n",
    "    validation_split=None, subset=None)\n",
    "\n",
    "class_names = train_ds.class_names\n",
    "print(class_names)"
   ]
  },
  {
   "cell_type": "code",
   "execution_count": 37,
   "metadata": {},
   "outputs": [],
   "source": [
    "## create model"
   ]
  },
  {
   "cell_type": "code",
   "execution_count": 38,
   "metadata": {},
   "outputs": [],
   "source": [
    "from sklearn.metrics import confusion_matrix, ConfusionMatrixDisplay\n",
    "from keras.callbacks import ModelCheckpoint"
   ]
  },
  {
   "cell_type": "code",
   "execution_count": 39,
   "metadata": {},
   "outputs": [],
   "source": [
    "def dummy(data):\n",
    "    new_data =[]\n",
    "    for i in data:\n",
    "        lab_data =[0,0,0,0,0]\n",
    "        lab_data[i] = 1\n",
    "        new_data.append(lab_data)\n",
    "    return new_data"
   ]
  },
  {
   "cell_type": "code",
   "execution_count": 40,
   "metadata": {},
   "outputs": [],
   "source": [
    "x_train=[]\n",
    "y_train=[]\n",
    "for images, labels in train_ds.unbatch().take(-1):\n",
    "    x_train.append(images.numpy())\n",
    "    y_train.append(labels.numpy())"
   ]
  },
  {
   "cell_type": "code",
   "execution_count": 41,
   "metadata": {},
   "outputs": [],
   "source": [
    "x_test=[]\n",
    "y_test=[]\n",
    "for images, labels in test_ds.unbatch().take(-1):\n",
    "    x_test.append(images.numpy())\n",
    "    y_test.append(labels.numpy())"
   ]
  },
  {
   "cell_type": "code",
   "execution_count": 42,
   "metadata": {},
   "outputs": [],
   "source": [
    "x_train = np.array(x_train)\n",
    "x_test = np.array(x_test)\n",
    "y_train = np.array(y_train)\n",
    "y_test = np.array(y_test)"
   ]
  },
  {
   "cell_type": "code",
   "execution_count": 43,
   "metadata": {},
   "outputs": [],
   "source": [
    "class_count = np.array([np.count_nonzero(y_train ==0),np.count_nonzero(y_train ==1),np.count_nonzero(y_train ==2),np.count_nonzero(y_train ==3),np.count_nonzero(y_train ==4)])"
   ]
  },
  {
   "cell_type": "code",
   "execution_count": 44,
   "metadata": {},
   "outputs": [],
   "source": [
    "y_train = dummy(y_train)\n",
    "y_test = dummy(y_test)"
   ]
  },
  {
   "cell_type": "code",
   "execution_count": 45,
   "metadata": {},
   "outputs": [
    {
     "data": {
      "text/plain": [
       "array([16, 19, 26, 14, 34])"
      ]
     },
     "execution_count": 45,
     "metadata": {},
     "output_type": "execute_result"
    }
   ],
   "source": [
    "class_count"
   ]
  },
  {
   "cell_type": "code",
   "execution_count": 46,
   "metadata": {},
   "outputs": [],
   "source": [
    "y_train = np.array(y_train)\n",
    "y_test = np.array(y_test)"
   ]
  },
  {
   "cell_type": "code",
   "execution_count": 47,
   "metadata": {},
   "outputs": [],
   "source": [
    "img_height = 256\n",
    "img_width = 256"
   ]
  },
  {
   "cell_type": "code",
   "execution_count": 48,
   "metadata": {},
   "outputs": [],
   "source": [
    "num_classes = 5\n",
    "\n",
    "def create_weight(n_sample,n_class,n_class_sample):\n",
    "    weight = n_sample/(n_class*n_class_sample)\n",
    "    return weight "
   ]
  },
  {
   "cell_type": "code",
   "execution_count": 49,
   "metadata": {},
   "outputs": [],
   "source": [
    "class_weights = {0:0, 1:0,2:0,3:0,4:0}\n",
    "\n",
    "for i in range(num_classes):\n",
    "    class_weights[i]=create_weight(109,num_classes,class_count[i])"
   ]
  },
  {
   "cell_type": "code",
   "execution_count": 50,
   "metadata": {},
   "outputs": [
    {
     "data": {
      "text/plain": [
       "{0: 1.3625,\n",
       " 1: 1.1473684210526316,\n",
       " 2: 0.8384615384615385,\n",
       " 3: 1.5571428571428572,\n",
       " 4: 0.6411764705882353}"
      ]
     },
     "execution_count": 50,
     "metadata": {},
     "output_type": "execute_result"
    }
   ],
   "source": [
    "class_weights"
   ]
  },
  {
   "cell_type": "code",
   "execution_count": 51,
   "metadata": {},
   "outputs": [
    {
     "name": "stdout",
     "output_type": "stream",
     "text": [
      "Model: \"model_1\"\n",
      "_________________________________________________________________\n",
      " Layer (type)                Output Shape              Param #   \n",
      "=================================================================\n",
      " input_4 (InputLayer)        [(None, 256, 256, 3)]     0         \n",
      "                                                                 \n",
      " rescaling_1 (Rescaling)     (None, 256, 256, 3)       0         \n",
      "                                                                 \n",
      " tf.cast_1 (TFOpLambda)      (None, 256, 256, 3)       0         \n",
      "                                                                 \n",
      " resnet50v2 (Functional)     (None, 8, 8, 2048)        23564800  \n",
      "                                                                 \n",
      " global_average_pooling2d_1   (None, 2048)             0         \n",
      " (GlobalAveragePooling2D)                                        \n",
      "                                                                 \n",
      " dropout_1 (Dropout)         (None, 2048)              0         \n",
      "                                                                 \n",
      " dense_1 (Dense)             (None, 5)                 10245     \n",
      "                                                                 \n",
      "=================================================================\n",
      "Total params: 23,575,045\n",
      "Trainable params: 10,245\n",
      "Non-trainable params: 23,564,800\n",
      "_________________________________________________________________\n"
     ]
    }
   ],
   "source": [
    "base_model = tf.keras.applications.ResNet50V2(\n",
    "    weights=\"imagenet\",  # Load weights pre-trained on ImageNet.\n",
    "    input_shape=(img_height, img_width, 3),\n",
    "    include_top=False,\n",
    ") \n",
    "\n",
    "# Freeze the base_model\n",
    "base_model.trainable = False\n",
    "\n",
    "# Create new model on top\n",
    "inputs = tf.keras.Input(shape=(img_height, img_width, 3))\n",
    "\n",
    "scale_layer = tf.keras.layers.Rescaling(scale=1./255)\n",
    "x = scale_layer(inputs)\n",
    "\n",
    "x = tf.cast(x,tf.float32)\n",
    "\n",
    "x = base_model(x, training=False)\n",
    "x = tf.keras.layers.GlobalAveragePooling2D()(x)\n",
    "\n",
    "#x = tf.keras.layers.Dense(128, activation='relu')(x)\n",
    "x = tf.keras.layers.Dropout(0.2)(x)  # Regularize with dropout\n",
    "outputs = tf.keras.layers.Dense(5,activation='softmax')(x)\n",
    "model = tf.keras.Model(inputs, outputs)\n",
    "\n",
    "model.summary()"
   ]
  },
  {
   "cell_type": "code",
   "execution_count": 52,
   "metadata": {},
   "outputs": [
    {
     "data": {
      "text/plain": [
       "\" #model = tf.keras.Sequential([\\n            tf.keras.layers.experimental.preprocessing.Rescaling(1./255, input_shape=(img_height, img_width, 3)),\\n            tf.keras.layers.Conv2D(256, 3, padding='same', activation='relu'),\\n            tf.keras.layers.MaxPooling2D((2,2)),\\n            tf.keras.layers.Dropout(0.2),\\n            tf.keras.layers.Conv2D(128, 3, padding='same', activation='relu'),            \\n            tf.keras.layers.MaxPooling2D((2,2)),\\n            tf.keras.layers.Dropout(0.2),\\n            tf.keras.layers.Conv2D(16, 3, padding='same', activation='relu'),\\n            tf.keras.layers.MaxPooling2D((2,2)),\\n            tf.keras.layers.Flatten(),\\n            tf.keras.layers.Dense(64, activation='relu'),\\n            tf.keras.layers.Dense(1, activation='sigmoid')\\n        ])\\nmodel.summary() \""
      ]
     },
     "execution_count": 52,
     "metadata": {},
     "output_type": "execute_result"
    }
   ],
   "source": [
    "''' #model = tf.keras.Sequential([\n",
    "            tf.keras.layers.experimental.preprocessing.Rescaling(1./255, input_shape=(img_height, img_width, 3)),\n",
    "            tf.keras.layers.Conv2D(256, 3, padding='same', activation='relu'),\n",
    "            tf.keras.layers.MaxPooling2D((2,2)),\n",
    "            tf.keras.layers.Dropout(0.2),\n",
    "            tf.keras.layers.Conv2D(128, 3, padding='same', activation='relu'),            \n",
    "            tf.keras.layers.MaxPooling2D((2,2)),\n",
    "            tf.keras.layers.Dropout(0.2),\n",
    "            tf.keras.layers.Conv2D(16, 3, padding='same', activation='relu'),\n",
    "            tf.keras.layers.MaxPooling2D((2,2)),\n",
    "            tf.keras.layers.Flatten(),\n",
    "            tf.keras.layers.Dense(64, activation='relu'),\n",
    "            tf.keras.layers.Dense(1, activation='sigmoid')\n",
    "        ])\n",
    "model.summary() '''"
   ]
  },
  {
   "cell_type": "code",
   "execution_count": 53,
   "metadata": {},
   "outputs": [],
   "source": [
    "#resnet \n",
    "#inception v3"
   ]
  },
  {
   "cell_type": "code",
   "execution_count": 54,
   "metadata": {},
   "outputs": [],
   "source": [
    "\n",
    "loss_fn = tf.keras.losses.CategoricalCrossentropy(from_logits=True)\n",
    "optimizer = tf.keras.optimizers.Adam()# modify weight in Adam\n",
    "metrics = ['accuracy']\n",
    "model.compile (optimizer = optimizer,loss =  loss_fn,metrics = metrics)"
   ]
  },
  {
   "cell_type": "code",
   "execution_count": 55,
   "metadata": {},
   "outputs": [],
   "source": [
    "callback = tf.keras.callbacks.EarlyStopping(monitor='val_loss', patience=5)"
   ]
  },
  {
   "cell_type": "code",
   "execution_count": 56,
   "metadata": {},
   "outputs": [
    {
     "name": "stdout",
     "output_type": "stream",
     "text": [
      "Epoch 1/100\n"
     ]
    },
    {
     "name": "stderr",
     "output_type": "stream",
     "text": [
      "c:\\Users\\acer\\anaconda3\\lib\\site-packages\\tensorflow\\python\\util\\dispatch.py:1082: UserWarning: \"`categorical_crossentropy` received `from_logits=True`, but the `output` argument was produced by a sigmoid or softmax activation and thus does not represent logits. Was this intended?\"\n",
      "  return dispatch_target(*args, **kwargs)\n"
     ]
    },
    {
     "name": "stdout",
     "output_type": "stream",
     "text": [
      "3/3 [==============================] - 9s 3s/step - loss: 2.0155 - accuracy: 0.1842 - val_loss: 1.5301 - val_accuracy: 0.1818\n",
      "Epoch 2/100\n",
      "3/3 [==============================] - 5s 2s/step - loss: 1.6907 - accuracy: 0.2368 - val_loss: 1.4783 - val_accuracy: 0.3030\n",
      "Epoch 3/100\n",
      "3/3 [==============================] - 5s 2s/step - loss: 1.4965 - accuracy: 0.3158 - val_loss: 1.3558 - val_accuracy: 0.4848\n",
      "Epoch 4/100\n",
      "3/3 [==============================] - 5s 2s/step - loss: 1.3440 - accuracy: 0.4342 - val_loss: 1.1705 - val_accuracy: 0.6970\n",
      "Epoch 5/100\n",
      "3/3 [==============================] - 5s 2s/step - loss: 1.1123 - accuracy: 0.6053 - val_loss: 1.0170 - val_accuracy: 0.7273\n",
      "Epoch 6/100\n",
      "3/3 [==============================] - 5s 2s/step - loss: 1.0788 - accuracy: 0.6053 - val_loss: 0.9055 - val_accuracy: 0.7576\n",
      "Epoch 7/100\n",
      "3/3 [==============================] - 5s 2s/step - loss: 0.9402 - accuracy: 0.7237 - val_loss: 0.8383 - val_accuracy: 0.8485\n",
      "Epoch 8/100\n",
      "3/3 [==============================] - 5s 2s/step - loss: 0.7336 - accuracy: 0.8421 - val_loss: 0.7807 - val_accuracy: 0.8485\n",
      "Epoch 9/100\n",
      "3/3 [==============================] - 4s 2s/step - loss: 0.7073 - accuracy: 0.8026 - val_loss: 0.7244 - val_accuracy: 0.8485\n",
      "Epoch 10/100\n",
      "3/3 [==============================] - 4s 2s/step - loss: 0.6340 - accuracy: 0.8289 - val_loss: 0.6775 - val_accuracy: 0.8788\n",
      "Epoch 11/100\n",
      "3/3 [==============================] - 5s 2s/step - loss: 0.4973 - accuracy: 0.9211 - val_loss: 0.6520 - val_accuracy: 0.8788\n",
      "Epoch 12/100\n",
      "3/3 [==============================] - 5s 2s/step - loss: 0.5277 - accuracy: 0.8947 - val_loss: 0.6275 - val_accuracy: 0.8788\n",
      "Epoch 13/100\n",
      "3/3 [==============================] - 5s 2s/step - loss: 0.4650 - accuracy: 0.8947 - val_loss: 0.5951 - val_accuracy: 0.8788\n",
      "Epoch 14/100\n",
      "3/3 [==============================] - 5s 2s/step - loss: 0.4221 - accuracy: 0.9211 - val_loss: 0.5626 - val_accuracy: 0.8788\n",
      "Epoch 15/100\n",
      "3/3 [==============================] - 5s 2s/step - loss: 0.3756 - accuracy: 0.9605 - val_loss: 0.5298 - val_accuracy: 0.8788\n",
      "Epoch 16/100\n",
      "3/3 [==============================] - 5s 2s/step - loss: 0.3345 - accuracy: 0.9342 - val_loss: 0.5049 - val_accuracy: 0.8788\n",
      "Epoch 17/100\n",
      "3/3 [==============================] - 5s 2s/step - loss: 0.3334 - accuracy: 0.9605 - val_loss: 0.4827 - val_accuracy: 0.8788\n",
      "Epoch 18/100\n",
      "3/3 [==============================] - 5s 2s/step - loss: 0.3230 - accuracy: 0.9342 - val_loss: 0.4649 - val_accuracy: 0.8788\n",
      "Epoch 19/100\n",
      "3/3 [==============================] - 6s 2s/step - loss: 0.2847 - accuracy: 0.9868 - val_loss: 0.4485 - val_accuracy: 0.8788\n",
      "Epoch 20/100\n",
      "3/3 [==============================] - 5s 2s/step - loss: 0.2600 - accuracy: 0.9605 - val_loss: 0.4378 - val_accuracy: 0.9091\n",
      "Epoch 21/100\n",
      "3/3 [==============================] - 5s 2s/step - loss: 0.2322 - accuracy: 0.9737 - val_loss: 0.4269 - val_accuracy: 0.9091\n",
      "Epoch 22/100\n",
      "3/3 [==============================] - 5s 2s/step - loss: 0.2447 - accuracy: 0.9868 - val_loss: 0.4175 - val_accuracy: 0.9091\n",
      "Epoch 23/100\n",
      "3/3 [==============================] - 5s 2s/step - loss: 0.2352 - accuracy: 0.9737 - val_loss: 0.4097 - val_accuracy: 0.8788\n",
      "Epoch 24/100\n",
      "3/3 [==============================] - 5s 2s/step - loss: 0.2242 - accuracy: 0.9868 - val_loss: 0.4030 - val_accuracy: 0.8788\n",
      "Epoch 25/100\n",
      "3/3 [==============================] - 5s 2s/step - loss: 0.2016 - accuracy: 1.0000 - val_loss: 0.3940 - val_accuracy: 0.8788\n",
      "Epoch 26/100\n",
      "3/3 [==============================] - 6s 2s/step - loss: 0.1844 - accuracy: 0.9868 - val_loss: 0.3823 - val_accuracy: 0.8788\n",
      "Epoch 27/100\n",
      "3/3 [==============================] - 5s 2s/step - loss: 0.1902 - accuracy: 0.9868 - val_loss: 0.3734 - val_accuracy: 0.8788\n",
      "Epoch 28/100\n",
      "3/3 [==============================] - 7s 2s/step - loss: 0.1971 - accuracy: 0.9737 - val_loss: 0.3652 - val_accuracy: 0.8788\n",
      "Epoch 29/100\n",
      "3/3 [==============================] - 6s 2s/step - loss: 0.1663 - accuracy: 1.0000 - val_loss: 0.3585 - val_accuracy: 0.8788\n",
      "Epoch 30/100\n",
      "3/3 [==============================] - 5s 2s/step - loss: 0.1568 - accuracy: 1.0000 - val_loss: 0.3538 - val_accuracy: 0.8788\n",
      "Epoch 31/100\n",
      "3/3 [==============================] - 5s 2s/step - loss: 0.1430 - accuracy: 1.0000 - val_loss: 0.3492 - val_accuracy: 0.8788\n",
      "Epoch 32/100\n",
      "3/3 [==============================] - 5s 2s/step - loss: 0.1427 - accuracy: 1.0000 - val_loss: 0.3444 - val_accuracy: 0.8788\n",
      "Epoch 33/100\n",
      "3/3 [==============================] - 6s 2s/step - loss: 0.1234 - accuracy: 1.0000 - val_loss: 0.3395 - val_accuracy: 0.8788\n",
      "Epoch 34/100\n",
      "3/3 [==============================] - 6s 2s/step - loss: 0.1302 - accuracy: 1.0000 - val_loss: 0.3335 - val_accuracy: 0.8788\n",
      "Epoch 35/100\n",
      "3/3 [==============================] - 6s 2s/step - loss: 0.1319 - accuracy: 1.0000 - val_loss: 0.3277 - val_accuracy: 0.8788\n",
      "Epoch 36/100\n",
      "3/3 [==============================] - 6s 2s/step - loss: 0.1102 - accuracy: 1.0000 - val_loss: 0.3213 - val_accuracy: 0.8788\n",
      "Epoch 37/100\n",
      "3/3 [==============================] - 6s 2s/step - loss: 0.1100 - accuracy: 1.0000 - val_loss: 0.3150 - val_accuracy: 0.8788\n",
      "Epoch 38/100\n",
      "3/3 [==============================] - 5s 2s/step - loss: 0.1119 - accuracy: 1.0000 - val_loss: 0.3105 - val_accuracy: 0.8788\n",
      "Epoch 39/100\n",
      "3/3 [==============================] - 6s 2s/step - loss: 0.0943 - accuracy: 1.0000 - val_loss: 0.3068 - val_accuracy: 0.8788\n",
      "Epoch 40/100\n",
      "3/3 [==============================] - 5s 2s/step - loss: 0.0948 - accuracy: 1.0000 - val_loss: 0.3038 - val_accuracy: 0.8788\n",
      "Epoch 41/100\n",
      "3/3 [==============================] - 5s 2s/step - loss: 0.0953 - accuracy: 1.0000 - val_loss: 0.3009 - val_accuracy: 0.8788\n",
      "Epoch 42/100\n",
      "3/3 [==============================] - 5s 2s/step - loss: 0.0931 - accuracy: 1.0000 - val_loss: 0.2993 - val_accuracy: 0.8788\n",
      "Epoch 43/100\n",
      "3/3 [==============================] - 5s 2s/step - loss: 0.0939 - accuracy: 1.0000 - val_loss: 0.2986 - val_accuracy: 0.8788\n",
      "Epoch 44/100\n",
      "3/3 [==============================] - 5s 2s/step - loss: 0.0910 - accuracy: 1.0000 - val_loss: 0.2961 - val_accuracy: 0.8788\n",
      "Epoch 45/100\n",
      "3/3 [==============================] - 6s 2s/step - loss: 0.0908 - accuracy: 1.0000 - val_loss: 0.2933 - val_accuracy: 0.8788\n",
      "Epoch 46/100\n",
      "3/3 [==============================] - 5s 2s/step - loss: 0.0855 - accuracy: 1.0000 - val_loss: 0.2907 - val_accuracy: 0.8788\n",
      "Epoch 47/100\n",
      "3/3 [==============================] - 5s 2s/step - loss: 0.0830 - accuracy: 1.0000 - val_loss: 0.2875 - val_accuracy: 0.8788\n",
      "Epoch 48/100\n",
      "3/3 [==============================] - 5s 2s/step - loss: 0.0736 - accuracy: 1.0000 - val_loss: 0.2857 - val_accuracy: 0.8788\n",
      "Epoch 49/100\n",
      "3/3 [==============================] - 6s 2s/step - loss: 0.0711 - accuracy: 1.0000 - val_loss: 0.2846 - val_accuracy: 0.8788\n",
      "Epoch 50/100\n",
      "3/3 [==============================] - 6s 2s/step - loss: 0.0809 - accuracy: 1.0000 - val_loss: 0.2817 - val_accuracy: 0.8788\n",
      "Epoch 51/100\n",
      "3/3 [==============================] - 6s 2s/step - loss: 0.0694 - accuracy: 1.0000 - val_loss: 0.2783 - val_accuracy: 0.8788\n",
      "Epoch 52/100\n",
      "3/3 [==============================] - 6s 2s/step - loss: 0.0663 - accuracy: 1.0000 - val_loss: 0.2755 - val_accuracy: 0.8788\n",
      "Epoch 53/100\n",
      "3/3 [==============================] - 6s 2s/step - loss: 0.0746 - accuracy: 1.0000 - val_loss: 0.2735 - val_accuracy: 0.8788\n",
      "Epoch 54/100\n",
      "3/3 [==============================] - 6s 2s/step - loss: 0.0812 - accuracy: 1.0000 - val_loss: 0.2714 - val_accuracy: 0.8788\n",
      "Epoch 55/100\n",
      "3/3 [==============================] - 6s 2s/step - loss: 0.0731 - accuracy: 1.0000 - val_loss: 0.2689 - val_accuracy: 0.8788\n",
      "Epoch 56/100\n",
      "3/3 [==============================] - 6s 2s/step - loss: 0.0689 - accuracy: 1.0000 - val_loss: 0.2671 - val_accuracy: 0.8788\n",
      "Epoch 57/100\n",
      "3/3 [==============================] - 6s 2s/step - loss: 0.0575 - accuracy: 1.0000 - val_loss: 0.2658 - val_accuracy: 0.8788\n",
      "Epoch 58/100\n",
      "3/3 [==============================] - 6s 2s/step - loss: 0.0649 - accuracy: 1.0000 - val_loss: 0.2644 - val_accuracy: 0.8788\n",
      "Epoch 59/100\n",
      "3/3 [==============================] - 6s 2s/step - loss: 0.0586 - accuracy: 1.0000 - val_loss: 0.2623 - val_accuracy: 0.8788\n",
      "Epoch 60/100\n",
      "3/3 [==============================] - 6s 2s/step - loss: 0.0692 - accuracy: 1.0000 - val_loss: 0.2614 - val_accuracy: 0.8788\n",
      "Epoch 61/100\n",
      "3/3 [==============================] - 6s 2s/step - loss: 0.0537 - accuracy: 1.0000 - val_loss: 0.2603 - val_accuracy: 0.9091\n",
      "Epoch 62/100\n",
      "3/3 [==============================] - 6s 2s/step - loss: 0.0469 - accuracy: 1.0000 - val_loss: 0.2591 - val_accuracy: 0.9091\n",
      "Epoch 63/100\n",
      "3/3 [==============================] - 6s 2s/step - loss: 0.0625 - accuracy: 1.0000 - val_loss: 0.2574 - val_accuracy: 0.9091\n",
      "Epoch 64/100\n",
      "3/3 [==============================] - 6s 2s/step - loss: 0.0677 - accuracy: 1.0000 - val_loss: 0.2557 - val_accuracy: 0.9091\n",
      "Epoch 65/100\n",
      "3/3 [==============================] - 6s 2s/step - loss: 0.0545 - accuracy: 1.0000 - val_loss: 0.2541 - val_accuracy: 0.9091\n",
      "Epoch 66/100\n",
      "3/3 [==============================] - 6s 2s/step - loss: 0.0472 - accuracy: 1.0000 - val_loss: 0.2520 - val_accuracy: 0.9091\n",
      "Epoch 67/100\n",
      "3/3 [==============================] - 6s 2s/step - loss: 0.0444 - accuracy: 1.0000 - val_loss: 0.2495 - val_accuracy: 0.9091\n",
      "Epoch 68/100\n",
      "3/3 [==============================] - 6s 2s/step - loss: 0.0387 - accuracy: 1.0000 - val_loss: 0.2485 - val_accuracy: 0.8788\n",
      "Epoch 69/100\n",
      "3/3 [==============================] - 6s 2s/step - loss: 0.0497 - accuracy: 1.0000 - val_loss: 0.2473 - val_accuracy: 0.8788\n",
      "Epoch 70/100\n",
      "3/3 [==============================] - 6s 2s/step - loss: 0.0418 - accuracy: 1.0000 - val_loss: 0.2459 - val_accuracy: 0.8788\n",
      "Epoch 71/100\n",
      "3/3 [==============================] - 6s 2s/step - loss: 0.0454 - accuracy: 1.0000 - val_loss: 0.2452 - val_accuracy: 0.8788\n",
      "Epoch 72/100\n",
      "3/3 [==============================] - 6s 2s/step - loss: 0.0430 - accuracy: 1.0000 - val_loss: 0.2452 - val_accuracy: 0.8788\n",
      "Epoch 73/100\n",
      "3/3 [==============================] - 6s 2s/step - loss: 0.0474 - accuracy: 1.0000 - val_loss: 0.2462 - val_accuracy: 0.8788\n",
      "Epoch 74/100\n",
      "3/3 [==============================] - 6s 2s/step - loss: 0.0425 - accuracy: 1.0000 - val_loss: 0.2458 - val_accuracy: 0.8788\n",
      "Epoch 75/100\n",
      "3/3 [==============================] - 6s 2s/step - loss: 0.0406 - accuracy: 1.0000 - val_loss: 0.2450 - val_accuracy: 0.8788\n",
      "Epoch 76/100\n",
      "3/3 [==============================] - 6s 2s/step - loss: 0.0405 - accuracy: 1.0000 - val_loss: 0.2441 - val_accuracy: 0.8788\n",
      "Epoch 77/100\n",
      "3/3 [==============================] - 6s 2s/step - loss: 0.0394 - accuracy: 1.0000 - val_loss: 0.2441 - val_accuracy: 0.8788\n",
      "Epoch 78/100\n",
      "3/3 [==============================] - 6s 2s/step - loss: 0.0441 - accuracy: 1.0000 - val_loss: 0.2436 - val_accuracy: 0.8788\n",
      "Epoch 79/100\n",
      "3/3 [==============================] - 6s 2s/step - loss: 0.0419 - accuracy: 1.0000 - val_loss: 0.2436 - val_accuracy: 0.8788\n",
      "Epoch 80/100\n",
      "3/3 [==============================] - 6s 2s/step - loss: 0.0326 - accuracy: 1.0000 - val_loss: 0.2446 - val_accuracy: 0.8788\n",
      "Epoch 81/100\n",
      "3/3 [==============================] - 6s 2s/step - loss: 0.0427 - accuracy: 1.0000 - val_loss: 0.2442 - val_accuracy: 0.8788\n",
      "Epoch 82/100\n",
      "3/3 [==============================] - 6s 2s/step - loss: 0.0416 - accuracy: 1.0000 - val_loss: 0.2428 - val_accuracy: 0.8788\n",
      "Epoch 83/100\n",
      "3/3 [==============================] - 6s 2s/step - loss: 0.0328 - accuracy: 1.0000 - val_loss: 0.2408 - val_accuracy: 0.8788\n",
      "Epoch 84/100\n",
      "3/3 [==============================] - 6s 2s/step - loss: 0.0314 - accuracy: 1.0000 - val_loss: 0.2378 - val_accuracy: 0.8788\n",
      "Epoch 85/100\n",
      "3/3 [==============================] - 6s 2s/step - loss: 0.0310 - accuracy: 1.0000 - val_loss: 0.2345 - val_accuracy: 0.8788\n",
      "Epoch 86/100\n",
      "3/3 [==============================] - 6s 2s/step - loss: 0.0365 - accuracy: 1.0000 - val_loss: 0.2324 - val_accuracy: 0.8788\n",
      "Epoch 87/100\n",
      "3/3 [==============================] - 6s 2s/step - loss: 0.0378 - accuracy: 1.0000 - val_loss: 0.2315 - val_accuracy: 0.8788\n",
      "Epoch 88/100\n",
      "3/3 [==============================] - 6s 2s/step - loss: 0.0352 - accuracy: 1.0000 - val_loss: 0.2311 - val_accuracy: 0.8788\n",
      "Epoch 89/100\n",
      "3/3 [==============================] - 6s 2s/step - loss: 0.0340 - accuracy: 1.0000 - val_loss: 0.2308 - val_accuracy: 0.8788\n",
      "Epoch 90/100\n",
      "3/3 [==============================] - 6s 2s/step - loss: 0.0297 - accuracy: 1.0000 - val_loss: 0.2306 - val_accuracy: 0.8788\n",
      "Epoch 91/100\n",
      "3/3 [==============================] - 6s 2s/step - loss: 0.0361 - accuracy: 1.0000 - val_loss: 0.2309 - val_accuracy: 0.8788\n",
      "Epoch 92/100\n",
      "3/3 [==============================] - 6s 2s/step - loss: 0.0361 - accuracy: 1.0000 - val_loss: 0.2318 - val_accuracy: 0.8788\n",
      "Epoch 93/100\n",
      "3/3 [==============================] - 6s 2s/step - loss: 0.0321 - accuracy: 1.0000 - val_loss: 0.2320 - val_accuracy: 0.8788\n",
      "Epoch 94/100\n",
      "3/3 [==============================] - 6s 2s/step - loss: 0.0322 - accuracy: 1.0000 - val_loss: 0.2323 - val_accuracy: 0.8788\n",
      "Epoch 95/100\n",
      "3/3 [==============================] - 6s 2s/step - loss: 0.0305 - accuracy: 1.0000 - val_loss: 0.2334 - val_accuracy: 0.8788\n"
     ]
    }
   ],
   "source": [
    "# Set the epocks\n",
    "# ทำ stop + validation\n",
    "epochs = 100\n",
    "history = model.fit(x_train, y_train, epochs=epochs,validation_split=0.3,callbacks=callback,class_weight = class_weights)\n",
    "\n",
    "#history = model.fit(x_train, y_train, epochs=epochs,validation_split=0.3)"
   ]
  },
  {
   "cell_type": "code",
   "execution_count": 57,
   "metadata": {},
   "outputs": [
    {
     "data": {
      "image/png": "[encoded data removed]",
      "text/plain": [
       "<Figure size 432x288 with 1 Axes>"
      ]
     },
     "metadata": {
      "needs_background": "light"
     },
     "output_type": "display_data"
    }
   ],
   "source": [
    "plt.plot(history.history['loss'],label = 'loss')\n",
    "plt.plot(history.history['val_loss'],label = 'val_loss')\n",
    "plt.legend()\n",
    "plt.show()"
   ]
  },
  {
   "cell_type": "code",
   "execution_count": 58,
   "metadata": {},
   "outputs": [
    {
     "name": "stdout",
     "output_type": "stream",
     "text": [
      "Model: \"model_1\"\n",
      "_________________________________________________________________\n",
      " Layer (type)                Output Shape              Param #   \n",
      "=================================================================\n",
      " input_4 (InputLayer)        [(None, 256, 256, 3)]     0         \n",
      "                                                                 \n",
      " rescaling_1 (Rescaling)     (None, 256, 256, 3)       0         \n",
      "                                                                 \n",
      " tf.cast_1 (TFOpLambda)      (None, 256, 256, 3)       0         \n",
      "                                                                 \n",
      " resnet50v2 (Functional)     (None, 8, 8, 2048)        23564800  \n",
      "                                                                 \n",
      " global_average_pooling2d_1   (None, 2048)             0         \n",
      " (GlobalAveragePooling2D)                                        \n",
      "                                                                 \n",
      " dropout_1 (Dropout)         (None, 2048)              0         \n",
      "                                                                 \n",
      " dense_1 (Dense)             (None, 5)                 10245     \n",
      "                                                                 \n",
      "=================================================================\n",
      "Total params: 23,575,045\n",
      "Trainable params: 23,529,605\n",
      "Non-trainable params: 45,440\n",
      "_________________________________________________________________\n",
      "Epoch 1/50\n"
     ]
    },
    {
     "name": "stderr",
     "output_type": "stream",
     "text": [
      "c:\\Users\\acer\\anaconda3\\lib\\site-packages\\tensorflow\\python\\util\\dispatch.py:1082: UserWarning: \"`categorical_crossentropy` received `from_logits=True`, but the `output` argument was produced by a sigmoid or softmax activation and thus does not represent logits. Was this intended?\"\n",
      "  return dispatch_target(*args, **kwargs)\n"
     ]
    },
    {
     "name": "stdout",
     "output_type": "stream",
     "text": [
      "3/3 [==============================] - 26s 7s/step - loss: 0.0304 - binary_accuracy: 1.0000 - val_loss: 0.1649 - val_binary_accuracy: 0.9758\n",
      "Epoch 2/50\n",
      "3/3 [==============================] - 22s 7s/step - loss: 0.0082 - binary_accuracy: 1.0000 - val_loss: 0.2098 - val_binary_accuracy: 0.9818\n",
      "Epoch 3/50\n",
      "3/3 [==============================] - 22s 7s/step - loss: 0.0028 - binary_accuracy: 1.0000 - val_loss: 0.1741 - val_binary_accuracy: 0.9636\n",
      "Epoch 4/50\n",
      "3/3 [==============================] - 22s 7s/step - loss: 9.9929e-04 - binary_accuracy: 1.0000 - val_loss: 0.1453 - val_binary_accuracy: 0.9636\n",
      "Epoch 5/50\n",
      "3/3 [==============================] - 22s 7s/step - loss: 4.7742e-04 - binary_accuracy: 1.0000 - val_loss: 0.1284 - val_binary_accuracy: 0.9758\n",
      "Epoch 6/50\n",
      "3/3 [==============================] - 23s 7s/step - loss: 7.4820e-04 - binary_accuracy: 1.0000 - val_loss: 0.1054 - val_binary_accuracy: 0.9758\n",
      "Epoch 7/50\n",
      "3/3 [==============================] - 22s 7s/step - loss: 3.6482e-04 - binary_accuracy: 1.0000 - val_loss: 0.0797 - val_binary_accuracy: 0.9758\n",
      "Epoch 8/50\n",
      "3/3 [==============================] - 22s 7s/step - loss: 1.8573e-04 - binary_accuracy: 1.0000 - val_loss: 0.0578 - val_binary_accuracy: 0.9879\n",
      "Epoch 9/50\n",
      "3/3 [==============================] - 22s 7s/step - loss: 9.3207e-05 - binary_accuracy: 1.0000 - val_loss: 0.0437 - val_binary_accuracy: 0.9879\n",
      "Epoch 10/50\n",
      "3/3 [==============================] - 22s 7s/step - loss: 1.0543e-04 - binary_accuracy: 1.0000 - val_loss: 0.0341 - val_binary_accuracy: 1.0000\n",
      "Epoch 11/50\n",
      "3/3 [==============================] - 22s 7s/step - loss: 7.2493e-05 - binary_accuracy: 1.0000 - val_loss: 0.0287 - val_binary_accuracy: 1.0000\n",
      "Epoch 12/50\n",
      "3/3 [==============================] - 22s 7s/step - loss: 2.3227e-05 - binary_accuracy: 1.0000 - val_loss: 0.0255 - val_binary_accuracy: 1.0000\n",
      "Epoch 13/50\n",
      "3/3 [==============================] - 22s 7s/step - loss: 2.1024e-05 - binary_accuracy: 1.0000 - val_loss: 0.0237 - val_binary_accuracy: 1.0000\n",
      "Epoch 14/50\n",
      "3/3 [==============================] - 22s 7s/step - loss: 2.6723e-05 - binary_accuracy: 1.0000 - val_loss: 0.0226 - val_binary_accuracy: 1.0000\n",
      "Epoch 15/50\n",
      "3/3 [==============================] - 22s 7s/step - loss: 1.7666e-05 - binary_accuracy: 1.0000 - val_loss: 0.0219 - val_binary_accuracy: 1.0000\n",
      "Epoch 16/50\n",
      "3/3 [==============================] - 22s 7s/step - loss: 1.1654e-05 - binary_accuracy: 1.0000 - val_loss: 0.0216 - val_binary_accuracy: 1.0000\n",
      "Epoch 17/50\n",
      "3/3 [==============================] - 22s 7s/step - loss: 1.1566e-05 - binary_accuracy: 1.0000 - val_loss: 0.0214 - val_binary_accuracy: 1.0000\n",
      "Epoch 18/50\n",
      "3/3 [==============================] - 22s 7s/step - loss: 2.1489e-05 - binary_accuracy: 1.0000 - val_loss: 0.0215 - val_binary_accuracy: 1.0000\n",
      "Epoch 19/50\n",
      "3/3 [==============================] - 22s 7s/step - loss: 1.8241e-05 - binary_accuracy: 1.0000 - val_loss: 0.0217 - val_binary_accuracy: 1.0000\n",
      "Epoch 20/50\n",
      "3/3 [==============================] - 22s 7s/step - loss: 1.7538e-05 - binary_accuracy: 1.0000 - val_loss: 0.0219 - val_binary_accuracy: 1.0000\n",
      "Epoch 21/50\n",
      "3/3 [==============================] - 22s 7s/step - loss: 1.9816e-04 - binary_accuracy: 1.0000 - val_loss: 0.0203 - val_binary_accuracy: 1.0000\n",
      "Epoch 22/50\n",
      "3/3 [==============================] - 22s 7s/step - loss: 1.6292e-05 - binary_accuracy: 1.0000 - val_loss: 0.0194 - val_binary_accuracy: 1.0000\n",
      "Epoch 23/50\n",
      "3/3 [==============================] - 22s 7s/step - loss: 8.9669e-06 - binary_accuracy: 1.0000 - val_loss: 0.0189 - val_binary_accuracy: 1.0000\n",
      "Epoch 24/50\n",
      "3/3 [==============================] - 22s 7s/step - loss: 1.8118e-05 - binary_accuracy: 1.0000 - val_loss: 0.0187 - val_binary_accuracy: 1.0000\n",
      "Epoch 25/50\n",
      "3/3 [==============================] - 22s 7s/step - loss: 7.9665e-06 - binary_accuracy: 1.0000 - val_loss: 0.0185 - val_binary_accuracy: 1.0000\n",
      "Epoch 26/50\n",
      "3/3 [==============================] - 22s 7s/step - loss: 7.7868e-06 - binary_accuracy: 1.0000 - val_loss: 0.0184 - val_binary_accuracy: 1.0000\n",
      "Epoch 27/50\n",
      "3/3 [==============================] - 22s 7s/step - loss: 1.0089e-05 - binary_accuracy: 1.0000 - val_loss: 0.0184 - val_binary_accuracy: 1.0000\n",
      "Epoch 28/50\n",
      "3/3 [==============================] - 22s 7s/step - loss: 9.2961e-06 - binary_accuracy: 1.0000 - val_loss: 0.0185 - val_binary_accuracy: 1.0000\n",
      "Epoch 29/50\n",
      "3/3 [==============================] - 22s 7s/step - loss: 1.3306e-05 - binary_accuracy: 1.0000 - val_loss: 0.0187 - val_binary_accuracy: 1.0000\n",
      "Epoch 30/50\n",
      "3/3 [==============================] - 22s 7s/step - loss: 8.2327e-06 - binary_accuracy: 1.0000 - val_loss: 0.0190 - val_binary_accuracy: 1.0000\n",
      "Epoch 31/50\n",
      "3/3 [==============================] - 22s 7s/step - loss: 1.0577e-05 - binary_accuracy: 1.0000 - val_loss: 0.0192 - val_binary_accuracy: 1.0000\n",
      "Epoch 32/50\n",
      "3/3 [==============================] - 22s 7s/step - loss: 1.1354e-05 - binary_accuracy: 1.0000 - val_loss: 0.0195 - val_binary_accuracy: 1.0000\n"
     ]
    }
   ],
   "source": [
    "base_model.trainable = True\n",
    "model.summary()\n",
    "\n",
    "model.compile(\n",
    "    optimizer=tf.keras.optimizers.Adam(1e-5),  # Low learning rate\n",
    "    loss=tf.keras.losses.CategoricalCrossentropy(from_logits=True),\n",
    "    metrics=[tf.keras.metrics.BinaryAccuracy()],\n",
    ")\n",
    "\n",
    "epochs = 50\n",
    "history = model.fit(x_train, y_train, epochs=epochs,validation_split=0.3,callbacks=callback,class_weight = class_weights)"
   ]
  },
  {
   "cell_type": "code",
   "execution_count": 59,
   "metadata": {},
   "outputs": [
    {
     "data": {
      "image/png": "[encoded data removed]",
      "text/plain": [
       "<Figure size 432x288 with 1 Axes>"
      ]
     },
     "metadata": {
      "needs_background": "light"
     },
     "output_type": "display_data"
    }
   ],
   "source": [
    "plt.plot(history.history['loss'],label = 'loss')\n",
    "plt.plot(history.history['val_loss'],label = 'val_loss')\n",
    "plt.legend()\n",
    "plt.show()"
   ]
  },
  {
   "cell_type": "code",
   "execution_count": 60,
   "metadata": {},
   "outputs": [],
   "source": [
    "pred = model.predict(x_test)\n",
    "\n",
    "y_pred = np.argmax(pred, axis=1)\n",
    "actual = x_test"
   ]
  },
  {
   "cell_type": "code",
   "execution_count": 61,
   "metadata": {},
   "outputs": [
    {
     "data": {
      "text/plain": [
       "array([4, 4, 2, 2, 0, 2, 4, 0, 0, 3, 4, 1, 2, 3, 0, 4, 2, 4, 4, 1, 4, 2,\n",
       "       3, 4, 4, 2, 2, 4, 1, 3, 1, 1, 3, 0, 0, 1, 2, 2, 4, 4, 2, 1, 4, 0,\n",
       "       2, 1, 0, 1, 3, 0, 1, 2, 4, 4, 2, 1, 2], dtype=int64)"
      ]
     },
     "execution_count": 61,
     "metadata": {},
     "output_type": "execute_result"
    }
   ],
   "source": [
    "y_pred"
   ]
  },
  {
   "cell_type": "code",
   "execution_count": 62,
   "metadata": {},
   "outputs": [
    {
     "data": {
      "text/plain": [
       "array([[0, 0, 0, 0, 1],\n",
       "       [0, 0, 0, 0, 1],\n",
       "       [0, 0, 1, 0, 0],\n",
       "       [0, 0, 1, 0, 0],\n",
       "       [0, 0, 0, 1, 0],\n",
       "       [0, 0, 1, 0, 0],\n",
       "       [0, 0, 0, 0, 1],\n",
       "       [1, 0, 0, 0, 0],\n",
       "       [1, 0, 0, 0, 0],\n",
       "       [0, 0, 0, 1, 0],\n",
       "       [0, 0, 0, 0, 1],\n",
       "       [0, 1, 0, 0, 0],\n",
       "       [0, 0, 1, 0, 0],\n",
       "       [0, 0, 0, 1, 0],\n",
       "       [1, 0, 0, 0, 0],\n",
       "       [0, 0, 0, 0, 1],\n",
       "       [0, 0, 1, 0, 0],\n",
       "       [0, 0, 0, 0, 1],\n",
       "       [0, 0, 0, 0, 1],\n",
       "       [0, 1, 0, 0, 0],\n",
       "       [0, 0, 0, 0, 1],\n",
       "       [0, 0, 1, 0, 0],\n",
       "       [0, 0, 0, 1, 0],\n",
       "       [0, 0, 0, 0, 1],\n",
       "       [0, 0, 0, 0, 1],\n",
       "       [0, 0, 1, 0, 0],\n",
       "       [0, 0, 0, 1, 0],\n",
       "       [0, 0, 0, 0, 1],\n",
       "       [0, 1, 0, 0, 0],\n",
       "       [0, 0, 0, 1, 0],\n",
       "       [0, 1, 0, 0, 0],\n",
       "       [0, 1, 0, 0, 0],\n",
       "       [0, 0, 0, 1, 0],\n",
       "       [1, 0, 0, 0, 0],\n",
       "       [1, 0, 0, 0, 0],\n",
       "       [0, 1, 0, 0, 0],\n",
       "       [0, 0, 1, 0, 0],\n",
       "       [0, 0, 1, 0, 0],\n",
       "       [0, 0, 0, 0, 1],\n",
       "       [0, 0, 0, 0, 1],\n",
       "       [0, 0, 1, 0, 0],\n",
       "       [0, 1, 0, 0, 0],\n",
       "       [0, 0, 0, 0, 1],\n",
       "       [1, 0, 0, 0, 0],\n",
       "       [0, 0, 0, 0, 1],\n",
       "       [0, 1, 0, 0, 0],\n",
       "       [1, 0, 0, 0, 0],\n",
       "       [0, 1, 0, 0, 0],\n",
       "       [0, 0, 0, 1, 0],\n",
       "       [1, 0, 0, 0, 0],\n",
       "       [0, 1, 0, 0, 0],\n",
       "       [0, 0, 1, 0, 0],\n",
       "       [0, 0, 0, 0, 1],\n",
       "       [0, 0, 0, 0, 1],\n",
       "       [0, 0, 1, 0, 0],\n",
       "       [1, 0, 0, 0, 0],\n",
       "       [0, 0, 1, 0, 0]])"
      ]
     },
     "execution_count": 62,
     "metadata": {},
     "output_type": "execute_result"
    }
   ],
   "source": [
    "y_test"
   ]
  },
  {
   "cell_type": "code",
   "execution_count": 63,
   "metadata": {},
   "outputs": [],
   "source": [
    "y_test = np.argmax(y_test, axis=1)"
   ]
  },
  {
   "cell_type": "code",
   "execution_count": 64,
   "metadata": {},
   "outputs": [
    {
     "data": {
      "text/plain": [
       "<function matplotlib.pyplot.show(*args, **kw)>"
      ]
     },
     "execution_count": 64,
     "metadata": {},
     "output_type": "execute_result"
    },
    {
     "data": {
      "image/png": "[encoded data removed]",
      "text/plain": [
       "<Figure size 432x288 with 2 Axes>"
      ]
     },
     "metadata": {
      "needs_background": "light"
     },
     "output_type": "display_data"
    }
   ],
   "source": [
    "cm = confusion_matrix(y_test, y_pred)\n",
    "disp = ConfusionMatrixDisplay(confusion_matrix=cm,display_labels=class_names)\n",
    "disp.plot()\n",
    "plt.show"
   ]
  },
  {
   "cell_type": "code",
   "execution_count": 65,
   "metadata": {},
   "outputs": [
    {
     "name": "stdout",
     "output_type": "stream",
     "text": [
      "              precision    recall  f1-score   support\n",
      "\n",
      "     burping       0.89      0.89      0.89         9\n",
      "  discomfort       0.91      1.00      0.95        10\n",
      "      hungry       0.87      1.00      0.93        13\n",
      "        poop       1.00      0.75      0.86         8\n",
      "       tired       1.00      0.94      0.97        17\n",
      "\n",
      "    accuracy                           0.93        57\n",
      "   macro avg       0.93      0.92      0.92        57\n",
      "weighted avg       0.94      0.93      0.93        57\n",
      "\n"
     ]
    }
   ],
   "source": [
    "from sklearn.metrics import classification_report\n",
    "print(classification_report(y_test, y_pred,target_names=class_names))"
   ]
  },
  {
   "cell_type": "code",
   "execution_count": null,
   "metadata": {},
   "outputs": [],
   "source": []
  }
 ],
 "metadata": {
  "kernelspec": {
   "display_name": "Python 3.7.6 ('base')",
   "language": "python",
   "name": "python3"
  },
  "language_info": {
   "codemirror_mode": {
    "name": "ipython",
    "version": 3
   },
   "file_extension": ".py",
   "mimetype": "text/x-python",
   "name": "python",
   "nbconvert_exporter": "python",
   "pygments_lexer": "ipython3",
   "version": "3.7.6"
  },
  "orig_nbformat": 4,
  "vscode": {
   "interpreter": {
    "hash": "23bf0724a01b6ea9814e66f76182ea78c0ee849a72ca257c0e116bf83bb4960a"
   }
  }
 },
 "nbformat": 4,
 "nbformat_minor": 2
}
