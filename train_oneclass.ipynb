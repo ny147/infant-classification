{
 "cells": [
  {
   "cell_type": "code",
   "execution_count": 1,
   "metadata": {},
   "outputs": [],
   "source": [
    "import os\n",
    "import librosa, librosa.display\n",
    "import matplotlib.pyplot as plt\n",
    "from pathlib import Path\n",
    "import tensorflow as tf\n",
    "import IPython.display as ipd\n",
    "import numpy as np\n",
    "import shutil\n",
    "#import ftransc"
   ]
  },
  {
   "cell_type": "code",
   "execution_count": 2,
   "metadata": {},
   "outputs": [
    {
     "name": "stdout",
     "output_type": "stream",
     "text": [
      "Found 272 files belonging to 2 classes.\n",
      "Found 137 files belonging to 2 classes.\n",
      "['hungry', 'non_hungry']\n"
     ]
    }
   ],
   "source": [
    "\n",
    "train_directory = './data/mel_freq/train_oneclass/hungry_one'\n",
    "test_directory = './data/mel_freq/test_oneclass/hungry_one'\n",
    "#train_directory = './img_data/mel_spectrogram/train'\n",
    "#test_directory = './img_data/mel_spectrogram/test'\n",
    "\n",
    "train_ds = tf.keras.preprocessing.image_dataset_from_directory(\n",
    "    train_directory, labels='inferred', label_mode='int', image_size=(256, 256), seed=321,\n",
    "    validation_split=None, subset=None)\n",
    "\n",
    "test_ds = tf.keras.preprocessing.image_dataset_from_directory(\n",
    "    test_directory, labels='inferred', label_mode='int', image_size=(256, 256),\n",
    "    validation_split=None, subset=None)\n",
    "\n",
    "class_names = train_ds.class_names\n",
    "print(class_names)"
   ]
  },
  {
   "cell_type": "code",
   "execution_count": 3,
   "metadata": {},
   "outputs": [],
   "source": [
    "## create model"
   ]
  },
  {
   "cell_type": "code",
   "execution_count": 4,
   "metadata": {},
   "outputs": [],
   "source": [
    "from sklearn.metrics import confusion_matrix, ConfusionMatrixDisplay\n",
    "from keras.callbacks import ModelCheckpoint"
   ]
  },
  {
   "cell_type": "code",
   "execution_count": 5,
   "metadata": {},
   "outputs": [],
   "source": [
    "x_train=[]\n",
    "y_train=[]\n",
    "for images, labels in train_ds.unbatch().take(-1):\n",
    "    x_train.append(images.numpy())\n",
    "    y_train.append(labels.numpy())"
   ]
  },
  {
   "cell_type": "code",
   "execution_count": 6,
   "metadata": {},
   "outputs": [],
   "source": [
    "x_test=[]\n",
    "y_test=[]\n",
    "for images, labels in test_ds.unbatch().take(-1):\n",
    "    x_test.append(images.numpy())\n",
    "    y_test.append(labels.numpy())"
   ]
  },
  {
   "cell_type": "code",
   "execution_count": 7,
   "metadata": {},
   "outputs": [],
   "source": [
    "x_train = np.array(x_train)\n",
    "x_test = np.array(x_test)\n",
    "y_train = np.array(y_train)\n",
    "y_test = np.array(y_test)"
   ]
  },
  {
   "cell_type": "code",
   "execution_count": 8,
   "metadata": {},
   "outputs": [],
   "source": [
    "num_classes = 2\n",
    "img_height = 256\n",
    "img_width = 256\n",
    "def create_weight(n_sample,n_class,n_class_sample):\n",
    "    weight = n_sample/(n_class*n_class_sample)\n",
    "    return weight"
   ]
  },
  {
   "cell_type": "code",
   "execution_count": 9,
   "metadata": {},
   "outputs": [],
   "source": [
    "class_weights = {0:0, 1:0}\n",
    "class_count = np.array([254,49])\n",
    "for i in range(num_classes):\n",
    "    class_weights[i]=create_weight(303,num_classes,class_count[i])"
   ]
  },
  {
   "cell_type": "code",
   "execution_count": 10,
   "metadata": {},
   "outputs": [
    {
     "name": "stdout",
     "output_type": "stream",
     "text": [
      "Model: \"model\"\n",
      "_________________________________________________________________\n",
      " Layer (type)                Output Shape              Param #   \n",
      "=================================================================\n",
      " input_2 (InputLayer)        [(None, 256, 256, 3)]     0         \n",
      "                                                                 \n",
      " rescaling (Rescaling)       (None, 256, 256, 3)       0         \n",
      "                                                                 \n",
      " tf.cast (TFOpLambda)        (None, 256, 256, 3)       0         \n",
      "                                                                 \n",
      " resnet50v2 (Functional)     (None, 8, 8, 2048)        23564800  \n",
      "                                                                 \n",
      " global_average_pooling2d (G  (None, 2048)             0         \n",
      " lobalAveragePooling2D)                                          \n",
      "                                                                 \n",
      " dense (Dense)               (None, 64)                131136    \n",
      "                                                                 \n",
      " dropout (Dropout)           (None, 64)                0         \n",
      "                                                                 \n",
      " dense_1 (Dense)             (None, 1)                 65        \n",
      "                                                                 \n",
      "=================================================================\n",
      "Total params: 23,696,001\n",
      "Trainable params: 131,201\n",
      "Non-trainable params: 23,564,800\n",
      "_________________________________________________________________\n"
     ]
    }
   ],
   "source": [
    "base_model = tf.keras.applications.ResNet50V2(\n",
    "    weights=\"imagenet\",  # Load weights pre-trained on ImageNet.\n",
    "    input_shape=(img_height, img_width, 3),\n",
    "    include_top=False,\n",
    ") \n",
    "\n",
    "# Freeze the base_model\n",
    "base_model.trainable = False\n",
    "\n",
    "# Create new model on top\n",
    "inputs = tf.keras.Input(shape=(img_height, img_width, 3))\n",
    "\n",
    "scale_layer = tf.keras.layers.Rescaling(scale=1./255)\n",
    "x = scale_layer(inputs)\n",
    "\n",
    "x = tf.cast(x,tf.float32)\n",
    "\n",
    "x = base_model(x, training=False)\n",
    "x = tf.keras.layers.GlobalAveragePooling2D()(x)\n",
    "\n",
    "x = tf.keras.layers.Dense(64, activation='relu')(x)\n",
    "x = tf.keras.layers.Dropout(0.2)(x)  # Regularize with dropout\n",
    "outputs = tf.keras.layers.Dense(1,activation='sigmoid')(x)\n",
    "model = tf.keras.Model(inputs, outputs)\n",
    "\n",
    "model.summary()"
   ]
  },
  {
   "cell_type": "code",
   "execution_count": 11,
   "metadata": {},
   "outputs": [
    {
     "data": {
      "text/plain": [
       "\" #model = tf.keras.Sequential([\\n            tf.keras.layers.experimental.preprocessing.Rescaling(1./255, input_shape=(img_height, img_width, 3)),\\n            tf.keras.layers.Conv2D(256, 3, padding='same', activation='relu'),\\n            tf.keras.layers.MaxPooling2D((2,2)),\\n            tf.keras.layers.Dropout(0.2),\\n            tf.keras.layers.Conv2D(128, 3, padding='same', activation='relu'),            \\n            tf.keras.layers.MaxPooling2D((2,2)),\\n            tf.keras.layers.Dropout(0.2),\\n            tf.keras.layers.Conv2D(16, 3, padding='same', activation='relu'),\\n            tf.keras.layers.MaxPooling2D((2,2)),\\n            tf.keras.layers.Flatten(),\\n            tf.keras.layers.Dense(64, activation='relu'),\\n            tf.keras.layers.Dense(1, activation='sigmoid')\\n        ])\\nmodel.summary() \""
      ]
     },
     "execution_count": 11,
     "metadata": {},
     "output_type": "execute_result"
    }
   ],
   "source": [
    "''' #model = tf.keras.Sequential([\n",
    "            tf.keras.layers.experimental.preprocessing.Rescaling(1./255, input_shape=(img_height, img_width, 3)),\n",
    "            tf.keras.layers.Conv2D(256, 3, padding='same', activation='relu'),\n",
    "            tf.keras.layers.MaxPooling2D((2,2)),\n",
    "            tf.keras.layers.Dropout(0.2),\n",
    "            tf.keras.layers.Conv2D(128, 3, padding='same', activation='relu'),            \n",
    "            tf.keras.layers.MaxPooling2D((2,2)),\n",
    "            tf.keras.layers.Dropout(0.2),\n",
    "            tf.keras.layers.Conv2D(16, 3, padding='same', activation='relu'),\n",
    "            tf.keras.layers.MaxPooling2D((2,2)),\n",
    "            tf.keras.layers.Flatten(),\n",
    "            tf.keras.layers.Dense(64, activation='relu'),\n",
    "            tf.keras.layers.Dense(1, activation='sigmoid')\n",
    "        ])\n",
    "model.summary() '''"
   ]
  },
  {
   "cell_type": "code",
   "execution_count": 12,
   "metadata": {},
   "outputs": [],
   "source": [
    "#resnet \n",
    "#inception v3"
   ]
  },
  {
   "cell_type": "code",
   "execution_count": 13,
   "metadata": {},
   "outputs": [],
   "source": [
    "\n",
    "loss_fn = tf.keras.losses.BinaryCrossentropy(from_logits=True)\n",
    "optimizer = tf.keras.optimizers.Adam()# modify weight in Adam\n",
    "metrics = ['accuracy']\n",
    "model.compile (optimizer = optimizer,loss =  loss_fn,metrics = metrics)"
   ]
  },
  {
   "cell_type": "code",
   "execution_count": 14,
   "metadata": {},
   "outputs": [],
   "source": [
    "callback = tf.keras.callbacks.EarlyStopping(monitor='loss', patience=3)"
   ]
  },
  {
   "cell_type": "code",
   "execution_count": 15,
   "metadata": {},
   "outputs": [
    {
     "name": "stdout",
     "output_type": "stream",
     "text": [
      "Epoch 1/30\n"
     ]
    },
    {
     "name": "stderr",
     "output_type": "stream",
     "text": [
      "c:\\Users\\acer\\anaconda3\\lib\\site-packages\\tensorflow\\python\\util\\dispatch.py:1082: UserWarning: \"`binary_crossentropy` received `from_logits=True`, but the `output` argument was produced by a sigmoid or softmax activation and thus does not represent logits. Was this intended?\"\n",
      "  return dispatch_target(*args, **kwargs)\n"
     ]
    },
    {
     "name": "stdout",
     "output_type": "stream",
     "text": [
      "6/6 [==============================] - 32s 5s/step - loss: 0.5672 - accuracy: 0.7421 - val_loss: 0.2609 - val_accuracy: 0.9390\n",
      "Epoch 2/30\n",
      "6/6 [==============================] - 26s 5s/step - loss: 0.4624 - accuracy: 0.9263 - val_loss: 0.4026 - val_accuracy: 0.9390\n",
      "Epoch 3/30\n",
      "6/6 [==============================] - 19s 3s/step - loss: 0.4110 - accuracy: 0.9263 - val_loss: 0.3735 - val_accuracy: 0.9390\n",
      "Epoch 4/30\n",
      "6/6 [==============================] - 16s 3s/step - loss: 0.4041 - accuracy: 0.9316 - val_loss: 0.3076 - val_accuracy: 0.9390\n",
      "Epoch 5/30\n",
      "6/6 [==============================] - 22s 4s/step - loss: 0.3834 - accuracy: 0.9263 - val_loss: 0.3226 - val_accuracy: 0.9390\n",
      "Epoch 6/30\n",
      "6/6 [==============================] - 25s 4s/step - loss: 0.3909 - accuracy: 0.9368 - val_loss: 0.3014 - val_accuracy: 0.9390\n",
      "Epoch 7/30\n",
      "6/6 [==============================] - 25s 4s/step - loss: 0.3556 - accuracy: 0.9421 - val_loss: 0.3067 - val_accuracy: 0.9390\n",
      "Epoch 8/30\n",
      "6/6 [==============================] - 25s 4s/step - loss: 0.3621 - accuracy: 0.9368 - val_loss: 0.2566 - val_accuracy: 0.9390\n",
      "Epoch 9/30\n",
      "6/6 [==============================] - 25s 4s/step - loss: 0.3487 - accuracy: 0.9368 - val_loss: 0.3436 - val_accuracy: 0.9512\n",
      "Epoch 10/30\n",
      "6/6 [==============================] - 26s 5s/step - loss: 0.3191 - accuracy: 0.9421 - val_loss: 0.2826 - val_accuracy: 0.9390\n",
      "Epoch 11/30\n",
      "6/6 [==============================] - 26s 5s/step - loss: 0.3053 - accuracy: 0.9474 - val_loss: 0.2600 - val_accuracy: 0.9390\n",
      "Epoch 12/30\n",
      "6/6 [==============================] - 26s 5s/step - loss: 0.3162 - accuracy: 0.9316 - val_loss: 0.2879 - val_accuracy: 0.9390\n",
      "Epoch 13/30\n",
      "6/6 [==============================] - 26s 5s/step - loss: 0.2807 - accuracy: 0.9474 - val_loss: 0.2452 - val_accuracy: 0.9390\n",
      "Epoch 14/30\n",
      "6/6 [==============================] - 26s 5s/step - loss: 0.2450 - accuracy: 0.9526 - val_loss: 0.2649 - val_accuracy: 0.9390\n",
      "Epoch 15/30\n",
      "6/6 [==============================] - 26s 5s/step - loss: 0.2459 - accuracy: 0.9684 - val_loss: 0.2706 - val_accuracy: 0.9268\n",
      "Epoch 16/30\n",
      "6/6 [==============================] - 26s 5s/step - loss: 0.2286 - accuracy: 0.9579 - val_loss: 0.2428 - val_accuracy: 0.9390\n",
      "Epoch 17/30\n",
      "6/6 [==============================] - 26s 5s/step - loss: 0.2067 - accuracy: 0.9842 - val_loss: 0.2367 - val_accuracy: 0.9390\n",
      "Epoch 18/30\n",
      "6/6 [==============================] - 27s 5s/step - loss: 0.2117 - accuracy: 0.9737 - val_loss: 0.2569 - val_accuracy: 0.9390\n",
      "Epoch 19/30\n",
      "6/6 [==============================] - 25s 4s/step - loss: 0.1973 - accuracy: 0.9789 - val_loss: 0.2500 - val_accuracy: 0.9512\n",
      "Epoch 20/30\n",
      "6/6 [==============================] - 27s 5s/step - loss: 0.1707 - accuracy: 0.9947 - val_loss: 0.2124 - val_accuracy: 0.9390\n",
      "Epoch 21/30\n",
      "6/6 [==============================] - 26s 5s/step - loss: 0.1738 - accuracy: 0.9842 - val_loss: 0.2277 - val_accuracy: 0.9390\n",
      "Epoch 22/30\n",
      "6/6 [==============================] - 26s 5s/step - loss: 0.1707 - accuracy: 0.9842 - val_loss: 0.2332 - val_accuracy: 0.9390\n",
      "Epoch 23/30\n",
      "6/6 [==============================] - 27s 5s/step - loss: 0.1606 - accuracy: 0.9947 - val_loss: 0.2145 - val_accuracy: 0.9390\n",
      "Epoch 24/30\n",
      "6/6 [==============================] - 27s 5s/step - loss: 0.1579 - accuracy: 0.9895 - val_loss: 0.2279 - val_accuracy: 0.9390\n",
      "Epoch 25/30\n",
      "6/6 [==============================] - 26s 5s/step - loss: 0.1393 - accuracy: 1.0000 - val_loss: 0.1997 - val_accuracy: 0.9512\n",
      "Epoch 26/30\n",
      "6/6 [==============================] - 26s 5s/step - loss: 0.1332 - accuracy: 1.0000 - val_loss: 0.2211 - val_accuracy: 0.9390\n",
      "Epoch 27/30\n",
      "6/6 [==============================] - 26s 5s/step - loss: 0.1265 - accuracy: 0.9842 - val_loss: 0.2017 - val_accuracy: 0.9268\n",
      "Epoch 28/30\n",
      "6/6 [==============================] - 26s 5s/step - loss: 0.1116 - accuracy: 0.9947 - val_loss: 0.1999 - val_accuracy: 0.9268\n",
      "Epoch 29/30\n",
      "6/6 [==============================] - 26s 5s/step - loss: 0.1239 - accuracy: 0.9895 - val_loss: 0.2128 - val_accuracy: 0.9390\n",
      "Epoch 30/30\n",
      "6/6 [==============================] - 26s 5s/step - loss: 0.0951 - accuracy: 0.9895 - val_loss: 0.1985 - val_accuracy: 0.9390\n"
     ]
    }
   ],
   "source": [
    "# Set the epocks\n",
    "# ทำ stop + validation\n",
    "epochs = 30\n",
    "history = model.fit(x_train, y_train, epochs=epochs,validation_split=0.3,class_weight = class_weights,callbacks=callback)\n",
    "\n",
    "#history = model.fit(x_train, y_train, epochs=epochs,validation_split=0.3)"
   ]
  },
  {
   "cell_type": "code",
   "execution_count": 16,
   "metadata": {},
   "outputs": [
    {
     "name": "stdout",
     "output_type": "stream",
     "text": [
      "Model: \"model\"\n",
      "_________________________________________________________________\n",
      " Layer (type)                Output Shape              Param #   \n",
      "=================================================================\n",
      " input_2 (InputLayer)        [(None, 256, 256, 3)]     0         \n",
      "                                                                 \n",
      " rescaling (Rescaling)       (None, 256, 256, 3)       0         \n",
      "                                                                 \n",
      " tf.cast (TFOpLambda)        (None, 256, 256, 3)       0         \n",
      "                                                                 \n",
      " resnet50v2 (Functional)     (None, 8, 8, 2048)        23564800  \n",
      "                                                                 \n",
      " global_average_pooling2d (G  (None, 2048)             0         \n",
      " lobalAveragePooling2D)                                          \n",
      "                                                                 \n",
      " dense (Dense)               (None, 64)                131136    \n",
      "                                                                 \n",
      " dropout (Dropout)           (None, 64)                0         \n",
      "                                                                 \n",
      " dense_1 (Dense)             (None, 1)                 65        \n",
      "                                                                 \n",
      "=================================================================\n",
      "Total params: 23,696,001\n",
      "Trainable params: 23,650,561\n",
      "Non-trainable params: 45,440\n",
      "_________________________________________________________________\n",
      "Epoch 1/15\n",
      "6/6 [==============================] - 96s 16s/step - loss: 1.1394 - binary_accuracy: 0.6474 - val_loss: 0.2282 - val_binary_accuracy: 0.9390\n",
      "Epoch 2/15\n",
      "6/6 [==============================] - 90s 15s/step - loss: 0.5675 - binary_accuracy: 0.8421 - val_loss: 0.4499 - val_binary_accuracy: 0.9024\n",
      "Epoch 3/15\n",
      "6/6 [==============================] - 88s 15s/step - loss: 0.4725 - binary_accuracy: 0.9158 - val_loss: 0.4563 - val_binary_accuracy: 0.9390\n",
      "Epoch 4/15\n",
      "6/6 [==============================] - 86s 14s/step - loss: 0.4343 - binary_accuracy: 0.8842 - val_loss: 0.3097 - val_binary_accuracy: 0.9390\n",
      "Epoch 5/15\n",
      "6/6 [==============================] - 89s 15s/step - loss: 0.4329 - binary_accuracy: 0.9316 - val_loss: 0.3534 - val_binary_accuracy: 0.9390\n",
      "Epoch 6/15\n",
      "6/6 [==============================] - 88s 15s/step - loss: 0.4091 - binary_accuracy: 0.9000 - val_loss: 0.2887 - val_binary_accuracy: 0.9390\n",
      "Epoch 7/15\n",
      "6/6 [==============================] - 89s 15s/step - loss: 0.4624 - binary_accuracy: 0.9316 - val_loss: 0.4235 - val_binary_accuracy: 0.9268\n",
      "Epoch 8/15\n",
      "6/6 [==============================] - 65s 10s/step - loss: 0.3695 - binary_accuracy: 0.9211 - val_loss: 0.3130 - val_binary_accuracy: 0.9146\n",
      "Epoch 9/15\n",
      "6/6 [==============================] - 62s 10s/step - loss: 0.3655 - binary_accuracy: 0.8789 - val_loss: 0.5337 - val_binary_accuracy: 0.6951\n",
      "Epoch 10/15\n",
      "6/6 [==============================] - 61s 10s/step - loss: 0.3396 - binary_accuracy: 0.8737 - val_loss: 0.2363 - val_binary_accuracy: 0.9268\n",
      "Epoch 11/15\n",
      "6/6 [==============================] - 61s 10s/step - loss: 0.3002 - binary_accuracy: 0.8474 - val_loss: 0.2239 - val_binary_accuracy: 0.9390\n",
      "Epoch 12/15\n",
      "6/6 [==============================] - 61s 10s/step - loss: 0.2597 - binary_accuracy: 0.9368 - val_loss: 0.3963 - val_binary_accuracy: 0.8171\n",
      "Epoch 13/15\n",
      "6/6 [==============================] - 61s 10s/step - loss: 0.2191 - binary_accuracy: 0.9474 - val_loss: 0.1877 - val_binary_accuracy: 0.9390\n",
      "Epoch 14/15\n",
      "6/6 [==============================] - 61s 10s/step - loss: 0.1300 - binary_accuracy: 0.9526 - val_loss: 0.2694 - val_binary_accuracy: 0.9390\n",
      "Epoch 15/15\n",
      "6/6 [==============================] - 61s 10s/step - loss: 0.1012 - binary_accuracy: 0.9737 - val_loss: 0.2584 - val_binary_accuracy: 0.8415\n"
     ]
    }
   ],
   "source": [
    "base_model.trainable = True\n",
    "model.summary()\n",
    "\n",
    "model.compile(\n",
    "    optimizer=tf.keras.optimizers.Adam(5e-5),  # Low learning rate\n",
    "    loss=tf.keras.losses.BinaryCrossentropy(from_logits=True),\n",
    "    metrics=[tf.keras.metrics.BinaryAccuracy()],\n",
    ")\n",
    "\n",
    "epochs = 15\n",
    "history = model.fit(x_train, y_train, epochs=epochs,validation_split=0.3,class_weight = class_weights,callbacks=callback)"
   ]
  },
  {
   "cell_type": "code",
   "execution_count": 17,
   "metadata": {},
   "outputs": [],
   "source": [
    "def binary_transform(pred):\n",
    "    if pred > 0.5:\n",
    "        predicted = 1\n",
    "    else:\n",
    "        predicted = 0\n",
    "    return predicted"
   ]
  },
  {
   "cell_type": "code",
   "execution_count": 18,
   "metadata": {},
   "outputs": [],
   "source": [
    "pred = model.predict(x_test)\n",
    "\n",
    "vfunc = np.vectorize(binary_transform)\n",
    "y_pred = vfunc(pred)\n",
    "actual = x_test"
   ]
  },
  {
   "cell_type": "code",
   "execution_count": 19,
   "metadata": {},
   "outputs": [
    {
     "data": {
      "text/plain": [
       "<function matplotlib.pyplot.show(*args, **kw)>"
      ]
     },
     "execution_count": 19,
     "metadata": {},
     "output_type": "execute_result"
    },
    {
     "data": {
      "image/png": "[encoded data removed]",
      "text/plain": [
       "<Figure size 432x288 with 2 Axes>"
      ]
     },
     "metadata": {
      "needs_background": "light"
     },
     "output_type": "display_data"
    }
   ],
   "source": [
    "cm = confusion_matrix(y_test, y_pred)\n",
    "disp = ConfusionMatrixDisplay(confusion_matrix=cm,display_labels=class_names)\n",
    "disp.plot()\n",
    "plt.show"
   ]
  },
  {
   "cell_type": "code",
   "execution_count": 20,
   "metadata": {},
   "outputs": [
    {
     "name": "stdout",
     "output_type": "stream",
     "text": [
      "              precision    recall  f1-score   support\n",
      "\n",
      "      Hungry       0.93      0.87      0.90       128\n",
      "  Non_hungry       0.06      0.11      0.07         9\n",
      "\n",
      "    accuracy                           0.82       137\n",
      "   macro avg       0.49      0.49      0.49       137\n",
      "weighted avg       0.88      0.82      0.84       137\n",
      "\n"
     ]
    }
   ],
   "source": [
    "from sklearn.metrics import classification_report\n",
    "print(classification_report(y_test, y_pred,target_names=[\"Hungry\",\"Non_hungry\"]))"
   ]
  },
  {
   "cell_type": "code",
   "execution_count": null,
   "metadata": {},
   "outputs": [],
   "source": []
  },
  {
   "cell_type": "code",
   "execution_count": null,
   "metadata": {},
   "outputs": [],
   "source": []
  }
 ],
 "metadata": {
  "kernelspec": {
   "display_name": "Python 3.7.6 ('base')",
   "language": "python",
   "name": "python3"
  },
  "language_info": {
   "codemirror_mode": {
    "name": "ipython",
    "version": 3
   },
   "file_extension": ".py",
   "mimetype": "text/x-python",
   "name": "python",
   "nbconvert_exporter": "python",
   "pygments_lexer": "ipython3",
   "version": "3.7.6"
  },
  "orig_nbformat": 4,
  "vscode": {
   "interpreter": {
    "hash": "23bf0724a01b6ea9814e66f76182ea78c0ee849a72ca257c0e116bf83bb4960a"
   }
  }
 },
 "nbformat": 4,
 "nbformat_minor": 2
}
