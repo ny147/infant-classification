{
  "cells": [
    {
      "cell_type": "markdown",
      "metadata": {
        "id": "view-in-github",
        "colab_type": "text"
      },
      "source": [
        "<a href=\"https://colab.research.google.com/github/ny147/infant-classification/blob/pete/train_evaluate.ipynb\" target=\"_parent\"><img src=\"https://colab.research.google.com/assets/colab-badge.svg\" alt=\"Open In Colab\"/></a>"
      ]
    },
    {
      "cell_type": "code",
      "execution_count": 234,
      "metadata": {
        "id": "cpHscK9W4KEd",
        "colab": {
          "base_uri": "https://localhost:8080/"
        },
        "outputId": "b90f80db-0ea1-401a-c218-ed01c374110a"
      },
      "outputs": [
        {
          "output_type": "stream",
          "name": "stdout",
          "text": [
            "Looking in indexes: https://pypi.org/simple, https://us-python.pkg.dev/colab-wheels/public/simple/\n",
            "Requirement already satisfied: focal_loss in /usr/local/lib/python3.7/dist-packages (0.0.7)\n",
            "Requirement already satisfied: tensorflow>=2.2 in /usr/local/lib/python3.7/dist-packages (from focal_loss) (2.8.2+zzzcolab20220527125636)\n",
            "Requirement already satisfied: opt-einsum>=2.3.2 in /usr/local/lib/python3.7/dist-packages (from tensorflow>=2.2->focal_loss) (3.3.0)\n",
            "Requirement already satisfied: absl-py>=0.4.0 in /usr/local/lib/python3.7/dist-packages (from tensorflow>=2.2->focal_loss) (1.1.0)\n",
            "Requirement already satisfied: gast>=0.2.1 in /usr/local/lib/python3.7/dist-packages (from tensorflow>=2.2->focal_loss) (0.5.3)\n",
            "Requirement already satisfied: h5py>=2.9.0 in /usr/local/lib/python3.7/dist-packages (from tensorflow>=2.2->focal_loss) (3.1.0)\n",
            "Requirement already satisfied: keras<2.9,>=2.8.0rc0 in /usr/local/lib/python3.7/dist-packages (from tensorflow>=2.2->focal_loss) (2.8.0)\n",
            "Requirement already satisfied: astunparse>=1.6.0 in /usr/local/lib/python3.7/dist-packages (from tensorflow>=2.2->focal_loss) (1.6.3)\n",
            "Requirement already satisfied: wrapt>=1.11.0 in /usr/local/lib/python3.7/dist-packages (from tensorflow>=2.2->focal_loss) (1.14.1)\n",
            "Requirement already satisfied: keras-preprocessing>=1.1.1 in /usr/local/lib/python3.7/dist-packages (from tensorflow>=2.2->focal_loss) (1.1.2)\n",
            "Requirement already satisfied: typing-extensions>=3.6.6 in /usr/local/lib/python3.7/dist-packages (from tensorflow>=2.2->focal_loss) (4.1.1)\n",
            "Requirement already satisfied: setuptools in /usr/local/lib/python3.7/dist-packages (from tensorflow>=2.2->focal_loss) (57.4.0)\n",
            "Requirement already satisfied: google-pasta>=0.1.1 in /usr/local/lib/python3.7/dist-packages (from tensorflow>=2.2->focal_loss) (0.2.0)\n",
            "Requirement already satisfied: flatbuffers>=1.12 in /usr/local/lib/python3.7/dist-packages (from tensorflow>=2.2->focal_loss) (2.0)\n",
            "Requirement already satisfied: tensorflow-estimator<2.9,>=2.8 in /usr/local/lib/python3.7/dist-packages (from tensorflow>=2.2->focal_loss) (2.8.0)\n",
            "Requirement already satisfied: six>=1.12.0 in /usr/local/lib/python3.7/dist-packages (from tensorflow>=2.2->focal_loss) (1.15.0)\n",
            "Requirement already satisfied: protobuf<3.20,>=3.9.2 in /usr/local/lib/python3.7/dist-packages (from tensorflow>=2.2->focal_loss) (3.17.3)\n",
            "Requirement already satisfied: numpy>=1.20 in /usr/local/lib/python3.7/dist-packages (from tensorflow>=2.2->focal_loss) (1.21.6)\n",
            "Requirement already satisfied: tensorboard<2.9,>=2.8 in /usr/local/lib/python3.7/dist-packages (from tensorflow>=2.2->focal_loss) (2.8.0)\n",
            "Requirement already satisfied: termcolor>=1.1.0 in /usr/local/lib/python3.7/dist-packages (from tensorflow>=2.2->focal_loss) (1.1.0)\n",
            "Requirement already satisfied: tensorflow-io-gcs-filesystem>=0.23.1 in /usr/local/lib/python3.7/dist-packages (from tensorflow>=2.2->focal_loss) (0.26.0)\n",
            "Requirement already satisfied: libclang>=9.0.1 in /usr/local/lib/python3.7/dist-packages (from tensorflow>=2.2->focal_loss) (14.0.1)\n",
            "Requirement already satisfied: grpcio<2.0,>=1.24.3 in /usr/local/lib/python3.7/dist-packages (from tensorflow>=2.2->focal_loss) (1.47.0)\n",
            "Requirement already satisfied: wheel<1.0,>=0.23.0 in /usr/local/lib/python3.7/dist-packages (from astunparse>=1.6.0->tensorflow>=2.2->focal_loss) (0.37.1)\n",
            "Requirement already satisfied: cached-property in /usr/local/lib/python3.7/dist-packages (from h5py>=2.9.0->tensorflow>=2.2->focal_loss) (1.5.2)\n",
            "Requirement already satisfied: requests<3,>=2.21.0 in /usr/local/lib/python3.7/dist-packages (from tensorboard<2.9,>=2.8->tensorflow>=2.2->focal_loss) (2.23.0)\n",
            "Requirement already satisfied: markdown>=2.6.8 in /usr/local/lib/python3.7/dist-packages (from tensorboard<2.9,>=2.8->tensorflow>=2.2->focal_loss) (3.3.7)\n",
            "Requirement already satisfied: werkzeug>=0.11.15 in /usr/local/lib/python3.7/dist-packages (from tensorboard<2.9,>=2.8->tensorflow>=2.2->focal_loss) (1.0.1)\n",
            "Requirement already satisfied: tensorboard-data-server<0.7.0,>=0.6.0 in /usr/local/lib/python3.7/dist-packages (from tensorboard<2.9,>=2.8->tensorflow>=2.2->focal_loss) (0.6.1)\n",
            "Requirement already satisfied: tensorboard-plugin-wit>=1.6.0 in /usr/local/lib/python3.7/dist-packages (from tensorboard<2.9,>=2.8->tensorflow>=2.2->focal_loss) (1.8.1)\n",
            "Requirement already satisfied: google-auth-oauthlib<0.5,>=0.4.1 in /usr/local/lib/python3.7/dist-packages (from tensorboard<2.9,>=2.8->tensorflow>=2.2->focal_loss) (0.4.6)\n",
            "Requirement already satisfied: google-auth<3,>=1.6.3 in /usr/local/lib/python3.7/dist-packages (from tensorboard<2.9,>=2.8->tensorflow>=2.2->focal_loss) (1.35.0)\n",
            "Requirement already satisfied: rsa<5,>=3.1.4 in /usr/local/lib/python3.7/dist-packages (from google-auth<3,>=1.6.3->tensorboard<2.9,>=2.8->tensorflow>=2.2->focal_loss) (4.8)\n",
            "Requirement already satisfied: cachetools<5.0,>=2.0.0 in /usr/local/lib/python3.7/dist-packages (from google-auth<3,>=1.6.3->tensorboard<2.9,>=2.8->tensorflow>=2.2->focal_loss) (4.2.4)\n",
            "Requirement already satisfied: pyasn1-modules>=0.2.1 in /usr/local/lib/python3.7/dist-packages (from google-auth<3,>=1.6.3->tensorboard<2.9,>=2.8->tensorflow>=2.2->focal_loss) (0.2.8)\n",
            "Requirement already satisfied: requests-oauthlib>=0.7.0 in /usr/local/lib/python3.7/dist-packages (from google-auth-oauthlib<0.5,>=0.4.1->tensorboard<2.9,>=2.8->tensorflow>=2.2->focal_loss) (1.3.1)\n",
            "Requirement already satisfied: importlib-metadata>=4.4 in /usr/local/lib/python3.7/dist-packages (from markdown>=2.6.8->tensorboard<2.9,>=2.8->tensorflow>=2.2->focal_loss) (4.12.0)\n",
            "Requirement already satisfied: zipp>=0.5 in /usr/local/lib/python3.7/dist-packages (from importlib-metadata>=4.4->markdown>=2.6.8->tensorboard<2.9,>=2.8->tensorflow>=2.2->focal_loss) (3.8.0)\n",
            "Requirement already satisfied: pyasn1<0.5.0,>=0.4.6 in /usr/local/lib/python3.7/dist-packages (from pyasn1-modules>=0.2.1->google-auth<3,>=1.6.3->tensorboard<2.9,>=2.8->tensorflow>=2.2->focal_loss) (0.4.8)\n",
            "Requirement already satisfied: idna<3,>=2.5 in /usr/local/lib/python3.7/dist-packages (from requests<3,>=2.21.0->tensorboard<2.9,>=2.8->tensorflow>=2.2->focal_loss) (2.10)\n",
            "Requirement already satisfied: certifi>=2017.4.17 in /usr/local/lib/python3.7/dist-packages (from requests<3,>=2.21.0->tensorboard<2.9,>=2.8->tensorflow>=2.2->focal_loss) (2022.6.15)\n",
            "Requirement already satisfied: urllib3!=1.25.0,!=1.25.1,<1.26,>=1.21.1 in /usr/local/lib/python3.7/dist-packages (from requests<3,>=2.21.0->tensorboard<2.9,>=2.8->tensorflow>=2.2->focal_loss) (1.24.3)\n",
            "Requirement already satisfied: chardet<4,>=3.0.2 in /usr/local/lib/python3.7/dist-packages (from requests<3,>=2.21.0->tensorboard<2.9,>=2.8->tensorflow>=2.2->focal_loss) (3.0.4)\n",
            "Requirement already satisfied: oauthlib>=3.0.0 in /usr/local/lib/python3.7/dist-packages (from requests-oauthlib>=0.7.0->google-auth-oauthlib<0.5,>=0.4.1->tensorboard<2.9,>=2.8->tensorflow>=2.2->focal_loss) (3.2.0)\n"
          ]
        }
      ],
      "source": [
        "import os\n",
        "import librosa, librosa.display\n",
        "import matplotlib.pyplot as plt\n",
        "from pathlib import Path\n",
        "import tensorflow as tf\n",
        "import IPython.display as ipd\n",
        "import numpy as np\n",
        "import shutil\n",
        "!pip install focal_loss\n",
        "from focal_loss import BinaryFocalLoss\n",
        "#import ftransc"
      ]
    },
    {
      "cell_type": "markdown",
      "source": [
        "# For Colab"
      ],
      "metadata": {
        "id": "kvNMNbwc5MmV"
      }
    },
    {
      "cell_type": "code",
      "source": [
        "from google.colab import drive\n",
        "drive.mount('/content/drive')\n",
        "path = \"/content/drive/MyDrive/Infant_cry\"\n",
        "train_directory = path + '/mel_spectrogram/train_oneclass/hungry_one'\n",
        "test_directory = path + '/mel_spectrogram/test_oneclass/hungry_one'\n",
        "# Matlab data\n",
        "# train_directory = path + '/mfcc_matlab/train/'\n",
        "# test_directory = path + '/mfcc_matlab/test/'"
      ],
      "metadata": {
        "colab": {
          "base_uri": "https://localhost:8080/"
        },
        "id": "r1P1SA9q4LFI",
        "outputId": "f6826363-80eb-4f36-ea5a-62b55871aed7"
      },
      "execution_count": 235,
      "outputs": [
        {
          "output_type": "stream",
          "name": "stdout",
          "text": [
            "Drive already mounted at /content/drive; to attempt to forcibly remount, call drive.mount(\"/content/drive\", force_remount=True).\n"
          ]
        }
      ]
    },
    {
      "cell_type": "markdown",
      "source": [
        "# Local "
      ],
      "metadata": {
        "id": "k1BjHEUS5uZ2"
      }
    },
    {
      "cell_type": "code",
      "source": [
        "# train_directory = path + '/data_matlab/train/'\n",
        "# test_directory = path + '/data_matlab/test/'"
      ],
      "metadata": {
        "id": "R3-uUE3m5rWW"
      },
      "execution_count": 231,
      "outputs": []
    },
    {
      "cell_type": "code",
      "execution_count": 236,
      "metadata": {
        "id": "FDsbZ0NX4KEg",
        "outputId": "3a9f7c64-b563-4e04-c3c3-be439e140b88",
        "colab": {
          "base_uri": "https://localhost:8080/"
        }
      },
      "outputs": [
        {
          "output_type": "stream",
          "name": "stdout",
          "text": [
            "Found 303 files belonging to 2 classes.\n",
            "Found 154 files belonging to 2 classes.\n",
            "['hungry', 'non_hungry']\n"
          ]
        }
      ],
      "source": [
        "\n",
        "\n",
        "\n",
        "train_ds = tf.keras.preprocessing.image_dataset_from_directory(\n",
        "    train_directory, labels='inferred', label_mode='int', image_size=(256, 256), seed=321,\n",
        "    validation_split=None, subset=None)\n",
        "\n",
        "test_ds = tf.keras.preprocessing.image_dataset_from_directory(\n",
        "    test_directory, labels='inferred', label_mode='int', image_size=(256, 256),\n",
        "    validation_split=None, subset=None)\n",
        "\n",
        "class_names = train_ds.class_names\n",
        "print(class_names)"
      ]
    },
    {
      "cell_type": "code",
      "execution_count": 237,
      "metadata": {
        "id": "hMp3ZErr4KEi"
      },
      "outputs": [],
      "source": [
        "## create model"
      ]
    },
    {
      "cell_type": "code",
      "execution_count": 238,
      "metadata": {
        "id": "WRnYz0BQ4KEi"
      },
      "outputs": [],
      "source": [
        "from sklearn.metrics import confusion_matrix, ConfusionMatrixDisplay\n",
        "from keras.callbacks import ModelCheckpoint"
      ]
    },
    {
      "cell_type": "code",
      "execution_count": 239,
      "metadata": {
        "id": "SGjcs6ok4KEj"
      },
      "outputs": [],
      "source": [
        "x_train=[]\n",
        "y_train=[]\n",
        "for images, labels in train_ds.unbatch().take(-1):\n",
        "    x_train.append(images.numpy())\n",
        "    y_train.append(labels.numpy())"
      ]
    },
    {
      "cell_type": "code",
      "execution_count": 240,
      "metadata": {
        "id": "52Syhv1s4KEj"
      },
      "outputs": [],
      "source": [
        "x_test=[]\n",
        "y_test=[]\n",
        "for images, labels in test_ds.unbatch().take(-1):\n",
        "    x_test.append(images.numpy())\n",
        "    y_test.append(labels.numpy())"
      ]
    },
    {
      "cell_type": "code",
      "execution_count": 241,
      "metadata": {
        "id": "pTeqzMX54KEk"
      },
      "outputs": [],
      "source": [
        "x_train = np.array(x_train)\n",
        "x_test = np.array(x_test)\n",
        "y_train = np.array(y_train)\n",
        "y_test = np.array(y_test)"
      ]
    },
    {
      "cell_type": "code",
      "execution_count": 242,
      "metadata": {
        "id": "KuLx5bbv4KEk"
      },
      "outputs": [],
      "source": [
        "num_classes = 2\n",
        "img_height = 256\n",
        "img_width = 256\n",
        "def create_weight(n_sample,n_class,n_class_sample):\n",
        "    weight = n_sample/(n_class*n_class_sample)\n",
        "    return weight"
      ]
    },
    {
      "cell_type": "code",
      "execution_count": 246,
      "metadata": {
        "id": "_PLcfLrI4KEl"
      },
      "outputs": [],
      "source": [
        "class_weights = {0:0, 1:0}\n",
        "class_count = np.array([254,49])\n",
        "for i in range(num_classes):\n",
        "    class_weights[i]=create_weight(303,num_classes,class_count[i])"
      ]
    },
    {
      "cell_type": "code",
      "execution_count": 263,
      "metadata": {
        "id": "CXXvqKtk4KEl",
        "outputId": "519b3314-446e-466f-9da7-e77320bd802b",
        "colab": {
          "base_uri": "https://localhost:8080/"
        }
      },
      "outputs": [
        {
          "output_type": "stream",
          "name": "stdout",
          "text": [
            "Model: \"model_25\"\n",
            "_________________________________________________________________\n",
            " Layer (type)                Output Shape              Param #   \n",
            "=================================================================\n",
            " input_53 (InputLayer)       [(None, 256, 256, 3)]     0         \n",
            "                                                                 \n",
            " rescaling_35 (Rescaling)    (None, 256, 256, 3)       0         \n",
            "                                                                 \n",
            " tf.cast_25 (TFOpLambda)     (None, 256, 256, 3)       0         \n",
            "                                                                 \n",
            " xception (Functional)       (None, 8, 8, 2048)        20861480  \n",
            "                                                                 \n",
            " global_average_pooling2d_25  (None, 2048)             0         \n",
            "  (GlobalAveragePooling2D)                                       \n",
            "                                                                 \n",
            " dropout_45 (Dropout)        (None, 2048)              0         \n",
            "                                                                 \n",
            " dense_46 (Dense)            (None, 1)                 2049      \n",
            "                                                                 \n",
            " activation_1040 (Activation  (None, 1)                0         \n",
            " )                                                               \n",
            "                                                                 \n",
            "=================================================================\n",
            "Total params: 20,863,529\n",
            "Trainable params: 2,049\n",
            "Non-trainable params: 20,861,480\n",
            "_________________________________________________________________\n"
          ]
        }
      ],
      "source": [
        "base_model = tf.keras.applications.Xception(\n",
        "    weights=\"imagenet\",  # Load weights pre-trained on ImageNet.\n",
        "    input_shape=(img_height, img_width, 3),\n",
        "    include_top=False,\n",
        ")  # Do not include the ImageNet classifier at the top.\n",
        "\n",
        "# base_model = tf.keras.applications.ResNet50V2(\n",
        "#     include_top=False,\n",
        "#     weights=\"imagenet\",\n",
        "#     input_tensor=None,\n",
        "#     input_shape=(img_height, img_width, 3),\n",
        "#     pooling=None,\n",
        "#     # classes=1000,\n",
        "#     classifier_activation=\"softmax\",\n",
        "# )\n",
        "# base_model = tf.keras.applications.InceptionResNetV2(\n",
        "#     include_top=False,\n",
        "#     weights=\"imagenet\",\n",
        "#     input_shape=(img_height, img_width, 3),\n",
        "#     pooling=None,\n",
        "#     classifier_activation=\"softmax\"\n",
        "# )\n",
        "# Freeze the base_model\n",
        "\n",
        "# base_model = tf.keras.applications.VGG16(\n",
        "#     include_top=False,\n",
        "#     weights=\"imagenet\",\n",
        "#     input_tensor=None,\n",
        "#     input_shape=(img_height, img_width, 3),\n",
        "#     pooling=None,\n",
        "#     classes=1000,\n",
        "#     classifier_activation=\"softmax\",\n",
        "# )\n",
        "# base_model = tf.keras.applications.VGG19(\n",
        "#     include_top=False,\n",
        "#     weights=\"imagenet\",\n",
        "#     input_tensor=None,\n",
        "#     input_shape=(img_height, img_width, 3),\n",
        "#     pooling=None,\n",
        "#     classes=1000,\n",
        "#     classifier_activation=\"softmax\",\n",
        "# )\n",
        "\n",
        "\n",
        "base_model.trainable = False\n",
        "\n",
        "# Create new model on top\n",
        "inputs = tf.keras.Input(shape=(img_height, img_width, 3))\n",
        "#x = data_augmentation(inputs)  # Apply random data augmentation\n",
        "\n",
        "# Pre-trained Xception weights requires that input be scaled\n",
        "# from (0, 255) to a range of (-1., +1.), the rescaling layer\n",
        "# outputs: `(inputs * scale) + offset`\n",
        "scale_layer = tf.keras.layers.Rescaling(scale=1./255)\n",
        "x = scale_layer(inputs)\n",
        "\n",
        "x = tf.cast(x,tf.float32)\n",
        "# The base model contains batchnorm layers. We want to keep them in inference mode\n",
        "# when we unfreeze the base model for fine-tuning, so we make sure that the\n",
        "# base_model is running in inference mode here.\n",
        "x = base_model(x, training=False)\n",
        "x = tf.keras.layers.GlobalAveragePooling2D()(x)\n",
        "x = tf.keras.layers.Dropout(0.2)(x)  # Regularize with dropout\n",
        "# x = tf.keras.layers.Dense(64, activation='relu')(x)\n",
        "outputs = tf.keras.layers.Dense(1)(x)\n",
        "outputs = tf.keras.layers.Activation('sigmoid')(outputs)\n",
        "model = tf.keras.Model(inputs, outputs)\n",
        "\n",
        "model.summary()"
      ]
    },
    {
      "cell_type": "code",
      "execution_count": null,
      "metadata": {
        "id": "ENIr5nXA4KEn"
      },
      "outputs": [],
      "source": [
        "#resnet \n",
        "#inception v3"
      ]
    },
    {
      "cell_type": "code",
      "execution_count": 264,
      "metadata": {
        "id": "B-6CMHob4KEo"
      },
      "outputs": [],
      "source": [
        "earlystop_callback = tf.keras.callbacks.EarlyStopping(monitor = 'val_loss',patience = 15)\n",
        "earlystop_callback2 = tf.keras.callbacks.EarlyStopping(monitor = 'val_accuracy',patience = 15)\n",
        "loss_fn = tf.keras.losses.BinaryCrossentropy(from_logits=True)\n",
        "# loss_fn = BinaryFocalLoss(gamma=2)\n",
        "optimizer = tf.keras.optimizers.Adam()# modify weight in Adam\n",
        "metrics = ['accuracy']\n",
        "model.compile (optimizer = optimizer,loss =  loss_fn,metrics = metrics)"
      ]
    },
    {
      "cell_type": "code",
      "execution_count": 265,
      "metadata": {
        "id": "2I_oiDJ94KEo",
        "outputId": "b3037a6d-479c-479e-8bf6-5ba1dd70c823",
        "colab": {
          "base_uri": "https://localhost:8080/"
        }
      },
      "outputs": [
        {
          "output_type": "stream",
          "name": "stdout",
          "text": [
            "Epoch 1/50\n"
          ]
        },
        {
          "output_type": "stream",
          "name": "stderr",
          "text": [
            "/usr/local/lib/python3.7/dist-packages/tensorflow/python/util/dispatch.py:1082: UserWarning: \"`binary_crossentropy` received `from_logits=True`, but the `output` argument was produced by a sigmoid or softmax activation and thus does not represent logits. Was this intended?\"\n",
            "  return dispatch_target(*args, **kwargs)\n"
          ]
        },
        {
          "output_type": "stream",
          "name": "stdout",
          "text": [
            "7/7 [==============================] - 6s 373ms/step - loss: 0.7206 - accuracy: 0.5000 - val_loss: 0.7787 - val_accuracy: 0.1868\n",
            "Epoch 2/50\n",
            "7/7 [==============================] - 2s 255ms/step - loss: 0.7036 - accuracy: 0.4151 - val_loss: 0.6643 - val_accuracy: 0.6264\n",
            "Epoch 3/50\n",
            "7/7 [==============================] - 2s 267ms/step - loss: 0.6933 - accuracy: 0.5519 - val_loss: 0.6446 - val_accuracy: 0.7582\n",
            "Epoch 4/50\n",
            "7/7 [==============================] - 2s 270ms/step - loss: 0.6670 - accuracy: 0.6509 - val_loss: 0.6467 - val_accuracy: 0.7363\n",
            "Epoch 5/50\n",
            "7/7 [==============================] - 2s 245ms/step - loss: 0.6810 - accuracy: 0.5519 - val_loss: 0.6915 - val_accuracy: 0.5385\n",
            "Epoch 6/50\n",
            "7/7 [==============================] - 2s 247ms/step - loss: 0.6765 - accuracy: 0.6085 - val_loss: 0.6360 - val_accuracy: 0.7692\n",
            "Epoch 7/50\n",
            "7/7 [==============================] - 2s 246ms/step - loss: 0.6655 - accuracy: 0.5896 - val_loss: 0.6956 - val_accuracy: 0.5495\n",
            "Epoch 8/50\n",
            "7/7 [==============================] - 2s 249ms/step - loss: 0.6463 - accuracy: 0.5802 - val_loss: 0.6432 - val_accuracy: 0.6923\n",
            "Epoch 9/50\n",
            "7/7 [==============================] - 2s 251ms/step - loss: 0.6524 - accuracy: 0.6509 - val_loss: 0.6310 - val_accuracy: 0.7363\n",
            "Epoch 10/50\n",
            "7/7 [==============================] - 2s 251ms/step - loss: 0.6489 - accuracy: 0.7736 - val_loss: 0.6014 - val_accuracy: 0.8022\n",
            "Epoch 11/50\n",
            "7/7 [==============================] - 2s 254ms/step - loss: 0.6388 - accuracy: 0.6934 - val_loss: 0.6718 - val_accuracy: 0.6154\n",
            "Epoch 12/50\n",
            "7/7 [==============================] - 2s 253ms/step - loss: 0.6389 - accuracy: 0.6557 - val_loss: 0.6303 - val_accuracy: 0.6813\n",
            "Epoch 13/50\n",
            "7/7 [==============================] - 2s 253ms/step - loss: 0.6227 - accuracy: 0.6557 - val_loss: 0.6548 - val_accuracy: 0.6813\n",
            "Epoch 14/50\n",
            "7/7 [==============================] - 2s 256ms/step - loss: 0.6193 - accuracy: 0.6038 - val_loss: 0.6661 - val_accuracy: 0.6264\n",
            "Epoch 15/50\n",
            "7/7 [==============================] - 2s 258ms/step - loss: 0.6080 - accuracy: 0.6415 - val_loss: 0.6282 - val_accuracy: 0.6923\n",
            "Epoch 16/50\n",
            "7/7 [==============================] - 2s 255ms/step - loss: 0.6097 - accuracy: 0.7925 - val_loss: 0.5746 - val_accuracy: 0.7802\n",
            "Epoch 17/50\n",
            "7/7 [==============================] - 2s 259ms/step - loss: 0.6055 - accuracy: 0.8538 - val_loss: 0.5941 - val_accuracy: 0.7582\n",
            "Epoch 18/50\n",
            "7/7 [==============================] - 2s 257ms/step - loss: 0.5937 - accuracy: 0.7783 - val_loss: 0.6493 - val_accuracy: 0.6813\n",
            "Epoch 19/50\n",
            "7/7 [==============================] - 2s 260ms/step - loss: 0.5992 - accuracy: 0.6321 - val_loss: 0.6621 - val_accuracy: 0.6593\n",
            "Epoch 20/50\n",
            "7/7 [==============================] - 2s 263ms/step - loss: 0.5916 - accuracy: 0.6745 - val_loss: 0.6076 - val_accuracy: 0.7143\n",
            "Epoch 21/50\n",
            "7/7 [==============================] - 2s 262ms/step - loss: 0.5834 - accuracy: 0.7925 - val_loss: 0.5601 - val_accuracy: 0.7912\n",
            "Epoch 22/50\n",
            "7/7 [==============================] - 2s 263ms/step - loss: 0.5782 - accuracy: 0.8302 - val_loss: 0.5797 - val_accuracy: 0.7802\n",
            "Epoch 23/50\n",
            "7/7 [==============================] - 2s 261ms/step - loss: 0.5763 - accuracy: 0.7594 - val_loss: 0.6134 - val_accuracy: 0.6923\n",
            "Epoch 24/50\n",
            "7/7 [==============================] - 2s 260ms/step - loss: 0.5709 - accuracy: 0.7830 - val_loss: 0.5962 - val_accuracy: 0.7363\n",
            "Epoch 25/50\n",
            "7/7 [==============================] - 2s 260ms/step - loss: 0.5685 - accuracy: 0.7830 - val_loss: 0.6020 - val_accuracy: 0.7143\n"
          ]
        }
      ],
      "source": [
        "# Set the epocks\n",
        "# ทำ stop + validation\n",
        "epochs = 50\n",
        "history = model.fit(x_train, y_train, epochs=epochs,validation_split=0.3,class_weight = class_weights,callbacks = [earlystop_callback,earlystop_callback2])\n",
        "# history = model.fit(x_train, y_train, epochs=epochs,validation_split=0.3,class_weight = class_weights)\n",
        "#history = model.fit(x_train, y_train, epochs=epochs,validation_split=0.3)"
      ]
    },
    {
      "cell_type": "code",
      "execution_count": 269,
      "metadata": {
        "id": "G9oorLuK4KEo",
        "outputId": "4f236f16-ab9e-4b1f-de52-6e3fd3ce1ae0",
        "colab": {
          "base_uri": "https://localhost:8080/"
        }
      },
      "outputs": [
        {
          "output_type": "stream",
          "name": "stdout",
          "text": [
            "Model: \"model_25\"\n",
            "_________________________________________________________________\n",
            " Layer (type)                Output Shape              Param #   \n",
            "=================================================================\n",
            " input_53 (InputLayer)       [(None, 256, 256, 3)]     0         \n",
            "                                                                 \n",
            " rescaling_35 (Rescaling)    (None, 256, 256, 3)       0         \n",
            "                                                                 \n",
            " tf.cast_25 (TFOpLambda)     (None, 256, 256, 3)       0         \n",
            "                                                                 \n",
            " xception (Functional)       (None, 8, 8, 2048)        20861480  \n",
            "                                                                 \n",
            " global_average_pooling2d_25  (None, 2048)             0         \n",
            "  (GlobalAveragePooling2D)                                       \n",
            "                                                                 \n",
            " dropout_45 (Dropout)        (None, 2048)              0         \n",
            "                                                                 \n",
            " dense_46 (Dense)            (None, 1)                 2049      \n",
            "                                                                 \n",
            " activation_1040 (Activation  (None, 1)                0         \n",
            " )                                                               \n",
            "                                                                 \n",
            "=================================================================\n",
            "Total params: 20,863,529\n",
            "Trainable params: 20,809,001\n",
            "Non-trainable params: 54,528\n",
            "_________________________________________________________________\n",
            "Epoch 1/60\n"
          ]
        },
        {
          "output_type": "stream",
          "name": "stderr",
          "text": [
            "/usr/local/lib/python3.7/dist-packages/tensorflow/python/util/dispatch.py:1082: UserWarning: \"`binary_crossentropy` received `from_logits=True`, but the `output` argument was produced by a sigmoid or softmax activation and thus does not represent logits. Was this intended?\"\n",
            "  return dispatch_target(*args, **kwargs)\n"
          ]
        },
        {
          "output_type": "stream",
          "name": "stdout",
          "text": [
            "7/7 [==============================] - 14s 1s/step - loss: 0.5843 - binary_accuracy: 0.7925 - val_loss: 0.6313 - val_binary_accuracy: 0.6154\n",
            "Epoch 2/60\n",
            "7/7 [==============================] - 6s 790ms/step - loss: 0.4811 - binary_accuracy: 0.7311 - val_loss: 0.5959 - val_binary_accuracy: 0.6593\n",
            "Epoch 3/60\n",
            "7/7 [==============================] - 6s 798ms/step - loss: 0.4297 - binary_accuracy: 0.8821 - val_loss: 0.5212 - val_binary_accuracy: 0.7582\n",
            "Epoch 4/60\n",
            "7/7 [==============================] - 6s 807ms/step - loss: 0.3501 - binary_accuracy: 0.9623 - val_loss: 0.5279 - val_binary_accuracy: 0.7143\n",
            "Epoch 5/60\n",
            "7/7 [==============================] - 6s 814ms/step - loss: 0.2981 - binary_accuracy: 0.9151 - val_loss: 0.5777 - val_binary_accuracy: 0.6813\n",
            "Epoch 6/60\n",
            "7/7 [==============================] - 6s 818ms/step - loss: 0.2508 - binary_accuracy: 0.9057 - val_loss: 0.5101 - val_binary_accuracy: 0.7253\n",
            "Epoch 7/60\n",
            "7/7 [==============================] - 6s 823ms/step - loss: 0.1962 - binary_accuracy: 0.9528 - val_loss: 0.5174 - val_binary_accuracy: 0.6813\n",
            "Epoch 8/60\n",
            "7/7 [==============================] - 6s 822ms/step - loss: 0.1534 - binary_accuracy: 0.9623 - val_loss: 0.5072 - val_binary_accuracy: 0.7473\n",
            "Epoch 9/60\n",
            "7/7 [==============================] - 6s 827ms/step - loss: 0.1097 - binary_accuracy: 1.0000 - val_loss: 0.5365 - val_binary_accuracy: 0.7912\n",
            "Epoch 10/60\n",
            "7/7 [==============================] - 6s 831ms/step - loss: 0.0813 - binary_accuracy: 0.9953 - val_loss: 0.5071 - val_binary_accuracy: 0.7692\n",
            "Epoch 11/60\n",
            "7/7 [==============================] - 6s 838ms/step - loss: 0.0705 - binary_accuracy: 0.9906 - val_loss: 0.5257 - val_binary_accuracy: 0.8022\n",
            "Epoch 12/60\n",
            "7/7 [==============================] - 6s 838ms/step - loss: 0.0513 - binary_accuracy: 1.0000 - val_loss: 0.5392 - val_binary_accuracy: 0.7912\n",
            "Epoch 13/60\n",
            "7/7 [==============================] - 6s 841ms/step - loss: 0.0292 - binary_accuracy: 1.0000 - val_loss: 0.5858 - val_binary_accuracy: 0.8022\n",
            "Epoch 14/60\n",
            "7/7 [==============================] - 6s 851ms/step - loss: 0.0268 - binary_accuracy: 1.0000 - val_loss: 0.6070 - val_binary_accuracy: 0.8242\n",
            "Epoch 15/60\n",
            "7/7 [==============================] - 6s 848ms/step - loss: 0.0182 - binary_accuracy: 1.0000 - val_loss: 0.5591 - val_binary_accuracy: 0.7912\n",
            "Epoch 16/60\n",
            "7/7 [==============================] - 6s 847ms/step - loss: 0.0150 - binary_accuracy: 1.0000 - val_loss: 0.6126 - val_binary_accuracy: 0.8132\n",
            "Epoch 17/60\n",
            "7/7 [==============================] - 6s 849ms/step - loss: 0.0116 - binary_accuracy: 1.0000 - val_loss: 0.6350 - val_binary_accuracy: 0.8132\n",
            "Epoch 18/60\n",
            "7/7 [==============================] - 6s 846ms/step - loss: 0.0114 - binary_accuracy: 1.0000 - val_loss: 0.6013 - val_binary_accuracy: 0.7912\n",
            "Epoch 19/60\n",
            "7/7 [==============================] - 6s 842ms/step - loss: 0.0085 - binary_accuracy: 1.0000 - val_loss: 0.6749 - val_binary_accuracy: 0.8132\n",
            "Epoch 20/60\n",
            "7/7 [==============================] - 6s 848ms/step - loss: 0.0077 - binary_accuracy: 1.0000 - val_loss: 0.6798 - val_binary_accuracy: 0.8242\n",
            "Epoch 21/60\n",
            "7/7 [==============================] - 6s 846ms/step - loss: 0.0053 - binary_accuracy: 1.0000 - val_loss: 0.6359 - val_binary_accuracy: 0.7912\n",
            "Epoch 22/60\n",
            "7/7 [==============================] - 6s 843ms/step - loss: 0.0044 - binary_accuracy: 1.0000 - val_loss: 0.6873 - val_binary_accuracy: 0.8242\n",
            "Epoch 23/60\n",
            "7/7 [==============================] - 6s 842ms/step - loss: 0.0046 - binary_accuracy: 1.0000 - val_loss: 0.7015 - val_binary_accuracy: 0.8132\n",
            "Epoch 24/60\n",
            "7/7 [==============================] - 6s 837ms/step - loss: 0.0038 - binary_accuracy: 1.0000 - val_loss: 0.6778 - val_binary_accuracy: 0.7912\n",
            "Epoch 25/60\n",
            "7/7 [==============================] - 6s 839ms/step - loss: 0.0033 - binary_accuracy: 1.0000 - val_loss: 0.7095 - val_binary_accuracy: 0.7912\n"
          ]
        }
      ],
      "source": [
        "earlystop_callback3 = tf.keras.callbacks.EarlyStopping(monitor = 'val_binary_accuracy',patience = 20)\n",
        "base_model.trainable = True\n",
        "model.summary()\n",
        "# loss=tf.keras.losses.BinaryCrossentropy(from_logits=True),\n",
        "model.compile(\n",
        "    optimizer=tf.keras.optimizers.Adam(1e-5),  # Low learning rate\n",
        "    loss = loss_fn,\n",
        "    metrics=[tf.keras.metrics.BinaryAccuracy()],\n",
        ")\n",
        "\n",
        "epochs = 60\n",
        "history = model.fit(x_train, y_train, epochs=epochs,validation_split=0.3,callbacks = [earlystop_callback,earlystop_callback3],class_weight = class_weights)\n",
        "# history = model.fit(x_train, y_train, epochs=epochs,validation_split=0.3,class_weight = class_weights)"
      ]
    },
    {
      "cell_type": "code",
      "execution_count": 270,
      "metadata": {
        "id": "cQ7QKhSO4KEp"
      },
      "outputs": [],
      "source": [
        "def binary_transform(pred):\n",
        "    if pred > 0.5:\n",
        "        predicted = 1\n",
        "    else:\n",
        "        predicted = 0\n",
        "    return predicted"
      ]
    },
    {
      "cell_type": "code",
      "execution_count": 271,
      "metadata": {
        "id": "NTHyhXUb4KEp"
      },
      "outputs": [],
      "source": [
        "pred = model.predict(x_test)\n",
        "\n",
        "vfunc = np.vectorize(binary_transform)\n",
        "y_pred = vfunc(pred)\n",
        "actual = x_test"
      ]
    },
    {
      "cell_type": "code",
      "execution_count": 272,
      "metadata": {
        "id": "a3MuHsl24KEp",
        "outputId": "4016ad8f-fe81-484a-9f68-c3c167117153",
        "colab": {
          "base_uri": "https://localhost:8080/",
          "height": 297
        }
      },
      "outputs": [
        {
          "output_type": "execute_result",
          "data": {
            "text/plain": [
              "<function matplotlib.pyplot.show>"
            ]
          },
          "metadata": {},
          "execution_count": 272
        },
        {
          "output_type": "display_data",
          "data": {
            "text/plain": [
              "<Figure size 432x288 with 2 Axes>"
            ],
            "image/png": "[encoded data removed]"
          },
          "metadata": {
            "needs_background": "light"
          }
        }
      ],
      "source": [
        "cm = confusion_matrix(y_test, y_pred)\n",
        "disp = ConfusionMatrixDisplay(confusion_matrix=cm,display_labels=class_names)\n",
        "disp.plot()\n",
        "plt.show"
      ]
    },
    {
      "cell_type": "code",
      "execution_count": 273,
      "metadata": {
        "id": "xsWVsk_w4KEq",
        "colab": {
          "base_uri": "https://localhost:8080/"
        },
        "outputId": "90fc87b1-14c0-4eac-9e67-8b379cdb3503"
      },
      "outputs": [
        {
          "output_type": "stream",
          "name": "stdout",
          "text": [
            "              precision    recall  f1-score   support\n",
            "\n",
            "      Hungry       0.85      0.93      0.89       128\n",
            "  Non_hungry       0.36      0.19      0.25        26\n",
            "\n",
            "    accuracy                           0.81       154\n",
            "   macro avg       0.60      0.56      0.57       154\n",
            "weighted avg       0.77      0.81      0.78       154\n",
            "\n"
          ]
        }
      ],
      "source": [
        "from sklearn.metrics import classification_report\n",
        "print(classification_report(y_test, y_pred,target_names=[\"Hungry\",\"Non_hungry\"]))"
      ]
    },
    {
      "cell_type": "code",
      "source": [
        "# Review model's progress\n",
        "plt.figure(figsize=(9,6))\n",
        "plt.plot(history.history['binary_accuracy'], label='Train accuracy')\n",
        "plt.plot(history.history['val_binary_accuracy'], label='Validation accuracy')\n",
        "plt.ylabel('Value')\n",
        "plt.xlabel('No. epoch')\n",
        "plt.legend()\n",
        "plt.show()"
      ],
      "metadata": {
        "id": "MICls6lpDG0E",
        "colab": {
          "base_uri": "https://localhost:8080/",
          "height": 388
        },
        "outputId": "8d90f675-fec4-4184-8219-1ec3654e8ca9"
      },
      "execution_count": 274,
      "outputs": [
        {
          "output_type": "display_data",
          "data": {
            "text/plain": [
              "<Figure size 648x432 with 1 Axes>"
            ],
            "image/png": "[encoded data removed]"
          },
          "metadata": {
            "needs_background": "light"
          }
        }
      ]
    },
    {
      "cell_type": "code",
      "source": [
        ""
      ],
      "metadata": {
        "id": "a3m27JraDWtT"
      },
      "execution_count": null,
      "outputs": []
    }
  ],
  "metadata": {
    "kernelspec": {
      "display_name": "Python 3 (ipykernel)",
      "language": "python",
      "name": "python3"
    },
    "language_info": {
      "codemirror_mode": {
        "name": "ipython",
        "version": 3
      },
      "file_extension": ".py",
      "mimetype": "text/x-python",
      "name": "python",
      "nbconvert_exporter": "python",
      "pygments_lexer": "ipython3",
      "version": "3.9.7"
    },
    "vscode": {
      "interpreter": {
        "hash": "23bf0724a01b6ea9814e66f76182ea78c0ee849a72ca257c0e116bf83bb4960a"
      }
    },
    "colab": {
      "name": "train_evaluate.ipynb",
      "provenance": [],
      "include_colab_link": true
    },
    "accelerator": "GPU",
    "gpuClass": "standard"
  },
  "nbformat": 4,
  "nbformat_minor": 0
}