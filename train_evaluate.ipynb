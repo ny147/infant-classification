{
 "cells": [
  {
   "cell_type": "code",
   "execution_count": 1,
   "metadata": {},
   "outputs": [],
   "source": [
    "import os\n",
    "import librosa, librosa.display\n",
    "import matplotlib.pyplot as plt\n",
    "from pathlib import Path\n",
    "import tensorflow as tf\n",
    "import IPython.display as ipd\n",
    "import numpy as np\n",
    "import shutil\n",
    "#import ftransc"
   ]
  },
  {
   "cell_type": "code",
   "execution_count": 40,
   "metadata": {},
   "outputs": [
    {
     "name": "stdout",
     "output_type": "stream",
     "text": [
      "Found 303 files belonging to 2 classes.\n",
      "Found 154 files belonging to 2 classes.\n",
      "['hungry', 'non_hungry']\n"
     ]
    }
   ],
   "source": [
    "\n",
    "train_directory = './data/mel_freq/train_oneclass/hungry_one'\n",
    "test_directory = './data/mel_freq/test_oneclass/hungry_one'\n",
    "#train_directory = './img_data/mel_spectrogram/train'\n",
    "#test_directory = './img_data/mel_spectrogram/test'\n",
    "\n",
    "train_ds = tf.keras.preprocessing.image_dataset_from_directory(\n",
    "    train_directory, labels='inferred', label_mode='int', image_size=(256, 256), seed=321,\n",
    "    validation_split=None, subset=None)\n",
    "\n",
    "test_ds = tf.keras.preprocessing.image_dataset_from_directory(\n",
    "    test_directory, labels='inferred', label_mode='int', image_size=(256, 256),\n",
    "    validation_split=None, subset=None)\n",
    "\n",
    "class_names = train_ds.class_names\n",
    "print(class_names)"
   ]
  },
  {
   "cell_type": "code",
   "execution_count": 41,
   "metadata": {},
   "outputs": [],
   "source": [
    "## create model"
   ]
  },
  {
   "cell_type": "code",
   "execution_count": 42,
   "metadata": {},
   "outputs": [],
   "source": [
    "from sklearn.metrics import confusion_matrix, ConfusionMatrixDisplay\n",
    "from keras.callbacks import ModelCheckpoint"
   ]
  },
  {
   "cell_type": "code",
   "execution_count": 43,
   "metadata": {},
   "outputs": [],
   "source": [
    "x_train=[]\n",
    "y_train=[]\n",
    "for images, labels in train_ds.unbatch().take(-1):\n",
    "    x_train.append(images.numpy())\n",
    "    y_train.append(labels.numpy())"
   ]
  },
  {
   "cell_type": "code",
   "execution_count": 44,
   "metadata": {},
   "outputs": [],
   "source": [
    "x_test=[]\n",
    "y_test=[]\n",
    "for images, labels in test_ds.unbatch().take(-1):\n",
    "    x_test.append(images.numpy())\n",
    "    y_test.append(labels.numpy())"
   ]
  },
  {
   "cell_type": "code",
   "execution_count": 45,
   "metadata": {},
   "outputs": [],
   "source": [
    "x_train = np.array(x_train)\n",
    "x_test = np.array(x_test)\n",
    "y_train = np.array(y_train)\n",
    "y_test = np.array(y_test)"
   ]
  },
  {
   "cell_type": "code",
   "execution_count": 46,
   "metadata": {},
   "outputs": [],
   "source": [
    "num_classes = 2\n",
    "img_height = 256\n",
    "img_width = 256\n",
    "def create_weight(n_sample,n_class,n_class_sample):\n",
    "    weight = n_sample/(n_class*n_class_sample)\n",
    "    return weight"
   ]
  },
  {
   "cell_type": "code",
   "execution_count": 47,
   "metadata": {},
   "outputs": [],
   "source": [
    "class_weights = {0:0, 1:0}\n",
    "class_count = np.array([254,49])\n",
    "for i in range(num_classes):\n",
    "    class_weights[i]=create_weight(303,num_classes,class_count[i])"
   ]
  },
  {
   "cell_type": "code",
   "execution_count": 67,
   "metadata": {},
   "outputs": [
    {
     "name": "stdout",
     "output_type": "stream",
     "text": [
      "Model: \"model_5\"\n",
      "_________________________________________________________________\n",
      " Layer (type)                Output Shape              Param #   \n",
      "=================================================================\n",
      " input_12 (InputLayer)       [(None, 256, 256, 3)]     0         \n",
      "                                                                 \n",
      " rescaling_6 (Rescaling)     (None, 256, 256, 3)       0         \n",
      "                                                                 \n",
      " tf.cast_5 (TFOpLambda)      (None, 256, 256, 3)       0         \n",
      "                                                                 \n",
      " resnet50v2 (Functional)     (None, 8, 8, 2048)        23564800  \n",
      "                                                                 \n",
      " global_average_pooling2d_5   (None, 2048)             0         \n",
      " (GlobalAveragePooling2D)                                        \n",
      "                                                                 \n",
      " dense_12 (Dense)            (None, 64)                131136    \n",
      "                                                                 \n",
      " dropout_7 (Dropout)         (None, 64)                0         \n",
      "                                                                 \n",
      " dense_13 (Dense)            (None, 1)                 65        \n",
      "                                                                 \n",
      "=================================================================\n",
      "Total params: 23,696,001\n",
      "Trainable params: 131,201\n",
      "Non-trainable params: 23,564,800\n",
      "_________________________________________________________________\n"
     ]
    }
   ],
   "source": [
    "base_model = tf.keras.applications.ResNet50V2(\n",
    "    weights=\"imagenet\",  # Load weights pre-trained on ImageNet.\n",
    "    input_shape=(img_height, img_width, 3),\n",
    "    include_top=False,\n",
    ") \n",
    "\n",
    "# Freeze the base_model\n",
    "base_model.trainable = False\n",
    "\n",
    "# Create new model on top\n",
    "inputs = tf.keras.Input(shape=(img_height, img_width, 3))\n",
    "\n",
    "scale_layer = tf.keras.layers.Rescaling(scale=1./255)\n",
    "x = scale_layer(inputs)\n",
    "\n",
    "x = tf.cast(x,tf.float32)\n",
    "\n",
    "x = base_model(x, training=False)\n",
    "x = tf.keras.layers.GlobalAveragePooling2D()(x)\n",
    "\n",
    "x = tf.keras.layers.Dense(64, activation='relu')(x)\n",
    "x = tf.keras.layers.Dropout(0.2)(x)  # Regularize with dropout\n",
    "outputs = tf.keras.layers.Dense(1,activation='sigmoid')(x)\n",
    "model = tf.keras.Model(inputs, outputs)\n",
    "\n",
    "model.summary()"
   ]
  },
  {
   "cell_type": "code",
   "execution_count": 75,
   "metadata": {},
   "outputs": [
    {
     "data": {
      "text/plain": [
       "\" #model = tf.keras.Sequential([\\n            tf.keras.layers.experimental.preprocessing.Rescaling(1./255, input_shape=(img_height, img_width, 3)),\\n            tf.keras.layers.Conv2D(256, 3, padding='same', activation='relu'),\\n            tf.keras.layers.MaxPooling2D((2,2)),\\n            tf.keras.layers.Dropout(0.2),\\n            tf.keras.layers.Conv2D(128, 3, padding='same', activation='relu'),            \\n            tf.keras.layers.MaxPooling2D((2,2)),\\n            tf.keras.layers.Dropout(0.2),\\n            tf.keras.layers.Conv2D(16, 3, padding='same', activation='relu'),\\n            tf.keras.layers.MaxPooling2D((2,2)),\\n            tf.keras.layers.Flatten(),\\n            tf.keras.layers.Dense(64, activation='relu'),\\n            tf.keras.layers.Dense(1, activation='sigmoid')\\n        ])\\nmodel.summary() \""
      ]
     },
     "execution_count": 75,
     "metadata": {},
     "output_type": "execute_result"
    }
   ],
   "source": [
    "''' #model = tf.keras.Sequential([\n",
    "            tf.keras.layers.experimental.preprocessing.Rescaling(1./255, input_shape=(img_height, img_width, 3)),\n",
    "            tf.keras.layers.Conv2D(256, 3, padding='same', activation='relu'),\n",
    "            tf.keras.layers.MaxPooling2D((2,2)),\n",
    "            tf.keras.layers.Dropout(0.2),\n",
    "            tf.keras.layers.Conv2D(128, 3, padding='same', activation='relu'),            \n",
    "            tf.keras.layers.MaxPooling2D((2,2)),\n",
    "            tf.keras.layers.Dropout(0.2),\n",
    "            tf.keras.layers.Conv2D(16, 3, padding='same', activation='relu'),\n",
    "            tf.keras.layers.MaxPooling2D((2,2)),\n",
    "            tf.keras.layers.Flatten(),\n",
    "            tf.keras.layers.Dense(64, activation='relu'),\n",
    "            tf.keras.layers.Dense(1, activation='sigmoid')\n",
    "        ])\n",
    "model.summary() '''"
   ]
  },
  {
   "cell_type": "code",
   "execution_count": 68,
   "metadata": {},
   "outputs": [],
   "source": [
    "#resnet \n",
    "#inception v3"
   ]
  },
  {
   "cell_type": "code",
   "execution_count": 69,
   "metadata": {},
   "outputs": [],
   "source": [
    "\n",
    "loss_fn = tf.keras.losses.BinaryCrossentropy(from_logits=True)\n",
    "optimizer = tf.keras.optimizers.Adam()# modify weight in Adam\n",
    "metrics = ['accuracy']\n",
    "model.compile (optimizer = optimizer,loss =  loss_fn,metrics = metrics)"
   ]
  },
  {
   "cell_type": "code",
   "execution_count": 70,
   "metadata": {},
   "outputs": [],
   "source": [
    "callback = tf.keras.callbacks.EarlyStopping(monitor='loss', patience=3)"
   ]
  },
  {
   "cell_type": "code",
   "execution_count": 71,
   "metadata": {},
   "outputs": [
    {
     "name": "stdout",
     "output_type": "stream",
     "text": [
      "Epoch 1/30\n",
      "7/7 [==============================] - 21s 3s/step - loss: 0.7825 - accuracy: 0.5991 - val_loss: 0.8098 - val_accuracy: 0.2527\n",
      "Epoch 2/30\n",
      "7/7 [==============================] - 14s 2s/step - loss: 0.7001 - accuracy: 0.2972 - val_loss: 0.6573 - val_accuracy: 0.5275\n",
      "Epoch 3/30\n",
      "7/7 [==============================] - 19s 3s/step - loss: 0.6402 - accuracy: 0.7028 - val_loss: 0.5672 - val_accuracy: 0.7363\n",
      "Epoch 4/30\n",
      "7/7 [==============================] - 18s 3s/step - loss: 0.5891 - accuracy: 0.6981 - val_loss: 0.6236 - val_accuracy: 0.6484\n",
      "Epoch 5/30\n",
      "7/7 [==============================] - 13s 2s/step - loss: 0.5850 - accuracy: 0.5613 - val_loss: 0.6089 - val_accuracy: 0.6044\n",
      "Epoch 6/30\n",
      "7/7 [==============================] - 14s 2s/step - loss: 0.5764 - accuracy: 0.7642 - val_loss: 0.5147 - val_accuracy: 0.7912\n",
      "Epoch 7/30\n",
      "7/7 [==============================] - 14s 2s/step - loss: 0.5285 - accuracy: 0.7406 - val_loss: 0.6009 - val_accuracy: 0.6374\n",
      "Epoch 8/30\n",
      "7/7 [==============================] - 13s 2s/step - loss: 0.5214 - accuracy: 0.6651 - val_loss: 0.5231 - val_accuracy: 0.7363\n",
      "Epoch 9/30\n",
      "7/7 [==============================] - 14s 2s/step - loss: 0.4919 - accuracy: 0.8349 - val_loss: 0.5102 - val_accuracy: 0.7802\n",
      "Epoch 10/30\n",
      "7/7 [==============================] - 14s 2s/step - loss: 0.4871 - accuracy: 0.7925 - val_loss: 0.6077 - val_accuracy: 0.6813\n",
      "Epoch 11/30\n",
      "7/7 [==============================] - 13s 2s/step - loss: 0.4687 - accuracy: 0.7500 - val_loss: 0.5167 - val_accuracy: 0.7253\n",
      "Epoch 12/30\n",
      "7/7 [==============================] - 12s 2s/step - loss: 0.4362 - accuracy: 0.8302 - val_loss: 0.5092 - val_accuracy: 0.7253\n",
      "Epoch 13/30\n",
      "7/7 [==============================] - 12s 2s/step - loss: 0.4233 - accuracy: 0.8632 - val_loss: 0.5114 - val_accuracy: 0.7143\n",
      "Epoch 14/30\n",
      "7/7 [==============================] - 12s 2s/step - loss: 0.4150 - accuracy: 0.8821 - val_loss: 0.5223 - val_accuracy: 0.7253\n",
      "Epoch 15/30\n",
      "7/7 [==============================] - 12s 2s/step - loss: 0.4076 - accuracy: 0.7689 - val_loss: 0.4783 - val_accuracy: 0.7363\n",
      "Epoch 16/30\n",
      "7/7 [==============================] - 12s 2s/step - loss: 0.3599 - accuracy: 0.8962 - val_loss: 0.4550 - val_accuracy: 0.7802\n",
      "Epoch 17/30\n",
      "7/7 [==============================] - 12s 2s/step - loss: 0.3411 - accuracy: 0.8774 - val_loss: 0.5182 - val_accuracy: 0.7143\n",
      "Epoch 18/30\n",
      "7/7 [==============================] - 12s 2s/step - loss: 0.3502 - accuracy: 0.8443 - val_loss: 0.4893 - val_accuracy: 0.7582\n",
      "Epoch 19/30\n",
      "7/7 [==============================] - 18s 3s/step - loss: 0.3231 - accuracy: 0.8726 - val_loss: 0.4481 - val_accuracy: 0.7912\n",
      "Epoch 20/30\n",
      "7/7 [==============================] - 14s 2s/step - loss: 0.2809 - accuracy: 0.9481 - val_loss: 0.4611 - val_accuracy: 0.7802\n",
      "Epoch 21/30\n",
      "7/7 [==============================] - 16s 2s/step - loss: 0.3000 - accuracy: 0.8774 - val_loss: 0.4395 - val_accuracy: 0.7912\n",
      "Epoch 22/30\n",
      "7/7 [==============================] - 19s 3s/step - loss: 0.2763 - accuracy: 0.9434 - val_loss: 0.4891 - val_accuracy: 0.7582\n",
      "Epoch 23/30\n",
      "7/7 [==============================] - 17s 3s/step - loss: 0.3013 - accuracy: 0.8349 - val_loss: 0.4208 - val_accuracy: 0.7802\n",
      "Epoch 24/30\n",
      "7/7 [==============================] - 17s 3s/step - loss: 0.2597 - accuracy: 0.9528 - val_loss: 0.4875 - val_accuracy: 0.7473\n",
      "Epoch 25/30\n",
      "7/7 [==============================] - 18s 3s/step - loss: 0.2373 - accuracy: 0.9104 - val_loss: 0.4133 - val_accuracy: 0.8132\n",
      "Epoch 26/30\n",
      "7/7 [==============================] - 18s 3s/step - loss: 0.2439 - accuracy: 0.9434 - val_loss: 0.4822 - val_accuracy: 0.7473\n",
      "Epoch 27/30\n",
      "7/7 [==============================] - 18s 3s/step - loss: 0.2222 - accuracy: 0.9434 - val_loss: 0.4456 - val_accuracy: 0.7802\n",
      "Epoch 28/30\n",
      "7/7 [==============================] - 18s 3s/step - loss: 0.2194 - accuracy: 0.9340 - val_loss: 0.4611 - val_accuracy: 0.7692\n",
      "Epoch 29/30\n",
      "7/7 [==============================] - 13s 2s/step - loss: 0.1967 - accuracy: 0.9528 - val_loss: 0.4233 - val_accuracy: 0.8022\n",
      "Epoch 30/30\n",
      "7/7 [==============================] - 13s 2s/step - loss: 0.2012 - accuracy: 0.9481 - val_loss: 0.4825 - val_accuracy: 0.7692\n"
     ]
    }
   ],
   "source": [
    "# Set the epocks\n",
    "# ทำ stop + validation\n",
    "epochs = 30\n",
    "history = model.fit(x_train, y_train, epochs=epochs,validation_split=0.3,class_weight = class_weights,callbacks=callback)\n",
    "\n",
    "#history = model.fit(x_train, y_train, epochs=epochs,validation_split=0.3)"
   ]
  },
  {
   "cell_type": "code",
   "execution_count": 72,
   "metadata": {},
   "outputs": [
    {
     "name": "stdout",
     "output_type": "stream",
     "text": [
      "Model: \"model_5\"\n",
      "_________________________________________________________________\n",
      " Layer (type)                Output Shape              Param #   \n",
      "=================================================================\n",
      " input_12 (InputLayer)       [(None, 256, 256, 3)]     0         \n",
      "                                                                 \n",
      " rescaling_6 (Rescaling)     (None, 256, 256, 3)       0         \n",
      "                                                                 \n",
      " tf.cast_5 (TFOpLambda)      (None, 256, 256, 3)       0         \n",
      "                                                                 \n",
      " resnet50v2 (Functional)     (None, 8, 8, 2048)        23564800  \n",
      "                                                                 \n",
      " global_average_pooling2d_5   (None, 2048)             0         \n",
      " (GlobalAveragePooling2D)                                        \n",
      "                                                                 \n",
      " dense_12 (Dense)            (None, 64)                131136    \n",
      "                                                                 \n",
      " dropout_7 (Dropout)         (None, 64)                0         \n",
      "                                                                 \n",
      " dense_13 (Dense)            (None, 1)                 65        \n",
      "                                                                 \n",
      "=================================================================\n",
      "Total params: 23,696,001\n",
      "Trainable params: 23,650,561\n",
      "Non-trainable params: 45,440\n",
      "_________________________________________________________________\n",
      "Epoch 1/15\n",
      "7/7 [==============================] - 50s 7s/step - loss: 2.0526 - binary_accuracy: 0.6651 - val_loss: 0.5902 - val_binary_accuracy: 0.7253\n",
      "Epoch 2/15\n",
      "7/7 [==============================] - 50s 7s/step - loss: 0.6721 - binary_accuracy: 0.6274 - val_loss: 0.5255 - val_binary_accuracy: 0.7692\n",
      "Epoch 3/15\n",
      "7/7 [==============================] - 60s 8s/step - loss: 0.6209 - binary_accuracy: 0.6698 - val_loss: 0.5528 - val_binary_accuracy: 0.7363\n",
      "Epoch 4/15\n",
      "7/7 [==============================] - 46s 7s/step - loss: 0.5452 - binary_accuracy: 0.6840 - val_loss: 0.4141 - val_binary_accuracy: 0.8352\n",
      "Epoch 5/15\n",
      "7/7 [==============================] - 49s 7s/step - loss: 0.5384 - binary_accuracy: 0.7406 - val_loss: 0.4301 - val_binary_accuracy: 0.8242\n",
      "Epoch 6/15\n",
      "7/7 [==============================] - 46s 7s/step - loss: 0.4633 - binary_accuracy: 0.8160 - val_loss: 0.3978 - val_binary_accuracy: 0.8352\n",
      "Epoch 7/15\n",
      "7/7 [==============================] - 46s 7s/step - loss: 0.2872 - binary_accuracy: 0.8868 - val_loss: 0.4533 - val_binary_accuracy: 0.7912\n",
      "Epoch 8/15\n",
      "7/7 [==============================] - 62s 9s/step - loss: 0.1933 - binary_accuracy: 0.9198 - val_loss: 0.5364 - val_binary_accuracy: 0.7363\n",
      "Epoch 9/15\n",
      "7/7 [==============================] - 50s 7s/step - loss: 0.2997 - binary_accuracy: 0.8821 - val_loss: 0.5770 - val_binary_accuracy: 0.6593\n",
      "Epoch 10/15\n",
      "7/7 [==============================] - 50s 7s/step - loss: 0.2857 - binary_accuracy: 0.8302 - val_loss: 0.4729 - val_binary_accuracy: 0.8352\n",
      "Epoch 11/15\n",
      "7/7 [==============================] - 55s 8s/step - loss: 0.4003 - binary_accuracy: 0.8491 - val_loss: 0.4286 - val_binary_accuracy: 0.7692\n"
     ]
    }
   ],
   "source": [
    "base_model.trainable = True\n",
    "model.summary()\n",
    "\n",
    "model.compile(\n",
    "    optimizer=tf.keras.optimizers.Adam(5e-5),  # Low learning rate\n",
    "    loss=tf.keras.losses.BinaryCrossentropy(from_logits=True),\n",
    "    metrics=[tf.keras.metrics.BinaryAccuracy()],\n",
    ")\n",
    "\n",
    "epochs = 15\n",
    "history = model.fit(x_train, y_train, epochs=epochs,validation_split=0.3,class_weight = class_weights,callbacks=callback)"
   ]
  },
  {
   "cell_type": "code",
   "execution_count": 73,
   "metadata": {},
   "outputs": [],
   "source": [
    "def binary_transform(pred):\n",
    "    if pred > 0.5:\n",
    "        predicted = 1\n",
    "    else:\n",
    "        predicted = 0\n",
    "    return predicted"
   ]
  },
  {
   "cell_type": "code",
   "execution_count": 74,
   "metadata": {},
   "outputs": [],
   "source": [
    "pred = model.predict(x_test)\n",
    "\n",
    "vfunc = np.vectorize(binary_transform)\n",
    "y_pred = vfunc(pred)\n",
    "actual = x_test"
   ]
  },
  {
   "cell_type": "code",
   "execution_count": 76,
   "metadata": {},
   "outputs": [
    {
     "data": {
      "text/plain": [
       "<function matplotlib.pyplot.show(*args, **kw)>"
      ]
     },
     "execution_count": 76,
     "metadata": {},
     "output_type": "execute_result"
    },
    {
     "data": {
      "image/png": "[encoded data removed]",
      "text/plain": [
       "<Figure size 432x288 with 2 Axes>"
      ]
     },
     "metadata": {
      "needs_background": "light"
     },
     "output_type": "display_data"
    }
   ],
   "source": [
    "cm = confusion_matrix(y_test, y_pred)\n",
    "disp = ConfusionMatrixDisplay(confusion_matrix=cm,display_labels=class_names)\n",
    "disp.plot()\n",
    "plt.show"
   ]
  },
  {
   "cell_type": "code",
   "execution_count": 77,
   "metadata": {},
   "outputs": [
    {
     "name": "stdout",
     "output_type": "stream",
     "text": [
      "              precision    recall  f1-score   support\n",
      "\n",
      "      Hungry       0.88      0.88      0.88       128\n",
      "  Non_hungry       0.42      0.42      0.42        26\n",
      "\n",
      "    accuracy                           0.81       154\n",
      "   macro avg       0.65      0.65      0.65       154\n",
      "weighted avg       0.81      0.81      0.81       154\n",
      "\n"
     ]
    }
   ],
   "source": [
    "from sklearn.metrics import classification_report\n",
    "print(classification_report(y_test, y_pred,target_names=[\"Hungry\",\"Non_hungry\"]))"
   ]
  },
  {
   "cell_type": "code",
   "execution_count": null,
   "metadata": {},
   "outputs": [],
   "source": []
  },
  {
   "cell_type": "code",
   "execution_count": null,
   "metadata": {},
   "outputs": [],
   "source": []
  }
 ],
 "metadata": {
  "kernelspec": {
   "display_name": "Python 3.7.6 ('base')",
   "language": "python",
   "name": "python3"
  },
  "language_info": {
   "codemirror_mode": {
    "name": "ipython",
    "version": 3
   },
   "file_extension": ".py",
   "mimetype": "text/x-python",
   "name": "python",
   "nbconvert_exporter": "python",
   "pygments_lexer": "ipython3",
   "version": "3.7.6"
  },
  "orig_nbformat": 4,
  "vscode": {
   "interpreter": {
    "hash": "23bf0724a01b6ea9814e66f76182ea78c0ee849a72ca257c0e116bf83bb4960a"
   }
  }
 },
 "nbformat": 4,
 "nbformat_minor": 2
}
