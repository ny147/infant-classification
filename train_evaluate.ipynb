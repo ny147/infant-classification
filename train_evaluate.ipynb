{
  "cells": [
    {
      "cell_type": "markdown",
      "metadata": {
        "id": "view-in-github",
        "colab_type": "text"
      },
      "source": [
        "<a href=\"https://colab.research.google.com/github/ny147/infant-classification/blob/pete/train_evaluate.ipynb\" target=\"_parent\"><img src=\"https://colab.research.google.com/assets/colab-badge.svg\" alt=\"Open In Colab\"/></a>"
      ]
    },
    {
      "cell_type": "code",
      "execution_count": 3,
      "metadata": {
        "id": "cpHscK9W4KEd"
      },
      "outputs": [],
      "source": [
        "import os\n",
        "import librosa, librosa.display\n",
        "import matplotlib.pyplot as plt\n",
        "from pathlib import Path\n",
        "import tensorflow as tf\n",
        "import IPython.display as ipd\n",
        "import numpy as np\n",
        "import shutil\n",
        "#import ftransc"
      ]
    },
    {
      "cell_type": "markdown",
      "source": [
        "# For Colab"
      ],
      "metadata": {
        "id": "kvNMNbwc5MmV"
      }
    },
    {
      "cell_type": "code",
      "source": [
        "from google.colab import drive\n",
        "drive.mount('/content/drive')\n",
        "path = \"/content/drive/MyDrive/Infant_cry\"\n",
        "train_directory = path + '/data_matlab/train/'\n",
        "test_directory = path + '/data_matlab/test/'"
      ],
      "metadata": {
        "colab": {
          "base_uri": "https://localhost:8080/"
        },
        "id": "r1P1SA9q4LFI",
        "outputId": "1314bdd2-adb7-450b-e889-448db2560cee"
      },
      "execution_count": 1,
      "outputs": [
        {
          "output_type": "stream",
          "name": "stdout",
          "text": [
            "Mounted at /content/drive\n"
          ]
        }
      ]
    },
    {
      "cell_type": "markdown",
      "source": [
        "# Local "
      ],
      "metadata": {
        "id": "k1BjHEUS5uZ2"
      }
    },
    {
      "cell_type": "code",
      "source": [
        "# train_directory = path + '/data_matlab/train/'\n",
        "# test_directory = path + '/data_matlab/test/'"
      ],
      "metadata": {
        "id": "R3-uUE3m5rWW"
      },
      "execution_count": null,
      "outputs": []
    },
    {
      "cell_type": "code",
      "execution_count": 4,
      "metadata": {
        "id": "FDsbZ0NX4KEg",
        "outputId": "c4e1082d-59dd-407a-b176-3b1d109c0890",
        "colab": {
          "base_uri": "https://localhost:8080/"
        }
      },
      "outputs": [
        {
          "output_type": "stream",
          "name": "stdout",
          "text": [
            "Found 306 files belonging to 2 classes.\n",
            "Found 151 files belonging to 2 classes.\n",
            "['hungry', 'non_hungry']\n"
          ]
        }
      ],
      "source": [
        "\n",
        "\n",
        "\n",
        "train_ds = tf.keras.preprocessing.image_dataset_from_directory(\n",
        "    train_directory, labels='inferred', label_mode='int', image_size=(256, 256), seed=321,\n",
        "    validation_split=None, subset=None)\n",
        "\n",
        "test_ds = tf.keras.preprocessing.image_dataset_from_directory(\n",
        "    test_directory, labels='inferred', label_mode='int', image_size=(256, 256),\n",
        "    validation_split=None, subset=None)\n",
        "\n",
        "class_names = train_ds.class_names\n",
        "print(class_names)"
      ]
    },
    {
      "cell_type": "code",
      "execution_count": null,
      "metadata": {
        "id": "hMp3ZErr4KEi"
      },
      "outputs": [],
      "source": [
        "## create model"
      ]
    },
    {
      "cell_type": "code",
      "execution_count": 5,
      "metadata": {
        "id": "WRnYz0BQ4KEi"
      },
      "outputs": [],
      "source": [
        "from sklearn.metrics import confusion_matrix, ConfusionMatrixDisplay\n",
        "from keras.callbacks import ModelCheckpoint"
      ]
    },
    {
      "cell_type": "code",
      "execution_count": 6,
      "metadata": {
        "id": "SGjcs6ok4KEj"
      },
      "outputs": [],
      "source": [
        "x_train=[]\n",
        "y_train=[]\n",
        "for images, labels in train_ds.unbatch().take(-1):\n",
        "    x_train.append(images.numpy())\n",
        "    y_train.append(labels.numpy())"
      ]
    },
    {
      "cell_type": "code",
      "execution_count": 7,
      "metadata": {
        "id": "52Syhv1s4KEj"
      },
      "outputs": [],
      "source": [
        "x_test=[]\n",
        "y_test=[]\n",
        "for images, labels in test_ds.unbatch().take(-1):\n",
        "    x_test.append(images.numpy())\n",
        "    y_test.append(labels.numpy())"
      ]
    },
    {
      "cell_type": "code",
      "execution_count": 8,
      "metadata": {
        "id": "pTeqzMX54KEk"
      },
      "outputs": [],
      "source": [
        "x_train = np.array(x_train)\n",
        "x_test = np.array(x_test)\n",
        "y_train = np.array(y_train)\n",
        "y_test = np.array(y_test)"
      ]
    },
    {
      "cell_type": "code",
      "execution_count": 9,
      "metadata": {
        "id": "KuLx5bbv4KEk"
      },
      "outputs": [],
      "source": [
        "num_classes = 2\n",
        "img_height = 256\n",
        "img_width = 256\n",
        "def create_weight(n_sample,n_class,n_class_sample):\n",
        "    weight = n_sample/(n_class*n_class_sample)\n",
        "    return weight"
      ]
    },
    {
      "cell_type": "code",
      "execution_count": 15,
      "metadata": {
        "id": "_PLcfLrI4KEl"
      },
      "outputs": [],
      "source": [
        "class_weights = {0:0, 1:0}\n",
        "class_count = np.array([255,51])\n",
        "for i in range(num_classes):\n",
        "    class_weights[i]=create_weight(306,num_classes,class_count[i])"
      ]
    },
    {
      "cell_type": "code",
      "execution_count": 17,
      "metadata": {
        "id": "CXXvqKtk4KEl",
        "outputId": "aeaf6261-912b-4fa1-b612-29deb83487be",
        "colab": {
          "base_uri": "https://localhost:8080/"
        }
      },
      "outputs": [
        {
          "output_type": "stream",
          "name": "stdout",
          "text": [
            "Model: \"model_2\"\n",
            "_________________________________________________________________\n",
            " Layer (type)                Output Shape              Param #   \n",
            "=================================================================\n",
            " input_6 (InputLayer)        [(None, 256, 256, 3)]     0         \n",
            "                                                                 \n",
            " rescaling_3 (Rescaling)     (None, 256, 256, 3)       0         \n",
            "                                                                 \n",
            " tf.cast_2 (TFOpLambda)      (None, 256, 256, 3)       0         \n",
            "                                                                 \n",
            " xception (Functional)       (None, 8, 8, 2048)        20861480  \n",
            "                                                                 \n",
            " global_average_pooling2d_2   (None, 2048)             0         \n",
            " (GlobalAveragePooling2D)                                        \n",
            "                                                                 \n",
            " dropout_4 (Dropout)         (None, 2048)              0         \n",
            "                                                                 \n",
            " dense_4 (Dense)             (None, 1)                 2049      \n",
            "                                                                 \n",
            " activation_2 (Activation)   (None, 1)                 0         \n",
            "                                                                 \n",
            "=================================================================\n",
            "Total params: 20,863,529\n",
            "Trainable params: 2,049\n",
            "Non-trainable params: 20,861,480\n",
            "_________________________________________________________________\n"
          ]
        }
      ],
      "source": [
        "base_model = tf.keras.applications.Xception(\n",
        "    weights=\"imagenet\",  # Load weights pre-trained on ImageNet.\n",
        "    input_shape=(img_height, img_width, 3),\n",
        "    include_top=False,\n",
        ")  # Do not include the ImageNet classifier at the top.\n",
        "\n",
        "# Freeze the base_model\n",
        "base_model.trainable = False\n",
        "\n",
        "# Create new model on top\n",
        "inputs = tf.keras.Input(shape=(img_height, img_width, 3))\n",
        "#x = data_augmentation(inputs)  # Apply random data augmentation\n",
        "\n",
        "# Pre-trained Xception weights requires that input be scaled\n",
        "# from (0, 255) to a range of (-1., +1.), the rescaling layer\n",
        "# outputs: `(inputs * scale) + offset`\n",
        "scale_layer = tf.keras.layers.Rescaling(scale=1./255)\n",
        "x = scale_layer(inputs)\n",
        "\n",
        "x = tf.cast(x,tf.float32)\n",
        "# The base model contains batchnorm layers. We want to keep them in inference mode\n",
        "# when we unfreeze the base model for fine-tuning, so we make sure that the\n",
        "# base_model is running in inference mode here.\n",
        "x = base_model(x, training=False)\n",
        "x = tf.keras.layers.GlobalAveragePooling2D()(x)\n",
        "x = tf.keras.layers.Dropout(0.2)(x)  # Regularize with dropout\n",
        "# x = tf.keras.layers.Dense(64, activation='relu')(x)\n",
        "outputs = tf.keras.layers.Dense(1)(x)\n",
        "outputs = tf.keras.layers.Activation('sigmoid')(outputs)\n",
        "model = tf.keras.Model(inputs, outputs)\n",
        "\n",
        "model.summary()"
      ]
    },
    {
      "cell_type": "code",
      "execution_count": 18,
      "metadata": {
        "id": "5mS95CLp4KEm",
        "outputId": "b69e94d6-7bd0-4a7c-d92e-5b10dfc2ea5e",
        "colab": {
          "base_uri": "https://localhost:8080/"
        }
      },
      "outputs": [
        {
          "output_type": "stream",
          "name": "stdout",
          "text": [
            "Model: \"sequential_1\"\n",
            "_________________________________________________________________\n",
            " Layer (type)                Output Shape              Param #   \n",
            "=================================================================\n",
            " rescaling_4 (Rescaling)     (None, 256, 256, 3)       0         \n",
            "                                                                 \n",
            " conv2d_15 (Conv2D)          (None, 256, 256, 256)     7168      \n",
            "                                                                 \n",
            " max_pooling2d_3 (MaxPooling  (None, 128, 128, 256)    0         \n",
            " 2D)                                                             \n",
            "                                                                 \n",
            " dropout_5 (Dropout)         (None, 128, 128, 256)     0         \n",
            "                                                                 \n",
            " conv2d_16 (Conv2D)          (None, 128, 128, 128)     295040    \n",
            "                                                                 \n",
            " max_pooling2d_4 (MaxPooling  (None, 64, 64, 128)      0         \n",
            " 2D)                                                             \n",
            "                                                                 \n",
            " dropout_6 (Dropout)         (None, 64, 64, 128)       0         \n",
            "                                                                 \n",
            " conv2d_17 (Conv2D)          (None, 64, 64, 16)        18448     \n",
            "                                                                 \n",
            " max_pooling2d_5 (MaxPooling  (None, 32, 32, 16)       0         \n",
            " 2D)                                                             \n",
            "                                                                 \n",
            " flatten_1 (Flatten)         (None, 16384)             0         \n",
            "                                                                 \n",
            " dense_5 (Dense)             (None, 64)                1048640   \n",
            "                                                                 \n",
            " dense_6 (Dense)             (None, 1)                 65        \n",
            "                                                                 \n",
            "=================================================================\n",
            "Total params: 1,369,361\n",
            "Trainable params: 1,369,361\n",
            "Non-trainable params: 0\n",
            "_________________________________________________________________\n"
          ]
        }
      ],
      "source": [
        "model = tf.keras.Sequential([\n",
        "            tf.keras.layers.experimental.preprocessing.Rescaling(1./255, input_shape=(img_height, img_width, 3)),\n",
        "            tf.keras.layers.Conv2D(256, 3, padding='same', activation='relu'),\n",
        "            tf.keras.layers.MaxPooling2D((2,2)),\n",
        "            tf.keras.layers.Dropout(0.2),\n",
        "            tf.keras.layers.Conv2D(128, 3, padding='same', activation='relu'),            \n",
        "            tf.keras.layers.MaxPooling2D((2,2)),\n",
        "            tf.keras.layers.Dropout(0.2),\n",
        "            tf.keras.layers.Conv2D(16, 3, padding='same', activation='relu'),\n",
        "            tf.keras.layers.MaxPooling2D((2,2)),\n",
        "            tf.keras.layers.Flatten(),\n",
        "            tf.keras.layers.Dense(64, activation='relu'),\n",
        "            tf.keras.layers.Dense(1, activation='sigmoid')\n",
        "        ])\n",
        "model.summary()"
      ]
    },
    {
      "cell_type": "code",
      "execution_count": null,
      "metadata": {
        "id": "ENIr5nXA4KEn"
      },
      "outputs": [],
      "source": [
        "#resnet \n",
        "#inception v3"
      ]
    },
    {
      "cell_type": "code",
      "execution_count": 21,
      "metadata": {
        "id": "B-6CMHob4KEo"
      },
      "outputs": [],
      "source": [
        "\n",
        "loss_fn = tf.keras.losses.BinaryCrossentropy(from_logits=True)\n",
        "optimizer = tf.keras.optimizers.Adam()# modify weight in Adam\n",
        "metrics = ['accuracy']\n",
        "model.compile (optimizer = optimizer,loss =  loss_fn,metrics = metrics)"
      ]
    },
    {
      "cell_type": "code",
      "execution_count": 22,
      "metadata": {
        "id": "2I_oiDJ94KEo",
        "outputId": "81cb0ada-4653-4f3f-89a2-c2b42ba42a1f",
        "colab": {
          "base_uri": "https://localhost:8080/"
        }
      },
      "outputs": [
        {
          "output_type": "stream",
          "name": "stdout",
          "text": [
            "Epoch 1/30\n"
          ]
        },
        {
          "output_type": "stream",
          "name": "stderr",
          "text": [
            "/usr/local/lib/python3.7/dist-packages/tensorflow/python/util/dispatch.py:1082: UserWarning: \"`binary_crossentropy` received `from_logits=True`, but the `output` argument was produced by a sigmoid or softmax activation and thus does not represent logits. Was this intended?\"\n",
            "  return dispatch_target(*args, **kwargs)\n"
          ]
        },
        {
          "output_type": "stream",
          "name": "stdout",
          "text": [
            "7/7 [==============================] - 4s 395ms/step - loss: 0.6734 - accuracy: 0.4860 - val_loss: 0.6812 - val_accuracy: 0.5000\n",
            "Epoch 2/30\n",
            "7/7 [==============================] - 3s 369ms/step - loss: 0.6561 - accuracy: 0.5000 - val_loss: 0.6972 - val_accuracy: 0.4130\n",
            "Epoch 3/30\n",
            "7/7 [==============================] - 3s 368ms/step - loss: 0.6167 - accuracy: 0.6402 - val_loss: 0.6306 - val_accuracy: 0.5978\n",
            "Epoch 4/30\n",
            "7/7 [==============================] - 3s 372ms/step - loss: 0.6184 - accuracy: 0.6682 - val_loss: 0.6671 - val_accuracy: 0.5543\n",
            "Epoch 5/30\n",
            "7/7 [==============================] - 3s 368ms/step - loss: 0.6109 - accuracy: 0.6729 - val_loss: 0.6936 - val_accuracy: 0.5000\n",
            "Epoch 6/30\n",
            "7/7 [==============================] - 3s 372ms/step - loss: 0.5858 - accuracy: 0.6776 - val_loss: 0.7017 - val_accuracy: 0.4891\n",
            "Epoch 7/30\n",
            "7/7 [==============================] - 3s 373ms/step - loss: 0.5432 - accuracy: 0.7290 - val_loss: 0.7206 - val_accuracy: 0.5543\n",
            "Epoch 8/30\n",
            "7/7 [==============================] - 3s 373ms/step - loss: 0.5226 - accuracy: 0.7009 - val_loss: 0.6438 - val_accuracy: 0.6848\n",
            "Epoch 9/30\n",
            "7/7 [==============================] - 3s 375ms/step - loss: 0.5147 - accuracy: 0.7617 - val_loss: 0.7940 - val_accuracy: 0.5000\n",
            "Epoch 10/30\n",
            "7/7 [==============================] - 3s 371ms/step - loss: 0.4176 - accuracy: 0.7336 - val_loss: 0.7588 - val_accuracy: 0.5978\n",
            "Epoch 11/30\n",
            "7/7 [==============================] - 3s 375ms/step - loss: 0.2992 - accuracy: 0.8598 - val_loss: 0.7257 - val_accuracy: 0.7174\n",
            "Epoch 12/30\n",
            "7/7 [==============================] - 3s 376ms/step - loss: 0.2912 - accuracy: 0.8645 - val_loss: 1.0590 - val_accuracy: 0.5761\n",
            "Epoch 13/30\n",
            "7/7 [==============================] - 3s 376ms/step - loss: 0.1854 - accuracy: 0.8972 - val_loss: 0.8391 - val_accuracy: 0.6848\n",
            "Epoch 14/30\n",
            "7/7 [==============================] - 3s 373ms/step - loss: 0.1871 - accuracy: 0.9299 - val_loss: 1.0714 - val_accuracy: 0.6304\n",
            "Epoch 15/30\n",
            "7/7 [==============================] - 3s 379ms/step - loss: 0.1363 - accuracy: 0.9252 - val_loss: 0.9034 - val_accuracy: 0.6957\n",
            "Epoch 16/30\n",
            "7/7 [==============================] - 3s 378ms/step - loss: 0.1669 - accuracy: 0.9486 - val_loss: 0.9782 - val_accuracy: 0.6304\n",
            "Epoch 17/30\n",
            "7/7 [==============================] - 3s 371ms/step - loss: 0.1432 - accuracy: 0.9206 - val_loss: 1.0903 - val_accuracy: 0.5978\n",
            "Epoch 18/30\n",
            "7/7 [==============================] - 3s 372ms/step - loss: 0.0724 - accuracy: 0.9720 - val_loss: 1.1237 - val_accuracy: 0.7065\n",
            "Epoch 19/30\n",
            "7/7 [==============================] - 3s 372ms/step - loss: 0.0365 - accuracy: 0.9907 - val_loss: 1.3498 - val_accuracy: 0.7391\n",
            "Epoch 20/30\n",
            "7/7 [==============================] - 3s 371ms/step - loss: 0.0247 - accuracy: 0.9907 - val_loss: 1.4837 - val_accuracy: 0.6957\n",
            "Epoch 21/30\n",
            "7/7 [==============================] - 3s 373ms/step - loss: 0.0226 - accuracy: 0.9860 - val_loss: 1.4095 - val_accuracy: 0.7500\n",
            "Epoch 22/30\n",
            "7/7 [==============================] - 3s 371ms/step - loss: 0.0060 - accuracy: 1.0000 - val_loss: 1.4351 - val_accuracy: 0.7500\n",
            "Epoch 23/30\n",
            "7/7 [==============================] - 3s 372ms/step - loss: 0.0114 - accuracy: 0.9953 - val_loss: 1.4777 - val_accuracy: 0.7500\n",
            "Epoch 24/30\n",
            "7/7 [==============================] - 3s 369ms/step - loss: 0.0051 - accuracy: 1.0000 - val_loss: 1.5191 - val_accuracy: 0.7609\n",
            "Epoch 25/30\n",
            "7/7 [==============================] - 3s 371ms/step - loss: 0.0038 - accuracy: 1.0000 - val_loss: 1.6245 - val_accuracy: 0.7609\n",
            "Epoch 26/30\n",
            "7/7 [==============================] - 3s 367ms/step - loss: 0.0030 - accuracy: 1.0000 - val_loss: 1.7076 - val_accuracy: 0.7500\n",
            "Epoch 27/30\n",
            "7/7 [==============================] - 3s 370ms/step - loss: 0.0069 - accuracy: 0.9953 - val_loss: 1.6563 - val_accuracy: 0.7500\n",
            "Epoch 28/30\n",
            "7/7 [==============================] - 3s 370ms/step - loss: 0.0030 - accuracy: 1.0000 - val_loss: 1.7195 - val_accuracy: 0.7609\n",
            "Epoch 29/30\n",
            "7/7 [==============================] - 3s 369ms/step - loss: 0.0012 - accuracy: 1.0000 - val_loss: 1.8028 - val_accuracy: 0.7717\n",
            "Epoch 30/30\n",
            "7/7 [==============================] - 3s 369ms/step - loss: 0.0027 - accuracy: 1.0000 - val_loss: 1.8839 - val_accuracy: 0.7826\n"
          ]
        }
      ],
      "source": [
        "# Set the epocks\n",
        "# ทำ stop + validation\n",
        "epochs = 30\n",
        "history = model.fit(x_train, y_train, epochs=epochs,validation_split=0.3,class_weight = class_weights)\n",
        "\n",
        "#history = model.fit(x_train, y_train, epochs=epochs,validation_split=0.3)"
      ]
    },
    {
      "cell_type": "code",
      "execution_count": 23,
      "metadata": {
        "id": "G9oorLuK4KEo",
        "outputId": "5a325024-edec-4447-8f03-fab1565eb29c",
        "colab": {
          "base_uri": "https://localhost:8080/"
        }
      },
      "outputs": [
        {
          "output_type": "stream",
          "name": "stdout",
          "text": [
            "Model: \"sequential_1\"\n",
            "_________________________________________________________________\n",
            " Layer (type)                Output Shape              Param #   \n",
            "=================================================================\n",
            " rescaling_4 (Rescaling)     (None, 256, 256, 3)       0         \n",
            "                                                                 \n",
            " conv2d_15 (Conv2D)          (None, 256, 256, 256)     7168      \n",
            "                                                                 \n",
            " max_pooling2d_3 (MaxPooling  (None, 128, 128, 256)    0         \n",
            " 2D)                                                             \n",
            "                                                                 \n",
            " dropout_5 (Dropout)         (None, 128, 128, 256)     0         \n",
            "                                                                 \n",
            " conv2d_16 (Conv2D)          (None, 128, 128, 128)     295040    \n",
            "                                                                 \n",
            " max_pooling2d_4 (MaxPooling  (None, 64, 64, 128)      0         \n",
            " 2D)                                                             \n",
            "                                                                 \n",
            " dropout_6 (Dropout)         (None, 64, 64, 128)       0         \n",
            "                                                                 \n",
            " conv2d_17 (Conv2D)          (None, 64, 64, 16)        18448     \n",
            "                                                                 \n",
            " max_pooling2d_5 (MaxPooling  (None, 32, 32, 16)       0         \n",
            " 2D)                                                             \n",
            "                                                                 \n",
            " flatten_1 (Flatten)         (None, 16384)             0         \n",
            "                                                                 \n",
            " dense_5 (Dense)             (None, 64)                1048640   \n",
            "                                                                 \n",
            " dense_6 (Dense)             (None, 1)                 65        \n",
            "                                                                 \n",
            "=================================================================\n",
            "Total params: 1,369,361\n",
            "Trainable params: 1,369,361\n",
            "Non-trainable params: 0\n",
            "_________________________________________________________________\n",
            "Epoch 1/15\n"
          ]
        },
        {
          "output_type": "stream",
          "name": "stderr",
          "text": [
            "/usr/local/lib/python3.7/dist-packages/tensorflow/python/util/dispatch.py:1082: UserWarning: \"`binary_crossentropy` received `from_logits=True`, but the `output` argument was produced by a sigmoid or softmax activation and thus does not represent logits. Was this intended?\"\n",
            "  return dispatch_target(*args, **kwargs)\n"
          ]
        },
        {
          "output_type": "stream",
          "name": "stdout",
          "text": [
            "7/7 [==============================] - 3s 398ms/step - loss: 0.0014 - binary_accuracy: 1.0000 - val_loss: 1.8902 - val_binary_accuracy: 0.7717\n",
            "Epoch 2/15\n",
            "7/7 [==============================] - 3s 368ms/step - loss: 0.0013 - binary_accuracy: 1.0000 - val_loss: 1.8974 - val_binary_accuracy: 0.7717\n",
            "Epoch 3/15\n",
            "7/7 [==============================] - 3s 369ms/step - loss: 5.0138e-04 - binary_accuracy: 1.0000 - val_loss: 1.9053 - val_binary_accuracy: 0.7609\n",
            "Epoch 4/15\n",
            "7/7 [==============================] - 3s 369ms/step - loss: 0.0049 - binary_accuracy: 0.9953 - val_loss: 1.9045 - val_binary_accuracy: 0.7717\n",
            "Epoch 5/15\n",
            "7/7 [==============================] - 3s 370ms/step - loss: 0.0019 - binary_accuracy: 1.0000 - val_loss: 1.9048 - val_binary_accuracy: 0.7717\n",
            "Epoch 6/15\n",
            "7/7 [==============================] - 3s 370ms/step - loss: 0.0021 - binary_accuracy: 1.0000 - val_loss: 1.9081 - val_binary_accuracy: 0.7717\n",
            "Epoch 7/15\n",
            "7/7 [==============================] - 3s 370ms/step - loss: 0.0018 - binary_accuracy: 1.0000 - val_loss: 1.9112 - val_binary_accuracy: 0.7609\n",
            "Epoch 8/15\n",
            "7/7 [==============================] - 3s 371ms/step - loss: 0.0025 - binary_accuracy: 1.0000 - val_loss: 1.9150 - val_binary_accuracy: 0.7500\n",
            "Epoch 9/15\n",
            "7/7 [==============================] - 3s 373ms/step - loss: 8.3627e-04 - binary_accuracy: 1.0000 - val_loss: 1.9188 - val_binary_accuracy: 0.7500\n",
            "Epoch 10/15\n",
            "7/7 [==============================] - 3s 373ms/step - loss: 6.0106e-04 - binary_accuracy: 1.0000 - val_loss: 1.9222 - val_binary_accuracy: 0.7500\n",
            "Epoch 11/15\n",
            "7/7 [==============================] - 3s 372ms/step - loss: 0.0023 - binary_accuracy: 1.0000 - val_loss: 1.9257 - val_binary_accuracy: 0.7500\n",
            "Epoch 12/15\n",
            "7/7 [==============================] - 3s 371ms/step - loss: 0.0016 - binary_accuracy: 1.0000 - val_loss: 1.9297 - val_binary_accuracy: 0.7500\n",
            "Epoch 13/15\n",
            "7/7 [==============================] - 3s 374ms/step - loss: 4.9754e-04 - binary_accuracy: 1.0000 - val_loss: 1.9330 - val_binary_accuracy: 0.7500\n",
            "Epoch 14/15\n",
            "7/7 [==============================] - 3s 372ms/step - loss: 8.9244e-04 - binary_accuracy: 1.0000 - val_loss: 1.9347 - val_binary_accuracy: 0.7500\n",
            "Epoch 15/15\n",
            "7/7 [==============================] - 3s 372ms/step - loss: 0.0014 - binary_accuracy: 1.0000 - val_loss: 1.9357 - val_binary_accuracy: 0.7500\n"
          ]
        }
      ],
      "source": [
        "base_model.trainable = True\n",
        "model.summary()\n",
        "\n",
        "model.compile(\n",
        "    optimizer=tf.keras.optimizers.Adam(1e-5),  # Low learning rate\n",
        "    loss=tf.keras.losses.BinaryCrossentropy(from_logits=True),\n",
        "    metrics=[tf.keras.metrics.BinaryAccuracy()],\n",
        ")\n",
        "\n",
        "epochs = 15\n",
        "history = model.fit(x_train, y_train, epochs=epochs,validation_split=0.3,class_weight = class_weights)"
      ]
    },
    {
      "cell_type": "code",
      "execution_count": 24,
      "metadata": {
        "id": "cQ7QKhSO4KEp"
      },
      "outputs": [],
      "source": [
        "def binary_transform(pred):\n",
        "    if pred > 0.5:\n",
        "        predicted = 1\n",
        "    else:\n",
        "        predicted = 0\n",
        "    return predicted"
      ]
    },
    {
      "cell_type": "code",
      "execution_count": 25,
      "metadata": {
        "id": "NTHyhXUb4KEp"
      },
      "outputs": [],
      "source": [
        "pred = model.predict(x_test)\n",
        "\n",
        "vfunc = np.vectorize(binary_transform)\n",
        "y_pred = vfunc(pred)\n",
        "actual = x_test"
      ]
    },
    {
      "cell_type": "code",
      "execution_count": 26,
      "metadata": {
        "id": "a3MuHsl24KEp",
        "outputId": "c6efbea1-d1e0-4d5a-803a-8937bd56e76a",
        "colab": {
          "base_uri": "https://localhost:8080/",
          "height": 297
        }
      },
      "outputs": [
        {
          "output_type": "execute_result",
          "data": {
            "text/plain": [
              "<function matplotlib.pyplot.show>"
            ]
          },
          "metadata": {},
          "execution_count": 26
        },
        {
          "output_type": "display_data",
          "data": {
            "text/plain": [
              "<Figure size 432x288 with 2 Axes>"
            ],
            "image/png": "[encoded data removed]"
          },
          "metadata": {
            "needs_background": "light"
          }
        }
      ],
      "source": [
        "cm = confusion_matrix(y_test, y_pred)\n",
        "disp = ConfusionMatrixDisplay(confusion_matrix=cm,display_labels=class_names)\n",
        "disp.plot()\n",
        "plt.show"
      ]
    },
    {
      "cell_type": "code",
      "execution_count": 26,
      "metadata": {
        "id": "xsWVsk_w4KEq"
      },
      "outputs": [],
      "source": [
        ""
      ]
    },
    {
      "cell_type": "code",
      "execution_count": null,
      "metadata": {
        "id": "SbdIq4kD4KEq"
      },
      "outputs": [],
      "source": [
        ""
      ]
    }
  ],
  "metadata": {
    "kernelspec": {
      "display_name": "Python 3 (ipykernel)",
      "language": "python",
      "name": "python3"
    },
    "language_info": {
      "codemirror_mode": {
        "name": "ipython",
        "version": 3
      },
      "file_extension": ".py",
      "mimetype": "text/x-python",
      "name": "python",
      "nbconvert_exporter": "python",
      "pygments_lexer": "ipython3",
      "version": "3.9.7"
    },
    "vscode": {
      "interpreter": {
        "hash": "23bf0724a01b6ea9814e66f76182ea78c0ee849a72ca257c0e116bf83bb4960a"
      }
    },
    "colab": {
      "name": "train_evaluate.ipynb",
      "provenance": [],
      "include_colab_link": true
    },
    "accelerator": "GPU",
    "gpuClass": "standard"
  },
  "nbformat": 4,
  "nbformat_minor": 0
}