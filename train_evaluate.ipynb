{
  "cells": [
    {
      "cell_type": "markdown",
      "metadata": {
        "id": "view-in-github",
        "colab_type": "text"
      },
      "source": [
        "<a href=\"https://colab.research.google.com/github/ny147/infant-classification/blob/pete/train_evaluate.ipynb\" target=\"_parent\"><img src=\"https://colab.research.google.com/assets/colab-badge.svg\" alt=\"Open In Colab\"/></a>"
      ]
    },
    {
      "cell_type": "code",
      "execution_count": 1,
      "metadata": {
        "id": "cpHscK9W4KEd",
        "colab": {
          "base_uri": "https://localhost:8080/"
        },
        "outputId": "32ec61dd-e9d5-4b79-d88e-32636be490d0"
      },
      "outputs": [
        {
          "output_type": "stream",
          "name": "stderr",
          "text": [
            "/usr/local/lib/python3.7/dist-packages/resampy/interpn.py:114: NumbaWarning: The TBB threading layer requires TBB version 2019.5 or later i.e., TBB_INTERFACE_VERSION >= 11005. Found TBB_INTERFACE_VERSION = 9107. The TBB threading layer is disabled.\n",
            "  _resample_loop_p(x, t_out, interp_win, interp_delta, num_table, scale, y)\n"
          ]
        }
      ],
      "source": [
        "import os\n",
        "import librosa, librosa.display\n",
        "import matplotlib.pyplot as plt\n",
        "from pathlib import Path\n",
        "import tensorflow as tf\n",
        "import IPython.display as ipd\n",
        "import numpy as np\n",
        "import shutil\n",
        "#import ftransc"
      ]
    },
    {
      "cell_type": "markdown",
      "source": [
        "# For Colab"
      ],
      "metadata": {
        "id": "kvNMNbwc5MmV"
      }
    },
    {
      "cell_type": "code",
      "source": [
        "from google.colab import drive\n",
        "drive.mount('/content/drive')\n",
        "path = \"/content/drive/MyDrive/Infant_cry\"\n",
        "train_directory = path + '/mel_spectrogram/train_oneclass/hungry_one'\n",
        "test_directory = path + '/mel_spectrogram/test_oneclass/hungry_one'"
      ],
      "metadata": {
        "colab": {
          "base_uri": "https://localhost:8080/"
        },
        "id": "r1P1SA9q4LFI",
        "outputId": "2218106d-d503-4fef-e8f1-c59767b122ce"
      },
      "execution_count": 3,
      "outputs": [
        {
          "output_type": "stream",
          "name": "stdout",
          "text": [
            "Drive already mounted at /content/drive; to attempt to forcibly remount, call drive.mount(\"/content/drive\", force_remount=True).\n"
          ]
        }
      ]
    },
    {
      "cell_type": "markdown",
      "source": [
        "# Local "
      ],
      "metadata": {
        "id": "k1BjHEUS5uZ2"
      }
    },
    {
      "cell_type": "code",
      "source": [
        "# train_directory = path + '/data_matlab/train/'\n",
        "# test_directory = path + '/data_matlab/test/'"
      ],
      "metadata": {
        "id": "R3-uUE3m5rWW"
      },
      "execution_count": null,
      "outputs": []
    },
    {
      "cell_type": "code",
      "execution_count": 4,
      "metadata": {
        "id": "FDsbZ0NX4KEg",
        "outputId": "6961c691-ba40-4a89-d239-7db592d57bd5",
        "colab": {
          "base_uri": "https://localhost:8080/"
        }
      },
      "outputs": [
        {
          "output_type": "stream",
          "name": "stdout",
          "text": [
            "Found 303 files belonging to 2 classes.\n",
            "Found 154 files belonging to 2 classes.\n",
            "['hungry', 'non_hungry']\n"
          ]
        }
      ],
      "source": [
        "\n",
        "\n",
        "\n",
        "train_ds = tf.keras.preprocessing.image_dataset_from_directory(\n",
        "    train_directory, labels='inferred', label_mode='int', image_size=(256, 256), seed=321,\n",
        "    validation_split=None, subset=None)\n",
        "\n",
        "test_ds = tf.keras.preprocessing.image_dataset_from_directory(\n",
        "    test_directory, labels='inferred', label_mode='int', image_size=(256, 256),\n",
        "    validation_split=None, subset=None)\n",
        "\n",
        "class_names = train_ds.class_names\n",
        "print(class_names)"
      ]
    },
    {
      "cell_type": "code",
      "execution_count": 5,
      "metadata": {
        "id": "hMp3ZErr4KEi"
      },
      "outputs": [],
      "source": [
        "## create model"
      ]
    },
    {
      "cell_type": "code",
      "execution_count": 6,
      "metadata": {
        "id": "WRnYz0BQ4KEi"
      },
      "outputs": [],
      "source": [
        "from sklearn.metrics import confusion_matrix, ConfusionMatrixDisplay\n",
        "from keras.callbacks import ModelCheckpoint"
      ]
    },
    {
      "cell_type": "code",
      "execution_count": 7,
      "metadata": {
        "id": "SGjcs6ok4KEj"
      },
      "outputs": [],
      "source": [
        "x_train=[]\n",
        "y_train=[]\n",
        "for images, labels in train_ds.unbatch().take(-1):\n",
        "    x_train.append(images.numpy())\n",
        "    y_train.append(labels.numpy())"
      ]
    },
    {
      "cell_type": "code",
      "execution_count": 8,
      "metadata": {
        "id": "52Syhv1s4KEj"
      },
      "outputs": [],
      "source": [
        "x_test=[]\n",
        "y_test=[]\n",
        "for images, labels in test_ds.unbatch().take(-1):\n",
        "    x_test.append(images.numpy())\n",
        "    y_test.append(labels.numpy())"
      ]
    },
    {
      "cell_type": "code",
      "execution_count": 9,
      "metadata": {
        "id": "pTeqzMX54KEk"
      },
      "outputs": [],
      "source": [
        "x_train = np.array(x_train)\n",
        "x_test = np.array(x_test)\n",
        "y_train = np.array(y_train)\n",
        "y_test = np.array(y_test)"
      ]
    },
    {
      "cell_type": "code",
      "execution_count": 10,
      "metadata": {
        "id": "KuLx5bbv4KEk"
      },
      "outputs": [],
      "source": [
        "num_classes = 2\n",
        "img_height = 256\n",
        "img_width = 256\n",
        "def create_weight(n_sample,n_class,n_class_sample):\n",
        "    weight = n_sample/(n_class*n_class_sample)\n",
        "    return weight"
      ]
    },
    {
      "cell_type": "code",
      "execution_count": 53,
      "metadata": {
        "id": "_PLcfLrI4KEl"
      },
      "outputs": [],
      "source": [
        "class_weights = {0:0, 1:0}\n",
        "class_count = np.array([254,49])\n",
        "for i in range(num_classes):\n",
        "    class_weights[i]=create_weight(306,num_classes,class_count[i])"
      ]
    },
    {
      "cell_type": "code",
      "execution_count": 220,
      "metadata": {
        "id": "CXXvqKtk4KEl",
        "outputId": "66469ad6-57c8-4e84-f2a0-5f0033e1e6a4",
        "colab": {
          "base_uri": "https://localhost:8080/"
        }
      },
      "outputs": [
        {
          "output_type": "stream",
          "name": "stdout",
          "text": [
            "Model: \"model_11\"\n",
            "_________________________________________________________________\n",
            " Layer (type)                Output Shape              Param #   \n",
            "=================================================================\n",
            " input_26 (InputLayer)       [(None, 256, 256, 3)]     0         \n",
            "                                                                 \n",
            " rescaling_30 (Rescaling)    (None, 256, 256, 3)       0         \n",
            "                                                                 \n",
            " tf.cast_12 (TFOpLambda)     (None, 256, 256, 3)       0         \n",
            "                                                                 \n",
            " inception_resnet_v2 (Functi  (None, 6, 6, 1536)       54336736  \n",
            " onal)                                                           \n",
            "                                                                 \n",
            " global_average_pooling2d_12  (None, 1536)             0         \n",
            "  (GlobalAveragePooling2D)                                       \n",
            "                                                                 \n",
            " dropout_46 (Dropout)        (None, 1536)              0         \n",
            "                                                                 \n",
            " dense_47 (Dense)            (None, 1)                 1537      \n",
            "                                                                 \n",
            " activation_1026 (Activation  (None, 1)                0         \n",
            " )                                                               \n",
            "                                                                 \n",
            "=================================================================\n",
            "Total params: 54,338,273\n",
            "Trainable params: 1,537\n",
            "Non-trainable params: 54,336,736\n",
            "_________________________________________________________________\n"
          ]
        }
      ],
      "source": [
        "# base_model = tf.keras.applications.Xception(\n",
        "#     weights=\"imagenet\",  # Load weights pre-trained on ImageNet.\n",
        "#     input_shape=(img_height, img_width, 3),\n",
        "#     include_top=False,\n",
        "# )  # Do not include the ImageNet classifier at the top.\n",
        "\n",
        "# base_model = tf.keras.applications.ResNet50V2(\n",
        "#     include_top=False,\n",
        "#     weights=\"imagenet\",\n",
        "#     input_tensor=None,\n",
        "#     input_shape=(img_height, img_width, 3),\n",
        "#     pooling=None,\n",
        "#     # classes=1000,\n",
        "#     classifier_activation=\"softmax\",\n",
        "# )\n",
        "base_model = tf.keras.applications.InceptionResNetV2(\n",
        "    include_top=False,\n",
        "    weights=\"imagenet\",\n",
        "    input_shape=(img_height, img_width, 3),\n",
        "    pooling=None,\n",
        "    classifier_activation=\"softmax\"\n",
        ")\n",
        "# Freeze the base_model\n",
        "base_model.trainable = False\n",
        "\n",
        "# Create new model on top\n",
        "inputs = tf.keras.Input(shape=(img_height, img_width, 3))\n",
        "#x = data_augmentation(inputs)  # Apply random data augmentation\n",
        "\n",
        "# Pre-trained Xception weights requires that input be scaled\n",
        "# from (0, 255) to a range of (-1., +1.), the rescaling layer\n",
        "# outputs: `(inputs * scale) + offset`\n",
        "scale_layer = tf.keras.layers.Rescaling(scale=1./255)\n",
        "x = scale_layer(inputs)\n",
        "\n",
        "x = tf.cast(x,tf.float32)\n",
        "# The base model contains batchnorm layers. We want to keep them in inference mode\n",
        "# when we unfreeze the base model for fine-tuning, so we make sure that the\n",
        "# base_model is running in inference mode here.\n",
        "x = base_model(x, training=False)\n",
        "x = tf.keras.layers.GlobalAveragePooling2D()(x)\n",
        "x = tf.keras.layers.Dropout(0.2)(x)  # Regularize with dropout\n",
        "# x = tf.keras.layers.Dense(64, activation='relu')(x)\n",
        "outputs = tf.keras.layers.Dense(1)(x)\n",
        "outputs = tf.keras.layers.Activation('sigmoid')(outputs)\n",
        "model = tf.keras.Model(inputs, outputs)\n",
        "\n",
        "model.summary()"
      ]
    },
    {
      "cell_type": "code",
      "execution_count": 230,
      "metadata": {
        "id": "5mS95CLp4KEm",
        "outputId": "53563db4-0eae-4621-c993-462a7ba6bf2d",
        "colab": {
          "base_uri": "https://localhost:8080/"
        }
      },
      "outputs": [
        {
          "output_type": "stream",
          "name": "stdout",
          "text": [
            "Model: \"sequential_19\"\n",
            "_________________________________________________________________\n",
            " Layer (type)                Output Shape              Param #   \n",
            "=================================================================\n",
            " rescaling_32 (Rescaling)    (None, 256, 256, 3)       0         \n",
            "                                                                 \n",
            " conv2d_1088 (Conv2D)        (None, 256, 256, 256)     7168      \n",
            "                                                                 \n",
            " max_pooling2d_82 (MaxPoolin  (None, 128, 128, 256)    0         \n",
            " g2D)                                                            \n",
            "                                                                 \n",
            " dropout_49 (Dropout)        (None, 128, 128, 256)     0         \n",
            "                                                                 \n",
            " conv2d_1089 (Conv2D)        (None, 128, 128, 128)     295040    \n",
            "                                                                 \n",
            " max_pooling2d_83 (MaxPoolin  (None, 64, 64, 128)      0         \n",
            " g2D)                                                            \n",
            "                                                                 \n",
            " dropout_50 (Dropout)        (None, 64, 64, 128)       0         \n",
            "                                                                 \n",
            " conv2d_1090 (Conv2D)        (None, 64, 64, 64)        73792     \n",
            "                                                                 \n",
            " max_pooling2d_84 (MaxPoolin  (None, 32, 32, 64)       0         \n",
            " g2D)                                                            \n",
            "                                                                 \n",
            " flatten_19 (Flatten)        (None, 65536)             0         \n",
            "                                                                 \n",
            " dense_50 (Dense)            (None, 64)                4194368   \n",
            "                                                                 \n",
            " dense_51 (Dense)            (None, 1)                 65        \n",
            "                                                                 \n",
            "=================================================================\n",
            "Total params: 4,570,433\n",
            "Trainable params: 4,570,433\n",
            "Non-trainable params: 0\n",
            "_________________________________________________________________\n"
          ]
        }
      ],
      "source": [
        "model = tf.keras.Sequential([\n",
        "            tf.keras.layers.experimental.preprocessing.Rescaling(1./255, input_shape=(img_height, img_width, 3)),\n",
        "            tf.keras.layers.Conv2D(256, 3, padding='same', activation='relu'),\n",
        "            tf.keras.layers.MaxPooling2D((2,2)),\n",
        "            tf.keras.layers.Dropout(0.2),\n",
        "            tf.keras.layers.Conv2D(128, 3, padding='same', activation='relu'),            \n",
        "            tf.keras.layers.MaxPooling2D((2,2)),\n",
        "            tf.keras.layers.Dropout(0.2),\n",
        "            tf.keras.layers.Conv2D(64, 3, padding='same', activation='relu'),\n",
        "            tf.keras.layers.MaxPooling2D((2,2)),\n",
        "            tf.keras.layers.Flatten(),\n",
        "            tf.keras.layers.Dense(64, activation='relu'),\n",
        "            tf.keras.layers.Dense(1, activation='sigmoid')\n",
        "        ])\n",
        "model.summary()"
      ]
    },
    {
      "cell_type": "code",
      "execution_count": 231,
      "metadata": {
        "id": "ENIr5nXA4KEn"
      },
      "outputs": [],
      "source": [
        "#resnet \n",
        "#inception v3"
      ]
    },
    {
      "cell_type": "code",
      "execution_count": 232,
      "metadata": {
        "id": "B-6CMHob4KEo"
      },
      "outputs": [],
      "source": [
        "earlystop_callback = tf.keras.callbacks.EarlyStopping(monitor = 'val_loss',patience = 15)\n",
        "earlystop_callback2 = tf.keras.callbacks.EarlyStopping(monitor = 'accuracy',patience = 15)\n",
        "loss_fn = tf.keras.losses.BinaryCrossentropy(from_logits=True)\n",
        "optimizer = tf.keras.optimizers.Adam()# modify weight in Adam\n",
        "metrics = ['accuracy']\n",
        "model.compile (optimizer = optimizer,loss =  loss_fn,metrics = metrics)"
      ]
    },
    {
      "cell_type": "code",
      "execution_count": 233,
      "metadata": {
        "id": "2I_oiDJ94KEo",
        "outputId": "d5029f92-8995-4481-b0f7-331c86455719",
        "colab": {
          "base_uri": "https://localhost:8080/"
        }
      },
      "outputs": [
        {
          "output_type": "stream",
          "name": "stdout",
          "text": [
            "Epoch 1/40\n"
          ]
        },
        {
          "output_type": "stream",
          "name": "stderr",
          "text": [
            "/usr/local/lib/python3.7/dist-packages/tensorflow/python/util/dispatch.py:1082: UserWarning: \"`binary_crossentropy` received `from_logits=True`, but the `output` argument was produced by a sigmoid or softmax activation and thus does not represent logits. Was this intended?\"\n",
            "  return dispatch_target(*args, **kwargs)\n"
          ]
        },
        {
          "output_type": "stream",
          "name": "stdout",
          "text": [
            "7/7 [==============================] - 3s 398ms/step - loss: 1.5252 - accuracy: 0.6038 - val_loss: 0.6994 - val_accuracy: 0.1648\n",
            "Epoch 2/40\n",
            "7/7 [==============================] - 3s 365ms/step - loss: 0.6995 - accuracy: 0.1604 - val_loss: 0.6989 - val_accuracy: 0.1648\n",
            "Epoch 3/40\n",
            "7/7 [==============================] - 3s 365ms/step - loss: 0.6979 - accuracy: 0.5047 - val_loss: 0.6935 - val_accuracy: 0.3626\n",
            "Epoch 4/40\n",
            "7/7 [==============================] - 3s 364ms/step - loss: 0.7528 - accuracy: 0.7170 - val_loss: 0.6948 - val_accuracy: 0.2637\n",
            "Epoch 5/40\n",
            "7/7 [==============================] - 3s 364ms/step - loss: 0.6956 - accuracy: 0.3726 - val_loss: 0.6955 - val_accuracy: 0.3297\n",
            "Epoch 6/40\n",
            "7/7 [==============================] - 3s 366ms/step - loss: 0.6938 - accuracy: 0.7170 - val_loss: 0.6919 - val_accuracy: 0.4615\n",
            "Epoch 7/40\n",
            "7/7 [==============================] - 3s 364ms/step - loss: 0.6805 - accuracy: 0.5991 - val_loss: 0.6488 - val_accuracy: 0.7143\n",
            "Epoch 8/40\n",
            "7/7 [==============================] - 3s 365ms/step - loss: 0.6777 - accuracy: 0.7358 - val_loss: 0.7008 - val_accuracy: 0.4066\n",
            "Epoch 9/40\n",
            "7/7 [==============================] - 3s 366ms/step - loss: 0.6557 - accuracy: 0.4292 - val_loss: 0.6500 - val_accuracy: 0.5824\n",
            "Epoch 10/40\n",
            "7/7 [==============================] - 3s 366ms/step - loss: 0.6207 - accuracy: 0.6887 - val_loss: 0.5853 - val_accuracy: 0.6374\n",
            "Epoch 11/40\n",
            "7/7 [==============================] - 3s 366ms/step - loss: 0.5761 - accuracy: 0.6792 - val_loss: 0.7256 - val_accuracy: 0.5385\n",
            "Epoch 12/40\n",
            "7/7 [==============================] - 3s 367ms/step - loss: 0.5224 - accuracy: 0.7453 - val_loss: 0.5492 - val_accuracy: 0.6593\n",
            "Epoch 13/40\n",
            "7/7 [==============================] - 3s 368ms/step - loss: 0.4468 - accuracy: 0.7123 - val_loss: 0.6509 - val_accuracy: 0.6484\n",
            "Epoch 14/40\n",
            "7/7 [==============================] - 3s 372ms/step - loss: 0.4242 - accuracy: 0.7358 - val_loss: 0.6002 - val_accuracy: 0.6593\n",
            "Epoch 15/40\n",
            "7/7 [==============================] - 3s 366ms/step - loss: 0.3496 - accuracy: 0.7877 - val_loss: 0.7053 - val_accuracy: 0.6593\n",
            "Epoch 16/40\n",
            "7/7 [==============================] - 3s 367ms/step - loss: 0.3256 - accuracy: 0.8491 - val_loss: 0.7207 - val_accuracy: 0.6593\n",
            "Epoch 17/40\n",
            "7/7 [==============================] - 3s 369ms/step - loss: 0.3325 - accuracy: 0.8113 - val_loss: 0.7548 - val_accuracy: 0.6593\n",
            "Epoch 18/40\n",
            "7/7 [==============================] - 3s 368ms/step - loss: 0.2552 - accuracy: 0.8491 - val_loss: 0.5985 - val_accuracy: 0.7363\n",
            "Epoch 19/40\n",
            "7/7 [==============================] - 3s 369ms/step - loss: 0.2375 - accuracy: 0.8255 - val_loss: 0.5580 - val_accuracy: 0.7363\n",
            "Epoch 20/40\n",
            "7/7 [==============================] - 3s 368ms/step - loss: 0.1728 - accuracy: 0.9481 - val_loss: 0.5969 - val_accuracy: 0.7582\n",
            "Epoch 21/40\n",
            "7/7 [==============================] - 3s 370ms/step - loss: 0.1500 - accuracy: 0.8915 - val_loss: 0.6903 - val_accuracy: 0.7473\n",
            "Epoch 22/40\n",
            "7/7 [==============================] - 3s 368ms/step - loss: 0.1109 - accuracy: 0.9623 - val_loss: 0.7149 - val_accuracy: 0.7802\n",
            "Epoch 23/40\n",
            "7/7 [==============================] - 3s 369ms/step - loss: 0.0844 - accuracy: 0.9811 - val_loss: 0.8273 - val_accuracy: 0.7363\n",
            "Epoch 24/40\n",
            "7/7 [==============================] - 3s 368ms/step - loss: 0.0706 - accuracy: 0.9623 - val_loss: 0.7529 - val_accuracy: 0.7912\n",
            "Epoch 25/40\n",
            "7/7 [==============================] - 3s 370ms/step - loss: 0.0503 - accuracy: 0.9764 - val_loss: 0.9572 - val_accuracy: 0.7802\n",
            "Epoch 26/40\n",
            "7/7 [==============================] - 3s 369ms/step - loss: 0.0289 - accuracy: 0.9953 - val_loss: 1.3142 - val_accuracy: 0.7582\n",
            "Epoch 27/40\n",
            "7/7 [==============================] - 3s 369ms/step - loss: 0.0154 - accuracy: 0.9953 - val_loss: 1.4808 - val_accuracy: 0.7802\n"
          ]
        }
      ],
      "source": [
        "# Set the epocks\n",
        "# ทำ stop + validation\n",
        "epochs = 40\n",
        "history = model.fit(x_train, y_train, epochs=epochs,validation_split=0.3,class_weight = class_weights,callbacks = [earlystop_callback,earlystop_callback2])\n",
        "\n",
        "#history = model.fit(x_train, y_train, epochs=epochs,validation_split=0.3)"
      ]
    },
    {
      "cell_type": "code",
      "execution_count": 234,
      "metadata": {
        "id": "G9oorLuK4KEo",
        "outputId": "a5c8b564-eb2b-406e-9e12-d4bb5c7b1869",
        "colab": {
          "base_uri": "https://localhost:8080/"
        }
      },
      "outputs": [
        {
          "output_type": "stream",
          "name": "stdout",
          "text": [
            "Model: \"sequential_19\"\n",
            "_________________________________________________________________\n",
            " Layer (type)                Output Shape              Param #   \n",
            "=================================================================\n",
            " rescaling_32 (Rescaling)    (None, 256, 256, 3)       0         \n",
            "                                                                 \n",
            " conv2d_1088 (Conv2D)        (None, 256, 256, 256)     7168      \n",
            "                                                                 \n",
            " max_pooling2d_82 (MaxPoolin  (None, 128, 128, 256)    0         \n",
            " g2D)                                                            \n",
            "                                                                 \n",
            " dropout_49 (Dropout)        (None, 128, 128, 256)     0         \n",
            "                                                                 \n",
            " conv2d_1089 (Conv2D)        (None, 128, 128, 128)     295040    \n",
            "                                                                 \n",
            " max_pooling2d_83 (MaxPoolin  (None, 64, 64, 128)      0         \n",
            " g2D)                                                            \n",
            "                                                                 \n",
            " dropout_50 (Dropout)        (None, 64, 64, 128)       0         \n",
            "                                                                 \n",
            " conv2d_1090 (Conv2D)        (None, 64, 64, 64)        73792     \n",
            "                                                                 \n",
            " max_pooling2d_84 (MaxPoolin  (None, 32, 32, 64)       0         \n",
            " g2D)                                                            \n",
            "                                                                 \n",
            " flatten_19 (Flatten)        (None, 65536)             0         \n",
            "                                                                 \n",
            " dense_50 (Dense)            (None, 64)                4194368   \n",
            "                                                                 \n",
            " dense_51 (Dense)            (None, 1)                 65        \n",
            "                                                                 \n",
            "=================================================================\n",
            "Total params: 4,570,433\n",
            "Trainable params: 4,570,433\n",
            "Non-trainable params: 0\n",
            "_________________________________________________________________\n",
            "Epoch 1/30\n"
          ]
        },
        {
          "output_type": "stream",
          "name": "stderr",
          "text": [
            "/usr/local/lib/python3.7/dist-packages/tensorflow/python/util/dispatch.py:1082: UserWarning: \"`binary_crossentropy` received `from_logits=True`, but the `output` argument was produced by a sigmoid or softmax activation and thus does not represent logits. Was this intended?\"\n",
            "  return dispatch_target(*args, **kwargs)\n"
          ]
        },
        {
          "output_type": "stream",
          "name": "stdout",
          "text": [
            "7/7 [==============================] - 3s 402ms/step - loss: 0.0077 - binary_accuracy: 1.0000 - val_loss: 1.4525 - val_binary_accuracy: 0.7692\n",
            "Epoch 2/30\n",
            "7/7 [==============================] - 3s 369ms/step - loss: 0.0081 - binary_accuracy: 1.0000 - val_loss: 1.4310 - val_binary_accuracy: 0.7692\n",
            "Epoch 3/30\n",
            "7/7 [==============================] - 3s 370ms/step - loss: 0.0100 - binary_accuracy: 0.9953 - val_loss: 1.4157 - val_binary_accuracy: 0.7802\n",
            "Epoch 4/30\n",
            "7/7 [==============================] - 3s 371ms/step - loss: 0.0099 - binary_accuracy: 1.0000 - val_loss: 1.4019 - val_binary_accuracy: 0.7802\n",
            "Epoch 5/30\n",
            "7/7 [==============================] - 3s 370ms/step - loss: 0.0069 - binary_accuracy: 1.0000 - val_loss: 1.3933 - val_binary_accuracy: 0.7802\n",
            "Epoch 6/30\n",
            "7/7 [==============================] - 3s 369ms/step - loss: 0.0073 - binary_accuracy: 1.0000 - val_loss: 1.3836 - val_binary_accuracy: 0.7802\n",
            "Epoch 7/30\n",
            "7/7 [==============================] - 3s 370ms/step - loss: 0.0049 - binary_accuracy: 1.0000 - val_loss: 1.3775 - val_binary_accuracy: 0.7802\n",
            "Epoch 8/30\n",
            "7/7 [==============================] - 3s 370ms/step - loss: 0.0053 - binary_accuracy: 1.0000 - val_loss: 1.3748 - val_binary_accuracy: 0.7802\n",
            "Epoch 9/30\n",
            "7/7 [==============================] - 3s 370ms/step - loss: 0.0062 - binary_accuracy: 1.0000 - val_loss: 1.3708 - val_binary_accuracy: 0.7802\n",
            "Epoch 10/30\n",
            "7/7 [==============================] - 3s 370ms/step - loss: 0.0066 - binary_accuracy: 1.0000 - val_loss: 1.3713 - val_binary_accuracy: 0.7802\n",
            "Epoch 11/30\n",
            "7/7 [==============================] - 3s 368ms/step - loss: 0.0051 - binary_accuracy: 1.0000 - val_loss: 1.3743 - val_binary_accuracy: 0.7802\n",
            "Epoch 12/30\n",
            "7/7 [==============================] - 3s 369ms/step - loss: 0.0051 - binary_accuracy: 1.0000 - val_loss: 1.3764 - val_binary_accuracy: 0.7802\n",
            "Epoch 13/30\n",
            "7/7 [==============================] - 3s 370ms/step - loss: 0.0064 - binary_accuracy: 1.0000 - val_loss: 1.3760 - val_binary_accuracy: 0.7802\n",
            "Epoch 14/30\n",
            "7/7 [==============================] - 3s 372ms/step - loss: 0.0042 - binary_accuracy: 1.0000 - val_loss: 1.3813 - val_binary_accuracy: 0.7802\n",
            "Epoch 15/30\n",
            "7/7 [==============================] - 3s 368ms/step - loss: 0.0055 - binary_accuracy: 1.0000 - val_loss: 1.3851 - val_binary_accuracy: 0.7802\n",
            "Epoch 16/30\n",
            "7/7 [==============================] - 3s 370ms/step - loss: 0.0058 - binary_accuracy: 1.0000 - val_loss: 1.3870 - val_binary_accuracy: 0.7802\n"
          ]
        }
      ],
      "source": [
        "earlystop_callback2 = tf.keras.callbacks.EarlyStopping(monitor = 'binary_accuracy',patience = 15)\n",
        "base_model.trainable = True\n",
        "model.summary()\n",
        "model.compile(\n",
        "    optimizer=tf.keras.optimizers.Adam(1e-5),  # Low learning rate\n",
        "    loss=tf.keras.losses.BinaryCrossentropy(from_logits=True),\n",
        "    metrics=[tf.keras.metrics.BinaryAccuracy()],\n",
        ")\n",
        "\n",
        "epochs = 30\n",
        "history = model.fit(x_train, y_train, epochs=epochs,validation_split=0.3,callbacks = [earlystop_callback,earlystop_callback2],class_weight = class_weights)"
      ]
    },
    {
      "cell_type": "code",
      "execution_count": 235,
      "metadata": {
        "id": "cQ7QKhSO4KEp"
      },
      "outputs": [],
      "source": [
        "def binary_transform(pred):\n",
        "    if pred > 0.5:\n",
        "        predicted = 1\n",
        "    else:\n",
        "        predicted = 0\n",
        "    return predicted"
      ]
    },
    {
      "cell_type": "code",
      "execution_count": 236,
      "metadata": {
        "id": "NTHyhXUb4KEp"
      },
      "outputs": [],
      "source": [
        "pred = model.predict(x_test)\n",
        "\n",
        "vfunc = np.vectorize(binary_transform)\n",
        "y_pred = vfunc(pred)\n",
        "actual = x_test"
      ]
    },
    {
      "cell_type": "code",
      "execution_count": 237,
      "metadata": {
        "id": "a3MuHsl24KEp",
        "outputId": "fdbe1c8a-dd06-4e69-fb08-842df2f70539",
        "colab": {
          "base_uri": "https://localhost:8080/",
          "height": 297
        }
      },
      "outputs": [
        {
          "output_type": "execute_result",
          "data": {
            "text/plain": [
              "<function matplotlib.pyplot.show>"
            ]
          },
          "metadata": {},
          "execution_count": 237
        },
        {
          "output_type": "display_data",
          "data": {
            "text/plain": [
              "<Figure size 432x288 with 2 Axes>"
            ],
            "image/png": "[encoded data removed]"
          },
          "metadata": {
            "needs_background": "light"
          }
        }
      ],
      "source": [
        "cm = confusion_matrix(y_test, y_pred)\n",
        "disp = ConfusionMatrixDisplay(confusion_matrix=cm,display_labels=class_names)\n",
        "disp.plot()\n",
        "plt.show"
      ]
    },
    {
      "cell_type": "code",
      "execution_count": 238,
      "metadata": {
        "id": "xsWVsk_w4KEq",
        "colab": {
          "base_uri": "https://localhost:8080/"
        },
        "outputId": "bd782f7e-e32e-40f7-d07a-6c6b44cf19f0"
      },
      "outputs": [
        {
          "output_type": "stream",
          "name": "stdout",
          "text": [
            "              precision    recall  f1-score   support\n",
            "\n",
            "      Hungry       0.85      0.91      0.88       128\n",
            "  Non_hungry       0.33      0.23      0.27        26\n",
            "\n",
            "    accuracy                           0.79       154\n",
            "   macro avg       0.59      0.57      0.58       154\n",
            "weighted avg       0.77      0.79      0.78       154\n",
            "\n"
          ]
        }
      ],
      "source": [
        "from sklearn.metrics import classification_report\n",
        "print(classification_report(y_test, y_pred,target_names=[\"Hungry\",\"Non_hungry\"]))"
      ]
    },
    {
      "cell_type": "code",
      "source": [
        ""
      ],
      "metadata": {
        "id": "MICls6lpDG0E"
      },
      "execution_count": 213,
      "outputs": []
    }
  ],
  "metadata": {
    "kernelspec": {
      "display_name": "Python 3 (ipykernel)",
      "language": "python",
      "name": "python3"
    },
    "language_info": {
      "codemirror_mode": {
        "name": "ipython",
        "version": 3
      },
      "file_extension": ".py",
      "mimetype": "text/x-python",
      "name": "python",
      "nbconvert_exporter": "python",
      "pygments_lexer": "ipython3",
      "version": "3.9.7"
    },
    "vscode": {
      "interpreter": {
        "hash": "23bf0724a01b6ea9814e66f76182ea78c0ee849a72ca257c0e116bf83bb4960a"
      }
    },
    "colab": {
      "name": "train_evaluate.ipynb",
      "provenance": [],
      "include_colab_link": true
    },
    "accelerator": "GPU",
    "gpuClass": "standard"
  },
  "nbformat": 4,
  "nbformat_minor": 0
}