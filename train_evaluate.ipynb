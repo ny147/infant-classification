{
 "cells": [
  {
   "cell_type": "code",
   "execution_count": 2,
   "metadata": {},
   "outputs": [],
   "source": [
    "import os\n",
    "import librosa, librosa.display\n",
    "import matplotlib.pyplot as plt\n",
    "from pathlib import Path\n",
    "import tensorflow as tf\n",
    "import IPython.display as ipd\n",
    "import numpy as np\n",
    "import shutil\n",
    "#import ftransc"
   ]
  },
  {
   "cell_type": "code",
   "execution_count": 29,
   "metadata": {},
   "outputs": [
    {
     "name": "stdout",
     "output_type": "stream",
     "text": [
      "Found 303 files belonging to 2 classes.\n",
      "Found 154 files belonging to 2 classes.\n",
      "['hungry', 'non_hungry']\n"
     ]
    }
   ],
   "source": [
    "typeimg='mel_spectrogram'\n",
    "train_directory = './data/mel_spectrogram/train_oneclass/hungry_one'\n",
    "test_directory = './data/mel_spectrogram/test_oneclass/hungry_one'\n",
    "\n",
    "\n",
    "train_ds = tf.keras.preprocessing.image_dataset_from_directory(\n",
    "    train_directory, labels='inferred', label_mode='int', image_size=(256, 256), seed=321,\n",
    "    validation_split=None, subset=None)\n",
    "\n",
    "test_ds = tf.keras.preprocessing.image_dataset_from_directory(\n",
    "    test_directory, labels='inferred', label_mode='int', image_size=(256, 256),\n",
    "    validation_split=None, subset=None)\n",
    "\n",
    "class_names = train_ds.class_names\n",
    "print(class_names)"
   ]
  },
  {
   "cell_type": "code",
   "execution_count": 30,
   "metadata": {},
   "outputs": [],
   "source": [
    "## create model"
   ]
  },
  {
   "cell_type": "code",
   "execution_count": 31,
   "metadata": {},
   "outputs": [],
   "source": [
    "from sklearn.metrics import confusion_matrix, ConfusionMatrixDisplay\n",
    "from keras.callbacks import ModelCheckpoint"
   ]
  },
  {
   "cell_type": "code",
   "execution_count": 32,
   "metadata": {},
   "outputs": [],
   "source": [
    "x_train=[]\n",
    "y_train=[]\n",
    "for images, labels in train_ds.unbatch().take(-1):\n",
    "    x_train.append(images.numpy())\n",
    "    y_train.append(labels.numpy())"
   ]
  },
  {
   "cell_type": "code",
   "execution_count": 33,
   "metadata": {},
   "outputs": [],
   "source": [
    "x_test=[]\n",
    "y_test=[]\n",
    "for images, labels in test_ds.unbatch().take(-1):\n",
    "    x_test.append(images.numpy())\n",
    "    y_test.append(labels.numpy())"
   ]
  },
  {
   "cell_type": "code",
   "execution_count": 34,
   "metadata": {},
   "outputs": [],
   "source": [
    "x_train = np.array(x_train)\n",
    "x_test = np.array(x_test)\n",
    "y_train = np.array(y_train)\n",
    "y_test = np.array(y_test)"
   ]
  },
  {
   "cell_type": "code",
   "execution_count": 35,
   "metadata": {},
   "outputs": [],
   "source": [
    "num_classes = 2\n",
    "img_height = 256\n",
    "img_width = 256\n",
    "def create_weight(n_sample,n_class,n_class_sample):\n",
    "    weight = n_sample/(n_class*n_class_sample)\n",
    "    return weight"
   ]
  },
  {
   "cell_type": "code",
   "execution_count": 36,
   "metadata": {},
   "outputs": [],
   "source": [
    "class_weights = {0:0, 1:0}\n",
    "class_count = np.array([254,49])\n",
    "for i in range(num_classes):\n",
    "    class_weights[i]=create_weight(303,num_classes,class_count[i])"
   ]
  },
  {
   "cell_type": "code",
   "execution_count": 41,
   "metadata": {},
   "outputs": [],
   "source": [
    "model = tf.keras.Sequential([\n",
    "            tf.keras.layers.experimental.preprocessing.Rescaling(1./255, input_shape=(img_height, img_width, 3)),\n",
    "            tf.keras.layers.Conv2D(256, 3, padding='same', activation='relu'),\n",
    "            tf.keras.layers.MaxPooling2D((2,2)),\n",
    "            tf.keras.layers.Dropout(0.2),\n",
    "            tf.keras.layers.Conv2D(128, 3, padding='same', activation='relu'),            \n",
    "            tf.keras.layers.MaxPooling2D((2,2)),\n",
    "            tf.keras.layers.Dropout(0.2),\n",
    "            tf.keras.layers.Conv2D(16, 3, padding='same', activation='relu'),\n",
    "            tf.keras.layers.MaxPooling2D((2,2)),\n",
    "            tf.keras.layers.Flatten(),\n",
    "            tf.keras.layers.Dense(64, activation='relu'),\n",
    "            tf.keras.layers.Dense(1, activation='sigmoid')\n",
    "        ])"
   ]
  },
  {
   "cell_type": "code",
   "execution_count": 1,
   "metadata": {},
   "outputs": [],
   "source": [
    "#resnet \n",
    "#inception v3"
   ]
  },
  {
   "cell_type": "code",
   "execution_count": 43,
   "metadata": {},
   "outputs": [],
   "source": [
    "learning_rate =  0.002\n",
    "loss_fn = tf.keras.losses.BinaryCrossentropy(from_logits=False)\n",
    "optimizer = tf.keras.optimizers.Adam(learning_rate)# modify weight in Adam\n",
    "metrics = ['accuracy']\n",
    "model.compile (optimizer = optimizer,loss =  loss_fn,metrics = metrics)"
   ]
  },
  {
   "cell_type": "code",
   "execution_count": 44,
   "metadata": {},
   "outputs": [
    {
     "name": "stdout",
     "output_type": "stream",
     "text": [
      "Epoch 1/20\n",
      "7/7 [==============================] - 76s 11s/step - loss: 0.7718 - accuracy: 0.4528 - val_loss: 0.6944 - val_accuracy: 0.1648\n",
      "Epoch 2/20\n",
      "7/7 [==============================] - 78s 11s/step - loss: 0.6906 - accuracy: 0.2547 - val_loss: 0.6942 - val_accuracy: 0.1978\n",
      "Epoch 3/20\n",
      "7/7 [==============================] - 77s 11s/step - loss: 0.6907 - accuracy: 0.7028 - val_loss: 0.6890 - val_accuracy: 0.8352\n",
      "Epoch 4/20\n",
      "7/7 [==============================] - 77s 11s/step - loss: 0.6878 - accuracy: 0.6085 - val_loss: 0.6892 - val_accuracy: 0.5055\n",
      "Epoch 5/20\n",
      "7/7 [==============================] - 67s 9s/step - loss: 0.6652 - accuracy: 0.5802 - val_loss: 0.5013 - val_accuracy: 0.8352\n",
      "Epoch 6/20\n",
      "7/7 [==============================] - 74s 11s/step - loss: 0.7193 - accuracy: 0.5849 - val_loss: 0.6937 - val_accuracy: 0.2857\n",
      "Epoch 7/20\n",
      "7/7 [==============================] - 71s 10s/step - loss: 0.6841 - accuracy: 0.3774 - val_loss: 0.6952 - val_accuracy: 0.2747\n",
      "Epoch 8/20\n",
      "7/7 [==============================] - 66s 10s/step - loss: 0.6795 - accuracy: 0.4764 - val_loss: 0.6835 - val_accuracy: 0.5055\n",
      "Epoch 9/20\n",
      "7/7 [==============================] - 71s 11s/step - loss: 0.6574 - accuracy: 0.6698 - val_loss: 0.6295 - val_accuracy: 0.5714\n",
      "Epoch 10/20\n",
      "7/7 [==============================] - 75s 11s/step - loss: 0.6002 - accuracy: 0.7736 - val_loss: 0.5485 - val_accuracy: 0.6264\n",
      "Epoch 11/20\n",
      "7/7 [==============================] - 75s 11s/step - loss: 0.5746 - accuracy: 0.7689 - val_loss: 0.5787 - val_accuracy: 0.5714\n",
      "Epoch 12/20\n",
      "7/7 [==============================] - 75s 11s/step - loss: 0.4936 - accuracy: 0.6981 - val_loss: 0.5935 - val_accuracy: 0.6484\n",
      "Epoch 13/20\n",
      "7/7 [==============================] - 76s 11s/step - loss: 0.4670 - accuracy: 0.7217 - val_loss: 0.6839 - val_accuracy: 0.6044\n",
      "Epoch 14/20\n",
      "7/7 [==============================] - 77s 11s/step - loss: 0.4338 - accuracy: 0.7358 - val_loss: 0.7092 - val_accuracy: 0.6703\n",
      "Epoch 15/20\n",
      "7/7 [==============================] - 75s 11s/step - loss: 0.4743 - accuracy: 0.6745 - val_loss: 0.6415 - val_accuracy: 0.4945\n",
      "Epoch 16/20\n",
      "7/7 [==============================] - 75s 11s/step - loss: 0.4549 - accuracy: 0.6274 - val_loss: 0.6343 - val_accuracy: 0.6703\n",
      "Epoch 17/20\n",
      "7/7 [==============================] - 75s 11s/step - loss: 0.3168 - accuracy: 0.8113 - val_loss: 0.8681 - val_accuracy: 0.6813\n",
      "Epoch 18/20\n",
      "7/7 [==============================] - 75s 11s/step - loss: 0.3102 - accuracy: 0.8679 - val_loss: 0.8125 - val_accuracy: 0.6923\n",
      "Epoch 19/20\n",
      "7/7 [==============================] - 75s 11s/step - loss: 0.3334 - accuracy: 0.8160 - val_loss: 0.5766 - val_accuracy: 0.7692\n",
      "Epoch 20/20\n",
      "7/7 [==============================] - 75s 11s/step - loss: 0.2765 - accuracy: 0.9104 - val_loss: 0.6372 - val_accuracy: 0.8462\n"
     ]
    }
   ],
   "source": [
    "# Set the epocks\n",
    "# ทำ stop + validation\n",
    "epochs = 20\n",
    "history = model.fit(x_train, y_train, epochs=epochs,validation_split=0.3,class_weight = class_weights)\n",
    "\n",
    "#history = model.fit(x_train, y_train, epochs=epochs,validation_split=0.3)"
   ]
  },
  {
   "cell_type": "code",
   "execution_count": 45,
   "metadata": {},
   "outputs": [],
   "source": [
    "def binary_transform(pred):\n",
    "    if pred > 0.5:\n",
    "        predicted = 1\n",
    "    else:\n",
    "        predicted = 0\n",
    "    return predicted"
   ]
  },
  {
   "cell_type": "code",
   "execution_count": 46,
   "metadata": {},
   "outputs": [],
   "source": [
    "pred = model.predict(x_test)\n",
    "\n",
    "vfunc = np.vectorize(binary_transform)\n",
    "y_pred = vfunc(pred)\n",
    "actual = x_test"
   ]
  },
  {
   "cell_type": "code",
   "execution_count": 47,
   "metadata": {},
   "outputs": [
    {
     "data": {
      "text/plain": [
       "<function matplotlib.pyplot.show(*args, **kw)>"
      ]
     },
     "execution_count": 47,
     "metadata": {},
     "output_type": "execute_result"
    },
    {
     "data": {
      "image/png": "[encoded data removed]",
      "text/plain": [
       "<Figure size 432x288 with 2 Axes>"
      ]
     },
     "metadata": {
      "needs_background": "light"
     },
     "output_type": "display_data"
    }
   ],
   "source": [
    "cm = confusion_matrix(y_test, y_pred)\n",
    "disp = ConfusionMatrixDisplay(confusion_matrix=cm,display_labels=class_names)\n",
    "disp.plot()\n",
    "plt.show"
   ]
  },
  {
   "cell_type": "code",
   "execution_count": null,
   "metadata": {},
   "outputs": [],
   "source": []
  },
  {
   "cell_type": "code",
   "execution_count": null,
   "metadata": {},
   "outputs": [],
   "source": []
  }
 ],
 "metadata": {
  "kernelspec": {
   "display_name": "Python 3.7.6 ('base')",
   "language": "python",
   "name": "python3"
  },
  "language_info": {
   "codemirror_mode": {
    "name": "ipython",
    "version": 3
   },
   "file_extension": ".py",
   "mimetype": "text/x-python",
   "name": "python",
   "nbconvert_exporter": "python",
   "pygments_lexer": "ipython3",
   "version": "3.7.6"
  },
  "orig_nbformat": 4,
  "vscode": {
   "interpreter": {
    "hash": "23bf0724a01b6ea9814e66f76182ea78c0ee849a72ca257c0e116bf83bb4960a"
   }
  }
 },
 "nbformat": 4,
 "nbformat_minor": 2
}
