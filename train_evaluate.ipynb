{
  "cells": [
    {
      "cell_type": "markdown",
      "metadata": {
        "id": "view-in-github",
        "colab_type": "text"
      },
      "source": [
        "<a href=\"https://colab.research.google.com/github/ny147/infant-classification/blob/pete/train_evaluate.ipynb\" target=\"_parent\"><img src=\"https://colab.research.google.com/assets/colab-badge.svg\" alt=\"Open In Colab\"/></a>"
      ]
    },
    {
      "cell_type": "code",
      "execution_count": 1,
      "metadata": {
        "id": "cpHscK9W4KEd",
        "colab": {
          "base_uri": "https://localhost:8080/"
        },
        "outputId": "52bbc853-de71-471c-9b94-fa12aaa53d7c"
      },
      "outputs": [
        {
          "output_type": "stream",
          "name": "stderr",
          "text": [
            "/usr/local/lib/python3.7/dist-packages/resampy/interpn.py:114: NumbaWarning: The TBB threading layer requires TBB version 2019.5 or later i.e., TBB_INTERFACE_VERSION >= 11005. Found TBB_INTERFACE_VERSION = 9107. The TBB threading layer is disabled.\n",
            "  _resample_loop_p(x, t_out, interp_win, interp_delta, num_table, scale, y)\n"
          ]
        }
      ],
      "source": [
        "import os\n",
        "import librosa, librosa.display\n",
        "import matplotlib.pyplot as plt\n",
        "from pathlib import Path\n",
        "import tensorflow as tf\n",
        "import IPython.display as ipd\n",
        "import numpy as np\n",
        "import shutil\n",
        "#import ftransc"
      ]
    },
    {
      "cell_type": "markdown",
      "source": [
        "# For Colab"
      ],
      "metadata": {
        "id": "kvNMNbwc5MmV"
      }
    },
    {
      "cell_type": "code",
      "source": [
        "from google.colab import drive\n",
        "drive.mount('/content/drive')\n",
        "path = \"/content/drive/MyDrive/Infant_cry\"\n",
        "train_directory = path + '/mel_spectrogram/train_oneclass/hungry_one'\n",
        "test_directory = path + '/mel_spectrogram/test_oneclass/hungry_one'"
      ],
      "metadata": {
        "colab": {
          "base_uri": "https://localhost:8080/"
        },
        "id": "r1P1SA9q4LFI",
        "outputId": "0c3fe0de-a29c-46df-9643-25cdd2223596"
      },
      "execution_count": 3,
      "outputs": [
        {
          "output_type": "stream",
          "name": "stdout",
          "text": [
            "Mounted at /content/drive\n"
          ]
        }
      ]
    },
    {
      "cell_type": "markdown",
      "source": [
        "# Local "
      ],
      "metadata": {
        "id": "k1BjHEUS5uZ2"
      }
    },
    {
      "cell_type": "code",
      "source": [
        "# train_directory = path + '/data_matlab/train/'\n",
        "# test_directory = path + '/data_matlab/test/'"
      ],
      "metadata": {
        "id": "R3-uUE3m5rWW"
      },
      "execution_count": null,
      "outputs": []
    },
    {
      "cell_type": "code",
      "execution_count": 4,
      "metadata": {
        "id": "FDsbZ0NX4KEg",
        "outputId": "6794f8c2-d517-4d9b-d4b5-3c0cbfce1f3e",
        "colab": {
          "base_uri": "https://localhost:8080/"
        }
      },
      "outputs": [
        {
          "output_type": "stream",
          "name": "stdout",
          "text": [
            "Found 303 files belonging to 2 classes.\n",
            "Found 154 files belonging to 2 classes.\n",
            "['hungry', 'non_hungry']\n"
          ]
        }
      ],
      "source": [
        "\n",
        "\n",
        "\n",
        "train_ds = tf.keras.preprocessing.image_dataset_from_directory(\n",
        "    train_directory, labels='inferred', label_mode='int', image_size=(256, 256), seed=321,\n",
        "    validation_split=None, subset=None)\n",
        "\n",
        "test_ds = tf.keras.preprocessing.image_dataset_from_directory(\n",
        "    test_directory, labels='inferred', label_mode='int', image_size=(256, 256),\n",
        "    validation_split=None, subset=None)\n",
        "\n",
        "class_names = train_ds.class_names\n",
        "print(class_names)"
      ]
    },
    {
      "cell_type": "code",
      "execution_count": 5,
      "metadata": {
        "id": "hMp3ZErr4KEi"
      },
      "outputs": [],
      "source": [
        "## create model"
      ]
    },
    {
      "cell_type": "code",
      "execution_count": 6,
      "metadata": {
        "id": "WRnYz0BQ4KEi"
      },
      "outputs": [],
      "source": [
        "from sklearn.metrics import confusion_matrix, ConfusionMatrixDisplay\n",
        "from keras.callbacks import ModelCheckpoint"
      ]
    },
    {
      "cell_type": "code",
      "execution_count": 7,
      "metadata": {
        "id": "SGjcs6ok4KEj"
      },
      "outputs": [],
      "source": [
        "x_train=[]\n",
        "y_train=[]\n",
        "for images, labels in train_ds.unbatch().take(-1):\n",
        "    x_train.append(images.numpy())\n",
        "    y_train.append(labels.numpy())"
      ]
    },
    {
      "cell_type": "code",
      "execution_count": 8,
      "metadata": {
        "id": "52Syhv1s4KEj"
      },
      "outputs": [],
      "source": [
        "x_test=[]\n",
        "y_test=[]\n",
        "for images, labels in test_ds.unbatch().take(-1):\n",
        "    x_test.append(images.numpy())\n",
        "    y_test.append(labels.numpy())"
      ]
    },
    {
      "cell_type": "code",
      "execution_count": 9,
      "metadata": {
        "id": "pTeqzMX54KEk"
      },
      "outputs": [],
      "source": [
        "x_train = np.array(x_train)\n",
        "x_test = np.array(x_test)\n",
        "y_train = np.array(y_train)\n",
        "y_test = np.array(y_test)"
      ]
    },
    {
      "cell_type": "code",
      "execution_count": 10,
      "metadata": {
        "id": "KuLx5bbv4KEk"
      },
      "outputs": [],
      "source": [
        "num_classes = 2\n",
        "img_height = 256\n",
        "img_width = 256\n",
        "def create_weight(n_sample,n_class,n_class_sample):\n",
        "    weight = n_sample/(n_class*n_class_sample)\n",
        "    return weight"
      ]
    },
    {
      "cell_type": "code",
      "execution_count": 11,
      "metadata": {
        "id": "_PLcfLrI4KEl"
      },
      "outputs": [],
      "source": [
        "class_weights = {0:0, 1:0}\n",
        "class_count = np.array([254,49])\n",
        "for i in range(num_classes):\n",
        "    class_weights[i]=create_weight(306,num_classes,class_count[i])"
      ]
    },
    {
      "cell_type": "code",
      "execution_count": 12,
      "metadata": {
        "id": "CXXvqKtk4KEl",
        "outputId": "613b0b77-85f1-4109-ddd7-164d094e44f7",
        "colab": {
          "base_uri": "https://localhost:8080/"
        }
      },
      "outputs": [
        {
          "output_type": "stream",
          "name": "stdout",
          "text": [
            "Downloading data from https://storage.googleapis.com/tensorflow/keras-applications/inception_resnet_v2/inception_resnet_v2_weights_tf_dim_ordering_tf_kernels_notop.h5\n",
            "219062272/219055592 [==============================] - 2s 0us/step\n",
            "219070464/219055592 [==============================] - 2s 0us/step\n",
            "Model: \"model\"\n",
            "_________________________________________________________________\n",
            " Layer (type)                Output Shape              Param #   \n",
            "=================================================================\n",
            " input_2 (InputLayer)        [(None, 256, 256, 3)]     0         \n",
            "                                                                 \n",
            " rescaling (Rescaling)       (None, 256, 256, 3)       0         \n",
            "                                                                 \n",
            " tf.cast (TFOpLambda)        (None, 256, 256, 3)       0         \n",
            "                                                                 \n",
            " inception_resnet_v2 (Functi  (None, 6, 6, 1536)       54336736  \n",
            " onal)                                                           \n",
            "                                                                 \n",
            " global_average_pooling2d (G  (None, 1536)             0         \n",
            " lobalAveragePooling2D)                                          \n",
            "                                                                 \n",
            " dropout (Dropout)           (None, 1536)              0         \n",
            "                                                                 \n",
            " dense (Dense)               (None, 1)                 1537      \n",
            "                                                                 \n",
            " activation_203 (Activation)  (None, 1)                0         \n",
            "                                                                 \n",
            "=================================================================\n",
            "Total params: 54,338,273\n",
            "Trainable params: 1,537\n",
            "Non-trainable params: 54,336,736\n",
            "_________________________________________________________________\n"
          ]
        }
      ],
      "source": [
        "# base_model = tf.keras.applications.Xception(\n",
        "#     weights=\"imagenet\",  # Load weights pre-trained on ImageNet.\n",
        "#     input_shape=(img_height, img_width, 3),\n",
        "#     include_top=False,\n",
        "# )  # Do not include the ImageNet classifier at the top.\n",
        "\n",
        "# base_model = tf.keras.applications.ResNet50V2(\n",
        "#     include_top=False,\n",
        "#     weights=\"imagenet\",\n",
        "#     input_tensor=None,\n",
        "#     input_shape=(img_height, img_width, 3),\n",
        "#     pooling=None,\n",
        "#     # classes=1000,\n",
        "#     classifier_activation=\"softmax\",\n",
        "# )\n",
        "base_model = tf.keras.applications.InceptionResNetV2(\n",
        "    include_top=False,\n",
        "    weights=\"imagenet\",\n",
        "    input_shape=(img_height, img_width, 3),\n",
        "    pooling=None,\n",
        "    classifier_activation=\"softmax\"\n",
        ")\n",
        "# Freeze the base_model\n",
        "base_model.trainable = False\n",
        "\n",
        "# Create new model on top\n",
        "inputs = tf.keras.Input(shape=(img_height, img_width, 3))\n",
        "#x = data_augmentation(inputs)  # Apply random data augmentation\n",
        "\n",
        "# Pre-trained Xception weights requires that input be scaled\n",
        "# from (0, 255) to a range of (-1., +1.), the rescaling layer\n",
        "# outputs: `(inputs * scale) + offset`\n",
        "scale_layer = tf.keras.layers.Rescaling(scale=1./255)\n",
        "x = scale_layer(inputs)\n",
        "\n",
        "x = tf.cast(x,tf.float32)\n",
        "# The base model contains batchnorm layers. We want to keep them in inference mode\n",
        "# when we unfreeze the base model for fine-tuning, so we make sure that the\n",
        "# base_model is running in inference mode here.\n",
        "x = base_model(x, training=False)\n",
        "x = tf.keras.layers.GlobalAveragePooling2D()(x)\n",
        "x = tf.keras.layers.Dropout(0.2)(x)  # Regularize with dropout\n",
        "# x = tf.keras.layers.Dense(64, activation='relu')(x)\n",
        "outputs = tf.keras.layers.Dense(1)(x)\n",
        "outputs = tf.keras.layers.Activation('sigmoid')(outputs)\n",
        "model = tf.keras.Model(inputs, outputs)\n",
        "\n",
        "model.summary()"
      ]
    },
    {
      "cell_type": "code",
      "execution_count": 13,
      "metadata": {
        "id": "5mS95CLp4KEm",
        "outputId": "5bf19347-6783-482f-91c5-f88e2468a353",
        "colab": {
          "base_uri": "https://localhost:8080/"
        }
      },
      "outputs": [
        {
          "output_type": "stream",
          "name": "stdout",
          "text": [
            "Model: \"sequential\"\n",
            "_________________________________________________________________\n",
            " Layer (type)                Output Shape              Param #   \n",
            "=================================================================\n",
            " rescaling_1 (Rescaling)     (None, 256, 256, 3)       0         \n",
            "                                                                 \n",
            " conv2d_203 (Conv2D)         (None, 256, 256, 256)     7168      \n",
            "                                                                 \n",
            " max_pooling2d_4 (MaxPooling  (None, 128, 128, 256)    0         \n",
            " 2D)                                                             \n",
            "                                                                 \n",
            " dropout_1 (Dropout)         (None, 128, 128, 256)     0         \n",
            "                                                                 \n",
            " conv2d_204 (Conv2D)         (None, 128, 128, 128)     295040    \n",
            "                                                                 \n",
            " max_pooling2d_5 (MaxPooling  (None, 64, 64, 128)      0         \n",
            " 2D)                                                             \n",
            "                                                                 \n",
            " dropout_2 (Dropout)         (None, 64, 64, 128)       0         \n",
            "                                                                 \n",
            " conv2d_205 (Conv2D)         (None, 64, 64, 64)        73792     \n",
            "                                                                 \n",
            " max_pooling2d_6 (MaxPooling  (None, 32, 32, 64)       0         \n",
            " 2D)                                                             \n",
            "                                                                 \n",
            " flatten (Flatten)           (None, 65536)             0         \n",
            "                                                                 \n",
            " dense_1 (Dense)             (None, 64)                4194368   \n",
            "                                                                 \n",
            " dense_2 (Dense)             (None, 1)                 65        \n",
            "                                                                 \n",
            "=================================================================\n",
            "Total params: 4,570,433\n",
            "Trainable params: 4,570,433\n",
            "Non-trainable params: 0\n",
            "_________________________________________________________________\n"
          ]
        }
      ],
      "source": [
        "model = tf.keras.Sequential([\n",
        "            tf.keras.layers.experimental.preprocessing.Rescaling(1./255, input_shape=(img_height, img_width, 3)),\n",
        "            tf.keras.layers.Conv2D(256, 3, padding='same', activation='relu'),\n",
        "            tf.keras.layers.MaxPooling2D((2,2)),\n",
        "            tf.keras.layers.Dropout(0.2),\n",
        "            tf.keras.layers.Conv2D(128, 3, padding='same', activation='relu'),            \n",
        "            tf.keras.layers.MaxPooling2D((2,2)),\n",
        "            tf.keras.layers.Dropout(0.2),\n",
        "            tf.keras.layers.Conv2D(64, 3, padding='same', activation='relu'),\n",
        "            tf.keras.layers.MaxPooling2D((2,2)),\n",
        "            tf.keras.layers.Flatten(),\n",
        "            tf.keras.layers.Dense(64, activation='relu'),\n",
        "            tf.keras.layers.Dense(1, activation='sigmoid')\n",
        "        ])\n",
        "model.summary()"
      ]
    },
    {
      "cell_type": "code",
      "execution_count": null,
      "metadata": {
        "id": "ENIr5nXA4KEn"
      },
      "outputs": [],
      "source": [
        "#resnet \n",
        "#inception v3"
      ]
    },
    {
      "cell_type": "code",
      "execution_count": 14,
      "metadata": {
        "id": "B-6CMHob4KEo"
      },
      "outputs": [],
      "source": [
        "earlystop_callback = tf.keras.callbacks.EarlyStopping(monitor = 'val_loss',patience = 15)\n",
        "earlystop_callback2 = tf.keras.callbacks.EarlyStopping(monitor = 'accuracy',patience = 15)\n",
        "loss_fn = tf.keras.losses.BinaryCrossentropy(from_logits=True)\n",
        "optimizer = tf.keras.optimizers.Adam()# modify weight in Adam\n",
        "metrics = ['accuracy']\n",
        "model.compile (optimizer = optimizer,loss =  loss_fn,metrics = metrics)"
      ]
    },
    {
      "cell_type": "code",
      "execution_count": 15,
      "metadata": {
        "id": "2I_oiDJ94KEo",
        "outputId": "60a1c280-8b26-4012-9f31-62c805a28d34",
        "colab": {
          "base_uri": "https://localhost:8080/"
        }
      },
      "outputs": [
        {
          "output_type": "stream",
          "name": "stdout",
          "text": [
            "Epoch 1/40\n"
          ]
        },
        {
          "output_type": "stream",
          "name": "stderr",
          "text": [
            "/usr/local/lib/python3.7/dist-packages/tensorflow/python/util/dispatch.py:1082: UserWarning: \"`binary_crossentropy` received `from_logits=True`, but the `output` argument was produced by a sigmoid or softmax activation and thus does not represent logits. Was this intended?\"\n",
            "  return dispatch_target(*args, **kwargs)\n"
          ]
        },
        {
          "output_type": "stream",
          "name": "stdout",
          "text": [
            "7/7 [==============================] - 22s 937ms/step - loss: 1.0438 - accuracy: 0.5189 - val_loss: 0.6887 - val_accuracy: 0.8352\n",
            "Epoch 2/40\n",
            "7/7 [==============================] - 3s 365ms/step - loss: 0.7013 - accuracy: 0.8113 - val_loss: 0.6929 - val_accuracy: 0.7802\n",
            "Epoch 3/40\n",
            "7/7 [==============================] - 3s 364ms/step - loss: 0.6976 - accuracy: 0.8208 - val_loss: 0.6932 - val_accuracy: 0.2747\n",
            "Epoch 4/40\n",
            "7/7 [==============================] - 3s 363ms/step - loss: 0.6977 - accuracy: 0.8396 - val_loss: 0.6922 - val_accuracy: 0.8352\n",
            "Epoch 5/40\n",
            "7/7 [==============================] - 2s 363ms/step - loss: 0.6979 - accuracy: 0.8396 - val_loss: 0.6909 - val_accuracy: 0.8352\n",
            "Epoch 6/40\n",
            "7/7 [==============================] - 2s 362ms/step - loss: 0.6977 - accuracy: 0.8396 - val_loss: 0.6914 - val_accuracy: 0.8352\n",
            "Epoch 7/40\n",
            "7/7 [==============================] - 3s 365ms/step - loss: 0.6953 - accuracy: 0.8396 - val_loss: 0.6597 - val_accuracy: 0.8352\n",
            "Epoch 8/40\n",
            "7/7 [==============================] - 3s 364ms/step - loss: 0.6970 - accuracy: 0.8066 - val_loss: 0.6788 - val_accuracy: 0.6374\n",
            "Epoch 9/40\n",
            "7/7 [==============================] - 2s 362ms/step - loss: 0.6863 - accuracy: 0.7406 - val_loss: 0.5818 - val_accuracy: 0.8352\n",
            "Epoch 10/40\n",
            "7/7 [==============================] - 3s 364ms/step - loss: 0.6745 - accuracy: 0.8160 - val_loss: 0.6154 - val_accuracy: 0.7033\n",
            "Epoch 11/40\n",
            "7/7 [==============================] - 3s 365ms/step - loss: 0.6440 - accuracy: 0.7830 - val_loss: 0.5421 - val_accuracy: 0.7033\n",
            "Epoch 12/40\n",
            "7/7 [==============================] - 3s 364ms/step - loss: 0.6109 - accuracy: 0.5943 - val_loss: 0.5069 - val_accuracy: 0.7473\n",
            "Epoch 13/40\n",
            "7/7 [==============================] - 3s 364ms/step - loss: 0.5966 - accuracy: 0.6840 - val_loss: 0.6235 - val_accuracy: 0.4945\n",
            "Epoch 14/40\n",
            "7/7 [==============================] - 3s 365ms/step - loss: 0.5972 - accuracy: 0.5094 - val_loss: 0.5475 - val_accuracy: 0.5824\n",
            "Epoch 15/40\n",
            "7/7 [==============================] - 3s 363ms/step - loss: 0.5428 - accuracy: 0.7406 - val_loss: 0.6127 - val_accuracy: 0.5385\n",
            "Epoch 16/40\n",
            "7/7 [==============================] - 3s 363ms/step - loss: 0.5049 - accuracy: 0.5943 - val_loss: 0.6161 - val_accuracy: 0.6264\n",
            "Epoch 17/40\n",
            "7/7 [==============================] - 3s 365ms/step - loss: 0.4567 - accuracy: 0.6981 - val_loss: 0.7872 - val_accuracy: 0.5824\n",
            "Epoch 18/40\n",
            "7/7 [==============================] - 3s 364ms/step - loss: 0.4351 - accuracy: 0.7170 - val_loss: 0.7763 - val_accuracy: 0.5714\n",
            "Epoch 19/40\n",
            "7/7 [==============================] - 2s 363ms/step - loss: 0.3959 - accuracy: 0.7028 - val_loss: 0.7536 - val_accuracy: 0.7033\n"
          ]
        }
      ],
      "source": [
        "# Set the epocks\n",
        "# ทำ stop + validation\n",
        "epochs = 40\n",
        "history = model.fit(x_train, y_train, epochs=epochs,validation_split=0.3,class_weight = class_weights,callbacks = [earlystop_callback,earlystop_callback2])\n",
        "\n",
        "#history = model.fit(x_train, y_train, epochs=epochs,validation_split=0.3)"
      ]
    },
    {
      "cell_type": "code",
      "execution_count": 16,
      "metadata": {
        "id": "G9oorLuK4KEo",
        "outputId": "57c2adb8-6676-4d20-8f05-746b2509ed34",
        "colab": {
          "base_uri": "https://localhost:8080/"
        }
      },
      "outputs": [
        {
          "output_type": "stream",
          "name": "stdout",
          "text": [
            "Model: \"sequential\"\n",
            "_________________________________________________________________\n",
            " Layer (type)                Output Shape              Param #   \n",
            "=================================================================\n",
            " rescaling_1 (Rescaling)     (None, 256, 256, 3)       0         \n",
            "                                                                 \n",
            " conv2d_203 (Conv2D)         (None, 256, 256, 256)     7168      \n",
            "                                                                 \n",
            " max_pooling2d_4 (MaxPooling  (None, 128, 128, 256)    0         \n",
            " 2D)                                                             \n",
            "                                                                 \n",
            " dropout_1 (Dropout)         (None, 128, 128, 256)     0         \n",
            "                                                                 \n",
            " conv2d_204 (Conv2D)         (None, 128, 128, 128)     295040    \n",
            "                                                                 \n",
            " max_pooling2d_5 (MaxPooling  (None, 64, 64, 128)      0         \n",
            " 2D)                                                             \n",
            "                                                                 \n",
            " dropout_2 (Dropout)         (None, 64, 64, 128)       0         \n",
            "                                                                 \n",
            " conv2d_205 (Conv2D)         (None, 64, 64, 64)        73792     \n",
            "                                                                 \n",
            " max_pooling2d_6 (MaxPooling  (None, 32, 32, 64)       0         \n",
            " 2D)                                                             \n",
            "                                                                 \n",
            " flatten (Flatten)           (None, 65536)             0         \n",
            "                                                                 \n",
            " dense_1 (Dense)             (None, 64)                4194368   \n",
            "                                                                 \n",
            " dense_2 (Dense)             (None, 1)                 65        \n",
            "                                                                 \n",
            "=================================================================\n",
            "Total params: 4,570,433\n",
            "Trainable params: 4,570,433\n",
            "Non-trainable params: 0\n",
            "_________________________________________________________________\n",
            "Epoch 1/30\n"
          ]
        },
        {
          "output_type": "stream",
          "name": "stderr",
          "text": [
            "/usr/local/lib/python3.7/dist-packages/tensorflow/python/util/dispatch.py:1082: UserWarning: \"`binary_crossentropy` received `from_logits=True`, but the `output` argument was produced by a sigmoid or softmax activation and thus does not represent logits. Was this intended?\"\n",
            "  return dispatch_target(*args, **kwargs)\n"
          ]
        },
        {
          "output_type": "stream",
          "name": "stdout",
          "text": [
            "7/7 [==============================] - 3s 398ms/step - loss: 0.4217 - binary_accuracy: 0.7972 - val_loss: 0.7516 - val_binary_accuracy: 0.6923\n",
            "Epoch 2/30\n",
            "7/7 [==============================] - 3s 363ms/step - loss: 0.4244 - binary_accuracy: 0.7877 - val_loss: 0.7498 - val_binary_accuracy: 0.6813\n",
            "Epoch 3/30\n",
            "7/7 [==============================] - 3s 366ms/step - loss: 0.4051 - binary_accuracy: 0.8019 - val_loss: 0.7485 - val_binary_accuracy: 0.6703\n",
            "Epoch 4/30\n",
            "7/7 [==============================] - 2s 363ms/step - loss: 0.4012 - binary_accuracy: 0.7689 - val_loss: 0.7475 - val_binary_accuracy: 0.6593\n",
            "Epoch 5/30\n",
            "7/7 [==============================] - 3s 363ms/step - loss: 0.3974 - binary_accuracy: 0.7877 - val_loss: 0.7470 - val_binary_accuracy: 0.6593\n",
            "Epoch 6/30\n",
            "7/7 [==============================] - 3s 393ms/step - loss: 0.3848 - binary_accuracy: 0.7736 - val_loss: 0.7469 - val_binary_accuracy: 0.6484\n",
            "Epoch 7/30\n",
            "7/7 [==============================] - 3s 386ms/step - loss: 0.3930 - binary_accuracy: 0.7689 - val_loss: 0.7470 - val_binary_accuracy: 0.6484\n",
            "Epoch 8/30\n",
            "7/7 [==============================] - 3s 376ms/step - loss: 0.3767 - binary_accuracy: 0.7642 - val_loss: 0.7473 - val_binary_accuracy: 0.6264\n",
            "Epoch 9/30\n",
            "7/7 [==============================] - 3s 364ms/step - loss: 0.3845 - binary_accuracy: 0.7736 - val_loss: 0.7474 - val_binary_accuracy: 0.6264\n",
            "Epoch 10/30\n",
            "7/7 [==============================] - 3s 365ms/step - loss: 0.3934 - binary_accuracy: 0.7500 - val_loss: 0.7478 - val_binary_accuracy: 0.6264\n",
            "Epoch 11/30\n",
            "7/7 [==============================] - 3s 366ms/step - loss: 0.3851 - binary_accuracy: 0.7406 - val_loss: 0.7485 - val_binary_accuracy: 0.6264\n",
            "Epoch 12/30\n",
            "7/7 [==============================] - 3s 366ms/step - loss: 0.3889 - binary_accuracy: 0.7547 - val_loss: 0.7491 - val_binary_accuracy: 0.6264\n",
            "Epoch 13/30\n",
            "7/7 [==============================] - 3s 370ms/step - loss: 0.3741 - binary_accuracy: 0.7500 - val_loss: 0.7499 - val_binary_accuracy: 0.6264\n",
            "Epoch 14/30\n",
            "7/7 [==============================] - 3s 364ms/step - loss: 0.3852 - binary_accuracy: 0.7406 - val_loss: 0.7508 - val_binary_accuracy: 0.6264\n",
            "Epoch 15/30\n",
            "7/7 [==============================] - 3s 365ms/step - loss: 0.3790 - binary_accuracy: 0.7547 - val_loss: 0.7517 - val_binary_accuracy: 0.6264\n",
            "Epoch 16/30\n",
            "7/7 [==============================] - 3s 366ms/step - loss: 0.3718 - binary_accuracy: 0.7453 - val_loss: 0.7526 - val_binary_accuracy: 0.6264\n",
            "Epoch 17/30\n",
            "7/7 [==============================] - 3s 368ms/step - loss: 0.3794 - binary_accuracy: 0.7500 - val_loss: 0.7528 - val_binary_accuracy: 0.6264\n",
            "Epoch 18/30\n",
            "7/7 [==============================] - 3s 366ms/step - loss: 0.3708 - binary_accuracy: 0.7547 - val_loss: 0.7539 - val_binary_accuracy: 0.6264\n"
          ]
        }
      ],
      "source": [
        "earlystop_callback2 = tf.keras.callbacks.EarlyStopping(monitor = 'binary_accuracy',patience = 15)\n",
        "base_model.trainable = True\n",
        "model.summary()\n",
        "model.compile(\n",
        "    optimizer=tf.keras.optimizers.Adam(1e-5),  # Low learning rate\n",
        "    loss=tf.keras.losses.BinaryCrossentropy(from_logits=True),\n",
        "    metrics=[tf.keras.metrics.BinaryAccuracy()],\n",
        ")\n",
        "\n",
        "epochs = 30\n",
        "history = model.fit(x_train, y_train, epochs=epochs,validation_split=0.3,callbacks = [earlystop_callback,earlystop_callback2],class_weight = class_weights)"
      ]
    },
    {
      "cell_type": "code",
      "execution_count": 17,
      "metadata": {
        "id": "cQ7QKhSO4KEp"
      },
      "outputs": [],
      "source": [
        "def binary_transform(pred):\n",
        "    if pred > 0.5:\n",
        "        predicted = 1\n",
        "    else:\n",
        "        predicted = 0\n",
        "    return predicted"
      ]
    },
    {
      "cell_type": "code",
      "execution_count": 18,
      "metadata": {
        "id": "NTHyhXUb4KEp"
      },
      "outputs": [],
      "source": [
        "pred = model.predict(x_test)\n",
        "\n",
        "vfunc = np.vectorize(binary_transform)\n",
        "y_pred = vfunc(pred)\n",
        "actual = x_test"
      ]
    },
    {
      "cell_type": "code",
      "execution_count": 19,
      "metadata": {
        "id": "a3MuHsl24KEp",
        "outputId": "e8907a75-8829-4d3a-b522-93c9680c7f03",
        "colab": {
          "base_uri": "https://localhost:8080/",
          "height": 297
        }
      },
      "outputs": [
        {
          "output_type": "execute_result",
          "data": {
            "text/plain": [
              "<function matplotlib.pyplot.show>"
            ]
          },
          "metadata": {},
          "execution_count": 19
        },
        {
          "output_type": "display_data",
          "data": {
            "text/plain": [
              "<Figure size 432x288 with 2 Axes>"
            ],
            "image/png": "[encoded data removed]"
          },
          "metadata": {
            "needs_background": "light"
          }
        }
      ],
      "source": [
        "cm = confusion_matrix(y_test, y_pred)\n",
        "disp = ConfusionMatrixDisplay(confusion_matrix=cm,display_labels=class_names)\n",
        "disp.plot()\n",
        "plt.show"
      ]
    },
    {
      "cell_type": "code",
      "execution_count": 20,
      "metadata": {
        "id": "xsWVsk_w4KEq",
        "colab": {
          "base_uri": "https://localhost:8080/"
        },
        "outputId": "05bf8b34-be25-4136-cd9b-7e48fa888fc3"
      },
      "outputs": [
        {
          "output_type": "stream",
          "name": "stdout",
          "text": [
            "              precision    recall  f1-score   support\n",
            "\n",
            "      Hungry       0.86      0.60      0.71       128\n",
            "  Non_hungry       0.20      0.50      0.29        26\n",
            "\n",
            "    accuracy                           0.58       154\n",
            "   macro avg       0.53      0.55      0.50       154\n",
            "weighted avg       0.75      0.58      0.64       154\n",
            "\n"
          ]
        }
      ],
      "source": [
        "from sklearn.metrics import classification_report\n",
        "print(classification_report(y_test, y_pred,target_names=[\"Hungry\",\"Non_hungry\"]))"
      ]
    },
    {
      "cell_type": "code",
      "source": [
        ""
      ],
      "metadata": {
        "id": "MICls6lpDG0E"
      },
      "execution_count": 20,
      "outputs": []
    }
  ],
  "metadata": {
    "kernelspec": {
      "display_name": "Python 3 (ipykernel)",
      "language": "python",
      "name": "python3"
    },
    "language_info": {
      "codemirror_mode": {
        "name": "ipython",
        "version": 3
      },
      "file_extension": ".py",
      "mimetype": "text/x-python",
      "name": "python",
      "nbconvert_exporter": "python",
      "pygments_lexer": "ipython3",
      "version": "3.9.7"
    },
    "vscode": {
      "interpreter": {
        "hash": "23bf0724a01b6ea9814e66f76182ea78c0ee849a72ca257c0e116bf83bb4960a"
      }
    },
    "colab": {
      "name": "train_evaluate.ipynb",
      "provenance": [],
      "include_colab_link": true
    },
    "accelerator": "GPU",
    "gpuClass": "standard"
  },
  "nbformat": 4,
  "nbformat_minor": 0
}