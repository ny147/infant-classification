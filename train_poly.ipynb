{
 "cells": [
  {
   "cell_type": "code",
   "execution_count": 30,
   "metadata": {},
   "outputs": [],
   "source": [
    "import os\n",
    "import librosa, librosa.display\n",
    "import matplotlib.pyplot as plt\n",
    "from pathlib import Path\n",
    "import tensorflow as tf\n",
    "import IPython.display as ipd\n",
    "import numpy as np\n",
    "import shutil\n",
    "#import ftransc"
   ]
  },
  {
   "cell_type": "code",
   "execution_count": 31,
   "metadata": {},
   "outputs": [
    {
     "name": "stdout",
     "output_type": "stream",
     "text": [
      "Found 109 files belonging to 5 classes.\n",
      "Found 57 files belonging to 5 classes.\n",
      "['burping', 'discomfort', 'hungry', 'poop', 'tired']\n"
     ]
    }
   ],
   "source": [
    "\n",
    "train_directory = './data/poly/mel_freq/train'\n",
    "test_directory = './data/poly/mel_freq/test'\n",
    "#train_directory = './img_data/mel_spectrogram/train'\n",
    "#test_directory = './img_data/mel_spectrogram/test'\n",
    "\n",
    "train_ds = tf.keras.preprocessing.image_dataset_from_directory(\n",
    "    train_directory, labels='inferred', label_mode='int', image_size=(256, 256), seed=321,\n",
    "    validation_split=None, subset=None)\n",
    "\n",
    "test_ds = tf.keras.preprocessing.image_dataset_from_directory(\n",
    "    test_directory, labels='inferred', label_mode='int', image_size=(256, 256),\n",
    "    validation_split=None, subset=None)\n",
    "\n",
    "class_names = train_ds.class_names\n",
    "print(class_names)"
   ]
  },
  {
   "cell_type": "code",
   "execution_count": 32,
   "metadata": {},
   "outputs": [],
   "source": [
    "## create model"
   ]
  },
  {
   "cell_type": "code",
   "execution_count": 33,
   "metadata": {},
   "outputs": [],
   "source": [
    "from sklearn.metrics import confusion_matrix, ConfusionMatrixDisplay\n",
    "from keras.callbacks import ModelCheckpoint"
   ]
  },
  {
   "cell_type": "code",
   "execution_count": 34,
   "metadata": {},
   "outputs": [],
   "source": [
    "def dummy(data):\n",
    "    new_data =[]\n",
    "    for i in data:\n",
    "        lab_data =[0,0,0,0,0]\n",
    "        lab_data[i] = 1\n",
    "        new_data.append(lab_data)\n",
    "    return new_data"
   ]
  },
  {
   "cell_type": "code",
   "execution_count": 35,
   "metadata": {},
   "outputs": [],
   "source": [
    "x_train=[]\n",
    "y_train=[]\n",
    "for images, labels in train_ds.unbatch().take(-1):\n",
    "    x_train.append(images.numpy())\n",
    "    y_train.append(labels.numpy())"
   ]
  },
  {
   "cell_type": "code",
   "execution_count": 36,
   "metadata": {},
   "outputs": [],
   "source": [
    "x_test=[]\n",
    "y_test=[]\n",
    "for images, labels in test_ds.unbatch().take(-1):\n",
    "    x_test.append(images.numpy())\n",
    "    y_test.append(labels.numpy())"
   ]
  },
  {
   "cell_type": "code",
   "execution_count": 37,
   "metadata": {},
   "outputs": [],
   "source": [
    "x_train = np.array(x_train)\n",
    "x_test = np.array(x_test)\n",
    "y_train = np.array(y_train)\n",
    "y_test = np.array(y_test)"
   ]
  },
  {
   "cell_type": "code",
   "execution_count": 39,
   "metadata": {},
   "outputs": [
    {
     "data": {
      "text/plain": [
       "array([0, 0, 4, 4, 4, 4, 4, 0, 0, 2, 4, 4, 1, 3, 2, 1, 0, 1, 1, 4, 4, 2,\n",
       "       1, 4, 3, 4, 1, 3, 4, 2, 3, 1, 3, 4, 3, 3, 2, 4, 4, 1, 2, 2, 3, 4,\n",
       "       2, 0, 0, 2, 1, 4, 4, 4, 4, 2, 4, 1, 4, 2, 1, 1, 2, 3, 2, 2, 2, 4,\n",
       "       2, 0, 2, 0, 2, 3, 0, 3, 0, 4, 1, 4, 3, 1, 4, 2, 1, 4, 4, 2, 4, 2,\n",
       "       1, 4, 4, 2, 2, 0, 0, 4, 3, 2, 3, 2, 2, 4, 4, 0, 0, 1, 1, 1, 0])"
      ]
     },
     "execution_count": 39,
     "metadata": {},
     "output_type": "execute_result"
    }
   ],
   "source": [
    "y_train"
   ]
  },
  {
   "cell_type": "code",
   "execution_count": 40,
   "metadata": {},
   "outputs": [],
   "source": [
    "class_count = np.array([np.count_nonzero(y_train ==0),np.count_nonzero(y_train ==1),np.count_nonzero(y_train ==2),np.count_nonzero(y_train ==3),np.count_nonzero(y_train ==4)])"
   ]
  },
  {
   "cell_type": "code",
   "execution_count": 41,
   "metadata": {},
   "outputs": [],
   "source": [
    "y_train = dummy(y_train)\n",
    "y_test = dummy(y_test)"
   ]
  },
  {
   "cell_type": "code",
   "execution_count": 42,
   "metadata": {},
   "outputs": [
    {
     "data": {
      "text/plain": [
       "array([16, 19, 26, 14, 34])"
      ]
     },
     "execution_count": 42,
     "metadata": {},
     "output_type": "execute_result"
    }
   ],
   "source": [
    "class_count"
   ]
  },
  {
   "cell_type": "code",
   "execution_count": 43,
   "metadata": {},
   "outputs": [],
   "source": [
    "y_train = np.array(y_train)\n",
    "y_test = np.array(y_test)"
   ]
  },
  {
   "cell_type": "code",
   "execution_count": 44,
   "metadata": {},
   "outputs": [],
   "source": [
    "img_height = 256\n",
    "img_width = 256"
   ]
  },
  {
   "cell_type": "code",
   "execution_count": 51,
   "metadata": {},
   "outputs": [],
   "source": [
    "num_classes = 5\n",
    "\n",
    "def create_weight(n_sample,n_class,n_class_sample):\n",
    "    weight = n_sample/(n_class*n_class_sample)\n",
    "    return weight "
   ]
  },
  {
   "cell_type": "code",
   "execution_count": 52,
   "metadata": {},
   "outputs": [],
   "source": [
    "class_weights = {0:0, 1:0,2:0,3:0,4:0}\n",
    "\n",
    "for i in range(num_classes):\n",
    "    class_weights[i]=create_weight(109,num_classes,class_count[i])"
   ]
  },
  {
   "cell_type": "code",
   "execution_count": 53,
   "metadata": {},
   "outputs": [
    {
     "data": {
      "text/plain": [
       "{0: 1.3625,\n",
       " 1: 1.1473684210526316,\n",
       " 2: 0.8384615384615385,\n",
       " 3: 1.5571428571428572,\n",
       " 4: 0.6411764705882353}"
      ]
     },
     "execution_count": 53,
     "metadata": {},
     "output_type": "execute_result"
    }
   ],
   "source": [
    "class_weights"
   ]
  },
  {
   "cell_type": "code",
   "execution_count": 74,
   "metadata": {},
   "outputs": [
    {
     "name": "stdout",
     "output_type": "stream",
     "text": [
      "Model: \"model_3\"\n",
      "_________________________________________________________________\n",
      " Layer (type)                Output Shape              Param #   \n",
      "=================================================================\n",
      " input_8 (InputLayer)        [(None, 256, 256, 3)]     0         \n",
      "                                                                 \n",
      " rescaling_3 (Rescaling)     (None, 256, 256, 3)       0         \n",
      "                                                                 \n",
      " tf.cast_3 (TFOpLambda)      (None, 256, 256, 3)       0         \n",
      "                                                                 \n",
      " resnet50v2 (Functional)     (None, 8, 8, 2048)        23564800  \n",
      "                                                                 \n",
      " global_average_pooling2d_3   (None, 2048)             0         \n",
      " (GlobalAveragePooling2D)                                        \n",
      "                                                                 \n",
      " dropout_3 (Dropout)         (None, 2048)              0         \n",
      "                                                                 \n",
      " dense_3 (Dense)             (None, 5)                 10245     \n",
      "                                                                 \n",
      "=================================================================\n",
      "Total params: 23,575,045\n",
      "Trainable params: 10,245\n",
      "Non-trainable params: 23,564,800\n",
      "_________________________________________________________________\n"
     ]
    }
   ],
   "source": [
    "base_model = tf.keras.applications.ResNet50V2(\n",
    "    weights=\"imagenet\",  # Load weights pre-trained on ImageNet.\n",
    "    input_shape=(img_height, img_width, 3),\n",
    "    include_top=False,\n",
    ") \n",
    "\n",
    "# Freeze the base_model\n",
    "base_model.trainable = False\n",
    "\n",
    "# Create new model on top\n",
    "inputs = tf.keras.Input(shape=(img_height, img_width, 3))\n",
    "\n",
    "scale_layer = tf.keras.layers.Rescaling(scale=1./255)\n",
    "x = scale_layer(inputs)\n",
    "\n",
    "x = tf.cast(x,tf.float32)\n",
    "\n",
    "x = base_model(x, training=False)\n",
    "x = tf.keras.layers.GlobalAveragePooling2D()(x)\n",
    "\n",
    "#x = tf.keras.layers.Dense(128, activation='relu')(x)\n",
    "x = tf.keras.layers.Dropout(0.2)(x)  # Regularize with dropout\n",
    "outputs = tf.keras.layers.Dense(5,activation='softmax')(x)\n",
    "model = tf.keras.Model(inputs, outputs)\n",
    "\n",
    "model.summary()"
   ]
  },
  {
   "cell_type": "code",
   "execution_count": 75,
   "metadata": {},
   "outputs": [
    {
     "data": {
      "text/plain": [
       "\" #model = tf.keras.Sequential([\\n            tf.keras.layers.experimental.preprocessing.Rescaling(1./255, input_shape=(img_height, img_width, 3)),\\n            tf.keras.layers.Conv2D(256, 3, padding='same', activation='relu'),\\n            tf.keras.layers.MaxPooling2D((2,2)),\\n            tf.keras.layers.Dropout(0.2),\\n            tf.keras.layers.Conv2D(128, 3, padding='same', activation='relu'),            \\n            tf.keras.layers.MaxPooling2D((2,2)),\\n            tf.keras.layers.Dropout(0.2),\\n            tf.keras.layers.Conv2D(16, 3, padding='same', activation='relu'),\\n            tf.keras.layers.MaxPooling2D((2,2)),\\n            tf.keras.layers.Flatten(),\\n            tf.keras.layers.Dense(64, activation='relu'),\\n            tf.keras.layers.Dense(1, activation='sigmoid')\\n        ])\\nmodel.summary() \""
      ]
     },
     "execution_count": 75,
     "metadata": {},
     "output_type": "execute_result"
    }
   ],
   "source": [
    "''' #model = tf.keras.Sequential([\n",
    "            tf.keras.layers.experimental.preprocessing.Rescaling(1./255, input_shape=(img_height, img_width, 3)),\n",
    "            tf.keras.layers.Conv2D(256, 3, padding='same', activation='relu'),\n",
    "            tf.keras.layers.MaxPooling2D((2,2)),\n",
    "            tf.keras.layers.Dropout(0.2),\n",
    "            tf.keras.layers.Conv2D(128, 3, padding='same', activation='relu'),            \n",
    "            tf.keras.layers.MaxPooling2D((2,2)),\n",
    "            tf.keras.layers.Dropout(0.2),\n",
    "            tf.keras.layers.Conv2D(16, 3, padding='same', activation='relu'),\n",
    "            tf.keras.layers.MaxPooling2D((2,2)),\n",
    "            tf.keras.layers.Flatten(),\n",
    "            tf.keras.layers.Dense(64, activation='relu'),\n",
    "            tf.keras.layers.Dense(1, activation='sigmoid')\n",
    "        ])\n",
    "model.summary() '''"
   ]
  },
  {
   "cell_type": "code",
   "execution_count": 76,
   "metadata": {},
   "outputs": [],
   "source": [
    "#resnet \n",
    "#inception v3"
   ]
  },
  {
   "cell_type": "code",
   "execution_count": 77,
   "metadata": {},
   "outputs": [],
   "source": [
    "\n",
    "loss_fn = tf.keras.losses.CategoricalCrossentropy(from_logits=True)\n",
    "optimizer = tf.keras.optimizers.Adam()# modify weight in Adam\n",
    "metrics = ['accuracy']\n",
    "model.compile (optimizer = optimizer,loss =  loss_fn,metrics = metrics)"
   ]
  },
  {
   "cell_type": "code",
   "execution_count": 78,
   "metadata": {},
   "outputs": [],
   "source": [
    "callback = tf.keras.callbacks.EarlyStopping(monitor='val_loss', patience=5)"
   ]
  },
  {
   "cell_type": "code",
   "execution_count": 79,
   "metadata": {},
   "outputs": [
    {
     "name": "stdout",
     "output_type": "stream",
     "text": [
      "Epoch 1/100\n"
     ]
    },
    {
     "name": "stderr",
     "output_type": "stream",
     "text": [
      "c:\\Users\\acer\\anaconda3\\lib\\site-packages\\tensorflow\\python\\util\\dispatch.py:1082: UserWarning: \"`categorical_crossentropy` received `from_logits=True`, but the `output` argument was produced by a sigmoid or softmax activation and thus does not represent logits. Was this intended?\"\n",
      "  return dispatch_target(*args, **kwargs)\n"
     ]
    },
    {
     "name": "stdout",
     "output_type": "stream",
     "text": [
      "3/3 [==============================] - 9s 3s/step - loss: 1.9959 - accuracy: 0.1842 - val_loss: 1.7494 - val_accuracy: 0.1212\n",
      "Epoch 2/100\n",
      "3/3 [==============================] - 6s 2s/step - loss: 1.7838 - accuracy: 0.2368 - val_loss: 1.6286 - val_accuracy: 0.1818\n",
      "Epoch 3/100\n",
      "3/3 [==============================] - 6s 2s/step - loss: 1.6221 - accuracy: 0.3026 - val_loss: 1.6111 - val_accuracy: 0.2424\n",
      "Epoch 4/100\n",
      "3/3 [==============================] - 6s 2s/step - loss: 1.5082 - accuracy: 0.3421 - val_loss: 1.5847 - val_accuracy: 0.2424\n",
      "Epoch 5/100\n",
      "3/3 [==============================] - 6s 2s/step - loss: 1.6109 - accuracy: 0.2368 - val_loss: 1.5349 - val_accuracy: 0.3333\n",
      "Epoch 6/100\n",
      "3/3 [==============================] - 6s 2s/step - loss: 1.4642 - accuracy: 0.3026 - val_loss: 1.4928 - val_accuracy: 0.3939\n",
      "Epoch 7/100\n",
      "3/3 [==============================] - 6s 2s/step - loss: 1.4942 - accuracy: 0.3684 - val_loss: 1.4513 - val_accuracy: 0.3939\n",
      "Epoch 8/100\n",
      "3/3 [==============================] - 6s 2s/step - loss: 1.3513 - accuracy: 0.5263 - val_loss: 1.4273 - val_accuracy: 0.4242\n",
      "Epoch 9/100\n",
      "3/3 [==============================] - 6s 2s/step - loss: 1.3438 - accuracy: 0.4605 - val_loss: 1.4156 - val_accuracy: 0.4242\n",
      "Epoch 10/100\n",
      "3/3 [==============================] - 6s 2s/step - loss: 1.3130 - accuracy: 0.4737 - val_loss: 1.4072 - val_accuracy: 0.4848\n",
      "Epoch 11/100\n",
      "3/3 [==============================] - 6s 2s/step - loss: 1.2731 - accuracy: 0.5789 - val_loss: 1.3991 - val_accuracy: 0.5152\n",
      "Epoch 12/100\n",
      "3/3 [==============================] - 6s 2s/step - loss: 1.2711 - accuracy: 0.5263 - val_loss: 1.3902 - val_accuracy: 0.5455\n",
      "Epoch 13/100\n",
      "3/3 [==============================] - 6s 2s/step - loss: 1.2746 - accuracy: 0.3684 - val_loss: 1.3679 - val_accuracy: 0.5455\n",
      "Epoch 14/100\n",
      "3/3 [==============================] - 6s 2s/step - loss: 1.1947 - accuracy: 0.4737 - val_loss: 1.3355 - val_accuracy: 0.5152\n",
      "Epoch 15/100\n",
      "3/3 [==============================] - 6s 2s/step - loss: 1.1337 - accuracy: 0.5789 - val_loss: 1.3143 - val_accuracy: 0.6061\n",
      "Epoch 16/100\n",
      "3/3 [==============================] - 6s 2s/step - loss: 1.1606 - accuracy: 0.5263 - val_loss: 1.3040 - val_accuracy: 0.5758\n",
      "Epoch 17/100\n",
      "3/3 [==============================] - 6s 2s/step - loss: 1.0767 - accuracy: 0.6579 - val_loss: 1.2932 - val_accuracy: 0.4848\n",
      "Epoch 18/100\n",
      "3/3 [==============================] - 6s 2s/step - loss: 1.1101 - accuracy: 0.5789 - val_loss: 1.2909 - val_accuracy: 0.4242\n",
      "Epoch 19/100\n",
      "3/3 [==============================] - 6s 2s/step - loss: 1.1259 - accuracy: 0.5921 - val_loss: 1.2803 - val_accuracy: 0.5455\n",
      "Epoch 20/100\n",
      "3/3 [==============================] - 6s 2s/step - loss: 1.1015 - accuracy: 0.6316 - val_loss: 1.2751 - val_accuracy: 0.5758\n",
      "Epoch 21/100\n",
      "3/3 [==============================] - 6s 2s/step - loss: 1.0666 - accuracy: 0.5263 - val_loss: 1.2692 - val_accuracy: 0.5455\n",
      "Epoch 22/100\n",
      "3/3 [==============================] - 6s 2s/step - loss: 1.0147 - accuracy: 0.6447 - val_loss: 1.2605 - val_accuracy: 0.5455\n",
      "Epoch 23/100\n",
      "3/3 [==============================] - 7s 2s/step - loss: 0.9493 - accuracy: 0.6974 - val_loss: 1.2488 - val_accuracy: 0.5758\n",
      "Epoch 24/100\n",
      "3/3 [==============================] - 6s 2s/step - loss: 1.0239 - accuracy: 0.6579 - val_loss: 1.2374 - val_accuracy: 0.6061\n",
      "Epoch 25/100\n",
      "3/3 [==============================] - 6s 2s/step - loss: 0.9757 - accuracy: 0.6579 - val_loss: 1.2203 - val_accuracy: 0.5758\n",
      "Epoch 26/100\n",
      "3/3 [==============================] - 6s 2s/step - loss: 0.9602 - accuracy: 0.6842 - val_loss: 1.2100 - val_accuracy: 0.6061\n",
      "Epoch 27/100\n",
      "3/3 [==============================] - 6s 2s/step - loss: 0.9838 - accuracy: 0.6711 - val_loss: 1.2147 - val_accuracy: 0.6061\n",
      "Epoch 28/100\n",
      "3/3 [==============================] - 6s 2s/step - loss: 0.9198 - accuracy: 0.6711 - val_loss: 1.2112 - val_accuracy: 0.6061\n",
      "Epoch 29/100\n",
      "3/3 [==============================] - 6s 2s/step - loss: 0.9569 - accuracy: 0.6711 - val_loss: 1.2023 - val_accuracy: 0.6061\n",
      "Epoch 30/100\n",
      "3/3 [==============================] - 6s 2s/step - loss: 0.9201 - accuracy: 0.6842 - val_loss: 1.1879 - val_accuracy: 0.6061\n",
      "Epoch 31/100\n",
      "3/3 [==============================] - 6s 2s/step - loss: 0.9312 - accuracy: 0.6447 - val_loss: 1.1779 - val_accuracy: 0.6061\n",
      "Epoch 32/100\n",
      "3/3 [==============================] - 6s 2s/step - loss: 0.8888 - accuracy: 0.7500 - val_loss: 1.1688 - val_accuracy: 0.6061\n",
      "Epoch 33/100\n",
      "3/3 [==============================] - 6s 2s/step - loss: 0.8015 - accuracy: 0.7895 - val_loss: 1.1634 - val_accuracy: 0.5152\n",
      "Epoch 34/100\n",
      "3/3 [==============================] - 6s 2s/step - loss: 0.9105 - accuracy: 0.6447 - val_loss: 1.1563 - val_accuracy: 0.5152\n",
      "Epoch 35/100\n",
      "3/3 [==============================] - 6s 2s/step - loss: 0.8974 - accuracy: 0.6842 - val_loss: 1.1569 - val_accuracy: 0.5455\n",
      "Epoch 36/100\n",
      "3/3 [==============================] - 6s 2s/step - loss: 0.8395 - accuracy: 0.7500 - val_loss: 1.1522 - val_accuracy: 0.6364\n",
      "Epoch 37/100\n",
      "3/3 [==============================] - 7s 2s/step - loss: 0.8215 - accuracy: 0.7763 - val_loss: 1.1536 - val_accuracy: 0.6364\n",
      "Epoch 38/100\n",
      "3/3 [==============================] - 5s 2s/step - loss: 0.8463 - accuracy: 0.7237 - val_loss: 1.1606 - val_accuracy: 0.6364\n",
      "Epoch 39/100\n",
      "3/3 [==============================] - 5s 2s/step - loss: 0.7677 - accuracy: 0.7763 - val_loss: 1.1487 - val_accuracy: 0.6364\n",
      "Epoch 40/100\n",
      "3/3 [==============================] - 5s 2s/step - loss: 0.8776 - accuracy: 0.6842 - val_loss: 1.1352 - val_accuracy: 0.6364\n",
      "Epoch 41/100\n",
      "3/3 [==============================] - 5s 2s/step - loss: 0.7733 - accuracy: 0.7763 - val_loss: 1.1277 - val_accuracy: 0.6061\n",
      "Epoch 42/100\n",
      "3/3 [==============================] - 5s 2s/step - loss: 0.7825 - accuracy: 0.8026 - val_loss: 1.1197 - val_accuracy: 0.6061\n",
      "Epoch 43/100\n",
      "3/3 [==============================] - 5s 2s/step - loss: 0.7554 - accuracy: 0.8158 - val_loss: 1.1172 - val_accuracy: 0.5758\n",
      "Epoch 44/100\n",
      "3/3 [==============================] - 5s 2s/step - loss: 0.8158 - accuracy: 0.6974 - val_loss: 1.1133 - val_accuracy: 0.5758\n",
      "Epoch 45/100\n",
      "3/3 [==============================] - 6s 2s/step - loss: 0.7365 - accuracy: 0.8289 - val_loss: 1.1160 - val_accuracy: 0.5455\n",
      "Epoch 46/100\n",
      "3/3 [==============================] - 6s 2s/step - loss: 0.7608 - accuracy: 0.7237 - val_loss: 1.1241 - val_accuracy: 0.5758\n",
      "Epoch 47/100\n",
      "3/3 [==============================] - 6s 2s/step - loss: 0.7668 - accuracy: 0.7368 - val_loss: 1.1238 - val_accuracy: 0.5455\n",
      "Epoch 48/100\n",
      "3/3 [==============================] - 6s 2s/step - loss: 0.7351 - accuracy: 0.7763 - val_loss: 1.1153 - val_accuracy: 0.6364\n",
      "Epoch 49/100\n",
      "3/3 [==============================] - 6s 2s/step - loss: 0.7214 - accuracy: 0.7500 - val_loss: 1.0996 - val_accuracy: 0.6364\n",
      "Epoch 50/100\n",
      "3/3 [==============================] - 6s 2s/step - loss: 0.6923 - accuracy: 0.8158 - val_loss: 1.0889 - val_accuracy: 0.6364\n",
      "Epoch 51/100\n",
      "3/3 [==============================] - 7s 2s/step - loss: 0.7432 - accuracy: 0.7763 - val_loss: 1.0896 - val_accuracy: 0.6364\n",
      "Epoch 52/100\n",
      "3/3 [==============================] - 6s 2s/step - loss: 0.7609 - accuracy: 0.7763 - val_loss: 1.0932 - val_accuracy: 0.6061\n",
      "Epoch 53/100\n",
      "3/3 [==============================] - 6s 2s/step - loss: 0.7166 - accuracy: 0.7632 - val_loss: 1.0887 - val_accuracy: 0.5455\n",
      "Epoch 54/100\n",
      "3/3 [==============================] - 7s 2s/step - loss: 0.6634 - accuracy: 0.8684 - val_loss: 1.0771 - val_accuracy: 0.6061\n",
      "Epoch 55/100\n",
      "3/3 [==============================] - 7s 3s/step - loss: 0.7049 - accuracy: 0.8158 - val_loss: 1.0662 - val_accuracy: 0.5758\n",
      "Epoch 56/100\n",
      "3/3 [==============================] - 8s 3s/step - loss: 0.6789 - accuracy: 0.7895 - val_loss: 1.0590 - val_accuracy: 0.5455\n",
      "Epoch 57/100\n",
      "3/3 [==============================] - 8s 3s/step - loss: 0.6829 - accuracy: 0.8158 - val_loss: 1.0609 - val_accuracy: 0.6364\n",
      "Epoch 58/100\n",
      "3/3 [==============================] - 7s 3s/step - loss: 0.6408 - accuracy: 0.8289 - val_loss: 1.0722 - val_accuracy: 0.5758\n",
      "Epoch 59/100\n",
      "3/3 [==============================] - 5s 2s/step - loss: 0.5912 - accuracy: 0.8421 - val_loss: 1.0802 - val_accuracy: 0.5758\n",
      "Epoch 60/100\n",
      "3/3 [==============================] - 5s 2s/step - loss: 0.6748 - accuracy: 0.7895 - val_loss: 1.0753 - val_accuracy: 0.5455\n",
      "Epoch 61/100\n",
      "3/3 [==============================] - 5s 2s/step - loss: 0.6762 - accuracy: 0.8026 - val_loss: 1.0625 - val_accuracy: 0.5152\n"
     ]
    }
   ],
   "source": [
    "# Set the epocks\n",
    "# ทำ stop + validation\n",
    "epochs = 100\n",
    "history = model.fit(x_train, y_train, epochs=epochs,validation_split=0.3,callbacks=callback,class_weight = class_weights)\n",
    "\n",
    "#history = model.fit(x_train, y_train, epochs=epochs,validation_split=0.3)"
   ]
  },
  {
   "cell_type": "code",
   "execution_count": 80,
   "metadata": {},
   "outputs": [
    {
     "name": "stdout",
     "output_type": "stream",
     "text": [
      "Model: \"model_3\"\n",
      "_________________________________________________________________\n",
      " Layer (type)                Output Shape              Param #   \n",
      "=================================================================\n",
      " input_8 (InputLayer)        [(None, 256, 256, 3)]     0         \n",
      "                                                                 \n",
      " rescaling_3 (Rescaling)     (None, 256, 256, 3)       0         \n",
      "                                                                 \n",
      " tf.cast_3 (TFOpLambda)      (None, 256, 256, 3)       0         \n",
      "                                                                 \n",
      " resnet50v2 (Functional)     (None, 8, 8, 2048)        23564800  \n",
      "                                                                 \n",
      " global_average_pooling2d_3   (None, 2048)             0         \n",
      " (GlobalAveragePooling2D)                                        \n",
      "                                                                 \n",
      " dropout_3 (Dropout)         (None, 2048)              0         \n",
      "                                                                 \n",
      " dense_3 (Dense)             (None, 5)                 10245     \n",
      "                                                                 \n",
      "=================================================================\n",
      "Total params: 23,575,045\n",
      "Trainable params: 23,529,605\n",
      "Non-trainable params: 45,440\n",
      "_________________________________________________________________\n",
      "Epoch 1/50\n",
      "3/3 [==============================] - 25s 7s/step - loss: 0.7600 - binary_accuracy: 0.9000 - val_loss: 1.4435 - val_binary_accuracy: 0.7939\n",
      "Epoch 2/50\n",
      "3/3 [==============================] - 20s 6s/step - loss: 0.6817 - binary_accuracy: 0.8842 - val_loss: 1.1204 - val_binary_accuracy: 0.8121\n",
      "Epoch 3/50\n",
      "3/3 [==============================] - 20s 6s/step - loss: 0.3276 - binary_accuracy: 0.9526 - val_loss: 1.1513 - val_binary_accuracy: 0.8242\n",
      "Epoch 4/50\n",
      "3/3 [==============================] - 20s 6s/step - loss: 0.3429 - binary_accuracy: 0.9605 - val_loss: 1.0543 - val_binary_accuracy: 0.8364\n",
      "Epoch 5/50\n",
      "3/3 [==============================] - 20s 6s/step - loss: 0.2497 - binary_accuracy: 0.9868 - val_loss: 1.0251 - val_binary_accuracy: 0.8242\n",
      "Epoch 6/50\n",
      "3/3 [==============================] - 20s 6s/step - loss: 0.1494 - binary_accuracy: 0.9868 - val_loss: 1.0961 - val_binary_accuracy: 0.8424\n",
      "Epoch 7/50\n",
      "3/3 [==============================] - 20s 6s/step - loss: 0.1592 - binary_accuracy: 0.9842 - val_loss: 1.0146 - val_binary_accuracy: 0.8424\n",
      "Epoch 8/50\n",
      "3/3 [==============================] - 20s 6s/step - loss: 0.0595 - binary_accuracy: 0.9947 - val_loss: 1.0065 - val_binary_accuracy: 0.8424\n",
      "Epoch 9/50\n",
      "3/3 [==============================] - 20s 6s/step - loss: 0.0330 - binary_accuracy: 1.0000 - val_loss: 1.0347 - val_binary_accuracy: 0.8545\n",
      "Epoch 10/50\n",
      "3/3 [==============================] - 20s 6s/step - loss: 0.0440 - binary_accuracy: 1.0000 - val_loss: 1.0151 - val_binary_accuracy: 0.8364\n",
      "Epoch 11/50\n",
      "3/3 [==============================] - 20s 6s/step - loss: 0.0351 - binary_accuracy: 1.0000 - val_loss: 1.0178 - val_binary_accuracy: 0.8606\n",
      "Epoch 12/50\n",
      "3/3 [==============================] - 20s 6s/step - loss: 0.0165 - binary_accuracy: 1.0000 - val_loss: 1.0227 - val_binary_accuracy: 0.8606\n",
      "Epoch 13/50\n",
      "3/3 [==============================] - 20s 6s/step - loss: 0.0209 - binary_accuracy: 1.0000 - val_loss: 1.0643 - val_binary_accuracy: 0.8727\n"
     ]
    }
   ],
   "source": [
    "base_model.trainable = True\n",
    "model.summary()\n",
    "\n",
    "model.compile(\n",
    "    optimizer=tf.keras.optimizers.Adam(1e-5),  # Low learning rate\n",
    "    loss=tf.keras.losses.CategoricalCrossentropy(from_logits=True),\n",
    "    metrics=[tf.keras.metrics.BinaryAccuracy()],\n",
    ")\n",
    "\n",
    "epochs = 50\n",
    "history = model.fit(x_train, y_train, epochs=epochs,validation_split=0.3,callbacks=callback,class_weight = class_weights)"
   ]
  },
  {
   "cell_type": "code",
   "execution_count": 81,
   "metadata": {},
   "outputs": [],
   "source": [
    "pred = model.predict(x_test)\n",
    "\n",
    "y_pred = np.argmax(pred, axis=1)\n",
    "actual = x_test"
   ]
  },
  {
   "cell_type": "code",
   "execution_count": 82,
   "metadata": {},
   "outputs": [
    {
     "data": {
      "text/plain": [
       "array([4, 1, 4, 4, 0, 4, 3, 1, 0, 0, 4, 0, 0, 2, 3, 0, 3, 2, 0, 1, 4, 2,\n",
       "       4, 2, 1, 4, 2, 1, 4, 4, 4, 4, 4, 2, 2, 1, 2, 4, 4, 4, 1, 2, 4, 2,\n",
       "       1, 0, 4, 2, 1, 4, 2, 1, 4, 0, 3, 3, 2], dtype=int64)"
      ]
     },
     "execution_count": 82,
     "metadata": {},
     "output_type": "execute_result"
    }
   ],
   "source": [
    "y_pred"
   ]
  },
  {
   "cell_type": "code",
   "execution_count": 83,
   "metadata": {},
   "outputs": [
    {
     "data": {
      "text/plain": [
       "array([4, 1, 3, 3, 0, 4, 4, 1, 4, 1, 4, 0, 0, 2, 2, 2, 2, 2, 0, 1, 3, 2,\n",
       "       4, 2, 4, 3, 2, 3, 4, 1, 4, 4, 2, 1, 1, 1, 2, 4, 3, 4, 0, 4, 4, 2,\n",
       "       1, 0, 4, 0, 1, 4, 2, 0, 4, 0, 3, 3, 2], dtype=int64)"
      ]
     },
     "execution_count": 83,
     "metadata": {},
     "output_type": "execute_result"
    }
   ],
   "source": [
    "y_test"
   ]
  },
  {
   "cell_type": "code",
   "execution_count": 84,
   "metadata": {},
   "outputs": [
    {
     "ename": "AxisError",
     "evalue": "axis 1 is out of bounds for array of dimension 1",
     "output_type": "error",
     "traceback": [
      "\u001b[1;31m---------------------------------------------------------------------------\u001b[0m",
      "\u001b[1;31mAxisError\u001b[0m                                 Traceback (most recent call last)",
      "\u001b[1;32m<ipython-input-84-498de5f81bc3>\u001b[0m in \u001b[0;36m<module>\u001b[1;34m\u001b[0m\n\u001b[1;32m----> 1\u001b[1;33m \u001b[0my_test\u001b[0m \u001b[1;33m=\u001b[0m \u001b[0mnp\u001b[0m\u001b[1;33m.\u001b[0m\u001b[0margmax\u001b[0m\u001b[1;33m(\u001b[0m\u001b[0my_test\u001b[0m\u001b[1;33m,\u001b[0m \u001b[0maxis\u001b[0m\u001b[1;33m=\u001b[0m\u001b[1;36m1\u001b[0m\u001b[1;33m)\u001b[0m\u001b[1;33m\u001b[0m\u001b[1;33m\u001b[0m\u001b[0m\n\u001b[0m",
      "\u001b[1;32m<__array_function__ internals>\u001b[0m in \u001b[0;36margmax\u001b[1;34m(*args, **kwargs)\u001b[0m\n",
      "\u001b[1;32mc:\\Users\\acer\\anaconda3\\lib\\site-packages\\numpy\\core\\fromnumeric.py\u001b[0m in \u001b[0;36margmax\u001b[1;34m(a, axis, out)\u001b[0m\n\u001b[0;32m   1193\u001b[0m \u001b[1;33m\u001b[0m\u001b[0m\n\u001b[0;32m   1194\u001b[0m     \"\"\"\n\u001b[1;32m-> 1195\u001b[1;33m     \u001b[1;32mreturn\u001b[0m \u001b[0m_wrapfunc\u001b[0m\u001b[1;33m(\u001b[0m\u001b[0ma\u001b[0m\u001b[1;33m,\u001b[0m \u001b[1;34m'argmax'\u001b[0m\u001b[1;33m,\u001b[0m \u001b[0maxis\u001b[0m\u001b[1;33m=\u001b[0m\u001b[0maxis\u001b[0m\u001b[1;33m,\u001b[0m \u001b[0mout\u001b[0m\u001b[1;33m=\u001b[0m\u001b[0mout\u001b[0m\u001b[1;33m)\u001b[0m\u001b[1;33m\u001b[0m\u001b[1;33m\u001b[0m\u001b[0m\n\u001b[0m\u001b[0;32m   1196\u001b[0m \u001b[1;33m\u001b[0m\u001b[0m\n\u001b[0;32m   1197\u001b[0m \u001b[1;33m\u001b[0m\u001b[0m\n",
      "\u001b[1;32mc:\\Users\\acer\\anaconda3\\lib\\site-packages\\numpy\\core\\fromnumeric.py\u001b[0m in \u001b[0;36m_wrapfunc\u001b[1;34m(obj, method, *args, **kwds)\u001b[0m\n\u001b[0;32m     55\u001b[0m \u001b[1;33m\u001b[0m\u001b[0m\n\u001b[0;32m     56\u001b[0m     \u001b[1;32mtry\u001b[0m\u001b[1;33m:\u001b[0m\u001b[1;33m\u001b[0m\u001b[1;33m\u001b[0m\u001b[0m\n\u001b[1;32m---> 57\u001b[1;33m         \u001b[1;32mreturn\u001b[0m \u001b[0mbound\u001b[0m\u001b[1;33m(\u001b[0m\u001b[1;33m*\u001b[0m\u001b[0margs\u001b[0m\u001b[1;33m,\u001b[0m \u001b[1;33m**\u001b[0m\u001b[0mkwds\u001b[0m\u001b[1;33m)\u001b[0m\u001b[1;33m\u001b[0m\u001b[1;33m\u001b[0m\u001b[0m\n\u001b[0m\u001b[0;32m     58\u001b[0m     \u001b[1;32mexcept\u001b[0m \u001b[0mTypeError\u001b[0m\u001b[1;33m:\u001b[0m\u001b[1;33m\u001b[0m\u001b[1;33m\u001b[0m\u001b[0m\n\u001b[0;32m     59\u001b[0m         \u001b[1;31m# A TypeError occurs if the object does have such a method in its\u001b[0m\u001b[1;33m\u001b[0m\u001b[1;33m\u001b[0m\u001b[1;33m\u001b[0m\u001b[0m\n",
      "\u001b[1;31mAxisError\u001b[0m: axis 1 is out of bounds for array of dimension 1"
     ]
    }
   ],
   "source": [
    "y_test = np.argmax(y_test, axis=1)"
   ]
  },
  {
   "cell_type": "code",
   "execution_count": null,
   "metadata": {},
   "outputs": [
    {
     "data": {
      "text/plain": [
       "<function matplotlib.pyplot.show(*args, **kw)>"
      ]
     },
     "execution_count": 72,
     "metadata": {},
     "output_type": "execute_result"
    },
    {
     "data": {
      "image/png": "[encoded data removed]",
      "text/plain": [
       "<Figure size 432x288 with 2 Axes>"
      ]
     },
     "metadata": {
      "needs_background": "light"
     },
     "output_type": "display_data"
    }
   ],
   "source": [
    "cm = confusion_matrix(y_test, y_pred)\n",
    "disp = ConfusionMatrixDisplay(confusion_matrix=cm)\n",
    "disp.plot()\n",
    "plt.show"
   ]
  },
  {
   "cell_type": "code",
   "execution_count": null,
   "metadata": {},
   "outputs": [
    {
     "name": "stdout",
     "output_type": "stream",
     "text": [
      "              precision    recall  f1-score   support\n",
      "\n",
      "           0       0.56      0.56      0.56         9\n",
      "           1       0.62      0.50      0.56        10\n",
      "           2       0.53      0.69      0.60        13\n",
      "           3       0.33      0.38      0.35         8\n",
      "           4       0.57      0.47      0.52        17\n",
      "\n",
      "    accuracy                           0.53        57\n",
      "   macro avg       0.52      0.52      0.52        57\n",
      "weighted avg       0.54      0.53      0.53        57\n",
      "\n"
     ]
    }
   ],
   "source": [
    "from sklearn.metrics import classification_report\n",
    "print(classification_report(y_test, y_pred))"
   ]
  },
  {
   "cell_type": "code",
   "execution_count": null,
   "metadata": {},
   "outputs": [],
   "source": []
  }
 ],
 "metadata": {
  "kernelspec": {
   "display_name": "Python 3.7.6 ('base')",
   "language": "python",
   "name": "python3"
  },
  "language_info": {
   "codemirror_mode": {
    "name": "ipython",
    "version": 3
   },
   "file_extension": ".py",
   "mimetype": "text/x-python",
   "name": "python",
   "nbconvert_exporter": "python",
   "pygments_lexer": "ipython3",
   "version": "3.7.6"
  },
  "orig_nbformat": 4,
  "vscode": {
   "interpreter": {
    "hash": "23bf0724a01b6ea9814e66f76182ea78c0ee849a72ca257c0e116bf83bb4960a"
   }
  }
 },
 "nbformat": 4,
 "nbformat_minor": 2
}
