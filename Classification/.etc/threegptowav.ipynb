{
 "cells": [
  {
   "cell_type": "code",
   "execution_count": 103,
   "metadata": {},
   "outputs": [],
   "source": [
    "import os\n",
    "import librosa, librosa.display\n",
    "import matplotlib.pyplot as plt\n",
    "from pathlib import Path\n",
    "import tensorflow as tf\n",
    "import IPython.display as ipd\n",
    "import numpy as np\n",
    "import shutil\n",
    "#from pydub import AudioSegment\n",
    "#import ftransc"
   ]
  },
  {
   "cell_type": "code",
   "execution_count": 119,
   "metadata": {},
   "outputs": [],
   "source": [
    "def load_audio(file_path):\n",
    "    waveform, sample_rate = librosa.load(file_path)\n",
    "    \n",
    "    return waveform, sample_rate\n",
    "\n",
    "def load_audio_files_android(path: str, label:str):\n",
    "\n",
    "    dataset = []\n",
    "    walker = sorted(str(p) for p in Path(path).glob(f'*.3gp'))\n",
    "    localpath = path.split(\"/\")\n",
    "    #print(path)\n",
    "    #print(localpath)\n",
    "    newpath = localpath[0]+'groupdata'\n",
    "    os.chmod('/raw_data/', mode=0o777)\n",
    "    os.chmod(path, mode=0o777)\n",
    "    #print(walker)\n",
    "    for i, file_path in enumerate(walker):\n",
    "        \n",
    "        path, filename = os.path.split(file_path)\n",
    "        speaker, _ = os.path.splitext(filename)\n",
    "        #speaker_id,version,gender,age,reason = speaker.split(\"-\")\n",
    "        sp = speaker.split(\"-\")\n",
    "        #speaker_id = sp[-4]\n",
    "        gender = sp[-3]\n",
    "        age =sp[-2]\n",
    "        reason = sp[-1]\n",
    "        speaker=speaker.replace(\".\",\"\")\n",
    "        #print(speaker)\n",
    "        des = newpath+\"/\"+reason+\"/\"+speaker+\".wav\"\n",
    "        os.makedirs(\"./\"+newpath+\"/\"+reason+\"/\", mode=0o777, exist_ok=True)\n",
    "        #print(des)\n",
    "        #print(file_path)\n",
    "        shutil.copyfile(file_path,des)\n",
    "        #print(file_path)\n",
    "        # Load audio\n",
    "        #wav = gptowav(file_path)\n",
    "        #waveform, sample_rate = load_audio(file_path)\n",
    "        #dataset.append([waveform, sample_rate])\n",
    "        #dataset.append([waveform, sample_rate, label, speaker_id, gender,age])\n",
    "\n",
    "    return dataset\n",
    "\n",
    "def load_audio_files_ios(path: str, label:str):\n",
    "\n",
    "    dataset = []\n",
    "    walker = sorted(str(p) for p in Path(path).glob(f'*.caf'))\n",
    "    localpath = path.split(\"/\")\n",
    "    #print(path)\n",
    "    #print(localpath)\n",
    "    newpath = localpath[0]+'groupdata'\n",
    "    os.chmod('/raw_data/', mode=0o777)\n",
    "    os.chmod(path, mode=0o777)\n",
    "    #print(walker)\n",
    "    for i, file_path in enumerate(walker):\n",
    "        \n",
    "        path, filename = os.path.split(file_path)\n",
    "        speaker, _ = os.path.splitext(filename)\n",
    "        #speaker_id,version,gender,age,reason = speaker.split(\"-\")\n",
    "        sp = speaker.split(\"-\")\n",
    "        #speaker_id = sp[-4]\n",
    "        gender = sp[-3]\n",
    "        age =sp[-2]\n",
    "        reason = sp[-1]\n",
    "        speaker=speaker.replace(\".\",\"\")\n",
    "        #print(speaker)\n",
    "        des = newpath+\"/\"+reason+\"/\"+speaker+\".wav\"\n",
    "        os.makedirs(\"./\"+newpath+\"/\"+reason+\"/\", mode=0o777, exist_ok=True)\n",
    "        #print(des)\n",
    "        #print(file_path)\n",
    "        shutil.copyfile(file_path,des)\n",
    "        #print(file_path)\n",
    "        # Load audio\n",
    "        #wav = gptowav(file_path)\n",
    "        #waveform, sample_rate = load_audio(file_path)\n",
    "        #dataset.append([waveform, sample_rate])\n",
    "        #dataset.append([waveform, sample_rate, label, speaker_id, gender,age])\n",
    "\n",
    "    return dataset\n",
    "\n"
   ]
  },
  {
   "cell_type": "code",
   "execution_count": 120,
   "metadata": {},
   "outputs": [],
   "source": [
    "raw = load_audio_files_android('./raw_data/donateacry-android-upload-bucket/', 'raw')"
   ]
  },
  {
   "cell_type": "code",
   "execution_count": 121,
   "metadata": {},
   "outputs": [],
   "source": [
    "raw2 = load_audio_files_ios('./raw_data/donateacry-ios-upload-bucket/', 'raw2')"
   ]
  },
  {
   "cell_type": "code",
   "execution_count": null,
   "metadata": {},
   "outputs": [],
   "source": []
  }
 ],
 "metadata": {
  "interpreter": {
   "hash": "23bf0724a01b6ea9814e66f76182ea78c0ee849a72ca257c0e116bf83bb4960a"
  },
  "kernelspec": {
   "display_name": "Python 3.7.6 ('base')",
   "language": "python",
   "name": "python3"
  },
  "language_info": {
   "codemirror_mode": {
    "name": "ipython",
    "version": 3
   },
   "file_extension": ".py",
   "mimetype": "text/x-python",
   "name": "python",
   "nbconvert_exporter": "python",
   "pygments_lexer": "ipython3",
   "version": "3.7.6"
  },
  "orig_nbformat": 4
 },
 "nbformat": 4,
 "nbformat_minor": 2
}
