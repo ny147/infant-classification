{
 "cells": [
  {
   "cell_type": "code",
   "execution_count": 1,
   "metadata": {},
   "outputs": [],
   "source": [
    "import os\n",
    "import librosa, librosa.display\n",
    "import matplotlib.pyplot as plt\n",
    "from pathlib import Path\n",
    "import tensorflow as tf\n",
    "import IPython.display as ipd\n",
    "import numpy as np\n",
    "import shutil\n",
    "#import ftransc"
   ]
  },
  {
   "cell_type": "code",
   "execution_count": 2,
   "metadata": {},
   "outputs": [
    {
     "name": "stdout",
     "output_type": "stream",
     "text": [
      "Found 109 files belonging to 5 classes.\n",
      "Found 57 files belonging to 5 classes.\n",
      "['burping', 'discomfort', 'hungry', 'poop', 'tired']\n"
     ]
    }
   ],
   "source": [
    "\n",
    "train_directory = './all_data/dustan/poly/mel_spectrogram/train'\n",
    "test_directory = './all_data/dustan/poly/mel_spectrogram/test'\n",
    "#train_directory = './data/poly/mel_spectrogram/train'\n",
    "#test_directory = './data/poly/mel_spectrogram/test'\n",
    "\n",
    "train_ds = tf.keras.preprocessing.image_dataset_from_directory(\n",
    "    train_directory, labels='inferred', label_mode='int', image_size=(256, 256), seed=321,\n",
    "    validation_split=None, subset=None)\n",
    "\n",
    "test_ds = tf.keras.preprocessing.image_dataset_from_directory(\n",
    "    test_directory, labels='inferred', label_mode='int', image_size=(256, 256),\n",
    "    validation_split=None, subset=None)\n",
    "\n",
    "class_names = train_ds.class_names\n",
    "print(class_names)"
   ]
  },
  {
   "cell_type": "code",
   "execution_count": 3,
   "metadata": {},
   "outputs": [],
   "source": [
    "## create model"
   ]
  },
  {
   "cell_type": "code",
   "execution_count": 4,
   "metadata": {},
   "outputs": [],
   "source": [
    "from sklearn.metrics import confusion_matrix, ConfusionMatrixDisplay\n",
    "from keras.callbacks import ModelCheckpoint"
   ]
  },
  {
   "cell_type": "code",
   "execution_count": 5,
   "metadata": {},
   "outputs": [],
   "source": [
    "def dummy(data):\n",
    "    new_data =[]\n",
    "    for i in data:\n",
    "        lab_data =[0,0,0,0,0]\n",
    "        lab_data[i] = 1\n",
    "        new_data.append(lab_data)\n",
    "    return new_data"
   ]
  },
  {
   "cell_type": "code",
   "execution_count": 6,
   "metadata": {},
   "outputs": [],
   "source": [
    "x_train=[]\n",
    "y_train=[]\n",
    "for images, labels in train_ds.unbatch().take(-1):\n",
    "    x_train.append(images.numpy())\n",
    "    y_train.append(labels.numpy())"
   ]
  },
  {
   "cell_type": "code",
   "execution_count": 7,
   "metadata": {},
   "outputs": [],
   "source": [
    "x_test=[]\n",
    "y_test=[]\n",
    "for images, labels in test_ds.unbatch().take(-1):\n",
    "    x_test.append(images.numpy())\n",
    "    y_test.append(labels.numpy())"
   ]
  },
  {
   "cell_type": "code",
   "execution_count": 8,
   "metadata": {},
   "outputs": [],
   "source": [
    "x_train = np.array(x_train)\n",
    "x_test = np.array(x_test)\n",
    "y_train = np.array(y_train)\n",
    "y_test = np.array(y_test)"
   ]
  },
  {
   "cell_type": "code",
   "execution_count": 9,
   "metadata": {},
   "outputs": [],
   "source": [
    "class_count = np.array([np.count_nonzero(y_train ==0),np.count_nonzero(y_train ==1),np.count_nonzero(y_train ==2),np.count_nonzero(y_train ==3),np.count_nonzero(y_train ==4)])"
   ]
  },
  {
   "cell_type": "code",
   "execution_count": 10,
   "metadata": {},
   "outputs": [],
   "source": [
    "y_train = dummy(y_train)\n",
    "y_test = dummy(y_test)"
   ]
  },
  {
   "cell_type": "code",
   "execution_count": 11,
   "metadata": {},
   "outputs": [
    {
     "data": {
      "text/plain": [
       "array([16, 19, 26, 14, 34])"
      ]
     },
     "execution_count": 11,
     "metadata": {},
     "output_type": "execute_result"
    }
   ],
   "source": [
    "class_count"
   ]
  },
  {
   "cell_type": "code",
   "execution_count": 12,
   "metadata": {},
   "outputs": [],
   "source": [
    "y_train = np.array(y_train)\n",
    "y_test = np.array(y_test)"
   ]
  },
  {
   "cell_type": "code",
   "execution_count": 13,
   "metadata": {},
   "outputs": [],
   "source": [
    "img_height = 256\n",
    "img_width = 256"
   ]
  },
  {
   "cell_type": "code",
   "execution_count": 14,
   "metadata": {},
   "outputs": [],
   "source": [
    "num_classes = 5\n",
    "\n",
    "def create_weight(n_sample,n_class,n_class_sample):\n",
    "    weight = n_sample/(n_class*n_class_sample)\n",
    "    return weight "
   ]
  },
  {
   "cell_type": "code",
   "execution_count": 15,
   "metadata": {},
   "outputs": [],
   "source": [
    "class_weights = {0:0, 1:0,2:0,3:0,4:0}\n",
    "\n",
    "for i in range(num_classes):\n",
    "    class_weights[i]=create_weight(109,num_classes,class_count[i])"
   ]
  },
  {
   "cell_type": "code",
   "execution_count": 16,
   "metadata": {},
   "outputs": [
    {
     "data": {
      "text/plain": [
       "{0: 1.3625,\n",
       " 1: 1.1473684210526316,\n",
       " 2: 0.8384615384615385,\n",
       " 3: 1.5571428571428572,\n",
       " 4: 0.6411764705882353}"
      ]
     },
     "execution_count": 16,
     "metadata": {},
     "output_type": "execute_result"
    }
   ],
   "source": [
    "class_weights"
   ]
  },
  {
   "cell_type": "code",
   "execution_count": 21,
   "metadata": {},
   "outputs": [
    {
     "name": "stdout",
     "output_type": "stream",
     "text": [
      "Model: \"model\"\n",
      "_________________________________________________________________\n",
      " Layer (type)                Output Shape              Param #   \n",
      "=================================================================\n",
      " input_4 (InputLayer)        [(None, 256, 256, 3)]     0         \n",
      "                                                                 \n",
      " rescaling_1 (Rescaling)     (None, 256, 256, 3)       0         \n",
      "                                                                 \n",
      " tf.cast_1 (TFOpLambda)      (None, 256, 256, 3)       0         \n",
      "                                                                 \n",
      " resnet50v2 (Functional)     (None, 8, 8, 2048)        23564800  \n",
      "                                                                 \n",
      " global_average_pooling2d_1   (None, 2048)             0         \n",
      " (GlobalAveragePooling2D)                                        \n",
      "                                                                 \n",
      " dropout_1 (Dropout)         (None, 2048)              0         \n",
      "                                                                 \n",
      " dense (Dense)               (None, 5)                 10245     \n",
      "                                                                 \n",
      "=================================================================\n",
      "Total params: 23,575,045\n",
      "Trainable params: 10,245\n",
      "Non-trainable params: 23,564,800\n",
      "_________________________________________________________________\n"
     ]
    }
   ],
   "source": [
    "base_model = tf.keras.applications.ResNet50V2(\n",
    "    weights=\"imagenet\",  # Load weights pre-trained on ImageNet.\n",
    "    input_shape=(img_height, img_width, 3),\n",
    "    include_top=False,\n",
    ") \n",
    "\n",
    "# Freeze the base_model\n",
    "base_model.trainable = False\n",
    "\n",
    "# Create new model on top\n",
    "inputs = tf.keras.Input(shape=(img_height, img_width, 3))\n",
    "\n",
    "scale_layer = tf.keras.layers.Rescaling(scale=1./255)\n",
    "x = scale_layer(inputs)\n",
    "\n",
    "x = tf.cast(x,tf.float32)\n",
    "\n",
    "x = base_model(x, training=False)\n",
    "x = tf.keras.layers.GlobalAveragePooling2D()(x)\n",
    "\n",
    "#x = tf.keras.layers.Dense(128, activation='relu')(x)\n",
    "x = tf.keras.layers.Dropout(0.2)(x)  # Regularize with dropout\n",
    "outputs = tf.keras.layers.Dense(5,activation='softmax')(x)\n",
    "model = tf.keras.Model(inputs, outputs)\n",
    "\n",
    "model.summary()"
   ]
  },
  {
   "cell_type": "code",
   "execution_count": 22,
   "metadata": {},
   "outputs": [
    {
     "data": {
      "text/plain": [
       "\" #model = tf.keras.Sequential([\\n            tf.keras.layers.experimental.preprocessing.Rescaling(1./255, input_shape=(img_height, img_width, 3)),\\n            tf.keras.layers.Conv2D(256, 3, padding='same', activation='relu'),\\n            tf.keras.layers.MaxPooling2D((2,2)),\\n            tf.keras.layers.Dropout(0.2),\\n            tf.keras.layers.Conv2D(128, 3, padding='same', activation='relu'),            \\n            tf.keras.layers.MaxPooling2D((2,2)),\\n            tf.keras.layers.Dropout(0.2),\\n            tf.keras.layers.Conv2D(16, 3, padding='same', activation='relu'),\\n            tf.keras.layers.MaxPooling2D((2,2)),\\n            tf.keras.layers.Flatten(),\\n            tf.keras.layers.Dense(64, activation='relu'),\\n            tf.keras.layers.Dense(1, activation='sigmoid')\\n        ])\\nmodel.summary() \""
      ]
     },
     "execution_count": 22,
     "metadata": {},
     "output_type": "execute_result"
    }
   ],
   "source": [
    "''' #model = tf.keras.Sequential([\n",
    "            tf.keras.layers.experimental.preprocessing.Rescaling(1./255, input_shape=(img_height, img_width, 3)),\n",
    "            tf.keras.layers.Conv2D(256, 3, padding='same', activation='relu'),\n",
    "            tf.keras.layers.MaxPooling2D((2,2)),\n",
    "            tf.keras.layers.Dropout(0.2),\n",
    "            tf.keras.layers.Conv2D(128, 3, padding='same', activation='relu'),            \n",
    "            tf.keras.layers.MaxPooling2D((2,2)),\n",
    "            tf.keras.layers.Dropout(0.2),\n",
    "            tf.keras.layers.Conv2D(16, 3, padding='same', activation='relu'),\n",
    "            tf.keras.layers.MaxPooling2D((2,2)),\n",
    "            tf.keras.layers.Flatten(),\n",
    "            tf.keras.layers.Dense(64, activation='relu'),\n",
    "            tf.keras.layers.Dense(1, activation='sigmoid')\n",
    "        ])\n",
    "model.summary() '''"
   ]
  },
  {
   "cell_type": "code",
   "execution_count": 23,
   "metadata": {},
   "outputs": [],
   "source": [
    "#resnet \n",
    "#inception v3"
   ]
  },
  {
   "cell_type": "code",
   "execution_count": 24,
   "metadata": {},
   "outputs": [],
   "source": [
    "\n",
    "loss_fn = tf.keras.losses.CategoricalCrossentropy(from_logits=True)\n",
    "optimizer = tf.keras.optimizers.Adam()# modify weight in Adam\n",
    "metrics = ['accuracy']\n",
    "model.compile (optimizer = optimizer,loss =  loss_fn,metrics = metrics)"
   ]
  },
  {
   "cell_type": "code",
   "execution_count": 25,
   "metadata": {},
   "outputs": [],
   "source": [
    "callback = tf.keras.callbacks.EarlyStopping(monitor='val_loss', patience=5)"
   ]
  },
  {
   "cell_type": "code",
   "execution_count": 26,
   "metadata": {},
   "outputs": [
    {
     "name": "stdout",
     "output_type": "stream",
     "text": [
      "Epoch 1/100\n"
     ]
    },
    {
     "name": "stderr",
     "output_type": "stream",
     "text": [
      "c:\\Users\\acer\\anaconda3\\lib\\site-packages\\tensorflow\\python\\util\\dispatch.py:1082: UserWarning: \"`categorical_crossentropy` received `from_logits=True`, but the `output` argument was produced by a sigmoid or softmax activation and thus does not represent logits. Was this intended?\"\n",
      "  return dispatch_target(*args, **kwargs)\n"
     ]
    },
    {
     "name": "stdout",
     "output_type": "stream",
     "text": [
      "3/3 [==============================] - 9s 2s/step - loss: 1.9199 - accuracy: 0.1842 - val_loss: 1.6004 - val_accuracy: 0.2424\n",
      "Epoch 2/100\n",
      "3/3 [==============================] - 5s 2s/step - loss: 1.5231 - accuracy: 0.3553 - val_loss: 1.4200 - val_accuracy: 0.3333\n",
      "Epoch 3/100\n",
      "3/3 [==============================] - 5s 2s/step - loss: 1.3438 - accuracy: 0.4474 - val_loss: 1.2761 - val_accuracy: 0.6364\n",
      "Epoch 4/100\n",
      "3/3 [==============================] - 5s 2s/step - loss: 1.1517 - accuracy: 0.5000 - val_loss: 1.1514 - val_accuracy: 0.6061\n",
      "Epoch 5/100\n",
      "3/3 [==============================] - 5s 2s/step - loss: 1.0138 - accuracy: 0.6842 - val_loss: 1.0539 - val_accuracy: 0.6970\n",
      "Epoch 6/100\n",
      "3/3 [==============================] - 5s 2s/step - loss: 0.8524 - accuracy: 0.7895 - val_loss: 0.9537 - val_accuracy: 0.6970\n",
      "Epoch 7/100\n",
      "3/3 [==============================] - 5s 2s/step - loss: 0.8289 - accuracy: 0.7632 - val_loss: 0.8710 - val_accuracy: 0.7576\n",
      "Epoch 8/100\n",
      "3/3 [==============================] - 6s 2s/step - loss: 0.7092 - accuracy: 0.7763 - val_loss: 0.8045 - val_accuracy: 0.7879\n",
      "Epoch 9/100\n",
      "3/3 [==============================] - 5s 2s/step - loss: 0.6005 - accuracy: 0.8684 - val_loss: 0.7656 - val_accuracy: 0.8182\n",
      "Epoch 10/100\n",
      "3/3 [==============================] - 5s 2s/step - loss: 0.5918 - accuracy: 0.8684 - val_loss: 0.7230 - val_accuracy: 0.8182\n",
      "Epoch 11/100\n",
      "3/3 [==============================] - 5s 2s/step - loss: 0.4755 - accuracy: 0.9474 - val_loss: 0.6698 - val_accuracy: 0.8182\n",
      "Epoch 12/100\n",
      "3/3 [==============================] - 4s 2s/step - loss: 0.4208 - accuracy: 0.9605 - val_loss: 0.6298 - val_accuracy: 0.8182\n",
      "Epoch 13/100\n",
      "3/3 [==============================] - 5s 2s/step - loss: 0.4355 - accuracy: 0.9474 - val_loss: 0.6007 - val_accuracy: 0.8182\n",
      "Epoch 14/100\n",
      "3/3 [==============================] - 5s 2s/step - loss: 0.3617 - accuracy: 0.9737 - val_loss: 0.5735 - val_accuracy: 0.8182\n",
      "Epoch 15/100\n",
      "3/3 [==============================] - 5s 2s/step - loss: 0.3389 - accuracy: 0.9868 - val_loss: 0.5460 - val_accuracy: 0.8182\n",
      "Epoch 16/100\n",
      "3/3 [==============================] - 6s 2s/step - loss: 0.2896 - accuracy: 0.9868 - val_loss: 0.5223 - val_accuracy: 0.8485\n",
      "Epoch 17/100\n",
      "3/3 [==============================] - 6s 2s/step - loss: 0.2616 - accuracy: 0.9737 - val_loss: 0.5046 - val_accuracy: 0.8788\n",
      "Epoch 18/100\n",
      "3/3 [==============================] - 6s 2s/step - loss: 0.3068 - accuracy: 0.9737 - val_loss: 0.4935 - val_accuracy: 0.8788\n",
      "Epoch 19/100\n",
      "3/3 [==============================] - 6s 2s/step - loss: 0.2230 - accuracy: 0.9868 - val_loss: 0.4853 - val_accuracy: 0.8788\n",
      "Epoch 20/100\n",
      "3/3 [==============================] - 6s 2s/step - loss: 0.2444 - accuracy: 1.0000 - val_loss: 0.4743 - val_accuracy: 0.8788\n",
      "Epoch 21/100\n",
      "3/3 [==============================] - 6s 2s/step - loss: 0.2515 - accuracy: 0.9737 - val_loss: 0.4632 - val_accuracy: 0.8788\n",
      "Epoch 22/100\n",
      "3/3 [==============================] - 6s 2s/step - loss: 0.2336 - accuracy: 1.0000 - val_loss: 0.4529 - val_accuracy: 0.8485\n",
      "Epoch 23/100\n",
      "3/3 [==============================] - 6s 2s/step - loss: 0.1808 - accuracy: 1.0000 - val_loss: 0.4388 - val_accuracy: 0.8485\n",
      "Epoch 24/100\n",
      "3/3 [==============================] - 6s 2s/step - loss: 0.2119 - accuracy: 1.0000 - val_loss: 0.4227 - val_accuracy: 0.8788\n",
      "Epoch 25/100\n",
      "3/3 [==============================] - 6s 2s/step - loss: 0.1677 - accuracy: 1.0000 - val_loss: 0.4057 - val_accuracy: 0.8788\n",
      "Epoch 26/100\n",
      "3/3 [==============================] - 6s 2s/step - loss: 0.1672 - accuracy: 1.0000 - val_loss: 0.3940 - val_accuracy: 0.8788\n",
      "Epoch 27/100\n",
      "3/3 [==============================] - 6s 2s/step - loss: 0.1684 - accuracy: 1.0000 - val_loss: 0.3860 - val_accuracy: 0.8788\n",
      "Epoch 28/100\n",
      "3/3 [==============================] - 6s 2s/step - loss: 0.1629 - accuracy: 1.0000 - val_loss: 0.3836 - val_accuracy: 0.8788\n",
      "Epoch 29/100\n",
      "3/3 [==============================] - 6s 2s/step - loss: 0.1478 - accuracy: 1.0000 - val_loss: 0.3847 - val_accuracy: 0.8788\n",
      "Epoch 30/100\n",
      "3/3 [==============================] - 6s 2s/step - loss: 0.1469 - accuracy: 1.0000 - val_loss: 0.3847 - val_accuracy: 0.8788\n",
      "Epoch 31/100\n",
      "3/3 [==============================] - 6s 2s/step - loss: 0.1260 - accuracy: 1.0000 - val_loss: 0.3793 - val_accuracy: 0.8788\n",
      "Epoch 32/100\n",
      "3/3 [==============================] - 6s 2s/step - loss: 0.1278 - accuracy: 1.0000 - val_loss: 0.3706 - val_accuracy: 0.8788\n",
      "Epoch 33/100\n",
      "3/3 [==============================] - 6s 2s/step - loss: 0.1298 - accuracy: 1.0000 - val_loss: 0.3632 - val_accuracy: 0.8788\n",
      "Epoch 34/100\n",
      "3/3 [==============================] - 6s 2s/step - loss: 0.1128 - accuracy: 1.0000 - val_loss: 0.3571 - val_accuracy: 0.8788\n",
      "Epoch 35/100\n",
      "3/3 [==============================] - 6s 2s/step - loss: 0.1146 - accuracy: 1.0000 - val_loss: 0.3498 - val_accuracy: 0.8788\n",
      "Epoch 36/100\n",
      "3/3 [==============================] - 6s 2s/step - loss: 0.0953 - accuracy: 1.0000 - val_loss: 0.3433 - val_accuracy: 0.8788\n",
      "Epoch 37/100\n",
      "3/3 [==============================] - 6s 2s/step - loss: 0.0941 - accuracy: 1.0000 - val_loss: 0.3397 - val_accuracy: 0.8788\n",
      "Epoch 38/100\n",
      "3/3 [==============================] - 6s 2s/step - loss: 0.1043 - accuracy: 1.0000 - val_loss: 0.3361 - val_accuracy: 0.8788\n",
      "Epoch 39/100\n",
      "3/3 [==============================] - 7s 2s/step - loss: 0.0907 - accuracy: 1.0000 - val_loss: 0.3332 - val_accuracy: 0.8788\n",
      "Epoch 40/100\n",
      "3/3 [==============================] - 7s 3s/step - loss: 0.1159 - accuracy: 1.0000 - val_loss: 0.3307 - val_accuracy: 0.8788\n",
      "Epoch 41/100\n",
      "3/3 [==============================] - 7s 2s/step - loss: 0.0884 - accuracy: 1.0000 - val_loss: 0.3287 - val_accuracy: 0.8788\n",
      "Epoch 42/100\n",
      "3/3 [==============================] - 6s 2s/step - loss: 0.0918 - accuracy: 1.0000 - val_loss: 0.3263 - val_accuracy: 0.8788\n",
      "Epoch 43/100\n",
      "3/3 [==============================] - 6s 2s/step - loss: 0.0971 - accuracy: 1.0000 - val_loss: 0.3231 - val_accuracy: 0.8788\n",
      "Epoch 44/100\n",
      "3/3 [==============================] - 6s 2s/step - loss: 0.0762 - accuracy: 1.0000 - val_loss: 0.3213 - val_accuracy: 0.8788\n",
      "Epoch 45/100\n",
      "3/3 [==============================] - 6s 2s/step - loss: 0.0900 - accuracy: 1.0000 - val_loss: 0.3182 - val_accuracy: 0.8788\n",
      "Epoch 46/100\n",
      "3/3 [==============================] - 6s 2s/step - loss: 0.0806 - accuracy: 1.0000 - val_loss: 0.3151 - val_accuracy: 0.8788\n",
      "Epoch 47/100\n",
      "3/3 [==============================] - 6s 2s/step - loss: 0.0853 - accuracy: 1.0000 - val_loss: 0.3120 - val_accuracy: 0.8788\n",
      "Epoch 48/100\n",
      "3/3 [==============================] - 6s 2s/step - loss: 0.0706 - accuracy: 1.0000 - val_loss: 0.3101 - val_accuracy: 0.8788\n",
      "Epoch 49/100\n",
      "3/3 [==============================] - 6s 2s/step - loss: 0.0821 - accuracy: 1.0000 - val_loss: 0.3085 - val_accuracy: 0.8788\n",
      "Epoch 50/100\n",
      "3/3 [==============================] - 6s 2s/step - loss: 0.0715 - accuracy: 1.0000 - val_loss: 0.3076 - val_accuracy: 0.8788\n",
      "Epoch 51/100\n",
      "3/3 [==============================] - 6s 2s/step - loss: 0.0761 - accuracy: 1.0000 - val_loss: 0.3053 - val_accuracy: 0.8788\n",
      "Epoch 52/100\n",
      "3/3 [==============================] - 6s 2s/step - loss: 0.0699 - accuracy: 1.0000 - val_loss: 0.3046 - val_accuracy: 0.8788\n",
      "Epoch 53/100\n",
      "3/3 [==============================] - 6s 2s/step - loss: 0.0694 - accuracy: 1.0000 - val_loss: 0.3042 - val_accuracy: 0.8788\n",
      "Epoch 54/100\n",
      "3/3 [==============================] - 6s 2s/step - loss: 0.0655 - accuracy: 1.0000 - val_loss: 0.3022 - val_accuracy: 0.8788\n",
      "Epoch 55/100\n",
      "3/3 [==============================] - 6s 2s/step - loss: 0.0617 - accuracy: 1.0000 - val_loss: 0.3010 - val_accuracy: 0.8788\n",
      "Epoch 56/100\n",
      "3/3 [==============================] - 6s 2s/step - loss: 0.0593 - accuracy: 1.0000 - val_loss: 0.3015 - val_accuracy: 0.8788\n",
      "Epoch 57/100\n",
      "3/3 [==============================] - 6s 2s/step - loss: 0.0646 - accuracy: 1.0000 - val_loss: 0.3012 - val_accuracy: 0.8788\n",
      "Epoch 58/100\n",
      "3/3 [==============================] - 6s 2s/step - loss: 0.0665 - accuracy: 1.0000 - val_loss: 0.2995 - val_accuracy: 0.8788\n",
      "Epoch 59/100\n",
      "3/3 [==============================] - 6s 2s/step - loss: 0.0581 - accuracy: 1.0000 - val_loss: 0.2973 - val_accuracy: 0.8788\n",
      "Epoch 60/100\n",
      "3/3 [==============================] - 6s 2s/step - loss: 0.0445 - accuracy: 1.0000 - val_loss: 0.2964 - val_accuracy: 0.8788\n",
      "Epoch 61/100\n",
      "3/3 [==============================] - 6s 2s/step - loss: 0.0531 - accuracy: 1.0000 - val_loss: 0.2934 - val_accuracy: 0.8788\n",
      "Epoch 62/100\n",
      "3/3 [==============================] - 6s 2s/step - loss: 0.0525 - accuracy: 1.0000 - val_loss: 0.2896 - val_accuracy: 0.8788\n",
      "Epoch 63/100\n",
      "3/3 [==============================] - 6s 2s/step - loss: 0.0477 - accuracy: 1.0000 - val_loss: 0.2874 - val_accuracy: 0.8788\n",
      "Epoch 64/100\n",
      "3/3 [==============================] - 6s 2s/step - loss: 0.0509 - accuracy: 1.0000 - val_loss: 0.2869 - val_accuracy: 0.8788\n",
      "Epoch 65/100\n",
      "3/3 [==============================] - 6s 2s/step - loss: 0.0491 - accuracy: 1.0000 - val_loss: 0.2878 - val_accuracy: 0.8788\n",
      "Epoch 66/100\n",
      "3/3 [==============================] - 6s 2s/step - loss: 0.0479 - accuracy: 1.0000 - val_loss: 0.2860 - val_accuracy: 0.8788\n",
      "Epoch 67/100\n",
      "3/3 [==============================] - 6s 2s/step - loss: 0.0419 - accuracy: 1.0000 - val_loss: 0.2845 - val_accuracy: 0.8788\n",
      "Epoch 68/100\n",
      "3/3 [==============================] - 6s 2s/step - loss: 0.0457 - accuracy: 1.0000 - val_loss: 0.2821 - val_accuracy: 0.8788\n",
      "Epoch 69/100\n",
      "3/3 [==============================] - 6s 2s/step - loss: 0.0510 - accuracy: 1.0000 - val_loss: 0.2791 - val_accuracy: 0.8788\n",
      "Epoch 70/100\n",
      "3/3 [==============================] - 6s 2s/step - loss: 0.0435 - accuracy: 1.0000 - val_loss: 0.2754 - val_accuracy: 0.8788\n",
      "Epoch 71/100\n",
      "3/3 [==============================] - 6s 2s/step - loss: 0.0526 - accuracy: 1.0000 - val_loss: 0.2747 - val_accuracy: 0.8788\n",
      "Epoch 72/100\n",
      "3/3 [==============================] - 6s 2s/step - loss: 0.0437 - accuracy: 1.0000 - val_loss: 0.2759 - val_accuracy: 0.8788\n",
      "Epoch 73/100\n",
      "3/3 [==============================] - 6s 2s/step - loss: 0.0401 - accuracy: 1.0000 - val_loss: 0.2767 - val_accuracy: 0.8788\n",
      "Epoch 74/100\n",
      "3/3 [==============================] - 6s 2s/step - loss: 0.0393 - accuracy: 1.0000 - val_loss: 0.2755 - val_accuracy: 0.8788\n",
      "Epoch 75/100\n",
      "3/3 [==============================] - 6s 2s/step - loss: 0.0384 - accuracy: 1.0000 - val_loss: 0.2717 - val_accuracy: 0.8788\n",
      "Epoch 76/100\n",
      "3/3 [==============================] - 6s 2s/step - loss: 0.0426 - accuracy: 1.0000 - val_loss: 0.2678 - val_accuracy: 0.8788\n",
      "Epoch 77/100\n",
      "3/3 [==============================] - 6s 2s/step - loss: 0.0382 - accuracy: 1.0000 - val_loss: 0.2650 - val_accuracy: 0.8788\n",
      "Epoch 78/100\n",
      "3/3 [==============================] - 6s 2s/step - loss: 0.0391 - accuracy: 1.0000 - val_loss: 0.2644 - val_accuracy: 0.8788\n",
      "Epoch 79/100\n",
      "3/3 [==============================] - 6s 2s/step - loss: 0.0391 - accuracy: 1.0000 - val_loss: 0.2653 - val_accuracy: 0.8788\n",
      "Epoch 80/100\n",
      "3/3 [==============================] - 6s 2s/step - loss: 0.0322 - accuracy: 1.0000 - val_loss: 0.2663 - val_accuracy: 0.8788\n",
      "Epoch 81/100\n",
      "3/3 [==============================] - 6s 2s/step - loss: 0.0358 - accuracy: 1.0000 - val_loss: 0.2671 - val_accuracy: 0.8788\n",
      "Epoch 82/100\n",
      "3/3 [==============================] - 7s 2s/step - loss: 0.0352 - accuracy: 1.0000 - val_loss: 0.2684 - val_accuracy: 0.8788\n",
      "Epoch 83/100\n",
      "3/3 [==============================] - 6s 2s/step - loss: 0.0281 - accuracy: 1.0000 - val_loss: 0.2694 - val_accuracy: 0.8788\n"
     ]
    }
   ],
   "source": [
    "# Set the epocks\n",
    "# ทำ stop + validation\n",
    "epochs = 100\n",
    "history = model.fit(x_train, y_train, epochs=epochs,validation_split=0.3,callbacks=callback,class_weight = class_weights)\n",
    "\n",
    "#history = model.fit(x_train, y_train, epochs=epochs,validation_split=0.3)"
   ]
  },
  {
   "cell_type": "code",
   "execution_count": 27,
   "metadata": {},
   "outputs": [
    {
     "data": {
      "image/png": "[encoded data removed]",
      "text/plain": [
       "<Figure size 432x288 with 1 Axes>"
      ]
     },
     "metadata": {
      "needs_background": "light"
     },
     "output_type": "display_data"
    }
   ],
   "source": [
    "plt.plot(history.history['loss'],label = 'loss')\n",
    "plt.plot(history.history['val_loss'],label = 'val_loss')\n",
    "plt.legend()\n",
    "plt.show()"
   ]
  },
  {
   "cell_type": "code",
   "execution_count": 28,
   "metadata": {},
   "outputs": [
    {
     "name": "stdout",
     "output_type": "stream",
     "text": [
      "Model: \"model\"\n",
      "_________________________________________________________________\n",
      " Layer (type)                Output Shape              Param #   \n",
      "=================================================================\n",
      " input_4 (InputLayer)        [(None, 256, 256, 3)]     0         \n",
      "                                                                 \n",
      " rescaling_1 (Rescaling)     (None, 256, 256, 3)       0         \n",
      "                                                                 \n",
      " tf.cast_1 (TFOpLambda)      (None, 256, 256, 3)       0         \n",
      "                                                                 \n",
      " resnet50v2 (Functional)     (None, 8, 8, 2048)        23564800  \n",
      "                                                                 \n",
      " global_average_pooling2d_1   (None, 2048)             0         \n",
      " (GlobalAveragePooling2D)                                        \n",
      "                                                                 \n",
      " dropout_1 (Dropout)         (None, 2048)              0         \n",
      "                                                                 \n",
      " dense (Dense)               (None, 5)                 10245     \n",
      "                                                                 \n",
      "=================================================================\n",
      "Total params: 23,575,045\n",
      "Trainable params: 23,529,605\n",
      "Non-trainable params: 45,440\n",
      "_________________________________________________________________\n",
      "Epoch 1/50\n"
     ]
    },
    {
     "name": "stderr",
     "output_type": "stream",
     "text": [
      "c:\\Users\\acer\\anaconda3\\lib\\site-packages\\tensorflow\\python\\util\\dispatch.py:1082: UserWarning: \"`categorical_crossentropy` received `from_logits=True`, but the `output` argument was produced by a sigmoid or softmax activation and thus does not represent logits. Was this intended?\"\n",
      "  return dispatch_target(*args, **kwargs)\n"
     ]
    },
    {
     "name": "stdout",
     "output_type": "stream",
     "text": [
      "3/3 [==============================] - 27s 7s/step - loss: 0.0322 - binary_accuracy: 1.0000 - val_loss: 0.1387 - val_binary_accuracy: 0.9636\n",
      "Epoch 2/50\n",
      "3/3 [==============================] - 23s 7s/step - loss: 0.0084 - binary_accuracy: 1.0000 - val_loss: 0.2152 - val_binary_accuracy: 0.9697\n",
      "Epoch 3/50\n",
      "3/3 [==============================] - 22s 7s/step - loss: 0.0074 - binary_accuracy: 1.0000 - val_loss: 0.1668 - val_binary_accuracy: 0.9818\n",
      "Epoch 4/50\n",
      "3/3 [==============================] - 22s 7s/step - loss: 0.0022 - binary_accuracy: 1.0000 - val_loss: 0.0805 - val_binary_accuracy: 0.9758\n",
      "Epoch 5/50\n",
      "3/3 [==============================] - 22s 7s/step - loss: 0.0011 - binary_accuracy: 1.0000 - val_loss: 0.0819 - val_binary_accuracy: 0.9879\n",
      "Epoch 6/50\n",
      "3/3 [==============================] - 22s 7s/step - loss: 1.7798e-04 - binary_accuracy: 1.0000 - val_loss: 0.1115 - val_binary_accuracy: 0.9758\n",
      "Epoch 7/50\n",
      "3/3 [==============================] - 22s 7s/step - loss: 3.4336e-04 - binary_accuracy: 1.0000 - val_loss: 0.1376 - val_binary_accuracy: 0.9758\n",
      "Epoch 8/50\n",
      "3/3 [==============================] - 22s 7s/step - loss: 1.7501e-04 - binary_accuracy: 1.0000 - val_loss: 0.1484 - val_binary_accuracy: 0.9758\n",
      "Epoch 9/50\n",
      "3/3 [==============================] - 22s 7s/step - loss: 2.2061e-04 - binary_accuracy: 1.0000 - val_loss: 0.1480 - val_binary_accuracy: 0.9758\n"
     ]
    }
   ],
   "source": [
    "base_model.trainable = True\n",
    "model.summary()\n",
    "\n",
    "model.compile(\n",
    "    optimizer=tf.keras.optimizers.Adam(1e-5),  # Low learning rate\n",
    "    loss=tf.keras.losses.CategoricalCrossentropy(from_logits=True),\n",
    "    metrics=[tf.keras.metrics.BinaryAccuracy()],\n",
    ")\n",
    "\n",
    "epochs = 50\n",
    "history = model.fit(x_train, y_train, epochs=epochs,validation_split=0.3,callbacks=callback,class_weight = class_weights)"
   ]
  },
  {
   "cell_type": "code",
   "execution_count": 29,
   "metadata": {},
   "outputs": [
    {
     "data": {
      "image/png": "[encoded data removed]",
      "text/plain": [
       "<Figure size 432x288 with 1 Axes>"
      ]
     },
     "metadata": {
      "needs_background": "light"
     },
     "output_type": "display_data"
    }
   ],
   "source": [
    "plt.plot(history.history['loss'],label = 'loss')\n",
    "plt.plot(history.history['val_loss'],label = 'val_loss')\n",
    "plt.legend()\n",
    "plt.show()"
   ]
  },
  {
   "cell_type": "code",
   "execution_count": 30,
   "metadata": {},
   "outputs": [],
   "source": [
    "pred = model.predict(x_test)\n",
    "\n",
    "y_pred = np.argmax(pred, axis=1)\n",
    "actual = x_test"
   ]
  },
  {
   "cell_type": "code",
   "execution_count": 31,
   "metadata": {},
   "outputs": [
    {
     "data": {
      "text/plain": [
       "array([2, 2, 2, 0, 1, 2, 1, 2, 4, 3, 4, 2, 4, 2, 1, 4, 2, 3, 4, 2, 2, 4,\n",
       "       4, 0, 0, 4, 2, 4, 1, 4, 0, 3, 4, 1, 4, 2, 1, 0, 1, 4, 2, 4, 4, 0,\n",
       "       0, 1, 1, 3, 0, 2, 1, 2, 1, 3, 2, 0, 2], dtype=int64)"
      ]
     },
     "execution_count": 31,
     "metadata": {},
     "output_type": "execute_result"
    }
   ],
   "source": [
    "y_pred"
   ]
  },
  {
   "cell_type": "code",
   "execution_count": 32,
   "metadata": {},
   "outputs": [
    {
     "data": {
      "text/plain": [
       "array([[0, 0, 1, 0, 0],\n",
       "       [0, 0, 1, 0, 0],\n",
       "       [0, 0, 1, 0, 0],\n",
       "       [1, 0, 0, 0, 0],\n",
       "       [0, 1, 0, 0, 0],\n",
       "       [0, 0, 1, 0, 0],\n",
       "       [0, 1, 0, 0, 0],\n",
       "       [0, 0, 0, 0, 1],\n",
       "       [0, 0, 0, 0, 1],\n",
       "       [0, 0, 0, 1, 0],\n",
       "       [0, 0, 0, 0, 1],\n",
       "       [0, 0, 1, 0, 0],\n",
       "       [0, 0, 0, 0, 1],\n",
       "       [0, 0, 0, 1, 0],\n",
       "       [0, 1, 0, 0, 0],\n",
       "       [0, 0, 0, 0, 1],\n",
       "       [0, 0, 1, 0, 0],\n",
       "       [0, 0, 0, 1, 0],\n",
       "       [0, 0, 0, 0, 1],\n",
       "       [0, 0, 0, 1, 0],\n",
       "       [0, 0, 1, 0, 0],\n",
       "       [0, 0, 0, 0, 1],\n",
       "       [0, 0, 0, 0, 1],\n",
       "       [1, 0, 0, 0, 0],\n",
       "       [1, 0, 0, 0, 0],\n",
       "       [0, 0, 0, 0, 1],\n",
       "       [0, 0, 1, 0, 0],\n",
       "       [0, 0, 0, 0, 1],\n",
       "       [0, 1, 0, 0, 0],\n",
       "       [0, 0, 0, 0, 1],\n",
       "       [0, 0, 0, 1, 0],\n",
       "       [0, 0, 0, 1, 0],\n",
       "       [0, 0, 0, 0, 1],\n",
       "       [0, 1, 0, 0, 0],\n",
       "       [0, 0, 0, 0, 1],\n",
       "       [0, 0, 1, 0, 0],\n",
       "       [1, 0, 0, 0, 0],\n",
       "       [1, 0, 0, 0, 0],\n",
       "       [0, 1, 0, 0, 0],\n",
       "       [0, 0, 0, 0, 1],\n",
       "       [0, 0, 0, 0, 1],\n",
       "       [0, 0, 0, 0, 1],\n",
       "       [0, 0, 0, 0, 1],\n",
       "       [1, 0, 0, 0, 0],\n",
       "       [1, 0, 0, 0, 0],\n",
       "       [0, 1, 0, 0, 0],\n",
       "       [0, 1, 0, 0, 0],\n",
       "       [0, 0, 0, 1, 0],\n",
       "       [1, 0, 0, 0, 0],\n",
       "       [0, 0, 1, 0, 0],\n",
       "       [0, 1, 0, 0, 0],\n",
       "       [0, 0, 1, 0, 0],\n",
       "       [0, 1, 0, 0, 0],\n",
       "       [0, 0, 0, 1, 0],\n",
       "       [0, 0, 1, 0, 0],\n",
       "       [1, 0, 0, 0, 0],\n",
       "       [0, 0, 1, 0, 0]])"
      ]
     },
     "execution_count": 32,
     "metadata": {},
     "output_type": "execute_result"
    }
   ],
   "source": [
    "y_test"
   ]
  },
  {
   "cell_type": "code",
   "execution_count": 33,
   "metadata": {},
   "outputs": [],
   "source": [
    "y_test = np.argmax(y_test, axis=1)"
   ]
  },
  {
   "cell_type": "code",
   "execution_count": 34,
   "metadata": {},
   "outputs": [
    {
     "data": {
      "text/plain": [
       "<function matplotlib.pyplot.show(*args, **kw)>"
      ]
     },
     "execution_count": 34,
     "metadata": {},
     "output_type": "execute_result"
    },
    {
     "data": {
      "image/png": "[encoded data removed]",
      "text/plain": [
       "<Figure size 432x288 with 2 Axes>"
      ]
     },
     "metadata": {
      "needs_background": "light"
     },
     "output_type": "display_data"
    }
   ],
   "source": [
    "cm = confusion_matrix(y_test, y_pred)\n",
    "disp = ConfusionMatrixDisplay(confusion_matrix=cm,display_labels=class_names)\n",
    "disp.plot()\n",
    "plt.show"
   ]
  },
  {
   "cell_type": "code",
   "execution_count": 35,
   "metadata": {},
   "outputs": [
    {
     "name": "stdout",
     "output_type": "stream",
     "text": [
      "              precision    recall  f1-score   support\n",
      "\n",
      "     burping       0.89      0.89      0.89         9\n",
      "  discomfort       0.91      1.00      0.95        10\n",
      "      hungry       0.76      1.00      0.87        13\n",
      "        poop       1.00      0.62      0.77         8\n",
      "       tired       1.00      0.88      0.94        17\n",
      "\n",
      "    accuracy                           0.89        57\n",
      "   macro avg       0.91      0.88      0.88        57\n",
      "weighted avg       0.91      0.89      0.89        57\n",
      "\n"
     ]
    }
   ],
   "source": [
    "from sklearn.metrics import classification_report\n",
    "print(classification_report(y_test, y_pred,target_names=class_names))"
   ]
  },
  {
   "cell_type": "code",
   "execution_count": null,
   "metadata": {},
   "outputs": [],
   "source": [
    "\n"
   ]
  }
 ],
 "metadata": {
  "kernelspec": {
   "display_name": "Python 3.7.6 ('base')",
   "language": "python",
   "name": "python3"
  },
  "language_info": {
   "codemirror_mode": {
    "name": "ipython",
    "version": 3
   },
   "file_extension": ".py",
   "mimetype": "text/x-python",
   "name": "python",
   "nbconvert_exporter": "python",
   "pygments_lexer": "ipython3",
   "version": "3.7.6"
  },
  "orig_nbformat": 4,
  "vscode": {
   "interpreter": {
    "hash": "23bf0724a01b6ea9814e66f76182ea78c0ee849a72ca257c0e116bf83bb4960a"
   }
  }
 },
 "nbformat": 4,
 "nbformat_minor": 2
}
