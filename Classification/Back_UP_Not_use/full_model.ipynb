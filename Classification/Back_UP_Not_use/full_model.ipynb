{
 "cells": [
  {
   "cell_type": "code",
   "execution_count": 50,
   "metadata": {},
   "outputs": [],
   "source": [
    "import os\n",
    "import librosa, librosa.display\n",
    "import matplotlib.pyplot as plt\n",
    "from pathlib import Path\n",
    "import tensorflow as tf\n",
    "import IPython.display as ipd\n",
    "import numpy as np\n",
    "from sklearn.metrics import confusion_matrix, ConfusionMatrixDisplay\n",
    "from keras.callbacks import ModelCheckpoint\n",
    "from sklearn.metrics import classification_report\n",
    "from sklearn.model_selection import train_test_split\n",
    "import shutil"
   ]
  },
  {
   "cell_type": "code",
   "execution_count": 51,
   "metadata": {},
   "outputs": [],
   "source": [
    "img_height = 432\n",
    "img_width = 288\n",
    "\n",
    "type_classification_directory = './data/img_data/dustan/phase1/mel_freq/'\n",
    "\n",
    "burpAndPoop_directory = './data/img_data/dustan/type1/mel_spectrogram/'\n",
    "\n",
    "HungryTiredAndDiscomfort_directory = './data/img_data/dustan/type2/mel_spectrogram/'\n"
   ]
  },
  {
   "cell_type": "code",
   "execution_count": 52,
   "metadata": {},
   "outputs": [],
   "source": [
    "def dummy(data,numarr):\n",
    "    new_data =[]\n",
    "    for i in data:\n",
    "        lab_data = []\n",
    "        for j in range(0,numarr):\n",
    "            lab_data.append(0)\n",
    "        #lab_data =[0,0]\n",
    "        lab_data[i] = 1\n",
    "        new_data.append(lab_data)\n",
    "    return new_data"
   ]
  },
  {
   "cell_type": "code",
   "execution_count": 53,
   "metadata": {},
   "outputs": [],
   "source": [
    "def create_weight(n_sample,n_class,n_class_sample):\n",
    "    weight = n_sample/(n_class*n_class_sample)\n",
    "    return weight "
   ]
  },
  {
   "cell_type": "code",
   "execution_count": 54,
   "metadata": {},
   "outputs": [],
   "source": [
    "\n",
    "def createdict(num):\n",
    "    lab_data = []\n",
    "    for i in range(0,num):\n",
    "        lab_data.append(i)\n",
    "    dic = dict.fromkeys(lab_data, 0)\n",
    "    return dic"
   ]
  },
  {
   "cell_type": "code",
   "execution_count": 55,
   "metadata": {},
   "outputs": [],
   "source": [
    "def createWeight(class_count,num_classes):\n",
    "    class_weights = createdict(num_classes)\n",
    "    for i in range(num_classes):\n",
    "        class_weights[i]=create_weight(np.sum(class_count),num_classes,class_count[i])\n",
    "    return class_weights"
   ]
  },
  {
   "cell_type": "code",
   "execution_count": 57,
   "metadata": {},
   "outputs": [],
   "source": [
    "def preprocess(data_dir,numclass):\n",
    "    data_ds = tf.keras.preprocessing.image_dataset_from_directory(\n",
    "    data_dir, labels='inferred', label_mode='int', image_size=(432, 288), seed=321,\n",
    "    validation_split=None, subset=None)\n",
    "    class_names = data_ds.class_names\n",
    "    \n",
    "    feature=[]\n",
    "    label=[]\n",
    "    for images, labels in data_ds.unbatch().take(-1):\n",
    "        feature.append(images.numpy())\n",
    "        label.append(labels.numpy())\n",
    "        \n",
    "    x_train,x_test,y_train,y_test = train_test_split(feature,label,test_size = 0.20,random_state =101)\n",
    "    \n",
    "    x_train = np.array(x_train)\n",
    "    x_test = np.array(x_test)\n",
    "    y_train = np.array(y_train)\n",
    "    y_test = np.array(y_test)\n",
    "    \n",
    "    \n",
    "    class_count=[]\n",
    "    for i in range(0,numclass):\n",
    "        class_count.append(np.count_nonzero(y_train == i))\n",
    "    class_count = np.array(class_count)\n",
    "    y_train = dummy(y_train,numclass)\n",
    "    y_test = dummy(y_test,numclass)\n",
    "    class_weights = createWeight(class_count,numclass)\n",
    "   \n",
    "    \n",
    "    y_train = np.array(y_train)\n",
    "    y_test = np.array(y_test)\n",
    "    return x_train,x_test,y_train,y_test,class_weights,class_names\n",
    "    "
   ]
  },
  {
   "cell_type": "code",
   "execution_count": 58,
   "metadata": {},
   "outputs": [
    {
     "name": "stdout",
     "output_type": "stream",
     "text": [
      "Found 175 files belonging to 2 classes.\n"
     ]
    }
   ],
   "source": [
    "x_train,x_test,y_train,y_test,class_weights,class_names = preprocess(type_classification_directory,2)"
   ]
  },
  {
   "cell_type": "code",
   "execution_count": 59,
   "metadata": {},
   "outputs": [],
   "source": [
    "def categories2binary(categories):\n",
    "    binarydata = []\n",
    "    for item in categories:\n",
    "        binarydata.append(item[0])\n",
    "    binarydata=np.array(binarydata)\n",
    "    return(binarydata)"
   ]
  },
  {
   "cell_type": "code",
   "execution_count": 60,
   "metadata": {},
   "outputs": [],
   "source": [
    "def binary2categories(binary):\n",
    "    new_data = []\n",
    "    for i in binary:\n",
    "        lab_data = []\n",
    "        for j in range(0,2):\n",
    "            lab_data.append(0)\n",
    "        if(i>=0.5):\n",
    "            lab_data[1]=1;\n",
    "        elif(i<0.5):\n",
    "            lab_data[0]=1;\n",
    "        new_data.append(lab_data)\n",
    "    new_data = np.array(new_data)\n",
    "    return(new_data)"
   ]
  },
  {
   "cell_type": "code",
   "execution_count": 61,
   "metadata": {},
   "outputs": [
    {
     "name": "stdout",
     "output_type": "stream",
     "text": [
      "Model: \"model_6\"\n",
      "_________________________________________________________________\n",
      " Layer (type)                Output Shape              Param #   \n",
      "=================================================================\n",
      " input_14 (InputLayer)       [(None, 432, 288, 3)]     0         \n",
      "                                                                 \n",
      " rescaling_6 (Rescaling)     (None, 432, 288, 3)       0         \n",
      "                                                                 \n",
      " tf.cast_6 (TFOpLambda)      (None, 432, 288, 3)       0         \n",
      "                                                                 \n",
      " resnet50v2 (Functional)     (None, 14, 9, 2048)       23564800  \n",
      "                                                                 \n",
      " conv2d_6 (Conv2D)           (None, 14, 9, 128)        2359424   \n",
      "                                                                 \n",
      " max_pooling2d_27 (MaxPoolin  (None, 7, 4, 128)        0         \n",
      " g2D)                                                            \n",
      "                                                                 \n",
      " dropout_12 (Dropout)        (None, 7, 4, 128)         0         \n",
      "                                                                 \n",
      " global_average_pooling2d_6   (None, 128)              0         \n",
      " (GlobalAveragePooling2D)                                        \n",
      "                                                                 \n",
      " dropout_13 (Dropout)        (None, 128)               0         \n",
      "                                                                 \n",
      " dense_6 (Dense)             (None, 2)                 258       \n",
      "                                                                 \n",
      "=================================================================\n",
      "Total params: 25,924,482\n",
      "Trainable params: 2,359,682\n",
      "Non-trainable params: 23,564,800\n",
      "_________________________________________________________________\n"
     ]
    }
   ],
   "source": [
    "base_model = tf.keras.applications.ResNet50V2(\n",
    "    weights=\"imagenet\",  # Load weights pre-trained on ImageNet.\n",
    "    input_shape=(img_height, img_width, 3),\n",
    "    include_top=False,\n",
    ") \n",
    "\n",
    "# Freeze the base_model\n",
    "base_model.trainable = False\n",
    "\n",
    "# Create new model on top\n",
    "\n",
    "inputs = tf.keras.Input(shape=(img_height, img_width, 3))\n",
    "\n",
    "scale_layer = tf.keras.layers.Rescaling(scale=1./255)\n",
    "x = scale_layer(inputs)\n",
    "\n",
    "x = tf.cast(x,tf.float32)\n",
    "\n",
    "x = base_model(x, training=False)\n",
    "\n",
    "x = tf.keras.layers.Conv2D(128, 3, padding='same', activation='relu')(x)          \n",
    "x = tf.keras.layers.MaxPooling2D((2,2))(x)\n",
    "x = tf.keras.layers.Dropout(0.2)(x)\n",
    "            \n",
    "x = tf.keras.layers.GlobalAveragePooling2D()(x)\n",
    "\n",
    "#x = tf.keras.layers.Dense(128, activation='relu')(x)\n",
    "\n",
    "x = tf.keras.layers.Dropout(0.2)(x)  # Regularize with dropout\n",
    "outputs = tf.keras.layers.Dense(2,activation='softmax')(x)\n",
    "model = tf.keras.Model(inputs, outputs)\n",
    "\n",
    "model.summary()"
   ]
  },
  {
   "cell_type": "code",
   "execution_count": 62,
   "metadata": {},
   "outputs": [
    {
     "name": "stdout",
     "output_type": "stream",
     "text": [
      "Epoch 1/100\n"
     ]
    },
    {
     "name": "stderr",
     "output_type": "stream",
     "text": [
      "c:\\Users\\acer\\anaconda3\\lib\\site-packages\\tensorflow\\python\\util\\dispatch.py:1082: UserWarning: \"`categorical_crossentropy` received `from_logits=True`, but the `output` argument was produced by a sigmoid or softmax activation and thus does not represent logits. Was this intended?\"\n",
      "  return dispatch_target(*args, **kwargs)\n"
     ]
    },
    {
     "name": "stdout",
     "output_type": "stream",
     "text": [
      "4/4 [==============================] - 19s 4s/step - loss: 7.0764 - accuracy: 0.5893 - val_loss: 1.2059 - val_accuracy: 0.6786\n",
      "Epoch 2/100\n",
      "4/4 [==============================] - 14s 4s/step - loss: 1.1527 - accuracy: 0.5268 - val_loss: 1.0232 - val_accuracy: 0.3214\n",
      "Epoch 3/100\n",
      "4/4 [==============================] - 14s 4s/step - loss: 0.8063 - accuracy: 0.3214 - val_loss: 0.7378 - val_accuracy: 0.3214\n",
      "Epoch 4/100\n",
      "4/4 [==============================] - 14s 4s/step - loss: 0.6694 - accuracy: 0.3214 - val_loss: 0.6985 - val_accuracy: 0.3214\n",
      "Epoch 5/100\n",
      "4/4 [==============================] - 14s 4s/step - loss: 0.6489 - accuracy: 0.3304 - val_loss: 0.6864 - val_accuracy: 0.3214\n",
      "Epoch 6/100\n",
      "4/4 [==============================] - 14s 4s/step - loss: 0.6308 - accuracy: 0.4107 - val_loss: 0.6825 - val_accuracy: 0.3214\n",
      "Epoch 7/100\n",
      "4/4 [==============================] - 14s 4s/step - loss: 0.6190 - accuracy: 0.4286 - val_loss: 0.6834 - val_accuracy: 0.3571\n",
      "Epoch 8/100\n",
      "4/4 [==============================] - 14s 4s/step - loss: 0.6050 - accuracy: 0.4911 - val_loss: 0.6773 - val_accuracy: 0.3929\n",
      "Epoch 9/100\n",
      "4/4 [==============================] - 14s 4s/step - loss: 0.5808 - accuracy: 0.4821 - val_loss: 0.6658 - val_accuracy: 0.5000\n",
      "Epoch 10/100\n",
      "4/4 [==============================] - 14s 4s/step - loss: 0.5713 - accuracy: 0.5357 - val_loss: 0.6471 - val_accuracy: 0.6429\n",
      "Epoch 11/100\n",
      "4/4 [==============================] - 14s 4s/step - loss: 0.5553 - accuracy: 0.6518 - val_loss: 0.6308 - val_accuracy: 0.7143\n",
      "Epoch 12/100\n",
      "4/4 [==============================] - 14s 4s/step - loss: 0.5438 - accuracy: 0.7054 - val_loss: 0.6038 - val_accuracy: 0.7500\n",
      "Epoch 13/100\n",
      "4/4 [==============================] - 14s 4s/step - loss: 0.5213 - accuracy: 0.8036 - val_loss: 0.5704 - val_accuracy: 0.7500\n",
      "Epoch 14/100\n",
      "4/4 [==============================] - 14s 4s/step - loss: 0.4873 - accuracy: 0.8125 - val_loss: 0.5502 - val_accuracy: 0.7857\n",
      "Epoch 15/100\n",
      "4/4 [==============================] - 14s 4s/step - loss: 0.4946 - accuracy: 0.7946 - val_loss: 0.5461 - val_accuracy: 0.7500\n",
      "Epoch 16/100\n",
      "4/4 [==============================] - 14s 4s/step - loss: 0.4225 - accuracy: 0.8482 - val_loss: 0.4852 - val_accuracy: 0.8214\n",
      "Epoch 17/100\n",
      "4/4 [==============================] - 14s 4s/step - loss: 0.4036 - accuracy: 0.9018 - val_loss: 0.4585 - val_accuracy: 0.8214\n",
      "Epoch 18/100\n",
      "4/4 [==============================] - 14s 4s/step - loss: 0.4006 - accuracy: 0.8661 - val_loss: 0.4749 - val_accuracy: 0.7857\n",
      "Epoch 19/100\n",
      "4/4 [==============================] - 17s 4s/step - loss: 0.3935 - accuracy: 0.8571 - val_loss: 0.4599 - val_accuracy: 0.8214\n",
      "Epoch 20/100\n",
      "4/4 [==============================] - 15s 4s/step - loss: 0.4073 - accuracy: 0.7946 - val_loss: 0.4342 - val_accuracy: 0.8571\n",
      "Epoch 21/100\n",
      "4/4 [==============================] - 14s 4s/step - loss: 0.4088 - accuracy: 0.8571 - val_loss: 0.4530 - val_accuracy: 0.8571\n",
      "Epoch 22/100\n",
      "4/4 [==============================] - 14s 4s/step - loss: 0.3482 - accuracy: 0.8304 - val_loss: 0.4826 - val_accuracy: 0.7500\n",
      "Epoch 23/100\n",
      "4/4 [==============================] - 14s 4s/step - loss: 0.3103 - accuracy: 0.8929 - val_loss: 0.4302 - val_accuracy: 0.8214\n",
      "Epoch 24/100\n",
      "4/4 [==============================] - 14s 4s/step - loss: 0.3060 - accuracy: 0.9196 - val_loss: 0.4322 - val_accuracy: 0.7857\n",
      "Epoch 25/100\n",
      "4/4 [==============================] - 14s 4s/step - loss: 0.2990 - accuracy: 0.9286 - val_loss: 0.4416 - val_accuracy: 0.7857\n",
      "Epoch 26/100\n",
      "4/4 [==============================] - 14s 4s/step - loss: 0.2885 - accuracy: 0.9107 - val_loss: 0.4228 - val_accuracy: 0.8214\n",
      "Epoch 27/100\n",
      "4/4 [==============================] - 14s 4s/step - loss: 0.2595 - accuracy: 0.9375 - val_loss: 0.4308 - val_accuracy: 0.7857\n",
      "Epoch 28/100\n",
      "4/4 [==============================] - 14s 4s/step - loss: 0.2359 - accuracy: 0.9196 - val_loss: 0.4001 - val_accuracy: 0.7857\n",
      "Epoch 29/100\n",
      "4/4 [==============================] - 14s 4s/step - loss: 0.2534 - accuracy: 0.9375 - val_loss: 0.3661 - val_accuracy: 0.7857\n",
      "Epoch 30/100\n",
      "4/4 [==============================] - 14s 4s/step - loss: 0.2182 - accuracy: 0.9554 - val_loss: 0.3935 - val_accuracy: 0.7857\n",
      "Epoch 31/100\n",
      "4/4 [==============================] - 14s 4s/step - loss: 0.2076 - accuracy: 0.9375 - val_loss: 0.3935 - val_accuracy: 0.7857\n",
      "Epoch 32/100\n",
      "4/4 [==============================] - 14s 4s/step - loss: 0.1926 - accuracy: 0.9375 - val_loss: 0.3654 - val_accuracy: 0.8214\n",
      "Epoch 33/100\n",
      "4/4 [==============================] - 14s 4s/step - loss: 0.2229 - accuracy: 0.9196 - val_loss: 0.3486 - val_accuracy: 0.7857\n",
      "Epoch 34/100\n",
      "4/4 [==============================] - 14s 4s/step - loss: 0.2082 - accuracy: 0.9464 - val_loss: 0.3718 - val_accuracy: 0.7857\n",
      "Epoch 35/100\n",
      "4/4 [==============================] - 14s 4s/step - loss: 0.1642 - accuracy: 0.9375 - val_loss: 0.3826 - val_accuracy: 0.7857\n",
      "Epoch 36/100\n",
      "4/4 [==============================] - 14s 4s/step - loss: 0.1641 - accuracy: 0.9554 - val_loss: 0.3469 - val_accuracy: 0.7857\n",
      "Epoch 37/100\n",
      "4/4 [==============================] - 14s 4s/step - loss: 0.1853 - accuracy: 0.9375 - val_loss: 0.3397 - val_accuracy: 0.7857\n",
      "Epoch 38/100\n",
      "4/4 [==============================] - 14s 4s/step - loss: 0.1522 - accuracy: 0.9732 - val_loss: 0.3951 - val_accuracy: 0.7500\n",
      "Epoch 39/100\n",
      "4/4 [==============================] - 14s 4s/step - loss: 0.1476 - accuracy: 0.9554 - val_loss: 0.4041 - val_accuracy: 0.7500\n",
      "Epoch 40/100\n",
      "4/4 [==============================] - 14s 4s/step - loss: 0.1334 - accuracy: 0.9911 - val_loss: 0.3519 - val_accuracy: 0.7857\n",
      "Epoch 41/100\n",
      "4/4 [==============================] - 14s 4s/step - loss: 0.1224 - accuracy: 0.9821 - val_loss: 0.3359 - val_accuracy: 0.7857\n",
      "Epoch 42/100\n",
      "4/4 [==============================] - 14s 4s/step - loss: 0.1452 - accuracy: 0.9554 - val_loss: 0.4003 - val_accuracy: 0.7857\n",
      "Epoch 43/100\n",
      "4/4 [==============================] - 14s 4s/step - loss: 0.1263 - accuracy: 0.9732 - val_loss: 0.3954 - val_accuracy: 0.7857\n",
      "Epoch 44/100\n",
      "4/4 [==============================] - 14s 4s/step - loss: 0.0880 - accuracy: 1.0000 - val_loss: 0.3258 - val_accuracy: 0.7857\n",
      "Epoch 45/100\n",
      "4/4 [==============================] - 14s 4s/step - loss: 0.1176 - accuracy: 0.9732 - val_loss: 0.3222 - val_accuracy: 0.7857\n",
      "Epoch 46/100\n",
      "4/4 [==============================] - 14s 4s/step - loss: 0.1288 - accuracy: 0.9821 - val_loss: 0.3976 - val_accuracy: 0.7500\n",
      "Epoch 47/100\n",
      "4/4 [==============================] - 14s 4s/step - loss: 0.1201 - accuracy: 0.9732 - val_loss: 0.3489 - val_accuracy: 0.7857\n",
      "Epoch 48/100\n",
      "4/4 [==============================] - 14s 4s/step - loss: 0.0665 - accuracy: 0.9911 - val_loss: 0.3207 - val_accuracy: 0.7857\n",
      "Epoch 49/100\n",
      "4/4 [==============================] - 14s 4s/step - loss: 0.0757 - accuracy: 0.9911 - val_loss: 0.3168 - val_accuracy: 0.7857\n",
      "Epoch 50/100\n",
      "4/4 [==============================] - 14s 4s/step - loss: 0.0931 - accuracy: 0.9821 - val_loss: 0.3340 - val_accuracy: 0.7857\n",
      "Epoch 51/100\n",
      "4/4 [==============================] - 14s 4s/step - loss: 0.0716 - accuracy: 0.9821 - val_loss: 0.3634 - val_accuracy: 0.7857\n",
      "Epoch 52/100\n",
      "4/4 [==============================] - 14s 4s/step - loss: 0.0975 - accuracy: 0.9821 - val_loss: 0.3315 - val_accuracy: 0.7857\n",
      "Epoch 53/100\n",
      "4/4 [==============================] - 14s 4s/step - loss: 0.0560 - accuracy: 1.0000 - val_loss: 0.3355 - val_accuracy: 0.7857\n",
      "Epoch 54/100\n",
      "4/4 [==============================] - 14s 4s/step - loss: 0.0559 - accuracy: 0.9911 - val_loss: 0.3378 - val_accuracy: 0.7857\n",
      "Epoch 1/50\n",
      "4/4 [==============================] - 63s 15s/step - loss: 0.1627 - binary_accuracy: 0.9554 - val_loss: 1.8951 - val_binary_accuracy: 0.6071\n",
      "Epoch 2/50\n",
      "4/4 [==============================] - 58s 14s/step - loss: 0.2298 - binary_accuracy: 0.8839 - val_loss: 0.3155 - val_binary_accuracy: 0.8214\n",
      "Epoch 3/50\n",
      "4/4 [==============================] - 58s 14s/step - loss: 0.0977 - binary_accuracy: 0.9821 - val_loss: 0.3774 - val_binary_accuracy: 0.7143\n",
      "Epoch 4/50\n",
      "4/4 [==============================] - 58s 14s/step - loss: 0.0623 - binary_accuracy: 0.9911 - val_loss: 0.4741 - val_binary_accuracy: 0.8214\n",
      "Epoch 5/50\n",
      "4/4 [==============================] - 71s 18s/step - loss: 0.0850 - binary_accuracy: 0.9464 - val_loss: 0.2609 - val_binary_accuracy: 0.8571\n",
      "Epoch 6/50\n",
      "4/4 [==============================] - 57s 14s/step - loss: 0.0442 - binary_accuracy: 0.9911 - val_loss: 0.2034 - val_binary_accuracy: 0.9286\n",
      "Epoch 7/50\n",
      "4/4 [==============================] - 70s 17s/step - loss: 0.0408 - binary_accuracy: 0.9911 - val_loss: 0.1935 - val_binary_accuracy: 0.8929\n",
      "Epoch 8/50\n",
      "4/4 [==============================] - 65s 15s/step - loss: 0.0349 - binary_accuracy: 1.0000 - val_loss: 0.2219 - val_binary_accuracy: 0.9286\n",
      "Epoch 9/50\n",
      "4/4 [==============================] - 62s 15s/step - loss: 0.0228 - binary_accuracy: 1.0000 - val_loss: 0.2217 - val_binary_accuracy: 0.9286\n",
      "Epoch 10/50\n",
      "4/4 [==============================] - 65s 16s/step - loss: 0.0150 - binary_accuracy: 1.0000 - val_loss: 0.2027 - val_binary_accuracy: 0.9286\n",
      "Epoch 11/50\n",
      "4/4 [==============================] - 68s 16s/step - loss: 0.0167 - binary_accuracy: 1.0000 - val_loss: 0.1992 - val_binary_accuracy: 0.9286\n",
      "Epoch 12/50\n",
      "4/4 [==============================] - 65s 16s/step - loss: 0.0154 - binary_accuracy: 1.0000 - val_loss: 0.2124 - val_binary_accuracy: 0.8929\n"
     ]
    },
    {
     "data": {
      "image/png": "[encoded data removed]",
      "text/plain": [
       "<Figure size 432x288 with 1 Axes>"
      ]
     },
     "metadata": {
      "needs_background": "light"
     },
     "output_type": "display_data"
    }
   ],
   "source": [
    "\n",
    "loss_fn = tf.keras.losses.loss_fn = tf.keras.losses.CategoricalCrossentropy(from_logits=True)\n",
    "optimizer = tf.keras.optimizers.Adam()# modify weight in Adam\n",
    "metrics = ['accuracy']\n",
    "model.compile (optimizer = optimizer,loss =  loss_fn,metrics = metrics)\n",
    "callback = tf.keras.callbacks.EarlyStopping(monitor='val_loss', patience=5)\n",
    "epochs = 100\n",
    "history = model.fit(x_train, y_train, epochs=epochs,validation_split=0.2,callbacks=callback,class_weight = class_weights)\n",
    "\n",
    "# base_model.trainable = True\n",
    "# model.compile(\n",
    "#     optimizer=tf.keras.optimizers.Adam(1e-5), \n",
    "#     loss=tf.keras.losses.CategoricalCrossentropy(from_logits=True),\n",
    "#     metrics=[tf.keras.metrics.BinaryAccuracy()],\n",
    "# )\n",
    "\n",
    "# epochs = 50\n",
    "# history = model.fit(x_train, y_train, epochs=epochs,validation_split=0.2,callbacks=callback,class_weight = class_weights)\n",
    "\n",
    "plt.plot(history.history['loss'],label = 'loss')\n",
    "plt.plot(history.history['val_loss'],label = 'val_loss')\n",
    "plt.legend()\n",
    "plt.show()\n",
    "\n"
   ]
  },
  {
   "cell_type": "code",
   "execution_count": 63,
   "metadata": {},
   "outputs": [
    {
     "name": "stdout",
     "output_type": "stream",
     "text": [
      "[1 0 1 1 1 1 1 1 0 1 0 0 0 1 1 1 0 1 1 1 1 1 0 1 1 0 1 1 1 1 1 0 0 1 1]\n",
      "              precision    recall  f1-score   support\n",
      "\n",
      "       type1       0.60      0.55      0.57        11\n",
      "       type2       0.80      0.83      0.82        24\n",
      "\n",
      "    accuracy                           0.74        35\n",
      "   macro avg       0.70      0.69      0.69        35\n",
      "weighted avg       0.74      0.74      0.74        35\n",
      "\n"
     ]
    },
    {
     "data": {
      "image/png": "[encoded data removed]",
      "text/plain": [
       "<Figure size 432x288 with 2 Axes>"
      ]
     },
     "metadata": {
      "needs_background": "light"
     },
     "output_type": "display_data"
    }
   ],
   "source": [
    "pred = model.predict(x_test)\n",
    "y_pred = np.argmax(pred, axis=1)\n",
    "y_test = np.argmax(y_test, axis=1)\n",
    "print(y_pred)\n",
    "cm = confusion_matrix(y_test, y_pred)\n",
    "\n",
    "disp = ConfusionMatrixDisplay(confusion_matrix=cm,display_labels=class_names)\n",
    "disp.plot()\n",
    "plt.show\n",
    "\n",
    "from sklearn.metrics import classification_report\n",
    "print(classification_report(y_test, y_pred,target_names=class_names))"
   ]
  },
  {
   "cell_type": "code",
   "execution_count": 64,
   "metadata": {},
   "outputs": [],
   "source": [
    "model.save('phase1.h5')"
   ]
  },
  {
   "cell_type": "code",
   "execution_count": 65,
   "metadata": {},
   "outputs": [
    {
     "name": "stdout",
     "output_type": "stream",
     "text": [
      "Found 56 files belonging to 2 classes.\n"
     ]
    }
   ],
   "source": [
    "x_train,x_test,y_train,y_test,class_weights,class_names = preprocess(type1_directory,2)"
   ]
  },
  {
   "cell_type": "code",
   "execution_count": 66,
   "metadata": {},
   "outputs": [
    {
     "name": "stdout",
     "output_type": "stream",
     "text": [
      "Model: \"model_7\"\n",
      "_________________________________________________________________\n",
      " Layer (type)                Output Shape              Param #   \n",
      "=================================================================\n",
      " input_16 (InputLayer)       [(None, 432, 288, 3)]     0         \n",
      "                                                                 \n",
      " rescaling_7 (Rescaling)     (None, 432, 288, 3)       0         \n",
      "                                                                 \n",
      " tf.cast_7 (TFOpLambda)      (None, 432, 288, 3)       0         \n",
      "                                                                 \n",
      " resnet50v2 (Functional)     (None, 14, 9, 2048)       23564800  \n",
      "                                                                 \n",
      " conv2d_7 (Conv2D)           (None, 14, 9, 128)        2359424   \n",
      "                                                                 \n",
      " max_pooling2d_31 (MaxPoolin  (None, 7, 4, 128)        0         \n",
      " g2D)                                                            \n",
      "                                                                 \n",
      " dropout_14 (Dropout)        (None, 7, 4, 128)         0         \n",
      "                                                                 \n",
      " global_average_pooling2d_7   (None, 128)              0         \n",
      " (GlobalAveragePooling2D)                                        \n",
      "                                                                 \n",
      " dropout_15 (Dropout)        (None, 128)               0         \n",
      "                                                                 \n",
      " dense_7 (Dense)             (None, 2)                 258       \n",
      "                                                                 \n",
      "=================================================================\n",
      "Total params: 25,924,482\n",
      "Trainable params: 2,359,682\n",
      "Non-trainable params: 23,564,800\n",
      "_________________________________________________________________\n"
     ]
    }
   ],
   "source": [
    "base_model = tf.keras.applications.ResNet50V2(\n",
    "    weights=\"imagenet\",  # Load weights pre-trained on ImageNet.\n",
    "    input_shape=(img_height, img_width, 3),\n",
    "    include_top=False,\n",
    ") \n",
    "\n",
    "# Freeze the base_model\n",
    "base_model.trainable = False\n",
    "\n",
    "# Create new model on top\n",
    "\n",
    "inputs = tf.keras.Input(shape=(img_height, img_width, 3))\n",
    "\n",
    "scale_layer = tf.keras.layers.Rescaling(scale=1./255)\n",
    "x = scale_layer(inputs)\n",
    "\n",
    "x = tf.cast(x,tf.float32)\n",
    "\n",
    "x = base_model(x, training=False)\n",
    "\n",
    "x = tf.keras.layers.Conv2D(128, 3, padding='same', activation='relu')(x)          \n",
    "x = tf.keras.layers.MaxPooling2D((2,2))(x)\n",
    "x = tf.keras.layers.Dropout(0.2)(x)\n",
    "            \n",
    "x = tf.keras.layers.GlobalAveragePooling2D()(x)\n",
    "\n",
    "#x = tf.keras.layers.Dense(128, activation='relu')(x)\n",
    "\n",
    "x = tf.keras.layers.Dropout(0.2)(x)  # Regularize with dropout\n",
    "outputs = tf.keras.layers.Dense(2,activation='softmax')(x)\n",
    "model = tf.keras.Model(inputs, outputs)\n",
    "\n",
    "model.summary()"
   ]
  },
  {
   "cell_type": "code",
   "execution_count": 67,
   "metadata": {},
   "outputs": [
    {
     "name": "stdout",
     "output_type": "stream",
     "text": [
      "Epoch 1/100\n"
     ]
    },
    {
     "name": "stderr",
     "output_type": "stream",
     "text": [
      "c:\\Users\\acer\\anaconda3\\lib\\site-packages\\tensorflow\\python\\util\\dispatch.py:1082: UserWarning: \"`categorical_crossentropy` received `from_logits=True`, but the `output` argument was produced by a sigmoid or softmax activation and thus does not represent logits. Was this intended?\"\n",
      "  return dispatch_target(*args, **kwargs)\n"
     ]
    },
    {
     "name": "stdout",
     "output_type": "stream",
     "text": [
      "2/2 [==============================] - 9s 3s/step - loss: 2.1768 - accuracy: 0.4286 - val_loss: 24.6926 - val_accuracy: 0.2222\n",
      "Epoch 2/100\n",
      "2/2 [==============================] - 7s 2s/step - loss: 14.1594 - accuracy: 0.6000 - val_loss: 7.2516 - val_accuracy: 0.2222\n",
      "Epoch 3/100\n",
      "2/2 [==============================] - 6s 2s/step - loss: 3.1834 - accuracy: 0.6000 - val_loss: 0.8761 - val_accuracy: 0.2222\n",
      "Epoch 4/100\n",
      "2/2 [==============================] - 6s 2s/step - loss: 0.3422 - accuracy: 0.7714 - val_loss: 0.3182 - val_accuracy: 1.0000\n",
      "Epoch 5/100\n",
      "2/2 [==============================] - 7s 2s/step - loss: 0.3001 - accuracy: 0.9429 - val_loss: 0.2273 - val_accuracy: 1.0000\n",
      "Epoch 6/100\n",
      "2/2 [==============================] - 5s 2s/step - loss: 0.3397 - accuracy: 0.8571 - val_loss: 0.1933 - val_accuracy: 1.0000\n",
      "Epoch 7/100\n",
      "2/2 [==============================] - 5s 2s/step - loss: 0.3455 - accuracy: 0.8857 - val_loss: 0.1623 - val_accuracy: 1.0000\n",
      "Epoch 8/100\n",
      "2/2 [==============================] - 5s 2s/step - loss: 0.2880 - accuracy: 0.9429 - val_loss: 0.1408 - val_accuracy: 1.0000\n",
      "Epoch 9/100\n",
      "2/2 [==============================] - 5s 2s/step - loss: 0.2437 - accuracy: 0.8857 - val_loss: 0.1336 - val_accuracy: 1.0000\n",
      "Epoch 10/100\n",
      "2/2 [==============================] - 6s 2s/step - loss: 0.1543 - accuracy: 0.9714 - val_loss: 0.1412 - val_accuracy: 0.8889\n",
      "Epoch 11/100\n",
      "2/2 [==============================] - 5s 2s/step - loss: 0.1059 - accuracy: 1.0000 - val_loss: 0.1624 - val_accuracy: 0.8889\n",
      "Epoch 12/100\n",
      "2/2 [==============================] - 5s 2s/step - loss: 0.0769 - accuracy: 1.0000 - val_loss: 0.1778 - val_accuracy: 0.8889\n",
      "Epoch 13/100\n",
      "2/2 [==============================] - 5s 2s/step - loss: 0.0856 - accuracy: 0.9714 - val_loss: 0.1821 - val_accuracy: 0.8889\n",
      "Epoch 14/100\n",
      "2/2 [==============================] - 5s 2s/step - loss: 0.0367 - accuracy: 1.0000 - val_loss: 0.1978 - val_accuracy: 0.8889\n",
      "Epoch 1/50\n",
      "1/1 [==============================] - 23s 23s/step - loss: 0.0287 - binary_accuracy: 1.0000 - val_loss: 0.2008 - val_binary_accuracy: 0.9286\n",
      "Epoch 2/50\n",
      "1/1 [==============================] - 23s 23s/step - loss: 0.0066 - binary_accuracy: 1.0000 - val_loss: 0.2365 - val_binary_accuracy: 0.9286\n",
      "Epoch 3/50\n",
      "1/1 [==============================] - 21s 21s/step - loss: 0.0053 - binary_accuracy: 1.0000 - val_loss: 0.2747 - val_binary_accuracy: 0.9286\n",
      "Epoch 4/50\n",
      "1/1 [==============================] - 22s 22s/step - loss: 7.5446e-04 - binary_accuracy: 1.0000 - val_loss: 0.3240 - val_binary_accuracy: 0.9286\n",
      "Epoch 5/50\n",
      "1/1 [==============================] - 22s 22s/step - loss: 0.0047 - binary_accuracy: 1.0000 - val_loss: 0.4108 - val_binary_accuracy: 0.9286\n",
      "Epoch 6/50\n",
      "1/1 [==============================] - 20s 20s/step - loss: 1.0128e-04 - binary_accuracy: 1.0000 - val_loss: 0.5201 - val_binary_accuracy: 0.9286\n"
     ]
    },
    {
     "data": {
      "image/png": "[encoded data removed]",
      "text/plain": [
       "<Figure size 432x288 with 1 Axes>"
      ]
     },
     "metadata": {
      "needs_background": "light"
     },
     "output_type": "display_data"
    }
   ],
   "source": [
    "\n",
    "loss_fn = tf.keras.losses.loss_fn = tf.keras.losses.CategoricalCrossentropy(from_logits=True)\n",
    "optimizer = tf.keras.optimizers.Adam()# modify weight in Adam\n",
    "metrics = ['accuracy']\n",
    "model.compile (optimizer = optimizer,loss =  loss_fn,metrics = metrics)\n",
    "callback = tf.keras.callbacks.EarlyStopping(monitor='val_loss', patience=5)\n",
    "epochs = 100\n",
    "history = model.fit(x_train, y_train, epochs=epochs,validation_split=0.2,callbacks=callback,class_weight = class_weights)\n",
    "\n",
    "base_model.trainable = True\n",
    "model.compile(\n",
    "    optimizer=tf.keras.optimizers.Adam(1e-5), \n",
    "    loss=tf.keras.losses.CategoricalCrossentropy(from_logits=True),\n",
    "    metrics=[tf.keras.metrics.BinaryAccuracy()],\n",
    ")\n",
    "\n",
    "epochs = 50\n",
    "history = model.fit(x_train, y_train, epochs=epochs,validation_split=0.3,callbacks=callback,class_weight = class_weights)\n",
    "\n",
    "plt.plot(history.history['loss'],label = 'loss')\n",
    "plt.plot(history.history['val_loss'],label = 'val_loss')\n",
    "plt.legend()\n",
    "plt.show()\n"
   ]
  },
  {
   "cell_type": "code",
   "execution_count": 68,
   "metadata": {},
   "outputs": [
    {
     "name": "stdout",
     "output_type": "stream",
     "text": [
      "WARNING:tensorflow:5 out of the last 13 calls to <function Model.make_predict_function.<locals>.predict_function at 0x000001E641A82DC8> triggered tf.function retracing. Tracing is expensive and the excessive number of tracings could be due to (1) creating @tf.function repeatedly in a loop, (2) passing tensors with different shapes, (3) passing Python objects instead of tensors. For (1), please define your @tf.function outside of the loop. For (2), @tf.function has experimental_relax_shapes=True option that relaxes argument shapes that can avoid unnecessary retracing. For (3), please refer to https://www.tensorflow.org/guide/function#controlling_retracing and https://www.tensorflow.org/api_docs/python/tf/function for  more details.\n",
      "[0 1 0 0 1 1 0 1 1 1 1 1]\n",
      "              precision    recall  f1-score   support\n",
      "\n",
      "     burping       1.00      1.00      1.00         4\n",
      "        poop       1.00      1.00      1.00         8\n",
      "\n",
      "    accuracy                           1.00        12\n",
      "   macro avg       1.00      1.00      1.00        12\n",
      "weighted avg       1.00      1.00      1.00        12\n",
      "\n"
     ]
    },
    {
     "data": {
      "image/png": "[encoded data removed]",
      "text/plain": [
       "<Figure size 432x288 with 2 Axes>"
      ]
     },
     "metadata": {
      "needs_background": "light"
     },
     "output_type": "display_data"
    }
   ],
   "source": [
    "pred = model.predict(x_test)\n",
    "y_pred = np.argmax(pred, axis=1)\n",
    "y_test = np.argmax(y_test, axis=1) \n",
    "print(y_pred)\n",
    "cm = confusion_matrix(y_test, y_pred)\n",
    "\n",
    "disp = ConfusionMatrixDisplay(confusion_matrix=cm,display_labels=class_names)\n",
    "disp.plot()\n",
    "plt.show\n",
    "\n",
    "from sklearn.metrics import classification_report\n",
    "print(classification_report(y_test, y_pred,target_names=class_names))"
   ]
  },
  {
   "cell_type": "code",
   "execution_count": 69,
   "metadata": {},
   "outputs": [],
   "source": [
    "model.save('burpAndPoop.h5')"
   ]
  },
  {
   "cell_type": "code",
   "execution_count": 70,
   "metadata": {},
   "outputs": [
    {
     "name": "stdout",
     "output_type": "stream",
     "text": [
      "Found 119 files belonging to 3 classes.\n"
     ]
    }
   ],
   "source": [
    "x_train,x_test,y_train,y_test,class_weights,class_names = preprocess(type2_directory,3)"
   ]
  },
  {
   "cell_type": "code",
   "execution_count": 71,
   "metadata": {},
   "outputs": [
    {
     "name": "stdout",
     "output_type": "stream",
     "text": [
      "Model: \"model_8\"\n",
      "_________________________________________________________________\n",
      " Layer (type)                Output Shape              Param #   \n",
      "=================================================================\n",
      " input_18 (InputLayer)       [(None, 432, 288, 3)]     0         \n",
      "                                                                 \n",
      " rescaling_8 (Rescaling)     (None, 432, 288, 3)       0         \n",
      "                                                                 \n",
      " tf.cast_8 (TFOpLambda)      (None, 432, 288, 3)       0         \n",
      "                                                                 \n",
      " resnet50v2 (Functional)     (None, 14, 9, 2048)       23564800  \n",
      "                                                                 \n",
      " conv2d_8 (Conv2D)           (None, 14, 9, 128)        2359424   \n",
      "                                                                 \n",
      " max_pooling2d_35 (MaxPoolin  (None, 7, 4, 128)        0         \n",
      " g2D)                                                            \n",
      "                                                                 \n",
      " dropout_16 (Dropout)        (None, 7, 4, 128)         0         \n",
      "                                                                 \n",
      " global_average_pooling2d_8   (None, 128)              0         \n",
      " (GlobalAveragePooling2D)                                        \n",
      "                                                                 \n",
      " dropout_17 (Dropout)        (None, 128)               0         \n",
      "                                                                 \n",
      " dense_8 (Dense)             (None, 3)                 387       \n",
      "                                                                 \n",
      "=================================================================\n",
      "Total params: 25,924,611\n",
      "Trainable params: 2,359,811\n",
      "Non-trainable params: 23,564,800\n",
      "_________________________________________________________________\n"
     ]
    }
   ],
   "source": [
    "base_model = tf.keras.applications.ResNet50V2(\n",
    "    weights=\"imagenet\",  # Load weights pre-trained on ImageNet.\n",
    "    input_shape=(img_height, img_width, 3),\n",
    "    include_top=False,\n",
    ") \n",
    "\n",
    "# Freeze the base_model\n",
    "base_model.trainable = False\n",
    "\n",
    "# Create new model on top\n",
    "\n",
    "inputs = tf.keras.Input(shape=(img_height, img_width, 3))\n",
    "\n",
    "scale_layer = tf.keras.layers.Rescaling(scale=1./255)\n",
    "x = scale_layer(inputs)\n",
    "\n",
    "x = tf.cast(x,tf.float32)\n",
    "\n",
    "x = base_model(x, training=False)\n",
    "\n",
    "x = tf.keras.layers.Conv2D(128, 3, padding='same', activation='relu')(x)          \n",
    "x = tf.keras.layers.MaxPooling2D((2,2))(x)\n",
    "x = tf.keras.layers.Dropout(0.2)(x)\n",
    "            \n",
    "x = tf.keras.layers.GlobalAveragePooling2D()(x)\n",
    "\n",
    "#x = tf.keras.layers.Dense(128, activation='relu')(x)\n",
    "\n",
    "x = tf.keras.layers.Dropout(0.2)(x)  # Regularize with dropout\n",
    "outputs = tf.keras.layers.Dense(3,activation='softmax')(x)\n",
    "model = tf.keras.Model(inputs, outputs)\n",
    "\n",
    "model.summary()"
   ]
  },
  {
   "cell_type": "code",
   "execution_count": 72,
   "metadata": {},
   "outputs": [
    {
     "name": "stdout",
     "output_type": "stream",
     "text": [
      "Epoch 1/100\n"
     ]
    },
    {
     "name": "stderr",
     "output_type": "stream",
     "text": [
      "c:\\Users\\acer\\anaconda3\\lib\\site-packages\\tensorflow\\python\\util\\dispatch.py:1082: UserWarning: \"`categorical_crossentropy` received `from_logits=True`, but the `output` argument was produced by a sigmoid or softmax activation and thus does not represent logits. Was this intended?\"\n",
      "  return dispatch_target(*args, **kwargs)\n"
     ]
    },
    {
     "name": "stdout",
     "output_type": "stream",
     "text": [
      "3/3 [==============================] - 15s 4s/step - loss: 9.5032 - accuracy: 0.4079 - val_loss: 3.3930 - val_accuracy: 0.6316\n",
      "Epoch 2/100\n",
      "3/3 [==============================] - 13s 4s/step - loss: 5.1767 - accuracy: 0.4868 - val_loss: 1.0050 - val_accuracy: 0.6842\n",
      "Epoch 3/100\n",
      "3/3 [==============================] - 14s 5s/step - loss: 1.2683 - accuracy: 0.4342 - val_loss: 0.7626 - val_accuracy: 0.6842\n",
      "Epoch 4/100\n",
      "3/3 [==============================] - 13s 4s/step - loss: 0.7522 - accuracy: 0.6711 - val_loss: 0.9980 - val_accuracy: 0.2632\n",
      "Epoch 5/100\n",
      "3/3 [==============================] - 12s 4s/step - loss: 0.7537 - accuracy: 0.5658 - val_loss: 1.0518 - val_accuracy: 0.3158\n",
      "Epoch 6/100\n",
      "3/3 [==============================] - 15s 5s/step - loss: 0.6904 - accuracy: 0.5789 - val_loss: 0.9448 - val_accuracy: 0.3158\n",
      "Epoch 7/100\n",
      "3/3 [==============================] - 15s 5s/step - loss: 0.6366 - accuracy: 0.6053 - val_loss: 0.7802 - val_accuracy: 0.5789\n",
      "Epoch 8/100\n",
      "3/3 [==============================] - 15s 5s/step - loss: 0.5896 - accuracy: 0.7500 - val_loss: 0.6617 - val_accuracy: 0.7368\n",
      "Epoch 9/100\n",
      "3/3 [==============================] - 16s 5s/step - loss: 0.4870 - accuracy: 0.8289 - val_loss: 0.6212 - val_accuracy: 0.7895\n",
      "Epoch 10/100\n",
      "3/3 [==============================] - 15s 5s/step - loss: 0.4272 - accuracy: 0.8947 - val_loss: 0.6821 - val_accuracy: 0.6842\n",
      "Epoch 11/100\n",
      "3/3 [==============================] - 16s 5s/step - loss: 0.3914 - accuracy: 0.7763 - val_loss: 0.6963 - val_accuracy: 0.7368\n",
      "Epoch 12/100\n",
      "3/3 [==============================] - 16s 6s/step - loss: 0.3636 - accuracy: 0.8421 - val_loss: 0.6316 - val_accuracy: 0.7368\n",
      "Epoch 13/100\n",
      "3/3 [==============================] - 16s 5s/step - loss: 0.3421 - accuracy: 0.8553 - val_loss: 0.6378 - val_accuracy: 0.7368\n",
      "Epoch 14/100\n",
      "3/3 [==============================] - 15s 5s/step - loss: 0.2409 - accuracy: 0.9211 - val_loss: 0.6613 - val_accuracy: 0.7368\n",
      "Epoch 1/50\n",
      "3/3 [==============================] - 54s 14s/step - loss: 0.2518 - binary_accuracy: 0.9394 - val_loss: 1.0433 - val_binary_accuracy: 0.7701\n",
      "Epoch 2/50\n",
      "3/3 [==============================] - 53s 15s/step - loss: 0.4292 - binary_accuracy: 0.8990 - val_loss: 0.4780 - val_binary_accuracy: 0.8736\n",
      "Epoch 3/50\n",
      "3/3 [==============================] - 48s 13s/step - loss: 0.1918 - binary_accuracy: 0.9343 - val_loss: 0.6550 - val_binary_accuracy: 0.7586\n",
      "Epoch 4/50\n",
      "3/3 [==============================] - 43s 12s/step - loss: 0.2072 - binary_accuracy: 0.9293 - val_loss: 0.5592 - val_binary_accuracy: 0.8391\n",
      "Epoch 5/50\n",
      "3/3 [==============================] - 43s 12s/step - loss: 0.1225 - binary_accuracy: 0.9697 - val_loss: 0.6335 - val_binary_accuracy: 0.8851\n",
      "Epoch 6/50\n",
      "3/3 [==============================] - 43s 12s/step - loss: 0.0980 - binary_accuracy: 0.9899 - val_loss: 0.7778 - val_binary_accuracy: 0.8851\n",
      "Epoch 7/50\n",
      "3/3 [==============================] - 43s 12s/step - loss: 0.0592 - binary_accuracy: 1.0000 - val_loss: 0.7942 - val_binary_accuracy: 0.8851\n"
     ]
    },
    {
     "data": {
      "image/png": "[encoded data removed]",
      "text/plain": [
       "<Figure size 432x288 with 1 Axes>"
      ]
     },
     "metadata": {
      "needs_background": "light"
     },
     "output_type": "display_data"
    }
   ],
   "source": [
    "\n",
    "loss_fn = tf.keras.losses.loss_fn = tf.keras.losses.CategoricalCrossentropy(from_logits=True)\n",
    "optimizer = tf.keras.optimizers.Adam()# modify weight in Adam\n",
    "metrics = ['accuracy']\n",
    "model.compile (optimizer = optimizer,loss =  loss_fn,metrics = metrics)\n",
    "callback = tf.keras.callbacks.EarlyStopping(monitor='val_loss', patience=5)\n",
    "epochs = 100\n",
    "history = model.fit(x_train, y_train, epochs=epochs,validation_split=0.2,callbacks=callback,class_weight = class_weights)\n",
    "\n",
    "base_model.trainable = True\n",
    "model.compile(\n",
    "    optimizer=tf.keras.optimizers.Adam(1e-5), \n",
    "    loss=tf.keras.losses.CategoricalCrossentropy(from_logits=True),\n",
    "    metrics=[tf.keras.metrics.BinaryAccuracy()],\n",
    ")\n",
    "\n",
    "epochs = 50\n",
    "history = model.fit(x_train, y_train, epochs=epochs,validation_split=0.3,callbacks=callback,class_weight = class_weights)\n",
    "\n",
    "plt.plot(history.history['loss'],label = 'loss')\n",
    "plt.plot(history.history['val_loss'],label = 'val_loss')\n",
    "plt.legend()\n",
    "plt.show()\n"
   ]
  },
  {
   "cell_type": "code",
   "execution_count": 73,
   "metadata": {},
   "outputs": [
    {
     "name": "stdout",
     "output_type": "stream",
     "text": [
      "WARNING:tensorflow:6 out of the last 14 calls to <function Model.make_predict_function.<locals>.predict_function at 0x000001E64E089F78> triggered tf.function retracing. Tracing is expensive and the excessive number of tracings could be due to (1) creating @tf.function repeatedly in a loop, (2) passing tensors with different shapes, (3) passing Python objects instead of tensors. For (1), please define your @tf.function outside of the loop. For (2), @tf.function has experimental_relax_shapes=True option that relaxes argument shapes that can avoid unnecessary retracing. For (3), please refer to https://www.tensorflow.org/guide/function#controlling_retracing and https://www.tensorflow.org/api_docs/python/tf/function for  more details.\n",
      "[1 2 2 1 2 2 2 0 2 0 2 2 2 2 1 1 0 2 1 2 0 0 1 2]\n",
      "              precision    recall  f1-score   support\n",
      "\n",
      "  discomfort       1.00      0.62      0.77         8\n",
      "      hungry       0.83      0.71      0.77         7\n",
      "       tired       0.69      1.00      0.82         9\n",
      "\n",
      "    accuracy                           0.79        24\n",
      "   macro avg       0.84      0.78      0.79        24\n",
      "weighted avg       0.84      0.79      0.79        24\n",
      "\n"
     ]
    },
    {
     "data": {
      "image/png": "[encoded data removed]",
      "text/plain": [
       "<Figure size 432x288 with 2 Axes>"
      ]
     },
     "metadata": {
      "needs_background": "light"
     },
     "output_type": "display_data"
    }
   ],
   "source": [
    "pred = model.predict(x_test)\n",
    "y_pred = np.argmax(pred, axis=1)\n",
    "y_test = np.argmax(y_test, axis=1) \n",
    "print(y_pred)\n",
    "cm = confusion_matrix(y_test, y_pred)\n",
    "\n",
    "disp = ConfusionMatrixDisplay(confusion_matrix=cm,display_labels=class_names)\n",
    "disp.plot()\n",
    "plt.show\n",
    "\n",
    "from sklearn.metrics import classification_report\n",
    "print(classification_report(y_test, y_pred,target_names=class_names))"
   ]
  },
  {
   "cell_type": "code",
   "execution_count": 74,
   "metadata": {},
   "outputs": [],
   "source": [
    "model.save('HungryTiredAndDiscomfort.h5')"
   ]
  },
  {
   "cell_type": "code",
   "execution_count": null,
   "metadata": {},
   "outputs": [],
   "source": []
  },
  {
   "cell_type": "code",
   "execution_count": null,
   "metadata": {},
   "outputs": [],
   "source": []
  }
 ],
 "metadata": {
  "kernelspec": {
   "display_name": "Python 3.7.6 ('base')",
   "language": "python",
   "name": "python3"
  },
  "language_info": {
   "codemirror_mode": {
    "name": "ipython",
    "version": 3
   },
   "file_extension": ".py",
   "mimetype": "text/x-python",
   "name": "python",
   "nbconvert_exporter": "python",
   "pygments_lexer": "ipython3",
   "version": "3.7.6 (default, Jan  8 2020, 20:23:39) [MSC v.1916 64 bit (AMD64)]"
  },
  "orig_nbformat": 4,
  "vscode": {
   "interpreter": {
    "hash": "23bf0724a01b6ea9814e66f76182ea78c0ee849a72ca257c0e116bf83bb4960a"
   }
  }
 },
 "nbformat": 4,
 "nbformat_minor": 2
}
