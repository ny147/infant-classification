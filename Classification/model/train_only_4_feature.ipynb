{
 "cells": [
  {
   "cell_type": "code",
   "execution_count": 1,
   "metadata": {},
   "outputs": [],
   "source": [
    "import os\n",
    "import librosa, librosa.display\n",
    "import matplotlib.pyplot as plt\n",
    "from pathlib import Path\n",
    "import tensorflow as tf\n",
    "import IPython.display as ipd\n",
    "import numpy as np\n",
    "import shutil\n",
    "#import ftransc"
   ]
  },
  {
   "cell_type": "code",
   "execution_count": 2,
   "metadata": {},
   "outputs": [
    {
     "name": "stdout",
     "output_type": "stream",
     "text": [
      "Found 49 files belonging to 4 classes.\n",
      "Found 26 files belonging to 4 classes.\n",
      "['belly_pain_data', 'burping_data', 'discomfort_data', 'tired_data']\n"
     ]
    }
   ],
   "source": [
    "\n",
    "train_directory = './data/mel_freq/train_oneclass/no_hungry'\n",
    "test_directory = './data/mel_freq/test_oneclass/no_hungry'\n",
    "#train_directory = './img_data/mel_spectrogram/train'\n",
    "#test_directory = './img_data/mel_spectrogram/test'\n",
    "\n",
    "train_ds = tf.keras.preprocessing.image_dataset_from_directory(\n",
    "    train_directory, labels='inferred', label_mode='int', image_size=(256, 256), seed=321,\n",
    "    validation_split=None, subset=None)\n",
    "\n",
    "test_ds = tf.keras.preprocessing.image_dataset_from_directory(\n",
    "    test_directory, labels='inferred', label_mode='int', image_size=(256, 256),\n",
    "    validation_split=None, subset=None)\n",
    "\n",
    "class_names = train_ds.class_names\n",
    "print(class_names)"
   ]
  },
  {
   "cell_type": "code",
   "execution_count": 3,
   "metadata": {},
   "outputs": [],
   "source": [
    "## create model"
   ]
  },
  {
   "cell_type": "code",
   "execution_count": 4,
   "metadata": {},
   "outputs": [],
   "source": [
    "from sklearn.metrics import confusion_matrix, ConfusionMatrixDisplay\n",
    "from keras.callbacks import ModelCheckpoint"
   ]
  },
  {
   "cell_type": "code",
   "execution_count": 5,
   "metadata": {},
   "outputs": [],
   "source": [
    "def dummy(data):\n",
    "    new_data =[]\n",
    "    for i in data:\n",
    "        lab_data =[0,0,0,0]\n",
    "        lab_data[i] = 1\n",
    "        new_data.append(lab_data)\n",
    "    return new_data"
   ]
  },
  {
   "cell_type": "code",
   "execution_count": 6,
   "metadata": {},
   "outputs": [],
   "source": [
    "x_train=[]\n",
    "y_train=[]\n",
    "for images, labels in train_ds.unbatch().take(-1):\n",
    "    x_train.append(images.numpy())\n",
    "    y_train.append(labels.numpy())"
   ]
  },
  {
   "cell_type": "code",
   "execution_count": 7,
   "metadata": {},
   "outputs": [],
   "source": [
    "x_test=[]\n",
    "y_test=[]\n",
    "for images, labels in test_ds.unbatch().take(-1):\n",
    "    x_test.append(images.numpy())\n",
    "    y_test.append(labels.numpy())"
   ]
  },
  {
   "cell_type": "code",
   "execution_count": 8,
   "metadata": {},
   "outputs": [],
   "source": [
    "x_train = np.array(x_train)\n",
    "x_test = np.array(x_test)\n",
    "y_train = np.array(y_train)\n",
    "y_test = np.array(y_test)"
   ]
  },
  {
   "cell_type": "code",
   "execution_count": 9,
   "metadata": {},
   "outputs": [
    {
     "data": {
      "text/plain": [
       "16"
      ]
     },
     "execution_count": 9,
     "metadata": {},
     "output_type": "execute_result"
    }
   ],
   "source": [
    "np.count_nonzero(y_train ==0)\n",
    "np.count_nonzero(y_train ==1)\n",
    "np.count_nonzero(y_train ==2)\n",
    "np.count_nonzero(y_train ==3)"
   ]
  },
  {
   "cell_type": "code",
   "execution_count": 10,
   "metadata": {},
   "outputs": [],
   "source": [
    "class_count = np.array([np.count_nonzero(y_train ==0),np.count_nonzero(y_train ==1),np.count_nonzero(y_train ==2),np.count_nonzero(y_train ==3)])"
   ]
  },
  {
   "cell_type": "code",
   "execution_count": 11,
   "metadata": {},
   "outputs": [],
   "source": [
    "y_train = dummy(y_train)\n",
    "y_test = dummy(y_test)"
   ]
  },
  {
   "cell_type": "code",
   "execution_count": 12,
   "metadata": {},
   "outputs": [
    {
     "data": {
      "text/plain": [
       "array([10,  5, 18, 16])"
      ]
     },
     "execution_count": 12,
     "metadata": {},
     "output_type": "execute_result"
    }
   ],
   "source": [
    "class_count"
   ]
  },
  {
   "cell_type": "code",
   "execution_count": 13,
   "metadata": {},
   "outputs": [],
   "source": [
    "y_train = np.array(y_train)\n",
    "y_test = np.array(y_test)"
   ]
  },
  {
   "cell_type": "code",
   "execution_count": 14,
   "metadata": {},
   "outputs": [],
   "source": [
    "img_height = 256\n",
    "img_width = 256"
   ]
  },
  {
   "cell_type": "code",
   "execution_count": 35,
   "metadata": {},
   "outputs": [
    {
     "data": {
      "text/plain": [
       "49"
      ]
     },
     "execution_count": 35,
     "metadata": {},
     "output_type": "execute_result"
    }
   ],
   "source": [
    "10+  5+ 18+ 16"
   ]
  },
  {
   "cell_type": "code",
   "execution_count": 36,
   "metadata": {},
   "outputs": [],
   "source": [
    "num_classes = 4\n",
    "\n",
    "def create_weight(n_sample,n_class,n_class_sample):\n",
    "    weight = n_sample/(n_class*n_class_sample)\n",
    "    return weight "
   ]
  },
  {
   "cell_type": "code",
   "execution_count": 37,
   "metadata": {},
   "outputs": [],
   "source": [
    "class_weights = {0:0, 1:0,2:0,3:0}\n",
    "\n",
    "for i in range(num_classes):\n",
    "    class_weights[i]=create_weight(49,num_classes,class_count[i])"
   ]
  },
  {
   "cell_type": "code",
   "execution_count": 38,
   "metadata": {},
   "outputs": [
    {
     "data": {
      "text/plain": [
       "{0: 1.225, 1: 2.45, 2: 0.6805555555555556, 3: 0.765625}"
      ]
     },
     "execution_count": 38,
     "metadata": {},
     "output_type": "execute_result"
    }
   ],
   "source": [
    "class_weights"
   ]
  },
  {
   "cell_type": "code",
   "execution_count": 57,
   "metadata": {},
   "outputs": [
    {
     "name": "stdout",
     "output_type": "stream",
     "text": [
      "Model: \"model_5\"\n",
      "_________________________________________________________________\n",
      " Layer (type)                Output Shape              Param #   \n",
      "=================================================================\n",
      " input_12 (InputLayer)       [(None, 256, 256, 3)]     0         \n",
      "                                                                 \n",
      " rescaling_5 (Rescaling)     (None, 256, 256, 3)       0         \n",
      "                                                                 \n",
      " tf.cast_5 (TFOpLambda)      (None, 256, 256, 3)       0         \n",
      "                                                                 \n",
      " resnet50v2 (Functional)     (None, 8, 8, 2048)        23564800  \n",
      "                                                                 \n",
      " global_average_pooling2d_5   (None, 2048)             0         \n",
      " (GlobalAveragePooling2D)                                        \n",
      "                                                                 \n",
      " dropout_5 (Dropout)         (None, 2048)              0         \n",
      "                                                                 \n",
      " dense_9 (Dense)             (None, 4)                 8196      \n",
      "                                                                 \n",
      "=================================================================\n",
      "Total params: 23,572,996\n",
      "Trainable params: 8,196\n",
      "Non-trainable params: 23,564,800\n",
      "_________________________________________________________________\n"
     ]
    }
   ],
   "source": [
    "base_model = tf.keras.applications.ResNet50V2(\n",
    "    weights=\"imagenet\",  # Load weights pre-trained on ImageNet.\n",
    "    input_shape=(img_height, img_width, 3),\n",
    "    include_top=False,\n",
    ") \n",
    "\n",
    "# Freeze the base_model\n",
    "base_model.trainable = False\n",
    "\n",
    "# Create new model on top\n",
    "inputs = tf.keras.Input(shape=(img_height, img_width, 3))\n",
    "\n",
    "scale_layer = tf.keras.layers.Rescaling(scale=1./255)\n",
    "x = scale_layer(inputs)\n",
    "\n",
    "x = tf.cast(x,tf.float32)\n",
    "\n",
    "x = base_model(x, training=False)\n",
    "x = tf.keras.layers.GlobalAveragePooling2D()(x)\n",
    "\n",
    "#x = tf.keras.layers.Dense(128, activation='relu')(x)\n",
    "x = tf.keras.layers.Dropout(0.2)(x)  # Regularize with dropout\n",
    "outputs = tf.keras.layers.Dense(4,activation='softmax')(x)\n",
    "model = tf.keras.Model(inputs, outputs)\n",
    "\n",
    "model.summary()"
   ]
  },
  {
   "cell_type": "code",
   "execution_count": 58,
   "metadata": {},
   "outputs": [
    {
     "data": {
      "text/plain": [
       "\" #model = tf.keras.Sequential([\\n            tf.keras.layers.experimental.preprocessing.Rescaling(1./255, input_shape=(img_height, img_width, 3)),\\n            tf.keras.layers.Conv2D(256, 3, padding='same', activation='relu'),\\n            tf.keras.layers.MaxPooling2D((2,2)),\\n            tf.keras.layers.Dropout(0.2),\\n            tf.keras.layers.Conv2D(128, 3, padding='same', activation='relu'),            \\n            tf.keras.layers.MaxPooling2D((2,2)),\\n            tf.keras.layers.Dropout(0.2),\\n            tf.keras.layers.Conv2D(16, 3, padding='same', activation='relu'),\\n            tf.keras.layers.MaxPooling2D((2,2)),\\n            tf.keras.layers.Flatten(),\\n            tf.keras.layers.Dense(64, activation='relu'),\\n            tf.keras.layers.Dense(1, activation='sigmoid')\\n        ])\\nmodel.summary() \""
      ]
     },
     "execution_count": 58,
     "metadata": {},
     "output_type": "execute_result"
    }
   ],
   "source": [
    "''' #model = tf.keras.Sequential([\n",
    "            tf.keras.layers.experimental.preprocessing.Rescaling(1./255, input_shape=(img_height, img_width, 3)),\n",
    "            tf.keras.layers.Conv2D(256, 3, padding='same', activation='relu'),\n",
    "            tf.keras.layers.MaxPooling2D((2,2)),\n",
    "            tf.keras.layers.Dropout(0.2),\n",
    "            tf.keras.layers.Conv2D(128, 3, padding='same', activation='relu'),            \n",
    "            tf.keras.layers.MaxPooling2D((2,2)),\n",
    "            tf.keras.layers.Dropout(0.2),\n",
    "            tf.keras.layers.Conv2D(16, 3, padding='same', activation='relu'),\n",
    "            tf.keras.layers.MaxPooling2D((2,2)),\n",
    "            tf.keras.layers.Flatten(),\n",
    "            tf.keras.layers.Dense(64, activation='relu'),\n",
    "            tf.keras.layers.Dense(1, activation='sigmoid')\n",
    "        ])\n",
    "model.summary() '''"
   ]
  },
  {
   "cell_type": "code",
   "execution_count": 59,
   "metadata": {},
   "outputs": [],
   "source": [
    "#resnet \n",
    "#inception v3"
   ]
  },
  {
   "cell_type": "code",
   "execution_count": 60,
   "metadata": {},
   "outputs": [],
   "source": [
    "\n",
    "loss_fn = tf.keras.losses.CategoricalCrossentropy(from_logits=True)\n",
    "optimizer = tf.keras.optimizers.Adam()# modify weight in Adam\n",
    "metrics = ['accuracy']\n",
    "model.compile (optimizer = optimizer,loss =  loss_fn,metrics = metrics)"
   ]
  },
  {
   "cell_type": "code",
   "execution_count": 61,
   "metadata": {},
   "outputs": [],
   "source": [
    "callback = tf.keras.callbacks.EarlyStopping(monitor='loss', patience=5)"
   ]
  },
  {
   "cell_type": "code",
   "execution_count": 62,
   "metadata": {},
   "outputs": [
    {
     "name": "stdout",
     "output_type": "stream",
     "text": [
      "Epoch 1/50\n"
     ]
    },
    {
     "name": "stderr",
     "output_type": "stream",
     "text": [
      "c:\\Users\\acer\\anaconda3\\lib\\site-packages\\tensorflow\\python\\util\\dispatch.py:1082: UserWarning: \"`categorical_crossentropy` received `from_logits=True`, but the `output` argument was produced by a sigmoid or softmax activation and thus does not represent logits. Was this intended?\"\n",
      "  return dispatch_target(*args, **kwargs)\n"
     ]
    },
    {
     "name": "stdout",
     "output_type": "stream",
     "text": [
      "2/2 [==============================] - 5s 1s/step - loss: 1.5956 - accuracy: 0.3265\n",
      "Epoch 2/50\n",
      "2/2 [==============================] - 3s 1s/step - loss: 1.4692 - accuracy: 0.2449\n",
      "Epoch 3/50\n",
      "2/2 [==============================] - 3s 1s/step - loss: 1.4140 - accuracy: 0.3061\n",
      "Epoch 4/50\n",
      "2/2 [==============================] - 3s 1s/step - loss: 1.4210 - accuracy: 0.2857\n",
      "Epoch 5/50\n",
      "2/2 [==============================] - 3s 1s/step - loss: 1.4127 - accuracy: 0.3673\n",
      "Epoch 6/50\n",
      "2/2 [==============================] - 3s 1s/step - loss: 1.3593 - accuracy: 0.3061\n",
      "Epoch 7/50\n",
      "2/2 [==============================] - 3s 997ms/step - loss: 1.1946 - accuracy: 0.4694\n",
      "Epoch 8/50\n",
      "2/2 [==============================] - 3s 1s/step - loss: 1.2129 - accuracy: 0.4286\n",
      "Epoch 9/50\n",
      "2/2 [==============================] - 3s 1s/step - loss: 1.3043 - accuracy: 0.4082\n",
      "Epoch 10/50\n",
      "2/2 [==============================] - 3s 1s/step - loss: 1.2117 - accuracy: 0.4694\n",
      "Epoch 11/50\n",
      "2/2 [==============================] - 3s 1s/step - loss: 1.2002 - accuracy: 0.4490\n",
      "Epoch 12/50\n",
      "2/2 [==============================] - 3s 1s/step - loss: 1.1642 - accuracy: 0.4898\n",
      "Epoch 13/50\n",
      "2/2 [==============================] - 3s 1s/step - loss: 1.2095 - accuracy: 0.4082\n",
      "Epoch 14/50\n",
      "2/2 [==============================] - 3s 1s/step - loss: 1.1872 - accuracy: 0.4082\n",
      "Epoch 15/50\n",
      "2/2 [==============================] - 3s 1s/step - loss: 1.2196 - accuracy: 0.4490\n",
      "Epoch 16/50\n",
      "2/2 [==============================] - 3s 1s/step - loss: 1.0761 - accuracy: 0.5918\n",
      "Epoch 17/50\n",
      "2/2 [==============================] - 3s 1s/step - loss: 1.0956 - accuracy: 0.5918\n",
      "Epoch 18/50\n",
      "2/2 [==============================] - 3s 1s/step - loss: 1.1015 - accuracy: 0.6122\n",
      "Epoch 19/50\n",
      "2/2 [==============================] - 3s 1s/step - loss: 1.0677 - accuracy: 0.6327\n",
      "Epoch 20/50\n",
      "2/2 [==============================] - 3s 1s/step - loss: 1.0729 - accuracy: 0.5510\n",
      "Epoch 21/50\n",
      "2/2 [==============================] - 3s 1s/step - loss: 1.1067 - accuracy: 0.4490\n",
      "Epoch 22/50\n",
      "2/2 [==============================] - 3s 1s/step - loss: 1.0505 - accuracy: 0.4694\n",
      "Epoch 23/50\n",
      "2/2 [==============================] - 3s 1s/step - loss: 1.0362 - accuracy: 0.6327\n",
      "Epoch 24/50\n",
      "2/2 [==============================] - 3s 1s/step - loss: 0.9782 - accuracy: 0.5918\n",
      "Epoch 25/50\n",
      "2/2 [==============================] - 3s 1s/step - loss: 0.9807 - accuracy: 0.6122\n",
      "Epoch 26/50\n",
      "2/2 [==============================] - 3s 1s/step - loss: 0.9940 - accuracy: 0.6122\n",
      "Epoch 27/50\n",
      "2/2 [==============================] - 3s 1s/step - loss: 0.9733 - accuracy: 0.6939\n",
      "Epoch 28/50\n",
      "2/2 [==============================] - 3s 998ms/step - loss: 0.9495 - accuracy: 0.6531\n",
      "Epoch 29/50\n",
      "2/2 [==============================] - 3s 1s/step - loss: 0.9293 - accuracy: 0.7347\n",
      "Epoch 30/50\n",
      "2/2 [==============================] - 3s 1s/step - loss: 0.9712 - accuracy: 0.6327\n",
      "Epoch 31/50\n",
      "2/2 [==============================] - 3s 1s/step - loss: 0.9241 - accuracy: 0.6122\n",
      "Epoch 32/50\n",
      "2/2 [==============================] - 3s 1s/step - loss: 0.8945 - accuracy: 0.6735\n",
      "Epoch 33/50\n",
      "2/2 [==============================] - 3s 1s/step - loss: 1.0330 - accuracy: 0.6122\n",
      "Epoch 34/50\n",
      "2/2 [==============================] - 3s 1s/step - loss: 0.8444 - accuracy: 0.7347\n",
      "Epoch 35/50\n",
      "2/2 [==============================] - 3s 1s/step - loss: 0.8581 - accuracy: 0.7143\n",
      "Epoch 36/50\n",
      "2/2 [==============================] - 3s 1s/step - loss: 0.9254 - accuracy: 0.6531\n",
      "Epoch 37/50\n",
      "2/2 [==============================] - 3s 1s/step - loss: 0.8932 - accuracy: 0.6531\n",
      "Epoch 38/50\n",
      "2/2 [==============================] - 3s 1s/step - loss: 0.7604 - accuracy: 0.8163\n",
      "Epoch 39/50\n",
      "2/2 [==============================] - 3s 1s/step - loss: 0.7822 - accuracy: 0.7551\n",
      "Epoch 40/50\n",
      "2/2 [==============================] - 3s 1s/step - loss: 0.7911 - accuracy: 0.8571\n",
      "Epoch 41/50\n",
      "2/2 [==============================] - 3s 1s/step - loss: 0.8406 - accuracy: 0.7755\n",
      "Epoch 42/50\n",
      "2/2 [==============================] - 3s 1s/step - loss: 0.8145 - accuracy: 0.7755\n",
      "Epoch 43/50\n",
      "2/2 [==============================] - 3s 1s/step - loss: 0.8055 - accuracy: 0.8163\n"
     ]
    }
   ],
   "source": [
    "# Set the epocks\n",
    "# ทำ stop + validation\n",
    "epochs = 50\n",
    "history = model.fit(x_train, y_train, epochs=epochs,callbacks=callback,class_weight = class_weights)\n",
    "\n",
    "#history = model.fit(x_train, y_train, epochs=epochs,validation_split=0.3)"
   ]
  },
  {
   "cell_type": "code",
   "execution_count": 63,
   "metadata": {},
   "outputs": [
    {
     "name": "stdout",
     "output_type": "stream",
     "text": [
      "Model: \"model_5\"\n",
      "_________________________________________________________________\n",
      " Layer (type)                Output Shape              Param #   \n",
      "=================================================================\n",
      " input_12 (InputLayer)       [(None, 256, 256, 3)]     0         \n",
      "                                                                 \n",
      " rescaling_5 (Rescaling)     (None, 256, 256, 3)       0         \n",
      "                                                                 \n",
      " tf.cast_5 (TFOpLambda)      (None, 256, 256, 3)       0         \n",
      "                                                                 \n",
      " resnet50v2 (Functional)     (None, 8, 8, 2048)        23564800  \n",
      "                                                                 \n",
      " global_average_pooling2d_5   (None, 2048)             0         \n",
      " (GlobalAveragePooling2D)                                        \n",
      "                                                                 \n",
      " dropout_5 (Dropout)         (None, 2048)              0         \n",
      "                                                                 \n",
      " dense_9 (Dense)             (None, 4)                 8196      \n",
      "                                                                 \n",
      "=================================================================\n",
      "Total params: 23,572,996\n",
      "Trainable params: 23,527,556\n",
      "Non-trainable params: 45,440\n",
      "_________________________________________________________________\n",
      "Epoch 1/50\n"
     ]
    },
    {
     "name": "stderr",
     "output_type": "stream",
     "text": [
      "c:\\Users\\acer\\anaconda3\\lib\\site-packages\\tensorflow\\python\\util\\dispatch.py:1082: UserWarning: \"`binary_crossentropy` received `from_logits=True`, but the `output` argument was produced by a sigmoid or softmax activation and thus does not represent logits. Was this intended?\"\n",
      "  return dispatch_target(*args, **kwargs)\n"
     ]
    },
    {
     "name": "stdout",
     "output_type": "stream",
     "text": [
      "2/2 [==============================] - 17s 5s/step - loss: 0.7115 - binary_accuracy: 0.7806\n",
      "Epoch 2/50\n",
      "2/2 [==============================] - 14s 5s/step - loss: 0.8597 - binary_accuracy: 0.6276\n",
      "Epoch 3/50\n",
      "2/2 [==============================] - 13s 5s/step - loss: 0.6118 - binary_accuracy: 0.6939\n",
      "Epoch 4/50\n",
      "2/2 [==============================] - 14s 5s/step - loss: 0.5544 - binary_accuracy: 0.7500\n",
      "Epoch 5/50\n",
      "2/2 [==============================] - 13s 5s/step - loss: 0.5600 - binary_accuracy: 0.7449\n",
      "Epoch 6/50\n",
      "2/2 [==============================] - 13s 5s/step - loss: 0.5336 - binary_accuracy: 0.7602\n",
      "Epoch 7/50\n",
      "2/2 [==============================] - 14s 5s/step - loss: 0.5034 - binary_accuracy: 0.7551\n",
      "Epoch 8/50\n",
      "2/2 [==============================] - 13s 5s/step - loss: 0.4874 - binary_accuracy: 0.7704\n",
      "Epoch 9/50\n",
      "2/2 [==============================] - 14s 5s/step - loss: 0.4544 - binary_accuracy: 0.7959\n",
      "Epoch 10/50\n",
      "2/2 [==============================] - 13s 5s/step - loss: 0.4296 - binary_accuracy: 0.8061\n",
      "Epoch 11/50\n",
      "2/2 [==============================] - 14s 5s/step - loss: 0.4203 - binary_accuracy: 0.7908\n",
      "Epoch 12/50\n",
      "2/2 [==============================] - 13s 5s/step - loss: 0.3679 - binary_accuracy: 0.8469\n",
      "Epoch 13/50\n",
      "2/2 [==============================] - 13s 5s/step - loss: 0.3325 - binary_accuracy: 0.8980\n",
      "Epoch 14/50\n",
      "2/2 [==============================] - 13s 5s/step - loss: 0.2906 - binary_accuracy: 0.8980\n",
      "Epoch 15/50\n",
      "2/2 [==============================] - 13s 5s/step - loss: 0.2577 - binary_accuracy: 0.9082\n",
      "Epoch 16/50\n",
      "2/2 [==============================] - 13s 5s/step - loss: 0.2506 - binary_accuracy: 0.9388\n",
      "Epoch 17/50\n",
      "2/2 [==============================] - 14s 5s/step - loss: 0.1859 - binary_accuracy: 0.9388\n",
      "Epoch 18/50\n",
      "2/2 [==============================] - 14s 5s/step - loss: 0.1759 - binary_accuracy: 0.9286\n",
      "Epoch 19/50\n",
      "2/2 [==============================] - 13s 5s/step - loss: 0.1237 - binary_accuracy: 0.9796\n",
      "Epoch 20/50\n",
      "2/2 [==============================] - 13s 5s/step - loss: 0.1130 - binary_accuracy: 0.9541\n",
      "Epoch 21/50\n",
      "2/2 [==============================] - 13s 5s/step - loss: 0.1018 - binary_accuracy: 0.9643\n",
      "Epoch 22/50\n",
      "2/2 [==============================] - 14s 5s/step - loss: 0.0688 - binary_accuracy: 0.9847\n",
      "Epoch 23/50\n",
      "2/2 [==============================] - 14s 5s/step - loss: 0.0425 - binary_accuracy: 1.0000\n",
      "Epoch 24/50\n",
      "2/2 [==============================] - 12s 4s/step - loss: 0.0325 - binary_accuracy: 0.9949\n",
      "Epoch 25/50\n",
      "2/2 [==============================] - 11s 4s/step - loss: 0.0167 - binary_accuracy: 1.0000\n",
      "Epoch 26/50\n",
      "2/2 [==============================] - 10s 3s/step - loss: 0.0108 - binary_accuracy: 1.0000\n",
      "Epoch 27/50\n",
      "2/2 [==============================] - 14s 5s/step - loss: 0.0082 - binary_accuracy: 1.0000\n",
      "Epoch 28/50\n",
      "2/2 [==============================] - 14s 5s/step - loss: 0.0024 - binary_accuracy: 1.0000\n",
      "Epoch 29/50\n",
      "2/2 [==============================] - 14s 5s/step - loss: 0.0036 - binary_accuracy: 1.0000\n",
      "Epoch 30/50\n",
      "2/2 [==============================] - 14s 5s/step - loss: 0.0023 - binary_accuracy: 1.0000\n",
      "Epoch 31/50\n",
      "2/2 [==============================] - 15s 5s/step - loss: 0.0020 - binary_accuracy: 1.0000\n",
      "Epoch 32/50\n",
      "2/2 [==============================] - 13s 5s/step - loss: 5.5769e-04 - binary_accuracy: 1.0000\n",
      "Epoch 33/50\n",
      "2/2 [==============================] - 10s 4s/step - loss: 4.4200e-04 - binary_accuracy: 1.0000\n",
      "Epoch 34/50\n",
      "2/2 [==============================] - 13s 5s/step - loss: 4.4045e-04 - binary_accuracy: 1.0000\n",
      "Epoch 35/50\n",
      "2/2 [==============================] - 13s 5s/step - loss: 1.6166e-04 - binary_accuracy: 1.0000\n",
      "Epoch 36/50\n",
      "2/2 [==============================] - 13s 5s/step - loss: 3.1286e-04 - binary_accuracy: 1.0000\n",
      "Epoch 37/50\n",
      "2/2 [==============================] - 13s 5s/step - loss: 7.1245e-05 - binary_accuracy: 1.0000\n",
      "Epoch 38/50\n",
      "2/2 [==============================] - 13s 5s/step - loss: 9.6487e-05 - binary_accuracy: 1.0000\n",
      "Epoch 39/50\n",
      "2/2 [==============================] - 13s 5s/step - loss: 5.5689e-05 - binary_accuracy: 1.0000\n",
      "Epoch 40/50\n",
      "2/2 [==============================] - 13s 5s/step - loss: 3.6476e-05 - binary_accuracy: 1.0000\n",
      "Epoch 41/50\n",
      "2/2 [==============================] - 13s 5s/step - loss: 9.3362e-05 - binary_accuracy: 1.0000\n",
      "Epoch 42/50\n",
      "2/2 [==============================] - 13s 5s/step - loss: 9.1807e-05 - binary_accuracy: 1.0000\n",
      "Epoch 43/50\n",
      "2/2 [==============================] - 13s 5s/step - loss: 5.1213e-05 - binary_accuracy: 1.0000\n",
      "Epoch 44/50\n",
      "2/2 [==============================] - 13s 5s/step - loss: 3.9786e-05 - binary_accuracy: 1.0000\n",
      "Epoch 45/50\n",
      "2/2 [==============================] - 13s 5s/step - loss: 5.7499e-05 - binary_accuracy: 1.0000\n"
     ]
    }
   ],
   "source": [
    "base_model.trainable = True\n",
    "model.summary()\n",
    "\n",
    "model.compile(\n",
    "    optimizer=tf.keras.optimizers.Adam(5e-5),  # Low learning rate\n",
    "    loss=tf.keras.losses.BinaryCrossentropy(from_logits=True),\n",
    "    metrics=[tf.keras.metrics.BinaryAccuracy()],\n",
    ")\n",
    "\n",
    "epochs = 50\n",
    "history = model.fit(x_train, y_train, epochs=epochs,callbacks=callback,class_weight = class_weights)"
   ]
  },
  {
   "cell_type": "code",
   "execution_count": 64,
   "metadata": {},
   "outputs": [],
   "source": [
    "pred = model.predict(x_test)\n",
    "\n",
    "y_pred = np.argmax(pred, axis=1)\n",
    "actual = x_test"
   ]
  },
  {
   "cell_type": "code",
   "execution_count": 69,
   "metadata": {},
   "outputs": [
    {
     "data": {
      "text/plain": [
       "array([2, 2, 2, 3, 2, 0, 2, 2, 2, 2, 3, 3, 3, 0, 2, 2, 3, 1, 2, 2, 3, 2,\n",
       "       2, 3, 2, 2], dtype=int64)"
      ]
     },
     "execution_count": 69,
     "metadata": {},
     "output_type": "execute_result"
    }
   ],
   "source": [
    "y_pred"
   ]
  },
  {
   "cell_type": "code",
   "execution_count": 71,
   "metadata": {},
   "outputs": [
    {
     "data": {
      "text/plain": [
       "array([0, 1, 3, 2, 2, 0, 3, 0, 1, 2, 0, 0, 2, 3, 3, 3, 2, 1, 2, 2, 3, 2,\n",
       "       0, 3, 2, 3], dtype=int64)"
      ]
     },
     "execution_count": 71,
     "metadata": {},
     "output_type": "execute_result"
    }
   ],
   "source": [
    "y_test"
   ]
  },
  {
   "cell_type": "code",
   "execution_count": 72,
   "metadata": {},
   "outputs": [
    {
     "ename": "AxisError",
     "evalue": "axis 1 is out of bounds for array of dimension 1",
     "output_type": "error",
     "traceback": [
      "\u001b[1;31m---------------------------------------------------------------------------\u001b[0m",
      "\u001b[1;31mAxisError\u001b[0m                                 Traceback (most recent call last)",
      "\u001b[1;32m<ipython-input-72-498de5f81bc3>\u001b[0m in \u001b[0;36m<module>\u001b[1;34m\u001b[0m\n\u001b[1;32m----> 1\u001b[1;33m \u001b[0my_test\u001b[0m \u001b[1;33m=\u001b[0m \u001b[0mnp\u001b[0m\u001b[1;33m.\u001b[0m\u001b[0margmax\u001b[0m\u001b[1;33m(\u001b[0m\u001b[0my_test\u001b[0m\u001b[1;33m,\u001b[0m \u001b[0maxis\u001b[0m\u001b[1;33m=\u001b[0m\u001b[1;36m1\u001b[0m\u001b[1;33m)\u001b[0m\u001b[1;33m\u001b[0m\u001b[1;33m\u001b[0m\u001b[0m\n\u001b[0m",
      "\u001b[1;32m<__array_function__ internals>\u001b[0m in \u001b[0;36margmax\u001b[1;34m(*args, **kwargs)\u001b[0m\n",
      "\u001b[1;32mc:\\Users\\acer\\anaconda3\\lib\\site-packages\\numpy\\core\\fromnumeric.py\u001b[0m in \u001b[0;36margmax\u001b[1;34m(a, axis, out)\u001b[0m\n\u001b[0;32m   1193\u001b[0m \u001b[1;33m\u001b[0m\u001b[0m\n\u001b[0;32m   1194\u001b[0m     \"\"\"\n\u001b[1;32m-> 1195\u001b[1;33m     \u001b[1;32mreturn\u001b[0m \u001b[0m_wrapfunc\u001b[0m\u001b[1;33m(\u001b[0m\u001b[0ma\u001b[0m\u001b[1;33m,\u001b[0m \u001b[1;34m'argmax'\u001b[0m\u001b[1;33m,\u001b[0m \u001b[0maxis\u001b[0m\u001b[1;33m=\u001b[0m\u001b[0maxis\u001b[0m\u001b[1;33m,\u001b[0m \u001b[0mout\u001b[0m\u001b[1;33m=\u001b[0m\u001b[0mout\u001b[0m\u001b[1;33m)\u001b[0m\u001b[1;33m\u001b[0m\u001b[1;33m\u001b[0m\u001b[0m\n\u001b[0m\u001b[0;32m   1196\u001b[0m \u001b[1;33m\u001b[0m\u001b[0m\n\u001b[0;32m   1197\u001b[0m \u001b[1;33m\u001b[0m\u001b[0m\n",
      "\u001b[1;32mc:\\Users\\acer\\anaconda3\\lib\\site-packages\\numpy\\core\\fromnumeric.py\u001b[0m in \u001b[0;36m_wrapfunc\u001b[1;34m(obj, method, *args, **kwds)\u001b[0m\n\u001b[0;32m     55\u001b[0m \u001b[1;33m\u001b[0m\u001b[0m\n\u001b[0;32m     56\u001b[0m     \u001b[1;32mtry\u001b[0m\u001b[1;33m:\u001b[0m\u001b[1;33m\u001b[0m\u001b[1;33m\u001b[0m\u001b[0m\n\u001b[1;32m---> 57\u001b[1;33m         \u001b[1;32mreturn\u001b[0m \u001b[0mbound\u001b[0m\u001b[1;33m(\u001b[0m\u001b[1;33m*\u001b[0m\u001b[0margs\u001b[0m\u001b[1;33m,\u001b[0m \u001b[1;33m**\u001b[0m\u001b[0mkwds\u001b[0m\u001b[1;33m)\u001b[0m\u001b[1;33m\u001b[0m\u001b[1;33m\u001b[0m\u001b[0m\n\u001b[0m\u001b[0;32m     58\u001b[0m     \u001b[1;32mexcept\u001b[0m \u001b[0mTypeError\u001b[0m\u001b[1;33m:\u001b[0m\u001b[1;33m\u001b[0m\u001b[1;33m\u001b[0m\u001b[0m\n\u001b[0;32m     59\u001b[0m         \u001b[1;31m# A TypeError occurs if the object does have such a method in its\u001b[0m\u001b[1;33m\u001b[0m\u001b[1;33m\u001b[0m\u001b[1;33m\u001b[0m\u001b[0m\n",
      "\u001b[1;31mAxisError\u001b[0m: axis 1 is out of bounds for array of dimension 1"
     ]
    }
   ],
   "source": [
    "y_test = np.argmax(y_test, axis=1)"
   ]
  },
  {
   "cell_type": "code",
   "execution_count": 73,
   "metadata": {},
   "outputs": [
    {
     "data": {
      "text/plain": [
       "<function matplotlib.pyplot.show(*args, **kw)>"
      ]
     },
     "execution_count": 73,
     "metadata": {},
     "output_type": "execute_result"
    },
    {
     "data": {
      "image/png": "[encoded data removed]",
      "text/plain": [
       "<Figure size 432x288 with 2 Axes>"
      ]
     },
     "metadata": {
      "needs_background": "light"
     },
     "output_type": "display_data"
    }
   ],
   "source": [
    "cm = confusion_matrix(y_test, y_pred)\n",
    "disp = ConfusionMatrixDisplay(confusion_matrix=cm)\n",
    "disp.plot()\n",
    "plt.show"
   ]
  },
  {
   "cell_type": "code",
   "execution_count": 74,
   "metadata": {},
   "outputs": [
    {
     "name": "stdout",
     "output_type": "stream",
     "text": [
      "              precision    recall  f1-score   support\n",
      "\n",
      "           0       0.50      0.17      0.25         6\n",
      "           1       1.00      0.33      0.50         3\n",
      "           2       0.38      0.67      0.48         9\n",
      "           3       0.29      0.25      0.27         8\n",
      "\n",
      "    accuracy                           0.38        26\n",
      "   macro avg       0.54      0.35      0.37        26\n",
      "weighted avg       0.45      0.38      0.36        26\n",
      "\n"
     ]
    }
   ],
   "source": [
    "from sklearn.metrics import classification_report\n",
    "print(classification_report(y_test, y_pred))"
   ]
  },
  {
   "cell_type": "code",
   "execution_count": null,
   "metadata": {},
   "outputs": [],
   "source": []
  }
 ],
 "metadata": {
  "kernelspec": {
   "display_name": "Python 3.7.6 ('base')",
   "language": "python",
   "name": "python3"
  },
  "language_info": {
   "codemirror_mode": {
    "name": "ipython",
    "version": 3
   },
   "file_extension": ".py",
   "mimetype": "text/x-python",
   "name": "python",
   "nbconvert_exporter": "python",
   "pygments_lexer": "ipython3",
   "version": "3.7.6"
  },
  "orig_nbformat": 4,
  "vscode": {
   "interpreter": {
    "hash": "23bf0724a01b6ea9814e66f76182ea78c0ee849a72ca257c0e116bf83bb4960a"
   }
  }
 },
 "nbformat": 4,
 "nbformat_minor": 2
}
