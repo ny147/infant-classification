{
 "cells": [
  {
   "cell_type": "code",
   "execution_count": 1,
   "metadata": {},
   "outputs": [],
   "source": [
    "import os\n",
    "import librosa, librosa.display\n",
    "import matplotlib.pyplot as plt\n",
    "from pathlib import Path\n",
    "import tensorflow as tf\n",
    "import IPython.display as ipd\n",
    "import numpy as np\n",
    "import shutil"
   ]
  },
  {
   "cell_type": "code",
   "execution_count": 2,
   "metadata": {},
   "outputs": [
    {
     "name": "stdout",
     "output_type": "stream",
     "text": [
      "Found 119 files belonging to 3 classes.\n",
      "['discomfort', 'hungry', 'tired']\n"
     ]
    }
   ],
   "source": [
    "\n",
    "\n",
    "#data_directory = './data/img_data/dustan/poly/mel_freq/'\n",
    "\n",
    "data_directory = './data/img_data/dustan/poly/mel_spectrogram/'\n",
    "\n",
    "data_ds = tf.keras.preprocessing.image_dataset_from_directory(\n",
    "    data_directory, labels='inferred', label_mode='int', image_size=(432, 288), seed=321,\n",
    "    validation_split=None, subset=None)\n",
    "\n",
    "\n",
    "class_names = data_ds.class_names\n",
    "print(class_names)"
   ]
  },
  {
   "cell_type": "code",
   "execution_count": 3,
   "metadata": {},
   "outputs": [],
   "source": [
    "## create model"
   ]
  },
  {
   "cell_type": "code",
   "execution_count": 4,
   "metadata": {},
   "outputs": [],
   "source": [
    "from sklearn.metrics import confusion_matrix, ConfusionMatrixDisplay\n",
    "from keras.callbacks import ModelCheckpoint"
   ]
  },
  {
   "cell_type": "code",
   "execution_count": 5,
   "metadata": {},
   "outputs": [],
   "source": [
    "def dummy(data):\n",
    "    new_data =[]\n",
    "    for i in data:\n",
    "        #lab_data =[0,0,0,0,0]\n",
    "        lab_data =[0,0,0]\n",
    "        #lab_data =[0,0]\n",
    "        lab_data[i] = 1\n",
    "        new_data.append(lab_data)\n",
    "    return new_data"
   ]
  },
  {
   "cell_type": "code",
   "execution_count": 6,
   "metadata": {},
   "outputs": [],
   "source": [
    "feature=[]\n",
    "label=[]\n",
    "for images, labels in data_ds.unbatch().take(-1):\n",
    "    feature.append(images.numpy())\n",
    "    label.append(labels.numpy())"
   ]
  },
  {
   "cell_type": "code",
   "execution_count": 7,
   "metadata": {},
   "outputs": [],
   "source": [
    "from sklearn.model_selection import train_test_split"
   ]
  },
  {
   "cell_type": "code",
   "execution_count": 8,
   "metadata": {},
   "outputs": [],
   "source": [
    "x_train,x_test,y_train,y_test = train_test_split(feature,label,test_size = 0.20,random_state =101)"
   ]
  },
  {
   "cell_type": "code",
   "execution_count": 9,
   "metadata": {},
   "outputs": [],
   "source": [
    "x_train = np.array(x_train)\n",
    "x_test = np.array(x_test)\n",
    "y_train = np.array(y_train)\n",
    "y_test = np.array(y_test)"
   ]
  },
  {
   "cell_type": "code",
   "execution_count": 10,
   "metadata": {},
   "outputs": [],
   "source": [
    "class_count = np.array([np.count_nonzero(y_train ==0),np.count_nonzero(y_train ==1),np.count_nonzero(y_train ==2),np.count_nonzero(y_train ==3),np.count_nonzero(y_train ==4)])"
   ]
  },
  {
   "cell_type": "code",
   "execution_count": 11,
   "metadata": {},
   "outputs": [],
   "source": [
    "class_count = np.array([np.count_nonzero(y_train ==0),np.count_nonzero(y_train ==1),np.count_nonzero(y_train ==2)])"
   ]
  },
  {
   "cell_type": "code",
   "execution_count": 12,
   "metadata": {},
   "outputs": [],
   "source": [
    "class_count = np.array([np.count_nonzero(y_train ==0),np.count_nonzero(y_train ==1)])"
   ]
  },
  {
   "cell_type": "code",
   "execution_count": 13,
   "metadata": {},
   "outputs": [],
   "source": [
    "y_train = dummy(y_train)\n",
    "y_test = dummy(y_test)"
   ]
  },
  {
   "cell_type": "code",
   "execution_count": 242,
   "metadata": {},
   "outputs": [
    {
     "data": {
      "text/plain": [
       "array([21, 32, 42])"
      ]
     },
     "execution_count": 242,
     "metadata": {},
     "output_type": "execute_result"
    }
   ],
   "source": [
    "class_count"
   ]
  },
  {
   "cell_type": "code",
   "execution_count": 243,
   "metadata": {},
   "outputs": [],
   "source": [
    "y_train = np.array(y_train)\n",
    "y_test = np.array(y_test)"
   ]
  },
  {
   "cell_type": "code",
   "execution_count": 244,
   "metadata": {},
   "outputs": [],
   "source": [
    "img_height = 432\n",
    "img_width = 288"
   ]
  },
  {
   "cell_type": "code",
   "execution_count": 246,
   "metadata": {},
   "outputs": [],
   "source": [
    "num_classes = 3\n",
    "def create_weight(n_sample,n_class,n_class_sample):\n",
    "    weight = n_sample/(n_class*n_class_sample)\n",
    "    return weight "
   ]
  },
  {
   "cell_type": "code",
   "execution_count": 247,
   "metadata": {},
   "outputs": [],
   "source": [
    "#class_weights = {0:0, 1:0,2:0,3:0,4:0}\n",
    "class_weights = {0:0, 1:0,2:0}\n",
    "for i in range(num_classes):\n",
    "    class_weights[i]=create_weight(109,num_classes,class_count[i])"
   ]
  },
  {
   "cell_type": "code",
   "execution_count": 248,
   "metadata": {},
   "outputs": [
    {
     "data": {
      "text/plain": [
       "{0: 1.7301587301587302, 1: 1.1354166666666667, 2: 0.8650793650793651}"
      ]
     },
     "execution_count": 248,
     "metadata": {},
     "output_type": "execute_result"
    }
   ],
   "source": [
    "class_weights"
   ]
  },
  {
   "cell_type": "code",
   "execution_count": 249,
   "metadata": {},
   "outputs": [
    {
     "name": "stdout",
     "output_type": "stream",
     "text": [
      "Model: \"model_6\"\n",
      "_________________________________________________________________\n",
      " Layer (type)                Output Shape              Param #   \n",
      "=================================================================\n",
      " input_14 (InputLayer)       [(None, 432, 288, 3)]     0         \n",
      "                                                                 \n",
      " rescaling_6 (Rescaling)     (None, 432, 288, 3)       0         \n",
      "                                                                 \n",
      " tf.cast_6 (TFOpLambda)      (None, 432, 288, 3)       0         \n",
      "                                                                 \n",
      " resnet50v2 (Functional)     (None, 14, 9, 2048)       23564800  \n",
      "                                                                 \n",
      " conv2d_6 (Conv2D)           (None, 14, 9, 128)        2359424   \n",
      "                                                                 \n",
      " max_pooling2d_27 (MaxPoolin  (None, 7, 4, 128)        0         \n",
      " g2D)                                                            \n",
      "                                                                 \n",
      " dropout_12 (Dropout)        (None, 7, 4, 128)         0         \n",
      "                                                                 \n",
      " global_average_pooling2d_6   (None, 128)              0         \n",
      " (GlobalAveragePooling2D)                                        \n",
      "                                                                 \n",
      " dropout_13 (Dropout)        (None, 128)               0         \n",
      "                                                                 \n",
      " dense_6 (Dense)             (None, 3)                 387       \n",
      "                                                                 \n",
      "=================================================================\n",
      "Total params: 25,924,611\n",
      "Trainable params: 2,359,811\n",
      "Non-trainable params: 23,564,800\n",
      "_________________________________________________________________\n"
     ]
    }
   ],
   "source": [
    "base_model = tf.keras.applications.ResNet50V2(\n",
    "    weights=\"imagenet\",  # Load weights pre-trained on ImageNet.\n",
    "    input_shape=(img_height, img_width, 3),\n",
    "    include_top=False,\n",
    ") \n",
    "\n",
    "# Freeze the base_model\n",
    "base_model.trainable = False\n",
    "\n",
    "# Create new model on top\n",
    "\n",
    "inputs = tf.keras.Input(shape=(img_height, img_width, 3))\n",
    "\n",
    "scale_layer = tf.keras.layers.Rescaling(scale=1./255)\n",
    "x = scale_layer(inputs)\n",
    "\n",
    "x = tf.cast(x,tf.float32)\n",
    "\n",
    "x = base_model(x, training=False)\n",
    "\n",
    "x = tf.keras.layers.Conv2D(128, 3, padding='same', activation='relu')(x)          \n",
    "x = tf.keras.layers.MaxPooling2D((2,2))(x)\n",
    "x = tf.keras.layers.Dropout(0.2)(x)\n",
    "            \n",
    "x = tf.keras.layers.GlobalAveragePooling2D()(x)\n",
    "\n",
    "#x = tf.keras.layers.Dense(128, activation='relu')(x)\n",
    "\n",
    "x = tf.keras.layers.Dropout(0.2)(x)  # Regularize with dropout\n",
    "outputs = tf.keras.layers.Dense(3,activation='softmax')(x)\n",
    "model = tf.keras.Model(inputs, outputs)\n",
    "\n",
    "model.summary()"
   ]
  },
  {
   "cell_type": "code",
   "execution_count": 250,
   "metadata": {},
   "outputs": [
    {
     "data": {
      "text/plain": [
       "\" #model = tf.keras.Sequential([\\n            tf.keras.layers.experimental.preprocessing.Rescaling(1./255, input_shape=(img_height, img_width, 3)),\\n            tf.keras.layers.Conv2D(256, 3, padding='same', activation='relu'),\\n            tf.keras.layers.MaxPooling2D((2,2)),\\n            tf.keras.layers.Dropout(0.2),\\n            tf.keras.layers.Conv2D(128, 3, padding='same', activation='relu'),            \\n            tf.keras.layers.MaxPooling2D((2,2)),\\n            tf.keras.layers.Dropout(0.2),\\n            tf.keras.layers.Conv2D(16, 3, padding='same', activation='relu'),\\n            tf.keras.layers.MaxPooling2D((2,2)),\\n            tf.keras.layers.Flatten(),\\n            tf.keras.layers.Dense(64, activation='relu'),\\n            tf.keras.layers.Dense(1, activation='sigmoid')\\n        ])\\nmodel.summary() \""
      ]
     },
     "execution_count": 250,
     "metadata": {},
     "output_type": "execute_result"
    }
   ],
   "source": [
    "''' #model = tf.keras.Sequential([\n",
    "            tf.keras.layers.experimental.preprocessing.Rescaling(1./255, input_shape=(img_height, img_width, 3)),\n",
    "            tf.keras.layers.Conv2D(256, 3, padding='same', activation='relu'),\n",
    "            tf.keras.layers.MaxPooling2D((2,2)),\n",
    "            tf.keras.layers.Dropout(0.2),\n",
    "            tf.keras.layers.Conv2D(128, 3, padding='same', activation='relu'),            \n",
    "            tf.keras.layers.MaxPooling2D((2,2)),\n",
    "            tf.keras.layers.Dropout(0.2),\n",
    "            tf.keras.layers.Conv2D(16, 3, padding='same', activation='relu'),\n",
    "            tf.keras.layers.MaxPooling2D((2,2)),\n",
    "            tf.keras.layers.Flatten(),\n",
    "            tf.keras.layers.Dense(64, activation='relu'),\n",
    "            tf.keras.layers.Dense(1, activation='sigmoid')\n",
    "        ])\n",
    "model.summary() '''"
   ]
  },
  {
   "cell_type": "code",
   "execution_count": 251,
   "metadata": {},
   "outputs": [],
   "source": [
    "#resnet \n",
    "#inception v3"
   ]
  },
  {
   "cell_type": "code",
   "execution_count": 252,
   "metadata": {},
   "outputs": [],
   "source": [
    "\n",
    "loss_fn = tf.keras.losses.CategoricalCrossentropy(from_logits=True)\n",
    "optimizer = tf.keras.optimizers.Adam()# modify weight in Adam\n",
    "metrics = ['accuracy']\n",
    "model.compile (optimizer = optimizer,loss =  loss_fn,metrics = metrics)"
   ]
  },
  {
   "cell_type": "code",
   "execution_count": 253,
   "metadata": {},
   "outputs": [],
   "source": [
    "callback = tf.keras.callbacks.EarlyStopping(monitor='val_loss', patience=5)"
   ]
  },
  {
   "cell_type": "code",
   "execution_count": 254,
   "metadata": {},
   "outputs": [
    {
     "name": "stdout",
     "output_type": "stream",
     "text": [
      "Epoch 1/100\n"
     ]
    },
    {
     "name": "stderr",
     "output_type": "stream",
     "text": [
      "c:\\Users\\acer\\anaconda3\\lib\\site-packages\\tensorflow\\python\\util\\dispatch.py:1082: UserWarning: \"`categorical_crossentropy` received `from_logits=True`, but the `output` argument was produced by a sigmoid or softmax activation and thus does not represent logits. Was this intended?\"\n",
      "  return dispatch_target(*args, **kwargs)\n"
     ]
    },
    {
     "name": "stdout",
     "output_type": "stream",
     "text": [
      "3/3 [==============================] - 15s 4s/step - loss: 12.5407 - accuracy: 0.3026 - val_loss: 1.8046 - val_accuracy: 0.7895\n",
      "Epoch 2/100\n",
      "3/3 [==============================] - 10s 3s/step - loss: 3.1632 - accuracy: 0.5658 - val_loss: 1.3216 - val_accuracy: 0.2105\n",
      "Epoch 3/100\n",
      "3/3 [==============================] - 10s 3s/step - loss: 1.1743 - accuracy: 0.5132 - val_loss: 1.2616 - val_accuracy: 0.2632\n",
      "Epoch 4/100\n",
      "3/3 [==============================] - 10s 3s/step - loss: 0.7868 - accuracy: 0.5263 - val_loss: 0.9474 - val_accuracy: 0.3158\n",
      "Epoch 5/100\n",
      "3/3 [==============================] - 10s 3s/step - loss: 0.7329 - accuracy: 0.6184 - val_loss: 0.8062 - val_accuracy: 0.2632\n",
      "Epoch 6/100\n",
      "3/3 [==============================] - 10s 3s/step - loss: 0.6669 - accuracy: 0.6316 - val_loss: 0.6884 - val_accuracy: 0.7895\n",
      "Epoch 7/100\n",
      "3/3 [==============================] - 10s 3s/step - loss: 0.5353 - accuracy: 0.8816 - val_loss: 0.6643 - val_accuracy: 0.7895\n",
      "Epoch 8/100\n",
      "3/3 [==============================] - 10s 3s/step - loss: 0.4871 - accuracy: 0.8684 - val_loss: 0.6814 - val_accuracy: 0.6842\n",
      "Epoch 9/100\n",
      "3/3 [==============================] - 10s 3s/step - loss: 0.3878 - accuracy: 0.9211 - val_loss: 0.7350 - val_accuracy: 0.6842\n",
      "Epoch 10/100\n",
      "3/3 [==============================] - 10s 3s/step - loss: 0.4009 - accuracy: 0.8289 - val_loss: 0.7727 - val_accuracy: 0.6842\n",
      "Epoch 11/100\n",
      "3/3 [==============================] - 10s 3s/step - loss: 0.3268 - accuracy: 0.8684 - val_loss: 0.6911 - val_accuracy: 0.6842\n",
      "Epoch 12/100\n",
      "3/3 [==============================] - 10s 3s/step - loss: 0.2772 - accuracy: 0.9342 - val_loss: 0.6590 - val_accuracy: 0.6842\n",
      "Epoch 13/100\n",
      "3/3 [==============================] - 10s 3s/step - loss: 0.2498 - accuracy: 0.9868 - val_loss: 0.6786 - val_accuracy: 0.6842\n",
      "Epoch 14/100\n",
      "3/3 [==============================] - 10s 3s/step - loss: 0.2292 - accuracy: 0.9605 - val_loss: 0.7245 - val_accuracy: 0.6842\n",
      "Epoch 15/100\n",
      "3/3 [==============================] - 10s 3s/step - loss: 0.1685 - accuracy: 0.9868 - val_loss: 0.7882 - val_accuracy: 0.6842\n",
      "Epoch 16/100\n",
      "3/3 [==============================] - 10s 3s/step - loss: 0.1942 - accuracy: 0.9342 - val_loss: 0.7218 - val_accuracy: 0.6842\n",
      "Epoch 17/100\n",
      "3/3 [==============================] - 10s 3s/step - loss: 0.1500 - accuracy: 0.9605 - val_loss: 0.6028 - val_accuracy: 0.7895\n",
      "Epoch 18/100\n",
      "3/3 [==============================] - 10s 3s/step - loss: 0.1193 - accuracy: 1.0000 - val_loss: 0.6165 - val_accuracy: 0.7895\n",
      "Epoch 19/100\n",
      "3/3 [==============================] - 10s 3s/step - loss: 0.0928 - accuracy: 1.0000 - val_loss: 0.6512 - val_accuracy: 0.7895\n",
      "Epoch 20/100\n",
      "3/3 [==============================] - 10s 3s/step - loss: 0.0906 - accuracy: 1.0000 - val_loss: 0.6752 - val_accuracy: 0.7895\n",
      "Epoch 21/100\n",
      "3/3 [==============================] - 10s 3s/step - loss: 0.0555 - accuracy: 1.0000 - val_loss: 0.7012 - val_accuracy: 0.7895\n",
      "Epoch 22/100\n",
      "3/3 [==============================] - 10s 3s/step - loss: 0.0526 - accuracy: 1.0000 - val_loss: 0.6733 - val_accuracy: 0.7895\n"
     ]
    }
   ],
   "source": [
    "# Set the epocks\n",
    "# ทำ stop + validation\n",
    "epochs = 100\n",
    "#history = model.fit(x_train, y_train, epochs=epochs,validation_split=0.3,class_weight = class_weights)\n",
    "history = model.fit(x_train, y_train, epochs=epochs,validation_split=0.2,callbacks=callback,class_weight = class_weights)"
   ]
  },
  {
   "cell_type": "code",
   "execution_count": 255,
   "metadata": {},
   "outputs": [
    {
     "data": {
      "image/png": "[encoded data removed]",
      "text/plain": [
       "<Figure size 432x288 with 1 Axes>"
      ]
     },
     "metadata": {
      "needs_background": "light"
     },
     "output_type": "display_data"
    }
   ],
   "source": [
    "plt.plot(history.history['loss'],label = 'loss')\n",
    "plt.plot(history.history['val_loss'],label = 'val_loss')\n",
    "plt.legend()\n",
    "plt.show()"
   ]
  },
  {
   "cell_type": "code",
   "execution_count": 256,
   "metadata": {},
   "outputs": [],
   "source": [
    "pred = model.predict(x_test)\n",
    "\n",
    "y_pred = np.argmax(pred, axis=1)\n",
    "actual = x_test"
   ]
  },
  {
   "cell_type": "code",
   "execution_count": 257,
   "metadata": {},
   "outputs": [
    {
     "data": {
      "text/plain": [
       "<function matplotlib.pyplot.show(*args, **kw)>"
      ]
     },
     "execution_count": 257,
     "metadata": {},
     "output_type": "execute_result"
    },
    {
     "data": {
      "image/png": "[encoded data removed]",
      "text/plain": [
       "<Figure size 432x288 with 2 Axes>"
      ]
     },
     "metadata": {
      "needs_background": "light"
     },
     "output_type": "display_data"
    }
   ],
   "source": [
    "y_test = np.argmax(y_test, axis=1)\n",
    "cm = confusion_matrix(y_test, y_pred)\n",
    "disp = ConfusionMatrixDisplay(confusion_matrix=cm,display_labels=class_names)\n",
    "disp.plot()\n",
    "plt.show"
   ]
  },
  {
   "cell_type": "code",
   "execution_count": 258,
   "metadata": {},
   "outputs": [
    {
     "name": "stdout",
     "output_type": "stream",
     "text": [
      "Model: \"model_6\"\n",
      "_________________________________________________________________\n",
      " Layer (type)                Output Shape              Param #   \n",
      "=================================================================\n",
      " input_14 (InputLayer)       [(None, 432, 288, 3)]     0         \n",
      "                                                                 \n",
      " rescaling_6 (Rescaling)     (None, 432, 288, 3)       0         \n",
      "                                                                 \n",
      " tf.cast_6 (TFOpLambda)      (None, 432, 288, 3)       0         \n",
      "                                                                 \n",
      " resnet50v2 (Functional)     (None, 14, 9, 2048)       23564800  \n",
      "                                                                 \n",
      " conv2d_6 (Conv2D)           (None, 14, 9, 128)        2359424   \n",
      "                                                                 \n",
      " max_pooling2d_27 (MaxPoolin  (None, 7, 4, 128)        0         \n",
      " g2D)                                                            \n",
      "                                                                 \n",
      " dropout_12 (Dropout)        (None, 7, 4, 128)         0         \n",
      "                                                                 \n",
      " global_average_pooling2d_6   (None, 128)              0         \n",
      " (GlobalAveragePooling2D)                                        \n",
      "                                                                 \n",
      " dropout_13 (Dropout)        (None, 128)               0         \n",
      "                                                                 \n",
      " dense_6 (Dense)             (None, 3)                 387       \n",
      "                                                                 \n",
      "=================================================================\n",
      "Total params: 25,924,611\n",
      "Trainable params: 25,879,171\n",
      "Non-trainable params: 45,440\n",
      "_________________________________________________________________\n",
      "Epoch 1/50\n"
     ]
    },
    {
     "name": "stderr",
     "output_type": "stream",
     "text": [
      "c:\\Users\\acer\\anaconda3\\lib\\site-packages\\tensorflow\\python\\util\\dispatch.py:1082: UserWarning: \"`categorical_crossentropy` received `from_logits=True`, but the `output` argument was produced by a sigmoid or softmax activation and thus does not represent logits. Was this intended?\"\n",
      "  return dispatch_target(*args, **kwargs)\n"
     ]
    },
    {
     "name": "stdout",
     "output_type": "stream",
     "text": [
      "3/3 [==============================] - 46s 11s/step - loss: 0.1767 - binary_accuracy: 0.9596 - val_loss: 0.4196 - val_binary_accuracy: 0.9080\n",
      "Epoch 2/50\n",
      "3/3 [==============================] - 39s 11s/step - loss: 0.1049 - binary_accuracy: 0.9848 - val_loss: 0.7523 - val_binary_accuracy: 0.7816\n",
      "Epoch 3/50\n",
      "3/3 [==============================] - 39s 11s/step - loss: 0.1029 - binary_accuracy: 0.9697 - val_loss: 0.6491 - val_binary_accuracy: 0.8621\n",
      "Epoch 4/50\n",
      "3/3 [==============================] - 39s 11s/step - loss: 0.0352 - binary_accuracy: 1.0000 - val_loss: 0.5086 - val_binary_accuracy: 0.8966\n",
      "Epoch 5/50\n",
      "3/3 [==============================] - 41s 12s/step - loss: 0.0472 - binary_accuracy: 0.9949 - val_loss: 0.4025 - val_binary_accuracy: 0.9195\n",
      "Epoch 6/50\n",
      "3/3 [==============================] - 43s 11s/step - loss: 0.0186 - binary_accuracy: 1.0000 - val_loss: 0.3664 - val_binary_accuracy: 0.9310\n",
      "Epoch 7/50\n",
      "3/3 [==============================] - 39s 11s/step - loss: 0.0134 - binary_accuracy: 1.0000 - val_loss: 0.3626 - val_binary_accuracy: 0.9310\n",
      "Epoch 8/50\n",
      "3/3 [==============================] - 39s 11s/step - loss: 0.0146 - binary_accuracy: 1.0000 - val_loss: 0.3981 - val_binary_accuracy: 0.9080\n",
      "Epoch 9/50\n",
      "3/3 [==============================] - 39s 11s/step - loss: 0.0067 - binary_accuracy: 1.0000 - val_loss: 0.4585 - val_binary_accuracy: 0.9080\n",
      "Epoch 10/50\n",
      "3/3 [==============================] - 44s 13s/step - loss: 0.0041 - binary_accuracy: 1.0000 - val_loss: 0.5208 - val_binary_accuracy: 0.9080\n",
      "Epoch 11/50\n",
      "3/3 [==============================] - 47s 13s/step - loss: 0.0049 - binary_accuracy: 1.0000 - val_loss: 0.5707 - val_binary_accuracy: 0.9080\n",
      "Epoch 12/50\n",
      "3/3 [==============================] - 43s 12s/step - loss: 0.0063 - binary_accuracy: 1.0000 - val_loss: 0.6181 - val_binary_accuracy: 0.9080\n"
     ]
    }
   ],
   "source": [
    "base_model.trainable = True\n",
    "model.summary()\n",
    "\n",
    "model.compile(\n",
    "    optimizer=tf.keras.optimizers.Adam(1e-5),  # Low learning rate\n",
    "    # loss=tf.keras.losses.CategoricalCrossentropy(from_logits=True),\n",
    "    loss=tf.keras.losses.CategoricalCrossentropy(from_logits=True),\n",
    "    metrics=[tf.keras.metrics.BinaryAccuracy()],\n",
    ")\n",
    "\n",
    "epochs = 50\n",
    "#history = model.fit(x_train, y_train, epochs=epochs,validation_split=0.3,class_weight = class_weights)\n",
    "history = model.fit(x_train, y_train, epochs=epochs,validation_split=0.3,callbacks=callback,class_weight = class_weights)"
   ]
  },
  {
   "cell_type": "code",
   "execution_count": 259,
   "metadata": {},
   "outputs": [
    {
     "data": {
      "image/png": "[encoded data removed]",
      "text/plain": [
       "<Figure size 432x288 with 1 Axes>"
      ]
     },
     "metadata": {
      "needs_background": "light"
     },
     "output_type": "display_data"
    }
   ],
   "source": [
    "plt.plot(history.history['loss'],label = 'loss')\n",
    "plt.plot(history.history['val_loss'],label = 'val_loss')\n",
    "plt.legend()\n",
    "plt.show()"
   ]
  },
  {
   "cell_type": "code",
   "execution_count": 260,
   "metadata": {},
   "outputs": [],
   "source": [
    "pred = model.predict(x_test)\n",
    "\n",
    "y_pred = np.argmax(pred, axis=1)\n",
    "actual = x_test"
   ]
  },
  {
   "cell_type": "code",
   "execution_count": 261,
   "metadata": {},
   "outputs": [
    {
     "data": {
      "text/plain": [
       "<function matplotlib.pyplot.show(*args, **kw)>"
      ]
     },
     "execution_count": 261,
     "metadata": {},
     "output_type": "execute_result"
    },
    {
     "data": {
      "image/png": "[encoded data removed]",
      "text/plain": [
       "<Figure size 432x288 with 2 Axes>"
      ]
     },
     "metadata": {
      "needs_background": "light"
     },
     "output_type": "display_data"
    }
   ],
   "source": [
    "\n",
    "cm = confusion_matrix(y_test, y_pred)\n",
    "disp = ConfusionMatrixDisplay(confusion_matrix=cm,display_labels=class_names)\n",
    "disp.plot()\n",
    "plt.show"
   ]
  },
  {
   "cell_type": "code",
   "execution_count": 262,
   "metadata": {},
   "outputs": [
    {
     "name": "stdout",
     "output_type": "stream",
     "text": [
      "              precision    recall  f1-score   support\n",
      "\n",
      "  discomfort       1.00      1.00      1.00         8\n",
      "      hungry       0.86      0.86      0.86         7\n",
      "       tired       0.89      0.89      0.89         9\n",
      "\n",
      "    accuracy                           0.92        24\n",
      "   macro avg       0.92      0.92      0.92        24\n",
      "weighted avg       0.92      0.92      0.92        24\n",
      "\n"
     ]
    }
   ],
   "source": [
    "from sklearn.metrics import classification_report\n",
    "print(classification_report(y_test, y_pred,target_names=class_names))"
   ]
  },
  {
   "cell_type": "code",
   "execution_count": null,
   "metadata": {},
   "outputs": [],
   "source": []
  }
 ],
 "metadata": {
  "kernelspec": {
   "display_name": "Python 3.7.6 ('base')",
   "language": "python",
   "name": "python3"
  },
  "language_info": {
   "codemirror_mode": {
    "name": "ipython",
    "version": 3
   },
   "file_extension": ".py",
   "mimetype": "text/x-python",
   "name": "python",
   "nbconvert_exporter": "python",
   "pygments_lexer": "ipython3",
   "version": "3.7.6"
  },
  "orig_nbformat": 4,
  "vscode": {
   "interpreter": {
    "hash": "23bf0724a01b6ea9814e66f76182ea78c0ee849a72ca257c0e116bf83bb4960a"
   }
  }
 },
 "nbformat": 4,
 "nbformat_minor": 2
}
