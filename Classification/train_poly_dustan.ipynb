{
 "cells": [
  {
   "cell_type": "code",
   "execution_count": 1,
   "metadata": {},
   "outputs": [],
   "source": [
    "import os\n",
    "import librosa, librosa.display\n",
    "import matplotlib.pyplot as plt\n",
    "from pathlib import Path\n",
    "import tensorflow as tf\n",
    "import IPython.display as ipd\n",
    "import numpy as np\n",
    "import shutil\n",
    "#import ftransc"
   ]
  },
  {
   "cell_type": "code",
   "execution_count": 3,
   "metadata": {},
   "outputs": [
    {
     "name": "stdout",
     "output_type": "stream",
     "text": [
      "Found 109 files belonging to 5 classes.\n",
      "Found 57 files belonging to 5 classes.\n",
      "['burping', 'discomfort', 'hungry', 'poop', 'tired']\n"
     ]
    }
   ],
   "source": [
    "\n",
    "train_directory = './data/img_data/dustan/poly/mel_spectrogram/train'\n",
    "test_directory = './data/img_data/dustan/poly/mel_spectrogram/test'\n",
    "#train_directory = './data/poly/mel_spectrogram/train'\n",
    "#test_directory = './data/poly/mel_spectrogram/test'\n",
    "\n",
    "train_ds = tf.keras.preprocessing.image_dataset_from_directory(\n",
    "    train_directory, labels='inferred', label_mode='int', image_size=(256, 256), seed=321,\n",
    "    validation_split=None, subset=None)\n",
    "\n",
    "test_ds = tf.keras.preprocessing.image_dataset_from_directory(\n",
    "    test_directory, labels='inferred', label_mode='int', image_size=(256, 256),\n",
    "    validation_split=None, subset=None)\n",
    "\n",
    "class_names = train_ds.class_names\n",
    "print(class_names)"
   ]
  },
  {
   "cell_type": "code",
   "execution_count": 4,
   "metadata": {},
   "outputs": [],
   "source": [
    "## create model"
   ]
  },
  {
   "cell_type": "code",
   "execution_count": 5,
   "metadata": {},
   "outputs": [],
   "source": [
    "from sklearn.metrics import confusion_matrix, ConfusionMatrixDisplay\n",
    "from keras.callbacks import ModelCheckpoint"
   ]
  },
  {
   "cell_type": "code",
   "execution_count": 6,
   "metadata": {},
   "outputs": [],
   "source": [
    "def dummy(data):\n",
    "    new_data =[]\n",
    "    for i in data:\n",
    "        lab_data =[0,0,0,0,0]\n",
    "        lab_data[i] = 1\n",
    "        new_data.append(lab_data)\n",
    "    return new_data"
   ]
  },
  {
   "cell_type": "code",
   "execution_count": 7,
   "metadata": {},
   "outputs": [],
   "source": [
    "x_train=[]\n",
    "y_train=[]\n",
    "for images, labels in train_ds.unbatch().take(-1):\n",
    "    x_train.append(images.numpy())\n",
    "    y_train.append(labels.numpy())"
   ]
  },
  {
   "cell_type": "code",
   "execution_count": 8,
   "metadata": {},
   "outputs": [],
   "source": [
    "x_test=[]\n",
    "y_test=[]\n",
    "for images, labels in test_ds.unbatch().take(-1):\n",
    "    x_test.append(images.numpy())\n",
    "    y_test.append(labels.numpy())"
   ]
  },
  {
   "cell_type": "code",
   "execution_count": 9,
   "metadata": {},
   "outputs": [],
   "source": [
    "x_train = np.array(x_train)\n",
    "x_test = np.array(x_test)\n",
    "y_train = np.array(y_train)\n",
    "y_test = np.array(y_test)"
   ]
  },
  {
   "cell_type": "code",
   "execution_count": 10,
   "metadata": {},
   "outputs": [],
   "source": [
    "class_count = np.array([np.count_nonzero(y_train ==0),np.count_nonzero(y_train ==1),np.count_nonzero(y_train ==2),np.count_nonzero(y_train ==3),np.count_nonzero(y_train ==4)])"
   ]
  },
  {
   "cell_type": "code",
   "execution_count": 11,
   "metadata": {},
   "outputs": [],
   "source": [
    "y_train = dummy(y_train)\n",
    "y_test = dummy(y_test)"
   ]
  },
  {
   "cell_type": "code",
   "execution_count": 12,
   "metadata": {},
   "outputs": [
    {
     "data": {
      "text/plain": [
       "array([16, 19, 26, 14, 34])"
      ]
     },
     "execution_count": 12,
     "metadata": {},
     "output_type": "execute_result"
    }
   ],
   "source": [
    "class_count"
   ]
  },
  {
   "cell_type": "code",
   "execution_count": 13,
   "metadata": {},
   "outputs": [],
   "source": [
    "y_train = np.array(y_train)\n",
    "y_test = np.array(y_test)"
   ]
  },
  {
   "cell_type": "code",
   "execution_count": 14,
   "metadata": {},
   "outputs": [],
   "source": [
    "img_height = 256\n",
    "img_width = 256"
   ]
  },
  {
   "cell_type": "code",
   "execution_count": 15,
   "metadata": {},
   "outputs": [],
   "source": [
    "num_classes = 5\n",
    "\n",
    "def create_weight(n_sample,n_class,n_class_sample):\n",
    "    weight = n_sample/(n_class*n_class_sample)\n",
    "    return weight "
   ]
  },
  {
   "cell_type": "code",
   "execution_count": 16,
   "metadata": {},
   "outputs": [],
   "source": [
    "class_weights = {0:0, 1:0,2:0,3:0,4:0}\n",
    "\n",
    "for i in range(num_classes):\n",
    "    class_weights[i]=create_weight(109,num_classes,class_count[i])"
   ]
  },
  {
   "cell_type": "code",
   "execution_count": 17,
   "metadata": {},
   "outputs": [
    {
     "data": {
      "text/plain": [
       "{0: 1.3625,\n",
       " 1: 1.1473684210526316,\n",
       " 2: 0.8384615384615385,\n",
       " 3: 1.5571428571428572,\n",
       " 4: 0.6411764705882353}"
      ]
     },
     "execution_count": 17,
     "metadata": {},
     "output_type": "execute_result"
    }
   ],
   "source": [
    "class_weights"
   ]
  },
  {
   "cell_type": "code",
   "execution_count": 20,
   "metadata": {},
   "outputs": [
    {
     "name": "stdout",
     "output_type": "stream",
     "text": [
      "Model: \"model_1\"\n",
      "_________________________________________________________________\n",
      " Layer (type)                Output Shape              Param #   \n",
      "=================================================================\n",
      " input_6 (InputLayer)        [(None, 256, 256, 3)]     0         \n",
      "                                                                 \n",
      " rescaling_2 (Rescaling)     (None, 256, 256, 3)       0         \n",
      "                                                                 \n",
      " tf.cast_2 (TFOpLambda)      (None, 256, 256, 3)       0         \n",
      "                                                                 \n",
      " resnet50v2 (Functional)     (None, 8, 8, 2048)        23564800  \n",
      "                                                                 \n",
      " global_average_pooling2d_1   (None, 2048)             0         \n",
      " (GlobalAveragePooling2D)                                        \n",
      "                                                                 \n",
      " dropout_1 (Dropout)         (None, 2048)              0         \n",
      "                                                                 \n",
      " dense_1 (Dense)             (None, 5)                 10245     \n",
      "                                                                 \n",
      "=================================================================\n",
      "Total params: 23,575,045\n",
      "Trainable params: 10,245\n",
      "Non-trainable params: 23,564,800\n",
      "_________________________________________________________________\n"
     ]
    }
   ],
   "source": [
    "base_model = tf.keras.applications.ResNet50V2(\n",
    "    weights=\"imagenet\",  # Load weights pre-trained on ImageNet.\n",
    "    input_shape=(img_height, img_width, 3),\n",
    "    include_top=False,\n",
    ") \n",
    "\n",
    "# Freeze the base_model\n",
    "base_model.trainable = False\n",
    "\n",
    "# Create new model on top\n",
    "inputs = tf.keras.Input(shape=(img_height, img_width, 3))\n",
    "\n",
    "scale_layer = tf.keras.layers.Rescaling(scale=1./255)\n",
    "x = scale_layer(inputs)\n",
    "\n",
    "x = tf.cast(x,tf.float32)\n",
    "\n",
    "x = base_model(x, training=False)\n",
    "x = tf.keras.layers.GlobalAveragePooling2D()(x)\n",
    "\n",
    "#x = tf.keras.layers.Dense(128, activation='relu')(x)\n",
    "x = tf.keras.layers.Dropout(0.2)(x)  # Regularize with dropout\n",
    "outputs = tf.keras.layers.Dense(5,activation='softmax')(x)\n",
    "model = tf.keras.Model(inputs, outputs)\n",
    "\n",
    "model.summary()"
   ]
  },
  {
   "cell_type": "code",
   "execution_count": 21,
   "metadata": {},
   "outputs": [
    {
     "data": {
      "text/plain": [
       "\" #model = tf.keras.Sequential([\\n            tf.keras.layers.experimental.preprocessing.Rescaling(1./255, input_shape=(img_height, img_width, 3)),\\n            tf.keras.layers.Conv2D(256, 3, padding='same', activation='relu'),\\n            tf.keras.layers.MaxPooling2D((2,2)),\\n            tf.keras.layers.Dropout(0.2),\\n            tf.keras.layers.Conv2D(128, 3, padding='same', activation='relu'),            \\n            tf.keras.layers.MaxPooling2D((2,2)),\\n            tf.keras.layers.Dropout(0.2),\\n            tf.keras.layers.Conv2D(16, 3, padding='same', activation='relu'),\\n            tf.keras.layers.MaxPooling2D((2,2)),\\n            tf.keras.layers.Flatten(),\\n            tf.keras.layers.Dense(64, activation='relu'),\\n            tf.keras.layers.Dense(1, activation='sigmoid')\\n        ])\\nmodel.summary() \""
      ]
     },
     "execution_count": 21,
     "metadata": {},
     "output_type": "execute_result"
    }
   ],
   "source": [
    "''' #model = tf.keras.Sequential([\n",
    "            tf.keras.layers.experimental.preprocessing.Rescaling(1./255, input_shape=(img_height, img_width, 3)),\n",
    "            tf.keras.layers.Conv2D(256, 3, padding='same', activation='relu'),\n",
    "            tf.keras.layers.MaxPooling2D((2,2)),\n",
    "            tf.keras.layers.Dropout(0.2),\n",
    "            tf.keras.layers.Conv2D(128, 3, padding='same', activation='relu'),            \n",
    "            tf.keras.layers.MaxPooling2D((2,2)),\n",
    "            tf.keras.layers.Dropout(0.2),\n",
    "            tf.keras.layers.Conv2D(16, 3, padding='same', activation='relu'),\n",
    "            tf.keras.layers.MaxPooling2D((2,2)),\n",
    "            tf.keras.layers.Flatten(),\n",
    "            tf.keras.layers.Dense(64, activation='relu'),\n",
    "            tf.keras.layers.Dense(1, activation='sigmoid')\n",
    "        ])\n",
    "model.summary() '''"
   ]
  },
  {
   "cell_type": "code",
   "execution_count": 22,
   "metadata": {},
   "outputs": [],
   "source": [
    "#resnet \n",
    "#inception v3"
   ]
  },
  {
   "cell_type": "code",
   "execution_count": 23,
   "metadata": {},
   "outputs": [],
   "source": [
    "\n",
    "loss_fn = tf.keras.losses.CategoricalCrossentropy(from_logits=True)\n",
    "optimizer = tf.keras.optimizers.Adam()# modify weight in Adam\n",
    "metrics = ['accuracy']\n",
    "model.compile (optimizer = optimizer,loss =  loss_fn,metrics = metrics)"
   ]
  },
  {
   "cell_type": "code",
   "execution_count": 24,
   "metadata": {},
   "outputs": [],
   "source": [
    "callback = tf.keras.callbacks.EarlyStopping(monitor='val_loss', patience=5)"
   ]
  },
  {
   "cell_type": "code",
   "execution_count": 25,
   "metadata": {},
   "outputs": [
    {
     "name": "stdout",
     "output_type": "stream",
     "text": [
      "Epoch 1/100\n"
     ]
    },
    {
     "name": "stderr",
     "output_type": "stream",
     "text": [
      "c:\\Users\\acer\\anaconda3\\lib\\site-packages\\tensorflow\\python\\util\\dispatch.py:1082: UserWarning: \"`categorical_crossentropy` received `from_logits=True`, but the `output` argument was produced by a sigmoid or softmax activation and thus does not represent logits. Was this intended?\"\n",
      "  return dispatch_target(*args, **kwargs)\n"
     ]
    },
    {
     "name": "stdout",
     "output_type": "stream",
     "text": [
      "3/3 [==============================] - 10s 3s/step - loss: 1.7763 - accuracy: 0.3026 - val_loss: 1.4289 - val_accuracy: 0.3636\n",
      "Epoch 2/100\n",
      "3/3 [==============================] - 7s 2s/step - loss: 1.4113 - accuracy: 0.5132 - val_loss: 1.3571 - val_accuracy: 0.4545\n",
      "Epoch 3/100\n",
      "3/3 [==============================] - 7s 2s/step - loss: 1.2274 - accuracy: 0.4079 - val_loss: 1.2367 - val_accuracy: 0.4848\n",
      "Epoch 4/100\n",
      "3/3 [==============================] - 6s 2s/step - loss: 1.0948 - accuracy: 0.5789 - val_loss: 1.0707 - val_accuracy: 0.7576\n",
      "Epoch 5/100\n",
      "3/3 [==============================] - 6s 2s/step - loss: 0.9055 - accuracy: 0.7763 - val_loss: 0.9532 - val_accuracy: 0.7273\n",
      "Epoch 6/100\n",
      "3/3 [==============================] - 5s 2s/step - loss: 0.7858 - accuracy: 0.8421 - val_loss: 0.8762 - val_accuracy: 0.6970\n",
      "Epoch 7/100\n",
      "3/3 [==============================] - 5s 2s/step - loss: 0.7054 - accuracy: 0.8289 - val_loss: 0.8020 - val_accuracy: 0.7879\n",
      "Epoch 8/100\n",
      "3/3 [==============================] - 5s 2s/step - loss: 0.5750 - accuracy: 0.9211 - val_loss: 0.7459 - val_accuracy: 0.8182\n",
      "Epoch 9/100\n",
      "3/3 [==============================] - 5s 2s/step - loss: 0.5337 - accuracy: 0.8947 - val_loss: 0.7156 - val_accuracy: 0.8485\n",
      "Epoch 10/100\n",
      "3/3 [==============================] - 5s 2s/step - loss: 0.5441 - accuracy: 0.8816 - val_loss: 0.6821 - val_accuracy: 0.8182\n",
      "Epoch 11/100\n",
      "3/3 [==============================] - 5s 2s/step - loss: 0.4601 - accuracy: 0.9079 - val_loss: 0.6512 - val_accuracy: 0.7879\n",
      "Epoch 12/100\n",
      "3/3 [==============================] - 5s 2s/step - loss: 0.4194 - accuracy: 0.9737 - val_loss: 0.6175 - val_accuracy: 0.8182\n",
      "Epoch 13/100\n",
      "3/3 [==============================] - 5s 2s/step - loss: 0.3850 - accuracy: 0.9474 - val_loss: 0.5878 - val_accuracy: 0.8485\n",
      "Epoch 14/100\n",
      "3/3 [==============================] - 5s 2s/step - loss: 0.3497 - accuracy: 0.9605 - val_loss: 0.5648 - val_accuracy: 0.8182\n",
      "Epoch 15/100\n",
      "3/3 [==============================] - 5s 2s/step - loss: 0.2971 - accuracy: 0.9868 - val_loss: 0.5363 - val_accuracy: 0.8485\n",
      "Epoch 16/100\n",
      "3/3 [==============================] - 5s 2s/step - loss: 0.2753 - accuracy: 0.9737 - val_loss: 0.5112 - val_accuracy: 0.8485\n",
      "Epoch 17/100\n",
      "3/3 [==============================] - 5s 2s/step - loss: 0.2894 - accuracy: 0.9737 - val_loss: 0.4891 - val_accuracy: 0.8788\n",
      "Epoch 18/100\n",
      "3/3 [==============================] - 5s 2s/step - loss: 0.2270 - accuracy: 1.0000 - val_loss: 0.4719 - val_accuracy: 0.8788\n",
      "Epoch 19/100\n",
      "3/3 [==============================] - 5s 2s/step - loss: 0.2634 - accuracy: 0.9737 - val_loss: 0.4581 - val_accuracy: 0.9091\n",
      "Epoch 20/100\n",
      "3/3 [==============================] - 5s 2s/step - loss: 0.2166 - accuracy: 0.9868 - val_loss: 0.4445 - val_accuracy: 0.9091\n",
      "Epoch 21/100\n",
      "3/3 [==============================] - 5s 2s/step - loss: 0.2316 - accuracy: 0.9605 - val_loss: 0.4280 - val_accuracy: 0.9091\n",
      "Epoch 22/100\n",
      "3/3 [==============================] - 5s 2s/step - loss: 0.2000 - accuracy: 0.9868 - val_loss: 0.4165 - val_accuracy: 0.8788\n",
      "Epoch 23/100\n",
      "3/3 [==============================] - 5s 2s/step - loss: 0.2008 - accuracy: 0.9868 - val_loss: 0.4065 - val_accuracy: 0.8788\n",
      "Epoch 24/100\n",
      "3/3 [==============================] - 5s 2s/step - loss: 0.1841 - accuracy: 1.0000 - val_loss: 0.3950 - val_accuracy: 0.8788\n",
      "Epoch 25/100\n",
      "3/3 [==============================] - 5s 2s/step - loss: 0.1843 - accuracy: 0.9868 - val_loss: 0.3865 - val_accuracy: 0.9091\n",
      "Epoch 26/100\n",
      "3/3 [==============================] - 5s 2s/step - loss: 0.1684 - accuracy: 1.0000 - val_loss: 0.3800 - val_accuracy: 0.9091\n",
      "Epoch 27/100\n",
      "3/3 [==============================] - 5s 2s/step - loss: 0.1407 - accuracy: 1.0000 - val_loss: 0.3745 - val_accuracy: 0.9091\n",
      "Epoch 28/100\n",
      "3/3 [==============================] - 5s 2s/step - loss: 0.1546 - accuracy: 1.0000 - val_loss: 0.3701 - val_accuracy: 0.9091\n",
      "Epoch 29/100\n",
      "3/3 [==============================] - 5s 2s/step - loss: 0.1368 - accuracy: 1.0000 - val_loss: 0.3649 - val_accuracy: 0.9091\n",
      "Epoch 30/100\n",
      "3/3 [==============================] - 5s 2s/step - loss: 0.1350 - accuracy: 0.9868 - val_loss: 0.3566 - val_accuracy: 0.9091\n",
      "Epoch 31/100\n",
      "3/3 [==============================] - 5s 2s/step - loss: 0.1434 - accuracy: 1.0000 - val_loss: 0.3467 - val_accuracy: 0.9091\n",
      "Epoch 32/100\n",
      "3/3 [==============================] - 5s 2s/step - loss: 0.1166 - accuracy: 1.0000 - val_loss: 0.3409 - val_accuracy: 0.9091\n",
      "Epoch 33/100\n",
      "3/3 [==============================] - 5s 2s/step - loss: 0.1007 - accuracy: 1.0000 - val_loss: 0.3356 - val_accuracy: 0.9091\n",
      "Epoch 34/100\n",
      "3/3 [==============================] - 5s 2s/step - loss: 0.1033 - accuracy: 1.0000 - val_loss: 0.3323 - val_accuracy: 0.9091\n",
      "Epoch 35/100\n",
      "3/3 [==============================] - 5s 2s/step - loss: 0.1036 - accuracy: 1.0000 - val_loss: 0.3311 - val_accuracy: 0.9091\n",
      "Epoch 36/100\n",
      "3/3 [==============================] - 5s 2s/step - loss: 0.1017 - accuracy: 1.0000 - val_loss: 0.3305 - val_accuracy: 0.9091\n",
      "Epoch 37/100\n",
      "3/3 [==============================] - 5s 2s/step - loss: 0.1030 - accuracy: 1.0000 - val_loss: 0.3302 - val_accuracy: 0.9091\n",
      "Epoch 38/100\n",
      "3/3 [==============================] - 5s 2s/step - loss: 0.0814 - accuracy: 1.0000 - val_loss: 0.3287 - val_accuracy: 0.9091\n",
      "Epoch 39/100\n",
      "3/3 [==============================] - 5s 2s/step - loss: 0.0997 - accuracy: 1.0000 - val_loss: 0.3235 - val_accuracy: 0.9091\n",
      "Epoch 40/100\n",
      "3/3 [==============================] - 5s 2s/step - loss: 0.0858 - accuracy: 1.0000 - val_loss: 0.3162 - val_accuracy: 0.9091\n",
      "Epoch 41/100\n",
      "3/3 [==============================] - 5s 2s/step - loss: 0.0872 - accuracy: 1.0000 - val_loss: 0.3076 - val_accuracy: 0.9091\n",
      "Epoch 42/100\n",
      "3/3 [==============================] - 5s 2s/step - loss: 0.0711 - accuracy: 1.0000 - val_loss: 0.3017 - val_accuracy: 0.9091\n",
      "Epoch 43/100\n",
      "3/3 [==============================] - 5s 2s/step - loss: 0.0936 - accuracy: 1.0000 - val_loss: 0.2979 - val_accuracy: 0.9091\n",
      "Epoch 44/100\n",
      "3/3 [==============================] - 5s 2s/step - loss: 0.0828 - accuracy: 1.0000 - val_loss: 0.2972 - val_accuracy: 0.9091\n",
      "Epoch 45/100\n",
      "3/3 [==============================] - 5s 2s/step - loss: 0.0751 - accuracy: 1.0000 - val_loss: 0.2964 - val_accuracy: 0.9091\n",
      "Epoch 46/100\n",
      "3/3 [==============================] - 5s 2s/step - loss: 0.0702 - accuracy: 1.0000 - val_loss: 0.2951 - val_accuracy: 0.9091\n",
      "Epoch 47/100\n",
      "3/3 [==============================] - 5s 2s/step - loss: 0.0650 - accuracy: 1.0000 - val_loss: 0.2940 - val_accuracy: 0.9091\n",
      "Epoch 48/100\n",
      "3/3 [==============================] - 5s 2s/step - loss: 0.0733 - accuracy: 1.0000 - val_loss: 0.2944 - val_accuracy: 0.9091\n",
      "Epoch 49/100\n",
      "3/3 [==============================] - 5s 2s/step - loss: 0.0720 - accuracy: 1.0000 - val_loss: 0.2908 - val_accuracy: 0.9091\n",
      "Epoch 50/100\n",
      "3/3 [==============================] - 5s 2s/step - loss: 0.0668 - accuracy: 1.0000 - val_loss: 0.2874 - val_accuracy: 0.9091\n",
      "Epoch 51/100\n",
      "3/3 [==============================] - 5s 2s/step - loss: 0.0677 - accuracy: 1.0000 - val_loss: 0.2846 - val_accuracy: 0.9091\n",
      "Epoch 52/100\n",
      "3/3 [==============================] - 5s 2s/step - loss: 0.0807 - accuracy: 0.9868 - val_loss: 0.2815 - val_accuracy: 0.9091\n",
      "Epoch 53/100\n",
      "3/3 [==============================] - 6s 2s/step - loss: 0.0544 - accuracy: 1.0000 - val_loss: 0.2789 - val_accuracy: 0.9091\n",
      "Epoch 54/100\n",
      "3/3 [==============================] - 5s 2s/step - loss: 0.0559 - accuracy: 1.0000 - val_loss: 0.2786 - val_accuracy: 0.9091\n",
      "Epoch 55/100\n",
      "3/3 [==============================] - 6s 2s/step - loss: 0.0551 - accuracy: 1.0000 - val_loss: 0.2788 - val_accuracy: 0.9091\n",
      "Epoch 56/100\n",
      "3/3 [==============================] - 5s 2s/step - loss: 0.0562 - accuracy: 1.0000 - val_loss: 0.2776 - val_accuracy: 0.9091\n",
      "Epoch 57/100\n",
      "3/3 [==============================] - 5s 2s/step - loss: 0.0555 - accuracy: 1.0000 - val_loss: 0.2780 - val_accuracy: 0.9091\n",
      "Epoch 58/100\n",
      "3/3 [==============================] - 5s 2s/step - loss: 0.0526 - accuracy: 1.0000 - val_loss: 0.2784 - val_accuracy: 0.9091\n",
      "Epoch 59/100\n",
      "3/3 [==============================] - 5s 2s/step - loss: 0.0532 - accuracy: 1.0000 - val_loss: 0.2773 - val_accuracy: 0.9091\n",
      "Epoch 60/100\n",
      "3/3 [==============================] - 5s 2s/step - loss: 0.0468 - accuracy: 1.0000 - val_loss: 0.2783 - val_accuracy: 0.9091\n",
      "Epoch 61/100\n",
      "3/3 [==============================] - 5s 2s/step - loss: 0.0506 - accuracy: 1.0000 - val_loss: 0.2786 - val_accuracy: 0.9091\n",
      "Epoch 62/100\n",
      "3/3 [==============================] - 5s 2s/step - loss: 0.0425 - accuracy: 1.0000 - val_loss: 0.2777 - val_accuracy: 0.9091\n",
      "Epoch 63/100\n",
      "3/3 [==============================] - 5s 2s/step - loss: 0.0541 - accuracy: 1.0000 - val_loss: 0.2752 - val_accuracy: 0.9091\n",
      "Epoch 64/100\n",
      "3/3 [==============================] - 5s 2s/step - loss: 0.0412 - accuracy: 1.0000 - val_loss: 0.2735 - val_accuracy: 0.9091\n",
      "Epoch 65/100\n",
      "3/3 [==============================] - 5s 2s/step - loss: 0.0367 - accuracy: 1.0000 - val_loss: 0.2719 - val_accuracy: 0.9091\n",
      "Epoch 66/100\n",
      "3/3 [==============================] - 5s 2s/step - loss: 0.0369 - accuracy: 1.0000 - val_loss: 0.2687 - val_accuracy: 0.9091\n",
      "Epoch 67/100\n",
      "3/3 [==============================] - 5s 2s/step - loss: 0.0374 - accuracy: 1.0000 - val_loss: 0.2655 - val_accuracy: 0.9091\n",
      "Epoch 68/100\n",
      "3/3 [==============================] - 5s 2s/step - loss: 0.0463 - accuracy: 1.0000 - val_loss: 0.2625 - val_accuracy: 0.9091\n",
      "Epoch 69/100\n",
      "3/3 [==============================] - 5s 2s/step - loss: 0.0378 - accuracy: 1.0000 - val_loss: 0.2603 - val_accuracy: 0.9091\n",
      "Epoch 70/100\n",
      "3/3 [==============================] - 5s 2s/step - loss: 0.0470 - accuracy: 1.0000 - val_loss: 0.2588 - val_accuracy: 0.9091\n",
      "Epoch 71/100\n",
      "3/3 [==============================] - 5s 2s/step - loss: 0.0359 - accuracy: 1.0000 - val_loss: 0.2572 - val_accuracy: 0.9091\n",
      "Epoch 72/100\n",
      "3/3 [==============================] - 5s 2s/step - loss: 0.0396 - accuracy: 1.0000 - val_loss: 0.2576 - val_accuracy: 0.9091\n",
      "Epoch 73/100\n",
      "3/3 [==============================] - 5s 2s/step - loss: 0.0466 - accuracy: 1.0000 - val_loss: 0.2583 - val_accuracy: 0.9091\n",
      "Epoch 74/100\n",
      "3/3 [==============================] - 5s 2s/step - loss: 0.0368 - accuracy: 1.0000 - val_loss: 0.2588 - val_accuracy: 0.9091\n",
      "Epoch 75/100\n",
      "3/3 [==============================] - 5s 2s/step - loss: 0.0415 - accuracy: 1.0000 - val_loss: 0.2581 - val_accuracy: 0.9091\n",
      "Epoch 76/100\n",
      "3/3 [==============================] - 5s 2s/step - loss: 0.0436 - accuracy: 1.0000 - val_loss: 0.2576 - val_accuracy: 0.9091\n"
     ]
    }
   ],
   "source": [
    "# Set the epocks\n",
    "# ทำ stop + validation\n",
    "epochs = 100\n",
    "history = model.fit(x_train, y_train, epochs=epochs,validation_split=0.3,callbacks=callback,class_weight = class_weights)\n",
    "\n",
    "#history = model.fit(x_train, y_train, epochs=epochs,validation_split=0.3)"
   ]
  },
  {
   "cell_type": "code",
   "execution_count": 26,
   "metadata": {},
   "outputs": [
    {
     "data": {
      "image/png": "[encoded data removed]",
      "text/plain": [
       "<Figure size 432x288 with 1 Axes>"
      ]
     },
     "metadata": {
      "needs_background": "light"
     },
     "output_type": "display_data"
    }
   ],
   "source": [
    "plt.plot(history.history['loss'],label = 'loss')\n",
    "plt.plot(history.history['val_loss'],label = 'val_loss')\n",
    "plt.legend()\n",
    "plt.show()"
   ]
  },
  {
   "cell_type": "code",
   "execution_count": 27,
   "metadata": {},
   "outputs": [
    {
     "name": "stdout",
     "output_type": "stream",
     "text": [
      "Model: \"model_1\"\n",
      "_________________________________________________________________\n",
      " Layer (type)                Output Shape              Param #   \n",
      "=================================================================\n",
      " input_6 (InputLayer)        [(None, 256, 256, 3)]     0         \n",
      "                                                                 \n",
      " rescaling_2 (Rescaling)     (None, 256, 256, 3)       0         \n",
      "                                                                 \n",
      " tf.cast_2 (TFOpLambda)      (None, 256, 256, 3)       0         \n",
      "                                                                 \n",
      " resnet50v2 (Functional)     (None, 8, 8, 2048)        23564800  \n",
      "                                                                 \n",
      " global_average_pooling2d_1   (None, 2048)             0         \n",
      " (GlobalAveragePooling2D)                                        \n",
      "                                                                 \n",
      " dropout_1 (Dropout)         (None, 2048)              0         \n",
      "                                                                 \n",
      " dense_1 (Dense)             (None, 5)                 10245     \n",
      "                                                                 \n",
      "=================================================================\n",
      "Total params: 23,575,045\n",
      "Trainable params: 23,529,605\n",
      "Non-trainable params: 45,440\n",
      "_________________________________________________________________\n",
      "Epoch 1/50\n"
     ]
    },
    {
     "name": "stderr",
     "output_type": "stream",
     "text": [
      "c:\\Users\\acer\\anaconda3\\lib\\site-packages\\tensorflow\\python\\util\\dispatch.py:1082: UserWarning: \"`categorical_crossentropy` received `from_logits=True`, but the `output` argument was produced by a sigmoid or softmax activation and thus does not represent logits. Was this intended?\"\n",
      "  return dispatch_target(*args, **kwargs)\n"
     ]
    },
    {
     "name": "stdout",
     "output_type": "stream",
     "text": [
      "3/3 [==============================] - 25s 6s/step - loss: 0.0231 - binary_accuracy: 1.0000 - val_loss: 0.2301 - val_binary_accuracy: 0.9758\n",
      "Epoch 2/50\n",
      "3/3 [==============================] - 18s 6s/step - loss: 0.0060 - binary_accuracy: 1.0000 - val_loss: 0.1730 - val_binary_accuracy: 0.9758\n",
      "Epoch 3/50\n",
      "3/3 [==============================] - 19s 6s/step - loss: 9.4502e-04 - binary_accuracy: 1.0000 - val_loss: 0.1556 - val_binary_accuracy: 0.9636\n",
      "Epoch 4/50\n",
      "3/3 [==============================] - 18s 6s/step - loss: 5.7084e-04 - binary_accuracy: 1.0000 - val_loss: 0.1644 - val_binary_accuracy: 0.9636\n",
      "Epoch 5/50\n",
      "3/3 [==============================] - 18s 6s/step - loss: 8.9795e-04 - binary_accuracy: 1.0000 - val_loss: 0.1441 - val_binary_accuracy: 0.9636\n",
      "Epoch 6/50\n",
      "3/3 [==============================] - 18s 6s/step - loss: 2.3086e-04 - binary_accuracy: 1.0000 - val_loss: 0.1293 - val_binary_accuracy: 0.9758\n",
      "Epoch 7/50\n",
      "3/3 [==============================] - 18s 6s/step - loss: 1.9706e-04 - binary_accuracy: 1.0000 - val_loss: 0.1351 - val_binary_accuracy: 0.9758\n",
      "Epoch 8/50\n",
      "3/3 [==============================] - 18s 5s/step - loss: 1.0042e-04 - binary_accuracy: 1.0000 - val_loss: 0.1478 - val_binary_accuracy: 0.9758\n",
      "Epoch 9/50\n",
      "3/3 [==============================] - 18s 6s/step - loss: 6.4704e-05 - binary_accuracy: 1.0000 - val_loss: 0.1583 - val_binary_accuracy: 0.9758\n",
      "Epoch 10/50\n",
      "3/3 [==============================] - 18s 6s/step - loss: 2.7177e-05 - binary_accuracy: 1.0000 - val_loss: 0.1649 - val_binary_accuracy: 0.9758\n",
      "Epoch 11/50\n",
      "3/3 [==============================] - 18s 5s/step - loss: 2.0922e-05 - binary_accuracy: 1.0000 - val_loss: 0.1696 - val_binary_accuracy: 0.9758\n"
     ]
    }
   ],
   "source": [
    "base_model.trainable = True\n",
    "model.summary()\n",
    "\n",
    "model.compile(\n",
    "    optimizer=tf.keras.optimizers.Adam(1e-5),  # Low learning rate\n",
    "    loss=tf.keras.losses.CategoricalCrossentropy(from_logits=True),\n",
    "    metrics=[tf.keras.metrics.BinaryAccuracy()],\n",
    ")\n",
    "\n",
    "epochs = 50\n",
    "history = model.fit(x_train, y_train, epochs=epochs,validation_split=0.3,callbacks=callback,class_weight = class_weights)"
   ]
  },
  {
   "cell_type": "code",
   "execution_count": 28,
   "metadata": {},
   "outputs": [
    {
     "data": {
      "image/png": "[encoded data removed]",
      "text/plain": [
       "<Figure size 432x288 with 1 Axes>"
      ]
     },
     "metadata": {
      "needs_background": "light"
     },
     "output_type": "display_data"
    }
   ],
   "source": [
    "plt.plot(history.history['loss'],label = 'loss')\n",
    "plt.plot(history.history['val_loss'],label = 'val_loss')\n",
    "plt.legend()\n",
    "plt.show()"
   ]
  },
  {
   "cell_type": "code",
   "execution_count": 29,
   "metadata": {},
   "outputs": [],
   "source": [
    "pred = model.predict(x_test)\n",
    "\n",
    "y_pred = np.argmax(pred, axis=1)\n",
    "actual = x_test"
   ]
  },
  {
   "cell_type": "code",
   "execution_count": 30,
   "metadata": {},
   "outputs": [
    {
     "data": {
      "text/plain": [
       "array([4, 0, 1, 1, 2, 3, 4, 3, 2, 2, 2, 2, 4, 0, 4, 0, 2, 2, 1, 3, 1, 4,\n",
       "       4, 1, 2, 2, 0, 2, 3, 4, 1, 2, 0, 4, 4, 1, 0, 3, 1, 4, 3, 2, 1, 4,\n",
       "       1, 4, 4, 4, 4, 0, 0, 0, 2, 1, 2, 4, 2], dtype=int64)"
      ]
     },
     "execution_count": 30,
     "metadata": {},
     "output_type": "execute_result"
    }
   ],
   "source": [
    "y_pred"
   ]
  },
  {
   "cell_type": "code",
   "execution_count": 31,
   "metadata": {},
   "outputs": [
    {
     "data": {
      "text/plain": [
       "array([[0, 0, 0, 0, 1],\n",
       "       [1, 0, 0, 0, 0],\n",
       "       [1, 0, 0, 0, 0],\n",
       "       [0, 1, 0, 0, 0],\n",
       "       [0, 0, 1, 0, 0],\n",
       "       [0, 0, 0, 1, 0],\n",
       "       [0, 0, 0, 0, 1],\n",
       "       [0, 0, 0, 1, 0],\n",
       "       [0, 0, 1, 0, 0],\n",
       "       [0, 0, 0, 1, 0],\n",
       "       [0, 0, 1, 0, 0],\n",
       "       [0, 0, 1, 0, 0],\n",
       "       [0, 0, 0, 0, 1],\n",
       "       [1, 0, 0, 0, 0],\n",
       "       [0, 0, 0, 0, 1],\n",
       "       [1, 0, 0, 0, 0],\n",
       "       [0, 0, 0, 0, 1],\n",
       "       [0, 0, 1, 0, 0],\n",
       "       [0, 1, 0, 0, 0],\n",
       "       [0, 0, 0, 1, 0],\n",
       "       [0, 1, 0, 0, 0],\n",
       "       [0, 0, 0, 0, 1],\n",
       "       [0, 0, 0, 0, 1],\n",
       "       [0, 1, 0, 0, 0],\n",
       "       [0, 0, 1, 0, 0],\n",
       "       [0, 0, 1, 0, 0],\n",
       "       [1, 0, 0, 0, 0],\n",
       "       [0, 0, 1, 0, 0],\n",
       "       [0, 0, 0, 1, 0],\n",
       "       [0, 0, 0, 0, 1],\n",
       "       [0, 1, 0, 0, 0],\n",
       "       [0, 0, 1, 0, 0],\n",
       "       [1, 0, 0, 0, 0],\n",
       "       [0, 0, 0, 0, 1],\n",
       "       [0, 0, 0, 0, 1],\n",
       "       [0, 1, 0, 0, 0],\n",
       "       [1, 0, 0, 0, 0],\n",
       "       [0, 0, 0, 1, 0],\n",
       "       [0, 1, 0, 0, 0],\n",
       "       [0, 0, 0, 0, 1],\n",
       "       [0, 0, 0, 1, 0],\n",
       "       [0, 0, 1, 0, 0],\n",
       "       [0, 1, 0, 0, 0],\n",
       "       [0, 0, 0, 0, 1],\n",
       "       [0, 1, 0, 0, 0],\n",
       "       [0, 0, 0, 0, 1],\n",
       "       [0, 0, 0, 0, 1],\n",
       "       [0, 0, 0, 0, 1],\n",
       "       [0, 0, 0, 0, 1],\n",
       "       [0, 0, 0, 1, 0],\n",
       "       [1, 0, 0, 0, 0],\n",
       "       [1, 0, 0, 0, 0],\n",
       "       [0, 0, 1, 0, 0],\n",
       "       [0, 1, 0, 0, 0],\n",
       "       [0, 0, 1, 0, 0],\n",
       "       [0, 0, 0, 0, 1],\n",
       "       [0, 0, 1, 0, 0]])"
      ]
     },
     "execution_count": 31,
     "metadata": {},
     "output_type": "execute_result"
    }
   ],
   "source": [
    "y_test"
   ]
  },
  {
   "cell_type": "code",
   "execution_count": 32,
   "metadata": {},
   "outputs": [],
   "source": [
    "y_test = np.argmax(y_test, axis=1)"
   ]
  },
  {
   "cell_type": "code",
   "execution_count": 33,
   "metadata": {},
   "outputs": [
    {
     "data": {
      "text/plain": [
       "<function matplotlib.pyplot.show(*args, **kw)>"
      ]
     },
     "execution_count": 33,
     "metadata": {},
     "output_type": "execute_result"
    },
    {
     "data": {
      "image/png": "[encoded data removed]",
      "text/plain": [
       "<Figure size 432x288 with 2 Axes>"
      ]
     },
     "metadata": {
      "needs_background": "light"
     },
     "output_type": "display_data"
    }
   ],
   "source": [
    "cm = confusion_matrix(y_test, y_pred)\n",
    "disp = ConfusionMatrixDisplay(confusion_matrix=cm,display_labels=class_names)\n",
    "disp.plot()\n",
    "plt.show"
   ]
  },
  {
   "cell_type": "code",
   "execution_count": 34,
   "metadata": {},
   "outputs": [
    {
     "name": "stdout",
     "output_type": "stream",
     "text": [
      "              precision    recall  f1-score   support\n",
      "\n",
      "     burping       0.89      0.89      0.89         9\n",
      "  discomfort       0.91      1.00      0.95        10\n",
      "      hungry       0.87      1.00      0.93        13\n",
      "        poop       1.00      0.75      0.86         8\n",
      "       tired       1.00      0.94      0.97        17\n",
      "\n",
      "    accuracy                           0.93        57\n",
      "   macro avg       0.93      0.92      0.92        57\n",
      "weighted avg       0.94      0.93      0.93        57\n",
      "\n"
     ]
    }
   ],
   "source": [
    "from sklearn.metrics import classification_report\n",
    "print(classification_report(y_test, y_pred,target_names=class_names))"
   ]
  },
  {
   "cell_type": "code",
   "execution_count": null,
   "metadata": {},
   "outputs": [],
   "source": [
    "\n"
   ]
  }
 ],
 "metadata": {
  "kernelspec": {
   "display_name": "Python 3.7.6 ('base')",
   "language": "python",
   "name": "python3"
  },
  "language_info": {
   "codemirror_mode": {
    "name": "ipython",
    "version": 3
   },
   "file_extension": ".py",
   "mimetype": "text/x-python",
   "name": "python",
   "nbconvert_exporter": "python",
   "pygments_lexer": "ipython3",
   "version": "3.7.6"
  },
  "orig_nbformat": 4,
  "vscode": {
   "interpreter": {
    "hash": "23bf0724a01b6ea9814e66f76182ea78c0ee849a72ca257c0e116bf83bb4960a"
   }
  }
 },
 "nbformat": 4,
 "nbformat_minor": 2
}
