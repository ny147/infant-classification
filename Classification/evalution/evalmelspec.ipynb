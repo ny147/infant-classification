{
 "cells": [
  {
   "cell_type": "code",
   "execution_count": 1,
   "metadata": {},
   "outputs": [],
   "source": [
    "import os\n",
    "import librosa, librosa.display\n",
    "import matplotlib.pyplot as plt\n",
    "from pathlib import Path\n",
    "import tensorflow as tf\n",
    "import IPython.display as ipd\n",
    "import numpy as np\n",
    "from sklearn.metrics import confusion_matrix, ConfusionMatrixDisplay\n",
    "from keras.callbacks import ModelCheckpoint\n",
    "from sklearn.metrics import classification_report\n",
    "from sklearn.model_selection import train_test_split\n",
    "import shutil"
   ]
  },
  {
   "cell_type": "code",
   "execution_count": 2,
   "metadata": {},
   "outputs": [],
   "source": [
    "img_height = 432\n",
    "img_width = 288\n",
    "train_directory = './data_eval/img_data/dustan/mel_spectrogram/allclass/'\n"
   ]
  },
  {
   "cell_type": "code",
   "execution_count": 3,
   "metadata": {},
   "outputs": [],
   "source": [
    "def dummy(data,numarr):\n",
    "    new_data =[]\n",
    "    for i in data:\n",
    "        lab_data = []\n",
    "        for j in range(0,numarr):\n",
    "            lab_data.append(0)\n",
    "        #lab_data =[0,0]\n",
    "        lab_data[i] = 1\n",
    "        new_data.append(lab_data)\n",
    "    return new_data"
   ]
  },
  {
   "cell_type": "code",
   "execution_count": 4,
   "metadata": {},
   "outputs": [],
   "source": [
    "def create_weight(n_sample,n_class,n_class_sample):\n",
    "    weight = n_sample/(n_class*n_class_sample)\n",
    "    return weight "
   ]
  },
  {
   "cell_type": "code",
   "execution_count": 5,
   "metadata": {},
   "outputs": [],
   "source": [
    "\n",
    "def createdict(num):\n",
    "    lab_data = []\n",
    "    for i in range(0,num):\n",
    "        lab_data.append(i)\n",
    "    dic = dict.fromkeys(lab_data, 0)\n",
    "    return dic"
   ]
  },
  {
   "cell_type": "code",
   "execution_count": 6,
   "metadata": {},
   "outputs": [],
   "source": [
    "def createWeight(class_count,num_classes):\n",
    "    class_weights = createdict(num_classes)\n",
    "    for i in range(num_classes):\n",
    "        class_weights[i]=create_weight(np.sum(class_count),num_classes,class_count[i])\n",
    "    return class_weights"
   ]
  },
  {
   "cell_type": "code",
   "execution_count": 7,
   "metadata": {},
   "outputs": [],
   "source": [
    "def preprocess(data_dir,numclass):\n",
    "    data_ds = tf.keras.preprocessing.image_dataset_from_directory(\n",
    "    data_dir, labels='inferred', label_mode='int', image_size=(432, 288), seed=321,\n",
    "    validation_split=None, subset=None)\n",
    "    class_names = data_ds.class_names\n",
    "    \n",
    "    feature=[]\n",
    "    label=[]\n",
    "    for images, labels in data_ds.unbatch().take(-1):\n",
    "        feature.append(images.numpy())\n",
    "        label.append(labels.numpy())\n",
    "        \n",
    "    feature = np.array(feature)\n",
    "    label = np.array(label)      \n",
    "    \n",
    "    \n",
    "    class_count=[]\n",
    "    for i in range(0,numclass):\n",
    "        class_count.append(np.count_nonzero(label == i))\n",
    "    class_count = np.array(class_count)\n",
    "    label = dummy(label,numclass)\n",
    "    class_weights = createWeight(class_count,numclass)\n",
    "   \n",
    "    \n",
    "    label = np.array(label)\n",
    "    return feature,label,class_weights,class_names\n",
    "    "
   ]
  },
  {
   "cell_type": "code",
   "execution_count": 8,
   "metadata": {},
   "outputs": [
    {
     "name": "stdout",
     "output_type": "stream",
     "text": [
      "Found 180 files belonging to 5 classes.\n"
     ]
    }
   ],
   "source": [
    "feature,label,class_weights,class_names = preprocess(train_directory,5)"
   ]
  },
  {
   "cell_type": "code",
   "execution_count": 9,
   "metadata": {},
   "outputs": [
    {
     "data": {
      "text/plain": [
       "['burping', 'discomfort', 'hungry', 'poop', 'tired']"
      ]
     },
     "execution_count": 9,
     "metadata": {},
     "output_type": "execute_result"
    }
   ],
   "source": [
    "class_names"
   ]
  },
  {
   "cell_type": "code",
   "execution_count": 10,
   "metadata": {},
   "outputs": [],
   "source": [
    "def categories2binary(categories):\n",
    "    binarydata = []\n",
    "    for item in categories:\n",
    "        binarydata.append(item[0])\n",
    "    binarydata=np.array(binarydata)\n",
    "    return(binarydata)"
   ]
  },
  {
   "cell_type": "code",
   "execution_count": 11,
   "metadata": {},
   "outputs": [],
   "source": [
    "def binary2categories(binary):\n",
    "    new_data = []\n",
    "    for i in binary:\n",
    "        lab_data = []\n",
    "        for j in range(0,2):\n",
    "            lab_data.append(0)\n",
    "        if(i>=0.5):\n",
    "            lab_data[1]=1;\n",
    "        elif(i<0.5):\n",
    "            lab_data[0]=1;\n",
    "        new_data.append(lab_data)\n",
    "    new_data = np.array(new_data)\n",
    "    return(new_data)"
   ]
  },
  {
   "cell_type": "code",
   "execution_count": 12,
   "metadata": {},
   "outputs": [
    {
     "name": "stdout",
     "output_type": "stream",
     "text": [
      "Model: \"model\"\n",
      "_________________________________________________________________\n",
      " Layer (type)                Output Shape              Param #   \n",
      "=================================================================\n",
      " input_2 (InputLayer)        [(None, 432, 288, 3)]     0         \n",
      "                                                                 \n",
      " resnet50 (Functional)       (None, 14, 9, 2048)       23587712  \n",
      "                                                                 \n",
      " conv2d (Conv2D)             (None, 14, 9, 128)        2359424   \n",
      "                                                                 \n",
      " max_pooling2d (MaxPooling2D  (None, 7, 4, 128)        0         \n",
      " )                                                               \n",
      "                                                                 \n",
      " conv2d_1 (Conv2D)           (None, 7, 4, 64)          73792     \n",
      "                                                                 \n",
      " max_pooling2d_1 (MaxPooling  (None, 3, 2, 64)         0         \n",
      " 2D)                                                             \n",
      "                                                                 \n",
      " flatten (Flatten)           (None, 384)               0         \n",
      "                                                                 \n",
      " dense (Dense)               (None, 5)                 1925      \n",
      "                                                                 \n",
      "=================================================================\n",
      "Total params: 26,022,853\n",
      "Trainable params: 2,435,141\n",
      "Non-trainable params: 23,587,712\n",
      "_________________________________________________________________\n"
     ]
    }
   ],
   "source": [
    "split_class_base_model = tf.keras.applications.ResNet50(\n",
    "    weights=\"imagenet\",  # Load weights pre-trained on ImageNet.\n",
    "    input_shape=(img_height, img_width, 3),\n",
    "    include_top=False,\n",
    ") \n",
    "\n",
    "# Freeze the base_model\n",
    "split_class_base_model.trainable = False\n",
    "\n",
    "# Create new model on top\n",
    "\n",
    "inputs = tf.keras.Input(shape=(img_height, img_width, 3))\n",
    "\n",
    "scale_layer = tf.keras.layers.Rescaling(scale=1./255)\n",
    "x = inputs\n",
    "\n",
    "x = split_class_base_model(x, training=False)\n",
    "\n",
    "x = tf.keras.layers.Conv2D(128, 3, padding='same', activation='relu')(x)       \n",
    "\n",
    "   \n",
    "x = tf.keras.layers.MaxPooling2D((2,2))(x)\n",
    "\n",
    "x = tf.keras.layers.Conv2D(64, 3, padding='same', activation='relu')(x)  \n",
    " \n",
    "x = tf.keras.layers.MaxPooling2D((2,2))(x)\n",
    "x = tf.keras.layers.Flatten()(x)\n",
    "# x = tf.keras.layers.Dropout(0.2)(x)\n",
    "            \n",
    "# x = tf.keras.layers.GlobalAveragePooling2D()(x)\n",
    "\n",
    "# x = tf.keras.layers.Dense(128, activation='relu')(x)\n",
    "\n",
    "# x = tf.keras.layers.Dropout(0.2)(x)  # Regularize with dropout\n",
    "outputs = tf.keras.layers.Dense(5,activation='softmax')(x)\n",
    "split_class_model = tf.keras.Model(inputs, outputs)\n",
    "\n",
    "split_class_model.summary()"
   ]
  },
  {
   "cell_type": "code",
   "execution_count": 14,
   "metadata": {},
   "outputs": [
    {
     "data": {
      "image/png": "[encoded data removed]",
      "text/plain": [
       "<IPython.core.display.Image object>"
      ]
     },
     "execution_count": 14,
     "metadata": {},
     "output_type": "execute_result"
    }
   ],
   "source": [
    "\n",
    "tf.keras.utils.plot_model(split_class_model,to_file=\"mel_summary.png\")"
   ]
  },
  {
   "cell_type": "code",
   "execution_count": 70,
   "metadata": {},
   "outputs": [
    {
     "name": "stdout",
     "output_type": "stream",
     "text": [
      "Epoch 1/100\n"
     ]
    },
    {
     "name": "stderr",
     "output_type": "stream",
     "text": [
      "c:\\Users\\acer\\anaconda3\\lib\\site-packages\\tensorflow\\python\\util\\dispatch.py:1082: UserWarning: \"`categorical_crossentropy` received `from_logits=True`, but the `output` argument was produced by a sigmoid or softmax activation and thus does not represent logits. Was this intended?\"\n",
      "  return dispatch_target(*args, **kwargs)\n"
     ]
    },
    {
     "name": "stdout",
     "output_type": "stream",
     "text": [
      "5/5 [==============================] - 25s 4s/step - loss: 6.0267 - accuracy: 0.2917 - val_loss: 4.4080 - val_accuracy: 0.4167\n",
      "Epoch 2/100\n",
      "5/5 [==============================] - 19s 4s/step - loss: 2.0049 - accuracy: 0.5903 - val_loss: 2.1479 - val_accuracy: 0.5000\n",
      "Epoch 3/100\n",
      "5/5 [==============================] - 19s 4s/step - loss: 1.1433 - accuracy: 0.7292 - val_loss: 0.7472 - val_accuracy: 0.6944\n",
      "Epoch 4/100\n",
      "5/5 [==============================] - 20s 4s/step - loss: 0.5200 - accuracy: 0.8542 - val_loss: 1.1234 - val_accuracy: 0.5556\n",
      "Epoch 5/100\n",
      "5/5 [==============================] - 20s 4s/step - loss: 0.1262 - accuracy: 0.9583 - val_loss: 0.7768 - val_accuracy: 0.7222\n",
      "Epoch 6/100\n",
      "5/5 [==============================] - 18s 4s/step - loss: 0.0599 - accuracy: 0.9931 - val_loss: 0.7675 - val_accuracy: 0.7778\n",
      "Epoch 7/100\n",
      "5/5 [==============================] - 18s 4s/step - loss: 0.0194 - accuracy: 1.0000 - val_loss: 0.8404 - val_accuracy: 0.7500\n",
      "Epoch 8/100\n",
      "5/5 [==============================] - 18s 4s/step - loss: 0.0100 - accuracy: 1.0000 - val_loss: 1.0515 - val_accuracy: 0.6944\n"
     ]
    },
    {
     "data": {
      "image/png": "[encoded data removed]",
      "text/plain": [
       "<Figure size 432x288 with 1 Axes>"
      ]
     },
     "metadata": {
      "needs_background": "light"
     },
     "output_type": "display_data"
    }
   ],
   "source": [
    "\n",
    "loss_fn = tf.keras.losses.loss_fn = tf.keras.losses.CategoricalCrossentropy(from_logits=True)\n",
    "optimizer = tf.keras.optimizers.Adam()# modify weight in Adam\n",
    "metrics = ['accuracy']\n",
    "split_class_model.compile (optimizer = optimizer,loss =  loss_fn,metrics = metrics)\n",
    "callback = tf.keras.callbacks.EarlyStopping(monitor='val_loss', patience=5)\n",
    "epochs = 100\n",
    "history = split_class_model.fit(feature, label, epochs=epochs,validation_split=0.2,callbacks=callback,class_weight = class_weights)\n",
    "\n",
    "plt.plot(history.history['loss'],label = 'loss')\n",
    "plt.plot(history.history['val_loss'],label = 'val_loss')\n",
    "plt.legend()\n",
    "plt.show()\n",
    "\n"
   ]
  },
  {
   "cell_type": "code",
   "execution_count": 71,
   "metadata": {},
   "outputs": [
    {
     "name": "stdout",
     "output_type": "stream",
     "text": [
      "Epoch 1/100\n"
     ]
    },
    {
     "name": "stderr",
     "output_type": "stream",
     "text": [
      "c:\\Users\\acer\\anaconda3\\lib\\site-packages\\tensorflow\\python\\util\\dispatch.py:1082: UserWarning: \"`categorical_crossentropy` received `from_logits=True`, but the `output` argument was produced by a sigmoid or softmax activation and thus does not represent logits. Was this intended?\"\n",
      "  return dispatch_target(*args, **kwargs)\n"
     ]
    },
    {
     "name": "stdout",
     "output_type": "stream",
     "text": [
      "5/5 [==============================] - 25s 4s/step - loss: 0.0045 - accuracy: 1.0000 - val_loss: 0.7290 - val_accuracy: 0.7778\n",
      "Epoch 2/100\n",
      "5/5 [==============================] - 20s 4s/step - loss: 0.0021 - accuracy: 1.0000 - val_loss: 0.8372 - val_accuracy: 0.7500\n",
      "Epoch 3/100\n",
      "5/5 [==============================] - 20s 4s/step - loss: 6.2251e-04 - accuracy: 1.0000 - val_loss: 0.9666 - val_accuracy: 0.7778\n",
      "Epoch 4/100\n",
      "5/5 [==============================] - 20s 4s/step - loss: 4.4143e-04 - accuracy: 1.0000 - val_loss: 0.9978 - val_accuracy: 0.7222\n",
      "Epoch 5/100\n",
      "5/5 [==============================] - 20s 4s/step - loss: 3.4085e-04 - accuracy: 1.0000 - val_loss: 1.0041 - val_accuracy: 0.6944\n",
      "Epoch 6/100\n",
      "5/5 [==============================] - 20s 4s/step - loss: 2.1715e-04 - accuracy: 1.0000 - val_loss: 1.0038 - val_accuracy: 0.6944\n"
     ]
    },
    {
     "data": {
      "image/png": "[encoded data removed]",
      "text/plain": [
       "<Figure size 432x288 with 1 Axes>"
      ]
     },
     "metadata": {
      "needs_background": "light"
     },
     "output_type": "display_data"
    }
   ],
   "source": [
    "\n",
    "loss_fn = tf.keras.losses.loss_fn = tf.keras.losses.CategoricalCrossentropy(from_logits=True)\n",
    "optimizer = tf.keras.optimizers.Adam(1e-4)# modify weight in Adam\n",
    "metrics = ['accuracy']\n",
    "split_class_model.compile(optimizer = optimizer,loss =  loss_fn,metrics = metrics)\n",
    "callback = tf.keras.callbacks.EarlyStopping(monitor='val_loss', patience=5)\n",
    "epochs = 100\n",
    "history = split_class_model.fit(feature, label, epochs=epochs,validation_split=0.2,callbacks=callback,class_weight = class_weights)\n",
    "\n",
    "plt.plot(history.history['loss'],label = 'loss')\n",
    "plt.plot(history.history['val_loss'],label = 'val_loss')\n",
    "plt.legend()\n",
    "plt.show()"
   ]
  },
  {
   "cell_type": "code",
   "execution_count": 72,
   "metadata": {},
   "outputs": [],
   "source": [
    "split_class_model.save('./h5_model/mel_model.h5')"
   ]
  },
  {
   "cell_type": "code",
   "execution_count": 73,
   "metadata": {},
   "outputs": [],
   "source": [
    "import shutil\n",
    "from pydub import AudioSegment\n",
    "import time"
   ]
  },
  {
   "cell_type": "code",
   "execution_count": 74,
   "metadata": {},
   "outputs": [],
   "source": [
    "def load_audio(file_path):\n",
    "    waveform, sample_rate = librosa.load(file_path,sr = 22050)\n",
    "    db = 25\n",
    "    waveform_trim ,dur= librosa.effects.trim(waveform, top_db=db )\n",
    "    return waveform_trim, sample_rate\n",
    "\n",
    "def load_audio_files(path: str, label:str):\n",
    "\n",
    "    dataset = []\n",
    "    walker = sorted(str(p) for p in Path(path).glob(f'*.wav'))\n",
    "    for i, file_path in enumerate(walker):\n",
    "        path, filename = os.path.split(file_path)\n",
    "        # Load audio\n",
    "        waveform, sample_rate = load_audio(file_path)\n",
    "        audio_segment = AudioSegment.from_file(file_path)\n",
    "        dataset.append([waveform, sample_rate,audio_segment])\n",
    "\n",
    "    return dataset\n"
   ]
  },
  {
   "cell_type": "code",
   "execution_count": 75,
   "metadata": {},
   "outputs": [],
   "source": [
    "def mel_spectrogram(waveform,sample,n_fft=2560,hop_length=32):\n",
    "    #fast_fourier_transf = np.fft.fft(waveform)\n",
    "   \n",
    "    audio_stft = librosa.feature.melspectrogram(y=waveform,n_fft=n_fft,hop_length=hop_length,fmin = 20,fmax = sample//2)\n",
    "    log_spectro = librosa.power_to_db(audio_stft)\n",
    "    librosa.display.specshow(log_spectro, sr=sample, x_axis='time', y_axis='mel',cmap = 'magma')\n",
    "    \n",
    "    \n",
    "    return log_spectro"
   ]
  },
  {
   "cell_type": "code",
   "execution_count": 76,
   "metadata": {},
   "outputs": [],
   "source": [
    "def mel_freq(waveform,sample):\n",
    "    mfccs = librosa.feature.mfcc(waveform, sr=sample,dct_type = 2,n_mfcc=100)\n",
    "    # data = librosa.power_to_db(mfccs)\n",
    "    # Displaying  the MFCCs:\n",
    "    librosa.display.specshow(mfccs, sr=sample, x_axis='mel',cmap = 'magma')\n",
    "    return mfccs"
   ]
  },
  {
   "cell_type": "code",
   "execution_count": 77,
   "metadata": {},
   "outputs": [],
   "source": [
    "def create_images(data,typeimg):\n",
    "    # make directory\n",
    "\n",
    "    test_directory = f'./testImgArea/y_label/'\n",
    "\n",
    "    os.makedirs(test_directory, mode=0o777, exist_ok=True)\n",
    "    sample_rate = data[1]\n",
    "    waveform = data[0]\n",
    "    if typeimg == 'mel_spectrogram':\n",
    "        spectrogram = mel_spectrogram(waveform,sample_rate)\n",
    "    elif typeimg == 'mel_freq':\n",
    "        spectrogram = mel_freq(waveform,sample_rate)\n",
    "    librosa.display.specshow(spectrogram,sr=sample_rate, x_axis='time')\n",
    "    plt.axis('off')\n",
    "    plt.savefig(f'./testImgArea/y_label/test_{typeimg}.jpg', bbox_inches=\"tight\", pad_inches = 0)\n",
    "    plt.clf()"
   ]
  },
  {
   "cell_type": "code",
   "execution_count": 78,
   "metadata": {},
   "outputs": [],
   "source": [
    "def getTestData():\n",
    "    \n",
    "    data_ds = tf.keras.preprocessing.image_dataset_from_directory('./testImgArea/', labels='inferred', label_mode='int', image_size=(432, 288), seed=321,validation_split=None, subset=None)\n",
    "    fe=[]\n",
    "    lab=[]\n",
    "    for images, labels in data_ds.unbatch().take(-1):\n",
    "        fe.append(images.numpy())\n",
    "        lab.append(labels.numpy())\n",
    "\n",
    "    return np.array(fe),np.array(lab)"
   ]
  },
  {
   "cell_type": "code",
   "execution_count": 79,
   "metadata": {},
   "outputs": [],
   "source": [
    "predictset= []\n",
    "labelset = []"
   ]
  },
  {
   "cell_type": "code",
   "execution_count": 80,
   "metadata": {},
   "outputs": [],
   "source": [
    "def predict_infant(class_test_data,y_label):\n",
    "    for testobj in class_test_data:\n",
    "        create_images(testobj,typeimg ='mel_spectrogram')\n",
    "        x,y = getTestData()\n",
    "        os.remove('./testImgArea/y_label/test_mel_spectrogram.jpg')\n",
    "        pred = split_class_model.predict(x)\n",
    "        y_pred_class = np.argmax(pred, axis=1)\n",
    "        predictset.append(y_pred_class)\n",
    "        labelset.append(y_label)\n",
    "        plt.clf()\n",
    "    "
   ]
  },
  {
   "cell_type": "code",
   "execution_count": 81,
   "metadata": {},
   "outputs": [],
   "source": [
    "burping_test_data = load_audio_files('./data_eval/sound_data/dustan_baby/test/burpme/', 'burpme')\n",
    "tired_test_data = load_audio_files('./data_eval/sound_data/dustan_baby/test/tired_owh/', 'tired')\n",
    "hungry_test_data = load_audio_files('./data_eval/sound_data/dustan_baby/test/hungry_Nah/', 'hungry')\n",
    "poop_test_data = load_audio_files('./data_eval/sound_data/dustan_baby/test/poop_eairh/', 'poop')\n",
    "discomfort_test_data = load_audio_files('./data_eval/sound_data/dustan_baby/test/uncomfortable_heh/', 'discomfort')"
   ]
  },
  {
   "cell_type": "code",
   "execution_count": 82,
   "metadata": {},
   "outputs": [
    {
     "data": {
      "text/plain": [
       "['burping', 'discomfort', 'hungry', 'poop', 'tired']"
      ]
     },
     "execution_count": 82,
     "metadata": {},
     "output_type": "execute_result"
    }
   ],
   "source": [
    "class_names"
   ]
  },
  {
   "cell_type": "code",
   "execution_count": 83,
   "metadata": {},
   "outputs": [
    {
     "name": "stdout",
     "output_type": "stream",
     "text": [
      "Found 1 files belonging to 1 classes.\n",
      "Found 1 files belonging to 1 classes.\n",
      "Found 1 files belonging to 1 classes.\n",
      "Found 1 files belonging to 1 classes.\n",
      "Found 1 files belonging to 1 classes.\n",
      "Found 1 files belonging to 1 classes.\n",
      "Found 1 files belonging to 1 classes.\n",
      "Found 1 files belonging to 1 classes.\n",
      "Found 1 files belonging to 1 classes.\n",
      "Found 1 files belonging to 1 classes.\n",
      "Found 1 files belonging to 1 classes.\n",
      "Found 1 files belonging to 1 classes.\n",
      "Found 1 files belonging to 1 classes.\n",
      "Found 1 files belonging to 1 classes.\n",
      "Found 1 files belonging to 1 classes.\n",
      "Found 1 files belonging to 1 classes.\n",
      "Found 1 files belonging to 1 classes.\n",
      "Found 1 files belonging to 1 classes.\n",
      "Found 1 files belonging to 1 classes.\n",
      "Found 1 files belonging to 1 classes.\n",
      "Found 1 files belonging to 1 classes.\n",
      "Found 1 files belonging to 1 classes.\n",
      "Found 1 files belonging to 1 classes.\n",
      "Found 1 files belonging to 1 classes.\n",
      "Found 1 files belonging to 1 classes.\n",
      "Found 1 files belonging to 1 classes.\n",
      "Found 1 files belonging to 1 classes.\n",
      "Found 1 files belonging to 1 classes.\n",
      "Found 1 files belonging to 1 classes.\n",
      "Found 1 files belonging to 1 classes.\n",
      "Found 1 files belonging to 1 classes.\n",
      "Found 1 files belonging to 1 classes.\n",
      "Found 1 files belonging to 1 classes.\n",
      "Found 1 files belonging to 1 classes.\n",
      "Found 1 files belonging to 1 classes.\n",
      "Found 1 files belonging to 1 classes.\n",
      "Found 1 files belonging to 1 classes.\n",
      "Found 1 files belonging to 1 classes.\n",
      "Found 1 files belonging to 1 classes.\n",
      "Found 1 files belonging to 1 classes.\n",
      "Found 1 files belonging to 1 classes.\n",
      "Found 1 files belonging to 1 classes.\n",
      "Found 1 files belonging to 1 classes.\n",
      "Found 1 files belonging to 1 classes.\n",
      "Found 1 files belonging to 1 classes.\n",
      "Found 1 files belonging to 1 classes.\n",
      "Found 1 files belonging to 1 classes.\n",
      "Found 1 files belonging to 1 classes.\n"
     ]
    },
    {
     "data": {
      "text/plain": [
       "<Figure size 432x288 with 0 Axes>"
      ]
     },
     "metadata": {},
     "output_type": "display_data"
    }
   ],
   "source": [
    "predict_infant(discomfort_test_data,1)\n",
    "predict_infant(hungry_test_data,2)\n",
    "predict_infant(tired_test_data,4)\n",
    "predict_infant(burping_test_data,0)\n",
    "predict_infant(poop_test_data,3)"
   ]
  },
  {
   "cell_type": "code",
   "execution_count": 84,
   "metadata": {},
   "outputs": [
    {
     "name": "stdout",
     "output_type": "stream",
     "text": [
      "              precision    recall  f1-score   support\n",
      "\n",
      "           0       0.86      1.00      0.92        12\n",
      "           1       0.83      0.71      0.77         7\n",
      "           2       0.64      0.88      0.74         8\n",
      "           3       0.89      0.80      0.84        10\n",
      "           4       0.88      0.64      0.74        11\n",
      "\n",
      "    accuracy                           0.81        48\n",
      "   macro avg       0.82      0.81      0.80        48\n",
      "weighted avg       0.83      0.81      0.81        48\n",
      "\n"
     ]
    },
    {
     "data": {
      "image/png": "[encoded data removed]",
      "text/plain": [
       "<Figure size 432x288 with 2 Axes>"
      ]
     },
     "metadata": {
      "needs_background": "light"
     },
     "output_type": "display_data"
    }
   ],
   "source": [
    "\n",
    "cm = confusion_matrix(labelset, predictset)\n",
    "\n",
    "disp = ConfusionMatrixDisplay(confusion_matrix=cm,display_labels = class_names)\n",
    "disp.plot()\n",
    "plt.show\n",
    "\n",
    "from sklearn.metrics import classification_report\n",
    "print(classification_report(labelset, predictset))"
   ]
  },
  {
   "cell_type": "code",
   "execution_count": 85,
   "metadata": {},
   "outputs": [],
   "source": [
    "burping_test_data = load_audio_files('./data_eval/sound_data/Unseen_data/burpme/', 'burpme')\n",
    "tired_test_data = load_audio_files('./data_eval/sound_data/Unseen_data/tired_owh/', 'tired')\n",
    "hungry_test_data = load_audio_files('./data_eval/sound_data/Unseen_data/hungry_Nah/', 'hungry')\n",
    "poop_test_data = load_audio_files('./data_eval/sound_data/Unseen_data/poop_eairh/', 'poop')\n",
    "discomfort_test_data = load_audio_files('./data_eval/sound_data/Unseen_data/uncomfortable_heh/', 'discomfort')"
   ]
  },
  {
   "cell_type": "code",
   "execution_count": 86,
   "metadata": {},
   "outputs": [],
   "source": [
    "predictset= []\n",
    "labelset = []"
   ]
  },
  {
   "cell_type": "code",
   "execution_count": 87,
   "metadata": {},
   "outputs": [
    {
     "name": "stdout",
     "output_type": "stream",
     "text": [
      "Found 1 files belonging to 1 classes.\n",
      "Found 1 files belonging to 1 classes.\n",
      "Found 1 files belonging to 1 classes.\n",
      "Found 1 files belonging to 1 classes.\n",
      "Found 1 files belonging to 1 classes.\n",
      "Found 1 files belonging to 1 classes.\n",
      "Found 1 files belonging to 1 classes.\n",
      "Found 1 files belonging to 1 classes.\n",
      "Found 1 files belonging to 1 classes.\n",
      "Found 1 files belonging to 1 classes.\n",
      "Found 1 files belonging to 1 classes.\n",
      "Found 1 files belonging to 1 classes.\n",
      "Found 1 files belonging to 1 classes.\n",
      "Found 1 files belonging to 1 classes.\n",
      "Found 1 files belonging to 1 classes.\n",
      "Found 1 files belonging to 1 classes.\n",
      "Found 1 files belonging to 1 classes.\n",
      "Found 1 files belonging to 1 classes.\n",
      "Found 1 files belonging to 1 classes.\n",
      "Found 1 files belonging to 1 classes.\n",
      "Found 1 files belonging to 1 classes.\n",
      "Found 1 files belonging to 1 classes.\n",
      "Found 1 files belonging to 1 classes.\n",
      "Found 1 files belonging to 1 classes.\n",
      "Found 1 files belonging to 1 classes.\n",
      "Found 1 files belonging to 1 classes.\n",
      "Found 1 files belonging to 1 classes.\n",
      "Found 1 files belonging to 1 classes.\n",
      "Found 1 files belonging to 1 classes.\n",
      "Found 1 files belonging to 1 classes.\n",
      "Found 1 files belonging to 1 classes.\n",
      "Found 1 files belonging to 1 classes.\n",
      "Found 1 files belonging to 1 classes.\n",
      "Found 1 files belonging to 1 classes.\n",
      "Found 1 files belonging to 1 classes.\n",
      "Found 1 files belonging to 1 classes.\n",
      "Found 1 files belonging to 1 classes.\n",
      "Found 1 files belonging to 1 classes.\n",
      "Found 1 files belonging to 1 classes.\n",
      "Found 1 files belonging to 1 classes.\n",
      "Found 1 files belonging to 1 classes.\n",
      "Found 1 files belonging to 1 classes.\n",
      "Found 1 files belonging to 1 classes.\n",
      "Found 1 files belonging to 1 classes.\n",
      "Found 1 files belonging to 1 classes.\n",
      "Found 1 files belonging to 1 classes.\n",
      "Found 1 files belonging to 1 classes.\n",
      "Found 1 files belonging to 1 classes.\n",
      "Found 1 files belonging to 1 classes.\n"
     ]
    },
    {
     "data": {
      "text/plain": [
       "<Figure size 432x288 with 0 Axes>"
      ]
     },
     "metadata": {},
     "output_type": "display_data"
    }
   ],
   "source": [
    "predict_infant(discomfort_test_data,1)\n",
    "predict_infant(hungry_test_data,2)\n",
    "predict_infant(tired_test_data,4)\n",
    "predict_infant(burping_test_data,0)\n",
    "predict_infant(poop_test_data,3)"
   ]
  },
  {
   "cell_type": "code",
   "execution_count": 88,
   "metadata": {},
   "outputs": [
    {
     "name": "stdout",
     "output_type": "stream",
     "text": [
      "              precision    recall  f1-score   support\n",
      "\n",
      "           0       0.00      0.00      0.00         5\n",
      "           1       0.00      0.00      0.00        12\n",
      "           2       0.00      0.00      0.00        12\n",
      "           3       0.00      0.00      0.00         7\n",
      "           4       0.24      0.62      0.34        13\n",
      "\n",
      "    accuracy                           0.16        49\n",
      "   macro avg       0.05      0.12      0.07        49\n",
      "weighted avg       0.06      0.16      0.09        49\n",
      "\n"
     ]
    },
    {
     "name": "stderr",
     "output_type": "stream",
     "text": [
      "c:\\Users\\acer\\anaconda3\\lib\\site-packages\\sklearn\\metrics\\_classification.py:1318: UndefinedMetricWarning: Precision and F-score are ill-defined and being set to 0.0 in labels with no predicted samples. Use `zero_division` parameter to control this behavior.\n",
      "  _warn_prf(average, modifier, msg_start, len(result))\n",
      "c:\\Users\\acer\\anaconda3\\lib\\site-packages\\sklearn\\metrics\\_classification.py:1318: UndefinedMetricWarning: Precision and F-score are ill-defined and being set to 0.0 in labels with no predicted samples. Use `zero_division` parameter to control this behavior.\n",
      "  _warn_prf(average, modifier, msg_start, len(result))\n",
      "c:\\Users\\acer\\anaconda3\\lib\\site-packages\\sklearn\\metrics\\_classification.py:1318: UndefinedMetricWarning: Precision and F-score are ill-defined and being set to 0.0 in labels with no predicted samples. Use `zero_division` parameter to control this behavior.\n",
      "  _warn_prf(average, modifier, msg_start, len(result))\n"
     ]
    },
    {
     "data": {
      "image/png": "[encoded data removed]",
      "text/plain": [
       "<Figure size 432x288 with 2 Axes>"
      ]
     },
     "metadata": {
      "needs_background": "light"
     },
     "output_type": "display_data"
    }
   ],
   "source": [
    "\n",
    "cm = confusion_matrix(labelset, predictset)\n",
    "\n",
    "disp = ConfusionMatrixDisplay(confusion_matrix=cm,display_labels = class_names)\n",
    "disp.plot()\n",
    "plt.show\n",
    "\n",
    "from sklearn.metrics import classification_report\n",
    "print(classification_report(labelset, predictset))"
   ]
  },
  {
   "cell_type": "code",
   "execution_count": null,
   "metadata": {},
   "outputs": [],
   "source": []
  },
  {
   "cell_type": "code",
   "execution_count": null,
   "metadata": {},
   "outputs": [],
   "source": []
  }
 ],
 "metadata": {
  "kernelspec": {
   "display_name": "Python 3",
   "language": "python",
   "name": "python3"
  },
  "language_info": {
   "codemirror_mode": {
    "name": "ipython",
    "version": 3
   },
   "file_extension": ".py",
   "mimetype": "text/x-python",
   "name": "python",
   "nbconvert_exporter": "python",
   "pygments_lexer": "ipython3",
   "version": "3.7.6"
  },
  "vscode": {
   "interpreter": {
    "hash": "23bf0724a01b6ea9814e66f76182ea78c0ee849a72ca257c0e116bf83bb4960a"
   }
  }
 },
 "nbformat": 4,
 "nbformat_minor": 2
}
