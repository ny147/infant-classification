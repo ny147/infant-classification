{
 "cells": [
  {
   "cell_type": "code",
   "execution_count": 1,
   "metadata": {},
   "outputs": [],
   "source": [
    "import os\n",
    "import librosa, librosa.display\n",
    "import matplotlib.pyplot as plt\n",
    "from pathlib import Path\n",
    "import tensorflow as tf\n",
    "import IPython.display as ipd\n",
    "import numpy as np\n",
    "from sklearn.metrics import confusion_matrix, ConfusionMatrixDisplay\n",
    "from keras.callbacks import ModelCheckpoint\n",
    "from sklearn.metrics import classification_report\n",
    "from sklearn.model_selection import train_test_split\n",
    "import shutil"
   ]
  },
  {
   "cell_type": "code",
   "execution_count": 2,
   "metadata": {},
   "outputs": [],
   "source": [
    "img_height = 432\n",
    "img_width = 288\n",
    "train_directory = './data_eval/img_data/dustan/mel_spectrogram/allclass/'\n"
   ]
  },
  {
   "cell_type": "code",
   "execution_count": 3,
   "metadata": {},
   "outputs": [],
   "source": [
    "def dummy(data,numarr):\n",
    "    new_data =[]\n",
    "    for i in data:\n",
    "        lab_data = []\n",
    "        for j in range(0,numarr):\n",
    "            lab_data.append(0)\n",
    "        #lab_data =[0,0]\n",
    "        lab_data[i] = 1\n",
    "        new_data.append(lab_data)\n",
    "    return new_data"
   ]
  },
  {
   "cell_type": "code",
   "execution_count": 4,
   "metadata": {},
   "outputs": [],
   "source": [
    "def create_weight(n_sample,n_class,n_class_sample):\n",
    "    weight = n_sample/(n_class*n_class_sample)\n",
    "    return weight "
   ]
  },
  {
   "cell_type": "code",
   "execution_count": 5,
   "metadata": {},
   "outputs": [],
   "source": [
    "\n",
    "def createdict(num):\n",
    "    lab_data = []\n",
    "    for i in range(0,num):\n",
    "        lab_data.append(i)\n",
    "    dic = dict.fromkeys(lab_data, 0)\n",
    "    return dic"
   ]
  },
  {
   "cell_type": "code",
   "execution_count": 6,
   "metadata": {},
   "outputs": [],
   "source": [
    "def createWeight(class_count,num_classes):\n",
    "    class_weights = createdict(num_classes)\n",
    "    for i in range(num_classes):\n",
    "        class_weights[i]=create_weight(np.sum(class_count),num_classes,class_count[i])\n",
    "    return class_weights"
   ]
  },
  {
   "cell_type": "code",
   "execution_count": 7,
   "metadata": {},
   "outputs": [],
   "source": [
    "def preprocess(data_dir,numclass):\n",
    "    data_ds = tf.keras.preprocessing.image_dataset_from_directory(\n",
    "    data_dir, labels='inferred', label_mode='int', image_size=(432, 288), seed=321,\n",
    "    validation_split=None, subset=None)\n",
    "    class_names = data_ds.class_names\n",
    "    \n",
    "    feature=[]\n",
    "    label=[]\n",
    "    for images, labels in data_ds.unbatch().take(-1):\n",
    "        feature.append(images.numpy())\n",
    "        label.append(labels.numpy())\n",
    "        \n",
    "    feature = np.array(feature)\n",
    "    label = np.array(label)      \n",
    "    \n",
    "    \n",
    "    class_count=[]\n",
    "    for i in range(0,numclass):\n",
    "        class_count.append(np.count_nonzero(label == i))\n",
    "    class_count = np.array(class_count)\n",
    "    label = dummy(label,numclass)\n",
    "    class_weights = createWeight(class_count,numclass)\n",
    "   \n",
    "    \n",
    "    label = np.array(label)\n",
    "    return feature,label,class_weights,class_names\n",
    "    "
   ]
  },
  {
   "cell_type": "code",
   "execution_count": 8,
   "metadata": {},
   "outputs": [
    {
     "ename": "FileNotFoundError",
     "evalue": "[WinError 3] The system cannot find the path specified: './data_eval/img_data/dustan/mel_spectrogram/allclass/'",
     "output_type": "error",
     "traceback": [
      "\u001b[1;31m---------------------------------------------------------------------------\u001b[0m",
      "\u001b[1;31mFileNotFoundError\u001b[0m                         Traceback (most recent call last)",
      "\u001b[1;32m<ipython-input-8-062ea8874962>\u001b[0m in \u001b[0;36m<module>\u001b[1;34m\u001b[0m\n\u001b[1;32m----> 1\u001b[1;33m \u001b[0mfeature\u001b[0m\u001b[1;33m,\u001b[0m\u001b[0mlabel\u001b[0m\u001b[1;33m,\u001b[0m\u001b[0mclass_weights\u001b[0m\u001b[1;33m,\u001b[0m\u001b[0mclass_names\u001b[0m \u001b[1;33m=\u001b[0m \u001b[0mpreprocess\u001b[0m\u001b[1;33m(\u001b[0m\u001b[0mtrain_directory\u001b[0m\u001b[1;33m,\u001b[0m\u001b[1;36m5\u001b[0m\u001b[1;33m)\u001b[0m\u001b[1;33m\u001b[0m\u001b[1;33m\u001b[0m\u001b[0m\n\u001b[0m",
      "\u001b[1;32m<ipython-input-7-d3e78f93271b>\u001b[0m in \u001b[0;36mpreprocess\u001b[1;34m(data_dir, numclass)\u001b[0m\n\u001b[0;32m      2\u001b[0m     data_ds = tf.keras.preprocessing.image_dataset_from_directory(\n\u001b[0;32m      3\u001b[0m     \u001b[0mdata_dir\u001b[0m\u001b[1;33m,\u001b[0m \u001b[0mlabels\u001b[0m\u001b[1;33m=\u001b[0m\u001b[1;34m'inferred'\u001b[0m\u001b[1;33m,\u001b[0m \u001b[0mlabel_mode\u001b[0m\u001b[1;33m=\u001b[0m\u001b[1;34m'int'\u001b[0m\u001b[1;33m,\u001b[0m \u001b[0mimage_size\u001b[0m\u001b[1;33m=\u001b[0m\u001b[1;33m(\u001b[0m\u001b[1;36m432\u001b[0m\u001b[1;33m,\u001b[0m \u001b[1;36m288\u001b[0m\u001b[1;33m)\u001b[0m\u001b[1;33m,\u001b[0m \u001b[0mseed\u001b[0m\u001b[1;33m=\u001b[0m\u001b[1;36m321\u001b[0m\u001b[1;33m,\u001b[0m\u001b[1;33m\u001b[0m\u001b[1;33m\u001b[0m\u001b[0m\n\u001b[1;32m----> 4\u001b[1;33m     validation_split=None, subset=None)\n\u001b[0m\u001b[0;32m      5\u001b[0m     \u001b[0mclass_names\u001b[0m \u001b[1;33m=\u001b[0m \u001b[0mdata_ds\u001b[0m\u001b[1;33m.\u001b[0m\u001b[0mclass_names\u001b[0m\u001b[1;33m\u001b[0m\u001b[1;33m\u001b[0m\u001b[0m\n\u001b[0;32m      6\u001b[0m \u001b[1;33m\u001b[0m\u001b[0m\n",
      "\u001b[1;32mc:\\Users\\acer\\anaconda3\\lib\\site-packages\\keras\\preprocessing\\image_dataset.py\u001b[0m in \u001b[0;36mimage_dataset_from_directory\u001b[1;34m(directory, labels, label_mode, class_names, color_mode, batch_size, image_size, shuffle, seed, validation_split, subset, interpolation, follow_links, crop_to_aspect_ratio, **kwargs)\u001b[0m\n\u001b[0;32m    197\u001b[0m       \u001b[0mshuffle\u001b[0m\u001b[1;33m=\u001b[0m\u001b[0mshuffle\u001b[0m\u001b[1;33m,\u001b[0m\u001b[1;33m\u001b[0m\u001b[1;33m\u001b[0m\u001b[0m\n\u001b[0;32m    198\u001b[0m       \u001b[0mseed\u001b[0m\u001b[1;33m=\u001b[0m\u001b[0mseed\u001b[0m\u001b[1;33m,\u001b[0m\u001b[1;33m\u001b[0m\u001b[1;33m\u001b[0m\u001b[0m\n\u001b[1;32m--> 199\u001b[1;33m       follow_links=follow_links)\n\u001b[0m\u001b[0;32m    200\u001b[0m \u001b[1;33m\u001b[0m\u001b[0m\n\u001b[0;32m    201\u001b[0m   \u001b[1;32mif\u001b[0m \u001b[0mlabel_mode\u001b[0m \u001b[1;33m==\u001b[0m \u001b[1;34m'binary'\u001b[0m \u001b[1;32mand\u001b[0m \u001b[0mlen\u001b[0m\u001b[1;33m(\u001b[0m\u001b[0mclass_names\u001b[0m\u001b[1;33m)\u001b[0m \u001b[1;33m!=\u001b[0m \u001b[1;36m2\u001b[0m\u001b[1;33m:\u001b[0m\u001b[1;33m\u001b[0m\u001b[1;33m\u001b[0m\u001b[0m\n",
      "\u001b[1;32mc:\\Users\\acer\\anaconda3\\lib\\site-packages\\keras\\preprocessing\\dataset_utils.py\u001b[0m in \u001b[0;36mindex_directory\u001b[1;34m(directory, labels, formats, class_names, shuffle, seed, follow_links)\u001b[0m\n\u001b[0;32m     64\u001b[0m   \u001b[1;32melse\u001b[0m\u001b[1;33m:\u001b[0m\u001b[1;33m\u001b[0m\u001b[1;33m\u001b[0m\u001b[0m\n\u001b[0;32m     65\u001b[0m     \u001b[0msubdirs\u001b[0m \u001b[1;33m=\u001b[0m \u001b[1;33m[\u001b[0m\u001b[1;33m]\u001b[0m\u001b[1;33m\u001b[0m\u001b[1;33m\u001b[0m\u001b[0m\n\u001b[1;32m---> 66\u001b[1;33m     \u001b[1;32mfor\u001b[0m \u001b[0msubdir\u001b[0m \u001b[1;32min\u001b[0m \u001b[0msorted\u001b[0m\u001b[1;33m(\u001b[0m\u001b[0mos\u001b[0m\u001b[1;33m.\u001b[0m\u001b[0mlistdir\u001b[0m\u001b[1;33m(\u001b[0m\u001b[0mdirectory\u001b[0m\u001b[1;33m)\u001b[0m\u001b[1;33m)\u001b[0m\u001b[1;33m:\u001b[0m\u001b[1;33m\u001b[0m\u001b[1;33m\u001b[0m\u001b[0m\n\u001b[0m\u001b[0;32m     67\u001b[0m       \u001b[1;32mif\u001b[0m \u001b[0mos\u001b[0m\u001b[1;33m.\u001b[0m\u001b[0mpath\u001b[0m\u001b[1;33m.\u001b[0m\u001b[0misdir\u001b[0m\u001b[1;33m(\u001b[0m\u001b[0mos\u001b[0m\u001b[1;33m.\u001b[0m\u001b[0mpath\u001b[0m\u001b[1;33m.\u001b[0m\u001b[0mjoin\u001b[0m\u001b[1;33m(\u001b[0m\u001b[0mdirectory\u001b[0m\u001b[1;33m,\u001b[0m \u001b[0msubdir\u001b[0m\u001b[1;33m)\u001b[0m\u001b[1;33m)\u001b[0m\u001b[1;33m:\u001b[0m\u001b[1;33m\u001b[0m\u001b[1;33m\u001b[0m\u001b[0m\n\u001b[0;32m     68\u001b[0m         \u001b[0msubdirs\u001b[0m\u001b[1;33m.\u001b[0m\u001b[0mappend\u001b[0m\u001b[1;33m(\u001b[0m\u001b[0msubdir\u001b[0m\u001b[1;33m)\u001b[0m\u001b[1;33m\u001b[0m\u001b[1;33m\u001b[0m\u001b[0m\n",
      "\u001b[1;31mFileNotFoundError\u001b[0m: [WinError 3] The system cannot find the path specified: './data_eval/img_data/dustan/mel_spectrogram/allclass/'"
     ]
    }
   ],
   "source": [
    "feature,label,class_weights,class_names = preprocess(train_directory,5)"
   ]
  },
  {
   "cell_type": "code",
   "execution_count": null,
   "metadata": {},
   "outputs": [
    {
     "data": {
      "text/plain": [
       "['burping', 'discomfort', 'hungry', 'poop', 'tired']"
      ]
     },
     "execution_count": 9,
     "metadata": {},
     "output_type": "execute_result"
    }
   ],
   "source": [
    "class_names"
   ]
  },
  {
   "cell_type": "code",
   "execution_count": null,
   "metadata": {},
   "outputs": [],
   "source": [
    "def categories2binary(categories):\n",
    "    binarydata = []\n",
    "    for item in categories:\n",
    "        binarydata.append(item[0])\n",
    "    binarydata=np.array(binarydata)\n",
    "    return(binarydata)"
   ]
  },
  {
   "cell_type": "code",
   "execution_count": null,
   "metadata": {},
   "outputs": [],
   "source": [
    "def binary2categories(binary):\n",
    "    new_data = []\n",
    "    for i in binary:\n",
    "        lab_data = []\n",
    "        for j in range(0,2):\n",
    "            lab_data.append(0)\n",
    "        if(i>=0.5):\n",
    "            lab_data[1]=1;\n",
    "        elif(i<0.5):\n",
    "            lab_data[0]=1;\n",
    "        new_data.append(lab_data)\n",
    "    new_data = np.array(new_data)\n",
    "    return(new_data)"
   ]
  },
  {
   "cell_type": "code",
   "execution_count": null,
   "metadata": {},
   "outputs": [
    {
     "name": "stdout",
     "output_type": "stream",
     "text": [
      "Model: \"model\"\n",
      "_________________________________________________________________\n",
      " Layer (type)                Output Shape              Param #   \n",
      "=================================================================\n",
      " input_2 (InputLayer)        [(None, 432, 288, 3)]     0         \n",
      "                                                                 \n",
      " resnet50 (Functional)       (None, 14, 9, 2048)       23587712  \n",
      "                                                                 \n",
      " conv2d (Conv2D)             (None, 14, 9, 128)        2359424   \n",
      "                                                                 \n",
      " max_pooling2d (MaxPooling2D  (None, 7, 4, 128)        0         \n",
      " )                                                               \n",
      "                                                                 \n",
      " flatten (Flatten)           (None, 3584)              0         \n",
      "                                                                 \n",
      " dense (Dense)               (None, 128)               458880    \n",
      "                                                                 \n",
      " dropout (Dropout)           (None, 128)               0         \n",
      "                                                                 \n",
      " dense_1 (Dense)             (None, 5)                 645       \n",
      "                                                                 \n",
      "=================================================================\n",
      "Total params: 26,406,661\n",
      "Trainable params: 2,818,949\n",
      "Non-trainable params: 23,587,712\n",
      "_________________________________________________________________\n"
     ]
    }
   ],
   "source": [
    "split_class_base_model = tf.keras.applications.ResNet50(\n",
    "    weights=\"imagenet\",  # Load weights pre-trained on ImageNet.\n",
    "    input_shape=(img_height, img_width, 3),\n",
    "    include_top=False,\n",
    ") \n",
    "\n",
    "# Freeze the base_model\n",
    "split_class_base_model.trainable = False\n",
    "\n",
    "# Create new model on top\n",
    "\n",
    "inputs = tf.keras.Input(shape=(img_height, img_width, 3))\n",
    "\n",
    "scale_layer = tf.keras.layers.Rescaling(scale=1./255)\n",
    "x = inputs\n",
    "\n",
    "x = split_class_base_model(x, training=False)\n",
    "\n",
    "x = tf.keras.layers.Conv2D(128, 3, padding='same', activation='relu')(x)          \n",
    "x = tf.keras.layers.MaxPooling2D((2,2))(x)\n",
    "x = tf.keras.layers.Flatten()(x)\n",
    "# x = tf.keras.layers.Dropout(0.2)(x)\n",
    "            \n",
    "# x = tf.keras.layers.GlobalAveragePooling2D()(x)\n",
    "\n",
    "x = tf.keras.layers.Dense(128, activation='relu')(x)\n",
    "\n",
    "x = tf.keras.layers.Dropout(0.2)(x)  # Regularize with dropout\n",
    "outputs = tf.keras.layers.Dense(5,activation='softmax')(x)\n",
    "split_class_model = tf.keras.Model(inputs, outputs)\n",
    "\n",
    "split_class_model.summary()"
   ]
  },
  {
   "cell_type": "code",
   "execution_count": null,
   "metadata": {},
   "outputs": [
    {
     "data": {
      "image/png": "[encoded data removed]",
      "text/plain": [
       "<IPython.core.display.Image object>"
      ]
     },
     "execution_count": 13,
     "metadata": {},
     "output_type": "execute_result"
    }
   ],
   "source": [
    "\n",
    "tf.keras.utils.plot_model(split_class_model,to_file=\"model_summary.png\")"
   ]
  },
  {
   "cell_type": "code",
   "execution_count": null,
   "metadata": {},
   "outputs": [
    {
     "name": "stdout",
     "output_type": "stream",
     "text": [
      "Epoch 1/100\n"
     ]
    },
    {
     "name": "stderr",
     "output_type": "stream",
     "text": [
      "c:\\Users\\acer\\anaconda3\\lib\\site-packages\\tensorflow\\python\\util\\dispatch.py:1082: UserWarning: \"`categorical_crossentropy` received `from_logits=True`, but the `output` argument was produced by a sigmoid or softmax activation and thus does not represent logits. Was this intended?\"\n",
      "  return dispatch_target(*args, **kwargs)\n"
     ]
    },
    {
     "name": "stdout",
     "output_type": "stream",
     "text": [
      "5/5 [==============================] - 29s 5s/step - loss: 9.8955 - accuracy: 0.2083 - val_loss: 2.3403 - val_accuracy: 0.3056\n",
      "Epoch 2/100\n",
      "5/5 [==============================] - 21s 4s/step - loss: 1.0199 - accuracy: 0.6667 - val_loss: 0.9019 - val_accuracy: 0.7222\n",
      "Epoch 3/100\n",
      "5/5 [==============================] - 21s 4s/step - loss: 0.6704 - accuracy: 0.7569 - val_loss: 0.9183 - val_accuracy: 0.5556\n",
      "Epoch 4/100\n",
      "5/5 [==============================] - 21s 4s/step - loss: 0.4313 - accuracy: 0.8403 - val_loss: 0.5117 - val_accuracy: 0.8333\n",
      "Epoch 5/100\n",
      "5/5 [==============================] - 21s 4s/step - loss: 0.2663 - accuracy: 0.9306 - val_loss: 0.5209 - val_accuracy: 0.8333\n",
      "Epoch 6/100\n",
      "5/5 [==============================] - 21s 4s/step - loss: 0.1349 - accuracy: 0.9583 - val_loss: 0.5309 - val_accuracy: 0.7778\n",
      "Epoch 7/100\n",
      "5/5 [==============================] - 21s 4s/step - loss: 0.0673 - accuracy: 0.9861 - val_loss: 0.5033 - val_accuracy: 0.7778\n",
      "Epoch 8/100\n",
      "5/5 [==============================] - 21s 4s/step - loss: 0.0571 - accuracy: 0.9861 - val_loss: 0.4645 - val_accuracy: 0.7778\n",
      "Epoch 9/100\n",
      "5/5 [==============================] - 21s 4s/step - loss: 0.0239 - accuracy: 1.0000 - val_loss: 0.4497 - val_accuracy: 0.8056\n",
      "Epoch 10/100\n",
      "5/5 [==============================] - 21s 4s/step - loss: 0.0132 - accuracy: 1.0000 - val_loss: 0.4796 - val_accuracy: 0.8056\n",
      "Epoch 11/100\n",
      "5/5 [==============================] - 21s 4s/step - loss: 0.0137 - accuracy: 1.0000 - val_loss: 0.5709 - val_accuracy: 0.8056\n",
      "Epoch 12/100\n",
      "5/5 [==============================] - 21s 4s/step - loss: 0.0149 - accuracy: 0.9931 - val_loss: 0.6499 - val_accuracy: 0.8056\n",
      "Epoch 13/100\n",
      "5/5 [==============================] - 21s 4s/step - loss: 0.0033 - accuracy: 1.0000 - val_loss: 0.6323 - val_accuracy: 0.8056\n",
      "Epoch 14/100\n",
      "5/5 [==============================] - 25s 5s/step - loss: 0.0073 - accuracy: 1.0000 - val_loss: 0.5763 - val_accuracy: 0.8056\n"
     ]
    },
    {
     "data": {
      "image/png": "[encoded data removed]",
      "text/plain": [
       "<Figure size 432x288 with 1 Axes>"
      ]
     },
     "metadata": {
      "needs_background": "light"
     },
     "output_type": "display_data"
    }
   ],
   "source": [
    "\n",
    "loss_fn = tf.keras.losses.loss_fn = tf.keras.losses.CategoricalCrossentropy(from_logits=True)\n",
    "optimizer = tf.keras.optimizers.Adam()# modify weight in Adam\n",
    "metrics = ['accuracy']\n",
    "split_class_model.compile (optimizer = optimizer,loss =  loss_fn,metrics = metrics)\n",
    "callback = tf.keras.callbacks.EarlyStopping(monitor='val_loss', patience=5)\n",
    "epochs = 100\n",
    "history = split_class_model.fit(feature, label, epochs=epochs,validation_split=0.2,callbacks=callback,class_weight = class_weights)\n",
    "\n",
    "plt.plot(history.history['loss'],label = 'loss')\n",
    "plt.plot(history.history['val_loss'],label = 'val_loss')\n",
    "plt.legend()\n",
    "plt.show()\n",
    "\n"
   ]
  },
  {
   "cell_type": "code",
   "execution_count": null,
   "metadata": {},
   "outputs": [
    {
     "name": "stdout",
     "output_type": "stream",
     "text": [
      "Epoch 1/100\n"
     ]
    },
    {
     "name": "stderr",
     "output_type": "stream",
     "text": [
      "c:\\Users\\acer\\anaconda3\\lib\\site-packages\\tensorflow\\python\\util\\dispatch.py:1082: UserWarning: \"`categorical_crossentropy` received `from_logits=True`, but the `output` argument was produced by a sigmoid or softmax activation and thus does not represent logits. Was this intended?\"\n",
      "  return dispatch_target(*args, **kwargs)\n"
     ]
    },
    {
     "name": "stdout",
     "output_type": "stream",
     "text": [
      "5/5 [==============================] - 27s 5s/step - loss: 0.0021 - accuracy: 1.0000 - val_loss: 0.5387 - val_accuracy: 0.8056\n",
      "Epoch 2/100\n",
      "5/5 [==============================] - 21s 4s/step - loss: 0.0012 - accuracy: 1.0000 - val_loss: 0.5843 - val_accuracy: 0.8056\n",
      "Epoch 3/100\n",
      "5/5 [==============================] - 21s 4s/step - loss: 6.9440e-04 - accuracy: 1.0000 - val_loss: 0.6302 - val_accuracy: 0.8056\n",
      "Epoch 4/100\n",
      "5/5 [==============================] - 21s 4s/step - loss: 6.4436e-04 - accuracy: 1.0000 - val_loss: 0.6482 - val_accuracy: 0.8056\n",
      "Epoch 5/100\n",
      "5/5 [==============================] - 21s 4s/step - loss: 0.0016 - accuracy: 1.0000 - val_loss: 0.7077 - val_accuracy: 0.8056\n",
      "Epoch 6/100\n",
      "5/5 [==============================] - 21s 4s/step - loss: 9.1655e-04 - accuracy: 1.0000 - val_loss: 0.7882 - val_accuracy: 0.8056\n"
     ]
    },
    {
     "data": {
      "image/png": "[encoded data removed]",
      "text/plain": [
       "<Figure size 432x288 with 1 Axes>"
      ]
     },
     "metadata": {
      "needs_background": "light"
     },
     "output_type": "display_data"
    }
   ],
   "source": [
    "\n",
    "loss_fn = tf.keras.losses.loss_fn = tf.keras.losses.CategoricalCrossentropy(from_logits=True)\n",
    "optimizer = tf.keras.optimizers.Adam(1e-4)# modify weight in Adam\n",
    "metrics = ['accuracy']\n",
    "split_class_model.compile(optimizer = optimizer,loss =  loss_fn,metrics = metrics)\n",
    "callback = tf.keras.callbacks.EarlyStopping(monitor='val_loss', patience=5)\n",
    "epochs = 100\n",
    "history = split_class_model.fit(feature, label, epochs=epochs,validation_split=0.2,callbacks=callback,class_weight = class_weights)\n",
    "\n",
    "plt.plot(history.history['loss'],label = 'loss')\n",
    "plt.plot(history.history['val_loss'],label = 'val_loss')\n",
    "plt.legend()\n",
    "plt.show()"
   ]
  },
  {
   "cell_type": "code",
   "execution_count": null,
   "metadata": {},
   "outputs": [],
   "source": [
    "split_class_model.save('./h5_model/mel_model.h5')"
   ]
  },
  {
   "cell_type": "code",
   "execution_count": null,
   "metadata": {},
   "outputs": [
    {
     "name": "stderr",
     "output_type": "stream",
     "text": [
      "c:\\Users\\acer\\anaconda3\\lib\\site-packages\\pydub\\utils.py:170: RuntimeWarning: Couldn't find ffmpeg or avconv - defaulting to ffmpeg, but may not work\n",
      "  warn(\"Couldn't find ffmpeg or avconv - defaulting to ffmpeg, but may not work\", RuntimeWarning)\n"
     ]
    }
   ],
   "source": [
    "import shutil\n",
    "from pydub import AudioSegment\n",
    "import time"
   ]
  },
  {
   "cell_type": "code",
   "execution_count": null,
   "metadata": {},
   "outputs": [],
   "source": [
    "def load_audio(file_path):\n",
    "    waveform, sample_rate = librosa.load(file_path)\n",
    "    db = 25\n",
    "    waveform_trim ,dur= librosa.effects.trim(waveform, top_db=db )\n",
    "    return waveform_trim, sample_rate\n",
    "\n",
    "def load_audio_files(path: str, label:str):\n",
    "\n",
    "    dataset = []\n",
    "    walker = sorted(str(p) for p in Path(path).glob(f'*.wav'))\n",
    "    for i, file_path in enumerate(walker):\n",
    "        path, filename = os.path.split(file_path)\n",
    "        # Load audio\n",
    "        waveform, sample_rate = load_audio(file_path)\n",
    "        audio_segment = AudioSegment.from_file(file_path)\n",
    "        dataset.append([waveform, sample_rate,audio_segment])\n",
    "\n",
    "    return dataset\n"
   ]
  },
  {
   "cell_type": "code",
   "execution_count": null,
   "metadata": {},
   "outputs": [],
   "source": [
    "def mel_spectrogram(waveform,sample,n_fft=2560,hop_length=32):\n",
    "    #fast_fourier_transf = np.fft.fft(waveform)\n",
    "   \n",
    "    audio_stft = librosa.feature.melspectrogram(y=waveform,n_fft=n_fft,hop_length=hop_length,fmin = 20,fmax = sample//2)\n",
    "    log_spectro = librosa.power_to_db(audio_stft)\n",
    "    librosa.display.specshow(log_spectro, sr=sample, x_axis='time', y_axis='mel',cmap = 'magma')\n",
    "    \n",
    "    \n",
    "    return log_spectro"
   ]
  },
  {
   "cell_type": "code",
   "execution_count": 20,
   "metadata": {},
   "outputs": [],
   "source": [
    "def mel_freq(waveform,sample):\n",
    "    mfccs = librosa.feature.mfcc(waveform, sr=sample,dct_type = 2,n_mfcc=100)\n",
    "    # data = librosa.power_to_db(mfccs)\n",
    "    # Displaying  the MFCCs:\n",
    "    librosa.display.specshow(mfccs, sr=sample, x_axis='mel',cmap = 'magma')\n",
    "    return mfccs"
   ]
  },
  {
   "cell_type": "code",
   "execution_count": 21,
   "metadata": {},
   "outputs": [],
   "source": [
    "def create_images(data,typeimg):\n",
    "    # make directory\n",
    "\n",
    "    test_directory = f'./testImgArea/y_label/'\n",
    "\n",
    "    os.makedirs(test_directory, mode=0o777, exist_ok=True)\n",
    "    sample_rate = data[1]\n",
    "    waveform = data[0]\n",
    "    if typeimg == 'mel_spectrogram':\n",
    "        spectrogram = mel_spectrogram(waveform,sample_rate)\n",
    "    elif typeimg == 'mel_freq':\n",
    "        spectrogram = mel_freq(waveform,sample_rate)\n",
    "    librosa.display.specshow(spectrogram,sr=sample_rate, x_axis='time')\n",
    "    plt.axis('off')\n",
    "    plt.savefig(f'./testImgArea/y_label/test_{typeimg}.jpg', bbox_inches=\"tight\", pad_inches = 0)\n",
    "    plt.clf()"
   ]
  },
  {
   "cell_type": "code",
   "execution_count": 22,
   "metadata": {},
   "outputs": [],
   "source": [
    "def getTestData():\n",
    "    \n",
    "    data_ds = tf.keras.preprocessing.image_dataset_from_directory('./testImgArea/', labels='inferred', label_mode='int', image_size=(432, 288), seed=321,validation_split=None, subset=None)\n",
    "    fe=[]\n",
    "    lab=[]\n",
    "    for images, labels in data_ds.unbatch().take(-1):\n",
    "        fe.append(images.numpy())\n",
    "        lab.append(labels.numpy())\n",
    "\n",
    "    return np.array(fe),np.array(lab)"
   ]
  },
  {
   "cell_type": "code",
   "execution_count": 23,
   "metadata": {},
   "outputs": [],
   "source": [
    "predictset= []\n",
    "labelset = []"
   ]
  },
  {
   "cell_type": "code",
   "execution_count": 24,
   "metadata": {},
   "outputs": [],
   "source": [
    "def predict_infant(class_test_data,y_label):\n",
    "    for testobj in class_test_data:\n",
    "        create_images(testobj,typeimg ='mel_spectrogram')\n",
    "        x,y = getTestData()\n",
    "        os.remove('./testImgArea/y_label/test_mel_spectrogram.jpg')\n",
    "        pred = split_class_model.predict(x)\n",
    "        y_pred_class = np.argmax(pred, axis=1)\n",
    "        predictset.append(y_pred_class)\n",
    "        labelset.append(y_label)\n",
    "        plt.clf()\n",
    "    "
   ]
  },
  {
   "cell_type": "code",
   "execution_count": 25,
   "metadata": {},
   "outputs": [],
   "source": [
    "burping_test_data = load_audio_files('./data_eval/sound_data/dustan_baby/test/burpme/', 'burpme')\n",
    "tired_test_data = load_audio_files('./data_eval/sound_data/dustan_baby/test/tired_owh/', 'tired')\n",
    "hungry_test_data = load_audio_files('./data_eval/sound_data/dustan_baby/test/hungry_Nah/', 'hungry')\n",
    "poop_test_data = load_audio_files('./data_eval/sound_data/dustan_baby/test/poop_eairh/', 'poop')\n",
    "discomfort_test_data = load_audio_files('./data_eval/sound_data/dustan_baby/test/uncomfortable_heh/', 'discomfort')"
   ]
  },
  {
   "cell_type": "code",
   "execution_count": 26,
   "metadata": {},
   "outputs": [
    {
     "data": {
      "text/plain": [
       "['burping', 'discomfort', 'hungry', 'poop', 'tired']"
      ]
     },
     "execution_count": 26,
     "metadata": {},
     "output_type": "execute_result"
    }
   ],
   "source": [
    "class_names"
   ]
  },
  {
   "cell_type": "code",
   "execution_count": 27,
   "metadata": {},
   "outputs": [
    {
     "name": "stdout",
     "output_type": "stream",
     "text": [
      "Found 1 files belonging to 1 classes.\n",
      "Found 1 files belonging to 1 classes.\n",
      "Found 1 files belonging to 1 classes.\n",
      "Found 1 files belonging to 1 classes.\n",
      "Found 1 files belonging to 1 classes.\n",
      "Found 1 files belonging to 1 classes.\n",
      "Found 1 files belonging to 1 classes.\n",
      "Found 1 files belonging to 1 classes.\n",
      "Found 1 files belonging to 1 classes.\n",
      "Found 1 files belonging to 1 classes.\n",
      "Found 1 files belonging to 1 classes.\n",
      "Found 1 files belonging to 1 classes.\n",
      "Found 1 files belonging to 1 classes.\n",
      "Found 1 files belonging to 1 classes.\n",
      "Found 1 files belonging to 1 classes.\n",
      "Found 1 files belonging to 1 classes.\n",
      "Found 1 files belonging to 1 classes.\n",
      "Found 1 files belonging to 1 classes.\n",
      "Found 1 files belonging to 1 classes.\n",
      "Found 1 files belonging to 1 classes.\n",
      "Found 1 files belonging to 1 classes.\n",
      "Found 1 files belonging to 1 classes.\n",
      "Found 1 files belonging to 1 classes.\n",
      "Found 1 files belonging to 1 classes.\n",
      "Found 1 files belonging to 1 classes.\n",
      "Found 1 files belonging to 1 classes.\n",
      "Found 1 files belonging to 1 classes.\n",
      "Found 1 files belonging to 1 classes.\n",
      "Found 1 files belonging to 1 classes.\n",
      "Found 1 files belonging to 1 classes.\n",
      "Found 1 files belonging to 1 classes.\n",
      "Found 1 files belonging to 1 classes.\n",
      "Found 1 files belonging to 1 classes.\n",
      "Found 1 files belonging to 1 classes.\n",
      "Found 1 files belonging to 1 classes.\n",
      "Found 1 files belonging to 1 classes.\n",
      "Found 1 files belonging to 1 classes.\n",
      "Found 1 files belonging to 1 classes.\n",
      "Found 1 files belonging to 1 classes.\n",
      "Found 1 files belonging to 1 classes.\n",
      "Found 1 files belonging to 1 classes.\n",
      "Found 1 files belonging to 1 classes.\n",
      "Found 1 files belonging to 1 classes.\n",
      "Found 1 files belonging to 1 classes.\n",
      "Found 1 files belonging to 1 classes.\n",
      "Found 1 files belonging to 1 classes.\n",
      "Found 1 files belonging to 1 classes.\n",
      "Found 1 files belonging to 1 classes.\n"
     ]
    },
    {
     "data": {
      "text/plain": [
       "<Figure size 432x288 with 0 Axes>"
      ]
     },
     "metadata": {},
     "output_type": "display_data"
    }
   ],
   "source": [
    "predict_infant(discomfort_test_data,1)\n",
    "predict_infant(hungry_test_data,2)\n",
    "predict_infant(tired_test_data,4)\n",
    "predict_infant(burping_test_data,0)\n",
    "predict_infant(poop_test_data,3)"
   ]
  },
  {
   "cell_type": "code",
   "execution_count": 28,
   "metadata": {},
   "outputs": [
    {
     "name": "stdout",
     "output_type": "stream",
     "text": [
      "              precision    recall  f1-score   support\n",
      "\n",
      "           0       1.00      0.92      0.96        12\n",
      "           1       0.67      0.86      0.75         7\n",
      "           2       0.83      0.62      0.71         8\n",
      "           3       0.83      1.00      0.91        10\n",
      "           4       0.80      0.73      0.76        11\n",
      "\n",
      "    accuracy                           0.83        48\n",
      "   macro avg       0.83      0.83      0.82        48\n",
      "weighted avg       0.84      0.83      0.83        48\n",
      "\n"
     ]
    },
    {
     "data": {
      "image/png": "[encoded data removed]",
      "text/plain": [
       "<Figure size 432x288 with 2 Axes>"
      ]
     },
     "metadata": {
      "needs_background": "light"
     },
     "output_type": "display_data"
    }
   ],
   "source": [
    "\n",
    "cm = confusion_matrix(labelset, predictset)\n",
    "\n",
    "disp = ConfusionMatrixDisplay(confusion_matrix=cm,display_labels = class_names)\n",
    "disp.plot()\n",
    "plt.show\n",
    "\n",
    "from sklearn.metrics import classification_report\n",
    "print(classification_report(labelset, predictset))"
   ]
  },
  {
   "cell_type": "code",
   "execution_count": null,
   "metadata": {},
   "outputs": [],
   "source": []
  }
 ],
 "metadata": {
  "kernelspec": {
   "display_name": "Python 3",
   "language": "python",
   "name": "python3"
  },
  "language_info": {
   "codemirror_mode": {
    "name": "ipython",
    "version": 3
   },
   "file_extension": ".py",
   "mimetype": "text/x-python",
   "name": "python",
   "nbconvert_exporter": "python",
   "pygments_lexer": "ipython3",
   "version": "3.7.6"
  },
  "vscode": {
   "interpreter": {
    "hash": "23bf0724a01b6ea9814e66f76182ea78c0ee849a72ca257c0e116bf83bb4960a"
   }
  }
 },
 "nbformat": 4,
 "nbformat_minor": 2
}
