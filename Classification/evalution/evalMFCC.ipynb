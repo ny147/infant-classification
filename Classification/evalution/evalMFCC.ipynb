{
 "cells": [
  {
   "cell_type": "code",
   "execution_count": 28,
   "metadata": {},
   "outputs": [],
   "source": [
    "import os\n",
    "import librosa, librosa.display\n",
    "import matplotlib.pyplot as plt\n",
    "from pathlib import Path\n",
    "import tensorflow as tf\n",
    "import IPython.display as ipd\n",
    "import numpy as np\n",
    "from sklearn.metrics import confusion_matrix, ConfusionMatrixDisplay\n",
    "from keras.callbacks import ModelCheckpoint\n",
    "from sklearn.metrics import classification_report\n",
    "from sklearn.model_selection import train_test_split\n",
    "import shutil"
   ]
  },
  {
   "cell_type": "code",
   "execution_count": 29,
   "metadata": {},
   "outputs": [],
   "source": [
    "img_height = 432\n",
    "img_width = 288\n",
    "train_directory = './data_eval/img_data/dustan/MFCC_5_class/'\n"
   ]
  },
  {
   "cell_type": "code",
   "execution_count": 30,
   "metadata": {},
   "outputs": [],
   "source": [
    "def dummy(data,numarr):\n",
    "    new_data =[]\n",
    "    for i in data:\n",
    "        lab_data = []\n",
    "        for j in range(0,numarr):\n",
    "            lab_data.append(0)\n",
    "        #lab_data =[0,0]\n",
    "        lab_data[i] = 1\n",
    "        new_data.append(lab_data)\n",
    "    return new_data"
   ]
  },
  {
   "cell_type": "code",
   "execution_count": 31,
   "metadata": {},
   "outputs": [],
   "source": [
    "def create_weight(n_sample,n_class,n_class_sample):\n",
    "    weight = n_sample/(n_class*n_class_sample)\n",
    "    return weight "
   ]
  },
  {
   "cell_type": "code",
   "execution_count": 32,
   "metadata": {},
   "outputs": [],
   "source": [
    "\n",
    "def createdict(num):\n",
    "    lab_data = []\n",
    "    for i in range(0,num):\n",
    "        lab_data.append(i)\n",
    "    dic = dict.fromkeys(lab_data, 0)\n",
    "    return dic"
   ]
  },
  {
   "cell_type": "code",
   "execution_count": 33,
   "metadata": {},
   "outputs": [],
   "source": [
    "def createWeight(class_count,num_classes):\n",
    "    class_weights = createdict(num_classes)\n",
    "    for i in range(num_classes):\n",
    "        class_weights[i]=create_weight(np.sum(class_count),num_classes,class_count[i])\n",
    "    return class_weights"
   ]
  },
  {
   "cell_type": "code",
   "execution_count": 34,
   "metadata": {},
   "outputs": [],
   "source": [
    "def preprocess(data_dir,numclass):\n",
    "    data_ds = tf.keras.preprocessing.image_dataset_from_directory(\n",
    "    data_dir, labels='inferred', label_mode='int', image_size=(432, 288), seed=321,\n",
    "    validation_split=None, subset=None)\n",
    "    class_names = data_ds.class_names\n",
    "    \n",
    "    feature=[]\n",
    "    label=[]\n",
    "    for images, labels in data_ds.unbatch().take(-1):\n",
    "        feature.append(images.numpy())\n",
    "        label.append(labels.numpy())\n",
    "        \n",
    "    feature = np.array(feature)\n",
    "    label = np.array(label)      \n",
    "    \n",
    "    \n",
    "    class_count=[]\n",
    "    for i in range(0,numclass):\n",
    "        class_count.append(np.count_nonzero(label == i))\n",
    "    class_count = np.array(class_count)\n",
    "    label = dummy(label,numclass)\n",
    "    class_weights = createWeight(class_count,numclass)\n",
    "   \n",
    "    \n",
    "    label = np.array(label)\n",
    "    return feature,label,class_weights,class_names\n",
    "    "
   ]
  },
  {
   "cell_type": "code",
   "execution_count": 35,
   "metadata": {},
   "outputs": [
    {
     "name": "stdout",
     "output_type": "stream",
     "text": [
      "Found 180 files belonging to 5 classes.\n"
     ]
    }
   ],
   "source": [
    "feature,label,class_weights,class_names = preprocess(train_directory,5)"
   ]
  },
  {
   "cell_type": "code",
   "execution_count": 36,
   "metadata": {},
   "outputs": [
    {
     "data": {
      "text/plain": [
       "['burping', 'discomfort', 'hungry', 'poop', 'tired']"
      ]
     },
     "execution_count": 36,
     "metadata": {},
     "output_type": "execute_result"
    }
   ],
   "source": [
    "class_names"
   ]
  },
  {
   "cell_type": "code",
   "execution_count": 37,
   "metadata": {},
   "outputs": [],
   "source": [
    "def categories2binary(categories):\n",
    "    binarydata = []\n",
    "    for item in categories:\n",
    "        binarydata.append(item[0])\n",
    "    binarydata=np.array(binarydata)\n",
    "    return(binarydata)"
   ]
  },
  {
   "cell_type": "code",
   "execution_count": 38,
   "metadata": {},
   "outputs": [],
   "source": [
    "def binary2categories(binary):\n",
    "    new_data = []\n",
    "    for i in binary:\n",
    "        lab_data = []\n",
    "        for j in range(0,2):\n",
    "            lab_data.append(0)\n",
    "        if(i>=0.5):\n",
    "            lab_data[1]=1;\n",
    "        elif(i<0.5):\n",
    "            lab_data[0]=1;\n",
    "        new_data.append(lab_data)\n",
    "    new_data = np.array(new_data)\n",
    "    return(new_data)"
   ]
  },
  {
   "cell_type": "code",
   "execution_count": 39,
   "metadata": {},
   "outputs": [
    {
     "name": "stdout",
     "output_type": "stream",
     "text": [
      "Model: \"model_1\"\n",
      "_________________________________________________________________\n",
      " Layer (type)                Output Shape              Param #   \n",
      "=================================================================\n",
      " input_4 (InputLayer)        [(None, 432, 288, 3)]     0         \n",
      "                                                                 \n",
      " resnet50 (Functional)       (None, 14, 9, 2048)       23587712  \n",
      "                                                                 \n",
      " conv2d (Conv2D)             (None, 14, 9, 128)        2359424   \n",
      "                                                                 \n",
      " max_pooling2d_1 (MaxPooling  (None, 7, 4, 128)        0         \n",
      " 2D)                                                             \n",
      "                                                                 \n",
      " flatten_1 (Flatten)         (None, 3584)              0         \n",
      "                                                                 \n",
      " dense_2 (Dense)             (None, 128)               458880    \n",
      "                                                                 \n",
      " dense_3 (Dense)             (None, 5)                 645       \n",
      "                                                                 \n",
      "=================================================================\n",
      "Total params: 26,406,661\n",
      "Trainable params: 2,818,949\n",
      "Non-trainable params: 23,587,712\n",
      "_________________________________________________________________\n"
     ]
    }
   ],
   "source": [
    "split_class_base_model = tf.keras.applications.ResNet50(\n",
    "    weights=\"imagenet\",  # Load weights pre-trained on ImageNet.\n",
    "    input_shape=(img_height, img_width, 3),\n",
    "    include_top=False,\n",
    ") \n",
    "\n",
    "# Freeze the base_model\n",
    "split_class_base_model.trainable = False\n",
    "\n",
    "# Create new model on top\n",
    "\n",
    "inputs = tf.keras.Input(shape=(img_height, img_width, 3))\n",
    "\n",
    "# scale_layer = tf.keras.layers.Rescaling(scale=1./255)\n",
    "x = inputs\n",
    "\n",
    "x = split_class_base_model(x, training=False)\n",
    "\n",
    "x = tf.keras.layers.Conv2D(128, 3, padding='same', activation='relu')(x)          \n",
    "x = tf.keras.layers.MaxPooling2D((2,2))(x)\n",
    "x = tf.keras.layers.Flatten()(x)\n",
    "# x = tf.keras.layers.Dropout(0.2)(x)\n",
    "            \n",
    "# x = tf.keras.layers.GlobalAveragePooling2D()(x)\n",
    "\n",
    "x = tf.keras.layers.Dense(128, activation='relu')(x)\n",
    "\n",
    "# x = tf.keras.layers.Dropout(0.2)(x)  # Regularize with dropout\n",
    "outputs = tf.keras.layers.Dense(5,activation='softmax')(x)\n",
    "split_class_model = tf.keras.Model(inputs, outputs)\n",
    "\n",
    "split_class_model.summary()"
   ]
  },
  {
   "cell_type": "code",
   "execution_count": 40,
   "metadata": {},
   "outputs": [
    {
     "data": {
      "image/png": "[encoded data removed]",
      "text/plain": [
       "<IPython.core.display.Image object>"
      ]
     },
     "execution_count": 40,
     "metadata": {},
     "output_type": "execute_result"
    }
   ],
   "source": [
    "\n",
    "tf.keras.utils.plot_model(split_class_model,to_file=\"model_summary.png\")"
   ]
  },
  {
   "cell_type": "code",
   "execution_count": 41,
   "metadata": {},
   "outputs": [
    {
     "name": "stdout",
     "output_type": "stream",
     "text": [
      "Epoch 1/100\n"
     ]
    },
    {
     "name": "stderr",
     "output_type": "stream",
     "text": [
      "c:\\Users\\acer\\anaconda3\\lib\\site-packages\\tensorflow\\python\\util\\dispatch.py:1082: UserWarning: \"`categorical_crossentropy` received `from_logits=True`, but the `output` argument was produced by a sigmoid or softmax activation and thus does not represent logits. Was this intended?\"\n",
      "  return dispatch_target(*args, **kwargs)\n"
     ]
    },
    {
     "name": "stdout",
     "output_type": "stream",
     "text": [
      "5/5 [==============================] - 37s 7s/step - loss: 8.7703 - accuracy: 0.2986 - val_loss: 2.0544 - val_accuracy: 0.3611\n",
      "Epoch 2/100\n",
      "5/5 [==============================] - 27s 5s/step - loss: 1.2478 - accuracy: 0.5417 - val_loss: 1.1837 - val_accuracy: 0.5278\n",
      "Epoch 3/100\n",
      "5/5 [==============================] - 25s 5s/step - loss: 0.7273 - accuracy: 0.7014 - val_loss: 0.8493 - val_accuracy: 0.6667\n",
      "Epoch 4/100\n",
      "5/5 [==============================] - 26s 5s/step - loss: 0.7778 - accuracy: 0.7153 - val_loss: 1.3418 - val_accuracy: 0.5000\n",
      "Epoch 5/100\n",
      "5/5 [==============================] - 26s 5s/step - loss: 0.4878 - accuracy: 0.7986 - val_loss: 0.6028 - val_accuracy: 0.8333\n",
      "Epoch 6/100\n",
      "5/5 [==============================] - 26s 5s/step - loss: 0.3134 - accuracy: 0.9167 - val_loss: 0.7704 - val_accuracy: 0.6667\n",
      "Epoch 7/100\n",
      "5/5 [==============================] - 26s 5s/step - loss: 0.2035 - accuracy: 0.9583 - val_loss: 0.6756 - val_accuracy: 0.7500\n",
      "Epoch 8/100\n",
      "5/5 [==============================] - 26s 5s/step - loss: 0.1266 - accuracy: 0.9861 - val_loss: 0.6158 - val_accuracy: 0.8611\n",
      "Epoch 9/100\n",
      "5/5 [==============================] - 26s 5s/step - loss: 0.0771 - accuracy: 0.9861 - val_loss: 0.7785 - val_accuracy: 0.6944\n",
      "Epoch 10/100\n",
      "5/5 [==============================] - 26s 5s/step - loss: 0.0545 - accuracy: 0.9861 - val_loss: 0.5950 - val_accuracy: 0.8611\n",
      "Epoch 11/100\n",
      "5/5 [==============================] - 26s 5s/step - loss: 0.0374 - accuracy: 1.0000 - val_loss: 0.7287 - val_accuracy: 0.7778\n",
      "Epoch 12/100\n",
      "5/5 [==============================] - 26s 5s/step - loss: 0.0234 - accuracy: 1.0000 - val_loss: 0.7242 - val_accuracy: 0.7778\n",
      "Epoch 13/100\n",
      "5/5 [==============================] - 26s 5s/step - loss: 0.0144 - accuracy: 1.0000 - val_loss: 0.7175 - val_accuracy: 0.8056\n",
      "Epoch 14/100\n",
      "5/5 [==============================] - 26s 5s/step - loss: 0.0116 - accuracy: 1.0000 - val_loss: 0.7653 - val_accuracy: 0.7778\n",
      "Epoch 15/100\n",
      "5/5 [==============================] - 27s 6s/step - loss: 0.0076 - accuracy: 1.0000 - val_loss: 0.8347 - val_accuracy: 0.7778\n"
     ]
    },
    {
     "data": {
      "image/png": "[encoded data removed]",
      "text/plain": [
       "<Figure size 432x288 with 1 Axes>"
      ]
     },
     "metadata": {
      "needs_background": "light"
     },
     "output_type": "display_data"
    }
   ],
   "source": [
    "\n",
    "loss_fn = tf.keras.losses.loss_fn = tf.keras.losses.CategoricalCrossentropy(from_logits=True)\n",
    "optimizer = tf.keras.optimizers.Adam()# modify weight in Adam\n",
    "metrics = ['accuracy']\n",
    "split_class_model.compile (optimizer = optimizer,loss =  loss_fn,metrics = metrics)\n",
    "callback = tf.keras.callbacks.EarlyStopping(monitor='val_loss', patience=5)\n",
    "epochs = 100\n",
    "history = split_class_model.fit(feature, label, epochs=epochs,validation_split=0.2,callbacks=callback,class_weight = class_weights)\n",
    "\n",
    "plt.plot(history.history['loss'],label = 'loss')\n",
    "plt.plot(history.history['val_loss'],label = 'val_loss')\n",
    "plt.legend()\n",
    "plt.show()\n",
    "\n"
   ]
  },
  {
   "cell_type": "code",
   "execution_count": 42,
   "metadata": {},
   "outputs": [],
   "source": [
    "split_class_model.save('./h5_model/MFCC_model.h5')"
   ]
  },
  {
   "cell_type": "code",
   "execution_count": 43,
   "metadata": {},
   "outputs": [],
   "source": [
    "import shutil\n",
    "from pydub import AudioSegment\n",
    "import time"
   ]
  },
  {
   "cell_type": "code",
   "execution_count": 44,
   "metadata": {},
   "outputs": [],
   "source": [
    "def load_audio(file_path):\n",
    "    waveform, sample_rate = librosa.load(file_path)\n",
    "    return waveform, sample_rate\n",
    "\n",
    "def load_audio_files(path: str, label:str):\n",
    "\n",
    "    dataset = []\n",
    "    walker = sorted(str(p) for p in Path(path).glob(f'*.wav'))\n",
    "    for i, file_path in enumerate(walker):\n",
    "        path, filename = os.path.split(file_path)\n",
    "        # Load audio\n",
    "        waveform, sample_rate = load_audio(file_path)\n",
    "        audio_segment = AudioSegment.from_file(file_path)\n",
    "        dataset.append([waveform, sample_rate,audio_segment])\n",
    "\n",
    "    return dataset\n"
   ]
  },
  {
   "cell_type": "code",
   "execution_count": 45,
   "metadata": {},
   "outputs": [],
   "source": [
    "def mel_spectrogram(waveform,sample,n_fft=2560,hop_length=32):\n",
    "    #fast_fourier_transf = np.fft.fft(waveform)\n",
    "   \n",
    "    audio_stft = librosa.feature.melspectrogram(y=waveform,n_fft=n_fft,hop_length=hop_length,fmin = 20,fmax = sample//2)\n",
    "    log_spectro = librosa.power_to_db(audio_stft)\n",
    "    librosa.display.specshow(log_spectro, sr=sample, x_axis='time', y_axis='mel',cmap = 'magma')\n",
    "    \n",
    "    \n",
    "    return log_spectro"
   ]
  },
  {
   "cell_type": "code",
   "execution_count": 46,
   "metadata": {},
   "outputs": [],
   "source": [
    "def mel_freq(waveform,sample):\n",
    "    mfccs = librosa.feature.mfcc(waveform, sr=sample,dct_type = 2,n_mfcc=100)\n",
    "    # data = librosa.power_to_db(mfccs)\n",
    "    # Displaying  the MFCCs:\n",
    "    librosa.display.specshow(mfccs, sr=sample, x_axis='mel',cmap = 'magma')\n",
    "    return mfccs"
   ]
  },
  {
   "cell_type": "code",
   "execution_count": 47,
   "metadata": {},
   "outputs": [],
   "source": [
    "def create_images(data,typeimg):\n",
    "    # make directory\n",
    "\n",
    "    test_directory = f'./testImgArea/y_label/'\n",
    "\n",
    "    os.makedirs(test_directory, mode=0o777, exist_ok=True)\n",
    "    sample_rate = data[1]\n",
    "    waveform = data[0]\n",
    "    if typeimg == 'mel_spectrogram':\n",
    "        spectrogram = mel_spectrogram(waveform,sample_rate)\n",
    "    elif typeimg == 'mel_freq':\n",
    "        spectrogram = mel_freq(waveform,sample_rate)\n",
    "    librosa.display.specshow(spectrogram,sr=sample_rate, x_axis='time')\n",
    "    plt.axis('off')\n",
    "    plt.savefig(f'./testImgArea/y_label/test_{typeimg}.jpg', bbox_inches=\"tight\", pad_inches = 0)\n",
    "    plt.clf()"
   ]
  },
  {
   "cell_type": "code",
   "execution_count": 48,
   "metadata": {},
   "outputs": [],
   "source": [
    "def getTestData():\n",
    "    \n",
    "    data_ds = tf.keras.preprocessing.image_dataset_from_directory('./testImgArea/', labels='inferred', label_mode='int', image_size=(432, 288), seed=321,validation_split=None, subset=None)\n",
    "    fe=[]\n",
    "    lab=[]\n",
    "    for images, labels in data_ds.unbatch().take(-1):\n",
    "        fe.append(images.numpy())\n",
    "        lab.append(labels.numpy())\n",
    "\n",
    "    return np.array(fe),np.array(lab)"
   ]
  },
  {
   "cell_type": "code",
   "execution_count": 49,
   "metadata": {},
   "outputs": [],
   "source": [
    "predictset= []\n",
    "labelset = []"
   ]
  },
  {
   "cell_type": "code",
   "execution_count": 50,
   "metadata": {},
   "outputs": [],
   "source": [
    "def predict_infant(class_test_data,y_label):\n",
    "    for testobj in class_test_data:\n",
    "        create_images(testobj,typeimg ='mel_freq')\n",
    "        x,y = getTestData()\n",
    "        os.remove('./testImgArea/y_label/test_mel_freq.jpg')\n",
    "        pred = split_class_model.predict(x)\n",
    "        y_pred_class = np.argmax(pred, axis=1)\n",
    "        predictset.append(y_pred_class)\n",
    "        labelset.append(y_label)\n",
    "        plt.clf()\n",
    "    "
   ]
  },
  {
   "cell_type": "code",
   "execution_count": 51,
   "metadata": {},
   "outputs": [],
   "source": [
    "burping_test_data = load_audio_files('./data_eval/sound_data/dustan_baby/test/burpme/', 'burpme')\n",
    "tired_test_data = load_audio_files('./data_eval/sound_data/dustan_baby/test/tired_owh/', 'tired')\n",
    "hungry_test_data = load_audio_files('./data_eval/sound_data/dustan_baby/test/hungry_Nah/', 'hungry')\n",
    "poop_test_data = load_audio_files('./data_eval/sound_data/dustan_baby/test/poop_eairh/', 'poop')\n",
    "discomfort_test_data = load_audio_files('./data_eval/sound_data/dustan_baby/test/uncomfortable_heh/', 'discomfort')"
   ]
  },
  {
   "cell_type": "code",
   "execution_count": 52,
   "metadata": {},
   "outputs": [
    {
     "data": {
      "text/plain": [
       "['burping', 'discomfort', 'hungry', 'poop', 'tired']"
      ]
     },
     "execution_count": 52,
     "metadata": {},
     "output_type": "execute_result"
    }
   ],
   "source": [
    "class_names"
   ]
  },
  {
   "cell_type": "code",
   "execution_count": 53,
   "metadata": {},
   "outputs": [
    {
     "name": "stderr",
     "output_type": "stream",
     "text": [
      "c:\\Users\\acer\\anaconda3\\lib\\site-packages\\ipykernel_launcher.py:2: FutureWarning: Pass y=[ 0.01826506  0.02153401  0.01889604 ... -0.01740496 -0.01061663\n",
      "  0.        ] as keyword args. From version 0.10 passing these as positional arguments will result in an error\n",
      "  \n"
     ]
    },
    {
     "name": "stdout",
     "output_type": "stream",
     "text": [
      "Found 1 files belonging to 1 classes.\n"
     ]
    },
    {
     "name": "stderr",
     "output_type": "stream",
     "text": [
      "c:\\Users\\acer\\anaconda3\\lib\\site-packages\\ipykernel_launcher.py:2: FutureWarning: Pass y=[ 0.00342632  0.00536773 -0.00193395 ... -0.00189459 -0.00193687\n",
      " -0.00111701] as keyword args. From version 0.10 passing these as positional arguments will result in an error\n",
      "  \n"
     ]
    },
    {
     "name": "stdout",
     "output_type": "stream",
     "text": [
      "Found 1 files belonging to 1 classes.\n"
     ]
    },
    {
     "name": "stderr",
     "output_type": "stream",
     "text": [
      "c:\\Users\\acer\\anaconda3\\lib\\site-packages\\ipykernel_launcher.py:2: FutureWarning: Pass y=[-2.22406862e-03 -2.80658191e-04 -1.24698445e-05 ... -6.10173738e-04\n",
      " -1.26449310e-03 -8.37345957e-04] as keyword args. From version 0.10 passing these as positional arguments will result in an error\n",
      "  \n"
     ]
    },
    {
     "name": "stdout",
     "output_type": "stream",
     "text": [
      "Found 1 files belonging to 1 classes.\n"
     ]
    },
    {
     "name": "stderr",
     "output_type": "stream",
     "text": [
      "c:\\Users\\acer\\anaconda3\\lib\\site-packages\\ipykernel_launcher.py:2: FutureWarning: Pass y=[-0.00158096 -0.00058495  0.00041521 ...  0.          0.\n",
      "  0.        ] as keyword args. From version 0.10 passing these as positional arguments will result in an error\n",
      "  \n"
     ]
    },
    {
     "name": "stdout",
     "output_type": "stream",
     "text": [
      "Found 1 files belonging to 1 classes.\n"
     ]
    },
    {
     "name": "stderr",
     "output_type": "stream",
     "text": [
      "c:\\Users\\acer\\anaconda3\\lib\\site-packages\\ipykernel_launcher.py:2: FutureWarning: Pass y=[-7.2082999e-04  1.0061060e-04  6.0616271e-04 ...  2.2113488e-06\n",
      " -3.5017154e-06  2.3880630e-06] as keyword args. From version 0.10 passing these as positional arguments will result in an error\n",
      "  \n"
     ]
    },
    {
     "name": "stdout",
     "output_type": "stream",
     "text": [
      "Found 1 files belonging to 1 classes.\n"
     ]
    },
    {
     "name": "stderr",
     "output_type": "stream",
     "text": [
      "c:\\Users\\acer\\anaconda3\\lib\\site-packages\\ipykernel_launcher.py:2: FutureWarning: Pass y=[-6.6591293e-04 -6.2257306e-05  1.9816967e-04 ...  3.0344967e-03\n",
      "  1.3053697e-03  5.6547532e-04] as keyword args. From version 0.10 passing these as positional arguments will result in an error\n",
      "  \n"
     ]
    },
    {
     "name": "stdout",
     "output_type": "stream",
     "text": [
      "Found 1 files belonging to 1 classes.\n"
     ]
    },
    {
     "name": "stderr",
     "output_type": "stream",
     "text": [
      "c:\\Users\\acer\\anaconda3\\lib\\site-packages\\ipykernel_launcher.py:2: FutureWarning: Pass y=[ 0.00119781 -0.00131018 -0.00325518 ...  0.01092438  0.01495741\n",
      "  0.01029418] as keyword args. From version 0.10 passing these as positional arguments will result in an error\n",
      "  \n"
     ]
    },
    {
     "name": "stdout",
     "output_type": "stream",
     "text": [
      "Found 1 files belonging to 1 classes.\n"
     ]
    },
    {
     "name": "stderr",
     "output_type": "stream",
     "text": [
      "c:\\Users\\acer\\anaconda3\\lib\\site-packages\\ipykernel_launcher.py:2: FutureWarning: Pass y=[-0.00752398 -0.00712848 -0.00551579 ...  0.00132812 -0.0019003\n",
      " -0.00157612] as keyword args. From version 0.10 passing these as positional arguments will result in an error\n",
      "  \n"
     ]
    },
    {
     "name": "stdout",
     "output_type": "stream",
     "text": [
      "Found 1 files belonging to 1 classes.\n"
     ]
    },
    {
     "name": "stderr",
     "output_type": "stream",
     "text": [
      "c:\\Users\\acer\\anaconda3\\lib\\site-packages\\ipykernel_launcher.py:2: FutureWarning: Pass y=[ 2.0982519e-05 -1.2052179e-04 -3.9785878e-05 ... -7.8898756e-04\n",
      " -1.5072785e-03 -1.3643949e-03] as keyword args. From version 0.10 passing these as positional arguments will result in an error\n",
      "  \n"
     ]
    },
    {
     "name": "stdout",
     "output_type": "stream",
     "text": [
      "Found 1 files belonging to 1 classes.\n"
     ]
    },
    {
     "name": "stderr",
     "output_type": "stream",
     "text": [
      "c:\\Users\\acer\\anaconda3\\lib\\site-packages\\ipykernel_launcher.py:2: FutureWarning: Pass y=[ 2.9545579e-05 -4.9479731e-04 -9.9617813e-04 ...  1.4621929e-04\n",
      " -5.8426510e-04 -6.2609575e-04] as keyword args. From version 0.10 passing these as positional arguments will result in an error\n",
      "  \n"
     ]
    },
    {
     "name": "stdout",
     "output_type": "stream",
     "text": [
      "Found 1 files belonging to 1 classes.\n"
     ]
    },
    {
     "name": "stderr",
     "output_type": "stream",
     "text": [
      "c:\\Users\\acer\\anaconda3\\lib\\site-packages\\ipykernel_launcher.py:2: FutureWarning: Pass y=[ 0.000000e+00  0.000000e+00  0.000000e+00 ...  8.304395e-06 -8.036209e-06\n",
      "  2.385550e-06] as keyword args. From version 0.10 passing these as positional arguments will result in an error\n",
      "  \n"
     ]
    },
    {
     "name": "stdout",
     "output_type": "stream",
     "text": [
      "Found 1 files belonging to 1 classes.\n"
     ]
    },
    {
     "name": "stderr",
     "output_type": "stream",
     "text": [
      "c:\\Users\\acer\\anaconda3\\lib\\site-packages\\ipykernel_launcher.py:2: FutureWarning: Pass y=[0.0000000e+00 0.0000000e+00 0.0000000e+00 ... 2.6487282e-05 5.7365134e-05\n",
      " 4.5457244e-05] as keyword args. From version 0.10 passing these as positional arguments will result in an error\n",
      "  \n"
     ]
    },
    {
     "name": "stdout",
     "output_type": "stream",
     "text": [
      "Found 1 files belonging to 1 classes.\n"
     ]
    },
    {
     "name": "stderr",
     "output_type": "stream",
     "text": [
      "c:\\Users\\acer\\anaconda3\\lib\\site-packages\\ipykernel_launcher.py:2: FutureWarning: Pass y=[ 2.1817222e-04  6.6967349e-04  1.2087843e-03 ... -4.8739534e-05\n",
      " -4.8853373e-05 -4.4802127e-06] as keyword args. From version 0.10 passing these as positional arguments will result in an error\n",
      "  \n"
     ]
    },
    {
     "name": "stdout",
     "output_type": "stream",
     "text": [
      "Found 1 files belonging to 1 classes.\n"
     ]
    },
    {
     "name": "stderr",
     "output_type": "stream",
     "text": [
      "c:\\Users\\acer\\anaconda3\\lib\\site-packages\\ipykernel_launcher.py:2: FutureWarning: Pass y=[0. 0. 0. ... 0. 0. 0.] as keyword args. From version 0.10 passing these as positional arguments will result in an error\n",
      "  \n"
     ]
    },
    {
     "name": "stdout",
     "output_type": "stream",
     "text": [
      "Found 1 files belonging to 1 classes.\n"
     ]
    },
    {
     "name": "stderr",
     "output_type": "stream",
     "text": [
      "c:\\Users\\acer\\anaconda3\\lib\\site-packages\\ipykernel_launcher.py:2: FutureWarning: Pass y=[ 8.4612910e-03  1.2294165e-02  1.2405651e-02 ... -1.5273430e-04\n",
      "  1.0270798e-05 -1.2608814e-05] as keyword args. From version 0.10 passing these as positional arguments will result in an error\n",
      "  \n"
     ]
    },
    {
     "name": "stdout",
     "output_type": "stream",
     "text": [
      "Found 1 files belonging to 1 classes.\n"
     ]
    },
    {
     "name": "stderr",
     "output_type": "stream",
     "text": [
      "c:\\Users\\acer\\anaconda3\\lib\\site-packages\\ipykernel_launcher.py:2: FutureWarning: Pass y=[ 0.0013659  -0.00148018 -0.00362076 ...  0.00021674 -0.00020186\n",
      " -0.00037947] as keyword args. From version 0.10 passing these as positional arguments will result in an error\n",
      "  \n"
     ]
    },
    {
     "name": "stdout",
     "output_type": "stream",
     "text": [
      "Found 1 files belonging to 1 classes.\n"
     ]
    },
    {
     "name": "stderr",
     "output_type": "stream",
     "text": [
      "c:\\Users\\acer\\anaconda3\\lib\\site-packages\\ipykernel_launcher.py:2: FutureWarning: Pass y=[ 0.00535197  0.00262586 -0.01136751 ...  0.00023181  0.000245\n",
      " -0.00087051] as keyword args. From version 0.10 passing these as positional arguments will result in an error\n",
      "  \n"
     ]
    },
    {
     "name": "stdout",
     "output_type": "stream",
     "text": [
      "Found 1 files belonging to 1 classes.\n"
     ]
    },
    {
     "name": "stderr",
     "output_type": "stream",
     "text": [
      "c:\\Users\\acer\\anaconda3\\lib\\site-packages\\ipykernel_launcher.py:2: FutureWarning: Pass y=[2.43558825e-04 3.24570428e-04 2.93259400e-05 ... 1.05076724e-04\n",
      " 1.37050811e-04 4.26761835e-05] as keyword args. From version 0.10 passing these as positional arguments will result in an error\n",
      "  \n"
     ]
    },
    {
     "name": "stdout",
     "output_type": "stream",
     "text": [
      "Found 1 files belonging to 1 classes.\n"
     ]
    },
    {
     "name": "stderr",
     "output_type": "stream",
     "text": [
      "c:\\Users\\acer\\anaconda3\\lib\\site-packages\\ipykernel_launcher.py:2: FutureWarning: Pass y=[-5.5798853e-05 -4.8092857e-05 -1.9396152e-04 ... -2.1212539e-04\n",
      " -3.3878576e-04 -1.5401404e-04] as keyword args. From version 0.10 passing these as positional arguments will result in an error\n",
      "  \n"
     ]
    },
    {
     "name": "stdout",
     "output_type": "stream",
     "text": [
      "Found 1 files belonging to 1 classes.\n"
     ]
    },
    {
     "name": "stderr",
     "output_type": "stream",
     "text": [
      "c:\\Users\\acer\\anaconda3\\lib\\site-packages\\ipykernel_launcher.py:2: FutureWarning: Pass y=[-0.00038535 -0.00037327  0.0001367  ...  0.00801643  0.01602553\n",
      "  0.0125422 ] as keyword args. From version 0.10 passing these as positional arguments will result in an error\n",
      "  \n"
     ]
    },
    {
     "name": "stdout",
     "output_type": "stream",
     "text": [
      "Found 1 files belonging to 1 classes.\n"
     ]
    },
    {
     "name": "stderr",
     "output_type": "stream",
     "text": [
      "c:\\Users\\acer\\anaconda3\\lib\\site-packages\\ipykernel_launcher.py:2: FutureWarning: Pass y=[0.00630017 0.00433352 0.00057668 ... 0.07097128 0.07848126 0.05098138] as keyword args. From version 0.10 passing these as positional arguments will result in an error\n",
      "  \n"
     ]
    },
    {
     "name": "stdout",
     "output_type": "stream",
     "text": [
      "Found 1 files belonging to 1 classes.\n"
     ]
    },
    {
     "name": "stderr",
     "output_type": "stream",
     "text": [
      "c:\\Users\\acer\\anaconda3\\lib\\site-packages\\ipykernel_launcher.py:2: FutureWarning: Pass y=[0.         0.         0.         ... 0.00052199 0.0006206  0.0003703 ] as keyword args. From version 0.10 passing these as positional arguments will result in an error\n",
      "  \n"
     ]
    },
    {
     "name": "stdout",
     "output_type": "stream",
     "text": [
      "Found 1 files belonging to 1 classes.\n"
     ]
    },
    {
     "name": "stderr",
     "output_type": "stream",
     "text": [
      "c:\\Users\\acer\\anaconda3\\lib\\site-packages\\ipykernel_launcher.py:2: FutureWarning: Pass y=[ 0.00945313  0.00768792  0.00011147 ... -0.00066999 -0.00058385\n",
      " -0.00035691] as keyword args. From version 0.10 passing these as positional arguments will result in an error\n",
      "  \n"
     ]
    },
    {
     "name": "stdout",
     "output_type": "stream",
     "text": [
      "Found 1 files belonging to 1 classes.\n"
     ]
    },
    {
     "name": "stderr",
     "output_type": "stream",
     "text": [
      "c:\\Users\\acer\\anaconda3\\lib\\site-packages\\ipykernel_launcher.py:2: FutureWarning: Pass y=[0.00604864 0.0039892  0.00109056 ... 0.00040361 0.00037618 0.00027061] as keyword args. From version 0.10 passing these as positional arguments will result in an error\n",
      "  \n"
     ]
    },
    {
     "name": "stdout",
     "output_type": "stream",
     "text": [
      "Found 1 files belonging to 1 classes.\n"
     ]
    },
    {
     "name": "stderr",
     "output_type": "stream",
     "text": [
      "c:\\Users\\acer\\anaconda3\\lib\\site-packages\\ipykernel_launcher.py:2: FutureWarning: Pass y=[ 0.00052588 -0.00023468 -0.00014387 ... -0.00460483 -0.01389482\n",
      " -0.01396289] as keyword args. From version 0.10 passing these as positional arguments will result in an error\n",
      "  \n"
     ]
    },
    {
     "name": "stdout",
     "output_type": "stream",
     "text": [
      "Found 1 files belonging to 1 classes.\n"
     ]
    },
    {
     "name": "stderr",
     "output_type": "stream",
     "text": [
      "c:\\Users\\acer\\anaconda3\\lib\\site-packages\\ipykernel_launcher.py:2: FutureWarning: Pass y=[-0.01109072  0.0026508   0.01566025 ...  0.00808063 -0.00842551\n",
      " -0.00988047] as keyword args. From version 0.10 passing these as positional arguments will result in an error\n",
      "  \n"
     ]
    },
    {
     "name": "stdout",
     "output_type": "stream",
     "text": [
      "Found 1 files belonging to 1 classes.\n"
     ]
    },
    {
     "name": "stderr",
     "output_type": "stream",
     "text": [
      "c:\\Users\\acer\\anaconda3\\lib\\site-packages\\ipykernel_launcher.py:2: FutureWarning: Pass y=[-0.0219384  -0.03610521 -0.04121292 ...  0.00415176 -0.00049871\n",
      " -0.00027296] as keyword args. From version 0.10 passing these as positional arguments will result in an error\n",
      "  \n"
     ]
    },
    {
     "name": "stdout",
     "output_type": "stream",
     "text": [
      "Found 1 files belonging to 1 classes.\n"
     ]
    },
    {
     "name": "stderr",
     "output_type": "stream",
     "text": [
      "c:\\Users\\acer\\anaconda3\\lib\\site-packages\\ipykernel_launcher.py:2: FutureWarning: Pass y=[0.00167727 0.00196662 0.00219803 ... 0.00245697 0.00165155 0.00018538] as keyword args. From version 0.10 passing these as positional arguments will result in an error\n",
      "  \n"
     ]
    },
    {
     "name": "stdout",
     "output_type": "stream",
     "text": [
      "Found 1 files belonging to 1 classes.\n"
     ]
    },
    {
     "name": "stderr",
     "output_type": "stream",
     "text": [
      "c:\\Users\\acer\\anaconda3\\lib\\site-packages\\ipykernel_launcher.py:2: FutureWarning: Pass y=[-3.19347018e-03  1.44778905e-05  5.84236870e-04 ...  7.24603375e-03\n",
      "  4.74215485e-03  0.00000000e+00] as keyword args. From version 0.10 passing these as positional arguments will result in an error\n",
      "  \n"
     ]
    },
    {
     "name": "stdout",
     "output_type": "stream",
     "text": [
      "Found 1 files belonging to 1 classes.\n"
     ]
    },
    {
     "name": "stderr",
     "output_type": "stream",
     "text": [
      "c:\\Users\\acer\\anaconda3\\lib\\site-packages\\ipykernel_launcher.py:2: FutureWarning: Pass y=[0.07763471 0.08898661 0.05047784 ... 0.00486038 0.00106889 0.        ] as keyword args. From version 0.10 passing these as positional arguments will result in an error\n",
      "  \n"
     ]
    },
    {
     "name": "stdout",
     "output_type": "stream",
     "text": [
      "Found 1 files belonging to 1 classes.\n"
     ]
    },
    {
     "name": "stderr",
     "output_type": "stream",
     "text": [
      "c:\\Users\\acer\\anaconda3\\lib\\site-packages\\ipykernel_launcher.py:2: FutureWarning: Pass y=[ 0.00167722 -0.00403281 -0.01083838 ...  0.00197309  0.00179204\n",
      "  0.        ] as keyword args. From version 0.10 passing these as positional arguments will result in an error\n",
      "  \n"
     ]
    },
    {
     "name": "stdout",
     "output_type": "stream",
     "text": [
      "Found 1 files belonging to 1 classes.\n"
     ]
    },
    {
     "name": "stderr",
     "output_type": "stream",
     "text": [
      "c:\\Users\\acer\\anaconda3\\lib\\site-packages\\ipykernel_launcher.py:2: FutureWarning: Pass y=[-0.00957653 -0.00087309  0.00341467 ...  0.00233265  0.00084321\n",
      "  0.00015825] as keyword args. From version 0.10 passing these as positional arguments will result in an error\n",
      "  \n"
     ]
    },
    {
     "name": "stdout",
     "output_type": "stream",
     "text": [
      "Found 1 files belonging to 1 classes.\n"
     ]
    },
    {
     "name": "stderr",
     "output_type": "stream",
     "text": [
      "c:\\Users\\acer\\anaconda3\\lib\\site-packages\\ipykernel_launcher.py:2: FutureWarning: Pass y=[-0.01131302  0.00100288  0.00415186 ...  0.00156032 -0.00115382\n",
      " -0.00261397] as keyword args. From version 0.10 passing these as positional arguments will result in an error\n",
      "  \n"
     ]
    },
    {
     "name": "stdout",
     "output_type": "stream",
     "text": [
      "Found 1 files belonging to 1 classes.\n"
     ]
    },
    {
     "name": "stderr",
     "output_type": "stream",
     "text": [
      "c:\\Users\\acer\\anaconda3\\lib\\site-packages\\ipykernel_launcher.py:2: FutureWarning: Pass y=[ 0.10774724  0.06230866 -0.01584756 ... -0.00020849  0.00226478\n",
      "  0.        ] as keyword args. From version 0.10 passing these as positional arguments will result in an error\n",
      "  \n"
     ]
    },
    {
     "name": "stdout",
     "output_type": "stream",
     "text": [
      "Found 1 files belonging to 1 classes.\n"
     ]
    },
    {
     "name": "stderr",
     "output_type": "stream",
     "text": [
      "c:\\Users\\acer\\anaconda3\\lib\\site-packages\\ipykernel_launcher.py:2: FutureWarning: Pass y=[ 0.02615045  0.03966736  0.0441599  ... -0.00211605 -0.00079206\n",
      "  0.        ] as keyword args. From version 0.10 passing these as positional arguments will result in an error\n",
      "  \n"
     ]
    },
    {
     "name": "stdout",
     "output_type": "stream",
     "text": [
      "Found 1 files belonging to 1 classes.\n"
     ]
    },
    {
     "name": "stderr",
     "output_type": "stream",
     "text": [
      "c:\\Users\\acer\\anaconda3\\lib\\site-packages\\ipykernel_launcher.py:2: FutureWarning: Pass y=[ 0.01936157  0.01840827  0.00508931 ... -0.00188933 -0.00301706\n",
      "  0.        ] as keyword args. From version 0.10 passing these as positional arguments will result in an error\n",
      "  \n"
     ]
    },
    {
     "name": "stdout",
     "output_type": "stream",
     "text": [
      "Found 1 files belonging to 1 classes.\n"
     ]
    },
    {
     "name": "stderr",
     "output_type": "stream",
     "text": [
      "c:\\Users\\acer\\anaconda3\\lib\\site-packages\\ipykernel_launcher.py:2: FutureWarning: Pass y=[0.03334832 0.03737337 0.05838627 ... 0.00760775 0.00983772 0.00656914] as keyword args. From version 0.10 passing these as positional arguments will result in an error\n",
      "  \n"
     ]
    },
    {
     "name": "stdout",
     "output_type": "stream",
     "text": [
      "Found 1 files belonging to 1 classes.\n"
     ]
    },
    {
     "name": "stderr",
     "output_type": "stream",
     "text": [
      "c:\\Users\\acer\\anaconda3\\lib\\site-packages\\ipykernel_launcher.py:2: FutureWarning: Pass y=[-0.00129016  0.00077069 -0.00281001 ... -0.00270263 -0.00225433\n",
      "  0.        ] as keyword args. From version 0.10 passing these as positional arguments will result in an error\n",
      "  \n"
     ]
    },
    {
     "name": "stdout",
     "output_type": "stream",
     "text": [
      "Found 1 files belonging to 1 classes.\n"
     ]
    },
    {
     "name": "stderr",
     "output_type": "stream",
     "text": [
      "c:\\Users\\acer\\anaconda3\\lib\\site-packages\\ipykernel_launcher.py:2: FutureWarning: Pass y=[-0.00399717  0.00125982  0.00081104 ...  0.          0.\n",
      "  0.        ] as keyword args. From version 0.10 passing these as positional arguments will result in an error\n",
      "  \n"
     ]
    },
    {
     "name": "stdout",
     "output_type": "stream",
     "text": [
      "Found 1 files belonging to 1 classes.\n"
     ]
    },
    {
     "name": "stderr",
     "output_type": "stream",
     "text": [
      "c:\\Users\\acer\\anaconda3\\lib\\site-packages\\ipykernel_launcher.py:2: FutureWarning: Pass y=[-0.0979365  -0.11278865 -0.084534   ... -0.00063468 -0.00058066\n",
      " -0.00023474] as keyword args. From version 0.10 passing these as positional arguments will result in an error\n",
      "  \n"
     ]
    },
    {
     "name": "stdout",
     "output_type": "stream",
     "text": [
      "Found 1 files belonging to 1 classes.\n"
     ]
    },
    {
     "name": "stderr",
     "output_type": "stream",
     "text": [
      "c:\\Users\\acer\\anaconda3\\lib\\site-packages\\ipykernel_launcher.py:2: FutureWarning: Pass y=[-0.02463757 -0.02782968 -0.02153574 ... -0.01081211 -0.00922692\n",
      " -0.00578547] as keyword args. From version 0.10 passing these as positional arguments will result in an error\n",
      "  \n"
     ]
    },
    {
     "name": "stdout",
     "output_type": "stream",
     "text": [
      "Found 1 files belonging to 1 classes.\n"
     ]
    },
    {
     "name": "stderr",
     "output_type": "stream",
     "text": [
      "c:\\Users\\acer\\anaconda3\\lib\\site-packages\\ipykernel_launcher.py:2: FutureWarning: Pass y=[-0.02669469 -0.01052689 -0.001286   ...  0.03470214  0.01041044\n",
      "  0.        ] as keyword args. From version 0.10 passing these as positional arguments will result in an error\n",
      "  \n"
     ]
    },
    {
     "name": "stdout",
     "output_type": "stream",
     "text": [
      "Found 1 files belonging to 1 classes.\n"
     ]
    },
    {
     "name": "stderr",
     "output_type": "stream",
     "text": [
      "c:\\Users\\acer\\anaconda3\\lib\\site-packages\\ipykernel_launcher.py:2: FutureWarning: Pass y=[ 3.9800727e-03 -3.6827911e-05 -1.6235712e-03 ... -4.3132924e-03\n",
      " -5.4474017e-03 -3.4463792e-03] as keyword args. From version 0.10 passing these as positional arguments will result in an error\n",
      "  \n"
     ]
    },
    {
     "name": "stdout",
     "output_type": "stream",
     "text": [
      "Found 1 files belonging to 1 classes.\n"
     ]
    },
    {
     "name": "stderr",
     "output_type": "stream",
     "text": [
      "c:\\Users\\acer\\anaconda3\\lib\\site-packages\\ipykernel_launcher.py:2: FutureWarning: Pass y=[-0.00607234  0.01062527  0.00734523 ... -0.01155577 -0.01760191\n",
      "  0.        ] as keyword args. From version 0.10 passing these as positional arguments will result in an error\n",
      "  \n"
     ]
    },
    {
     "name": "stdout",
     "output_type": "stream",
     "text": [
      "Found 1 files belonging to 1 classes.\n"
     ]
    },
    {
     "name": "stderr",
     "output_type": "stream",
     "text": [
      "c:\\Users\\acer\\anaconda3\\lib\\site-packages\\ipykernel_launcher.py:2: FutureWarning: Pass y=[ 0.02317526  0.00584447 -0.02619953 ...  0.00846163  0.00892048\n",
      "  0.00517641] as keyword args. From version 0.10 passing these as positional arguments will result in an error\n",
      "  \n"
     ]
    },
    {
     "name": "stdout",
     "output_type": "stream",
     "text": [
      "Found 1 files belonging to 1 classes.\n",
      "Found 1 files belonging to 1 classes.\n",
      "Found 1 files belonging to 1 classes.\n"
     ]
    },
    {
     "name": "stderr",
     "output_type": "stream",
     "text": [
      "c:\\Users\\acer\\anaconda3\\lib\\site-packages\\ipykernel_launcher.py:2: FutureWarning: Pass y=[-1.4225706e-03  2.7529712e-04  8.6953578e-04 ... -1.2320284e-05\n",
      " -5.5264823e-05  0.0000000e+00] as keyword args. From version 0.10 passing these as positional arguments will result in an error\n",
      "  \n"
     ]
    },
    {
     "name": "stdout",
     "output_type": "stream",
     "text": [
      "Found 1 files belonging to 1 classes.\n"
     ]
    },
    {
     "data": {
      "text/plain": [
       "<Figure size 432x288 with 0 Axes>"
      ]
     },
     "metadata": {},
     "output_type": "display_data"
    }
   ],
   "source": [
    "predict_infant(discomfort_test_data,1)\n",
    "predict_infant(hungry_test_data,2)\n",
    "predict_infant(tired_test_data,4)\n",
    "predict_infant(burping_test_data,0)\n",
    "predict_infant(poop_test_data,3)"
   ]
  },
  {
   "cell_type": "code",
   "execution_count": 54,
   "metadata": {},
   "outputs": [
    {
     "name": "stdout",
     "output_type": "stream",
     "text": [
      "              precision    recall  f1-score   support\n",
      "\n",
      "           0       1.00      0.92      0.96        12\n",
      "           1       0.83      0.71      0.77         7\n",
      "           2       0.64      0.88      0.74         8\n",
      "           3       0.82      0.90      0.86        10\n",
      "           4       0.89      0.73      0.80        11\n",
      "\n",
      "    accuracy                           0.83        48\n",
      "   macro avg       0.84      0.83      0.82        48\n",
      "weighted avg       0.85      0.83      0.84        48\n",
      "\n"
     ]
    },
    {
     "data": {
      "image/png": "[encoded data removed]",
      "text/plain": [
       "<Figure size 432x288 with 2 Axes>"
      ]
     },
     "metadata": {
      "needs_background": "light"
     },
     "output_type": "display_data"
    }
   ],
   "source": [
    "\n",
    "cm = confusion_matrix(labelset, predictset)\n",
    "\n",
    "disp = ConfusionMatrixDisplay(confusion_matrix=cm,display_labels = class_names)\n",
    "disp.plot()\n",
    "plt.show\n",
    "\n",
    "from sklearn.metrics import classification_report\n",
    "print(classification_report(labelset, predictset))"
   ]
  },
  {
   "cell_type": "code",
   "execution_count": null,
   "metadata": {},
   "outputs": [],
   "source": []
  }
 ],
 "metadata": {
  "kernelspec": {
   "display_name": "base",
   "language": "python",
   "name": "python3"
  },
  "language_info": {
   "codemirror_mode": {
    "name": "ipython",
    "version": 3
   },
   "file_extension": ".py",
   "mimetype": "text/x-python",
   "name": "python",
   "nbconvert_exporter": "python",
   "pygments_lexer": "ipython3",
   "version": "3.7.6"
  },
  "vscode": {
   "interpreter": {
    "hash": "23bf0724a01b6ea9814e66f76182ea78c0ee849a72ca257c0e116bf83bb4960a"
   }
  }
 },
 "nbformat": 4,
 "nbformat_minor": 2
}
