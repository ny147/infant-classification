{
 "cells": [
  {
   "cell_type": "code",
   "execution_count": 28,
   "metadata": {},
   "outputs": [],
   "source": [
    "import os\n",
    "import librosa, librosa.display\n",
    "import matplotlib.pyplot as plt\n",
    "from pathlib import Path\n",
    "import tensorflow as tf\n",
    "import IPython.display as ipd\n",
    "import numpy as np\n",
    "from sklearn.metrics import confusion_matrix, ConfusionMatrixDisplay\n",
    "from keras.callbacks import ModelCheckpoint\n",
    "from sklearn.metrics import classification_report\n",
    "from sklearn.model_selection import train_test_split\n",
    "import shutil"
   ]
  },
  {
   "cell_type": "code",
   "execution_count": 29,
   "metadata": {},
   "outputs": [],
   "source": [
    "img_height = 432\n",
    "img_width = 288\n",
    "train_directory = './data_eval/img_data/dustan/MFCC_5_class/'\n"
   ]
  },
  {
   "cell_type": "code",
   "execution_count": 30,
   "metadata": {},
   "outputs": [],
   "source": [
    "def dummy(data,numarr):\n",
    "    new_data =[]\n",
    "    for i in data:\n",
    "        lab_data = []\n",
    "        for j in range(0,numarr):\n",
    "            lab_data.append(0)\n",
    "        #lab_data =[0,0]\n",
    "        lab_data[i] = 1\n",
    "        new_data.append(lab_data)\n",
    "    return new_data"
   ]
  },
  {
   "cell_type": "code",
   "execution_count": 31,
   "metadata": {},
   "outputs": [],
   "source": [
    "def create_weight(n_sample,n_class,n_class_sample):\n",
    "    weight = n_sample/(n_class*n_class_sample)\n",
    "    return weight "
   ]
  },
  {
   "cell_type": "code",
   "execution_count": 32,
   "metadata": {},
   "outputs": [],
   "source": [
    "\n",
    "def createdict(num):\n",
    "    lab_data = []\n",
    "    for i in range(0,num):\n",
    "        lab_data.append(i)\n",
    "    dic = dict.fromkeys(lab_data, 0)\n",
    "    return dic"
   ]
  },
  {
   "cell_type": "code",
   "execution_count": 33,
   "metadata": {},
   "outputs": [],
   "source": [
    "def createWeight(class_count,num_classes):\n",
    "    class_weights = createdict(num_classes)\n",
    "    for i in range(num_classes):\n",
    "        class_weights[i]=create_weight(np.sum(class_count),num_classes,class_count[i])\n",
    "    return class_weights"
   ]
  },
  {
   "cell_type": "code",
   "execution_count": 34,
   "metadata": {},
   "outputs": [],
   "source": [
    "def preprocess(data_dir,numclass):\n",
    "    data_ds = tf.keras.preprocessing.image_dataset_from_directory(\n",
    "    data_dir, labels='inferred', label_mode='int', image_size=(432, 288), seed=321,\n",
    "    validation_split=None, subset=None)\n",
    "    class_names = data_ds.class_names\n",
    "    \n",
    "    feature=[]\n",
    "    label=[]\n",
    "    for images, labels in data_ds.unbatch().take(-1):\n",
    "        feature.append(images.numpy())\n",
    "        label.append(labels.numpy())\n",
    "        \n",
    "    feature = np.array(feature)\n",
    "    label = np.array(label)      \n",
    "    \n",
    "    \n",
    "    class_count=[]\n",
    "    for i in range(0,numclass):\n",
    "        class_count.append(np.count_nonzero(label == i))\n",
    "    class_count = np.array(class_count)\n",
    "    label = dummy(label,numclass)\n",
    "    class_weights = createWeight(class_count,numclass)\n",
    "   \n",
    "    \n",
    "    label = np.array(label)\n",
    "    return feature,label,class_weights,class_names\n",
    "    "
   ]
  },
  {
   "cell_type": "code",
   "execution_count": 35,
   "metadata": {},
   "outputs": [
    {
     "name": "stdout",
     "output_type": "stream",
     "text": [
      "Found 180 files belonging to 5 classes.\n"
     ]
    }
   ],
   "source": [
    "feature,label,class_weights,class_names = preprocess(train_directory,5)"
   ]
  },
  {
   "cell_type": "code",
   "execution_count": 36,
   "metadata": {},
   "outputs": [
    {
     "data": {
      "text/plain": [
       "['burping', 'discomfort', 'hungry', 'poop', 'tired']"
      ]
     },
     "execution_count": 36,
     "metadata": {},
     "output_type": "execute_result"
    }
   ],
   "source": [
    "class_names"
   ]
  },
  {
   "cell_type": "code",
   "execution_count": 37,
   "metadata": {},
   "outputs": [],
   "source": [
    "def categories2binary(categories):\n",
    "    binarydata = []\n",
    "    for item in categories:\n",
    "        binarydata.append(item[0])\n",
    "    binarydata=np.array(binarydata)\n",
    "    return(binarydata)"
   ]
  },
  {
   "cell_type": "code",
   "execution_count": 38,
   "metadata": {},
   "outputs": [],
   "source": [
    "def binary2categories(binary):\n",
    "    new_data = []\n",
    "    for i in binary:\n",
    "        lab_data = []\n",
    "        for j in range(0,2):\n",
    "            lab_data.append(0)\n",
    "        if(i>=0.5):\n",
    "            lab_data[1]=1;\n",
    "        elif(i<0.5):\n",
    "            lab_data[0]=1;\n",
    "        new_data.append(lab_data)\n",
    "    new_data = np.array(new_data)\n",
    "    return(new_data)"
   ]
  },
  {
   "cell_type": "code",
   "execution_count": 39,
   "metadata": {},
   "outputs": [
    {
     "name": "stdout",
     "output_type": "stream",
     "text": [
      "Model: \"model_1\"\n",
      "_________________________________________________________________\n",
      " Layer (type)                Output Shape              Param #   \n",
      "=================================================================\n",
      " input_4 (InputLayer)        [(None, 432, 288, 3)]     0         \n",
      "                                                                 \n",
      " resnet50 (Functional)       (None, 14, 9, 2048)       23587712  \n",
      "                                                                 \n",
      " conv2d_1 (Conv2D)           (None, 14, 9, 128)        2359424   \n",
      "                                                                 \n",
      " max_pooling2d_1 (MaxPooling  (None, 7, 4, 128)        0         \n",
      " 2D)                                                             \n",
      "                                                                 \n",
      " flatten_1 (Flatten)         (None, 3584)              0         \n",
      "                                                                 \n",
      " dense_2 (Dense)             (None, 128)               458880    \n",
      "                                                                 \n",
      " dense_3 (Dense)             (None, 5)                 645       \n",
      "                                                                 \n",
      "=================================================================\n",
      "Total params: 26,406,661\n",
      "Trainable params: 2,818,949\n",
      "Non-trainable params: 23,587,712\n",
      "_________________________________________________________________\n"
     ]
    }
   ],
   "source": [
    "split_class_base_model = tf.keras.applications.ResNet50(\n",
    "    weights=\"imagenet\",  # Load weights pre-trained on ImageNet.\n",
    "    input_shape=(img_height, img_width, 3),\n",
    "    include_top=False,\n",
    ") \n",
    "\n",
    "# Freeze the base_model\n",
    "split_class_base_model.trainable = False\n",
    "\n",
    "# Create new model on top\n",
    "\n",
    "inputs = tf.keras.Input(shape=(img_height, img_width, 3))\n",
    "\n",
    "# scale_layer = tf.keras.layers.Rescaling(scale=1./255)\n",
    "x = inputs\n",
    "\n",
    "x = split_class_base_model(x, training=False)\n",
    "\n",
    "x = tf.keras.layers.Conv2D(128, 3, padding='same', activation='relu')(x)          \n",
    "x = tf.keras.layers.MaxPooling2D((2,2))(x)\n",
    "\n",
    "# x = tf.keras.layers.Conv2D(64, 3, padding='same', activation='relu')(x)          \n",
    "# x = tf.keras.layers.MaxPooling2D((2,2))(x)\n",
    "\n",
    "x = tf.keras.layers.Flatten()(x)\n",
    "# x = tf.keras.layers.Dropout(0.2)(x)\n",
    "            \n",
    "# x = tf.keras.layers.GlobalAveragePooling2D()(x)\n",
    "\n",
    "x = tf.keras.layers.Dense(128, activation='relu')(x)\n",
    "\n",
    "# x = tf.keras.layers.Dropout(0.2)(x)  # Regularize with dropout\n",
    "outputs = tf.keras.layers.Dense(5,activation='softmax')(x)\n",
    "split_class_model = tf.keras.Model(inputs, outputs)\n",
    "\n",
    "split_class_model.summary()"
   ]
  },
  {
   "cell_type": "code",
   "execution_count": 40,
   "metadata": {},
   "outputs": [
    {
     "data": {
      "image/png": "[encoded data removed]",
      "text/plain": [
       "<IPython.core.display.Image object>"
      ]
     },
     "execution_count": 40,
     "metadata": {},
     "output_type": "execute_result"
    }
   ],
   "source": [
    "\n",
    "tf.keras.utils.plot_model(split_class_model,to_file=\"MFCC_summary.png\")"
   ]
  },
  {
   "cell_type": "code",
   "execution_count": 41,
   "metadata": {},
   "outputs": [
    {
     "name": "stdout",
     "output_type": "stream",
     "text": [
      "Epoch 1/100\n"
     ]
    },
    {
     "name": "stderr",
     "output_type": "stream",
     "text": [
      "c:\\Users\\acer\\anaconda3\\lib\\site-packages\\tensorflow\\python\\util\\dispatch.py:1082: UserWarning: \"`categorical_crossentropy` received `from_logits=True`, but the `output` argument was produced by a sigmoid or softmax activation and thus does not represent logits. Was this intended?\"\n",
      "  return dispatch_target(*args, **kwargs)\n"
     ]
    },
    {
     "name": "stdout",
     "output_type": "stream",
     "text": [
      "5/5 [==============================] - 35s 7s/step - loss: 8.9763 - accuracy: 0.2639 - val_loss: 3.6375 - val_accuracy: 0.2778\n",
      "Epoch 2/100\n",
      "5/5 [==============================] - 32s 7s/step - loss: 1.6269 - accuracy: 0.4097 - val_loss: 1.2455 - val_accuracy: 0.5556\n",
      "Epoch 3/100\n",
      "5/5 [==============================] - 31s 6s/step - loss: 1.1214 - accuracy: 0.5625 - val_loss: 1.1593 - val_accuracy: 0.5556\n",
      "Epoch 4/100\n",
      "5/5 [==============================] - 30s 6s/step - loss: 0.7524 - accuracy: 0.8194 - val_loss: 0.8754 - val_accuracy: 0.6111\n",
      "Epoch 5/100\n",
      "5/5 [==============================] - 30s 6s/step - loss: 0.5098 - accuracy: 0.8194 - val_loss: 0.7824 - val_accuracy: 0.6944\n",
      "Epoch 6/100\n",
      "5/5 [==============================] - 33s 7s/step - loss: 0.3265 - accuracy: 0.8472 - val_loss: 0.9329 - val_accuracy: 0.6389\n",
      "Epoch 7/100\n",
      "5/5 [==============================] - 34s 7s/step - loss: 0.1693 - accuracy: 0.9583 - val_loss: 0.7573 - val_accuracy: 0.7222\n",
      "Epoch 8/100\n",
      "5/5 [==============================] - 34s 7s/step - loss: 0.0913 - accuracy: 0.9861 - val_loss: 0.7851 - val_accuracy: 0.7500\n",
      "Epoch 9/100\n",
      "5/5 [==============================] - 34s 7s/step - loss: 0.0435 - accuracy: 1.0000 - val_loss: 0.9305 - val_accuracy: 0.7500\n",
      "Epoch 10/100\n",
      "5/5 [==============================] - 40s 8s/step - loss: 0.0196 - accuracy: 1.0000 - val_loss: 0.9100 - val_accuracy: 0.7222\n",
      "Epoch 11/100\n",
      "5/5 [==============================] - 39s 8s/step - loss: 0.0132 - accuracy: 1.0000 - val_loss: 0.8671 - val_accuracy: 0.7778\n",
      "Epoch 12/100\n",
      "5/5 [==============================] - 40s 8s/step - loss: 0.0075 - accuracy: 1.0000 - val_loss: 0.8525 - val_accuracy: 0.7778\n"
     ]
    },
    {
     "data": {
      "image/png": "[encoded data removed]",
      "text/plain": [
       "<Figure size 432x288 with 1 Axes>"
      ]
     },
     "metadata": {
      "needs_background": "light"
     },
     "output_type": "display_data"
    }
   ],
   "source": [
    "\n",
    "loss_fn = tf.keras.losses.loss_fn = tf.keras.losses.CategoricalCrossentropy(from_logits=True)\n",
    "optimizer = tf.keras.optimizers.Adam()# modify weight in Adam\n",
    "metrics = ['accuracy']\n",
    "split_class_model.compile (optimizer = optimizer,loss =  loss_fn,metrics = metrics)\n",
    "callback = tf.keras.callbacks.EarlyStopping(monitor='val_loss', patience=5)\n",
    "epochs = 100\n",
    "history = split_class_model.fit(feature, label, epochs=epochs,validation_split=0.2,callbacks=callback,class_weight = class_weights)\n",
    "\n",
    "plt.plot(history.history['loss'],label = 'loss')\n",
    "plt.plot(history.history['val_loss'],label = 'val_loss')\n",
    "plt.legend()\n",
    "plt.show()\n",
    "\n"
   ]
  },
  {
   "cell_type": "code",
   "execution_count": 42,
   "metadata": {},
   "outputs": [],
   "source": [
    "split_class_model.save('./h5_model/MFCC_model.h5')"
   ]
  },
  {
   "cell_type": "code",
   "execution_count": 43,
   "metadata": {},
   "outputs": [],
   "source": [
    "import shutil\n",
    "from pydub import AudioSegment\n",
    "import time"
   ]
  },
  {
   "cell_type": "code",
   "execution_count": 44,
   "metadata": {},
   "outputs": [],
   "source": [
    "def load_audio(file_path):\n",
    "    waveform, sample_rate = librosa.load(file_path,sr = 22050)\n",
    "    db = 25\n",
    "    waveform_trim ,dur= librosa.effects.trim(waveform, top_db=db )\n",
    "    return waveform_trim, sample_rate\n",
    "\n",
    "def load_audio_files(path: str, label:str):\n",
    "\n",
    "    dataset = []\n",
    "    walker = sorted(str(p) for p in Path(path).glob(f'*.wav'))\n",
    "    for i, file_path in enumerate(walker):\n",
    "        path, filename = os.path.split(file_path)\n",
    "        # Load audio\n",
    "        waveform, sample_rate = load_audio(file_path)\n",
    "        audio_segment = AudioSegment.from_file(file_path)\n",
    "        dataset.append([waveform, sample_rate,audio_segment])\n",
    "\n",
    "    return dataset\n"
   ]
  },
  {
   "cell_type": "code",
   "execution_count": 45,
   "metadata": {},
   "outputs": [],
   "source": [
    "def mel_spectrogram(waveform,sample,n_fft=2560,hop_length=32):\n",
    "    #fast_fourier_transf = np.fft.fft(waveform)\n",
    "   \n",
    "    audio_stft = librosa.feature.melspectrogram(y=waveform,n_fft=n_fft,hop_length=hop_length,fmin = 20,fmax = sample//2)\n",
    "    log_spectro = librosa.power_to_db(audio_stft)\n",
    "    librosa.display.specshow(log_spectro, sr=sample, x_axis='time', y_axis='mel',cmap = 'magma')\n",
    "    \n",
    "    \n",
    "    return log_spectro"
   ]
  },
  {
   "cell_type": "code",
   "execution_count": 46,
   "metadata": {},
   "outputs": [],
   "source": [
    "def mel_freq(waveform,sample):\n",
    "    mfccs = librosa.feature.mfcc(waveform, sr=sample,dct_type = 2,n_mfcc=100)\n",
    "    # data = librosa.power_to_db(mfccs)\n",
    "    # Displaying  the MFCCs:\n",
    "    librosa.display.specshow(mfccs, sr=sample, x_axis='mel',cmap = 'magma')\n",
    "    return mfccs"
   ]
  },
  {
   "cell_type": "code",
   "execution_count": 47,
   "metadata": {},
   "outputs": [],
   "source": [
    "def create_images(data,typeimg):\n",
    "    # make directory\n",
    "\n",
    "    test_directory = f'./testImgArea/y_label/'\n",
    "\n",
    "    os.makedirs(test_directory, mode=0o777, exist_ok=True)\n",
    "    sample_rate = data[1]\n",
    "    waveform = data[0]\n",
    "    if typeimg == 'mel_spectrogram':\n",
    "        spectrogram = mel_spectrogram(waveform,sample_rate)\n",
    "    elif typeimg == 'mel_freq':\n",
    "        spectrogram = mel_freq(waveform,sample_rate)\n",
    "    librosa.display.specshow(spectrogram,sr=sample_rate, x_axis='time')\n",
    "    plt.axis('off')\n",
    "    plt.savefig(f'./testImgArea/y_label/test_{typeimg}.jpg', bbox_inches=\"tight\", pad_inches = 0)\n",
    "    plt.clf()"
   ]
  },
  {
   "cell_type": "code",
   "execution_count": 48,
   "metadata": {},
   "outputs": [],
   "source": [
    "def getTestData():\n",
    "    \n",
    "    data_ds = tf.keras.preprocessing.image_dataset_from_directory('./testImgArea/', labels='inferred', label_mode='int', image_size=(432, 288), seed=321,validation_split=None, subset=None)\n",
    "    fe=[]\n",
    "    lab=[]\n",
    "    for images, labels in data_ds.unbatch().take(-1):\n",
    "        fe.append(images.numpy())\n",
    "        lab.append(labels.numpy())\n",
    "\n",
    "    return np.array(fe),np.array(lab)"
   ]
  },
  {
   "cell_type": "code",
   "execution_count": 49,
   "metadata": {},
   "outputs": [],
   "source": [
    "predictset= []\n",
    "labelset = []"
   ]
  },
  {
   "cell_type": "code",
   "execution_count": 50,
   "metadata": {},
   "outputs": [],
   "source": [
    "def predict_infant(class_test_data,y_label):\n",
    "    for testobj in class_test_data:\n",
    "        create_images(testobj,typeimg ='mel_freq')\n",
    "        x,y = getTestData()\n",
    "        os.remove('./testImgArea/y_label/test_mel_freq.jpg')\n",
    "        pred = split_class_model.predict(x)\n",
    "        y_pred_class = np.argmax(pred, axis=1)\n",
    "        predictset.append(y_pred_class)\n",
    "        labelset.append(y_label)\n",
    "        plt.clf()\n",
    "    "
   ]
  },
  {
   "cell_type": "code",
   "execution_count": 51,
   "metadata": {},
   "outputs": [],
   "source": [
    "burping_test_data = load_audio_files('./data_eval/sound_data/dustan_baby/test/burpme/', 'burpme')\n",
    "tired_test_data = load_audio_files('./data_eval/sound_data/dustan_baby/test/tired_owh/', 'tired')\n",
    "hungry_test_data = load_audio_files('./data_eval/sound_data/dustan_baby/test/hungry_Nah/', 'hungry')\n",
    "poop_test_data = load_audio_files('./data_eval/sound_data/dustan_baby/test/poop_eairh/', 'poop')\n",
    "discomfort_test_data = load_audio_files('./data_eval/sound_data/dustan_baby/test/uncomfortable_heh/', 'discomfort')"
   ]
  },
  {
   "cell_type": "code",
   "execution_count": 52,
   "metadata": {},
   "outputs": [
    {
     "data": {
      "text/plain": [
       "['burping', 'discomfort', 'hungry', 'poop', 'tired']"
      ]
     },
     "execution_count": 52,
     "metadata": {},
     "output_type": "execute_result"
    }
   ],
   "source": [
    "class_names"
   ]
  },
  {
   "cell_type": "code",
   "execution_count": 53,
   "metadata": {},
   "outputs": [
    {
     "name": "stderr",
     "output_type": "stream",
     "text": [
      "c:\\Users\\acer\\anaconda3\\lib\\site-packages\\ipykernel_launcher.py:2: FutureWarning: Pass y=[ 0.01826506  0.02153401  0.01889604 ... -0.01740496 -0.01061663\n",
      "  0.        ] as keyword args. From version 0.10 passing these as positional arguments will result in an error\n",
      "  \n"
     ]
    },
    {
     "name": "stdout",
     "output_type": "stream",
     "text": [
      "Found 1 files belonging to 1 classes.\n"
     ]
    },
    {
     "name": "stderr",
     "output_type": "stream",
     "text": [
      "c:\\Users\\acer\\anaconda3\\lib\\site-packages\\ipykernel_launcher.py:2: FutureWarning: Pass y=[ 0.00342632  0.00536773 -0.00193395 ...  0.00047707  0.00219316\n",
      "  0.00394482] as keyword args. From version 0.10 passing these as positional arguments will result in an error\n",
      "  \n"
     ]
    },
    {
     "name": "stdout",
     "output_type": "stream",
     "text": [
      "Found 1 files belonging to 1 classes.\n"
     ]
    },
    {
     "name": "stderr",
     "output_type": "stream",
     "text": [
      "c:\\Users\\acer\\anaconda3\\lib\\site-packages\\ipykernel_launcher.py:2: FutureWarning: Pass y=[-0.00533542 -0.00450428 -0.00195421 ...  0.00066271  0.00122513\n",
      "  0.00067073] as keyword args. From version 0.10 passing these as positional arguments will result in an error\n",
      "  \n"
     ]
    },
    {
     "name": "stdout",
     "output_type": "stream",
     "text": [
      "Found 1 files belonging to 1 classes.\n"
     ]
    },
    {
     "name": "stderr",
     "output_type": "stream",
     "text": [
      "c:\\Users\\acer\\anaconda3\\lib\\site-packages\\ipykernel_launcher.py:2: FutureWarning: Pass y=[0.00051223 0.00065542 0.00034378 ... 0.00010843 0.00022392 0.00026938] as keyword args. From version 0.10 passing these as positional arguments will result in an error\n",
      "  \n"
     ]
    },
    {
     "name": "stdout",
     "output_type": "stream",
     "text": [
      "Found 1 files belonging to 1 classes.\n"
     ]
    },
    {
     "name": "stderr",
     "output_type": "stream",
     "text": [
      "c:\\Users\\acer\\anaconda3\\lib\\site-packages\\ipykernel_launcher.py:2: FutureWarning: Pass y=[-0.00077229 -0.00075771 -0.00197309 ... -0.00066959 -0.00077434\n",
      " -0.00078254] as keyword args. From version 0.10 passing these as positional arguments will result in an error\n",
      "  \n"
     ]
    },
    {
     "name": "stdout",
     "output_type": "stream",
     "text": [
      "Found 1 files belonging to 1 classes.\n"
     ]
    },
    {
     "name": "stderr",
     "output_type": "stream",
     "text": [
      "c:\\Users\\acer\\anaconda3\\lib\\site-packages\\ipykernel_launcher.py:2: FutureWarning: Pass y=[ 8.9395646e-05  9.7876895e-05  3.4661632e-04 ...  1.2500018e-04\n",
      " -1.8707130e-04 -5.6594674e-04] as keyword args. From version 0.10 passing these as positional arguments will result in an error\n",
      "  \n"
     ]
    },
    {
     "name": "stdout",
     "output_type": "stream",
     "text": [
      "Found 1 files belonging to 1 classes.\n"
     ]
    },
    {
     "name": "stderr",
     "output_type": "stream",
     "text": [
      "c:\\Users\\acer\\anaconda3\\lib\\site-packages\\ipykernel_launcher.py:2: FutureWarning: Pass y=[ 0.00119781 -0.00131018 -0.00325518 ...  0.01092438  0.01495741\n",
      "  0.01029418] as keyword args. From version 0.10 passing these as positional arguments will result in an error\n",
      "  \n"
     ]
    },
    {
     "name": "stdout",
     "output_type": "stream",
     "text": [
      "Found 1 files belonging to 1 classes.\n"
     ]
    },
    {
     "name": "stderr",
     "output_type": "stream",
     "text": [
      "c:\\Users\\acer\\anaconda3\\lib\\site-packages\\ipykernel_launcher.py:2: FutureWarning: Pass y=[-0.00752398 -0.00712848 -0.00551579 ...  0.00132812 -0.0019003\n",
      " -0.00157612] as keyword args. From version 0.10 passing these as positional arguments will result in an error\n",
      "  \n"
     ]
    },
    {
     "name": "stdout",
     "output_type": "stream",
     "text": [
      "Found 1 files belonging to 1 classes.\n"
     ]
    },
    {
     "name": "stderr",
     "output_type": "stream",
     "text": [
      "c:\\Users\\acer\\anaconda3\\lib\\site-packages\\ipykernel_launcher.py:2: FutureWarning: Pass y=[6.3888765e-05 2.7682693e-04 5.4626272e-04 ... 2.7947893e-04 5.7629102e-05\n",
      " 2.8901477e-05] as keyword args. From version 0.10 passing these as positional arguments will result in an error\n",
      "  \n"
     ]
    },
    {
     "name": "stdout",
     "output_type": "stream",
     "text": [
      "Found 1 files belonging to 1 classes.\n"
     ]
    },
    {
     "name": "stderr",
     "output_type": "stream",
     "text": [
      "c:\\Users\\acer\\anaconda3\\lib\\site-packages\\ipykernel_launcher.py:2: FutureWarning: Pass y=[0.00190108 0.00136521 0.0011091  ... 0.00093895 0.00099542 0.00116496] as keyword args. From version 0.10 passing these as positional arguments will result in an error\n",
      "  \n"
     ]
    },
    {
     "name": "stdout",
     "output_type": "stream",
     "text": [
      "Found 1 files belonging to 1 classes.\n"
     ]
    },
    {
     "name": "stderr",
     "output_type": "stream",
     "text": [
      "c:\\Users\\acer\\anaconda3\\lib\\site-packages\\ipykernel_launcher.py:2: FutureWarning: Pass y=[ 0.00054127  0.00035595  0.00024522 ... -0.00264289 -0.00240916\n",
      " -0.00150718] as keyword args. From version 0.10 passing these as positional arguments will result in an error\n",
      "  \n"
     ]
    },
    {
     "name": "stdout",
     "output_type": "stream",
     "text": [
      "Found 1 files belonging to 1 classes.\n"
     ]
    },
    {
     "name": "stderr",
     "output_type": "stream",
     "text": [
      "c:\\Users\\acer\\anaconda3\\lib\\site-packages\\ipykernel_launcher.py:2: FutureWarning: Pass y=[ 3.0328252e-04  6.7626483e-05  7.0150127e-06 ... -1.0413176e-03\n",
      " -2.8031422e-03 -2.3333458e-03] as keyword args. From version 0.10 passing these as positional arguments will result in an error\n",
      "  \n"
     ]
    },
    {
     "name": "stdout",
     "output_type": "stream",
     "text": [
      "Found 1 files belonging to 1 classes.\n"
     ]
    },
    {
     "name": "stderr",
     "output_type": "stream",
     "text": [
      "c:\\Users\\acer\\anaconda3\\lib\\site-packages\\ipykernel_launcher.py:2: FutureWarning: Pass y=[-0.01210185 -0.01278236 -0.0109854  ... -0.00143238 -0.00151271\n",
      " -0.00154686] as keyword args. From version 0.10 passing these as positional arguments will result in an error\n",
      "  \n"
     ]
    },
    {
     "name": "stdout",
     "output_type": "stream",
     "text": [
      "Found 1 files belonging to 1 classes.\n"
     ]
    },
    {
     "name": "stderr",
     "output_type": "stream",
     "text": [
      "c:\\Users\\acer\\anaconda3\\lib\\site-packages\\ipykernel_launcher.py:2: FutureWarning: Pass y=[0.00235252 0.00203691 0.0014051  ... 0.00068335 0.00110976 0.00132515] as keyword args. From version 0.10 passing these as positional arguments will result in an error\n",
      "  \n"
     ]
    },
    {
     "name": "stdout",
     "output_type": "stream",
     "text": [
      "Found 1 files belonging to 1 classes.\n"
     ]
    },
    {
     "name": "stderr",
     "output_type": "stream",
     "text": [
      "c:\\Users\\acer\\anaconda3\\lib\\site-packages\\ipykernel_launcher.py:2: FutureWarning: Pass y=[-7.3913607e-06  2.3051079e-04  2.6325788e-04 ... -1.0286467e-03\n",
      " -1.0352125e-03 -1.0457125e-03] as keyword args. From version 0.10 passing these as positional arguments will result in an error\n",
      "  \n"
     ]
    },
    {
     "name": "stdout",
     "output_type": "stream",
     "text": [
      "Found 1 files belonging to 1 classes.\n"
     ]
    },
    {
     "name": "stderr",
     "output_type": "stream",
     "text": [
      "c:\\Users\\acer\\anaconda3\\lib\\site-packages\\ipykernel_launcher.py:2: FutureWarning: Pass y=[-0.00270072 -0.0037167   0.00029665 ... -0.00079038 -0.00107162\n",
      " -0.00047432] as keyword args. From version 0.10 passing these as positional arguments will result in an error\n",
      "  \n"
     ]
    },
    {
     "name": "stdout",
     "output_type": "stream",
     "text": [
      "Found 1 files belonging to 1 classes.\n"
     ]
    },
    {
     "name": "stderr",
     "output_type": "stream",
     "text": [
      "c:\\Users\\acer\\anaconda3\\lib\\site-packages\\ipykernel_launcher.py:2: FutureWarning: Pass y=[ 0.00535197  0.00262586 -0.01136751 ... -0.00364399  0.0010479\n",
      "  0.00239942] as keyword args. From version 0.10 passing these as positional arguments will result in an error\n",
      "  \n"
     ]
    },
    {
     "name": "stdout",
     "output_type": "stream",
     "text": [
      "Found 1 files belonging to 1 classes.\n"
     ]
    },
    {
     "name": "stderr",
     "output_type": "stream",
     "text": [
      "c:\\Users\\acer\\anaconda3\\lib\\site-packages\\ipykernel_launcher.py:2: FutureWarning: Pass y=[-3.2649207e-04 -1.4347811e-06  5.4683018e-04 ... -2.2241389e-04\n",
      "  4.7066243e-04  9.3994412e-04] as keyword args. From version 0.10 passing these as positional arguments will result in an error\n",
      "  \n"
     ]
    },
    {
     "name": "stdout",
     "output_type": "stream",
     "text": [
      "Found 1 files belonging to 1 classes.\n"
     ]
    },
    {
     "name": "stderr",
     "output_type": "stream",
     "text": [
      "c:\\Users\\acer\\anaconda3\\lib\\site-packages\\ipykernel_launcher.py:2: FutureWarning: Pass y=[0.00020535 0.00049277 0.00045475 ... 0.00085174 0.00069436 0.0006522 ] as keyword args. From version 0.10 passing these as positional arguments will result in an error\n",
      "  \n"
     ]
    },
    {
     "name": "stdout",
     "output_type": "stream",
     "text": [
      "Found 1 files belonging to 1 classes.\n"
     ]
    },
    {
     "name": "stderr",
     "output_type": "stream",
     "text": [
      "c:\\Users\\acer\\anaconda3\\lib\\site-packages\\ipykernel_launcher.py:2: FutureWarning: Pass y=[-1.0082852e-04 -1.3850023e-04 -5.1192263e-05 ...  8.0164326e-03\n",
      "  1.6025526e-02  1.2542203e-02] as keyword args. From version 0.10 passing these as positional arguments will result in an error\n",
      "  \n"
     ]
    },
    {
     "name": "stdout",
     "output_type": "stream",
     "text": [
      "Found 1 files belonging to 1 classes.\n"
     ]
    },
    {
     "name": "stderr",
     "output_type": "stream",
     "text": [
      "c:\\Users\\acer\\anaconda3\\lib\\site-packages\\ipykernel_launcher.py:2: FutureWarning: Pass y=[-0.00085633 -0.0014991  -0.00217886 ...  0.07097128  0.07848126\n",
      "  0.05098138] as keyword args. From version 0.10 passing these as positional arguments will result in an error\n",
      "  \n"
     ]
    },
    {
     "name": "stdout",
     "output_type": "stream",
     "text": [
      "Found 1 files belonging to 1 classes.\n"
     ]
    },
    {
     "name": "stderr",
     "output_type": "stream",
     "text": [
      "c:\\Users\\acer\\anaconda3\\lib\\site-packages\\ipykernel_launcher.py:2: FutureWarning: Pass y=[-0.00341626 -0.00449997 -0.00494636 ... -0.00100651 -0.0013335\n",
      " -0.0011585 ] as keyword args. From version 0.10 passing these as positional arguments will result in an error\n",
      "  \n"
     ]
    },
    {
     "name": "stdout",
     "output_type": "stream",
     "text": [
      "Found 1 files belonging to 1 classes.\n"
     ]
    },
    {
     "name": "stderr",
     "output_type": "stream",
     "text": [
      "c:\\Users\\acer\\anaconda3\\lib\\site-packages\\ipykernel_launcher.py:2: FutureWarning: Pass y=[ 0.00945313  0.00768792  0.00011147 ... -0.00261802 -0.00344049\n",
      " -0.00300081] as keyword args. From version 0.10 passing these as positional arguments will result in an error\n",
      "  \n"
     ]
    },
    {
     "name": "stdout",
     "output_type": "stream",
     "text": [
      "Found 1 files belonging to 1 classes.\n"
     ]
    },
    {
     "name": "stderr",
     "output_type": "stream",
     "text": [
      "c:\\Users\\acer\\anaconda3\\lib\\site-packages\\ipykernel_launcher.py:2: FutureWarning: Pass y=[9.2590541e-05 4.4177484e-04 3.3313566e-04 ... 4.0361387e-04 3.7618354e-04\n",
      " 2.7061216e-04] as keyword args. From version 0.10 passing these as positional arguments will result in an error\n",
      "  \n"
     ]
    },
    {
     "name": "stdout",
     "output_type": "stream",
     "text": [
      "Found 1 files belonging to 1 classes.\n"
     ]
    },
    {
     "name": "stderr",
     "output_type": "stream",
     "text": [
      "c:\\Users\\acer\\anaconda3\\lib\\site-packages\\ipykernel_launcher.py:2: FutureWarning: Pass y=[-0.00023671 -0.00035348 -0.00024374 ... -0.00460483 -0.01389482\n",
      " -0.01396289] as keyword args. From version 0.10 passing these as positional arguments will result in an error\n",
      "  \n"
     ]
    },
    {
     "name": "stdout",
     "output_type": "stream",
     "text": [
      "Found 1 files belonging to 1 classes.\n"
     ]
    },
    {
     "name": "stderr",
     "output_type": "stream",
     "text": [
      "c:\\Users\\acer\\anaconda3\\lib\\site-packages\\ipykernel_launcher.py:2: FutureWarning: Pass y=[-0.01109072  0.0026508   0.01566025 ...  0.00808063 -0.00842551\n",
      " -0.00988047] as keyword args. From version 0.10 passing these as positional arguments will result in an error\n",
      "  \n"
     ]
    },
    {
     "name": "stdout",
     "output_type": "stream",
     "text": [
      "Found 1 files belonging to 1 classes.\n"
     ]
    },
    {
     "name": "stderr",
     "output_type": "stream",
     "text": [
      "c:\\Users\\acer\\anaconda3\\lib\\site-packages\\ipykernel_launcher.py:2: FutureWarning: Pass y=[-0.0219384  -0.03610521 -0.04121292 ...  0.00415176 -0.00049871\n",
      " -0.00027296] as keyword args. From version 0.10 passing these as positional arguments will result in an error\n",
      "  \n"
     ]
    },
    {
     "name": "stdout",
     "output_type": "stream",
     "text": [
      "Found 1 files belonging to 1 classes.\n"
     ]
    },
    {
     "name": "stderr",
     "output_type": "stream",
     "text": [
      "c:\\Users\\acer\\anaconda3\\lib\\site-packages\\ipykernel_launcher.py:2: FutureWarning: Pass y=[0.00167727 0.00196662 0.00219803 ... 0.00245697 0.00165155 0.00018538] as keyword args. From version 0.10 passing these as positional arguments will result in an error\n",
      "  \n"
     ]
    },
    {
     "name": "stdout",
     "output_type": "stream",
     "text": [
      "Found 1 files belonging to 1 classes.\n"
     ]
    },
    {
     "name": "stderr",
     "output_type": "stream",
     "text": [
      "c:\\Users\\acer\\anaconda3\\lib\\site-packages\\ipykernel_launcher.py:2: FutureWarning: Pass y=[-3.19347018e-03  1.44778905e-05  5.84236870e-04 ...  7.24603375e-03\n",
      "  4.74215485e-03  0.00000000e+00] as keyword args. From version 0.10 passing these as positional arguments will result in an error\n",
      "  \n"
     ]
    },
    {
     "name": "stdout",
     "output_type": "stream",
     "text": [
      "Found 1 files belonging to 1 classes.\n"
     ]
    },
    {
     "name": "stderr",
     "output_type": "stream",
     "text": [
      "c:\\Users\\acer\\anaconda3\\lib\\site-packages\\ipykernel_launcher.py:2: FutureWarning: Pass y=[0.07763471 0.08898661 0.05047784 ... 0.00486038 0.00106889 0.        ] as keyword args. From version 0.10 passing these as positional arguments will result in an error\n",
      "  \n"
     ]
    },
    {
     "name": "stdout",
     "output_type": "stream",
     "text": [
      "Found 1 files belonging to 1 classes.\n"
     ]
    },
    {
     "name": "stderr",
     "output_type": "stream",
     "text": [
      "c:\\Users\\acer\\anaconda3\\lib\\site-packages\\ipykernel_launcher.py:2: FutureWarning: Pass y=[ 0.00167722 -0.00403281 -0.01083838 ...  0.00197309  0.00179204\n",
      "  0.        ] as keyword args. From version 0.10 passing these as positional arguments will result in an error\n",
      "  \n"
     ]
    },
    {
     "name": "stdout",
     "output_type": "stream",
     "text": [
      "Found 1 files belonging to 1 classes.\n"
     ]
    },
    {
     "name": "stderr",
     "output_type": "stream",
     "text": [
      "c:\\Users\\acer\\anaconda3\\lib\\site-packages\\ipykernel_launcher.py:2: FutureWarning: Pass y=[-0.00957653 -0.00087309  0.00341467 ...  0.00233265  0.00084321\n",
      "  0.00015825] as keyword args. From version 0.10 passing these as positional arguments will result in an error\n",
      "  \n"
     ]
    },
    {
     "name": "stdout",
     "output_type": "stream",
     "text": [
      "Found 1 files belonging to 1 classes.\n"
     ]
    },
    {
     "name": "stderr",
     "output_type": "stream",
     "text": [
      "c:\\Users\\acer\\anaconda3\\lib\\site-packages\\ipykernel_launcher.py:2: FutureWarning: Pass y=[-0.01131302  0.00100288  0.00415186 ...  0.00156032 -0.00115382\n",
      " -0.00261397] as keyword args. From version 0.10 passing these as positional arguments will result in an error\n",
      "  \n"
     ]
    },
    {
     "name": "stdout",
     "output_type": "stream",
     "text": [
      "Found 1 files belonging to 1 classes.\n"
     ]
    },
    {
     "name": "stderr",
     "output_type": "stream",
     "text": [
      "c:\\Users\\acer\\anaconda3\\lib\\site-packages\\ipykernel_launcher.py:2: FutureWarning: Pass y=[ 0.10774724  0.06230866 -0.01584756 ... -0.00020849  0.00226478\n",
      "  0.        ] as keyword args. From version 0.10 passing these as positional arguments will result in an error\n",
      "  \n"
     ]
    },
    {
     "name": "stdout",
     "output_type": "stream",
     "text": [
      "Found 1 files belonging to 1 classes.\n"
     ]
    },
    {
     "name": "stderr",
     "output_type": "stream",
     "text": [
      "c:\\Users\\acer\\anaconda3\\lib\\site-packages\\ipykernel_launcher.py:2: FutureWarning: Pass y=[ 0.02615045  0.03966736  0.0441599  ... -0.00211605 -0.00079206\n",
      "  0.        ] as keyword args. From version 0.10 passing these as positional arguments will result in an error\n",
      "  \n"
     ]
    },
    {
     "name": "stdout",
     "output_type": "stream",
     "text": [
      "Found 1 files belonging to 1 classes.\n"
     ]
    },
    {
     "name": "stderr",
     "output_type": "stream",
     "text": [
      "c:\\Users\\acer\\anaconda3\\lib\\site-packages\\ipykernel_launcher.py:2: FutureWarning: Pass y=[ 0.01936157  0.01840827  0.00508931 ... -0.00188933 -0.00301706\n",
      "  0.        ] as keyword args. From version 0.10 passing these as positional arguments will result in an error\n",
      "  \n"
     ]
    },
    {
     "name": "stdout",
     "output_type": "stream",
     "text": [
      "Found 1 files belonging to 1 classes.\n"
     ]
    },
    {
     "name": "stderr",
     "output_type": "stream",
     "text": [
      "c:\\Users\\acer\\anaconda3\\lib\\site-packages\\ipykernel_launcher.py:2: FutureWarning: Pass y=[0.03334832 0.03737337 0.05838627 ... 0.00760775 0.00983772 0.00656914] as keyword args. From version 0.10 passing these as positional arguments will result in an error\n",
      "  \n"
     ]
    },
    {
     "name": "stdout",
     "output_type": "stream",
     "text": [
      "Found 1 files belonging to 1 classes.\n"
     ]
    },
    {
     "name": "stderr",
     "output_type": "stream",
     "text": [
      "c:\\Users\\acer\\anaconda3\\lib\\site-packages\\ipykernel_launcher.py:2: FutureWarning: Pass y=[-0.00129016  0.00077069 -0.00281001 ... -0.00270263 -0.00225433\n",
      "  0.        ] as keyword args. From version 0.10 passing these as positional arguments will result in an error\n",
      "  \n"
     ]
    },
    {
     "name": "stdout",
     "output_type": "stream",
     "text": [
      "Found 1 files belonging to 1 classes.\n"
     ]
    },
    {
     "name": "stderr",
     "output_type": "stream",
     "text": [
      "c:\\Users\\acer\\anaconda3\\lib\\site-packages\\ipykernel_launcher.py:2: FutureWarning: Pass y=[-3.9971666e-03  1.2598158e-03  8.1103755e-04 ... -7.4453324e-05\n",
      "  4.3400894e-03  3.3122436e-03] as keyword args. From version 0.10 passing these as positional arguments will result in an error\n",
      "  \n"
     ]
    },
    {
     "name": "stdout",
     "output_type": "stream",
     "text": [
      "Found 1 files belonging to 1 classes.\n"
     ]
    },
    {
     "name": "stderr",
     "output_type": "stream",
     "text": [
      "c:\\Users\\acer\\anaconda3\\lib\\site-packages\\ipykernel_launcher.py:2: FutureWarning: Pass y=[-0.0979365  -0.11278865 -0.084534   ... -0.01043341 -0.00863358\n",
      " -0.00734482] as keyword args. From version 0.10 passing these as positional arguments will result in an error\n",
      "  \n"
     ]
    },
    {
     "name": "stdout",
     "output_type": "stream",
     "text": [
      "Found 1 files belonging to 1 classes.\n"
     ]
    },
    {
     "name": "stderr",
     "output_type": "stream",
     "text": [
      "c:\\Users\\acer\\anaconda3\\lib\\site-packages\\ipykernel_launcher.py:2: FutureWarning: Pass y=[-0.02463757 -0.02782968 -0.02153574 ... -0.01081211 -0.00922692\n",
      " -0.00578547] as keyword args. From version 0.10 passing these as positional arguments will result in an error\n",
      "  \n"
     ]
    },
    {
     "name": "stdout",
     "output_type": "stream",
     "text": [
      "Found 1 files belonging to 1 classes.\n"
     ]
    },
    {
     "name": "stderr",
     "output_type": "stream",
     "text": [
      "c:\\Users\\acer\\anaconda3\\lib\\site-packages\\ipykernel_launcher.py:2: FutureWarning: Pass y=[-0.02669469 -0.01052689 -0.001286   ...  0.03470214  0.01041044\n",
      "  0.        ] as keyword args. From version 0.10 passing these as positional arguments will result in an error\n",
      "  \n"
     ]
    },
    {
     "name": "stdout",
     "output_type": "stream",
     "text": [
      "Found 1 files belonging to 1 classes.\n"
     ]
    },
    {
     "name": "stderr",
     "output_type": "stream",
     "text": [
      "c:\\Users\\acer\\anaconda3\\lib\\site-packages\\ipykernel_launcher.py:2: FutureWarning: Pass y=[ 3.9800727e-03 -3.6827911e-05 -1.6235712e-03 ... -4.3132924e-03\n",
      " -5.4474017e-03 -3.4463792e-03] as keyword args. From version 0.10 passing these as positional arguments will result in an error\n",
      "  \n"
     ]
    },
    {
     "name": "stdout",
     "output_type": "stream",
     "text": [
      "Found 1 files belonging to 1 classes.\n"
     ]
    },
    {
     "name": "stderr",
     "output_type": "stream",
     "text": [
      "c:\\Users\\acer\\anaconda3\\lib\\site-packages\\ipykernel_launcher.py:2: FutureWarning: Pass y=[-0.00607688 -0.00502304 -0.00937014 ... -0.01155577 -0.01760191\n",
      "  0.        ] as keyword args. From version 0.10 passing these as positional arguments will result in an error\n",
      "  \n"
     ]
    },
    {
     "name": "stdout",
     "output_type": "stream",
     "text": [
      "Found 1 files belonging to 1 classes.\n"
     ]
    },
    {
     "name": "stderr",
     "output_type": "stream",
     "text": [
      "c:\\Users\\acer\\anaconda3\\lib\\site-packages\\ipykernel_launcher.py:2: FutureWarning: Pass y=[ 0.02317526  0.00584447 -0.02619953 ...  0.00846163  0.00892048\n",
      "  0.00517641] as keyword args. From version 0.10 passing these as positional arguments will result in an error\n",
      "  \n"
     ]
    },
    {
     "name": "stdout",
     "output_type": "stream",
     "text": [
      "Found 1 files belonging to 1 classes.\n",
      "Found 1 files belonging to 1 classes.\n",
      "Found 1 files belonging to 1 classes.\n"
     ]
    },
    {
     "name": "stderr",
     "output_type": "stream",
     "text": [
      "c:\\Users\\acer\\anaconda3\\lib\\site-packages\\ipykernel_launcher.py:2: FutureWarning: Pass y=[-0.00142257  0.0002753   0.00086954 ... -0.00068239 -0.00114518\n",
      " -0.00127747] as keyword args. From version 0.10 passing these as positional arguments will result in an error\n",
      "  \n"
     ]
    },
    {
     "name": "stdout",
     "output_type": "stream",
     "text": [
      "Found 1 files belonging to 1 classes.\n"
     ]
    },
    {
     "data": {
      "text/plain": [
       "<Figure size 432x288 with 0 Axes>"
      ]
     },
     "metadata": {},
     "output_type": "display_data"
    }
   ],
   "source": [
    "predict_infant(discomfort_test_data,1)\n",
    "predict_infant(hungry_test_data,2)\n",
    "predict_infant(tired_test_data,4)\n",
    "predict_infant(burping_test_data,0)\n",
    "predict_infant(poop_test_data,3)"
   ]
  },
  {
   "cell_type": "code",
   "execution_count": 54,
   "metadata": {},
   "outputs": [
    {
     "name": "stdout",
     "output_type": "stream",
     "text": [
      "              precision    recall  f1-score   support\n",
      "\n",
      "           0       1.00      1.00      1.00        12\n",
      "           1       0.86      0.86      0.86         7\n",
      "           2       0.75      0.75      0.75         8\n",
      "           3       1.00      1.00      1.00        10\n",
      "           4       0.91      0.91      0.91        11\n",
      "\n",
      "    accuracy                           0.92        48\n",
      "   macro avg       0.90      0.90      0.90        48\n",
      "weighted avg       0.92      0.92      0.92        48\n",
      "\n"
     ]
    },
    {
     "data": {
      "image/png": "[encoded data removed]",
      "text/plain": [
       "<Figure size 432x288 with 2 Axes>"
      ]
     },
     "metadata": {
      "needs_background": "light"
     },
     "output_type": "display_data"
    }
   ],
   "source": [
    "\n",
    "cm = confusion_matrix(labelset, predictset)\n",
    "\n",
    "disp = ConfusionMatrixDisplay(confusion_matrix=cm,display_labels = class_names)\n",
    "disp.plot()\n",
    "plt.show\n",
    "\n",
    "from sklearn.metrics import classification_report\n",
    "print(classification_report(labelset, predictset))"
   ]
  },
  {
   "cell_type": "code",
   "execution_count": null,
   "metadata": {},
   "outputs": [],
   "source": []
  },
  {
   "cell_type": "code",
   "execution_count": null,
   "metadata": {},
   "outputs": [],
   "source": [
    "+"
   ]
  }
 ],
 "metadata": {
  "kernelspec": {
   "display_name": "base",
   "language": "python",
   "name": "python3"
  },
  "language_info": {
   "codemirror_mode": {
    "name": "ipython",
    "version": 3
   },
   "file_extension": ".py",
   "mimetype": "text/x-python",
   "name": "python",
   "nbconvert_exporter": "python",
   "pygments_lexer": "ipython3",
   "version": "3.7.6"
  },
  "vscode": {
   "interpreter": {
    "hash": "23bf0724a01b6ea9814e66f76182ea78c0ee849a72ca257c0e116bf83bb4960a"
   }
  }
 },
 "nbformat": 4,
 "nbformat_minor": 2
}
