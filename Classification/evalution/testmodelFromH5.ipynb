{
 "cells": [
  {
   "cell_type": "code",
   "execution_count": 57,
   "metadata": {},
   "outputs": [],
   "source": [
    "from keras.models import load_model\n",
    "import os\n",
    "import librosa, librosa.display\n",
    "import matplotlib.pyplot as plt\n",
    "from pathlib import Path\n",
    "import tensorflow as tf\n",
    "import IPython.display as ipd\n",
    "import numpy as np\n",
    "from sklearn.metrics import confusion_matrix, ConfusionMatrixDisplay\n",
    "from keras.callbacks import ModelCheckpoint\n",
    "from sklearn.metrics import classification_report\n",
    "from sklearn.model_selection import train_test_split\n",
    "import shutil\n",
    "from pydub import AudioSegment\n",
    "import time"
   ]
  },
  {
   "cell_type": "code",
   "execution_count": 58,
   "metadata": {},
   "outputs": [],
   "source": [
    "class_names = ['burping', 'discomfort', 'hungry', 'poop', 'tired']"
   ]
  },
  {
   "cell_type": "code",
   "execution_count": 59,
   "metadata": {},
   "outputs": [],
   "source": [
    "model = load_model('./h5_model/mel_model.h5')"
   ]
  },
  {
   "cell_type": "code",
   "execution_count": 60,
   "metadata": {},
   "outputs": [],
   "source": [
    "def load_audio(file_path):\n",
    "    waveform, sample_rate = librosa.load(file_path,sr= 16000)\n",
    "    db = 25\n",
    "    waveform_trim ,dur= librosa.effects.trim(waveform, top_db=db )\n",
    "    return waveform_trim, sample_rate\n",
    "\n",
    "def load_audio_files(path: str, label:str):\n",
    "\n",
    "    dataset = []\n",
    "    walker = sorted(str(p) for p in Path(path).glob(f'*.wav'))\n",
    "    for i, file_path in enumerate(walker):\n",
    "        path, filename = os.path.split(file_path)\n",
    "        # Load audio\n",
    "        waveform, sample_rate = load_audio(file_path)\n",
    "        audio_segment = AudioSegment.from_file(file_path)\n",
    "        dataset.append([waveform, sample_rate,audio_segment])\n",
    "\n",
    "    return dataset\n"
   ]
  },
  {
   "cell_type": "code",
   "execution_count": 61,
   "metadata": {},
   "outputs": [],
   "source": [
    "def mel_spectrogram(waveform,sample,n_fft=2560,hop_length=32):\n",
    "    #fast_fourier_transf = np.fft.fft(waveform)\n",
    "   \n",
    "    audio_stft = librosa.feature.melspectrogram(y=waveform,n_fft=n_fft,hop_length=hop_length,fmin = 20,fmax = sample//2)\n",
    "    log_spectro = librosa.power_to_db(audio_stft)\n",
    "    librosa.display.specshow(log_spectro, sr=sample, x_axis='time', y_axis='mel',cmap = 'magma')\n",
    "    \n",
    "    \n",
    "    return log_spectro"
   ]
  },
  {
   "cell_type": "code",
   "execution_count": 62,
   "metadata": {},
   "outputs": [],
   "source": [
    "def mel_freq(waveform,sample):\n",
    "    mfccs = librosa.feature.mfcc(waveform, sr=sample,dct_type = 2,n_mfcc=100)\n",
    "    # data = librosa.power_to_db(mfccs)\n",
    "    # Displaying  the MFCCs:\n",
    "    librosa.display.specshow(mfccs, sr=sample, x_axis='mel',cmap = 'magma')\n",
    "    return mfccs"
   ]
  },
  {
   "cell_type": "code",
   "execution_count": 63,
   "metadata": {},
   "outputs": [],
   "source": [
    "def create_images(data,typeimg):\n",
    "    # make directory\n",
    "\n",
    "    test_directory = f'./testImgArea/y_label/'\n",
    "\n",
    "    os.makedirs(test_directory, mode=0o777, exist_ok=True)\n",
    "    sample_rate = data[1]\n",
    "    waveform = data[0]\n",
    "    if typeimg == 'mel_spectrogram':\n",
    "        spectrogram = mel_spectrogram(waveform,sample_rate)\n",
    "    elif typeimg == 'mel_freq':\n",
    "        spectrogram = mel_freq(waveform,sample_rate)\n",
    "    librosa.display.specshow(spectrogram,sr=sample_rate, x_axis='time')\n",
    "    plt.axis('off')\n",
    "    plt.savefig(f'./testImgArea/y_label/test_{typeimg}.jpg', bbox_inches=\"tight\", pad_inches = 0)\n",
    "    plt.clf()"
   ]
  },
  {
   "cell_type": "code",
   "execution_count": 64,
   "metadata": {},
   "outputs": [],
   "source": [
    "def getTestData():\n",
    "    \n",
    "    data_ds = tf.keras.preprocessing.image_dataset_from_directory('./testImgArea/', labels='inferred', label_mode='int', image_size=(432, 288), seed=321,validation_split=None, subset=None)\n",
    "    fe=[]\n",
    "    lab=[]\n",
    "    for images, labels in data_ds.unbatch().take(-1):\n",
    "        fe.append(images.numpy())\n",
    "        lab.append(labels.numpy())\n",
    "\n",
    "    return np.array(fe),np.array(lab)"
   ]
  },
  {
   "cell_type": "code",
   "execution_count": 72,
   "metadata": {},
   "outputs": [],
   "source": [
    "predictset= []\n",
    "labelset = []"
   ]
  },
  {
   "cell_type": "code",
   "execution_count": 73,
   "metadata": {},
   "outputs": [],
   "source": [
    "split_class_model = load_model('./h5_model/split_class_model.h5')\n",
    "burpAndPoop_model = load_model('./h5_model/burpAndPoop.h5')\n",
    "HungryTiredAndDiscomfort_model = load_model('./h5_model/HungryTiredAndDiscomfort.h5')"
   ]
  },
  {
   "cell_type": "code",
   "execution_count": 81,
   "metadata": {},
   "outputs": [],
   "source": [
    "def predict_infant(class_test_data,y_label):\n",
    "    for testobj in class_test_data:\n",
    "        create_images(testobj,typeimg ='mel_spectrogram')\n",
    "        x,y = getTestData()\n",
    "        # time.sleep(10)\n",
    "        os.remove('./testImgArea/y_label/test_mel_spectrogram.jpg')\n",
    "        pred = model.predict(x)\n",
    "        y_pred_class = np.argmax(pred, axis=1)\n",
    "        predictset.append(y_pred_class)\n",
    "        labelset.append(y_label)\n",
    "        plt.clf()\n",
    "        \n",
    "# def predict_infant(class_test_data,y_label):\n",
    "#     for testobj in class_test_data:\n",
    "#         create_images(testobj,typeimg ='mel_spectrogram')\n",
    "        \n",
    "#         x_mel,y = getTestData()\n",
    "#         os.remove('./testImgArea/y_label/test_mel_spectrogram.jpg')\n",
    "#         create_images(testobj,typeimg ='mel_freq')\n",
    "#         x_mfcc,y = getTestData()\n",
    "#         os.remove('./testImgArea/y_label/test_mel_freq.jpg')\n",
    "#         pred = model.predict(x=[x_mel,x_mfcc])\n",
    "#         y_pred_class = np.argmax(pred, axis=1)\n",
    "#         predictset.append(y_pred_class)\n",
    "#         labelset.append(y_label)\n",
    "#         plt.clf()\n",
    "\n",
    "# def predict_infant(class_test_data,y_label):\n",
    "#     for testobj in class_test_data:\n",
    "#         create_images(testobj,typeimg ='mel_freq')\n",
    "#         x,y = getTestData()\n",
    "\n",
    "#         os.remove('./testImgArea/y_label/test_mel_freq.jpg')\n",
    "#         # x = np.array(x)\n",
    "\n",
    "#         pred = split_class_model.predict(x)\n",
    "#         y_pred_splittype = np.argmax(pred, axis=1)\n",
    "#         create_images(testobj,typeimg ='mel_spectrogram')\n",
    "#         x,y = getTestData()\n",
    "#         # x = np.array(x)\n",
    "#         time.sleep(10)\n",
    "#         os.remove('./testImgArea/y_label/test_mel_spectrogram.jpg')\n",
    "#         if y_pred_splittype == 1:\n",
    "#             pred = burpAndPoop_model.predict(x)\n",
    "#             y_pred_class = np.argmax(pred, axis=1)\n",
    "#             y_pred_class = y_pred_class+3\n",
    "#         else :\n",
    "#             pred = HungryTiredAndDiscomfort_model.predict(x)\n",
    "#             y_pred_class = np.argmax(pred, axis=1)\n",
    "           \n",
    "#             # y = y+2\n",
    "#         predictset.append(y_pred_class)\n",
    "#         labelset.append(y_label)\n",
    "    "
   ]
  },
  {
   "cell_type": "code",
   "execution_count": 82,
   "metadata": {},
   "outputs": [],
   "source": [
    "burping_test_data = load_audio_files('./data_eval/sound_data/Unseen_data/burpme/', 'burpme')\n",
    "tired_test_data = load_audio_files('./data_eval/sound_data/Unseen_data/tired_owh/', 'tired')\n",
    "hungry_test_data = load_audio_files('./data_eval/sound_data/Unseen_data/hungry_Nah/', 'hungry')\n",
    "poop_test_data = load_audio_files('./data_eval/sound_data/Unseen_data/poop_eairh/', 'poop')\n",
    "discomfort_test_data = load_audio_files('./data_eval/sound_data/Unseen_data/uncomfortable_heh/', 'discomfort')"
   ]
  },
  {
   "cell_type": "code",
   "execution_count": 83,
   "metadata": {},
   "outputs": [],
   "source": [
    "# 3 model only\n",
    "# class_names= ['discomfort', 'hungry', 'tired', 'burping', 'poop']\n",
    "# predict_infant(discomfort_test_data,0)\n",
    "# predict_infant(hungry_test_data,1)\n",
    "# predict_infant(tired_test_data,2)\n",
    "# predict_infant(burping_test_data,3)\n",
    "# predict_infant(poop_test_data,4)"
   ]
  },
  {
   "cell_type": "code",
   "execution_count": 84,
   "metadata": {},
   "outputs": [
    {
     "name": "stdout",
     "output_type": "stream",
     "text": [
      "Found 1 files belonging to 1 classes.\n",
      "Found 1 files belonging to 1 classes.\n",
      "Found 1 files belonging to 1 classes.\n",
      "Found 1 files belonging to 1 classes.\n",
      "Found 1 files belonging to 1 classes.\n",
      "Found 1 files belonging to 1 classes.\n"
     ]
    },
    {
     "ename": "KeyboardInterrupt",
     "evalue": "",
     "output_type": "error",
     "traceback": [
      "\u001b[1;31m---------------------------------------------------------------------------\u001b[0m",
      "\u001b[1;31mKeyboardInterrupt\u001b[0m                         Traceback (most recent call last)",
      "\u001b[1;32m<ipython-input-84-b183bfb9fb72>\u001b[0m in \u001b[0;36m<module>\u001b[1;34m\u001b[0m\n\u001b[1;32m----> 1\u001b[1;33m \u001b[0mpredict_infant\u001b[0m\u001b[1;33m(\u001b[0m\u001b[0mdiscomfort_test_data\u001b[0m\u001b[1;33m,\u001b[0m\u001b[1;36m1\u001b[0m\u001b[1;33m)\u001b[0m\u001b[1;33m\u001b[0m\u001b[1;33m\u001b[0m\u001b[0m\n\u001b[0m\u001b[0;32m      2\u001b[0m \u001b[0mpredict_infant\u001b[0m\u001b[1;33m(\u001b[0m\u001b[0mhungry_test_data\u001b[0m\u001b[1;33m,\u001b[0m\u001b[1;36m2\u001b[0m\u001b[1;33m)\u001b[0m\u001b[1;33m\u001b[0m\u001b[1;33m\u001b[0m\u001b[0m\n\u001b[0;32m      3\u001b[0m \u001b[0mpredict_infant\u001b[0m\u001b[1;33m(\u001b[0m\u001b[0mtired_test_data\u001b[0m\u001b[1;33m,\u001b[0m\u001b[1;36m4\u001b[0m\u001b[1;33m)\u001b[0m\u001b[1;33m\u001b[0m\u001b[1;33m\u001b[0m\u001b[0m\n\u001b[0;32m      4\u001b[0m \u001b[0mpredict_infant\u001b[0m\u001b[1;33m(\u001b[0m\u001b[0mburping_test_data\u001b[0m\u001b[1;33m,\u001b[0m\u001b[1;36m0\u001b[0m\u001b[1;33m)\u001b[0m\u001b[1;33m\u001b[0m\u001b[1;33m\u001b[0m\u001b[0m\n\u001b[0;32m      5\u001b[0m \u001b[0mpredict_infant\u001b[0m\u001b[1;33m(\u001b[0m\u001b[0mpoop_test_data\u001b[0m\u001b[1;33m,\u001b[0m\u001b[1;36m3\u001b[0m\u001b[1;33m)\u001b[0m\u001b[1;33m\u001b[0m\u001b[1;33m\u001b[0m\u001b[0m\n",
      "\u001b[1;32m<ipython-input-81-61db5a2be891>\u001b[0m in \u001b[0;36mpredict_infant\u001b[1;34m(class_test_data, y_label)\u001b[0m\n\u001b[0;32m      3\u001b[0m         \u001b[0mcreate_images\u001b[0m\u001b[1;33m(\u001b[0m\u001b[0mtestobj\u001b[0m\u001b[1;33m,\u001b[0m\u001b[0mtypeimg\u001b[0m \u001b[1;33m=\u001b[0m\u001b[1;34m'mel_spectrogram'\u001b[0m\u001b[1;33m)\u001b[0m\u001b[1;33m\u001b[0m\u001b[1;33m\u001b[0m\u001b[0m\n\u001b[0;32m      4\u001b[0m         \u001b[0mx\u001b[0m\u001b[1;33m,\u001b[0m\u001b[0my\u001b[0m \u001b[1;33m=\u001b[0m \u001b[0mgetTestData\u001b[0m\u001b[1;33m(\u001b[0m\u001b[1;33m)\u001b[0m\u001b[1;33m\u001b[0m\u001b[1;33m\u001b[0m\u001b[0m\n\u001b[1;32m----> 5\u001b[1;33m         \u001b[0mtime\u001b[0m\u001b[1;33m.\u001b[0m\u001b[0msleep\u001b[0m\u001b[1;33m(\u001b[0m\u001b[1;36m10\u001b[0m\u001b[1;33m)\u001b[0m\u001b[1;33m\u001b[0m\u001b[1;33m\u001b[0m\u001b[0m\n\u001b[0m\u001b[0;32m      6\u001b[0m         \u001b[0mos\u001b[0m\u001b[1;33m.\u001b[0m\u001b[0mremove\u001b[0m\u001b[1;33m(\u001b[0m\u001b[1;34m'./testImgArea/y_label/test_mel_spectrogram.jpg'\u001b[0m\u001b[1;33m)\u001b[0m\u001b[1;33m\u001b[0m\u001b[1;33m\u001b[0m\u001b[0m\n\u001b[0;32m      7\u001b[0m         \u001b[0mpred\u001b[0m \u001b[1;33m=\u001b[0m \u001b[0mmodel\u001b[0m\u001b[1;33m.\u001b[0m\u001b[0mpredict\u001b[0m\u001b[1;33m(\u001b[0m\u001b[0mx\u001b[0m\u001b[1;33m)\u001b[0m\u001b[1;33m\u001b[0m\u001b[1;33m\u001b[0m\u001b[0m\n",
      "\u001b[1;31mKeyboardInterrupt\u001b[0m: "
     ]
    },
    {
     "data": {
      "text/plain": [
       "<Figure size 432x288 with 0 Axes>"
      ]
     },
     "metadata": {},
     "output_type": "display_data"
    }
   ],
   "source": [
    "predict_infant(discomfort_test_data,1)\n",
    "predict_infant(hungry_test_data,2)\n",
    "predict_infant(tired_test_data,4)\n",
    "predict_infant(burping_test_data,0)\n",
    "predict_infant(poop_test_data,3)"
   ]
  },
  {
   "cell_type": "code",
   "execution_count": 78,
   "metadata": {},
   "outputs": [
    {
     "name": "stdout",
     "output_type": "stream",
     "text": [
      "              precision    recall  f1-score   support\n",
      "\n",
      "           0       0.33      0.20      0.25         5\n",
      "           1       0.17      0.25      0.20        12\n",
      "           2       0.00      0.00      0.00        12\n",
      "           3       0.10      0.14      0.12         7\n",
      "           4       0.21      0.23      0.22        13\n",
      "\n",
      "    accuracy                           0.16        49\n",
      "   macro avg       0.16      0.16      0.16        49\n",
      "weighted avg       0.15      0.16      0.15        49\n",
      "\n"
     ]
    },
    {
     "data": {
      "image/png": "[encoded data removed]",
      "text/plain": [
       "<Figure size 432x288 with 2 Axes>"
      ]
     },
     "metadata": {
      "needs_background": "light"
     },
     "output_type": "display_data"
    }
   ],
   "source": [
    "\n",
    "cm = confusion_matrix(labelset, predictset)\n",
    "\n",
    "disp = ConfusionMatrixDisplay(confusion_matrix=cm,display_labels = class_names)\n",
    "disp.plot()\n",
    "plt.show\n",
    "\n",
    "from sklearn.metrics import classification_report\n",
    "print(classification_report(labelset, predictset))"
   ]
  },
  {
   "cell_type": "code",
   "execution_count": null,
   "metadata": {},
   "outputs": [],
   "source": []
  }
 ],
 "metadata": {
  "kernelspec": {
   "display_name": "base",
   "language": "python",
   "name": "python3"
  },
  "language_info": {
   "codemirror_mode": {
    "name": "ipython",
    "version": 3
   },
   "file_extension": ".py",
   "mimetype": "text/x-python",
   "name": "python",
   "nbconvert_exporter": "python",
   "pygments_lexer": "ipython3",
   "version": "3.7.6"
  },
  "orig_nbformat": 4,
  "vscode": {
   "interpreter": {
    "hash": "23bf0724a01b6ea9814e66f76182ea78c0ee849a72ca257c0e116bf83bb4960a"
   }
  }
 },
 "nbformat": 4,
 "nbformat_minor": 2
}
