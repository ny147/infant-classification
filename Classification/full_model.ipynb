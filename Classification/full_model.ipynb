{
 "cells": [
  {
   "cell_type": "code",
   "execution_count": 50,
   "metadata": {},
   "outputs": [],
   "source": [
    "import os\n",
    "import librosa, librosa.display\n",
    "import matplotlib.pyplot as plt\n",
    "from pathlib import Path\n",
    "import tensorflow as tf\n",
    "import IPython.display as ipd\n",
    "import numpy as np\n",
    "from sklearn.metrics import confusion_matrix, ConfusionMatrixDisplay\n",
    "from keras.callbacks import ModelCheckpoint\n",
    "from sklearn.metrics import classification_report\n",
    "from sklearn.model_selection import train_test_split\n",
    "import shutil"
   ]
  },
  {
   "cell_type": "code",
   "execution_count": 51,
   "metadata": {},
   "outputs": [],
   "source": [
    "img_height = 432\n",
    "img_width = 288\n",
    "\n",
    "type_classification_directory = './data/img_data/dustan/phase1/mel_freq/'\n",
    "\n",
    "type1_directory = './data/img_data/dustan/type1/mel_spectrogram/'\n",
    "\n",
    "type2_directory = './data/img_data/dustan/type2/mel_spectrogram/'\n"
   ]
  },
  {
   "cell_type": "code",
   "execution_count": 52,
   "metadata": {},
   "outputs": [],
   "source": [
    "def dummy(data,numarr):\n",
    "    new_data =[]\n",
    "    for i in data:\n",
    "        lab_data = []\n",
    "        for j in range(0,numarr):\n",
    "            lab_data.append(0)\n",
    "        #lab_data =[0,0]\n",
    "        lab_data[i] = 1\n",
    "        new_data.append(lab_data)\n",
    "    return new_data"
   ]
  },
  {
   "cell_type": "code",
   "execution_count": 53,
   "metadata": {},
   "outputs": [],
   "source": [
    "def create_weight(n_sample,n_class,n_class_sample):\n",
    "    weight = n_sample/(n_class*n_class_sample)\n",
    "    return weight "
   ]
  },
  {
   "cell_type": "code",
   "execution_count": 54,
   "metadata": {},
   "outputs": [],
   "source": [
    "\n",
    "def createdict(num):\n",
    "    lab_data = []\n",
    "    for i in range(0,num):\n",
    "        lab_data.append(i)\n",
    "    dic = dict.fromkeys(lab_data, 0)\n",
    "    return dic"
   ]
  },
  {
   "cell_type": "code",
   "execution_count": 55,
   "metadata": {},
   "outputs": [],
   "source": [
    "def createWeight(class_count,num_classes):\n",
    "    class_weights = createdict(num_classes)\n",
    "    for i in range(num_classes):\n",
    "        class_weights[i]=create_weight(np.sum(class_count),num_classes,class_count[i])\n",
    "    return class_weights"
   ]
  },
  {
   "cell_type": "code",
   "execution_count": 57,
   "metadata": {},
   "outputs": [],
   "source": [
    "def preprocess(data_dir,numclass):\n",
    "    data_ds = tf.keras.preprocessing.image_dataset_from_directory(\n",
    "    data_dir, labels='inferred', label_mode='int', image_size=(432, 288), seed=321,\n",
    "    validation_split=None, subset=None)\n",
    "    class_names = data_ds.class_names\n",
    "    \n",
    "    feature=[]\n",
    "    label=[]\n",
    "    for images, labels in data_ds.unbatch().take(-1):\n",
    "        feature.append(images.numpy())\n",
    "        label.append(labels.numpy())\n",
    "        \n",
    "    x_train,x_test,y_train,y_test = train_test_split(feature,label,test_size = 0.20,random_state =101)\n",
    "    \n",
    "    x_train = np.array(x_train)\n",
    "    x_test = np.array(x_test)\n",
    "    y_train = np.array(y_train)\n",
    "    y_test = np.array(y_test)\n",
    "    \n",
    "    \n",
    "    class_count=[]\n",
    "    for i in range(0,numclass):\n",
    "        class_count.append(np.count_nonzero(y_train == i))\n",
    "    class_count = np.array(class_count)\n",
    "    y_train = dummy(y_train,numclass)\n",
    "    y_test = dummy(y_test,numclass)\n",
    "    class_weights = createWeight(class_count,numclass)\n",
    "   \n",
    "    \n",
    "    y_train = np.array(y_train)\n",
    "    y_test = np.array(y_test)\n",
    "    return x_train,x_test,y_train,y_test,class_weights,class_names\n",
    "    "
   ]
  },
  {
   "cell_type": "code",
   "execution_count": 58,
   "metadata": {},
   "outputs": [
    {
     "name": "stdout",
     "output_type": "stream",
     "text": [
      "Found 175 files belonging to 2 classes.\n"
     ]
    }
   ],
   "source": [
    "x_train,x_test,y_train,y_test,class_weights,class_names = preprocess(type_classification_directory,2)"
   ]
  },
  {
   "cell_type": "code",
   "execution_count": 59,
   "metadata": {},
   "outputs": [],
   "source": [
    "def categories2binary(categories):\n",
    "    binarydata = []\n",
    "    for item in categories:\n",
    "        binarydata.append(item[0])\n",
    "    binarydata=np.array(binarydata)\n",
    "    return(binarydata)"
   ]
  },
  {
   "cell_type": "code",
   "execution_count": 60,
   "metadata": {},
   "outputs": [],
   "source": [
    "def binary2categories(binary):\n",
    "    new_data = []\n",
    "    for i in binary:\n",
    "        lab_data = []\n",
    "        for j in range(0,2):\n",
    "            lab_data.append(0)\n",
    "        if(i>=0.5):\n",
    "            lab_data[1]=1;\n",
    "        elif(i<0.5):\n",
    "            lab_data[0]=1;\n",
    "        new_data.append(lab_data)\n",
    "    new_data = np.array(new_data)\n",
    "    return(new_data)"
   ]
  },
  {
   "cell_type": "code",
   "execution_count": 61,
   "metadata": {},
   "outputs": [
    {
     "name": "stdout",
     "output_type": "stream",
     "text": [
      "Model: \"model_6\"\n",
      "_________________________________________________________________\n",
      " Layer (type)                Output Shape              Param #   \n",
      "=================================================================\n",
      " input_14 (InputLayer)       [(None, 432, 288, 3)]     0         \n",
      "                                                                 \n",
      " rescaling_6 (Rescaling)     (None, 432, 288, 3)       0         \n",
      "                                                                 \n",
      " tf.cast_6 (TFOpLambda)      (None, 432, 288, 3)       0         \n",
      "                                                                 \n",
      " resnet50v2 (Functional)     (None, 14, 9, 2048)       23564800  \n",
      "                                                                 \n",
      " conv2d_6 (Conv2D)           (None, 14, 9, 128)        2359424   \n",
      "                                                                 \n",
      " max_pooling2d_27 (MaxPoolin  (None, 7, 4, 128)        0         \n",
      " g2D)                                                            \n",
      "                                                                 \n",
      " dropout_12 (Dropout)        (None, 7, 4, 128)         0         \n",
      "                                                                 \n",
      " global_average_pooling2d_6   (None, 128)              0         \n",
      " (GlobalAveragePooling2D)                                        \n",
      "                                                                 \n",
      " dropout_13 (Dropout)        (None, 128)               0         \n",
      "                                                                 \n",
      " dense_6 (Dense)             (None, 2)                 258       \n",
      "                                                                 \n",
      "=================================================================\n",
      "Total params: 25,924,482\n",
      "Trainable params: 2,359,682\n",
      "Non-trainable params: 23,564,800\n",
      "_________________________________________________________________\n"
     ]
    }
   ],
   "source": [
    "base_model = tf.keras.applications.ResNet50V2(\n",
    "    weights=\"imagenet\",  # Load weights pre-trained on ImageNet.\n",
    "    input_shape=(img_height, img_width, 3),\n",
    "    include_top=False,\n",
    ") \n",
    "\n",
    "# Freeze the base_model\n",
    "base_model.trainable = False\n",
    "\n",
    "# Create new model on top\n",
    "\n",
    "inputs = tf.keras.Input(shape=(img_height, img_width, 3))\n",
    "\n",
    "scale_layer = tf.keras.layers.Rescaling(scale=1./255)\n",
    "x = scale_layer(inputs)\n",
    "\n",
    "x = tf.cast(x,tf.float32)\n",
    "\n",
    "x = base_model(x, training=False)\n",
    "\n",
    "x = tf.keras.layers.Conv2D(128, 3, padding='same', activation='relu')(x)          \n",
    "x = tf.keras.layers.MaxPooling2D((2,2))(x)\n",
    "x = tf.keras.layers.Dropout(0.2)(x)\n",
    "            \n",
    "x = tf.keras.layers.GlobalAveragePooling2D()(x)\n",
    "\n",
    "#x = tf.keras.layers.Dense(128, activation='relu')(x)\n",
    "\n",
    "x = tf.keras.layers.Dropout(0.2)(x)  # Regularize with dropout\n",
    "outputs = tf.keras.layers.Dense(2,activation='softmax')(x)\n",
    "model = tf.keras.Model(inputs, outputs)\n",
    "\n",
    "model.summary()"
   ]
  },
  {
   "cell_type": "code",
   "execution_count": 62,
   "metadata": {},
   "outputs": [
    {
     "name": "stdout",
     "output_type": "stream",
     "text": [
      "Epoch 1/100\n"
     ]
    },
    {
     "name": "stderr",
     "output_type": "stream",
     "text": [
      "c:\\Users\\acer\\anaconda3\\lib\\site-packages\\tensorflow\\python\\util\\dispatch.py:1082: UserWarning: \"`categorical_crossentropy` received `from_logits=True`, but the `output` argument was produced by a sigmoid or softmax activation and thus does not represent logits. Was this intended?\"\n",
      "  return dispatch_target(*args, **kwargs)\n"
     ]
    },
    {
     "name": "stdout",
     "output_type": "stream",
     "text": [
      "4/4 [==============================] - 19s 4s/step - loss: 7.0764 - accuracy: 0.5893 - val_loss: 1.2059 - val_accuracy: 0.6786\n",
      "Epoch 2/100\n",
      "4/4 [==============================] - 14s 4s/step - loss: 1.1527 - accuracy: 0.5268 - val_loss: 1.0232 - val_accuracy: 0.3214\n",
      "Epoch 3/100\n",
      "4/4 [==============================] - 14s 4s/step - loss: 0.8063 - accuracy: 0.3214 - val_loss: 0.7378 - val_accuracy: 0.3214\n",
      "Epoch 4/100\n",
      "4/4 [==============================] - 14s 4s/step - loss: 0.6694 - accuracy: 0.3214 - val_loss: 0.6985 - val_accuracy: 0.3214\n",
      "Epoch 5/100\n",
      "4/4 [==============================] - 14s 4s/step - loss: 0.6489 - accuracy: 0.3304 - val_loss: 0.6864 - val_accuracy: 0.3214\n",
      "Epoch 6/100\n",
      "4/4 [==============================] - 14s 4s/step - loss: 0.6308 - accuracy: 0.4107 - val_loss: 0.6825 - val_accuracy: 0.3214\n",
      "Epoch 7/100\n",
      "4/4 [==============================] - 14s 4s/step - loss: 0.6190 - accuracy: 0.4286 - val_loss: 0.6834 - val_accuracy: 0.3571\n",
      "Epoch 8/100\n",
      "4/4 [==============================] - 14s 4s/step - loss: 0.6050 - accuracy: 0.4911 - val_loss: 0.6773 - val_accuracy: 0.3929\n",
      "Epoch 9/100\n",
      "4/4 [==============================] - 14s 4s/step - loss: 0.5808 - accuracy: 0.4821 - val_loss: 0.6658 - val_accuracy: 0.5000\n",
      "Epoch 10/100\n",
      "4/4 [==============================] - 14s 4s/step - loss: 0.5713 - accuracy: 0.5357 - val_loss: 0.6471 - val_accuracy: 0.6429\n",
      "Epoch 11/100\n",
      "4/4 [==============================] - 14s 4s/step - loss: 0.5553 - accuracy: 0.6518 - val_loss: 0.6308 - val_accuracy: 0.7143\n",
      "Epoch 12/100\n",
      "4/4 [==============================] - 14s 4s/step - loss: 0.5438 - accuracy: 0.7054 - val_loss: 0.6038 - val_accuracy: 0.7500\n",
      "Epoch 13/100\n",
      "4/4 [==============================] - 14s 4s/step - loss: 0.5213 - accuracy: 0.8036 - val_loss: 0.5704 - val_accuracy: 0.7500\n",
      "Epoch 14/100\n",
      "4/4 [==============================] - 14s 4s/step - loss: 0.4873 - accuracy: 0.8125 - val_loss: 0.5502 - val_accuracy: 0.7857\n",
      "Epoch 15/100\n",
      "4/4 [==============================] - 14s 4s/step - loss: 0.4946 - accuracy: 0.7946 - val_loss: 0.5461 - val_accuracy: 0.7500\n",
      "Epoch 16/100\n",
      "4/4 [==============================] - 14s 4s/step - loss: 0.4225 - accuracy: 0.8482 - val_loss: 0.4852 - val_accuracy: 0.8214\n",
      "Epoch 17/100\n",
      "4/4 [==============================] - 14s 4s/step - loss: 0.4036 - accuracy: 0.9018 - val_loss: 0.4585 - val_accuracy: 0.8214\n",
      "Epoch 18/100\n",
      "4/4 [==============================] - 14s 4s/step - loss: 0.4006 - accuracy: 0.8661 - val_loss: 0.4749 - val_accuracy: 0.7857\n",
      "Epoch 19/100\n",
      "4/4 [==============================] - 17s 4s/step - loss: 0.3935 - accuracy: 0.8571 - val_loss: 0.4599 - val_accuracy: 0.8214\n",
      "Epoch 20/100\n",
      "4/4 [==============================] - 15s 4s/step - loss: 0.4073 - accuracy: 0.7946 - val_loss: 0.4342 - val_accuracy: 0.8571\n",
      "Epoch 21/100\n",
      "4/4 [==============================] - 14s 4s/step - loss: 0.4088 - accuracy: 0.8571 - val_loss: 0.4530 - val_accuracy: 0.8571\n",
      "Epoch 22/100\n",
      "4/4 [==============================] - 14s 4s/step - loss: 0.3482 - accuracy: 0.8304 - val_loss: 0.4826 - val_accuracy: 0.7500\n",
      "Epoch 23/100\n",
      "4/4 [==============================] - 14s 4s/step - loss: 0.3103 - accuracy: 0.8929 - val_loss: 0.4302 - val_accuracy: 0.8214\n",
      "Epoch 24/100\n",
      "4/4 [==============================] - 14s 4s/step - loss: 0.3060 - accuracy: 0.9196 - val_loss: 0.4322 - val_accuracy: 0.7857\n",
      "Epoch 25/100\n",
      "4/4 [==============================] - 14s 4s/step - loss: 0.2990 - accuracy: 0.9286 - val_loss: 0.4416 - val_accuracy: 0.7857\n",
      "Epoch 26/100\n",
      "4/4 [==============================] - 14s 4s/step - loss: 0.2885 - accuracy: 0.9107 - val_loss: 0.4228 - val_accuracy: 0.8214\n",
      "Epoch 27/100\n",
      "4/4 [==============================] - 14s 4s/step - loss: 0.2595 - accuracy: 0.9375 - val_loss: 0.4308 - val_accuracy: 0.7857\n",
      "Epoch 28/100\n",
      "4/4 [==============================] - 14s 4s/step - loss: 0.2359 - accuracy: 0.9196 - val_loss: 0.4001 - val_accuracy: 0.7857\n",
      "Epoch 29/100\n",
      "4/4 [==============================] - 14s 4s/step - loss: 0.2534 - accuracy: 0.9375 - val_loss: 0.3661 - val_accuracy: 0.7857\n",
      "Epoch 30/100\n",
      "4/4 [==============================] - 14s 4s/step - loss: 0.2182 - accuracy: 0.9554 - val_loss: 0.3935 - val_accuracy: 0.7857\n",
      "Epoch 31/100\n",
      "4/4 [==============================] - 14s 4s/step - loss: 0.2076 - accuracy: 0.9375 - val_loss: 0.3935 - val_accuracy: 0.7857\n",
      "Epoch 32/100\n",
      "4/4 [==============================] - 14s 4s/step - loss: 0.1926 - accuracy: 0.9375 - val_loss: 0.3654 - val_accuracy: 0.8214\n",
      "Epoch 33/100\n",
      "4/4 [==============================] - 14s 4s/step - loss: 0.2229 - accuracy: 0.9196 - val_loss: 0.3486 - val_accuracy: 0.7857\n",
      "Epoch 34/100\n",
      "4/4 [==============================] - 14s 4s/step - loss: 0.2082 - accuracy: 0.9464 - val_loss: 0.3718 - val_accuracy: 0.7857\n",
      "Epoch 35/100\n",
      "4/4 [==============================] - 14s 4s/step - loss: 0.1642 - accuracy: 0.9375 - val_loss: 0.3826 - val_accuracy: 0.7857\n",
      "Epoch 36/100\n",
      "4/4 [==============================] - 14s 4s/step - loss: 0.1641 - accuracy: 0.9554 - val_loss: 0.3469 - val_accuracy: 0.7857\n",
      "Epoch 37/100\n",
      "4/4 [==============================] - 14s 4s/step - loss: 0.1853 - accuracy: 0.9375 - val_loss: 0.3397 - val_accuracy: 0.7857\n",
      "Epoch 38/100\n",
      "4/4 [==============================] - 14s 4s/step - loss: 0.1522 - accuracy: 0.9732 - val_loss: 0.3951 - val_accuracy: 0.7500\n",
      "Epoch 39/100\n",
      "4/4 [==============================] - 14s 4s/step - loss: 0.1476 - accuracy: 0.9554 - val_loss: 0.4041 - val_accuracy: 0.7500\n",
      "Epoch 40/100\n",
      "4/4 [==============================] - 14s 4s/step - loss: 0.1334 - accuracy: 0.9911 - val_loss: 0.3519 - val_accuracy: 0.7857\n",
      "Epoch 41/100\n",
      "4/4 [==============================] - 14s 4s/step - loss: 0.1224 - accuracy: 0.9821 - val_loss: 0.3359 - val_accuracy: 0.7857\n",
      "Epoch 42/100\n",
      "4/4 [==============================] - 14s 4s/step - loss: 0.1452 - accuracy: 0.9554 - val_loss: 0.4003 - val_accuracy: 0.7857\n",
      "Epoch 43/100\n",
      "4/4 [==============================] - 14s 4s/step - loss: 0.1263 - accuracy: 0.9732 - val_loss: 0.3954 - val_accuracy: 0.7857\n",
      "Epoch 44/100\n",
      "4/4 [==============================] - 14s 4s/step - loss: 0.0880 - accuracy: 1.0000 - val_loss: 0.3258 - val_accuracy: 0.7857\n",
      "Epoch 45/100\n",
      "4/4 [==============================] - 14s 4s/step - loss: 0.1176 - accuracy: 0.9732 - val_loss: 0.3222 - val_accuracy: 0.7857\n",
      "Epoch 46/100\n",
      "4/4 [==============================] - 14s 4s/step - loss: 0.1288 - accuracy: 0.9821 - val_loss: 0.3976 - val_accuracy: 0.7500\n",
      "Epoch 47/100\n",
      "4/4 [==============================] - 14s 4s/step - loss: 0.1201 - accuracy: 0.9732 - val_loss: 0.3489 - val_accuracy: 0.7857\n",
      "Epoch 48/100\n",
      "4/4 [==============================] - 14s 4s/step - loss: 0.0665 - accuracy: 0.9911 - val_loss: 0.3207 - val_accuracy: 0.7857\n",
      "Epoch 49/100\n",
      "4/4 [==============================] - 14s 4s/step - loss: 0.0757 - accuracy: 0.9911 - val_loss: 0.3168 - val_accuracy: 0.7857\n",
      "Epoch 50/100\n",
      "4/4 [==============================] - 14s 4s/step - loss: 0.0931 - accuracy: 0.9821 - val_loss: 0.3340 - val_accuracy: 0.7857\n",
      "Epoch 51/100\n",
      "4/4 [==============================] - 14s 4s/step - loss: 0.0716 - accuracy: 0.9821 - val_loss: 0.3634 - val_accuracy: 0.7857\n",
      "Epoch 52/100\n",
      "4/4 [==============================] - 14s 4s/step - loss: 0.0975 - accuracy: 0.9821 - val_loss: 0.3315 - val_accuracy: 0.7857\n",
      "Epoch 53/100\n",
      "4/4 [==============================] - 14s 4s/step - loss: 0.0560 - accuracy: 1.0000 - val_loss: 0.3355 - val_accuracy: 0.7857\n",
      "Epoch 54/100\n",
      "4/4 [==============================] - 14s 4s/step - loss: 0.0559 - accuracy: 0.9911 - val_loss: 0.3378 - val_accuracy: 0.7857\n",
      "Epoch 1/50\n",
      "4/4 [==============================] - 63s 15s/step - loss: 0.1627 - binary_accuracy: 0.9554 - val_loss: 1.8951 - val_binary_accuracy: 0.6071\n",
      "Epoch 2/50\n",
      "4/4 [==============================] - 58s 14s/step - loss: 0.2298 - binary_accuracy: 0.8839 - val_loss: 0.3155 - val_binary_accuracy: 0.8214\n",
      "Epoch 3/50\n",
      "4/4 [==============================] - 58s 14s/step - loss: 0.0977 - binary_accuracy: 0.9821 - val_loss: 0.3774 - val_binary_accuracy: 0.7143\n",
      "Epoch 4/50\n",
      "4/4 [==============================] - 58s 14s/step - loss: 0.0623 - binary_accuracy: 0.9911 - val_loss: 0.4741 - val_binary_accuracy: 0.8214\n",
      "Epoch 5/50\n",
      "2/4 [==============>...............] - ETA: 44s - loss: 0.1045 - binary_accuracy: 0.9375"
     ]
    }
   ],
   "source": [
    "\n",
    "loss_fn = tf.keras.losses.loss_fn = tf.keras.losses.CategoricalCrossentropy(from_logits=True)\n",
    "optimizer = tf.keras.optimizers.Adam()# modify weight in Adam\n",
    "metrics = ['accuracy']\n",
    "model.compile (optimizer = optimizer,loss =  loss_fn,metrics = metrics)\n",
    "callback = tf.keras.callbacks.EarlyStopping(monitor='val_loss', patience=5)\n",
    "epochs = 100\n",
    "history = model.fit(x_train, y_train, epochs=epochs,validation_split=0.2,callbacks=callback,class_weight = class_weights)\n",
    "\n",
    "base_model.trainable = True\n",
    "model.compile(\n",
    "    optimizer=tf.keras.optimizers.Adam(1e-5), \n",
    "    loss=tf.keras.losses.CategoricalCrossentropy(from_logits=True),\n",
    "    metrics=[tf.keras.metrics.BinaryAccuracy()],\n",
    ")\n",
    "\n",
    "epochs = 50\n",
    "history = model.fit(x_train, y_train, epochs=epochs,validation_split=0.2,callbacks=callback,class_weight = class_weights)\n",
    "\n",
    "plt.plot(history.history['loss'],label = 'loss')\n",
    "plt.plot(history.history['val_loss'],label = 'val_loss')\n",
    "plt.legend()\n",
    "plt.show()\n",
    "\n"
   ]
  },
  {
   "cell_type": "code",
   "execution_count": null,
   "metadata": {},
   "outputs": [
    {
     "name": "stdout",
     "output_type": "stream",
     "text": [
      "[1 0 1 1 1 1 1 1 0 1 1 1 1 1 1 1 0 1 1 1 1 1 0 1 1 0 1 1 1 1 1 0 0 1 1]\n",
      "              precision    recall  f1-score   support\n",
      "\n",
      "       type1       0.71      0.45      0.56        11\n",
      "       type2       0.79      0.92      0.85        24\n",
      "\n",
      "    accuracy                           0.77        35\n",
      "   macro avg       0.75      0.69      0.70        35\n",
      "weighted avg       0.76      0.77      0.75        35\n",
      "\n"
     ]
    },
    {
     "data": {
      "image/png": "[encoded data removed]",
      "text/plain": [
       "<Figure size 432x288 with 2 Axes>"
      ]
     },
     "metadata": {
      "needs_background": "light"
     },
     "output_type": "display_data"
    }
   ],
   "source": [
    "pred = model.predict(x_test)\n",
    "y_pred = np.argmax(pred, axis=1)\n",
    "y_test = np.argmax(y_test, axis=1)\n",
    "print(y_pred)\n",
    "cm = confusion_matrix(y_test, y_pred)\n",
    "\n",
    "disp = ConfusionMatrixDisplay(confusion_matrix=cm,display_labels=class_names)\n",
    "disp.plot()\n",
    "plt.show\n",
    "\n",
    "from sklearn.metrics import classification_report\n",
    "print(classification_report(y_test, y_pred,target_names=class_names))"
   ]
  },
  {
   "cell_type": "code",
   "execution_count": null,
   "metadata": {},
   "outputs": [],
   "source": [
    "model.save('phase1.h5')"
   ]
  },
  {
   "cell_type": "code",
   "execution_count": null,
   "metadata": {},
   "outputs": [
    {
     "name": "stdout",
     "output_type": "stream",
     "text": [
      "Found 175 files belonging to 2 classes.\n"
     ]
    }
   ],
   "source": [
    "x_train,x_test,y_train,y_test,class_weights,class_names = preprocess(type1_directory,2)"
   ]
  },
  {
   "cell_type": "code",
   "execution_count": null,
   "metadata": {},
   "outputs": [
    {
     "name": "stdout",
     "output_type": "stream",
     "text": [
      "Model: \"model_4\"\n",
      "_________________________________________________________________\n",
      " Layer (type)                Output Shape              Param #   \n",
      "=================================================================\n",
      " input_10 (InputLayer)       [(None, 432, 288, 3)]     0         \n",
      "                                                                 \n",
      " rescaling_4 (Rescaling)     (None, 432, 288, 3)       0         \n",
      "                                                                 \n",
      " tf.cast_4 (TFOpLambda)      (None, 432, 288, 3)       0         \n",
      "                                                                 \n",
      " resnet50v2 (Functional)     (None, 14, 9, 2048)       23564800  \n",
      "                                                                 \n",
      " conv2d_4 (Conv2D)           (None, 14, 9, 128)        2359424   \n",
      "                                                                 \n",
      " max_pooling2d_19 (MaxPoolin  (None, 7, 4, 128)        0         \n",
      " g2D)                                                            \n",
      "                                                                 \n",
      " dropout_8 (Dropout)         (None, 7, 4, 128)         0         \n",
      "                                                                 \n",
      " global_average_pooling2d_4   (None, 128)              0         \n",
      " (GlobalAveragePooling2D)                                        \n",
      "                                                                 \n",
      " dropout_9 (Dropout)         (None, 128)               0         \n",
      "                                                                 \n",
      " dense_4 (Dense)             (None, 2)                 258       \n",
      "                                                                 \n",
      "=================================================================\n",
      "Total params: 25,924,482\n",
      "Trainable params: 2,359,682\n",
      "Non-trainable params: 23,564,800\n",
      "_________________________________________________________________\n"
     ]
    }
   ],
   "source": [
    "base_model = tf.keras.applications.ResNet50V2(\n",
    "    weights=\"imagenet\",  # Load weights pre-trained on ImageNet.\n",
    "    input_shape=(img_height, img_width, 3),\n",
    "    include_top=False,\n",
    ") \n",
    "\n",
    "# Freeze the base_model\n",
    "base_model.trainable = False\n",
    "\n",
    "# Create new model on top\n",
    "\n",
    "inputs = tf.keras.Input(shape=(img_height, img_width, 3))\n",
    "\n",
    "scale_layer = tf.keras.layers.Rescaling(scale=1./255)\n",
    "x = scale_layer(inputs)\n",
    "\n",
    "x = tf.cast(x,tf.float32)\n",
    "\n",
    "x = base_model(x, training=False)\n",
    "\n",
    "x = tf.keras.layers.Conv2D(128, 3, padding='same', activation='relu')(x)          \n",
    "x = tf.keras.layers.MaxPooling2D((2,2))(x)\n",
    "x = tf.keras.layers.Dropout(0.2)(x)\n",
    "            \n",
    "x = tf.keras.layers.GlobalAveragePooling2D()(x)\n",
    "\n",
    "#x = tf.keras.layers.Dense(128, activation='relu')(x)\n",
    "\n",
    "x = tf.keras.layers.Dropout(0.2)(x)  # Regularize with dropout\n",
    "outputs = tf.keras.layers.Dense(2,activation='softmax')(x)\n",
    "model = tf.keras.Model(inputs, outputs)\n",
    "\n",
    "model.summary()"
   ]
  },
  {
   "cell_type": "code",
   "execution_count": null,
   "metadata": {},
   "outputs": [
    {
     "name": "stdout",
     "output_type": "stream",
     "text": [
      "Epoch 1/100\n"
     ]
    },
    {
     "name": "stderr",
     "output_type": "stream",
     "text": [
      "c:\\Users\\acer\\anaconda3\\lib\\site-packages\\tensorflow\\python\\util\\dispatch.py:1082: UserWarning: \"`categorical_crossentropy` received `from_logits=True`, but the `output` argument was produced by a sigmoid or softmax activation and thus does not represent logits. Was this intended?\"\n",
      "  return dispatch_target(*args, **kwargs)\n"
     ]
    },
    {
     "name": "stdout",
     "output_type": "stream",
     "text": [
      "4/4 [==============================] - 20s 5s/step - loss: 5.4287 - accuracy: 0.4107 - val_loss: 1.0701 - val_accuracy: 0.3214\n",
      "Epoch 2/100\n",
      "4/4 [==============================] - 16s 4s/step - loss: 0.8982 - accuracy: 0.5625 - val_loss: 0.5791 - val_accuracy: 0.6786\n",
      "Epoch 3/100\n",
      "4/4 [==============================] - 13s 3s/step - loss: 0.8078 - accuracy: 0.6786 - val_loss: 0.5511 - val_accuracy: 0.6786\n",
      "Epoch 4/100\n",
      "4/4 [==============================] - 13s 3s/step - loss: 0.6774 - accuracy: 0.6786 - val_loss: 0.6239 - val_accuracy: 0.6786\n",
      "Epoch 5/100\n",
      "4/4 [==============================] - 13s 3s/step - loss: 0.6524 - accuracy: 0.6964 - val_loss: 0.6508 - val_accuracy: 0.7143\n",
      "Epoch 6/100\n",
      "4/4 [==============================] - 13s 3s/step - loss: 0.6554 - accuracy: 0.7589 - val_loss: 0.6384 - val_accuracy: 0.7143\n",
      "Epoch 7/100\n",
      "4/4 [==============================] - 14s 4s/step - loss: 0.6363 - accuracy: 0.7500 - val_loss: 0.5971 - val_accuracy: 0.7143\n",
      "Epoch 8/100\n",
      "4/4 [==============================] - 18s 5s/step - loss: 0.6146 - accuracy: 0.7321 - val_loss: 0.5406 - val_accuracy: 0.7143\n",
      "Epoch 9/100\n",
      "4/4 [==============================] - 17s 5s/step - loss: 0.5978 - accuracy: 0.7321 - val_loss: 0.5125 - val_accuracy: 0.7143\n",
      "Epoch 10/100\n",
      "4/4 [==============================] - 18s 5s/step - loss: 0.6096 - accuracy: 0.7500 - val_loss: 0.5114 - val_accuracy: 0.7857\n",
      "Epoch 11/100\n",
      "4/4 [==============================] - 18s 5s/step - loss: 0.5503 - accuracy: 0.7857 - val_loss: 0.5261 - val_accuracy: 0.7500\n",
      "Epoch 12/100\n",
      "4/4 [==============================] - 18s 5s/step - loss: 0.5447 - accuracy: 0.8304 - val_loss: 0.5063 - val_accuracy: 0.7500\n",
      "Epoch 13/100\n",
      "4/4 [==============================] - 18s 5s/step - loss: 0.5086 - accuracy: 0.8214 - val_loss: 0.4659 - val_accuracy: 0.7857\n",
      "Epoch 14/100\n",
      "4/4 [==============================] - 18s 5s/step - loss: 0.4876 - accuracy: 0.8304 - val_loss: 0.4486 - val_accuracy: 0.7857\n",
      "Epoch 15/100\n",
      "4/4 [==============================] - 14s 3s/step - loss: 0.4828 - accuracy: 0.8214 - val_loss: 0.4352 - val_accuracy: 0.7857\n",
      "Epoch 16/100\n",
      "4/4 [==============================] - 13s 3s/step - loss: 0.4405 - accuracy: 0.8393 - val_loss: 0.4244 - val_accuracy: 0.7857\n",
      "Epoch 17/100\n",
      "4/4 [==============================] - 13s 3s/step - loss: 0.4342 - accuracy: 0.8482 - val_loss: 0.4094 - val_accuracy: 0.7857\n",
      "Epoch 18/100\n",
      "4/4 [==============================] - 13s 3s/step - loss: 0.3869 - accuracy: 0.8571 - val_loss: 0.4237 - val_accuracy: 0.7857\n",
      "Epoch 19/100\n",
      "4/4 [==============================] - 13s 3s/step - loss: 0.3693 - accuracy: 0.8482 - val_loss: 0.3667 - val_accuracy: 0.7857\n",
      "Epoch 20/100\n",
      "4/4 [==============================] - 13s 3s/step - loss: 0.3240 - accuracy: 0.8839 - val_loss: 0.3514 - val_accuracy: 0.7857\n",
      "Epoch 21/100\n",
      "4/4 [==============================] - 13s 3s/step - loss: 0.2787 - accuracy: 0.9107 - val_loss: 0.3744 - val_accuracy: 0.8214\n",
      "Epoch 22/100\n",
      "4/4 [==============================] - 13s 3s/step - loss: 0.2877 - accuracy: 0.9107 - val_loss: 0.3368 - val_accuracy: 0.8214\n",
      "Epoch 23/100\n",
      "4/4 [==============================] - 13s 3s/step - loss: 0.2740 - accuracy: 0.9107 - val_loss: 0.3401 - val_accuracy: 0.8571\n",
      "Epoch 24/100\n",
      "4/4 [==============================] - 13s 3s/step - loss: 0.2580 - accuracy: 0.8661 - val_loss: 0.3258 - val_accuracy: 0.8571\n",
      "Epoch 25/100\n",
      "4/4 [==============================] - 13s 3s/step - loss: 0.2143 - accuracy: 0.9464 - val_loss: 0.3141 - val_accuracy: 0.8214\n",
      "Epoch 26/100\n",
      "4/4 [==============================] - 13s 3s/step - loss: 0.1755 - accuracy: 0.9732 - val_loss: 0.3070 - val_accuracy: 0.8214\n",
      "Epoch 27/100\n",
      "4/4 [==============================] - 13s 3s/step - loss: 0.2214 - accuracy: 0.9464 - val_loss: 0.3613 - val_accuracy: 0.8214\n",
      "Epoch 28/100\n",
      "4/4 [==============================] - 13s 3s/step - loss: 0.1728 - accuracy: 0.9464 - val_loss: 0.3445 - val_accuracy: 0.8214\n",
      "Epoch 29/100\n",
      "4/4 [==============================] - 13s 3s/step - loss: 0.1564 - accuracy: 0.9732 - val_loss: 0.2959 - val_accuracy: 0.7857\n",
      "Epoch 30/100\n",
      "4/4 [==============================] - 13s 3s/step - loss: 0.2179 - accuracy: 0.9196 - val_loss: 0.3265 - val_accuracy: 0.8214\n",
      "Epoch 31/100\n",
      "4/4 [==============================] - 13s 3s/step - loss: 0.1391 - accuracy: 0.9554 - val_loss: 0.4105 - val_accuracy: 0.8214\n",
      "Epoch 32/100\n",
      "4/4 [==============================] - 13s 3s/step - loss: 0.1691 - accuracy: 0.9286 - val_loss: 0.2996 - val_accuracy: 0.8214\n",
      "Epoch 33/100\n",
      "4/4 [==============================] - 14s 4s/step - loss: 0.1682 - accuracy: 0.9643 - val_loss: 0.3078 - val_accuracy: 0.8214\n",
      "Epoch 34/100\n",
      "4/4 [==============================] - 13s 3s/step - loss: 0.1447 - accuracy: 0.9732 - val_loss: 0.2947 - val_accuracy: 0.8571\n",
      "Epoch 35/100\n",
      "4/4 [==============================] - 13s 3s/step - loss: 0.1261 - accuracy: 0.9732 - val_loss: 0.2828 - val_accuracy: 0.8571\n",
      "Epoch 36/100\n",
      "4/4 [==============================] - 13s 3s/step - loss: 0.1176 - accuracy: 0.9911 - val_loss: 0.3008 - val_accuracy: 0.8214\n",
      "Epoch 37/100\n",
      "4/4 [==============================] - 13s 3s/step - loss: 0.1127 - accuracy: 0.9643 - val_loss: 0.3114 - val_accuracy: 0.8571\n",
      "Epoch 38/100\n",
      "4/4 [==============================] - 13s 3s/step - loss: 0.0994 - accuracy: 0.9821 - val_loss: 0.2825 - val_accuracy: 0.8571\n",
      "Epoch 39/100\n",
      "4/4 [==============================] - 13s 3s/step - loss: 0.0813 - accuracy: 0.9821 - val_loss: 0.2850 - val_accuracy: 0.8214\n",
      "Epoch 40/100\n",
      "4/4 [==============================] - 13s 3s/step - loss: 0.1108 - accuracy: 0.9732 - val_loss: 0.3006 - val_accuracy: 0.8571\n",
      "Epoch 41/100\n",
      "4/4 [==============================] - 13s 3s/step - loss: 0.0888 - accuracy: 0.9821 - val_loss: 0.2878 - val_accuracy: 0.8571\n",
      "Epoch 42/100\n",
      "4/4 [==============================] - 13s 3s/step - loss: 0.0425 - accuracy: 0.9911 - val_loss: 0.2776 - val_accuracy: 0.8214\n",
      "Epoch 43/100\n",
      "4/4 [==============================] - 13s 3s/step - loss: 0.0464 - accuracy: 1.0000 - val_loss: 0.2779 - val_accuracy: 0.8571\n",
      "Epoch 44/100\n",
      "4/4 [==============================] - 13s 3s/step - loss: 0.0388 - accuracy: 1.0000 - val_loss: 0.2777 - val_accuracy: 0.8571\n",
      "Epoch 45/100\n",
      "4/4 [==============================] - 13s 3s/step - loss: 0.0549 - accuracy: 0.9911 - val_loss: 0.2946 - val_accuracy: 0.8214\n",
      "Epoch 46/100\n",
      "4/4 [==============================] - 15s 4s/step - loss: 0.0688 - accuracy: 0.9821 - val_loss: 0.2956 - val_accuracy: 0.8214\n",
      "Epoch 47/100\n",
      "4/4 [==============================] - 15s 4s/step - loss: 0.0827 - accuracy: 0.9732 - val_loss: 0.2949 - val_accuracy: 0.8571\n",
      "Epoch 1/50\n",
      "4/4 [==============================] - 47s 10s/step - loss: 0.1041 - binary_accuracy: 0.9490 - val_loss: 0.6951 - val_binary_accuracy: 0.8095\n",
      "Epoch 2/50\n",
      "4/4 [==============================] - 46s 11s/step - loss: 1.0842 - binary_accuracy: 0.7857 - val_loss: 0.1973 - val_binary_accuracy: 0.9048\n",
      "Epoch 3/50\n",
      "4/4 [==============================] - 44s 10s/step - loss: 0.2916 - binary_accuracy: 0.8163 - val_loss: 1.0662 - val_binary_accuracy: 0.5714\n",
      "Epoch 4/50\n",
      "4/4 [==============================] - 43s 10s/step - loss: 0.3539 - binary_accuracy: 0.7449 - val_loss: 0.3505 - val_binary_accuracy: 0.8571\n",
      "Epoch 5/50\n",
      "4/4 [==============================] - 44s 10s/step - loss: 0.1985 - binary_accuracy: 0.9082 - val_loss: 0.4530 - val_binary_accuracy: 0.8571\n",
      "Epoch 6/50\n",
      "4/4 [==============================] - 46s 11s/step - loss: 0.2073 - binary_accuracy: 0.9082 - val_loss: 0.4466 - val_binary_accuracy: 0.8333\n",
      "Epoch 7/50\n",
      "4/4 [==============================] - 46s 11s/step - loss: 0.1476 - binary_accuracy: 0.9592 - val_loss: 0.4215 - val_binary_accuracy: 0.8571\n"
     ]
    },
    {
     "data": {
      "image/png": "[encoded data removed]",
      "text/plain": [
       "<Figure size 432x288 with 1 Axes>"
      ]
     },
     "metadata": {
      "needs_background": "light"
     },
     "output_type": "display_data"
    }
   ],
   "source": [
    "\n",
    "loss_fn = tf.keras.losses.loss_fn = tf.keras.losses.CategoricalCrossentropy(from_logits=True)\n",
    "optimizer = tf.keras.optimizers.Adam()# modify weight in Adam\n",
    "metrics = ['accuracy']\n",
    "model.compile (optimizer = optimizer,loss =  loss_fn,metrics = metrics)\n",
    "callback = tf.keras.callbacks.EarlyStopping(monitor='val_loss', patience=5)\n",
    "epochs = 100\n",
    "history = model.fit(x_train, y_train, epochs=epochs,validation_split=0.2,callbacks=callback,class_weight = class_weights)\n",
    "\n",
    "base_model.trainable = True\n",
    "model.compile(\n",
    "    optimizer=tf.keras.optimizers.Adam(1e-5), \n",
    "    loss=tf.keras.losses.CategoricalCrossentropy(from_logits=True),\n",
    "    metrics=[tf.keras.metrics.BinaryAccuracy()],\n",
    ")\n",
    "\n",
    "epochs = 50\n",
    "history = model.fit(x_train, y_train, epochs=epochs,validation_split=0.3,callbacks=callback,class_weight = class_weights)\n",
    "\n",
    "plt.plot(history.history['loss'],label = 'loss')\n",
    "plt.plot(history.history['val_loss'],label = 'val_loss')\n",
    "plt.legend()\n",
    "plt.show()\n"
   ]
  },
  {
   "cell_type": "code",
   "execution_count": null,
   "metadata": {},
   "outputs": [
    {
     "name": "stdout",
     "output_type": "stream",
     "text": [
      "[1 0 0 1 1 1 1 1 0 0 1 0 0 1 0 0 1 1 1 1 1 1 0 1 1 0 0 0 1 1 1 0 0 1 0]\n",
      "              precision    recall  f1-score   support\n",
      "\n",
      "       type1       0.60      0.82      0.69        11\n",
      "       type2       0.90      0.75      0.82        24\n",
      "\n",
      "    accuracy                           0.77        35\n",
      "   macro avg       0.75      0.78      0.76        35\n",
      "weighted avg       0.81      0.77      0.78        35\n",
      "\n"
     ]
    },
    {
     "data": {
      "image/png": "[encoded data removed]",
      "text/plain": [
       "<Figure size 432x288 with 2 Axes>"
      ]
     },
     "metadata": {
      "needs_background": "light"
     },
     "output_type": "display_data"
    }
   ],
   "source": [
    "pred = model.predict(x_test)\n",
    "y_pred = np.argmax(pred, axis=1)\n",
    "y_test = np.argmax(y_test, axis=1) \n",
    "print(y_pred)\n",
    "cm = confusion_matrix(y_test, y_pred)\n",
    "\n",
    "disp = ConfusionMatrixDisplay(confusion_matrix=cm,display_labels=class_names)\n",
    "disp.plot()\n",
    "plt.show\n",
    "\n",
    "from sklearn.metrics import classification_report\n",
    "print(classification_report(y_test, y_pred,target_names=class_names))"
   ]
  },
  {
   "cell_type": "code",
   "execution_count": null,
   "metadata": {},
   "outputs": [],
   "source": [
    "model.save('type1.h5')"
   ]
  },
  {
   "cell_type": "code",
   "execution_count": null,
   "metadata": {},
   "outputs": [
    {
     "name": "stdout",
     "output_type": "stream",
     "text": [
      "Found 175 files belonging to 2 classes.\n"
     ]
    },
    {
     "name": "stderr",
     "output_type": "stream",
     "text": [
      "c:\\Users\\acer\\anaconda3\\lib\\site-packages\\ipykernel_launcher.py:2: RuntimeWarning: divide by zero encountered in long_scalars\n",
      "  \n"
     ]
    }
   ],
   "source": [
    "x_train,x_test,y_train,y_test,class_weights,class_names = preprocess(type2_directory,3)"
   ]
  },
  {
   "cell_type": "code",
   "execution_count": null,
   "metadata": {},
   "outputs": [
    {
     "name": "stdout",
     "output_type": "stream",
     "text": [
      "Model: \"model_5\"\n",
      "_________________________________________________________________\n",
      " Layer (type)                Output Shape              Param #   \n",
      "=================================================================\n",
      " input_12 (InputLayer)       [(None, 432, 288, 3)]     0         \n",
      "                                                                 \n",
      " rescaling_5 (Rescaling)     (None, 432, 288, 3)       0         \n",
      "                                                                 \n",
      " tf.cast_5 (TFOpLambda)      (None, 432, 288, 3)       0         \n",
      "                                                                 \n",
      " resnet50v2 (Functional)     (None, 14, 9, 2048)       23564800  \n",
      "                                                                 \n",
      " conv2d_5 (Conv2D)           (None, 14, 9, 128)        2359424   \n",
      "                                                                 \n",
      " max_pooling2d_23 (MaxPoolin  (None, 7, 4, 128)        0         \n",
      " g2D)                                                            \n",
      "                                                                 \n",
      " dropout_10 (Dropout)        (None, 7, 4, 128)         0         \n",
      "                                                                 \n",
      " global_average_pooling2d_5   (None, 128)              0         \n",
      " (GlobalAveragePooling2D)                                        \n",
      "                                                                 \n",
      " dropout_11 (Dropout)        (None, 128)               0         \n",
      "                                                                 \n",
      " dense_5 (Dense)             (None, 3)                 387       \n",
      "                                                                 \n",
      "=================================================================\n",
      "Total params: 25,924,611\n",
      "Trainable params: 2,359,811\n",
      "Non-trainable params: 23,564,800\n",
      "_________________________________________________________________\n"
     ]
    }
   ],
   "source": [
    "base_model = tf.keras.applications.ResNet50V2(\n",
    "    weights=\"imagenet\",  # Load weights pre-trained on ImageNet.\n",
    "    input_shape=(img_height, img_width, 3),\n",
    "    include_top=False,\n",
    ") \n",
    "\n",
    "# Freeze the base_model\n",
    "base_model.trainable = False\n",
    "\n",
    "# Create new model on top\n",
    "\n",
    "inputs = tf.keras.Input(shape=(img_height, img_width, 3))\n",
    "\n",
    "scale_layer = tf.keras.layers.Rescaling(scale=1./255)\n",
    "x = scale_layer(inputs)\n",
    "\n",
    "x = tf.cast(x,tf.float32)\n",
    "\n",
    "x = base_model(x, training=False)\n",
    "\n",
    "x = tf.keras.layers.Conv2D(128, 3, padding='same', activation='relu')(x)          \n",
    "x = tf.keras.layers.MaxPooling2D((2,2))(x)\n",
    "x = tf.keras.layers.Dropout(0.2)(x)\n",
    "            \n",
    "x = tf.keras.layers.GlobalAveragePooling2D()(x)\n",
    "\n",
    "#x = tf.keras.layers.Dense(128, activation='relu')(x)\n",
    "\n",
    "x = tf.keras.layers.Dropout(0.2)(x)  # Regularize with dropout\n",
    "outputs = tf.keras.layers.Dense(3,activation='softmax')(x)\n",
    "model = tf.keras.Model(inputs, outputs)\n",
    "\n",
    "model.summary()"
   ]
  },
  {
   "cell_type": "code",
   "execution_count": null,
   "metadata": {},
   "outputs": [
    {
     "name": "stdout",
     "output_type": "stream",
     "text": [
      "Epoch 1/100\n"
     ]
    },
    {
     "name": "stderr",
     "output_type": "stream",
     "text": [
      "c:\\Users\\acer\\anaconda3\\lib\\site-packages\\tensorflow\\python\\util\\dispatch.py:1082: UserWarning: \"`categorical_crossentropy` received `from_logits=True`, but the `output` argument was produced by a sigmoid or softmax activation and thus does not represent logits. Was this intended?\"\n",
      "  return dispatch_target(*args, **kwargs)\n"
     ]
    },
    {
     "name": "stdout",
     "output_type": "stream",
     "text": [
      "4/4 [==============================] - 19s 4s/step - loss: 4.2483 - accuracy: 0.5446 - val_loss: 0.4918 - val_accuracy: 0.7500\n",
      "Epoch 2/100\n",
      "4/4 [==============================] - 13s 3s/step - loss: 0.6753 - accuracy: 0.4107 - val_loss: 1.4877 - val_accuracy: 0.3214\n",
      "Epoch 3/100\n",
      "4/4 [==============================] - 13s 3s/step - loss: 0.6160 - accuracy: 0.3214 - val_loss: 0.7106 - val_accuracy: 0.4286\n",
      "Epoch 4/100\n",
      "4/4 [==============================] - 13s 3s/step - loss: 0.4196 - accuracy: 0.6429 - val_loss: 0.5599 - val_accuracy: 0.7500\n",
      "Epoch 5/100\n",
      "4/4 [==============================] - 13s 3s/step - loss: 0.4280 - accuracy: 0.7321 - val_loss: 0.5370 - val_accuracy: 0.7143\n",
      "Epoch 6/100\n",
      "4/4 [==============================] - 13s 3s/step - loss: 0.4078 - accuracy: 0.7321 - val_loss: 0.5277 - val_accuracy: 0.7500\n",
      "Epoch 1/50\n",
      "4/4 [==============================] - 48s 11s/step - loss: 0.4019 - binary_accuracy: 0.8163 - val_loss: 0.5022 - val_binary_accuracy: 0.8413\n",
      "Epoch 2/50\n",
      "4/4 [==============================] - 44s 10s/step - loss: 0.3393 - binary_accuracy: 0.8776 - val_loss: 0.4372 - val_binary_accuracy: 0.8730\n",
      "Epoch 3/50\n",
      "4/4 [==============================] - 44s 10s/step - loss: 0.3075 - binary_accuracy: 0.8707 - val_loss: 0.6685 - val_binary_accuracy: 0.7460\n",
      "Epoch 4/50\n",
      "4/4 [==============================] - 44s 10s/step - loss: 0.3438 - binary_accuracy: 0.7279 - val_loss: 0.7244 - val_binary_accuracy: 0.6984\n",
      "Epoch 5/50\n",
      "4/4 [==============================] - 45s 10s/step - loss: 0.3155 - binary_accuracy: 0.8163 - val_loss: 0.5200 - val_binary_accuracy: 0.8571\n",
      "Epoch 6/50\n",
      "4/4 [==============================] - 44s 10s/step - loss: 0.2979 - binary_accuracy: 0.8776 - val_loss: 0.4463 - val_binary_accuracy: 0.8413\n",
      "Epoch 7/50\n",
      "4/4 [==============================] - 44s 10s/step - loss: 0.2802 - binary_accuracy: 0.9184 - val_loss: 0.4274 - val_binary_accuracy: 0.8889\n",
      "Epoch 8/50\n",
      "4/4 [==============================] - 44s 10s/step - loss: 0.2384 - binary_accuracy: 0.8980 - val_loss: 0.4897 - val_binary_accuracy: 0.9048\n",
      "Epoch 9/50\n",
      "4/4 [==============================] - 44s 10s/step - loss: 0.2199 - binary_accuracy: 0.8980 - val_loss: 0.4085 - val_binary_accuracy: 0.8730\n",
      "Epoch 10/50\n",
      "4/4 [==============================] - 44s 10s/step - loss: 0.2129 - binary_accuracy: 0.8844 - val_loss: 0.3943 - val_binary_accuracy: 0.8571\n",
      "Epoch 11/50\n",
      "4/4 [==============================] - 44s 10s/step - loss: 0.1784 - binary_accuracy: 0.9320 - val_loss: 0.4104 - val_binary_accuracy: 0.8571\n",
      "Epoch 12/50\n",
      "4/4 [==============================] - 51s 12s/step - loss: 0.1436 - binary_accuracy: 0.9456 - val_loss: 0.3962 - val_binary_accuracy: 0.8730\n",
      "Epoch 13/50\n",
      "4/4 [==============================] - 51s 12s/step - loss: 0.1370 - binary_accuracy: 0.9456 - val_loss: 0.4272 - val_binary_accuracy: 0.8730\n",
      "Epoch 14/50\n",
      "4/4 [==============================] - 51s 12s/step - loss: 0.1575 - binary_accuracy: 0.9660 - val_loss: 0.4875 - val_binary_accuracy: 0.8889\n",
      "Epoch 15/50\n",
      "4/4 [==============================] - 51s 12s/step - loss: 0.0978 - binary_accuracy: 0.9728 - val_loss: 0.4808 - val_binary_accuracy: 0.9048\n"
     ]
    },
    {
     "data": {
      "image/png": "[encoded data removed]",
      "text/plain": [
       "<Figure size 432x288 with 1 Axes>"
      ]
     },
     "metadata": {
      "needs_background": "light"
     },
     "output_type": "display_data"
    }
   ],
   "source": [
    "\n",
    "loss_fn = tf.keras.losses.loss_fn = tf.keras.losses.CategoricalCrossentropy(from_logits=True)\n",
    "optimizer = tf.keras.optimizers.Adam()# modify weight in Adam\n",
    "metrics = ['accuracy']\n",
    "model.compile (optimizer = optimizer,loss =  loss_fn,metrics = metrics)\n",
    "callback = tf.keras.callbacks.EarlyStopping(monitor='val_loss', patience=5)\n",
    "epochs = 100\n",
    "history = model.fit(x_train, y_train, epochs=epochs,validation_split=0.2,callbacks=callback,class_weight = class_weights)\n",
    "\n",
    "base_model.trainable = True\n",
    "model.compile(\n",
    "    optimizer=tf.keras.optimizers.Adam(1e-5), \n",
    "    loss=tf.keras.losses.CategoricalCrossentropy(from_logits=True),\n",
    "    metrics=[tf.keras.metrics.BinaryAccuracy()],\n",
    ")\n",
    "\n",
    "epochs = 50\n",
    "history = model.fit(x_train, y_train, epochs=epochs,validation_split=0.3,callbacks=callback,class_weight = class_weights)\n",
    "\n",
    "plt.plot(history.history['loss'],label = 'loss')\n",
    "plt.plot(history.history['val_loss'],label = 'val_loss')\n",
    "plt.legend()\n",
    "plt.show()\n"
   ]
  },
  {
   "cell_type": "code",
   "execution_count": null,
   "metadata": {},
   "outputs": [
    {
     "name": "stdout",
     "output_type": "stream",
     "text": [
      "[1 0 0 1 1 1 1 1 0 0 0 0 0 1 0 1 0 1 1 1 1 1 0 1 0 0 1 1 1 1 1 0 0 1 1]\n",
      "              precision    recall  f1-score   support\n",
      "\n",
      "       type1       0.57      0.73      0.64        11\n",
      "       type2       0.86      0.75      0.80        24\n",
      "\n",
      "    accuracy                           0.74        35\n",
      "   macro avg       0.71      0.74      0.72        35\n",
      "weighted avg       0.77      0.74      0.75        35\n",
      "\n"
     ]
    },
    {
     "data": {
      "image/png": "[encoded data removed]",
      "text/plain": [
       "<Figure size 432x288 with 2 Axes>"
      ]
     },
     "metadata": {
      "needs_background": "light"
     },
     "output_type": "display_data"
    }
   ],
   "source": [
    "pred = model.predict(x_test)\n",
    "y_pred = np.argmax(pred, axis=1)\n",
    "y_test = np.argmax(y_test, axis=1) \n",
    "print(y_pred)\n",
    "cm = confusion_matrix(y_test, y_pred)\n",
    "\n",
    "disp = ConfusionMatrixDisplay(confusion_matrix=cm,display_labels=class_names)\n",
    "disp.plot()\n",
    "plt.show\n",
    "\n",
    "from sklearn.metrics import classification_report\n",
    "print(classification_report(y_test, y_pred,target_names=class_names))"
   ]
  },
  {
   "cell_type": "code",
   "execution_count": null,
   "metadata": {},
   "outputs": [],
   "source": [
    "model.save('type2.h5')"
   ]
  },
  {
   "cell_type": "code",
   "execution_count": null,
   "metadata": {},
   "outputs": [],
   "source": []
  },
  {
   "cell_type": "code",
   "execution_count": null,
   "metadata": {},
   "outputs": [],
   "source": []
  }
 ],
 "metadata": {
  "kernelspec": {
   "display_name": "Python 3.7.6 ('base')",
   "language": "python",
   "name": "python3"
  },
  "language_info": {
   "codemirror_mode": {
    "name": "ipython",
    "version": 3
   },
   "file_extension": ".py",
   "mimetype": "text/x-python",
   "name": "python",
   "nbconvert_exporter": "python",
   "pygments_lexer": "ipython3",
   "version": "3.7.6"
  },
  "orig_nbformat": 4,
  "vscode": {
   "interpreter": {
    "hash": "23bf0724a01b6ea9814e66f76182ea78c0ee849a72ca257c0e116bf83bb4960a"
   }
  }
 },
 "nbformat": 4,
 "nbformat_minor": 2
}
