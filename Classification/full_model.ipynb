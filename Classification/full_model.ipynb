{
 "cells": [
  {
   "cell_type": "code",
   "execution_count": 1,
   "metadata": {},
   "outputs": [],
   "source": [
    "import os\n",
    "import librosa, librosa.display\n",
    "import matplotlib.pyplot as plt\n",
    "from pathlib import Path\n",
    "import tensorflow as tf\n",
    "import IPython.display as ipd\n",
    "import numpy as np\n",
    "from sklearn.metrics import confusion_matrix, ConfusionMatrixDisplay\n",
    "from keras.callbacks import ModelCheckpoint\n",
    "from sklearn.metrics import classification_report\n",
    "from sklearn.model_selection import train_test_split\n",
    "import shutil"
   ]
  },
  {
   "cell_type": "code",
   "execution_count": 2,
   "metadata": {},
   "outputs": [
    {
     "name": "stderr",
     "output_type": "stream",
     "text": [
      "c:\\Users\\acer\\anaconda3\\lib\\site-packages\\pydub\\utils.py:170: RuntimeWarning: Couldn't find ffmpeg or avconv - defaulting to ffmpeg, but may not work\n",
      "  warn(\"Couldn't find ffmpeg or avconv - defaulting to ffmpeg, but may not work\", RuntimeWarning)\n"
     ]
    }
   ],
   "source": [
    "from pydub import AudioSegment"
   ]
  },
  {
   "cell_type": "code",
   "execution_count": 3,
   "metadata": {},
   "outputs": [],
   "source": [
    "def dummy(data,numarr):\n",
    "    new_data =[]\n",
    "    for i in data:\n",
    "        lab_data = []\n",
    "        for j in range(0,numarr):\n",
    "            lab_data.append(0)\n",
    "        #lab_data =[0,0]\n",
    "        lab_data[i] = 1\n",
    "        new_data.append(lab_data)\n",
    "    return new_data"
   ]
  },
  {
   "cell_type": "code",
   "execution_count": 4,
   "metadata": {},
   "outputs": [],
   "source": [
    "def create_weight(n_sample,n_class,n_class_sample):\n",
    "    weight = n_sample/(n_class*n_class_sample)\n",
    "    return weight "
   ]
  },
  {
   "cell_type": "code",
   "execution_count": 5,
   "metadata": {},
   "outputs": [],
   "source": [
    "\n",
    "def createdict(num):\n",
    "    lab_data = []\n",
    "    for i in range(0,num):\n",
    "        lab_data.append(i)\n",
    "    dic = dict.fromkeys(lab_data, 0)\n",
    "    return dic"
   ]
  },
  {
   "cell_type": "code",
   "execution_count": 6,
   "metadata": {},
   "outputs": [],
   "source": [
    "def createWeight(class_count,num_classes):\n",
    "    class_weights = createdict(num_classes)\n",
    "    for i in range(num_classes):\n",
    "        class_weights[i]=create_weight(np.sum(class_count),num_classes,class_count[i])\n",
    "    return class_weights"
   ]
  },
  {
   "cell_type": "code",
   "execution_count": 7,
   "metadata": {},
   "outputs": [],
   "source": [
    "def preprocess(data_dir,numclass):\n",
    "    data_ds = tf.keras.preprocessing.image_dataset_from_directory(\n",
    "    data_dir, labels='inferred', label_mode='int', image_size=(432, 288), seed=321,\n",
    "    validation_split=None, subset=None)\n",
    "    class_names = data_ds.class_names\n",
    "    \n",
    "    feature=[]\n",
    "    label=[]\n",
    "    for images, labels in data_ds.unbatch().take(-1):\n",
    "        feature.append(images.numpy())\n",
    "        label.append(labels.numpy())\n",
    "        \n",
    "    x_train,x_test,y_train,y_test = train_test_split(feature,label,test_size = 0.20,random_state =101)\n",
    "    \n",
    "    x_train = np.array(x_train)\n",
    "    x_test = np.array(x_test)\n",
    "    y_train = np.array(y_train)\n",
    "    y_test = np.array(y_test)\n",
    "    \n",
    "    \n",
    "    class_count=[]\n",
    "    for i in range(0,numclass):\n",
    "        class_count.append(np.count_nonzero(y_train == i))\n",
    "    class_count = np.array(class_count)\n",
    "    y_train = dummy(y_train,numclass)\n",
    "    y_test = dummy(y_test,numclass)\n",
    "    class_weights = createWeight(class_count,numclass)\n",
    "   \n",
    "    \n",
    "    y_train = np.array(y_train)\n",
    "    y_test = np.array(y_test)\n",
    "    return x_train,x_test,y_train,y_test,class_weights,class_names\n",
    "    "
   ]
  },
  {
   "cell_type": "code",
   "execution_count": 8,
   "metadata": {},
   "outputs": [
    {
     "name": "stdout",
     "output_type": "stream",
     "text": [
      "Found 248 files belonging to 2 classes.\n"
     ]
    }
   ],
   "source": [
    "x_train,x_test,y_train,y_test,class_weights,class_names = preprocess(type_classification_directory,2)"
   ]
  },
  {
   "cell_type": "code",
   "execution_count": 9,
   "metadata": {},
   "outputs": [],
   "source": [
    "def categories2binary(categories):\n",
    "    binarydata = []\n",
    "    for item in categories:\n",
    "        binarydata.append(item[0])\n",
    "    binarydata=np.array(binarydata)\n",
    "    return(binarydata)"
   ]
  },
  {
   "cell_type": "code",
   "execution_count": 10,
   "metadata": {},
   "outputs": [],
   "source": [
    "def binary2categories(binary):\n",
    "    new_data = []\n",
    "    for i in binary:\n",
    "        lab_data = []\n",
    "        for j in range(0,2):\n",
    "            lab_data.append(0)\n",
    "        if(i>=0.5):\n",
    "            lab_data[1]=1;\n",
    "        elif(i<0.5):\n",
    "            lab_data[0]=1;\n",
    "        new_data.append(lab_data)\n",
    "    new_data = np.array(new_data)\n",
    "    return(new_data)"
   ]
  },
  {
   "cell_type": "code",
   "execution_count": 11,
   "metadata": {},
   "outputs": [
    {
     "name": "stdout",
     "output_type": "stream",
     "text": [
      "Model: \"model\"\n",
      "_________________________________________________________________\n",
      " Layer (type)                Output Shape              Param #   \n",
      "=================================================================\n",
      " input_2 (InputLayer)        [(None, 432, 288, 3)]     0         \n",
      "                                                                 \n",
      " rescaling (Rescaling)       (None, 432, 288, 3)       0         \n",
      "                                                                 \n",
      " tf.cast (TFOpLambda)        (None, 432, 288, 3)       0         \n",
      "                                                                 \n",
      " resnet50v2 (Functional)     (None, 14, 9, 2048)       23564800  \n",
      "                                                                 \n",
      " conv2d (Conv2D)             (None, 14, 9, 128)        2359424   \n",
      "                                                                 \n",
      " max_pooling2d_3 (MaxPooling  (None, 7, 4, 128)        0         \n",
      " 2D)                                                             \n",
      "                                                                 \n",
      " dropout (Dropout)           (None, 7, 4, 128)         0         \n",
      "                                                                 \n",
      " global_average_pooling2d (G  (None, 128)              0         \n",
      " lobalAveragePooling2D)                                          \n",
      "                                                                 \n",
      " dropout_1 (Dropout)         (None, 128)               0         \n",
      "                                                                 \n",
      " dense (Dense)               (None, 2)                 258       \n",
      "                                                                 \n",
      "=================================================================\n",
      "Total params: 25,924,482\n",
      "Trainable params: 2,359,682\n",
      "Non-trainable params: 23,564,800\n",
      "_________________________________________________________________\n"
     ]
    }
   ],
   "source": [
    "split_class_base_model = tf.keras.applications.ResNet50V2(\n",
    "    weights=\"imagenet\",  # Load weights pre-trained on ImageNet.\n",
    "    input_shape=(img_height, img_width, 3),\n",
    "    include_top=False,\n",
    ") \n",
    "\n",
    "# Freeze the base_model\n",
    "split_class_base_model.trainable = False\n",
    "\n",
    "# Create new model on top\n",
    "\n",
    "inputs = tf.keras.Input(shape=(img_height, img_width, 3))\n",
    "\n",
    "scale_layer = tf.keras.layers.Rescaling(scale=1./255)\n",
    "x = scale_layer(inputs)\n",
    "\n",
    "x = tf.cast(x,tf.float32)\n",
    "\n",
    "x = split_class_base_model(x, training=False)\n",
    "\n",
    "x = tf.keras.layers.Conv2D(128, 3, padding='same', activation='relu')(x)          \n",
    "x = tf.keras.layers.MaxPooling2D((2,2))(x)\n",
    "x = tf.keras.layers.Dropout(0.2)(x)\n",
    "            \n",
    "x = tf.keras.layers.GlobalAveragePooling2D()(x)\n",
    "\n",
    "#x = tf.keras.layers.Dense(128, activation='relu')(x)\n",
    "\n",
    "x = tf.keras.layers.Dropout(0.2)(x)  # Regularize with dropout\n",
    "outputs = tf.keras.layers.Dense(2,activation='softmax')(x)\n",
    "split_class_model = tf.keras.Model(inputs, outputs)\n",
    "\n",
    "split_class_model.summary()"
   ]
  },
  {
   "cell_type": "code",
   "execution_count": 12,
   "metadata": {},
   "outputs": [
    {
     "name": "stdout",
     "output_type": "stream",
     "text": [
      "Epoch 1/100\n"
     ]
    },
    {
     "name": "stderr",
     "output_type": "stream",
     "text": [
      "c:\\Users\\acer\\anaconda3\\lib\\site-packages\\tensorflow\\python\\util\\dispatch.py:1082: UserWarning: \"`categorical_crossentropy` received `from_logits=True`, but the `output` argument was produced by a sigmoid or softmax activation and thus does not represent logits. Was this intended?\"\n",
      "  return dispatch_target(*args, **kwargs)\n"
     ]
    },
    {
     "name": "stdout",
     "output_type": "stream",
     "text": [
      "5/5 [==============================] - 28s 5s/step - loss: 0.7139 - accuracy: 0.6203 - val_loss: 0.4998 - val_accuracy: 0.7250\n",
      "Epoch 2/100\n",
      "5/5 [==============================] - 19s 4s/step - loss: 0.4590 - accuracy: 0.7722 - val_loss: 0.4223 - val_accuracy: 0.8500\n",
      "Epoch 3/100\n",
      "5/5 [==============================] - 19s 4s/step - loss: 0.4418 - accuracy: 0.8038 - val_loss: 0.3681 - val_accuracy: 0.8250\n",
      "Epoch 4/100\n",
      "5/5 [==============================] - 18s 4s/step - loss: 0.3899 - accuracy: 0.8544 - val_loss: 0.3677 - val_accuracy: 0.8500\n",
      "Epoch 5/100\n",
      "5/5 [==============================] - 18s 4s/step - loss: 0.2756 - accuracy: 0.8924 - val_loss: 0.3799 - val_accuracy: 0.8750\n",
      "Epoch 6/100\n",
      "5/5 [==============================] - 18s 4s/step - loss: 0.2891 - accuracy: 0.8987 - val_loss: 0.3197 - val_accuracy: 0.8750\n",
      "Epoch 7/100\n",
      "5/5 [==============================] - 18s 4s/step - loss: 0.2659 - accuracy: 0.8861 - val_loss: 0.3124 - val_accuracy: 0.9000\n",
      "Epoch 8/100\n",
      "5/5 [==============================] - 18s 4s/step - loss: 0.2443 - accuracy: 0.8987 - val_loss: 0.3197 - val_accuracy: 0.8750\n",
      "Epoch 9/100\n",
      "5/5 [==============================] - 18s 4s/step - loss: 0.2008 - accuracy: 0.9241 - val_loss: 0.3093 - val_accuracy: 0.9250\n",
      "Epoch 10/100\n",
      "5/5 [==============================] - 18s 4s/step - loss: 0.1919 - accuracy: 0.9114 - val_loss: 0.3129 - val_accuracy: 0.9000\n",
      "Epoch 11/100\n",
      "5/5 [==============================] - 18s 4s/step - loss: 0.1661 - accuracy: 0.9557 - val_loss: 0.3140 - val_accuracy: 0.8750\n",
      "Epoch 12/100\n",
      "5/5 [==============================] - 18s 4s/step - loss: 0.1557 - accuracy: 0.9430 - val_loss: 0.3026 - val_accuracy: 0.9000\n",
      "Epoch 13/100\n",
      "5/5 [==============================] - 18s 4s/step - loss: 0.1335 - accuracy: 0.9557 - val_loss: 0.3156 - val_accuracy: 0.8500\n",
      "Epoch 14/100\n",
      "5/5 [==============================] - 18s 4s/step - loss: 0.1321 - accuracy: 0.9557 - val_loss: 0.3115 - val_accuracy: 0.8750\n",
      "Epoch 15/100\n",
      "5/5 [==============================] - 18s 4s/step - loss: 0.1156 - accuracy: 0.9557 - val_loss: 0.3144 - val_accuracy: 0.9250\n",
      "Epoch 16/100\n",
      "5/5 [==============================] - 18s 4s/step - loss: 0.1334 - accuracy: 0.9494 - val_loss: 0.3352 - val_accuracy: 0.8500\n",
      "Epoch 17/100\n",
      "5/5 [==============================] - 18s 4s/step - loss: 0.1045 - accuracy: 0.9684 - val_loss: 0.2972 - val_accuracy: 0.9250\n",
      "Epoch 18/100\n",
      "5/5 [==============================] - 26s 5s/step - loss: 0.0945 - accuracy: 0.9747 - val_loss: 0.3249 - val_accuracy: 0.8500\n",
      "Epoch 19/100\n",
      "5/5 [==============================] - 18s 4s/step - loss: 0.0835 - accuracy: 0.9873 - val_loss: 0.2956 - val_accuracy: 0.9250\n",
      "Epoch 20/100\n",
      "5/5 [==============================] - 22s 5s/step - loss: 0.0765 - accuracy: 0.9747 - val_loss: 0.2988 - val_accuracy: 0.8750\n",
      "Epoch 21/100\n",
      "5/5 [==============================] - 20s 4s/step - loss: 0.0844 - accuracy: 0.9810 - val_loss: 0.3201 - val_accuracy: 0.8500\n",
      "Epoch 22/100\n",
      "5/5 [==============================] - 18s 4s/step - loss: 0.0580 - accuracy: 0.9937 - val_loss: 0.3027 - val_accuracy: 0.9000\n",
      "Epoch 23/100\n",
      "5/5 [==============================] - 17s 4s/step - loss: 0.0622 - accuracy: 0.9937 - val_loss: 0.3087 - val_accuracy: 0.8750\n",
      "Epoch 24/100\n",
      "5/5 [==============================] - 19s 4s/step - loss: 0.0616 - accuracy: 1.0000 - val_loss: 0.3358 - val_accuracy: 0.8500\n"
     ]
    },
    {
     "data": {
      "image/png": "[encoded data removed]",
      "text/plain": [
       "<Figure size 432x288 with 1 Axes>"
      ]
     },
     "metadata": {
      "needs_background": "light"
     },
     "output_type": "display_data"
    }
   ],
   "source": [
    "\n",
    "loss_fn = tf.keras.losses.loss_fn = tf.keras.losses.CategoricalCrossentropy(from_logits=True)\n",
    "optimizer = tf.keras.optimizers.Adam(1e-4)# modify weight in Adam\n",
    "metrics = ['accuracy']\n",
    "split_class_model.compile (optimizer = optimizer,loss =  loss_fn,metrics = metrics)\n",
    "callback = tf.keras.callbacks.EarlyStopping(monitor='val_loss', patience=5)\n",
    "epochs = 100\n",
    "history = split_class_model.fit(x_train, y_train, epochs=epochs,validation_split=0.2,callbacks=callback,class_weight = class_weights)\n",
    "\n",
    "plt.plot(history.history['loss'],label = 'loss')\n",
    "plt.plot(history.history['val_loss'],label = 'val_loss')\n",
    "plt.legend()\n",
    "plt.show()\n",
    "\n"
   ]
  },
  {
   "cell_type": "code",
   "execution_count": 13,
   "metadata": {},
   "outputs": [
    {
     "name": "stdout",
     "output_type": "stream",
     "text": [
      "[0 0 0 1 0 1 1 0 1 0 1 0 0 0 1 1 0 1 0 1 0 1 0 0 0 0 0 1 0 0 0 1 1 1 0 0 1\n",
      " 0 0 0 0 0 0 1 1 0 0 0 1 0]\n",
      "                          precision    recall  f1-score   support\n",
      "\n",
      "HungryTiredAndDiscomfort       0.91      0.97      0.94        30\n",
      "             burpAndPoop       0.94      0.85      0.89        20\n",
      "\n",
      "                accuracy                           0.92        50\n",
      "               macro avg       0.93      0.91      0.92        50\n",
      "            weighted avg       0.92      0.92      0.92        50\n",
      "\n"
     ]
    },
    {
     "data": {
      "image/png": "[encoded data removed]",
      "text/plain": [
       "<Figure size 432x288 with 2 Axes>"
      ]
     },
     "metadata": {
      "needs_background": "light"
     },
     "output_type": "display_data"
    }
   ],
   "source": [
    "pred = split_class_model.predict(x_test)\n",
    "y_pred = np.argmax(pred, axis=1)\n",
    "y_test = np.argmax(y_test, axis=1)\n",
    "print(y_pred)\n",
    "cm = confusion_matrix(y_test, y_pred)\n",
    "\n",
    "disp = ConfusionMatrixDisplay(confusion_matrix=cm,display_labels=class_names)\n",
    "disp.plot()\n",
    "plt.show\n",
    "\n",
    "from sklearn.metrics import classification_report\n",
    "print(classification_report(y_test, y_pred,target_names=class_names))"
   ]
  },
  {
   "cell_type": "code",
   "execution_count": 14,
   "metadata": {},
   "outputs": [],
   "source": [
    "split_class_model.save('./h5_model/split_class_model.h5')"
   ]
  },
  {
   "cell_type": "code",
   "execution_count": 15,
   "metadata": {},
   "outputs": [
    {
     "ename": "FileNotFoundError",
     "evalue": "[WinError 3] The system cannot find the path specified: './data/img_data/dustan/burpAndPoop/mel_spectrogram/'",
     "output_type": "error",
     "traceback": [
      "\u001b[1;31m---------------------------------------------------------------------------\u001b[0m",
      "\u001b[1;31mFileNotFoundError\u001b[0m                         Traceback (most recent call last)",
      "\u001b[1;32m<ipython-input-15-2384f6bb45f9>\u001b[0m in \u001b[0;36m<module>\u001b[1;34m\u001b[0m\n\u001b[1;32m----> 1\u001b[1;33m \u001b[0mx_train\u001b[0m\u001b[1;33m,\u001b[0m\u001b[0mx_test\u001b[0m\u001b[1;33m,\u001b[0m\u001b[0my_train\u001b[0m\u001b[1;33m,\u001b[0m\u001b[0my_test\u001b[0m\u001b[1;33m,\u001b[0m\u001b[0mclass_weights\u001b[0m\u001b[1;33m,\u001b[0m\u001b[0mclass_names\u001b[0m \u001b[1;33m=\u001b[0m \u001b[0mpreprocess\u001b[0m\u001b[1;33m(\u001b[0m\u001b[0mburpAndPoop_directory\u001b[0m\u001b[1;33m,\u001b[0m\u001b[1;36m2\u001b[0m\u001b[1;33m)\u001b[0m\u001b[1;33m\u001b[0m\u001b[1;33m\u001b[0m\u001b[0m\n\u001b[0m",
      "\u001b[1;32m<ipython-input-7-d060e8609165>\u001b[0m in \u001b[0;36mpreprocess\u001b[1;34m(data_dir, numclass)\u001b[0m\n\u001b[0;32m      2\u001b[0m     data_ds = tf.keras.preprocessing.image_dataset_from_directory(\n\u001b[0;32m      3\u001b[0m     \u001b[0mdata_dir\u001b[0m\u001b[1;33m,\u001b[0m \u001b[0mlabels\u001b[0m\u001b[1;33m=\u001b[0m\u001b[1;34m'inferred'\u001b[0m\u001b[1;33m,\u001b[0m \u001b[0mlabel_mode\u001b[0m\u001b[1;33m=\u001b[0m\u001b[1;34m'int'\u001b[0m\u001b[1;33m,\u001b[0m \u001b[0mimage_size\u001b[0m\u001b[1;33m=\u001b[0m\u001b[1;33m(\u001b[0m\u001b[1;36m432\u001b[0m\u001b[1;33m,\u001b[0m \u001b[1;36m288\u001b[0m\u001b[1;33m)\u001b[0m\u001b[1;33m,\u001b[0m \u001b[0mseed\u001b[0m\u001b[1;33m=\u001b[0m\u001b[1;36m321\u001b[0m\u001b[1;33m,\u001b[0m\u001b[1;33m\u001b[0m\u001b[1;33m\u001b[0m\u001b[0m\n\u001b[1;32m----> 4\u001b[1;33m     validation_split=None, subset=None)\n\u001b[0m\u001b[0;32m      5\u001b[0m     \u001b[0mclass_names\u001b[0m \u001b[1;33m=\u001b[0m \u001b[0mdata_ds\u001b[0m\u001b[1;33m.\u001b[0m\u001b[0mclass_names\u001b[0m\u001b[1;33m\u001b[0m\u001b[1;33m\u001b[0m\u001b[0m\n\u001b[0;32m      6\u001b[0m \u001b[1;33m\u001b[0m\u001b[0m\n",
      "\u001b[1;32mc:\\Users\\acer\\anaconda3\\lib\\site-packages\\keras\\preprocessing\\image_dataset.py\u001b[0m in \u001b[0;36mimage_dataset_from_directory\u001b[1;34m(directory, labels, label_mode, class_names, color_mode, batch_size, image_size, shuffle, seed, validation_split, subset, interpolation, follow_links, crop_to_aspect_ratio, **kwargs)\u001b[0m\n\u001b[0;32m    197\u001b[0m       \u001b[0mshuffle\u001b[0m\u001b[1;33m=\u001b[0m\u001b[0mshuffle\u001b[0m\u001b[1;33m,\u001b[0m\u001b[1;33m\u001b[0m\u001b[1;33m\u001b[0m\u001b[0m\n\u001b[0;32m    198\u001b[0m       \u001b[0mseed\u001b[0m\u001b[1;33m=\u001b[0m\u001b[0mseed\u001b[0m\u001b[1;33m,\u001b[0m\u001b[1;33m\u001b[0m\u001b[1;33m\u001b[0m\u001b[0m\n\u001b[1;32m--> 199\u001b[1;33m       follow_links=follow_links)\n\u001b[0m\u001b[0;32m    200\u001b[0m \u001b[1;33m\u001b[0m\u001b[0m\n\u001b[0;32m    201\u001b[0m   \u001b[1;32mif\u001b[0m \u001b[0mlabel_mode\u001b[0m \u001b[1;33m==\u001b[0m \u001b[1;34m'binary'\u001b[0m \u001b[1;32mand\u001b[0m \u001b[0mlen\u001b[0m\u001b[1;33m(\u001b[0m\u001b[0mclass_names\u001b[0m\u001b[1;33m)\u001b[0m \u001b[1;33m!=\u001b[0m \u001b[1;36m2\u001b[0m\u001b[1;33m:\u001b[0m\u001b[1;33m\u001b[0m\u001b[1;33m\u001b[0m\u001b[0m\n",
      "\u001b[1;32mc:\\Users\\acer\\anaconda3\\lib\\site-packages\\keras\\preprocessing\\dataset_utils.py\u001b[0m in \u001b[0;36mindex_directory\u001b[1;34m(directory, labels, formats, class_names, shuffle, seed, follow_links)\u001b[0m\n\u001b[0;32m     64\u001b[0m   \u001b[1;32melse\u001b[0m\u001b[1;33m:\u001b[0m\u001b[1;33m\u001b[0m\u001b[1;33m\u001b[0m\u001b[0m\n\u001b[0;32m     65\u001b[0m     \u001b[0msubdirs\u001b[0m \u001b[1;33m=\u001b[0m \u001b[1;33m[\u001b[0m\u001b[1;33m]\u001b[0m\u001b[1;33m\u001b[0m\u001b[1;33m\u001b[0m\u001b[0m\n\u001b[1;32m---> 66\u001b[1;33m     \u001b[1;32mfor\u001b[0m \u001b[0msubdir\u001b[0m \u001b[1;32min\u001b[0m \u001b[0msorted\u001b[0m\u001b[1;33m(\u001b[0m\u001b[0mos\u001b[0m\u001b[1;33m.\u001b[0m\u001b[0mlistdir\u001b[0m\u001b[1;33m(\u001b[0m\u001b[0mdirectory\u001b[0m\u001b[1;33m)\u001b[0m\u001b[1;33m)\u001b[0m\u001b[1;33m:\u001b[0m\u001b[1;33m\u001b[0m\u001b[1;33m\u001b[0m\u001b[0m\n\u001b[0m\u001b[0;32m     67\u001b[0m       \u001b[1;32mif\u001b[0m \u001b[0mos\u001b[0m\u001b[1;33m.\u001b[0m\u001b[0mpath\u001b[0m\u001b[1;33m.\u001b[0m\u001b[0misdir\u001b[0m\u001b[1;33m(\u001b[0m\u001b[0mos\u001b[0m\u001b[1;33m.\u001b[0m\u001b[0mpath\u001b[0m\u001b[1;33m.\u001b[0m\u001b[0mjoin\u001b[0m\u001b[1;33m(\u001b[0m\u001b[0mdirectory\u001b[0m\u001b[1;33m,\u001b[0m \u001b[0msubdir\u001b[0m\u001b[1;33m)\u001b[0m\u001b[1;33m)\u001b[0m\u001b[1;33m:\u001b[0m\u001b[1;33m\u001b[0m\u001b[1;33m\u001b[0m\u001b[0m\n\u001b[0;32m     68\u001b[0m         \u001b[0msubdirs\u001b[0m\u001b[1;33m.\u001b[0m\u001b[0mappend\u001b[0m\u001b[1;33m(\u001b[0m\u001b[0msubdir\u001b[0m\u001b[1;33m)\u001b[0m\u001b[1;33m\u001b[0m\u001b[1;33m\u001b[0m\u001b[0m\n",
      "\u001b[1;31mFileNotFoundError\u001b[0m: [WinError 3] The system cannot find the path specified: './data/img_data/dustan/burpAndPoop/mel_spectrogram/'"
     ]
    }
   ],
   "source": [
    "x_train,x_test,y_train,y_test,class_weights,class_names = preprocess(burpAndPoop_directory,2)"
   ]
  },
  {
   "cell_type": "code",
   "execution_count": null,
   "metadata": {},
   "outputs": [
    {
     "name": "stdout",
     "output_type": "stream",
     "text": [
      "Model: \"model_3\"\n",
      "_________________________________________________________________\n",
      " Layer (type)                Output Shape              Param #   \n",
      "=================================================================\n",
      " input_8 (InputLayer)        [(None, 432, 288, 3)]     0         \n",
      "                                                                 \n",
      " rescaling_3 (Rescaling)     (None, 432, 288, 3)       0         \n",
      "                                                                 \n",
      " tf.cast_3 (TFOpLambda)      (None, 432, 288, 3)       0         \n",
      "                                                                 \n",
      " resnet50v2 (Functional)     (None, 14, 9, 2048)       23564800  \n",
      "                                                                 \n",
      " conv2d_3 (Conv2D)           (None, 14, 9, 128)        2359424   \n",
      "                                                                 \n",
      " max_pooling2d_15 (MaxPoolin  (None, 7, 4, 128)        0         \n",
      " g2D)                                                            \n",
      "                                                                 \n",
      " dropout_6 (Dropout)         (None, 7, 4, 128)         0         \n",
      "                                                                 \n",
      " global_average_pooling2d_3   (None, 128)              0         \n",
      " (GlobalAveragePooling2D)                                        \n",
      "                                                                 \n",
      " dropout_7 (Dropout)         (None, 128)               0         \n",
      "                                                                 \n",
      " dense_3 (Dense)             (None, 2)                 258       \n",
      "                                                                 \n",
      "=================================================================\n",
      "Total params: 25,924,482\n",
      "Trainable params: 2,359,682\n",
      "Non-trainable params: 23,564,800\n",
      "_________________________________________________________________\n"
     ]
    }
   ],
   "source": [
    "burpAndPoop_base_model = tf.keras.applications.ResNet50V2(\n",
    "    weights=\"imagenet\",  # Load weights pre-trained on ImageNet.\n",
    "    input_shape=(img_height, img_width, 3),\n",
    "    include_top=False,\n",
    ") \n",
    "\n",
    "# Freeze the base_model\n",
    "burpAndPoop_base_model.trainable = False\n",
    "\n",
    "# Create new model on top\n",
    "\n",
    "inputs = tf.keras.Input(shape=(img_height, img_width, 3))\n",
    "\n",
    "scale_layer = tf.keras.layers.Rescaling(scale=1./255)\n",
    "x = scale_layer(inputs)\n",
    "\n",
    "x = tf.cast(x,tf.float32)\n",
    "\n",
    "x = burpAndPoop_base_model(x, training=False)\n",
    "\n",
    "x = tf.keras.layers.Conv2D(128, 3, padding='same', activation='relu')(x)          \n",
    "x = tf.keras.layers.MaxPooling2D((2,2))(x)\n",
    "x = tf.keras.layers.Dropout(0.2)(x)\n",
    "            \n",
    "x = tf.keras.layers.GlobalAveragePooling2D()(x)\n",
    "\n",
    "#x = tf.keras.layers.Dense(128, activation='relu')(x)\n",
    "\n",
    "x = tf.keras.layers.Dropout(0.2)(x)  # Regularize with dropout\n",
    "outputs = tf.keras.layers.Dense(2,activation='softmax')(x)\n",
    "burpAndPoop_model = tf.keras.Model(inputs, outputs)\n",
    "\n",
    "burpAndPoop_model.summary()"
   ]
  },
  {
   "cell_type": "code",
   "execution_count": null,
   "metadata": {},
   "outputs": [
    {
     "name": "stdout",
     "output_type": "stream",
     "text": [
      "Epoch 1/100\n"
     ]
    },
    {
     "name": "stderr",
     "output_type": "stream",
     "text": [
      "c:\\Users\\acer\\anaconda3\\lib\\site-packages\\tensorflow\\python\\util\\dispatch.py:1082: UserWarning: \"`categorical_crossentropy` received `from_logits=True`, but the `output` argument was produced by a sigmoid or softmax activation and thus does not represent logits. Was this intended?\"\n",
      "  return dispatch_target(*args, **kwargs)\n"
     ]
    },
    {
     "name": "stdout",
     "output_type": "stream",
     "text": [
      "3/3 [==============================] - 12s 3s/step - loss: 7.1199 - accuracy: 0.5821 - val_loss: 4.1904 - val_accuracy: 0.6471\n",
      "Epoch 2/100\n",
      "3/3 [==============================] - 8s 2s/step - loss: 3.8018 - accuracy: 0.5224 - val_loss: 0.4248 - val_accuracy: 0.8824\n",
      "Epoch 3/100\n",
      "3/3 [==============================] - 8s 2s/step - loss: 0.4558 - accuracy: 0.8507 - val_loss: 0.6130 - val_accuracy: 0.5882\n",
      "Epoch 4/100\n",
      "3/3 [==============================] - 8s 2s/step - loss: 0.5337 - accuracy: 0.6866 - val_loss: 0.7130 - val_accuracy: 0.4118\n",
      "Epoch 5/100\n",
      "3/3 [==============================] - 8s 2s/step - loss: 0.5667 - accuracy: 0.5075 - val_loss: 0.7179 - val_accuracy: 0.4118\n",
      "Epoch 6/100\n",
      "3/3 [==============================] - 8s 2s/step - loss: 0.5669 - accuracy: 0.5224 - val_loss: 0.6684 - val_accuracy: 0.5294\n",
      "Epoch 7/100\n",
      "3/3 [==============================] - 8s 2s/step - loss: 0.5103 - accuracy: 0.6418 - val_loss: 0.6222 - val_accuracy: 0.5882\n",
      "Epoch 1/50\n",
      "2/2 [==============================] - 30s 14s/step - loss: 0.4748 - binary_accuracy: 0.7586 - val_loss: 0.5234 - val_binary_accuracy: 0.7692\n",
      "Epoch 2/50\n",
      "2/2 [==============================] - 25s 12s/step - loss: 0.3961 - binary_accuracy: 0.8448 - val_loss: 0.5018 - val_binary_accuracy: 0.7692\n",
      "Epoch 3/50\n",
      "2/2 [==============================] - 25s 12s/step - loss: 0.3413 - binary_accuracy: 0.9138 - val_loss: 0.5262 - val_binary_accuracy: 0.7692\n",
      "Epoch 4/50\n",
      "2/2 [==============================] - 25s 12s/step - loss: 0.2950 - binary_accuracy: 0.9138 - val_loss: 0.4887 - val_binary_accuracy: 0.7692\n",
      "Epoch 5/50\n",
      "2/2 [==============================] - 25s 12s/step - loss: 0.2217 - binary_accuracy: 0.9138 - val_loss: 0.3811 - val_binary_accuracy: 0.8077\n",
      "Epoch 6/50\n",
      "2/2 [==============================] - 25s 12s/step - loss: 0.1759 - binary_accuracy: 0.9310 - val_loss: 0.3268 - val_binary_accuracy: 0.8462\n",
      "Epoch 7/50\n",
      "2/2 [==============================] - 24s 12s/step - loss: 0.1645 - binary_accuracy: 0.9138 - val_loss: 0.3819 - val_binary_accuracy: 0.8077\n",
      "Epoch 8/50\n",
      "2/2 [==============================] - 25s 12s/step - loss: 0.1370 - binary_accuracy: 0.9828 - val_loss: 0.4099 - val_binary_accuracy: 0.8077\n",
      "Epoch 9/50\n",
      "2/2 [==============================] - 25s 12s/step - loss: 0.0782 - binary_accuracy: 0.9828 - val_loss: 0.4104 - val_binary_accuracy: 0.8077\n",
      "Epoch 10/50\n",
      "2/2 [==============================] - 26s 13s/step - loss: 0.0605 - binary_accuracy: 0.9828 - val_loss: 0.3689 - val_binary_accuracy: 0.8077\n",
      "Epoch 11/50\n",
      "2/2 [==============================] - 26s 13s/step - loss: 0.0617 - binary_accuracy: 0.9828 - val_loss: 0.4969 - val_binary_accuracy: 0.8077\n"
     ]
    },
    {
     "data": {
      "image/png": "[encoded data removed]",
      "text/plain": [
       "<Figure size 432x288 with 1 Axes>"
      ]
     },
     "metadata": {
      "needs_background": "light"
     },
     "output_type": "display_data"
    }
   ],
   "source": [
    "\n",
    "loss_fn = tf.keras.losses.loss_fn = tf.keras.losses.CategoricalCrossentropy(from_logits=True)\n",
    "optimizer = tf.keras.optimizers.Adam()# modify weight in Adam\n",
    "metrics = ['accuracy']\n",
    "burpAndPoop_model.compile (optimizer = optimizer,loss =  loss_fn,metrics = metrics)\n",
    "callback = tf.keras.callbacks.EarlyStopping(monitor='val_loss', patience=5)\n",
    "epochs = 100\n",
    "history = burpAndPoop_model.fit(x_train, y_train, epochs=epochs,validation_split=0.2,callbacks=callback,class_weight = class_weights)\n",
    "\n",
    "burpAndPoop_base_model.trainable = True\n",
    "burpAndPoop_model.compile(\n",
    "    optimizer=tf.keras.optimizers.Adam(1e-5), \n",
    "    loss=tf.keras.losses.CategoricalCrossentropy(from_logits=True),\n",
    "    metrics=[tf.keras.metrics.BinaryAccuracy()],\n",
    ")\n",
    "\n",
    "epochs = 50\n",
    "history = burpAndPoop_model.fit(x_train, y_train, epochs=epochs,validation_split=0.3,callbacks=callback,class_weight = class_weights)\n",
    "\n",
    "plt.plot(history.history['loss'],label = 'loss')\n",
    "plt.plot(history.history['val_loss'],label = 'val_loss')\n",
    "plt.legend()\n",
    "plt.show()\n"
   ]
  },
  {
   "cell_type": "code",
   "execution_count": null,
   "metadata": {},
   "outputs": [
    {
     "name": "stdout",
     "output_type": "stream",
     "text": [
      "[0 1 0 0 0 1 0 0 1 0 0 0 1 0 1 1 1 1 0 0 0]\n",
      "              precision    recall  f1-score   support\n",
      "\n",
      "     burping       1.00      1.00      1.00        13\n",
      "        poop       1.00      1.00      1.00         8\n",
      "\n",
      "    accuracy                           1.00        21\n",
      "   macro avg       1.00      1.00      1.00        21\n",
      "weighted avg       1.00      1.00      1.00        21\n",
      "\n"
     ]
    },
    {
     "data": {
      "image/png": "[encoded data removed]",
      "text/plain": [
       "<Figure size 432x288 with 2 Axes>"
      ]
     },
     "metadata": {
      "needs_background": "light"
     },
     "output_type": "display_data"
    }
   ],
   "source": [
    "pred = burpAndPoop_model.predict(x_test)\n",
    "y_pred = np.argmax(pred, axis=1)\n",
    "y_test = np.argmax(y_test, axis=1) \n",
    "print(y_pred)\n",
    "cm = confusion_matrix(y_test, y_pred)\n",
    "\n",
    "disp = ConfusionMatrixDisplay(confusion_matrix=cm,display_labels=class_names)\n",
    "disp.plot()\n",
    "plt.show\n",
    "\n",
    "from sklearn.metrics import classification_report\n",
    "print(classification_report(y_test, y_pred,target_names=class_names))"
   ]
  },
  {
   "cell_type": "code",
   "execution_count": null,
   "metadata": {},
   "outputs": [],
   "source": [
    "burpAndPoop_model.save('./h5_model/burpAndPoop.h5')"
   ]
  },
  {
   "cell_type": "code",
   "execution_count": null,
   "metadata": {},
   "outputs": [
    {
     "name": "stdout",
     "output_type": "stream",
     "text": [
      "Found 143 files belonging to 3 classes.\n"
     ]
    }
   ],
   "source": [
    "x_train,x_test,y_train,y_test,class_weights,class_names = preprocess(HungryTiredAndDiscomfort_directory,3)"
   ]
  },
  {
   "cell_type": "code",
   "execution_count": null,
   "metadata": {},
   "outputs": [
    {
     "name": "stdout",
     "output_type": "stream",
     "text": [
      "Model: \"model_4\"\n",
      "_________________________________________________________________\n",
      " Layer (type)                Output Shape              Param #   \n",
      "=================================================================\n",
      " input_10 (InputLayer)       [(None, 432, 288, 3)]     0         \n",
      "                                                                 \n",
      " rescaling_4 (Rescaling)     (None, 432, 288, 3)       0         \n",
      "                                                                 \n",
      " tf.cast_4 (TFOpLambda)      (None, 432, 288, 3)       0         \n",
      "                                                                 \n",
      " resnet50v2 (Functional)     (None, 14, 9, 2048)       23564800  \n",
      "                                                                 \n",
      " conv2d_4 (Conv2D)           (None, 14, 9, 128)        2359424   \n",
      "                                                                 \n",
      " max_pooling2d_19 (MaxPoolin  (None, 7, 4, 128)        0         \n",
      " g2D)                                                            \n",
      "                                                                 \n",
      " dropout_8 (Dropout)         (None, 7, 4, 128)         0         \n",
      "                                                                 \n",
      " global_average_pooling2d_4   (None, 128)              0         \n",
      " (GlobalAveragePooling2D)                                        \n",
      "                                                                 \n",
      " dropout_9 (Dropout)         (None, 128)               0         \n",
      "                                                                 \n",
      " dense_4 (Dense)             (None, 3)                 387       \n",
      "                                                                 \n",
      "=================================================================\n",
      "Total params: 25,924,611\n",
      "Trainable params: 2,359,811\n",
      "Non-trainable params: 23,564,800\n",
      "_________________________________________________________________\n"
     ]
    }
   ],
   "source": [
    "HungryTiredAndDiscomfort_base_model = tf.keras.applications.ResNet50V2(\n",
    "    weights=\"imagenet\",  # Load weights pre-trained on ImageNet.\n",
    "    input_shape=(img_height, img_width, 3),\n",
    "    include_top=False,\n",
    ") \n",
    "\n",
    "# Freeze the base_model\n",
    "HungryTiredAndDiscomfort_base_model.trainable = False\n",
    "\n",
    "# Create new model on top\n",
    "\n",
    "inputs = tf.keras.Input(shape=(img_height, img_width, 3))\n",
    "\n",
    "scale_layer = tf.keras.layers.Rescaling(scale=1./255)\n",
    "x = scale_layer(inputs)\n",
    "\n",
    "x = tf.cast(x,tf.float32)\n",
    "\n",
    "x = HungryTiredAndDiscomfort_base_model(x, training=False)\n",
    "\n",
    "x = tf.keras.layers.Conv2D(128, 3, padding='same', activation='relu')(x)          \n",
    "x = tf.keras.layers.MaxPooling2D((2,2))(x)\n",
    "x = tf.keras.layers.Dropout(0.2)(x)\n",
    "            \n",
    "x = tf.keras.layers.GlobalAveragePooling2D()(x)\n",
    "\n",
    "#x = tf.keras.layers.Dense(128, activation='relu')(x)\n",
    "\n",
    "x = tf.keras.layers.Dropout(0.2)(x)  # Regularize with dropout\n",
    "outputs = tf.keras.layers.Dense(3,activation='softmax')(x)\n",
    "HungryTiredAndDiscomfort_model = tf.keras.Model(inputs, outputs)\n",
    "\n",
    "HungryTiredAndDiscomfort_model.summary()"
   ]
  },
  {
   "cell_type": "code",
   "execution_count": null,
   "metadata": {},
   "outputs": [
    {
     "name": "stdout",
     "output_type": "stream",
     "text": [
      "Epoch 1/100\n"
     ]
    },
    {
     "name": "stderr",
     "output_type": "stream",
     "text": [
      "c:\\Users\\acer\\anaconda3\\lib\\site-packages\\tensorflow\\python\\util\\dispatch.py:1082: UserWarning: \"`categorical_crossentropy` received `from_logits=True`, but the `output` argument was produced by a sigmoid or softmax activation and thus does not represent logits. Was this intended?\"\n",
      "  return dispatch_target(*args, **kwargs)\n"
     ]
    },
    {
     "name": "stdout",
     "output_type": "stream",
     "text": [
      "3/3 [==============================] - 18s 6s/step - loss: 10.6774 - accuracy: 0.3626 - val_loss: 10.3047 - val_accuracy: 0.2174\n",
      "Epoch 2/100\n",
      "3/3 [==============================] - 17s 6s/step - loss: 5.8038 - accuracy: 0.3956 - val_loss: 1.8148 - val_accuracy: 0.6087\n",
      "Epoch 3/100\n",
      "3/3 [==============================] - 16s 6s/step - loss: 1.1478 - accuracy: 0.5934 - val_loss: 1.0412 - val_accuracy: 0.5217\n",
      "Epoch 4/100\n",
      "3/3 [==============================] - 16s 6s/step - loss: 0.7530 - accuracy: 0.6044 - val_loss: 1.0096 - val_accuracy: 0.6087\n",
      "Epoch 5/100\n",
      "3/3 [==============================] - 17s 6s/step - loss: 0.7573 - accuracy: 0.5824 - val_loss: 0.8720 - val_accuracy: 0.6087\n",
      "Epoch 6/100\n",
      "3/3 [==============================] - 16s 6s/step - loss: 0.6454 - accuracy: 0.7253 - val_loss: 0.7669 - val_accuracy: 0.5652\n",
      "Epoch 7/100\n",
      "3/3 [==============================] - 15s 5s/step - loss: 0.6056 - accuracy: 0.7033 - val_loss: 0.7289 - val_accuracy: 0.5652\n",
      "Epoch 8/100\n",
      "3/3 [==============================] - 15s 6s/step - loss: 0.5588 - accuracy: 0.7582 - val_loss: 0.7260 - val_accuracy: 0.6522\n",
      "Epoch 9/100\n",
      "3/3 [==============================] - 15s 6s/step - loss: 0.4626 - accuracy: 0.7692 - val_loss: 0.8112 - val_accuracy: 0.6522\n",
      "Epoch 10/100\n",
      "3/3 [==============================] - 16s 6s/step - loss: 0.5253 - accuracy: 0.7692 - val_loss: 0.8128 - val_accuracy: 0.6522\n",
      "Epoch 11/100\n",
      "3/3 [==============================] - 15s 6s/step - loss: 0.3976 - accuracy: 0.8022 - val_loss: 0.7187 - val_accuracy: 0.6087\n",
      "Epoch 12/100\n",
      "3/3 [==============================] - 16s 6s/step - loss: 0.3720 - accuracy: 0.8352 - val_loss: 0.7200 - val_accuracy: 0.6087\n",
      "Epoch 13/100\n",
      "3/3 [==============================] - 15s 6s/step - loss: 0.3191 - accuracy: 0.8681 - val_loss: 0.6984 - val_accuracy: 0.6522\n",
      "Epoch 14/100\n",
      "3/3 [==============================] - 16s 6s/step - loss: 0.2631 - accuracy: 0.9231 - val_loss: 0.6838 - val_accuracy: 0.6522\n",
      "Epoch 15/100\n",
      "3/3 [==============================] - 16s 6s/step - loss: 0.2335 - accuracy: 0.9121 - val_loss: 0.6438 - val_accuracy: 0.6957\n",
      "Epoch 16/100\n",
      "3/3 [==============================] - 16s 6s/step - loss: 0.1751 - accuracy: 0.9780 - val_loss: 0.6345 - val_accuracy: 0.7391\n",
      "Epoch 17/100\n",
      "3/3 [==============================] - 16s 6s/step - loss: 0.1666 - accuracy: 0.9670 - val_loss: 0.6170 - val_accuracy: 0.6957\n",
      "Epoch 18/100\n",
      "3/3 [==============================] - 16s 6s/step - loss: 0.1264 - accuracy: 0.9890 - val_loss: 0.6675 - val_accuracy: 0.6957\n",
      "Epoch 19/100\n",
      "3/3 [==============================] - 16s 6s/step - loss: 0.1429 - accuracy: 0.9451 - val_loss: 0.7491 - val_accuracy: 0.6957\n",
      "Epoch 20/100\n",
      "3/3 [==============================] - 15s 6s/step - loss: 0.1327 - accuracy: 0.9341 - val_loss: 0.7470 - val_accuracy: 0.6957\n",
      "Epoch 21/100\n",
      "3/3 [==============================] - 16s 6s/step - loss: 0.1062 - accuracy: 0.9780 - val_loss: 0.7015 - val_accuracy: 0.6087\n",
      "Epoch 22/100\n",
      "3/3 [==============================] - 16s 6s/step - loss: 0.0730 - accuracy: 1.0000 - val_loss: 0.7966 - val_accuracy: 0.6957\n",
      "Epoch 1/50\n",
      "3/3 [==============================] - 58s 17s/step - loss: 0.1443 - binary_accuracy: 0.9831 - val_loss: 0.8918 - val_binary_accuracy: 0.8095\n",
      "Epoch 2/50\n",
      "3/3 [==============================] - 50s 15s/step - loss: 0.1414 - binary_accuracy: 0.9662 - val_loss: 0.6900 - val_binary_accuracy: 0.8476\n",
      "Epoch 3/50\n",
      "3/3 [==============================] - 50s 16s/step - loss: 0.0413 - binary_accuracy: 0.9916 - val_loss: 0.4944 - val_binary_accuracy: 0.8857\n",
      "Epoch 4/50\n",
      "3/3 [==============================] - 49s 16s/step - loss: 0.0869 - binary_accuracy: 0.9831 - val_loss: 0.4859 - val_binary_accuracy: 0.8857\n",
      "Epoch 5/50\n",
      "3/3 [==============================] - 49s 15s/step - loss: 0.0368 - binary_accuracy: 1.0000 - val_loss: 0.5359 - val_binary_accuracy: 0.9048\n",
      "Epoch 6/50\n",
      "3/3 [==============================] - 49s 16s/step - loss: 0.0479 - binary_accuracy: 0.9916 - val_loss: 0.6032 - val_binary_accuracy: 0.8476\n",
      "Epoch 7/50\n",
      "3/3 [==============================] - 48s 15s/step - loss: 0.0563 - binary_accuracy: 0.9831 - val_loss: 0.5721 - val_binary_accuracy: 0.8667\n",
      "Epoch 8/50\n",
      "3/3 [==============================] - 43s 13s/step - loss: 0.0177 - binary_accuracy: 1.0000 - val_loss: 0.5653 - val_binary_accuracy: 0.8476\n",
      "Epoch 9/50\n",
      "3/3 [==============================] - 40s 13s/step - loss: 0.0391 - binary_accuracy: 0.9916 - val_loss: 0.5965 - val_binary_accuracy: 0.8286\n"
     ]
    },
    {
     "data": {
      "image/png": "[encoded data removed]",
      "text/plain": [
       "<Figure size 432x288 with 1 Axes>"
      ]
     },
     "metadata": {
      "needs_background": "light"
     },
     "output_type": "display_data"
    }
   ],
   "source": [
    "\n",
    "loss_fn = tf.keras.losses.loss_fn = tf.keras.losses.CategoricalCrossentropy(from_logits=True)\n",
    "optimizer = tf.keras.optimizers.Adam()# modify weight in Adam\n",
    "metrics = ['accuracy']\n",
    "HungryTiredAndDiscomfort_model.compile (optimizer = optimizer,loss =  loss_fn,metrics = metrics)\n",
    "callback = tf.keras.callbacks.EarlyStopping(monitor='val_loss', patience=5)\n",
    "epochs = 100\n",
    "history = HungryTiredAndDiscomfort_model.fit(x_train, y_train, epochs=epochs,validation_split=0.2,callbacks=callback,class_weight = class_weights)\n",
    "\n",
    "HungryTiredAndDiscomfort_base_model.trainable = True\n",
    "HungryTiredAndDiscomfort_model.compile(\n",
    "    optimizer=tf.keras.optimizers.Adam(1e-5), \n",
    "    loss=tf.keras.losses.CategoricalCrossentropy(from_logits=True),\n",
    "    metrics=[tf.keras.metrics.BinaryAccuracy()],\n",
    ")\n",
    "\n",
    "epochs = 50\n",
    "history = HungryTiredAndDiscomfort_model.fit(x_train, y_train, epochs=epochs,validation_split=0.3,callbacks=callback,class_weight = class_weights)\n",
    "\n",
    "plt.plot(history.history['loss'],label = 'loss')\n",
    "plt.plot(history.history['val_loss'],label = 'val_loss')\n",
    "plt.legend()\n",
    "plt.show()\n"
   ]
  },
  {
   "cell_type": "code",
   "execution_count": null,
   "metadata": {},
   "outputs": [
    {
     "name": "stdout",
     "output_type": "stream",
     "text": [
      "[2 2 0 0 2 1 2 0 2 1 1 2 1 1 0 1 1 1 2 2 0 1 0 1 1 1 1 1 2]\n",
      "              precision    recall  f1-score   support\n",
      "\n",
      "  discomfort       1.00      0.75      0.86         8\n",
      "      hungry       0.57      0.89      0.70         9\n",
      "       tired       0.89      0.67      0.76        12\n",
      "\n",
      "    accuracy                           0.76        29\n",
      "   macro avg       0.82      0.77      0.77        29\n",
      "weighted avg       0.82      0.76      0.77        29\n",
      "\n"
     ]
    },
    {
     "data": {
      "image/png": "[encoded data removed]",
      "text/plain": [
       "<Figure size 432x288 with 2 Axes>"
      ]
     },
     "metadata": {
      "needs_background": "light"
     },
     "output_type": "display_data"
    }
   ],
   "source": [
    "pred = HungryTiredAndDiscomfort_model.predict(x_test)\n",
    "y_pred = np.argmax(pred, axis=1)\n",
    "y_test = np.argmax(y_test, axis=1) \n",
    "print(y_pred)\n",
    "cm = confusion_matrix(y_test, y_pred)\n",
    "\n",
    "disp = ConfusionMatrixDisplay(confusion_matrix=cm,display_labels=class_names)\n",
    "disp.plot()\n",
    "plt.show\n",
    "\n",
    "from sklearn.metrics import classification_report\n",
    "print(classification_report(y_test, y_pred,target_names=class_names))"
   ]
  },
  {
   "cell_type": "code",
   "execution_count": null,
   "metadata": {},
   "outputs": [],
   "source": [
    "HungryTiredAndDiscomfort_model.save('./h5_model/HungryTiredAndDiscomfort.h5')"
   ]
  },
  {
   "cell_type": "code",
   "execution_count": null,
   "metadata": {},
   "outputs": [],
   "source": []
  },
  {
   "cell_type": "code",
   "execution_count": null,
   "metadata": {},
   "outputs": [],
   "source": []
  }
 ],
 "metadata": {
  "kernelspec": {
   "display_name": "Python 3.7.6 ('base')",
   "language": "python",
   "name": "python3"
  },
  "language_info": {
   "codemirror_mode": {
    "name": "ipython",
    "version": 3
   },
   "file_extension": ".py",
   "mimetype": "text/x-python",
   "name": "python",
   "nbconvert_exporter": "python",
   "pygments_lexer": "ipython3",
   "version": "3.7.6"
  },
  "orig_nbformat": 4,
  "vscode": {
   "interpreter": {
    "hash": "23bf0724a01b6ea9814e66f76182ea78c0ee849a72ca257c0e116bf83bb4960a"
   }
  }
 },
 "nbformat": 4,
 "nbformat_minor": 2
}
