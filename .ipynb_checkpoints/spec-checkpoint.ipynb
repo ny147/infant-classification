{
 "cells": [
  {
   "cell_type": "code",
   "execution_count": 1,
   "id": "9ab19c61",
   "metadata": {},
   "outputs": [],
   "source": [
    "import tensorflow as tf"
   ]
  },
  {
   "cell_type": "code",
   "execution_count": 6,
   "id": "1f60b8cb",
   "metadata": {},
   "outputs": [],
   "source": [
    "import numpy as np\n",
    "import pandas as pd\n",
    "import matplotlib.pyplot as plt\n",
    "import seaborn as sb\n",
    "from PIL import Image"
   ]
  },
  {
   "cell_type": "code",
   "execution_count": 7,
   "id": "459319f5",
   "metadata": {},
   "outputs": [],
   "source": [
    "from tensorflow.keras.preprocessing.image import load_img,img_to_array,array_to_img,ImageDataGenerator,smart_resize\n",
    "from sklearn.model_selection import train_test_split\n",
    "from tensorflow.keras.layers import Dense,Activation,Dropout,BatchNormalization,Conv2D,Dropout,MaxPool2D,Flatten\n",
    "from tensorflow.keras.utils import to_categorical "
   ]
  },
  {
   "cell_type": "code",
   "execution_count": 8,
   "id": "2132abb4",
   "metadata": {},
   "outputs": [],
   "source": [
    "import matplotlib.pyplot as plt\n",
    "from scipy import signal\n",
    "from scipy.io import wavfile"
   ]
  },
  {
   "cell_type": "code",
   "execution_count": 9,
   "id": "41c21142",
   "metadata": {},
   "outputs": [],
   "source": [
    "data_freq=[]\n",
    "data_time=[]\n",
    "data_spec=[]\n",
    "result=[]"
   ]
  },
  {
   "cell_type": "markdown",
   "id": "7b5a769b",
   "metadata": {},
   "source": [
    "def spec_from_wav_dataset(image,num):\n",
    "    for i in range(num):\n",
    "        url=image+'/'+image+' ('+str(i+1)+').wav'\n",
    "        #print(url)\n",
    "        sample_rate, samples = wavfile.read(url)\n",
    "        frequencies, times, spectrogram = signal.spectrogram(samples, sample_rate)\n",
    "        data_freq.append(frequencies)\n",
    "        data_time.append(times)\n",
    "        data_spec.append(spectrogram)\n",
    "        result.append(image)\n",
    "        plt.pcolormesh(frequencies, times, spectrogram)\n",
    "        plt.imshow(spectrogram)\n",
    "        plt.ylabel('Frequency [Hz]')\n",
    "        plt.xlabel('Time [sec]')\n",
    "        plt.show()"
   ]
  },
  {
   "cell_type": "markdown",
   "id": "3f6ac50e",
   "metadata": {},
   "source": [
    "spec_from_wav_dataset(\"burping\",8)"
   ]
  },
  {
   "cell_type": "code",
   "execution_count": 10,
   "id": "8ebb8264",
   "metadata": {},
   "outputs": [],
   "source": [
    "url='hungry.wav'"
   ]
  },
  {
   "cell_type": "code",
   "execution_count": 11,
   "id": "8a9fc3b9",
   "metadata": {},
   "outputs": [
    {
     "ename": "FileNotFoundError",
     "evalue": "[Errno 2] No such file or directory: 'hungry.wav'",
     "output_type": "error",
     "traceback": [
      "\u001b[1;31m---------------------------------------------------------------------------\u001b[0m",
      "\u001b[1;31mFileNotFoundError\u001b[0m                         Traceback (most recent call last)",
      "Input \u001b[1;32mIn [11]\u001b[0m, in \u001b[0;36m<cell line: 1>\u001b[1;34m()\u001b[0m\n\u001b[1;32m----> 1\u001b[0m sample_rate, samples \u001b[38;5;241m=\u001b[39m \u001b[43mwavfile\u001b[49m\u001b[38;5;241;43m.\u001b[39;49m\u001b[43mread\u001b[49m\u001b[43m(\u001b[49m\u001b[43murl\u001b[49m\u001b[43m)\u001b[49m\n\u001b[0;32m      2\u001b[0m frequencies, times, spectrogram \u001b[38;5;241m=\u001b[39m signal\u001b[38;5;241m.\u001b[39mspectrogram(samples, sample_rate)\n\u001b[0;32m      4\u001b[0m plt\u001b[38;5;241m.\u001b[39mpcolormesh(times, frequencies, spectrogram)\n",
      "File \u001b[1;32m~\\AppData\\Local\\Programs\\Python\\Python310\\lib\\site-packages\\scipy\\io\\wavfile.py:647\u001b[0m, in \u001b[0;36mread\u001b[1;34m(filename, mmap)\u001b[0m\n\u001b[0;32m    645\u001b[0m     mmap \u001b[38;5;241m=\u001b[39m \u001b[38;5;28;01mFalse\u001b[39;00m\n\u001b[0;32m    646\u001b[0m \u001b[38;5;28;01melse\u001b[39;00m:\n\u001b[1;32m--> 647\u001b[0m     fid \u001b[38;5;241m=\u001b[39m \u001b[38;5;28;43mopen\u001b[39;49m\u001b[43m(\u001b[49m\u001b[43mfilename\u001b[49m\u001b[43m,\u001b[49m\u001b[43m \u001b[49m\u001b[38;5;124;43m'\u001b[39;49m\u001b[38;5;124;43mrb\u001b[39;49m\u001b[38;5;124;43m'\u001b[39;49m\u001b[43m)\u001b[49m\n\u001b[0;32m    649\u001b[0m \u001b[38;5;28;01mtry\u001b[39;00m:\n\u001b[0;32m    650\u001b[0m     file_size, is_big_endian \u001b[38;5;241m=\u001b[39m _read_riff_chunk(fid)\n",
      "\u001b[1;31mFileNotFoundError\u001b[0m: [Errno 2] No such file or directory: 'hungry.wav'"
     ]
    }
   ],
   "source": [
    "sample_rate, samples = wavfile.read(url)\n",
    "frequencies, times, spectrogram = signal.spectrogram(samples, sample_rate)\n",
    "\n",
    "plt.pcolormesh(times, frequencies, spectrogram)\n",
    "plt.imshow(spectrogram)\n",
    "plt.ylabel('Frequency [Hz]')\n",
    "plt.xlabel('Time [sec]')\n",
    "plt.show()"
   ]
  },
  {
   "cell_type": "code",
   "execution_count": null,
   "id": "e7260450",
   "metadata": {},
   "outputs": [],
   "source": []
  }
 ],
 "metadata": {
  "kernelspec": {
   "display_name": "Python 3 (ipykernel)",
   "language": "python",
   "name": "python3"
  },
  "language_info": {
   "codemirror_mode": {
    "name": "ipython",
    "version": 3
   },
   "file_extension": ".py",
   "mimetype": "text/x-python",
   "name": "python",
   "nbconvert_exporter": "python",
   "pygments_lexer": "ipython3",
   "version": "3.10.4"
  }
 },
 "nbformat": 4,
 "nbformat_minor": 5
}
