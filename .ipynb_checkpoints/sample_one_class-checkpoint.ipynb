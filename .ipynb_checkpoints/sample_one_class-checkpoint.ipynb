{
 "cells": [
  {
   "cell_type": "markdown",
   "metadata": {
    "colab_type": "text",
    "id": "view-in-github"
   },
   "source": [
    "<a href=\"https://colab.research.google.com/github/ny147/infant-classification/blob/main/sample_one_class.ipynb\" target=\"_parent\"><img src=\"https://colab.research.google.com/assets/colab-badge.svg\" alt=\"Open In Colab\"/></a>"
   ]
  },
  {
   "cell_type": "code",
   "execution_count": 1,
   "metadata": {
    "colab": {
     "base_uri": "https://localhost:8080/"
    },
    "id": "Tul40sRd-dHE",
    "outputId": "d7caf30f-b963-4148-8b14-737800beec3b",
    "pycharm": {
     "name": "#%%\n"
    }
   },
   "outputs": [
    {
     "name": "stdout",
     "output_type": "stream",
     "text": [
      "Requirement already satisfied: tensorflow_io in c:\\users\\near\\anaconda3\\lib\\site-packages (0.24.0)\n",
      "Requirement already satisfied: tensorflow-io-gcs-filesystem==0.24.0 in c:\\users\\near\\anaconda3\\lib\\site-packages (from tensorflow_io) (0.24.0)\n",
      "Note: you may need to restart the kernel to use updated packages.\n"
     ]
    }
   ],
   "source": [
    "%pip install tensorflow_io\n"
   ]
  },
  {
   "cell_type": "code",
   "execution_count": 2,
   "metadata": {
    "colab": {
     "base_uri": "https://localhost:8080/"
    },
    "id": "q8Mmck9uC6ls",
    "outputId": "98ea5623-edfe-4af7-fcf3-6f57f2c2c13f"
   },
   "outputs": [
    {
     "name": "stdout",
     "output_type": "stream",
     "text": [
      "Requirement already satisfied: imbalanced-learn in c:\\users\\near\\anaconda3\\lib\\site-packages (0.9.0)\n",
      "Requirement already satisfied: joblib>=0.11 in c:\\users\\near\\anaconda3\\lib\\site-packages (from imbalanced-learn) (1.1.0)\n",
      "Requirement already satisfied: threadpoolctl>=2.0.0 in c:\\users\\near\\anaconda3\\lib\\site-packages (from imbalanced-learn) (2.2.0)\n",
      "Requirement already satisfied: scikit-learn>=1.0.1 in c:\\users\\near\\anaconda3\\lib\\site-packages (from imbalanced-learn) (1.0.2)\n",
      "Requirement already satisfied: scipy>=1.1.0 in c:\\users\\near\\anaconda3\\lib\\site-packages (from imbalanced-learn) (1.7.1)\n",
      "Requirement already satisfied: numpy>=1.14.6 in c:\\users\\near\\anaconda3\\lib\\site-packages (from imbalanced-learn) (1.20.3)\n"
     ]
    }
   ],
   "source": [
    "!pip install -U imbalanced-learn"
   ]
  },
  {
   "cell_type": "code",
   "execution_count": 3,
   "metadata": {
    "id": "nPw-Kb2v-dHH"
   },
   "outputs": [],
   "source": [
    "import os\n",
    "import librosa, librosa.display\n",
    "import matplotlib.pyplot as plt\n",
    "from pathlib import Path\n",
    "import tensorflow as tf\n",
    "import tensorflow_io as tfio\n",
    "import IPython.display as ipd\n",
    "import numpy as np"
   ]
  },
  {
   "cell_type": "code",
   "execution_count": 4,
   "metadata": {
    "colab": {
     "base_uri": "https://localhost:8080/"
    },
    "id": "i5-49oIK-etA",
    "outputId": "ba650ce9-45fb-451e-fad1-23add86b99fb"
   },
   "outputs": [],
   "source": [
    "# from google.colab import drive\n",
    "# drive.mount('/content/drive/',force_remount=True)\n",
    "# path = '/content/drive/My Drive/Infant/'\n",
    "# #iris = pd.read_csv(path+\"Iris.csv\")"
   ]
  },
  {
   "cell_type": "markdown",
   "metadata": {
    "id": "_jPBfSD0-dHH"
   },
   "source": [
    "## Load Audio to Jupyter"
   ]
  },
  {
   "cell_type": "code",
   "execution_count": 5,
   "metadata": {
    "id": "ZGYOsXiL-dHI",
    "pycharm": {
     "name": "#%%\n"
    }
   },
   "outputs": [],
   "source": [
    "def load_audio(file_path):\n",
    "    waveform, sample_rate = librosa.load(file_path)\n",
    "    return waveform, sample_rate\n",
    "\n",
    "def load_audio_files(path: str, label:str):\n",
    "\n",
    "    dataset = []\n",
    "    walker = sorted(str(p) for p in Path(path).glob(f'*.wav'))\n",
    "    for i, file_path in enumerate(walker):\n",
    "        path, filename = os.path.split(file_path)\n",
    "        speaker, _ = os.path.splitext(filename)\n",
    "        # speaker_id,version,gender,age,reason = speaker.split(\"-\")\n",
    "        #sp = speaker.split(\"-\")\n",
    "        #speaker_id = sp[0]\n",
    "        #gender = sp[2]\n",
    "        #age =sp[3]\n",
    "\n",
    "\n",
    "        # Load audio\n",
    "        waveform, sample_rate = load_audio(file_path)\n",
    "        dataset.append([waveform, sample_rate])\n",
    "        #dataset.append([waveform, sample_rate, label, speaker_id, gender,age])\n",
    "\n",
    "    return dataset\n",
    "\n"
   ]
  },
  {
   "cell_type": "markdown",
   "metadata": {
    "id": "aR_Pwr1H-dHJ"
   },
   "source": [
    "## Prepare Data"
   ]
  },
  {
   "cell_type": "code",
   "execution_count": null,
   "metadata": {
    "id": "TdIph8Su-dHJ",
    "pycharm": {
     "name": "#%%\n"
    }
   },
   "outputs": [],
   "source": [
    "trainset_speechcommands_hungry = load_audio_files('./data/hungry', 'hungry')\n",
    "trainset_speechcommands_burping = load_audio_files('./data/burping', 'burping')\n",
    "trainset_speechcommands_tired = load_audio_files('./data/tired', 'tired')\n",
    "trainset_speechcommands_belly_pain = load_audio_files('./data/belly_pain', 'belly_pain')\n",
    "trainset_speechcommands_discomfort = load_audio_files('./data/discomfort', 'discomfort')\n"
   ]
  },
  {
   "cell_type": "code",
   "execution_count": null,
   "metadata": {
    "id": "PWQ5Pj7F-dHK",
    "outputId": "c589524d-9137-4744-cc28-358e7ac6b539"
   },
   "outputs": [],
   "source": [
    "print(f'Length of hungry dataset: {len(trainset_speechcommands_hungry)}')\n",
    "print(f'Length of burping dataset: {len(trainset_speechcommands_burping)}')\n",
    "print(f'Length of tired dataset: {len(trainset_speechcommands_tired)}')\n",
    "print(f'Length of belly_pain dataset: {len(trainset_speechcommands_belly_pain)}')\n",
    "print(f'Length of discomfort dataset: {len(trainset_speechcommands_discomfort)}')"
   ]
  },
  {
   "cell_type": "code",
   "execution_count": null,
   "metadata": {
    "id": "PyN86d9v-dHK",
    "outputId": "e28b621c-69ee-4b01-9a53-cceec3821d83",
    "pycharm": {
     "name": "#%%\n"
    }
   },
   "outputs": [],
   "source": [
    "hungry_waveform = trainset_speechcommands_hungry[0][0]\n",
    "hungry_sample_rate = trainset_speechcommands_hungry[0][1]\n",
    "print(f'Yes Waveform: {hungry_waveform}')\n",
    "print(f'Yes Sample Rate: {hungry_sample_rate}')\n",
    "#print(f'Yes Label: {trainset_speechcommands_hungry[0][2]}')\n",
    "#print(f'Yes ID: {trainset_speechcommands_hungry[0][3]}')"
   ]
  },
  {
   "cell_type": "markdown",
   "metadata": {
    "id": "cGB4ZiJH-dHL"
   },
   "source": [
    "## Waveform plot"
   ]
  },
  {
   "cell_type": "code",
   "execution_count": null,
   "metadata": {
    "id": "B4DNq2bP-dHL",
    "outputId": "305d3991-03eb-4d3b-95c3-a34c9b2f33b7",
    "pycharm": {
     "name": "#%%\n"
    }
   },
   "outputs": [],
   "source": [
    "timescale = np.arange(hungry_waveform .shape[0])\n",
    "plt.figsize=(12, 8)\n",
    "plt.plot(timescale, hungry_waveform)\n",
    "plt.show()"
   ]
  },
  {
   "cell_type": "code",
   "execution_count": null,
   "metadata": {
    "id": "YlV32fj--dHM",
    "outputId": "b7af49b2-429f-475d-dc2f-270bb4c0a208"
   },
   "outputs": [],
   "source": [
    "import IPython.display as ipd\n",
    "ipd.Audio(hungry_waveform, rate=hungry_sample_rate)"
   ]
  },
  {
   "cell_type": "code",
   "execution_count": null,
   "metadata": {
    "id": "mmW-Vv4m-dHM",
    "outputId": "27d51cbb-b2ff-44b3-9392-963ddfb3c9f7",
    "pycharm": {
     "name": "#%%\n"
    }
   },
   "outputs": [],
   "source": [
    "print(tf.shape(hungry_waveform))"
   ]
  },
  {
   "cell_type": "markdown",
   "metadata": {
    "id": "LTgxNAhs-dHM"
   },
   "source": [
    "## Spectrogram"
   ]
  },
  {
   "cell_type": "code",
   "execution_count": null,
   "metadata": {
    "id": "M6UP0hNa-dHN",
    "pycharm": {
     "name": "#%%\n"
    }
   },
   "outputs": [],
   "source": [
    "def get_spectrogram(waveform):\n",
    "\n",
    "    frame_length = 255\n",
    "    frame_step = 128\n",
    "    # Padding for files with less than 16000 samples\n",
    "    # zero_padding = tf.zeros([56000] - tf.shape(waveform), dtype=tf.float32)\n",
    "    zero_padding = tf.zeros([60000] - tf.shape(waveform), dtype=tf.float32)\n",
    "    \n",
    "    # Concatenate audio with padding so that all audio clips will be of the same length\n",
    "    waveform = tf.cast(waveform, tf.float32)\n",
    "    equal_length_waveform = tf.concat([waveform, zero_padding], 0)\n",
    "\n",
    "    # Option 1: Use tfio to get the spectrogram\n",
    "    spect = tfio.audio.spectrogram(input=equal_length_waveform, nfft=frame_length, window=frame_length, stride=frame_step)\n",
    "\n",
    "    # Option 2: Use tf.signal processing to get the Short-time Fourier transform (stft)\n",
    "    spectrogram = tf.signal.stft(equal_length_waveform, frame_length=frame_length, frame_step=frame_step)\n",
    "    spectrogram = tf.abs(spectrogram)\n",
    "\n",
    "    return spectrogram, spect"
   ]
  },
  {
   "cell_type": "code",
   "execution_count": null,
   "metadata": {
    "id": "Kk8d_Nam-dHN"
   },
   "outputs": [],
   "source": []
  },
  {
   "cell_type": "code",
   "execution_count": null,
   "metadata": {
    "id": "5qDuJ3Dk-dHN"
   },
   "outputs": [],
   "source": [
    "def get_spectrogram2(waveform,sample):\n",
    "    fast_fourier_transf = np.fft.fft(waveform)\n",
    "    \n",
    "    magnitude = np.abs(fast_fourier_transf)\n",
    "    \n",
    "    frequency = np.linspace(0, sample, len(magnitude))\n",
    "    \n",
    "    left_mag = magnitude[:int(len(magnitude)/2)]\n",
    "    left_freq = frequency[:int(len(frequency)/2)]\n",
    "    \n",
    "    n_fft = 2205 #กำลัง 2  Ex 255\n",
    "    \n",
    "    hop_length = 220 # กำลัง 2 Ex 128\n",
    "    \n",
    "    audio_stft = librosa.core.stft(waveform, hop_length=hop_length, n_fft=n_fft)\n",
    "    \n",
    "    # gathering the absolute values for all values in our audio_stft \n",
    "    spectrogram = np.abs(audio_stft)\n",
    "    \n",
    "    # Converting the amplitude to decibels\n",
    "    log_spectro = librosa.amplitude_to_db(spectrogram)\n",
    "    \n",
    "    return log_spectro"
   ]
  },
  {
   "cell_type": "code",
   "execution_count": null,
   "metadata": {
    "id": "RfA1TguK-dHN",
    "outputId": "b73fef22-5ceb-424e-c463-5a2050f346c2",
    "pycharm": {
     "name": "#%%\n"
    }
   },
   "outputs": [],
   "source": [
    "#spectrogram, spect = get_spectrogram(hungry_waveform)\n",
    "log_sp = get_spectrogram2(hungry_waveform,hungry_sample_rate)\n",
    "plt.figure(figsize=(20, 5))\n",
    "librosa.display.specshow(log_sp,sr=hungry_sample_rate, x_axis='time',y_axis='hz',hop_length=220,cmap='magma')\n",
    "plt.colorbar(label='Amplitude')\n",
    "plt.title('Spectrogram (amp)', fontdict=dict(size=18))\n",
    "plt.xlabel('Time', fontdict=dict(size=15))\n",
    "plt.ylabel('Frequency', fontdict=dict(size=15))\n",
    "plt.show()\n",
    "# ปัญหาแก้"
   ]
  },
  {
   "cell_type": "markdown",
   "metadata": {
    "id": "gBozSFcv-dHO"
   },
   "source": [
    "##  Create Spectrogram image for classification"
   ]
  },
  {
   "cell_type": "code",
   "execution_count": null,
   "metadata": {
    "id": "RKMR2m9M-dHO",
    "pycharm": {
     "name": "#%%\n"
    }
   },
   "outputs": [],
   "source": [
    "def create_images(dataset, label_dir,path,num):\n",
    "    # make directory\n",
    "    test_directory = f'./data/test_oneclass/{path}/{label_dir}/'\n",
    "    train_directory = f'./data/train_oneclass/{path}/{label_dir}/'\n",
    "\n",
    "    os.makedirs(test_directory, mode=0o777, exist_ok=True)\n",
    "    os.makedirs(train_directory, mode=0o777, exist_ok=True)\n",
    "    for i, data in enumerate(dataset):\n",
    "        sample_rate = data[1]\n",
    "        waveform = data[0]\n",
    "        spectrogram = get_spectrogram2(waveform,sample_rate)\n",
    "\n",
    "        # Split test and train images by 30%\n",
    "        if i % 3 == 0:\n",
    "            plt.imsave(f'./data/test_oneclass/{path}/{label_dir}/spec_img{i}{num}.jpg', spectrogram, cmap='magma')\n",
    "        else:\n",
    "            plt.imsave(f'./data/train_oneclass/{path}/{label_dir}/spec_img{i}{num}.jpg', spectrogram, cmap='magma')"
   ]
  },
  {
   "cell_type": "code",
   "execution_count": null,
   "metadata": {
    "colab": {
     "base_uri": "https://localhost:8080/",
     "height": 234
    },
    "id": "Pv5QLJ0I-dHO",
    "outputId": "55163483-b5db-4bca-90bc-f353f5b8f0a3",
    "pycharm": {
     "name": "#%%\n"
    }
   },
   "outputs": [],
   "source": [
    "create_images(trainset_speechcommands_hungry, 'hungry','hungry_one',0)\n",
    "create_images(trainset_speechcommands_tired, 'non_hungry','hungry_one',1)\n",
    "create_images(trainset_speechcommands_burping, 'non_hungry','hungry_one',2)\n",
    "create_images(trainset_speechcommands_discomfort, 'non_hungry','hungry_one',3)\n",
    "create_images(trainset_speechcommands_belly_pain, 'non_hungry','hungry_one',4)"
   ]
  },
  {
   "cell_type": "code",
   "execution_count": null,
   "metadata": {
    "id": "9WQYBTxY-dHO"
   },
   "outputs": [],
   "source": [
    "create_images(trainset_speechcommands_tired, 'non_discomfort','discomfort_one',1)\n",
    "create_images(trainset_speechcommands_burping, 'non_discomfort','discomfort_one',2)\n",
    "create_images(trainset_speechcommands_discomfort, 'discomfort','discomfort_one',3)\n",
    "create_images(trainset_speechcommands_belly_pain, 'non_discomfort','discomfort_one',4)"
   ]
  },
  {
   "cell_type": "code",
   "execution_count": null,
   "metadata": {
    "id": "Gvx4geND-dHO"
   },
   "outputs": [],
   "source": [
    "create_images(trainset_speechcommands_tired, 'tired','tired_one',1)\n",
    "create_images(trainset_speechcommands_burping, 'non_tired','tired_one',2)\n",
    "create_images(trainset_speechcommands_belly_pain, 'non_tired','tired_one',4)"
   ]
  },
  {
   "cell_type": "code",
   "execution_count": null,
   "metadata": {
    "id": "5GOWeZ4Q-dHP"
   },
   "outputs": [],
   "source": [
    "create_images(trainset_speechcommands_burping, 'burping','burping_one',2)\n",
    "create_images(trainset_speechcommands_belly_pain, 'non_burping','burping_one',4)"
   ]
  },
  {
   "cell_type": "raw",
   "metadata": {
    "id": "GvHkSuuW-dHP"
   },
   "source": [
    "### Build the model"
   ]
  },
  {
   "cell_type": "code",
   "execution_count": null,
   "metadata": {
    "id": "veoFeFBk-dHP",
    "pycharm": {
     "name": "#%%\n"
    }
   },
   "outputs": [],
   "source": [
    "# train_directory = './data/train_oneclass/hungry_one'\n",
    "# test_directory = './data/test_oneclass/hungry_one'\n",
    "#\n",
    "# train_ds = tf.keras.preprocessing.image_dataset_from_directory(\n",
    "#     train_directory, labels='inferred', label_mode='int', image_size=(256, 256), seed = 321\n",
    "#     ,validation_split=0.2, subset='training')\n",
    "# train_ds = tf.keras.preprocessing.image_dataset_from_directory(\n",
    "#     train_directory, labels='inferred', label_mode='int', image_size=(256, 256)\n",
    "#     ,validation_split=None, subset=None)\n",
    "# val_ds = tf.keras.preprocessing.image_dataset_from_directory(\n",
    "#     train_directory, labels='inferred', label_mode='int', image_size=(256, 256), seed=321,\n",
    "#     validation_split=0.2, subset='validation')\n",
    "#\n",
    "# test_ds = tf.keras.preprocessing.image_dataset_from_directory(\n",
    "#     test_directory, labels='inferred', label_mode='int', image_size=(256, 256),\n",
    "#     validation_split=None, subset=None)\n",
    "#\n",
    "# class_names = train_ds.class_names\n",
    "# print(class_names)"
   ]
  },
  {
   "cell_type": "code",
   "execution_count": null,
   "metadata": {
    "id": "uyJstz3f-dHP"
   },
   "outputs": [],
   "source": [
    "# type(test_ds)"
   ]
  },
  {
   "cell_type": "code",
   "execution_count": null,
   "metadata": {
    "id": "0sjN7Jia-dHQ",
    "pycharm": {
     "name": "#%%\n"
    }
   },
   "outputs": [],
   "source": [
    "# plt.figure(figsize=(10, 10))\n",
    "# for images, labels in train_ds.take(1):\n",
    "#     for i in range(9):\n",
    "#         ax = plt.subplot(3, 3, i + 1)\n",
    "#         plt.imshow(images[i].numpy().astype(\"uint8\"))\n",
    "#         plt.title(class_names[labels[i]])\n",
    "#         plt.axis(\"off\")"
   ]
  },
  {
   "cell_type": "markdown",
   "metadata": {
    "id": "jQdrlrMs-dHQ"
   },
   "source": [
    "## Create Model"
   ]
  },
  {
   "cell_type": "code",
   "execution_count": null,
   "metadata": {
    "id": "YTnb9MWQ-dHQ",
    "pycharm": {
     "name": "#%%\n"
    }
   },
   "outputs": [],
   "source": [
    "from sklearn.metrics import confusion_matrix, ConfusionMatrixDisplay"
   ]
  },
  {
   "cell_type": "code",
   "execution_count": null,
   "metadata": {
    "id": "LEY2gImvClMl"
   },
   "outputs": [],
   "source": [
    "from imblearn.over_sampling import SMOTE"
   ]
  },
  {
   "cell_type": "code",
   "execution_count": null,
   "metadata": {
    "colab": {
     "base_uri": "https://localhost:8080/",
     "height": 244
    },
    "id": "rJMlYLYFAwSQ",
    "outputId": "0c8a05bf-7518-4681-bc59-40b8013029d0"
   },
   "outputs": [],
   "source": [
    "train_directory = 'data/train_oneclass/hungry_one'\n",
    "test_directory =  'data/test_oneclass/hungry_one'\n",
    "\n",
    "#train_ds = tf.keras.preprocessing.image_dataset_from_directory(\n",
    "#    train_directory, labels='inferred', label_mode='int', image_size=(256, 256), seed = 321\n",
    "#    ,validation_split=0.2, subset='training')\n",
    "train_ds = tf.keras.preprocessing.image_dataset_from_directory(\n",
    "    train_directory, labels='inferred', label_mode='int', image_size=(256, 256)\n",
    "    ,validation_split=None, subset=None)\n",
    "val_ds = tf.keras.preprocessing.image_dataset_from_directory(\n",
    "   train_directory, labels='inferred', label_mode='int', image_size=(256, 256), seed=321,\n",
    "   validation_split=0.2, subset='validation')\n",
    "\n",
    "test_ds = tf.keras.preprocessing.image_dataset_from_directory(\n",
    "    test_directory, labels='inferred', label_mode='int', image_size=(256, 256),\n",
    "    validation_split=None, subset=None)\n",
    "class_names_train = train_ds.class_names\n",
    "class_names_test = test_ds.class_names\n",
    "print(class_names_train)\n",
    "print(class_names_test)"
   ]
  },
  {
   "cell_type": "code",
   "execution_count": null,
   "metadata": {
    "id": "fO_r3EKoDuVG"
   },
   "outputs": [],
   "source": [
    "x_train=[]\n",
    "y_train=[]\n",
    "for images, labels in train_ds.unbatch().take(-1):\n",
    "    x_train.append(images.numpy())\n",
    "    y_train.append(labels.numpy())"
   ]
  },
  {
   "cell_type": "code",
   "execution_count": null,
   "metadata": {
    "id": "j-AtAn34M6eO"
   },
   "outputs": [],
   "source": [
    "x_test=[]\n",
    "y_test=[]\n",
    "for images, labels in test_ds.unbatch().take(-1):\n",
    "    x_test.append(images.numpy())\n",
    "    y_test.append(labels.numpy())"
   ]
  },
  {
   "cell_type": "code",
   "execution_count": null,
   "metadata": {
    "pycharm": {
     "name": "#%%\n"
    }
   },
   "outputs": [],
   "source": [
    "x_val=[]\n",
    "y_val=[]\n",
    "for images, labels in val_ds .unbatch().take(-1):\n",
    "    x_test.append(images.numpy())\n",
    "    y_test.append(labels.numpy())"
   ]
  },
  {
   "cell_type": "code",
   "execution_count": null,
   "metadata": {
    "id": "6wKwRbuILJhK"
   },
   "outputs": [],
   "source": [
    "sm = SMOTE(random_state=42)"
   ]
  },
  {
   "cell_type": "code",
   "execution_count": null,
   "metadata": {
    "id": "0MG-rKfFDBUs"
   },
   "outputs": [],
   "source": [
    "x_train = np.array(x_train)\n",
    "x_val   = np.array(x_val)\n",
    "x_test = np.array(x_test)"
   ]
  },
  {
   "cell_type": "code",
   "execution_count": null,
   "metadata": {
    "id": "d1w9HYkiPDuN"
   },
   "outputs": [],
   "source": [
    "y_train = np.array(y_train)\n",
    "y_val   = np.array(y_val)\n",
    "y_test = np.array(y_test)"
   ]
  },
  {
   "cell_type": "code",
   "execution_count": null,
   "metadata": {
    "id": "bgvuhdc9QnUO"
   },
   "outputs": [],
   "source": [
    "plt.imshow(x_train[0].astype(\"uint8\"))"
   ]
  },
  {
   "cell_type": "code",
   "execution_count": 71,
   "metadata": {
    "id": "_TOa91os-dHQ"
   },
   "outputs": [],
   "source": [
    "num_classes = 2\n",
    "img_height = 256\n",
    "img_width = 256"
   ]
  },
  {
   "cell_type": "code",
   "execution_count": 72,
   "metadata": {
    "id": "4NJWrki--dHQ"
   },
   "outputs": [],
   "source": [
    "# def create_weight(n_sample,n_class,n_class_sample):\n",
    "#     weight = n_sample/(n_class*n_class_sample)\n",
    "#     return weight"
   ]
  },
  {
   "cell_type": "code",
   "execution_count": 73,
   "metadata": {
    "id": "i1Y1CJI2TgWl"
   },
   "outputs": [
    {
     "data": {
      "text/plain": [
       "55"
      ]
     },
     "execution_count": 73,
     "metadata": {},
     "output_type": "execute_result"
    }
   ],
   "source": [
    "# np.count_nonzero(y_train == 1 )"
   ]
  },
  {
   "cell_type": "code",
   "execution_count": 80,
   "metadata": {
    "id": "rJOcg8b9-dHQ",
    "pycharm": {
     "name": "#%%\n"
    }
   },
   "outputs": [],
   "source": [
    "# model = tf.keras.Sequential([\n",
    "#     tf.keras.layers.experimental.preprocessing.Rescaling(1./255, input_shape=(img_height, img_width, 3)),\n",
    "#     tf.keras.layers.Conv2D(16, 3, padding='same', activation='relu'),\n",
    "#     tf.keras.layers.MaxPooling2D((3,3)),\n",
    "#     tf.keras.layers.Dropout(0.2),\n",
    "#     tf.keras.layers.Conv2D(64, 3, padding='same', activation='relu'),\n",
    "#     tf.keras.layers.MaxPooling2D((3,3)),\n",
    "#     tf.keras.layers.Dropout(0.2),\n",
    "#     tf.keras.layers.Conv2D(32, 3, padding='same', activation='relu'),\n",
    "#     tf.keras.layers.MaxPooling2D((3,3)),\n",
    "#     tf.keras.layers.Flatten(),\n",
    "#     tf.keras.layers.Dense(128, activation='relu'),\n",
    "#     tf.keras.layers.Dense(1, activation='sigmoid')\n",
    "# ])"
   ]
  },
  {
   "cell_type": "code",
   "execution_count": 111,
   "metadata": {
    "id": "lhQRJDF8-dHR",
    "pycharm": {
     "name": "#%%\n"
    }
   },
   "outputs": [],
   "source": [
    "# learning_rate =  0.002\n",
    "# loss_fn = tf.keras.losses.BinaryCrossentropy(from_logits=True)\n",
    "# # loss_fn = tf.keras.losses.SparseCategoricalCrossentropy(from_logits=True)\n",
    "# # optimizer = tf.keras.optimizers.SGD(learning_rate)\n",
    "# #optimizer = tf.keras.optimizers.Adadelta(learning_rate)\n",
    "# #optimizer = tf.keras.optimizers.Adamax(learning_rate)\n",
    "# optimizer = tf.keras.optimizers.Adam(learning_rate)# modify weight in Adam\n",
    "# metrics = ['accuracy']\n",
    "# model.compile (optimizer = optimizer,loss =  loss_fn,metrics = metrics)"
   ]
  },
  {
   "cell_type": "code",
   "execution_count": 110,
   "metadata": {
    "id": "W-RnwAsB-dHR",
    "pycharm": {
     "name": "#%%\n"
    }
   },
   "outputs": [
    {
     "name": "stdout",
     "output_type": "stream",
     "text": [
      "Epoch 1/20\n"
     ]
    },
    {
     "name": "stderr",
     "output_type": "stream",
     "text": [
      "C:\\Users\\Near\\anaconda3\\lib\\site-packages\\tensorflow\\python\\util\\dispatch.py:1082: UserWarning: \"`sparse_categorical_crossentropy` received `from_logits=True`, but the `output` argument was produced by a sigmoid or softmax activation and thus does not represent logits. Was this intended?\"\n",
      "  return dispatch_target(*args, **kwargs)\n"
     ]
    },
    {
     "ename": "InvalidArgumentError",
     "evalue": "Graph execution error:\n\nDetected at node 'sparse_categorical_crossentropy/SparseSoftmaxCrossEntropyWithLogits/SparseSoftmaxCrossEntropyWithLogits' defined at (most recent call last):\n    File \"C:\\Users\\Near\\anaconda3\\lib\\runpy.py\", line 197, in _run_module_as_main\n      return _run_code(code, main_globals, None,\n    File \"C:\\Users\\Near\\anaconda3\\lib\\runpy.py\", line 87, in _run_code\n      exec(code, run_globals)\n    File \"C:\\Users\\Near\\anaconda3\\lib\\site-packages\\ipykernel_launcher.py\", line 16, in <module>\n      app.launch_new_instance()\n    File \"C:\\Users\\Near\\anaconda3\\lib\\site-packages\\traitlets\\config\\application.py\", line 846, in launch_instance\n      app.start()\n    File \"C:\\Users\\Near\\anaconda3\\lib\\site-packages\\ipykernel\\kernelapp.py\", line 677, in start\n      self.io_loop.start()\n    File \"C:\\Users\\Near\\anaconda3\\lib\\site-packages\\tornado\\platform\\asyncio.py\", line 199, in start\n      self.asyncio_loop.run_forever()\n    File \"C:\\Users\\Near\\anaconda3\\lib\\asyncio\\base_events.py\", line 596, in run_forever\n      self._run_once()\n    File \"C:\\Users\\Near\\anaconda3\\lib\\asyncio\\base_events.py\", line 1890, in _run_once\n      handle._run()\n    File \"C:\\Users\\Near\\anaconda3\\lib\\asyncio\\events.py\", line 80, in _run\n      self._context.run(self._callback, *self._args)\n    File \"C:\\Users\\Near\\anaconda3\\lib\\site-packages\\ipykernel\\kernelbase.py\", line 457, in dispatch_queue\n      await self.process_one()\n    File \"C:\\Users\\Near\\anaconda3\\lib\\site-packages\\ipykernel\\kernelbase.py\", line 446, in process_one\n      await dispatch(*args)\n    File \"C:\\Users\\Near\\anaconda3\\lib\\site-packages\\ipykernel\\kernelbase.py\", line 353, in dispatch_shell\n      await result\n    File \"C:\\Users\\Near\\anaconda3\\lib\\site-packages\\ipykernel\\kernelbase.py\", line 648, in execute_request\n      reply_content = await reply_content\n    File \"C:\\Users\\Near\\anaconda3\\lib\\site-packages\\ipykernel\\ipkernel.py\", line 353, in do_execute\n      res = shell.run_cell(code, store_history=store_history, silent=silent)\n    File \"C:\\Users\\Near\\anaconda3\\lib\\site-packages\\ipykernel\\zmqshell.py\", line 533, in run_cell\n      return super(ZMQInteractiveShell, self).run_cell(*args, **kwargs)\n    File \"C:\\Users\\Near\\anaconda3\\lib\\site-packages\\IPython\\core\\interactiveshell.py\", line 2901, in run_cell\n      result = self._run_cell(\n    File \"C:\\Users\\Near\\anaconda3\\lib\\site-packages\\IPython\\core\\interactiveshell.py\", line 2947, in _run_cell\n      return runner(coro)\n    File \"C:\\Users\\Near\\anaconda3\\lib\\site-packages\\IPython\\core\\async_helpers.py\", line 68, in _pseudo_sync_runner\n      coro.send(None)\n    File \"C:\\Users\\Near\\anaconda3\\lib\\site-packages\\IPython\\core\\interactiveshell.py\", line 3172, in run_cell_async\n      has_raised = await self.run_ast_nodes(code_ast.body, cell_name,\n    File \"C:\\Users\\Near\\anaconda3\\lib\\site-packages\\IPython\\core\\interactiveshell.py\", line 3364, in run_ast_nodes\n      if (await self.run_code(code, result,  async_=asy)):\n    File \"C:\\Users\\Near\\anaconda3\\lib\\site-packages\\IPython\\core\\interactiveshell.py\", line 3444, in run_code\n      exec(code_obj, self.user_global_ns, self.user_ns)\n    File \"C:\\Users\\Near\\AppData\\Local\\Temp/ipykernel_17564/811064035.py\", line 4, in <module>\n      history = model.fit(x_train,y_train,epochs=epochs,\n    File \"C:\\Users\\Near\\anaconda3\\lib\\site-packages\\keras\\utils\\traceback_utils.py\", line 64, in error_handler\n      return fn(*args, **kwargs)\n    File \"C:\\Users\\Near\\anaconda3\\lib\\site-packages\\keras\\engine\\training.py\", line 1384, in fit\n      tmp_logs = self.train_function(iterator)\n    File \"C:\\Users\\Near\\anaconda3\\lib\\site-packages\\keras\\engine\\training.py\", line 1021, in train_function\n      return step_function(self, iterator)\n    File \"C:\\Users\\Near\\anaconda3\\lib\\site-packages\\keras\\engine\\training.py\", line 1010, in step_function\n      outputs = model.distribute_strategy.run(run_step, args=(data,))\n    File \"C:\\Users\\Near\\anaconda3\\lib\\site-packages\\keras\\engine\\training.py\", line 1000, in run_step\n      outputs = model.train_step(data)\n    File \"C:\\Users\\Near\\anaconda3\\lib\\site-packages\\keras\\engine\\training.py\", line 860, in train_step\n      loss = self.compute_loss(x, y, y_pred, sample_weight)\n    File \"C:\\Users\\Near\\anaconda3\\lib\\site-packages\\keras\\engine\\training.py\", line 918, in compute_loss\n      return self.compiled_loss(\n    File \"C:\\Users\\Near\\anaconda3\\lib\\site-packages\\keras\\engine\\compile_utils.py\", line 201, in __call__\n      loss_value = loss_obj(y_t, y_p, sample_weight=sw)\n    File \"C:\\Users\\Near\\anaconda3\\lib\\site-packages\\keras\\losses.py\", line 141, in __call__\n      losses = call_fn(y_true, y_pred)\n    File \"C:\\Users\\Near\\anaconda3\\lib\\site-packages\\keras\\losses.py\", line 245, in call\n      return ag_fn(y_true, y_pred, **self._fn_kwargs)\n    File \"C:\\Users\\Near\\anaconda3\\lib\\site-packages\\keras\\losses.py\", line 1862, in sparse_categorical_crossentropy\n      return backend.sparse_categorical_crossentropy(\n    File \"C:\\Users\\Near\\anaconda3\\lib\\site-packages\\keras\\backend.py\", line 5202, in sparse_categorical_crossentropy\n      res = tf.nn.sparse_softmax_cross_entropy_with_logits(\nNode: 'sparse_categorical_crossentropy/SparseSoftmaxCrossEntropyWithLogits/SparseSoftmaxCrossEntropyWithLogits'\nReceived a label value of 1 which is outside the valid range of [0, 1).  Label values: 0 0 0 0 0 0 0 1 0 0 0 0 1 0 0 0 0 0 0 0 0 0 0 0 0 0 0 0 0 0 0 0\n\t [[{{node sparse_categorical_crossentropy/SparseSoftmaxCrossEntropyWithLogits/SparseSoftmaxCrossEntropyWithLogits}}]] [Op:__inference_train_function_34794]",
     "output_type": "error",
     "traceback": [
      "\u001b[1;31m---------------------------------------------------------------------------\u001b[0m",
      "\u001b[1;31mInvalidArgumentError\u001b[0m                      Traceback (most recent call last)",
      "\u001b[1;32m~\\AppData\\Local\\Temp/ipykernel_17564/811064035.py\u001b[0m in \u001b[0;36m<module>\u001b[1;34m\u001b[0m\n\u001b[0;32m      2\u001b[0m \u001b[1;31m# ทำ stop + validation\u001b[0m\u001b[1;33m\u001b[0m\u001b[1;33m\u001b[0m\u001b[0m\n\u001b[0;32m      3\u001b[0m \u001b[0mepochs\u001b[0m \u001b[1;33m=\u001b[0m \u001b[1;36m20\u001b[0m\u001b[1;33m\u001b[0m\u001b[1;33m\u001b[0m\u001b[0m\n\u001b[1;32m----> 4\u001b[1;33m history = model.fit(x_train,y_train,epochs=epochs,\n\u001b[0m\u001b[0;32m      5\u001b[0m                     validation_data=(x_val, y_val), shuffle=True)\n",
      "\u001b[1;32m~\\anaconda3\\lib\\site-packages\\keras\\utils\\traceback_utils.py\u001b[0m in \u001b[0;36merror_handler\u001b[1;34m(*args, **kwargs)\u001b[0m\n\u001b[0;32m     65\u001b[0m     \u001b[1;32mexcept\u001b[0m \u001b[0mException\u001b[0m \u001b[1;32mas\u001b[0m \u001b[0me\u001b[0m\u001b[1;33m:\u001b[0m  \u001b[1;31m# pylint: disable=broad-except\u001b[0m\u001b[1;33m\u001b[0m\u001b[1;33m\u001b[0m\u001b[0m\n\u001b[0;32m     66\u001b[0m       \u001b[0mfiltered_tb\u001b[0m \u001b[1;33m=\u001b[0m \u001b[0m_process_traceback_frames\u001b[0m\u001b[1;33m(\u001b[0m\u001b[0me\u001b[0m\u001b[1;33m.\u001b[0m\u001b[0m__traceback__\u001b[0m\u001b[1;33m)\u001b[0m\u001b[1;33m\u001b[0m\u001b[1;33m\u001b[0m\u001b[0m\n\u001b[1;32m---> 67\u001b[1;33m       \u001b[1;32mraise\u001b[0m \u001b[0me\u001b[0m\u001b[1;33m.\u001b[0m\u001b[0mwith_traceback\u001b[0m\u001b[1;33m(\u001b[0m\u001b[0mfiltered_tb\u001b[0m\u001b[1;33m)\u001b[0m \u001b[1;32mfrom\u001b[0m \u001b[1;32mNone\u001b[0m\u001b[1;33m\u001b[0m\u001b[1;33m\u001b[0m\u001b[0m\n\u001b[0m\u001b[0;32m     68\u001b[0m     \u001b[1;32mfinally\u001b[0m\u001b[1;33m:\u001b[0m\u001b[1;33m\u001b[0m\u001b[1;33m\u001b[0m\u001b[0m\n\u001b[0;32m     69\u001b[0m       \u001b[1;32mdel\u001b[0m \u001b[0mfiltered_tb\u001b[0m\u001b[1;33m\u001b[0m\u001b[1;33m\u001b[0m\u001b[0m\n",
      "\u001b[1;32m~\\anaconda3\\lib\\site-packages\\tensorflow\\python\\eager\\execute.py\u001b[0m in \u001b[0;36mquick_execute\u001b[1;34m(op_name, num_outputs, inputs, attrs, ctx, name)\u001b[0m\n\u001b[0;32m     52\u001b[0m   \u001b[1;32mtry\u001b[0m\u001b[1;33m:\u001b[0m\u001b[1;33m\u001b[0m\u001b[1;33m\u001b[0m\u001b[0m\n\u001b[0;32m     53\u001b[0m     \u001b[0mctx\u001b[0m\u001b[1;33m.\u001b[0m\u001b[0mensure_initialized\u001b[0m\u001b[1;33m(\u001b[0m\u001b[1;33m)\u001b[0m\u001b[1;33m\u001b[0m\u001b[1;33m\u001b[0m\u001b[0m\n\u001b[1;32m---> 54\u001b[1;33m     tensors = pywrap_tfe.TFE_Py_Execute(ctx._handle, device_name, op_name,\n\u001b[0m\u001b[0;32m     55\u001b[0m                                         inputs, attrs, num_outputs)\n\u001b[0;32m     56\u001b[0m   \u001b[1;32mexcept\u001b[0m \u001b[0mcore\u001b[0m\u001b[1;33m.\u001b[0m\u001b[0m_NotOkStatusException\u001b[0m \u001b[1;32mas\u001b[0m \u001b[0me\u001b[0m\u001b[1;33m:\u001b[0m\u001b[1;33m\u001b[0m\u001b[1;33m\u001b[0m\u001b[0m\n",
      "\u001b[1;31mInvalidArgumentError\u001b[0m: Graph execution error:\n\nDetected at node 'sparse_categorical_crossentropy/SparseSoftmaxCrossEntropyWithLogits/SparseSoftmaxCrossEntropyWithLogits' defined at (most recent call last):\n    File \"C:\\Users\\Near\\anaconda3\\lib\\runpy.py\", line 197, in _run_module_as_main\n      return _run_code(code, main_globals, None,\n    File \"C:\\Users\\Near\\anaconda3\\lib\\runpy.py\", line 87, in _run_code\n      exec(code, run_globals)\n    File \"C:\\Users\\Near\\anaconda3\\lib\\site-packages\\ipykernel_launcher.py\", line 16, in <module>\n      app.launch_new_instance()\n    File \"C:\\Users\\Near\\anaconda3\\lib\\site-packages\\traitlets\\config\\application.py\", line 846, in launch_instance\n      app.start()\n    File \"C:\\Users\\Near\\anaconda3\\lib\\site-packages\\ipykernel\\kernelapp.py\", line 677, in start\n      self.io_loop.start()\n    File \"C:\\Users\\Near\\anaconda3\\lib\\site-packages\\tornado\\platform\\asyncio.py\", line 199, in start\n      self.asyncio_loop.run_forever()\n    File \"C:\\Users\\Near\\anaconda3\\lib\\asyncio\\base_events.py\", line 596, in run_forever\n      self._run_once()\n    File \"C:\\Users\\Near\\anaconda3\\lib\\asyncio\\base_events.py\", line 1890, in _run_once\n      handle._run()\n    File \"C:\\Users\\Near\\anaconda3\\lib\\asyncio\\events.py\", line 80, in _run\n      self._context.run(self._callback, *self._args)\n    File \"C:\\Users\\Near\\anaconda3\\lib\\site-packages\\ipykernel\\kernelbase.py\", line 457, in dispatch_queue\n      await self.process_one()\n    File \"C:\\Users\\Near\\anaconda3\\lib\\site-packages\\ipykernel\\kernelbase.py\", line 446, in process_one\n      await dispatch(*args)\n    File \"C:\\Users\\Near\\anaconda3\\lib\\site-packages\\ipykernel\\kernelbase.py\", line 353, in dispatch_shell\n      await result\n    File \"C:\\Users\\Near\\anaconda3\\lib\\site-packages\\ipykernel\\kernelbase.py\", line 648, in execute_request\n      reply_content = await reply_content\n    File \"C:\\Users\\Near\\anaconda3\\lib\\site-packages\\ipykernel\\ipkernel.py\", line 353, in do_execute\n      res = shell.run_cell(code, store_history=store_history, silent=silent)\n    File \"C:\\Users\\Near\\anaconda3\\lib\\site-packages\\ipykernel\\zmqshell.py\", line 533, in run_cell\n      return super(ZMQInteractiveShell, self).run_cell(*args, **kwargs)\n    File \"C:\\Users\\Near\\anaconda3\\lib\\site-packages\\IPython\\core\\interactiveshell.py\", line 2901, in run_cell\n      result = self._run_cell(\n    File \"C:\\Users\\Near\\anaconda3\\lib\\site-packages\\IPython\\core\\interactiveshell.py\", line 2947, in _run_cell\n      return runner(coro)\n    File \"C:\\Users\\Near\\anaconda3\\lib\\site-packages\\IPython\\core\\async_helpers.py\", line 68, in _pseudo_sync_runner\n      coro.send(None)\n    File \"C:\\Users\\Near\\anaconda3\\lib\\site-packages\\IPython\\core\\interactiveshell.py\", line 3172, in run_cell_async\n      has_raised = await self.run_ast_nodes(code_ast.body, cell_name,\n    File \"C:\\Users\\Near\\anaconda3\\lib\\site-packages\\IPython\\core\\interactiveshell.py\", line 3364, in run_ast_nodes\n      if (await self.run_code(code, result,  async_=asy)):\n    File \"C:\\Users\\Near\\anaconda3\\lib\\site-packages\\IPython\\core\\interactiveshell.py\", line 3444, in run_code\n      exec(code_obj, self.user_global_ns, self.user_ns)\n    File \"C:\\Users\\Near\\AppData\\Local\\Temp/ipykernel_17564/811064035.py\", line 4, in <module>\n      history = model.fit(x_train,y_train,epochs=epochs,\n    File \"C:\\Users\\Near\\anaconda3\\lib\\site-packages\\keras\\utils\\traceback_utils.py\", line 64, in error_handler\n      return fn(*args, **kwargs)\n    File \"C:\\Users\\Near\\anaconda3\\lib\\site-packages\\keras\\engine\\training.py\", line 1384, in fit\n      tmp_logs = self.train_function(iterator)\n    File \"C:\\Users\\Near\\anaconda3\\lib\\site-packages\\keras\\engine\\training.py\", line 1021, in train_function\n      return step_function(self, iterator)\n    File \"C:\\Users\\Near\\anaconda3\\lib\\site-packages\\keras\\engine\\training.py\", line 1010, in step_function\n      outputs = model.distribute_strategy.run(run_step, args=(data,))\n    File \"C:\\Users\\Near\\anaconda3\\lib\\site-packages\\keras\\engine\\training.py\", line 1000, in run_step\n      outputs = model.train_step(data)\n    File \"C:\\Users\\Near\\anaconda3\\lib\\site-packages\\keras\\engine\\training.py\", line 860, in train_step\n      loss = self.compute_loss(x, y, y_pred, sample_weight)\n    File \"C:\\Users\\Near\\anaconda3\\lib\\site-packages\\keras\\engine\\training.py\", line 918, in compute_loss\n      return self.compiled_loss(\n    File \"C:\\Users\\Near\\anaconda3\\lib\\site-packages\\keras\\engine\\compile_utils.py\", line 201, in __call__\n      loss_value = loss_obj(y_t, y_p, sample_weight=sw)\n    File \"C:\\Users\\Near\\anaconda3\\lib\\site-packages\\keras\\losses.py\", line 141, in __call__\n      losses = call_fn(y_true, y_pred)\n    File \"C:\\Users\\Near\\anaconda3\\lib\\site-packages\\keras\\losses.py\", line 245, in call\n      return ag_fn(y_true, y_pred, **self._fn_kwargs)\n    File \"C:\\Users\\Near\\anaconda3\\lib\\site-packages\\keras\\losses.py\", line 1862, in sparse_categorical_crossentropy\n      return backend.sparse_categorical_crossentropy(\n    File \"C:\\Users\\Near\\anaconda3\\lib\\site-packages\\keras\\backend.py\", line 5202, in sparse_categorical_crossentropy\n      res = tf.nn.sparse_softmax_cross_entropy_with_logits(\nNode: 'sparse_categorical_crossentropy/SparseSoftmaxCrossEntropyWithLogits/SparseSoftmaxCrossEntropyWithLogits'\nReceived a label value of 1 which is outside the valid range of [0, 1).  Label values: 0 0 0 0 0 0 0 1 0 0 0 0 1 0 0 0 0 0 0 0 0 0 0 0 0 0 0 0 0 0 0 0\n\t [[{{node sparse_categorical_crossentropy/SparseSoftmaxCrossEntropyWithLogits/SparseSoftmaxCrossEntropyWithLogits}}]] [Op:__inference_train_function_34794]"
     ]
    }
   ],
   "source": [
    "# Set the epocks\n",
    "# ทำ stop + validation\n",
    "# epochs = 20\n",
    "# history = model.fit(x_train,y_train,epochs=epochs,\n",
    "#                     validation_data=(x_val, y_val), shuffle=True)"
   ]
  },
  {
   "cell_type": "code",
   "execution_count": 94,
   "metadata": {
    "pycharm": {
     "name": "#%%\n"
    }
   },
   "outputs": [
    {
     "name": "stdout",
     "output_type": "stream",
     "text": [
      "------------------------------------------------------------------------\n",
      "Training for fold 1 ...\n",
      "Epoch 1/20\n",
      "9/9 [==============================] - 4s 412ms/step - loss: 0.5301 - accuracy: 0.7817\n",
      "Epoch 2/20\n",
      "9/9 [==============================] - 4s 387ms/step - loss: 0.5252 - accuracy: 0.8204\n",
      "Epoch 3/20\n",
      "9/9 [==============================] - 3s 369ms/step - loss: 0.4823 - accuracy: 0.8204\n",
      "Epoch 4/20\n",
      "9/9 [==============================] - 4s 404ms/step - loss: 0.4842 - accuracy: 0.8204\n",
      "Epoch 5/20\n",
      "9/9 [==============================] - 3s 379ms/step - loss: 0.4675 - accuracy: 0.8204\n",
      "Epoch 6/20\n",
      "9/9 [==============================] - 3s 376ms/step - loss: 0.4597 - accuracy: 0.8204\n",
      "Epoch 7/20\n",
      "9/9 [==============================] - 4s 398ms/step - loss: 0.4820 - accuracy: 0.8204\n",
      "Epoch 8/20\n",
      "9/9 [==============================] - 3s 379ms/step - loss: 0.4647 - accuracy: 0.8204\n",
      "Epoch 9/20\n",
      "9/9 [==============================] - 3s 383ms/step - loss: 0.4527 - accuracy: 0.8204\n",
      "Epoch 10/20\n",
      "9/9 [==============================] - 4s 399ms/step - loss: 0.4481 - accuracy: 0.8204\n",
      "Epoch 11/20\n",
      "9/9 [==============================] - 3s 371ms/step - loss: 0.4484 - accuracy: 0.8204\n",
      "Epoch 12/20\n",
      "9/9 [==============================] - 3s 387ms/step - loss: 0.4406 - accuracy: 0.8204\n",
      "Epoch 13/20\n",
      "9/9 [==============================] - 4s 401ms/step - loss: 0.4272 - accuracy: 0.8204\n",
      "Epoch 14/20\n",
      "9/9 [==============================] - 3s 386ms/step - loss: 0.4154 - accuracy: 0.8204\n",
      "Epoch 15/20\n",
      "9/9 [==============================] - 4s 419ms/step - loss: 0.4145 - accuracy: 0.8204\n",
      "Epoch 16/20\n",
      "9/9 [==============================] - 4s 413ms/step - loss: 0.3928 - accuracy: 0.8204\n",
      "Epoch 17/20\n",
      "9/9 [==============================] - 4s 421ms/step - loss: 0.3745 - accuracy: 0.8275\n",
      "Epoch 18/20\n",
      "9/9 [==============================] - 4s 422ms/step - loss: 0.3549 - accuracy: 0.8486\n",
      "Epoch 19/20\n",
      "9/9 [==============================] - 4s 411ms/step - loss: 0.3502 - accuracy: 0.8486\n",
      "Epoch 20/20\n",
      "9/9 [==============================] - 4s 402ms/step - loss: 0.3117 - accuracy: 0.8556\n",
      "Score for fold 1: loss of 0.517919659614563; accuracy of 84.375%\n",
      "------------------------------------------------------------------------\n",
      "Training for fold 2 ...\n",
      "Epoch 1/20\n",
      "9/9 [==============================] - 4s 407ms/step - loss: 0.5566 - accuracy: 0.7535\n",
      "Epoch 2/20\n",
      "9/9 [==============================] - 4s 436ms/step - loss: 0.4840 - accuracy: 0.8310\n",
      "Epoch 3/20\n",
      "9/9 [==============================] - 5s 508ms/step - loss: 0.4659 - accuracy: 0.8310\n",
      "Epoch 4/20\n",
      "9/9 [==============================] - 4s 474ms/step - loss: 0.4668 - accuracy: 0.8310\n",
      "Epoch 5/20\n",
      "9/9 [==============================] - 4s 410ms/step - loss: 0.4645 - accuracy: 0.8310\n",
      "Epoch 6/20\n",
      "9/9 [==============================] - 5s 520ms/step - loss: 0.4544 - accuracy: 0.8310\n",
      "Epoch 7/20\n",
      "9/9 [==============================] - 5s 547ms/step - loss: 0.4512 - accuracy: 0.8310\n",
      "Epoch 8/20\n",
      "9/9 [==============================] - 4s 482ms/step - loss: 0.4448 - accuracy: 0.8310\n",
      "Epoch 9/20\n",
      "9/9 [==============================] - 4s 460ms/step - loss: 0.4388 - accuracy: 0.8310\n",
      "Epoch 10/20\n",
      "9/9 [==============================] - 4s 442ms/step - loss: 0.4410 - accuracy: 0.8310\n",
      "Epoch 11/20\n",
      "9/9 [==============================] - 4s 442ms/step - loss: 0.4287 - accuracy: 0.8310\n",
      "Epoch 12/20\n",
      "9/9 [==============================] - 4s 480ms/step - loss: 0.4339 - accuracy: 0.8310\n",
      "Epoch 13/20\n",
      "9/9 [==============================] - 4s 476ms/step - loss: 0.4320 - accuracy: 0.8310\n",
      "Epoch 14/20\n",
      "9/9 [==============================] - 4s 423ms/step - loss: 0.4299 - accuracy: 0.8310\n",
      "Epoch 15/20\n",
      "9/9 [==============================] - 5s 525ms/step - loss: 0.4163 - accuracy: 0.8310\n",
      "Epoch 16/20\n",
      "9/9 [==============================] - 4s 493ms/step - loss: 0.4105 - accuracy: 0.8310\n",
      "Epoch 17/20\n",
      "9/9 [==============================] - 4s 436ms/step - loss: 0.3997 - accuracy: 0.8310\n",
      "Epoch 18/20\n",
      "9/9 [==============================] - 4s 457ms/step - loss: 0.4079 - accuracy: 0.8310\n",
      "Epoch 19/20\n",
      "9/9 [==============================] - 4s 393ms/step - loss: 0.4017 - accuracy: 0.8310\n",
      "Epoch 20/20\n",
      "9/9 [==============================] - 4s 391ms/step - loss: 0.4178 - accuracy: 0.8310\n",
      "Score for fold 2: loss of 0.404857873916626; accuracy of 78.125%\n",
      "------------------------------------------------------------------------\n",
      "Training for fold 3 ...\n",
      "Epoch 1/20\n",
      "9/9 [==============================] - 5s 473ms/step - loss: 0.6453 - accuracy: 0.7430\n",
      "Epoch 2/20\n",
      "9/9 [==============================] - 4s 431ms/step - loss: 0.5835 - accuracy: 0.8275\n",
      "Epoch 3/20\n",
      "9/9 [==============================] - 4s 485ms/step - loss: 0.4750 - accuracy: 0.8275\n",
      "Epoch 4/20\n",
      "9/9 [==============================] - 4s 406ms/step - loss: 0.4851 - accuracy: 0.8275\n",
      "Epoch 5/20\n",
      "9/9 [==============================] - 4s 445ms/step - loss: 0.4843 - accuracy: 0.8275\n",
      "Epoch 6/20\n",
      "9/9 [==============================] - 5s 520ms/step - loss: 0.4626 - accuracy: 0.8275\n",
      "Epoch 7/20\n",
      "9/9 [==============================] - 4s 433ms/step - loss: 0.4636 - accuracy: 0.8275\n",
      "Epoch 8/20\n",
      "9/9 [==============================] - 4s 418ms/step - loss: 0.4727 - accuracy: 0.8275\n",
      "Epoch 9/20\n",
      "9/9 [==============================] - 4s 418ms/step - loss: 0.4741 - accuracy: 0.8275\n",
      "Epoch 10/20\n",
      "9/9 [==============================] - 4s 407ms/step - loss: 0.4647 - accuracy: 0.8275\n",
      "Epoch 11/20\n",
      "9/9 [==============================] - 4s 430ms/step - loss: 0.4566 - accuracy: 0.8275\n",
      "Epoch 12/20\n",
      "9/9 [==============================] - 4s 413ms/step - loss: 0.4620 - accuracy: 0.8275\n",
      "Epoch 13/20\n",
      "9/9 [==============================] - 3s 381ms/step - loss: 0.4629 - accuracy: 0.8275\n",
      "Epoch 14/20\n",
      "9/9 [==============================] - 4s 409ms/step - loss: 0.4583 - accuracy: 0.8275\n",
      "Epoch 15/20\n",
      "9/9 [==============================] - 4s 487ms/step - loss: 0.4533 - accuracy: 0.8275\n",
      "Epoch 16/20\n",
      "9/9 [==============================] - 4s 443ms/step - loss: 0.4534 - accuracy: 0.8275\n",
      "Epoch 17/20\n",
      "9/9 [==============================] - 4s 411ms/step - loss: 0.4535 - accuracy: 0.8275\n",
      "Epoch 18/20\n",
      "9/9 [==============================] - 4s 396ms/step - loss: 0.4526 - accuracy: 0.8275\n",
      "Epoch 19/20\n",
      "9/9 [==============================] - 4s 399ms/step - loss: 0.4482 - accuracy: 0.8275\n",
      "Epoch 20/20\n",
      "9/9 [==============================] - 4s 442ms/step - loss: 0.4594 - accuracy: 0.8275\n",
      "Score for fold 3: loss of 0.464691698551178; accuracy of 81.25%\n",
      "------------------------------------------------------------------------\n",
      "Training for fold 4 ...\n",
      "Epoch 1/20\n",
      "9/9 [==============================] - 4s 418ms/step - loss: 0.7545 - accuracy: 0.8099\n",
      "Epoch 2/20\n",
      "9/9 [==============================] - 4s 428ms/step - loss: 0.5093 - accuracy: 0.8099\n",
      "Epoch 3/20\n",
      "9/9 [==============================] - 4s 420ms/step - loss: 0.5042 - accuracy: 0.8099\n",
      "Epoch 4/20\n",
      "9/9 [==============================] - 4s 392ms/step - loss: 0.5014 - accuracy: 0.8099\n",
      "Epoch 5/20\n",
      "9/9 [==============================] - 4s 421ms/step - loss: 0.4963 - accuracy: 0.8099\n",
      "Epoch 6/20\n",
      "9/9 [==============================] - 4s 401ms/step - loss: 0.4902 - accuracy: 0.8099\n",
      "Epoch 7/20\n",
      "9/9 [==============================] - 4s 422ms/step - loss: 0.4984 - accuracy: 0.8099\n",
      "Epoch 8/20\n",
      "9/9 [==============================] - 4s 467ms/step - loss: 0.4961 - accuracy: 0.8099\n",
      "Epoch 9/20\n",
      "9/9 [==============================] - 4s 440ms/step - loss: 0.4882 - accuracy: 0.8099\n",
      "Epoch 10/20\n",
      "9/9 [==============================] - 4s 421ms/step - loss: 0.4871 - accuracy: 0.8099\n",
      "Epoch 11/20\n",
      "9/9 [==============================] - 4s 457ms/step - loss: 0.4885 - accuracy: 0.8099\n",
      "Epoch 12/20\n",
      "9/9 [==============================] - 4s 420ms/step - loss: 0.4897 - accuracy: 0.8099\n",
      "Epoch 13/20\n",
      "9/9 [==============================] - 4s 487ms/step - loss: 0.4846 - accuracy: 0.8099\n",
      "Epoch 14/20\n",
      "9/9 [==============================] - 5s 556ms/step - loss: 0.4876 - accuracy: 0.8099\n",
      "Epoch 15/20\n",
      "9/9 [==============================] - 4s 412ms/step - loss: 0.4985 - accuracy: 0.8099\n",
      "Epoch 16/20\n",
      "9/9 [==============================] - 4s 457ms/step - loss: 0.4845 - accuracy: 0.8099\n",
      "Epoch 17/20\n",
      "9/9 [==============================] - 4s 487ms/step - loss: 0.4823 - accuracy: 0.8099\n",
      "Epoch 18/20\n",
      "9/9 [==============================] - 4s 424ms/step - loss: 0.4838 - accuracy: 0.8099\n",
      "Epoch 19/20\n",
      "9/9 [==============================] - 4s 450ms/step - loss: 0.4831 - accuracy: 0.8099\n",
      "Epoch 20/20\n",
      "9/9 [==============================] - 4s 454ms/step - loss: 0.4821 - accuracy: 0.8099\n",
      "WARNING:tensorflow:5 out of the last 18 calls to <function Model.make_test_function.<locals>.test_function at 0x000001B8813275E0> triggered tf.function retracing. Tracing is expensive and the excessive number of tracings could be due to (1) creating @tf.function repeatedly in a loop, (2) passing tensors with different shapes, (3) passing Python objects instead of tensors. For (1), please define your @tf.function outside of the loop. For (2), @tf.function has experimental_relax_shapes=True option that relaxes argument shapes that can avoid unnecessary retracing. For (3), please refer to https://www.tensorflow.org/guide/function#controlling_retracing and https://www.tensorflow.org/api_docs/python/tf/function for  more details.\n",
      "Score for fold 4: loss of 0.2517390847206116; accuracy of 96.875%\n",
      "------------------------------------------------------------------------\n",
      "Training for fold 5 ...\n",
      "Epoch 1/20\n",
      "9/9 [==============================] - 5s 456ms/step - loss: 0.7355 - accuracy: 0.7817\n",
      "Epoch 2/20\n",
      "9/9 [==============================] - 4s 430ms/step - loss: 0.4795 - accuracy: 0.8310\n",
      "Epoch 3/20\n",
      "9/9 [==============================] - 4s 478ms/step - loss: 0.4547 - accuracy: 0.8310\n",
      "Epoch 4/20\n",
      "9/9 [==============================] - 5s 514ms/step - loss: 0.4572 - accuracy: 0.8310\n",
      "Epoch 5/20\n",
      "9/9 [==============================] - 4s 463ms/step - loss: 0.4565 - accuracy: 0.8310\n",
      "Epoch 6/20\n",
      "9/9 [==============================] - 4s 399ms/step - loss: 0.4596 - accuracy: 0.8310\n",
      "Epoch 7/20\n",
      "9/9 [==============================] - 4s 438ms/step - loss: 0.4607 - accuracy: 0.8310\n",
      "Epoch 8/20\n",
      "9/9 [==============================] - 4s 415ms/step - loss: 0.4615 - accuracy: 0.8310\n",
      "Epoch 9/20\n",
      "9/9 [==============================] - 4s 478ms/step - loss: 0.4564 - accuracy: 0.8310\n",
      "Epoch 10/20\n",
      "9/9 [==============================] - 5s 518ms/step - loss: 0.4571 - accuracy: 0.8310\n",
      "Epoch 11/20\n",
      "9/9 [==============================] - 4s 473ms/step - loss: 0.4568 - accuracy: 0.8310\n",
      "Epoch 12/20\n",
      "9/9 [==============================] - 5s 497ms/step - loss: 0.4546 - accuracy: 0.8310\n",
      "Epoch 13/20\n",
      "9/9 [==============================] - 4s 486ms/step - loss: 0.4579 - accuracy: 0.8310\n",
      "Epoch 14/20\n",
      "9/9 [==============================] - 4s 401ms/step - loss: 0.4639 - accuracy: 0.8310\n",
      "Epoch 15/20\n",
      "9/9 [==============================] - 4s 414ms/step - loss: 0.4651 - accuracy: 0.8310\n",
      "Epoch 16/20\n",
      "9/9 [==============================] - 4s 420ms/step - loss: 0.4545 - accuracy: 0.8310\n",
      "Epoch 17/20\n",
      "9/9 [==============================] - 4s 424ms/step - loss: 0.4719 - accuracy: 0.8310\n",
      "Epoch 18/20\n",
      "9/9 [==============================] - 4s 444ms/step - loss: 0.4510 - accuracy: 0.8310\n",
      "Epoch 19/20\n",
      "9/9 [==============================] - 4s 409ms/step - loss: 0.4598 - accuracy: 0.8310\n",
      "Epoch 20/20\n",
      "9/9 [==============================] - 4s 395ms/step - loss: 0.4546 - accuracy: 0.8310\n",
      "WARNING:tensorflow:6 out of the last 19 calls to <function Model.make_test_function.<locals>.test_function at 0x000001B880DCBCA0> triggered tf.function retracing. Tracing is expensive and the excessive number of tracings could be due to (1) creating @tf.function repeatedly in a loop, (2) passing tensors with different shapes, (3) passing Python objects instead of tensors. For (1), please define your @tf.function outside of the loop. For (2), @tf.function has experimental_relax_shapes=True option that relaxes argument shapes that can avoid unnecessary retracing. For (3), please refer to https://www.tensorflow.org/guide/function#controlling_retracing and https://www.tensorflow.org/api_docs/python/tf/function for  more details.\n",
      "Score for fold 5: loss of 0.5331507921218872; accuracy of 78.125%\n",
      "------------------------------------------------------------------------\n",
      "Training for fold 6 ...\n",
      "Epoch 1/20\n",
      "9/9 [==============================] - 4s 425ms/step - loss: 0.6132 - accuracy: 0.7958\n",
      "Epoch 2/20\n",
      "9/9 [==============================] - 4s 391ms/step - loss: 0.5144 - accuracy: 0.8345\n",
      "Epoch 3/20\n",
      "9/9 [==============================] - 4s 426ms/step - loss: 0.4852 - accuracy: 0.8345\n",
      "Epoch 4/20\n",
      "9/9 [==============================] - 4s 400ms/step - loss: 0.4665 - accuracy: 0.8345\n",
      "Epoch 5/20\n",
      "9/9 [==============================] - 4s 408ms/step - loss: 0.4666 - accuracy: 0.8345\n",
      "Epoch 6/20\n",
      "9/9 [==============================] - 4s 436ms/step - loss: 0.4535 - accuracy: 0.8345\n",
      "Epoch 7/20\n",
      "9/9 [==============================] - 5s 507ms/step - loss: 0.4576 - accuracy: 0.8345\n",
      "Epoch 8/20\n",
      "9/9 [==============================] - 5s 566ms/step - loss: 0.4480 - accuracy: 0.8345\n",
      "Epoch 9/20\n",
      "9/9 [==============================] - 4s 476ms/step - loss: 0.4438 - accuracy: 0.8345\n",
      "Epoch 10/20\n",
      "9/9 [==============================] - 4s 450ms/step - loss: 0.4467 - accuracy: 0.8345\n",
      "Epoch 11/20\n",
      "9/9 [==============================] - 4s 470ms/step - loss: 0.4356 - accuracy: 0.8345\n",
      "Epoch 12/20\n",
      "9/9 [==============================] - 4s 480ms/step - loss: 0.4398 - accuracy: 0.8345\n",
      "Epoch 13/20\n",
      "9/9 [==============================] - 4s 451ms/step - loss: 0.4383 - accuracy: 0.8345\n",
      "Epoch 14/20\n",
      "9/9 [==============================] - 5s 515ms/step - loss: 0.4413 - accuracy: 0.8345\n",
      "Epoch 15/20\n",
      "9/9 [==============================] - 5s 512ms/step - loss: 0.4311 - accuracy: 0.8345\n",
      "Epoch 16/20\n",
      "9/9 [==============================] - 4s 422ms/step - loss: 0.4314 - accuracy: 0.8345\n",
      "Epoch 17/20\n",
      "9/9 [==============================] - 4s 452ms/step - loss: 0.4310 - accuracy: 0.8345\n",
      "Epoch 18/20\n",
      "9/9 [==============================] - 4s 432ms/step - loss: 0.4236 - accuracy: 0.8345\n",
      "Epoch 19/20\n",
      "9/9 [==============================] - 4s 418ms/step - loss: 0.4233 - accuracy: 0.8345\n",
      "Epoch 20/20\n",
      "9/9 [==============================] - 4s 450ms/step - loss: 0.4180 - accuracy: 0.8345\n",
      "Score for fold 6: loss of 0.5615214109420776; accuracy of 75.0%\n",
      "------------------------------------------------------------------------\n",
      "Training for fold 7 ...\n",
      "Epoch 1/20\n",
      "9/9 [==============================] - 4s 398ms/step - loss: 0.7425 - accuracy: 0.7544\n",
      "Epoch 2/20\n",
      "9/9 [==============================] - 4s 446ms/step - loss: 0.5080 - accuracy: 0.8281\n",
      "Epoch 3/20\n",
      "9/9 [==============================] - 4s 434ms/step - loss: 0.4969 - accuracy: 0.8281\n",
      "Epoch 4/20\n",
      "9/9 [==============================] - 4s 419ms/step - loss: 0.4688 - accuracy: 0.8281\n",
      "Epoch 5/20\n",
      "9/9 [==============================] - 4s 487ms/step - loss: 0.4613 - accuracy: 0.8281\n",
      "Epoch 6/20\n",
      "9/9 [==============================] - 5s 506ms/step - loss: 0.4719 - accuracy: 0.8281\n",
      "Epoch 7/20\n",
      "9/9 [==============================] - 4s 494ms/step - loss: 0.4727 - accuracy: 0.8281\n",
      "Epoch 8/20\n",
      "9/9 [==============================] - 4s 444ms/step - loss: 0.4635 - accuracy: 0.8281\n",
      "Epoch 9/20\n",
      "9/9 [==============================] - 4s 430ms/step - loss: 0.4626 - accuracy: 0.8281\n",
      "Epoch 10/20\n",
      "9/9 [==============================] - 4s 485ms/step - loss: 0.4638 - accuracy: 0.8281\n",
      "Epoch 11/20\n",
      "9/9 [==============================] - 4s 467ms/step - loss: 0.4620 - accuracy: 0.8281\n",
      "Epoch 12/20\n",
      "9/9 [==============================] - 4s 390ms/step - loss: 0.4622 - accuracy: 0.8281\n",
      "Epoch 13/20\n",
      "9/9 [==============================] - 4s 431ms/step - loss: 0.4614 - accuracy: 0.8281\n",
      "Epoch 14/20\n",
      "9/9 [==============================] - 4s 441ms/step - loss: 0.4596 - accuracy: 0.8281\n",
      "Epoch 15/20\n",
      "9/9 [==============================] - 4s 404ms/step - loss: 0.4606 - accuracy: 0.8281\n",
      "Epoch 16/20\n",
      "9/9 [==============================] - 4s 416ms/step - loss: 0.4605 - accuracy: 0.8281\n",
      "Epoch 17/20\n",
      "9/9 [==============================] - 4s 396ms/step - loss: 0.4595 - accuracy: 0.8281\n",
      "Epoch 18/20\n",
      "9/9 [==============================] - 3s 386ms/step - loss: 0.4652 - accuracy: 0.8281\n",
      "Epoch 19/20\n",
      "9/9 [==============================] - 4s 417ms/step - loss: 0.4675 - accuracy: 0.8281\n",
      "Epoch 20/20\n",
      "9/9 [==============================] - 4s 389ms/step - loss: 0.4618 - accuracy: 0.8281\n",
      "Score for fold 7: loss of 0.4932132065296173; accuracy of 80.64516186714172%\n",
      "------------------------------------------------------------------------\n",
      "Training for fold 8 ...\n",
      "Epoch 1/20\n",
      "9/9 [==============================] - 4s 408ms/step - loss: 0.6741 - accuracy: 0.7649\n",
      "Epoch 2/20\n",
      "9/9 [==============================] - 4s 409ms/step - loss: 0.4889 - accuracy: 0.8386\n",
      "Epoch 3/20\n",
      "9/9 [==============================] - 3s 385ms/step - loss: 0.4528 - accuracy: 0.8386\n",
      "Epoch 4/20\n",
      "9/9 [==============================] - 4s 413ms/step - loss: 0.4467 - accuracy: 0.8386\n",
      "Epoch 5/20\n",
      "9/9 [==============================] - 4s 406ms/step - loss: 0.4322 - accuracy: 0.8386\n",
      "Epoch 6/20\n",
      "9/9 [==============================] - 3s 385ms/step - loss: 0.4358 - accuracy: 0.8386\n",
      "Epoch 7/20\n",
      "9/9 [==============================] - 4s 416ms/step - loss: 0.4403 - accuracy: 0.8386\n",
      "Epoch 8/20\n",
      "9/9 [==============================] - 3s 386ms/step - loss: 0.4340 - accuracy: 0.8386\n",
      "Epoch 9/20\n",
      "9/9 [==============================] - 4s 399ms/step - loss: 0.4297 - accuracy: 0.8386\n",
      "Epoch 10/20\n",
      "9/9 [==============================] - 4s 411ms/step - loss: 0.4258 - accuracy: 0.8386\n",
      "Epoch 11/20\n",
      "9/9 [==============================] - 3s 386ms/step - loss: 0.4220 - accuracy: 0.8386\n",
      "Epoch 12/20\n",
      "9/9 [==============================] - 4s 415ms/step - loss: 0.4127 - accuracy: 0.8386\n",
      "Epoch 13/20\n",
      "9/9 [==============================] - 4s 403ms/step - loss: 0.4077 - accuracy: 0.8386\n",
      "Epoch 14/20\n",
      "9/9 [==============================] - 3s 384ms/step - loss: 0.4018 - accuracy: 0.8386\n",
      "Epoch 15/20\n",
      "9/9 [==============================] - 4s 424ms/step - loss: 0.4012 - accuracy: 0.8386\n",
      "Epoch 16/20\n",
      "9/9 [==============================] - 4s 392ms/step - loss: 0.3868 - accuracy: 0.8386\n",
      "Epoch 17/20\n",
      "9/9 [==============================] - 4s 392ms/step - loss: 0.3845 - accuracy: 0.8386\n",
      "Epoch 18/20\n",
      "9/9 [==============================] - 4s 418ms/step - loss: 0.3804 - accuracy: 0.8386\n",
      "Epoch 19/20\n",
      "9/9 [==============================] - 3s 385ms/step - loss: 0.3759 - accuracy: 0.8386\n",
      "Epoch 20/20\n",
      "9/9 [==============================] - 4s 400ms/step - loss: 0.3783 - accuracy: 0.8386\n",
      "Score for fold 8: loss of 0.7958871126174927; accuracy of 70.96773982048035%\n",
      "------------------------------------------------------------------------\n",
      "Training for fold 9 ...\n",
      "Epoch 1/20\n",
      "9/9 [==============================] - 4s 403ms/step - loss: 0.7361 - accuracy: 0.8070\n",
      "Epoch 2/20\n",
      "9/9 [==============================] - 4s 407ms/step - loss: 0.4784 - accuracy: 0.8281\n",
      "Epoch 3/20\n",
      "9/9 [==============================] - 4s 419ms/step - loss: 0.4578 - accuracy: 0.8281\n",
      "Epoch 4/20\n",
      "9/9 [==============================] - 3s 383ms/step - loss: 0.4578 - accuracy: 0.8281\n",
      "Epoch 5/20\n",
      "9/9 [==============================] - 4s 402ms/step - loss: 0.4520 - accuracy: 0.8281\n",
      "Epoch 6/20\n",
      "9/9 [==============================] - 4s 411ms/step - loss: 0.4544 - accuracy: 0.8281\n",
      "Epoch 7/20\n",
      "9/9 [==============================] - 3s 385ms/step - loss: 0.4543 - accuracy: 0.8281\n",
      "Epoch 8/20\n",
      "9/9 [==============================] - 4s 409ms/step - loss: 0.4517 - accuracy: 0.8281\n",
      "Epoch 9/20\n",
      "9/9 [==============================] - 4s 403ms/step - loss: 0.4472 - accuracy: 0.8281\n",
      "Epoch 10/20\n",
      "9/9 [==============================] - 3s 382ms/step - loss: 0.4555 - accuracy: 0.8281\n",
      "Epoch 11/20\n",
      "9/9 [==============================] - 4s 421ms/step - loss: 0.4508 - accuracy: 0.8281\n",
      "Epoch 12/20\n",
      "9/9 [==============================] - 4s 391ms/step - loss: 0.4407 - accuracy: 0.8281\n",
      "Epoch 13/20\n",
      "9/9 [==============================] - 4s 394ms/step - loss: 0.4451 - accuracy: 0.8281\n",
      "Epoch 14/20\n",
      "9/9 [==============================] - 4s 415ms/step - loss: 0.4381 - accuracy: 0.8281\n",
      "Epoch 15/20\n",
      "9/9 [==============================] - 3s 382ms/step - loss: 0.4374 - accuracy: 0.8281\n",
      "Epoch 16/20\n",
      "9/9 [==============================] - 4s 404ms/step - loss: 0.4451 - accuracy: 0.8281\n",
      "Epoch 17/20\n",
      "9/9 [==============================] - 4s 401ms/step - loss: 0.4492 - accuracy: 0.8281\n",
      "Epoch 18/20\n",
      "9/9 [==============================] - 3s 383ms/step - loss: 0.4278 - accuracy: 0.8281\n",
      "Epoch 19/20\n",
      "9/9 [==============================] - 4s 424ms/step - loss: 0.4368 - accuracy: 0.8281\n",
      "Epoch 20/20\n",
      "9/9 [==============================] - 4s 391ms/step - loss: 0.4477 - accuracy: 0.8281\n",
      "Score for fold 9: loss of 0.45334136486053467; accuracy of 80.64516186714172%\n",
      "------------------------------------------------------------------------\n",
      "Training for fold 10 ...\n",
      "Epoch 1/20\n",
      "9/9 [==============================] - 4s 416ms/step - loss: 0.6686 - accuracy: 0.7404\n",
      "Epoch 2/20\n",
      "9/9 [==============================] - 4s 406ms/step - loss: 0.5373 - accuracy: 0.8105\n",
      "Epoch 3/20\n",
      "9/9 [==============================] - 3s 383ms/step - loss: 0.4984 - accuracy: 0.8105\n",
      "Epoch 4/20\n",
      "9/9 [==============================] - 4s 407ms/step - loss: 0.5002 - accuracy: 0.8105\n",
      "Epoch 5/20\n",
      "9/9 [==============================] - 4s 395ms/step - loss: 0.4855 - accuracy: 0.8105\n",
      "Epoch 6/20\n",
      "9/9 [==============================] - 4s 390ms/step - loss: 0.4878 - accuracy: 0.8105\n",
      "Epoch 7/20\n",
      "9/9 [==============================] - 4s 418ms/step - loss: 0.4876 - accuracy: 0.8105\n",
      "Epoch 8/20\n",
      "9/9 [==============================] - 4s 399ms/step - loss: 0.4879 - accuracy: 0.8105\n",
      "Epoch 9/20\n",
      "9/9 [==============================] - 4s 394ms/step - loss: 0.4885 - accuracy: 0.8105\n",
      "Epoch 10/20\n",
      "9/9 [==============================] - 4s 416ms/step - loss: 0.4893 - accuracy: 0.8105\n",
      "Epoch 11/20\n",
      "9/9 [==============================] - 4s 393ms/step - loss: 0.4868 - accuracy: 0.8105\n",
      "Epoch 12/20\n",
      "9/9 [==============================] - 4s 401ms/step - loss: 0.4889 - accuracy: 0.8105\n",
      "Epoch 13/20\n",
      "9/9 [==============================] - 4s 401ms/step - loss: 0.4870 - accuracy: 0.8105\n",
      "Epoch 14/20\n",
      "9/9 [==============================] - 3s 384ms/step - loss: 0.4868 - accuracy: 0.8105\n",
      "Epoch 15/20\n",
      "9/9 [==============================] - 4s 415ms/step - loss: 0.4920 - accuracy: 0.8105\n",
      "Epoch 16/20\n",
      "9/9 [==============================] - 4s 394ms/step - loss: 0.4872 - accuracy: 0.8105\n",
      "Epoch 17/20\n",
      "9/9 [==============================] - 4s 398ms/step - loss: 0.4878 - accuracy: 0.8105\n",
      "Epoch 18/20\n",
      "9/9 [==============================] - 4s 427ms/step - loss: 0.4902 - accuracy: 0.8105\n",
      "Epoch 19/20\n",
      "9/9 [==============================] - 4s 390ms/step - loss: 0.4916 - accuracy: 0.8105\n",
      "Epoch 20/20\n",
      "9/9 [==============================] - 4s 398ms/step - loss: 0.4911 - accuracy: 0.8105\n",
      "Score for fold 10: loss of 0.2359529435634613; accuracy of 96.77419066429138%\n",
      "------------------------------------------------------------------------\n",
      "Score per fold\n",
      "------------------------------------------------------------------------\n",
      "> Fold 1 - Loss: 0.517919659614563 - Accuracy: 84.375%\n",
      "------------------------------------------------------------------------\n",
      "> Fold 2 - Loss: 0.404857873916626 - Accuracy: 78.125%\n",
      "------------------------------------------------------------------------\n",
      "> Fold 3 - Loss: 0.464691698551178 - Accuracy: 81.25%\n",
      "------------------------------------------------------------------------\n",
      "> Fold 4 - Loss: 0.2517390847206116 - Accuracy: 96.875%\n",
      "------------------------------------------------------------------------\n",
      "> Fold 5 - Loss: 0.5331507921218872 - Accuracy: 78.125%\n",
      "------------------------------------------------------------------------\n",
      "> Fold 6 - Loss: 0.5615214109420776 - Accuracy: 75.0%\n",
      "------------------------------------------------------------------------\n",
      "> Fold 7 - Loss: 0.4932132065296173 - Accuracy: 80.64516186714172%\n",
      "------------------------------------------------------------------------\n",
      "> Fold 8 - Loss: 0.7958871126174927 - Accuracy: 70.96773982048035%\n",
      "------------------------------------------------------------------------\n",
      "> Fold 9 - Loss: 0.45334136486053467 - Accuracy: 80.64516186714172%\n",
      "------------------------------------------------------------------------\n",
      "> Fold 10 - Loss: 0.2359529435634613 - Accuracy: 96.77419066429138%\n",
      "------------------------------------------------------------------------\n",
      "Average scores for all folds:\n",
      "> Accuracy: 82.27822542190552 (+- 8.058440006179847)\n",
      "> Loss: 0.4712275147438049\n",
      "------------------------------------------------------------------------\n"
     ]
    }
   ],
   "source": [
    "from sklearn.model_selection import KFold\n",
    "\n",
    "# Model configuration\n",
    "learning_rate =  0.002\n",
    "loss_fn = tf.keras.losses.BinaryCrossentropy(from_logits=True)\n",
    "#loss_fn = tf.keras.losses.SparseCategoricalCrossentropy(from_logits=True)\n",
    "# optimizer = tf.keras.optimizers.SGD(learning_rate)\n",
    "#optimizer = tf.keras.optimizers.Adadelta(learning_rate)\n",
    "#optimizer = tf.keras.optimizers.Adamax(learning_rate)\n",
    "optimizer = tf.keras.optimizers.Adam(learning_rate)# modify weight in Adam\n",
    "epochs = 20\n",
    "metrics = ['accuracy']\n",
    "#numberofK-fold\n",
    "num_folds = 10\n",
    "# Define per-fold score containers\n",
    "acc_per_fold = []\n",
    "loss_per_fold = []\n",
    "\n",
    "# Merge inputs and targets\n",
    "inputs = x_train\n",
    "targets = y_train\n",
    "\n",
    "# Define the K-fold Cross Validator\n",
    "kfold = KFold(n_splits=num_folds, shuffle=True)\n",
    "\n",
    "# K-fold Cross Validation model evaluation\n",
    "fold_no = 1\n",
    "for train, test in kfold.split(inputs, targets):\n",
    "\n",
    "    # Define the model architecture\n",
    "    model = tf.keras.Sequential([\n",
    "        tf.keras.layers.experimental.preprocessing.Rescaling(1./255, input_shape=(img_height, img_width, 3)),\n",
    "        tf.keras.layers.Conv2D(16, 3, padding='same', activation='relu'),\n",
    "        tf.keras.layers.MaxPooling2D((3,3)),\n",
    "        tf.keras.layers.Dropout(0.2),\n",
    "        tf.keras.layers.Conv2D(64, 3, padding='same', activation='relu'),\n",
    "        tf.keras.layers.MaxPooling2D((3,3)),\n",
    "        tf.keras.layers.Dropout(0.2),\n",
    "        tf.keras.layers.Conv2D(32, 3, padding='same', activation='relu'),\n",
    "        tf.keras.layers.MaxPooling2D((3,3)),\n",
    "        tf.keras.layers.Flatten(),\n",
    "        tf.keras.layers.Dense(128, activation='relu'),\n",
    "        tf.keras.layers.Dense(1, activation='sigmoid')\n",
    "    ])\n",
    "\n",
    "\n",
    "    # Compile the model\n",
    "    model.compile (optimizer = optimizer,loss =  loss_fn,metrics = metrics)\n",
    "\n",
    "\n",
    "    # Generate a print\n",
    "    print('------------------------------------------------------------------------')\n",
    "    print(f'Training for fold {fold_no} ...')\n",
    "\n",
    "    # Fit data to model\n",
    "    history = model.fit(inputs[train], targets[train],\n",
    "                        epochs=epochs)\n",
    "\n",
    "    # Generate generalization metrics\n",
    "    scores = model.evaluate(inputs[test], targets[test], verbose=0)\n",
    "    print(f'Score for fold {fold_no}: {model.metrics_names[0]} of {scores[0]}; {model.metrics_names[1]} of {scores[1]*100}%')\n",
    "    acc_per_fold.append(scores[1] * 100)\n",
    "    loss_per_fold.append(scores[0])\n",
    "\n",
    "    # Increase fold number\n",
    "    fold_no = fold_no + 1\n",
    "\n",
    "# == Provide average scores ==\n",
    "print('------------------------------------------------------------------------')\n",
    "print('Score per fold')\n",
    "for i in range(0, len(acc_per_fold)):\n",
    "    print('------------------------------------------------------------------------')\n",
    "    print(f'> Fold {i+1} - Loss: {loss_per_fold[i]} - Accuracy: {acc_per_fold[i]}%')\n",
    "print('------------------------------------------------------------------------')\n",
    "print('Average scores for all folds:')\n",
    "print(f'> Accuracy: {np.mean(acc_per_fold)} (+- {np.std(acc_per_fold)})')\n",
    "print(f'> Loss: {np.mean(loss_per_fold)}')\n",
    "print('------------------------------------------------------------------------')"
   ]
  },
  {
   "cell_type": "code",
   "execution_count": 95,
   "metadata": {
    "id": "AHLZ7qnY-dHR",
    "pycharm": {
     "name": "#%%\n"
    }
   },
   "outputs": [
    {
     "data": {
      "image/png": "[encoded data removed]",
      "text/plain": [
       "<Figure size 432x288 with 1 Axes>"
      ]
     },
     "metadata": {
      "needs_background": "light"
     },
     "output_type": "display_data"
    }
   ],
   "source": [
    "plt.plot(history.history['loss'],label = 'loss')\n",
    "#plt.plot(history.history['val_loss'],label = 'val_loss')\n",
    "plt.legend()\n",
    "plt.show()"
   ]
  },
  {
   "cell_type": "code",
   "execution_count": 96,
   "metadata": {
    "id": "MF6UYwGL-dHR"
   },
   "outputs": [
    {
     "data": {
      "image/png": "[encoded data removed]",
      "text/plain": [
       "<Figure size 432x288 with 1 Axes>"
      ]
     },
     "metadata": {
      "needs_background": "light"
     },
     "output_type": "display_data"
    }
   ],
   "source": [
    "plt.plot(history.history['accuracy'],label = 'accuracy')\n",
    "#plt.plot(history.history['val_accuracy'],label = 'val_accuracy')\n",
    "plt.legend()\n",
    "plt.show()"
   ]
  },
  {
   "cell_type": "code",
   "execution_count": 97,
   "metadata": {
    "id": "Bdr-T-aV-dHR"
   },
   "outputs": [],
   "source": [
    "def binary_transform(pred):\n",
    "    if pred > 0.5:\n",
    "        predicted = 1\n",
    "    else:\n",
    "        predicted = 0\n",
    "    return predicted "
   ]
  },
  {
   "cell_type": "code",
   "execution_count": 102,
   "metadata": {
    "id": "BBWBeIqj-dHR",
    "pycharm": {
     "name": "#%%\n"
    }
   },
   "outputs": [
    {
     "name": "stdout",
     "output_type": "stream",
     "text": [
      "Number correct: 131 out of 161\n",
      "Accuracy 0.8136645962732919\n"
     ]
    }
   ],
   "source": [
    "correct = 0\n",
    "batch_size = 0\n",
    "sum_size = 0\n",
    "count = 0\n",
    "y_pred = []\n",
    "y_true = []\n",
    "for batch_num, (X, Y) in enumerate(test_ds):\n",
    "    batch_size = len(Y)\n",
    "    sum_size = sum_size + batch_size\n",
    "    pred = model.predict(X)\n",
    "    #print(pred)\n",
    "    for i in range(batch_size):\n",
    "        #predicted = np.argmax(pred[i], axis=-1)\n",
    "        #print(predicted)\n",
    "        predicted = binary_transform(pred[i])\n",
    "        actual = Y[i]\n",
    "        y_pred.append(predicted)\n",
    "        y_true.append(actual)\n",
    "        #print(f'predicted {predicted}, actual {actual}')\n",
    "        if predicted == actual:\n",
    "            correct += 1\n",
    "    #break\n",
    "\n",
    "print(f'Number correct: {correct} out of {sum_size}')\n",
    "print(f'Accuracy {correct / sum_size}')"
   ]
  },
  {
   "cell_type": "code",
   "execution_count": 103,
   "metadata": {
    "id": "ufHj2b-W-dHS"
   },
   "outputs": [
    {
     "data": {
      "text/plain": [
       "<function matplotlib.pyplot.show(close=None, block=None)>"
      ]
     },
     "execution_count": 103,
     "metadata": {},
     "output_type": "execute_result"
    },
    {
     "data": {
      "image/png": "[encoded data removed]",
      "text/plain": [
       "<Figure size 432x288 with 2 Axes>"
      ]
     },
     "metadata": {
      "needs_background": "light"
     },
     "output_type": "display_data"
    }
   ],
   "source": [
    "cm = confusion_matrix(y_true, y_pred)\n",
    "disp = ConfusionMatrixDisplay(confusion_matrix=cm,display_labels=[\"Hungry\",\"Non_hungry\"])\n",
    "disp.plot()\n",
    "plt.show"
   ]
  },
  {
   "cell_type": "code",
   "execution_count": 104,
   "metadata": {
    "id": "tuesSZvs-dHS"
   },
   "outputs": [
    {
     "name": "stdout",
     "output_type": "stream",
     "text": [
      "              precision    recall  f1-score   support\n",
      "\n",
      "      Hungry       0.81      1.00      0.90       131\n",
      "  Non_hungry       0.00      0.00      0.00        30\n",
      "\n",
      "    accuracy                           0.81       161\n",
      "   macro avg       0.41      0.50      0.45       161\n",
      "weighted avg       0.66      0.81      0.73       161\n",
      "\n"
     ]
    },
    {
     "name": "stderr",
     "output_type": "stream",
     "text": [
      "C:\\Users\\Near\\anaconda3\\lib\\site-packages\\sklearn\\metrics\\_classification.py:1318: UndefinedMetricWarning: Precision and F-score are ill-defined and being set to 0.0 in labels with no predicted samples. Use `zero_division` parameter to control this behavior.\n",
      "  _warn_prf(average, modifier, msg_start, len(result))\n",
      "C:\\Users\\Near\\anaconda3\\lib\\site-packages\\sklearn\\metrics\\_classification.py:1318: UndefinedMetricWarning: Precision and F-score are ill-defined and being set to 0.0 in labels with no predicted samples. Use `zero_division` parameter to control this behavior.\n",
      "  _warn_prf(average, modifier, msg_start, len(result))\n",
      "C:\\Users\\Near\\anaconda3\\lib\\site-packages\\sklearn\\metrics\\_classification.py:1318: UndefinedMetricWarning: Precision and F-score are ill-defined and being set to 0.0 in labels with no predicted samples. Use `zero_division` parameter to control this behavior.\n",
      "  _warn_prf(average, modifier, msg_start, len(result))\n"
     ]
    }
   ],
   "source": [
    "from sklearn.metrics import classification_report\n",
    "print(classification_report(y_true, y_pred,target_names=[\"Hungry\",\"Non_hungry\"]))"
   ]
  },
  {
   "cell_type": "code",
   "execution_count": null,
   "metadata": {
    "id": "M4GOJ6QM-dHS"
   },
   "outputs": [],
   "source": []
  }
 ],
 "metadata": {
  "colab": {
   "include_colab_link": true,
   "name": "sample-one class.ipynb",
   "provenance": []
  },
  "kernelspec": {
   "display_name": "Python 3 (ipykernel)",
   "language": "python",
   "name": "python3"
  },
  "language_info": {
   "codemirror_mode": {
    "name": "ipython",
    "version": 3
   },
   "file_extension": ".py",
   "mimetype": "text/x-python",
   "name": "python",
   "nbconvert_exporter": "python",
   "pygments_lexer": "ipython3",
   "version": "3.9.7"
  }
 },
 "nbformat": 4,
 "nbformat_minor": 1
}
