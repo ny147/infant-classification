{
 "cells": [
  {
   "cell_type": "code",
   "execution_count": 1,
   "id": "9ab19c61",
   "metadata": {},
   "outputs": [],
   "source": [
    "import tensorflow as tf"
   ]
  },
  {
   "cell_type": "code",
   "execution_count": 2,
   "id": "1f60b8cb",
   "metadata": {},
   "outputs": [],
   "source": [
    "import numpy as np\n",
    "import pandas as pd\n",
    "import matplotlib.pyplot as plt\n",
    "import seaborn as sb\n",
    "from PIL import Image"
   ]
  },
  {
   "cell_type": "code",
   "execution_count": 3,
   "id": "459319f5",
   "metadata": {},
   "outputs": [],
   "source": [
    "from tensorflow.keras.preprocessing.image import load_img,img_to_array,array_to_img,ImageDataGenerator,smart_resize\n",
    "from sklearn.model_selection import train_test_split\n",
    "from tensorflow.keras.layers import Dense,Activation,Dropout,BatchNormalization,Conv2D,Dropout,MaxPool2D,Flatten\n",
    "from tensorflow.keras.utils import to_categorical "
   ]
  },
  {
   "cell_type": "code",
   "execution_count": 4,
   "id": "2132abb4",
   "metadata": {},
   "outputs": [],
   "source": [
    "import matplotlib.pyplot as plt\n",
    "from scipy import signal\n",
    "from scipy.io import wavfile"
   ]
  },
  {
   "cell_type": "code",
   "execution_count": 5,
   "id": "41c21142",
   "metadata": {},
   "outputs": [],
   "source": [
    "data_freq=[]\n",
    "data_time=[]\n",
    "data_spec=[]\n",
    "result=[]"
   ]
  },
  {
   "cell_type": "markdown",
   "id": "7b5a769b",
   "metadata": {},
   "source": [
    "def spec_from_wav_dataset(image,num):\n",
    "    for i in range(num):\n",
    "        url=image+'/'+image+' ('+str(i+1)+').wav'\n",
    "        #print(url)\n",
    "        sample_rate, samples = wavfile.read(url)\n",
    "        frequencies, times, spectrogram = signal.spectrogram(samples, sample_rate)\n",
    "        data_freq.append(frequencies)\n",
    "        data_time.append(times)\n",
    "        data_spec.append(spectrogram)\n",
    "        result.append(image)\n",
    "        plt.pcolormesh(frequencies, times, spectrogram)\n",
    "        plt.imshow(spectrogram)\n",
    "        plt.ylabel('Frequency [Hz]')\n",
    "        plt.xlabel('Time [sec]')\n",
    "        plt.show()"
   ]
  },
  {
   "cell_type": "markdown",
   "id": "3f6ac50e",
   "metadata": {},
   "source": [
    "spec_from_wav_dataset(\"burping\",8)"
   ]
  },
  {
   "cell_type": "code",
   "execution_count": 8,
   "id": "8ebb8264",
   "metadata": {},
   "outputs": [],
   "source": [
    "url='hungry.wav'"
   ]
  },
  {
   "cell_type": "code",
   "execution_count": 9,
   "id": "8a9fc3b9",
   "metadata": {},
   "outputs": [
    {
     "name": "stderr",
     "output_type": "stream",
     "text": [
      "C:\\Users\\Near\\AppData\\Local\\Temp/ipykernel_25512/894857889.py:4: MatplotlibDeprecationWarning: shading='flat' when X and Y have the same dimensions as C is deprecated since 3.3.  Either specify the corners of the quadrilaterals with X and Y, or pass shading='auto', 'nearest' or 'gouraud', or set rcParams['pcolor.shading'].  This will become an error two minor releases later.\n",
      "  plt.pcolormesh(times, frequencies, spectrogram)\n"
     ]
    },
    {
     "data": {
      "text/plain": "<Figure size 432x288 with 1 Axes>",
      "image/png": "[encoded data removed]"
     },
     "metadata": {
      "needs_background": "light"
     },
     "output_type": "display_data"
    }
   ],
   "source": [
    "sample_rate, samples = wavfile.read(url)\n",
    "frequencies, times, spectrogram = signal.spectrogram(samples, sample_rate)\n",
    "\n",
    "plt.pcolormesh(times, frequencies, spectrogram)\n",
    "plt.imshow(spectrogram)\n",
    "plt.ylabel('Frequency [Hz]')\n",
    "plt.xlabel('Time [sec]')\n",
    "plt.show()"
   ]
  },
  {
   "cell_type": "code",
   "execution_count": null,
   "id": "e7260450",
   "metadata": {},
   "outputs": [],
   "source": []
  }
 ],
 "metadata": {
  "kernelspec": {
   "display_name": "Python 3",
   "language": "python",
   "name": "python3"
  },
  "language_info": {
   "codemirror_mode": {
    "name": "ipython",
    "version": 3
   },
   "file_extension": ".py",
   "mimetype": "text/x-python",
   "name": "python",
   "nbconvert_exporter": "python",
   "pygments_lexer": "ipython3",
   "version": "3.7.9"
  }
 },
 "nbformat": 4,
 "nbformat_minor": 5
}